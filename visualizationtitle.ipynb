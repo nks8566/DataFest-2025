{
 "cells": [
  {
   "cell_type": "code",
   "execution_count": 1,
   "metadata": {},
   "outputs": [
    {
     "name": "stdout",
     "output_type": "stream",
     "text": [
      "Loading data from /Users/kaylienguyen/Downloads/Lease-revised.csv...\n",
      "Successfully loaded 194685 rows of data.\n",
      "Unique internal classes: ['A' 'O' nan]\n",
      "Getting coordinates for markets...\n",
      "Markets in data: ['Atlanta', 'Austin', 'Baltimore', 'Boston', 'Charlotte', 'Chicago Suburbs', 'Detroit', 'Houston', 'Los Angeles', 'Manhattan', 'Nashville', 'Northern New Jersey', 'Northern Virginia', 'Philadelphia', 'Phoenix', 'Salt Lake City', 'San Diego', 'San Francisco', 'Seattle', 'South Florida', 'Tampa']\n",
      "Time periods found: ['2018-Q1' '2018-Q2' '2018-Q3' '2018-Q4' '2019-Q1' '2019-Q2' '2019-Q3'\n",
      " '2019-Q4' '2020-Q1' '2020-Q2' '2020-Q3' '2020-Q4' '2021-Q1' '2021-Q2'\n",
      " '2021-Q3' '2021-Q4' '2022-Q1' '2022-Q2' '2022-Q3' '2022-Q4' '2023-Q1'\n",
      " '2023-Q2' '2023-Q3' '2023-Q4' '2024-Q1' '2024-Q2' '2024-Q3' '2024-Q4']\n"
     ]
    },
    {
     "data": {
      "application/vnd.plotly.v1+json": {
       "config": {
        "plotlyServerURL": "https://plot.ly"
       },
       "data": [
        {
         "hoverinfo": "text",
         "lat": [
          33.749,
          30.2672,
          39.2908,
          42.3601,
          35.2271,
          42.047,
          42.3315,
          29.7604,
          34.0522,
          40.7831,
          36.1627,
          40.7357,
          38.8816,
          39.9526,
          33.4484,
          40.7608,
          32.7157,
          37.7749,
          47.6062,
          25.7617,
          27.9506
         ],
         "lon": [
          -84.388,
          -97.7431,
          -76.6108,
          -71.0589,
          -80.8431,
          -87.6846,
          -83.0466,
          -95.3698,
          -118.2437,
          -73.9712,
          -86.7816,
          -74.1724,
          -77.091,
          -75.1652,
          -112.074,
          -111.891,
          -117.1611,
          -122.4194,
          -122.3321,
          -80.1918,
          -82.4572
         ],
         "marker": {
          "cmax": 94.19122422000001,
          "cmin": 20.99818657,
          "color": [
           27.65589117,
           40.384706130000005,
           27.10483488,
           42.29788036,
           28.58937012,
           26.32697279,
           20.99818657,
           32.10538116,
           39.90170717,
           82.46480145,
           31.10468415,
           28.47296006,
           33.66379739,
           27.577344130000004,
           28.98544721,
           29.061694649999996,
           36.53312516,
           68.80914798,
           41.59917863,
           37.44293864,
           28.32227597
          ],
          "colorbar": {
           "len": 0.6,
           "thickness": 15,
           "title": {
            "text": "Class A Rent ($)"
           },
           "y": 0.5,
           "yanchor": "middle"
          },
          "colorscale": [
           [
            0,
            "#440154"
           ],
           [
            0.1111111111111111,
            "#482878"
           ],
           [
            0.2222222222222222,
            "#3e4989"
           ],
           [
            0.3333333333333333,
            "#31688e"
           ],
           [
            0.4444444444444444,
            "#26828e"
           ],
           [
            0.5555555555555556,
            "#1f9e89"
           ],
           [
            0.6666666666666666,
            "#35b779"
           ],
           [
            0.7777777777777778,
            "#6ece58"
           ],
           [
            0.8888888888888888,
            "#b5de2b"
           ],
           [
            1,
            "#fde725"
           ]
          ],
          "line": {
           "color": "DarkSlateGrey",
           "width": 1
          },
          "size": [
           11.097342289962778,
           15.4526184088903,
           10.96396151960407,
           16.279359880251203,
           11.336040344441022,
           10.785774227487838,
           10,
           12.364622973451016,
           15.250121768482696,
           40.783236442468244,
           12.052373263768503,
           11.305426392910308,
           12.879350556367315,
           11.077980152247745,
           11.441956366229732,
           11.46265322194977,
           13.911286645830184,
           31.117696753694545,
           15.972931526741517,
           14.259869838081896,
           11.266151836188314
          ]
         },
         "mode": "markers",
         "name": "2018-Q1",
         "text": [
          "<b>Atlanta</b><br>Time Period: 2018-Q1<br>Class A Rent: $27.66<br>Class O Rent: $18.56<br>A/O Ratio: 1.49",
          "<b>Austin</b><br>Time Period: 2018-Q1<br>Class A Rent: $40.38<br>Class O Rent: $30.12<br>A/O Ratio: 1.34",
          "<b>Baltimore</b><br>Time Period: 2018-Q1<br>Class A Rent: $27.10<br>Class O Rent: $20.12<br>A/O Ratio: 1.35",
          "<b>Boston</b><br>Time Period: 2018-Q1<br>Class A Rent: $42.30<br>Class O Rent: $20.15<br>A/O Ratio: 2.10",
          "<b>Charlotte</b><br>Time Period: 2018-Q1<br>Class A Rent: $28.59<br>Class O Rent: $20.76<br>A/O Ratio: 1.38",
          "<b>Chicago Suburbs</b><br>Time Period: 2018-Q1<br>Class A Rent: $26.33<br>Class O Rent: $19.61<br>A/O Ratio: 1.34",
          "<b>Detroit</b><br>Time Period: 2018-Q1<br>Class A Rent: $21.00<br>Class O Rent: $16.96<br>A/O Ratio: 1.24",
          "<b>Houston</b><br>Time Period: 2018-Q1<br>Class A Rent: $32.11<br>Class O Rent: $21.03<br>A/O Ratio: 1.53",
          "<b>Los Angeles</b><br>Time Period: 2018-Q1<br>Class A Rent: $39.90<br>Class O Rent: $31.90<br>A/O Ratio: 1.25",
          "<b>Manhattan</b><br>Time Period: 2018-Q1<br>Class A Rent: $82.46<br>Class O Rent: $61.39<br>A/O Ratio: 1.34",
          "<b>Nashville</b><br>Time Period: 2018-Q1<br>Class A Rent: $31.10<br>Class O Rent: $24.52<br>A/O Ratio: 1.27",
          "<b>Northern New Jersey</b><br>Time Period: 2018-Q1<br>Class A Rent: $28.47<br>Class O Rent: $23.99<br>A/O Ratio: 1.19",
          "<b>Northern Virginia</b><br>Time Period: 2018-Q1<br>Class A Rent: $33.66<br>Class O Rent: $28.97<br>A/O Ratio: 1.16",
          "<b>Philadelphia</b><br>Time Period: 2018-Q1<br>Class A Rent: $27.58<br>Class O Rent: $22.97<br>A/O Ratio: 1.20",
          "<b>Phoenix</b><br>Time Period: 2018-Q1<br>Class A Rent: $28.99<br>Class O Rent: $23.07<br>A/O Ratio: 1.26",
          "<b>Salt Lake City</b><br>Time Period: 2018-Q1<br>Class A Rent: $29.06<br>Class O Rent: $21.11<br>A/O Ratio: 1.38",
          "<b>San Diego</b><br>Time Period: 2018-Q1<br>Class A Rent: $36.53<br>Class O Rent: $28.34<br>A/O Ratio: 1.29",
          "<b>San Francisco</b><br>Time Period: 2018-Q1<br>Class A Rent: $68.81<br>Class O Rent: $64.58<br>A/O Ratio: 1.07",
          "<b>Seattle</b><br>Time Period: 2018-Q1<br>Class A Rent: $41.60<br>Class O Rent: $28.04<br>A/O Ratio: 1.48",
          "<b>South Florida</b><br>Time Period: 2018-Q1<br>Class A Rent: $37.44<br>Class O Rent: $27.76<br>A/O Ratio: 1.35",
          "<b>Tampa</b><br>Time Period: 2018-Q1<br>Class A Rent: $28.32<br>Class O Rent: $20.03<br>A/O Ratio: 1.41"
         ],
         "type": "scattergeo"
        }
       ],
       "frames": [
        {
         "data": [
          {
           "hoverinfo": "text",
           "lat": [
            33.749,
            30.2672,
            39.2908,
            42.3601,
            35.2271,
            42.047,
            42.3315,
            29.7604,
            34.0522,
            40.7831,
            36.1627,
            40.7357,
            38.8816,
            39.9526,
            33.4484,
            40.7608,
            32.7157,
            37.7749,
            47.6062,
            25.7617,
            27.9506
           ],
           "lon": [
            -84.388,
            -97.7431,
            -76.6108,
            -71.0589,
            -80.8431,
            -87.6846,
            -83.0466,
            -95.3698,
            -118.2437,
            -73.9712,
            -86.7816,
            -74.1724,
            -77.091,
            -75.1652,
            -112.074,
            -111.891,
            -117.1611,
            -122.4194,
            -122.3321,
            -80.1918,
            -82.4572
           ],
           "marker": {
            "cmax": 94.19122422000001,
            "cmin": 20.99818657,
            "color": [
             27.65589117,
             40.384706130000005,
             27.10483488,
             42.29788036,
             28.58937012,
             26.32697279,
             20.99818657,
             32.10538116,
             39.90170717,
             82.46480145,
             31.10468415,
             28.47296006,
             33.66379739,
             27.577344130000004,
             28.98544721,
             29.061694649999996,
             36.53312516,
             68.80914798,
             41.59917863,
             37.44293864,
             28.32227597
            ],
            "colorbar": {
             "len": 0.6,
             "thickness": 15,
             "title": {
              "text": "Class A Rent ($)"
             },
             "y": 0.5,
             "yanchor": "middle"
            },
            "colorscale": [
             [
              0,
              "#440154"
             ],
             [
              0.1111111111111111,
              "#482878"
             ],
             [
              0.2222222222222222,
              "#3e4989"
             ],
             [
              0.3333333333333333,
              "#31688e"
             ],
             [
              0.4444444444444444,
              "#26828e"
             ],
             [
              0.5555555555555556,
              "#1f9e89"
             ],
             [
              0.6666666666666666,
              "#35b779"
             ],
             [
              0.7777777777777778,
              "#6ece58"
             ],
             [
              0.8888888888888888,
              "#b5de2b"
             ],
             [
              1,
              "#fde725"
             ]
            ],
            "line": {
             "color": "DarkSlateGrey",
             "width": 1
            },
            "size": [
             11.097342289962778,
             15.4526184088903,
             10.96396151960407,
             16.279359880251203,
             11.336040344441022,
             10.785774227487838,
             10,
             12.364622973451016,
             15.250121768482696,
             40.783236442468244,
             12.052373263768503,
             11.305426392910308,
             12.879350556367315,
             11.077980152247745,
             11.441956366229732,
             11.46265322194977,
             13.911286645830184,
             31.117696753694545,
             15.972931526741517,
             14.259869838081896,
             11.266151836188314
            ]
           },
           "mode": "markers",
           "name": "2018-Q1",
           "text": [
            "<b>Atlanta</b><br>Time Period: 2018-Q1<br>Class A Rent: $27.66<br>Class O Rent: $18.56<br>A/O Ratio: 1.49",
            "<b>Austin</b><br>Time Period: 2018-Q1<br>Class A Rent: $40.38<br>Class O Rent: $30.12<br>A/O Ratio: 1.34",
            "<b>Baltimore</b><br>Time Period: 2018-Q1<br>Class A Rent: $27.10<br>Class O Rent: $20.12<br>A/O Ratio: 1.35",
            "<b>Boston</b><br>Time Period: 2018-Q1<br>Class A Rent: $42.30<br>Class O Rent: $20.15<br>A/O Ratio: 2.10",
            "<b>Charlotte</b><br>Time Period: 2018-Q1<br>Class A Rent: $28.59<br>Class O Rent: $20.76<br>A/O Ratio: 1.38",
            "<b>Chicago Suburbs</b><br>Time Period: 2018-Q1<br>Class A Rent: $26.33<br>Class O Rent: $19.61<br>A/O Ratio: 1.34",
            "<b>Detroit</b><br>Time Period: 2018-Q1<br>Class A Rent: $21.00<br>Class O Rent: $16.96<br>A/O Ratio: 1.24",
            "<b>Houston</b><br>Time Period: 2018-Q1<br>Class A Rent: $32.11<br>Class O Rent: $21.03<br>A/O Ratio: 1.53",
            "<b>Los Angeles</b><br>Time Period: 2018-Q1<br>Class A Rent: $39.90<br>Class O Rent: $31.90<br>A/O Ratio: 1.25",
            "<b>Manhattan</b><br>Time Period: 2018-Q1<br>Class A Rent: $82.46<br>Class O Rent: $61.39<br>A/O Ratio: 1.34",
            "<b>Nashville</b><br>Time Period: 2018-Q1<br>Class A Rent: $31.10<br>Class O Rent: $24.52<br>A/O Ratio: 1.27",
            "<b>Northern New Jersey</b><br>Time Period: 2018-Q1<br>Class A Rent: $28.47<br>Class O Rent: $23.99<br>A/O Ratio: 1.19",
            "<b>Northern Virginia</b><br>Time Period: 2018-Q1<br>Class A Rent: $33.66<br>Class O Rent: $28.97<br>A/O Ratio: 1.16",
            "<b>Philadelphia</b><br>Time Period: 2018-Q1<br>Class A Rent: $27.58<br>Class O Rent: $22.97<br>A/O Ratio: 1.20",
            "<b>Phoenix</b><br>Time Period: 2018-Q1<br>Class A Rent: $28.99<br>Class O Rent: $23.07<br>A/O Ratio: 1.26",
            "<b>Salt Lake City</b><br>Time Period: 2018-Q1<br>Class A Rent: $29.06<br>Class O Rent: $21.11<br>A/O Ratio: 1.38",
            "<b>San Diego</b><br>Time Period: 2018-Q1<br>Class A Rent: $36.53<br>Class O Rent: $28.34<br>A/O Ratio: 1.29",
            "<b>San Francisco</b><br>Time Period: 2018-Q1<br>Class A Rent: $68.81<br>Class O Rent: $64.58<br>A/O Ratio: 1.07",
            "<b>Seattle</b><br>Time Period: 2018-Q1<br>Class A Rent: $41.60<br>Class O Rent: $28.04<br>A/O Ratio: 1.48",
            "<b>South Florida</b><br>Time Period: 2018-Q1<br>Class A Rent: $37.44<br>Class O Rent: $27.76<br>A/O Ratio: 1.35",
            "<b>Tampa</b><br>Time Period: 2018-Q1<br>Class A Rent: $28.32<br>Class O Rent: $20.03<br>A/O Ratio: 1.41"
           ],
           "type": "scattergeo"
          }
         ],
         "layout": {
          "title": {
           "text": "US Market Rental Rates Over Time: 2018-Q1"
          }
         },
         "name": "2018-Q1"
        },
        {
         "data": [
          {
           "hoverinfo": "text",
           "lat": [
            33.749,
            30.2672,
            39.2908,
            42.3601,
            35.2271,
            42.047,
            42.3315,
            29.7604,
            34.0522,
            40.7831,
            36.1627,
            40.7357,
            38.8816,
            39.9526,
            33.4484,
            40.7608,
            32.7157,
            37.7749,
            47.6062,
            25.7617,
            27.9506
           ],
           "lon": [
            -84.388,
            -97.7431,
            -76.6108,
            -71.0589,
            -80.8431,
            -87.6846,
            -83.0466,
            -95.3698,
            -118.2437,
            -73.9712,
            -86.7816,
            -74.1724,
            -77.091,
            -75.1652,
            -112.074,
            -111.891,
            -117.1611,
            -122.4194,
            -122.3321,
            -80.1918,
            -82.4572
           ],
           "marker": {
            "cmax": 94.19122422000001,
            "cmin": 20.99818657,
            "color": [
             29.25190058,
             39.65927203,
             27.20366531,
             45.70719304,
             29.37910095,
             26.86119466,
             21.33365002,
             33.56396042,
             39.03307569,
             82.03311565,
             30.89893822,
             28.42832632,
             34.44486686,
             29.44590673,
             30.40778919,
             28.10577543,
             36.79420881,
             68.96393844,
             46.36658203999999,
             37.67732718,
             28.75794681
            ],
            "colorbar": {
             "len": 0.6,
             "thickness": 15,
             "title": {
              "text": "Class A Rent ($)"
             },
             "y": 0.5,
             "yanchor": "middle"
            },
            "colorscale": [
             [
              0,
              "#440154"
             ],
             [
              0.1111111111111111,
              "#482878"
             ],
             [
              0.2222222222222222,
              "#3e4989"
             ],
             [
              0.3333333333333333,
              "#31688e"
             ],
             [
              0.4444444444444444,
              "#26828e"
             ],
             [
              0.5555555555555556,
              "#1f9e89"
             ],
             [
              0.6666666666666666,
              "#35b779"
             ],
             [
              0.7777777777777778,
              "#6ece58"
             ],
             [
              0.8888888888888888,
              "#b5de2b"
             ],
             [
              1,
              "#fde725"
             ]
            ],
            "line": {
             "color": "DarkSlateGrey",
             "width": 1
            },
            "size": [
             11.514709882111601,
             15.149448114874588,
             10.987457180108745,
             17.845818525245058,
             11.549859892956931,
             10.906851287913765,
             10.012411467876408,
             12.845372913583695,
             14.89244045718743,
             40.459516156955296,
             11.990020655451383,
             11.29375132438284,
             13.149763548490057,
             11.568428092243366,
             11.843793410116652,
             11.210427497198866,
             14.010300706332274,
             31.22033416823609,
             18.16196697033766,
             14.351268060088048,
             11.380790492429254
            ]
           },
           "mode": "markers",
           "name": "2018-Q2",
           "text": [
            "<b>Atlanta</b><br>Time Period: 2018-Q2<br>Class A Rent: $29.25<br>Class O Rent: $20.22<br>A/O Ratio: 1.45",
            "<b>Austin</b><br>Time Period: 2018-Q2<br>Class A Rent: $39.66<br>Class O Rent: $29.72<br>A/O Ratio: 1.33",
            "<b>Baltimore</b><br>Time Period: 2018-Q2<br>Class A Rent: $27.20<br>Class O Rent: $20.65<br>A/O Ratio: 1.32",
            "<b>Boston</b><br>Time Period: 2018-Q2<br>Class A Rent: $45.71<br>Class O Rent: $21.97<br>A/O Ratio: 2.08",
            "<b>Charlotte</b><br>Time Period: 2018-Q2<br>Class A Rent: $29.38<br>Class O Rent: $20.96<br>A/O Ratio: 1.40",
            "<b>Chicago Suburbs</b><br>Time Period: 2018-Q2<br>Class A Rent: $26.86<br>Class O Rent: $19.76<br>A/O Ratio: 1.36",
            "<b>Detroit</b><br>Time Period: 2018-Q2<br>Class A Rent: $21.33<br>Class O Rent: $17.01<br>A/O Ratio: 1.25",
            "<b>Houston</b><br>Time Period: 2018-Q2<br>Class A Rent: $33.56<br>Class O Rent: $20.54<br>A/O Ratio: 1.63",
            "<b>Los Angeles</b><br>Time Period: 2018-Q2<br>Class A Rent: $39.03<br>Class O Rent: $31.82<br>A/O Ratio: 1.23",
            "<b>Manhattan</b><br>Time Period: 2018-Q2<br>Class A Rent: $82.03<br>Class O Rent: $62.18<br>A/O Ratio: 1.32",
            "<b>Nashville</b><br>Time Period: 2018-Q2<br>Class A Rent: $30.90<br>Class O Rent: $24.74<br>A/O Ratio: 1.25",
            "<b>Northern New Jersey</b><br>Time Period: 2018-Q2<br>Class A Rent: $28.43<br>Class O Rent: $23.81<br>A/O Ratio: 1.19",
            "<b>Northern Virginia</b><br>Time Period: 2018-Q2<br>Class A Rent: $34.44<br>Class O Rent: $28.72<br>A/O Ratio: 1.20",
            "<b>Philadelphia</b><br>Time Period: 2018-Q2<br>Class A Rent: $29.45<br>Class O Rent: $25.53<br>A/O Ratio: 1.15",
            "<b>Phoenix</b><br>Time Period: 2018-Q2<br>Class A Rent: $30.41<br>Class O Rent: $22.88<br>A/O Ratio: 1.33",
            "<b>Salt Lake City</b><br>Time Period: 2018-Q2<br>Class A Rent: $28.11<br>Class O Rent: $21.39<br>A/O Ratio: 1.31",
            "<b>San Diego</b><br>Time Period: 2018-Q2<br>Class A Rent: $36.79<br>Class O Rent: $28.32<br>A/O Ratio: 1.30",
            "<b>San Francisco</b><br>Time Period: 2018-Q2<br>Class A Rent: $68.96<br>Class O Rent: $63.50<br>A/O Ratio: 1.09",
            "<b>Seattle</b><br>Time Period: 2018-Q2<br>Class A Rent: $46.37<br>Class O Rent: $28.00<br>A/O Ratio: 1.66",
            "<b>South Florida</b><br>Time Period: 2018-Q2<br>Class A Rent: $37.68<br>Class O Rent: $28.98<br>A/O Ratio: 1.30",
            "<b>Tampa</b><br>Time Period: 2018-Q2<br>Class A Rent: $28.76<br>Class O Rent: $20.85<br>A/O Ratio: 1.38"
           ],
           "type": "scattergeo"
          }
         ],
         "layout": {
          "title": {
           "text": "US Market Rental Rates Over Time: 2018-Q2"
          }
         },
         "name": "2018-Q2"
        },
        {
         "data": [
          {
           "hoverinfo": "text",
           "lat": [
            33.749,
            30.2672,
            39.2908,
            42.3601,
            35.2271,
            42.047,
            42.3315,
            29.7604,
            34.0522,
            40.7831,
            36.1627,
            40.7357,
            38.8816,
            39.9526,
            33.4484,
            40.7608,
            32.7157,
            37.7749,
            47.6062,
            25.7617,
            27.9506
           ],
           "lon": [
            -84.388,
            -97.7431,
            -76.6108,
            -71.0589,
            -80.8431,
            -87.6846,
            -83.0466,
            -95.3698,
            -118.2437,
            -73.9712,
            -86.7816,
            -74.1724,
            -77.091,
            -75.1652,
            -112.074,
            -111.891,
            -117.1611,
            -122.4194,
            -122.3321,
            -80.1918,
            -82.4572
           ],
           "marker": {
            "cmax": 94.19122422000001,
            "cmin": 20.99818657,
            "color": [
             29.50725861,
             38.97018941,
             26.64668926,
             40.60839782,
             30.07800111,
             26.58091109,
             21.44343181,
             33.43971493,
             41.88091743999999,
             82.03056489,
             30.780835729999996,
             28.20377433,
             34.81234315,
             29.22495767,
             30.72866293,
             28.18531392,
             37.38849356,
             73.70200369,
             45.75198181,
             38.45700746,
             28.97241949
            ],
            "colorbar": {
             "len": 0.6,
             "thickness": 15,
             "title": {
              "text": "Class A Rent ($)"
             },
             "y": 0.5,
             "yanchor": "middle"
            },
            "colorscale": [
             [
              0,
              "#440154"
             ],
             [
              0.1111111111111111,
              "#482878"
             ],
             [
              0.2222222222222222,
              "#3e4989"
             ],
             [
              0.3333333333333333,
              "#31688e"
             ],
             [
              0.4444444444444444,
              "#26828e"
             ],
             [
              0.5555555555555556,
              "#1f9e89"
             ],
             [
              0.6666666666666666,
              "#35b779"
             ],
             [
              0.7777777777777778,
              "#6ece58"
             ],
             [
              0.8888888888888888,
              "#b5de2b"
             ],
             [
              1,
              "#fde725"
             ]
            ],
            "line": {
             "color": "DarkSlateGrey",
             "width": 1
            },
            "size": [
             11.585545227509478,
             14.866873428258383,
             10.857541889574964,
             15.547262815069413,
             11.747715753325975,
             10.842606162535647,
             10.018978166907432,
             12.803276489784626,
             16.09587806325978,
             40.45760673955664,
             11.954519698014598,
             11.235547516167104,
             13.279758720198888,
             11.507299151220986,
             11.938904804392525,
             11.230802428153634,
             14.238732072045027,
             34.44097009949053,
             17.86716076883577,
             14.659911817343536,
             11.438429924090235
            ]
           },
           "mode": "markers",
           "name": "2018-Q3",
           "text": [
            "<b>Atlanta</b><br>Time Period: 2018-Q3<br>Class A Rent: $29.51<br>Class O Rent: $20.36<br>A/O Ratio: 1.45",
            "<b>Austin</b><br>Time Period: 2018-Q3<br>Class A Rent: $38.97<br>Class O Rent: $28.60<br>A/O Ratio: 1.36",
            "<b>Baltimore</b><br>Time Period: 2018-Q3<br>Class A Rent: $26.65<br>Class O Rent: $20.83<br>A/O Ratio: 1.28",
            "<b>Boston</b><br>Time Period: 2018-Q3<br>Class A Rent: $40.61<br>Class O Rent: $21.95<br>A/O Ratio: 1.85",
            "<b>Charlotte</b><br>Time Period: 2018-Q3<br>Class A Rent: $30.08<br>Class O Rent: $22.16<br>A/O Ratio: 1.36",
            "<b>Chicago Suburbs</b><br>Time Period: 2018-Q3<br>Class A Rent: $26.58<br>Class O Rent: $19.87<br>A/O Ratio: 1.34",
            "<b>Detroit</b><br>Time Period: 2018-Q3<br>Class A Rent: $21.44<br>Class O Rent: $17.04<br>A/O Ratio: 1.26",
            "<b>Houston</b><br>Time Period: 2018-Q3<br>Class A Rent: $33.44<br>Class O Rent: $20.67<br>A/O Ratio: 1.62",
            "<b>Los Angeles</b><br>Time Period: 2018-Q3<br>Class A Rent: $41.88<br>Class O Rent: $35.15<br>A/O Ratio: 1.19",
            "<b>Manhattan</b><br>Time Period: 2018-Q3<br>Class A Rent: $82.03<br>Class O Rent: $61.99<br>A/O Ratio: 1.32",
            "<b>Nashville</b><br>Time Period: 2018-Q3<br>Class A Rent: $30.78<br>Class O Rent: $25.51<br>A/O Ratio: 1.21",
            "<b>Northern New Jersey</b><br>Time Period: 2018-Q3<br>Class A Rent: $28.20<br>Class O Rent: $23.98<br>A/O Ratio: 1.18",
            "<b>Northern Virginia</b><br>Time Period: 2018-Q3<br>Class A Rent: $34.81<br>Class O Rent: $28.79<br>A/O Ratio: 1.21",
            "<b>Philadelphia</b><br>Time Period: 2018-Q3<br>Class A Rent: $29.22<br>Class O Rent: $25.43<br>A/O Ratio: 1.15",
            "<b>Phoenix</b><br>Time Period: 2018-Q3<br>Class A Rent: $30.73<br>Class O Rent: $23.23<br>A/O Ratio: 1.32",
            "<b>Salt Lake City</b><br>Time Period: 2018-Q3<br>Class A Rent: $28.19<br>Class O Rent: $21.92<br>A/O Ratio: 1.29",
            "<b>San Diego</b><br>Time Period: 2018-Q3<br>Class A Rent: $37.39<br>Class O Rent: $28.19<br>A/O Ratio: 1.33",
            "<b>San Francisco</b><br>Time Period: 2018-Q3<br>Class A Rent: $73.70<br>Class O Rent: $66.43<br>A/O Ratio: 1.11",
            "<b>Seattle</b><br>Time Period: 2018-Q3<br>Class A Rent: $45.75<br>Class O Rent: $28.56<br>A/O Ratio: 1.60",
            "<b>South Florida</b><br>Time Period: 2018-Q3<br>Class A Rent: $38.46<br>Class O Rent: $28.95<br>A/O Ratio: 1.33",
            "<b>Tampa</b><br>Time Period: 2018-Q3<br>Class A Rent: $28.97<br>Class O Rent: $21.21<br>A/O Ratio: 1.37"
           ],
           "type": "scattergeo"
          }
         ],
         "layout": {
          "title": {
           "text": "US Market Rental Rates Over Time: 2018-Q3"
          }
         },
         "name": "2018-Q3"
        },
        {
         "data": [
          {
           "hoverinfo": "text",
           "lat": [
            33.749,
            30.2672,
            39.2908,
            42.3601,
            35.2271,
            42.047,
            42.3315,
            29.7604,
            34.0522,
            40.7831,
            36.1627,
            40.7357,
            38.8816,
            39.9526,
            33.4484,
            40.7608,
            32.7157,
            37.7749,
            47.6062,
            25.7617,
            27.9506
           ],
           "lon": [
            -84.388,
            -97.7431,
            -76.6108,
            -71.0589,
            -80.8431,
            -87.6846,
            -83.0466,
            -95.3698,
            -118.2437,
            -73.9712,
            -86.7816,
            -74.1724,
            -77.091,
            -75.1652,
            -112.074,
            -111.891,
            -117.1611,
            -122.4194,
            -122.3321,
            -80.1918,
            -82.4572
           ],
           "marker": {
            "cmax": 94.19122422000001,
            "cmin": 20.99818657,
            "color": [
             29.48293794,
             39.61785943,
             27.17114084,
             42.01476112,
             30.120190600000004,
             27.113031690000003,
             22.15418149,
             33.81108515,
             41.50180313,
             86.49843648,
             30.44681986,
             28.17378802,
             34.39632006,
             29.138692659999997,
             30.95614376,
             27.72855977,
             38.08688114,
             75.9168806,
             47.447049459999995,
             38.66944632,
             29.37702021
            ],
            "colorbar": {
             "len": 0.6,
             "thickness": 15,
             "title": {
              "text": "Class A Rent ($)"
             },
             "y": 0.5,
             "yanchor": "middle"
            },
            "colorscale": [
             [
              0,
              "#440154"
             ],
             [
              0.1111111111111111,
              "#482878"
             ],
             [
              0.2222222222222222,
              "#3e4989"
             ],
             [
              0.3333333333333333,
              "#31688e"
             ],
             [
              0.4444444444444444,
              "#26828e"
             ],
             [
              0.5555555555555556,
              "#1f9e89"
             ],
             [
              0.6666666666666666,
              "#35b779"
             ],
             [
              0.7777777777777778,
              "#6ece58"
             ],
             [
              0.8888888888888888,
              "#b5de2b"
             ],
             [
              1,
              "#fde725"
             ]
            ],
            "line": {
             "color": "DarkSlateGrey",
             "width": 1
            },
            "size": [
             11.578752367827633,
             15.132316179034241,
             10.979704095313245,
             16.15457733204073,
             11.759911072302689,
             10.965903024967965,
             10.079394281416924,
             12.929722029942097,
             15.930632881969187,
             43.86255858977743,
             11.85527727452995,
             11.227842883405499,
             13.132721478594881,
             11.483653352509606,
             12.007292751276154,
             11.115357402072842,
             14.512515070884266,
             35.99774236755929,
             18.68892086423989,
             14.74522270661518,
             11.549282750327954
            ]
           },
           "mode": "markers",
           "name": "2018-Q4",
           "text": [
            "<b>Atlanta</b><br>Time Period: 2018-Q4<br>Class A Rent: $29.48<br>Class O Rent: $21.00<br>A/O Ratio: 1.40",
            "<b>Austin</b><br>Time Period: 2018-Q4<br>Class A Rent: $39.62<br>Class O Rent: $30.33<br>A/O Ratio: 1.31",
            "<b>Baltimore</b><br>Time Period: 2018-Q4<br>Class A Rent: $27.17<br>Class O Rent: $20.36<br>A/O Ratio: 1.33",
            "<b>Boston</b><br>Time Period: 2018-Q4<br>Class A Rent: $42.01<br>Class O Rent: $22.35<br>A/O Ratio: 1.88",
            "<b>Charlotte</b><br>Time Period: 2018-Q4<br>Class A Rent: $30.12<br>Class O Rent: $22.18<br>A/O Ratio: 1.36",
            "<b>Chicago Suburbs</b><br>Time Period: 2018-Q4<br>Class A Rent: $27.11<br>Class O Rent: $19.82<br>A/O Ratio: 1.37",
            "<b>Detroit</b><br>Time Period: 2018-Q4<br>Class A Rent: $22.15<br>Class O Rent: $17.13<br>A/O Ratio: 1.29",
            "<b>Houston</b><br>Time Period: 2018-Q4<br>Class A Rent: $33.81<br>Class O Rent: $20.31<br>A/O Ratio: 1.66",
            "<b>Los Angeles</b><br>Time Period: 2018-Q4<br>Class A Rent: $41.50<br>Class O Rent: $32.67<br>A/O Ratio: 1.27",
            "<b>Manhattan</b><br>Time Period: 2018-Q4<br>Class A Rent: $86.50<br>Class O Rent: $61.44<br>A/O Ratio: 1.41",
            "<b>Nashville</b><br>Time Period: 2018-Q4<br>Class A Rent: $30.45<br>Class O Rent: $25.98<br>A/O Ratio: 1.17",
            "<b>Northern New Jersey</b><br>Time Period: 2018-Q4<br>Class A Rent: $28.17<br>Class O Rent: $24.86<br>A/O Ratio: 1.13",
            "<b>Northern Virginia</b><br>Time Period: 2018-Q4<br>Class A Rent: $34.40<br>Class O Rent: $28.92<br>A/O Ratio: 1.19",
            "<b>Philadelphia</b><br>Time Period: 2018-Q4<br>Class A Rent: $29.14<br>Class O Rent: $26.29<br>A/O Ratio: 1.11",
            "<b>Phoenix</b><br>Time Period: 2018-Q4<br>Class A Rent: $30.96<br>Class O Rent: $24.12<br>A/O Ratio: 1.28",
            "<b>Salt Lake City</b><br>Time Period: 2018-Q4<br>Class A Rent: $27.73<br>Class O Rent: $21.57<br>A/O Ratio: 1.29",
            "<b>San Diego</b><br>Time Period: 2018-Q4<br>Class A Rent: $38.09<br>Class O Rent: $28.48<br>A/O Ratio: 1.34",
            "<b>San Francisco</b><br>Time Period: 2018-Q4<br>Class A Rent: $75.92<br>Class O Rent: $66.34<br>A/O Ratio: 1.14",
            "<b>Seattle</b><br>Time Period: 2018-Q4<br>Class A Rent: $47.45<br>Class O Rent: $28.57<br>A/O Ratio: 1.66",
            "<b>South Florida</b><br>Time Period: 2018-Q4<br>Class A Rent: $38.67<br>Class O Rent: $28.84<br>A/O Ratio: 1.34",
            "<b>Tampa</b><br>Time Period: 2018-Q4<br>Class A Rent: $29.38<br>Class O Rent: $21.27<br>A/O Ratio: 1.38"
           ],
           "type": "scattergeo"
          }
         ],
         "layout": {
          "title": {
           "text": "US Market Rental Rates Over Time: 2018-Q4"
          }
         },
         "name": "2018-Q4"
        },
        {
         "data": [
          {
           "hoverinfo": "text",
           "lat": [
            33.749,
            30.2672,
            39.2908,
            42.3601,
            35.2271,
            42.047,
            42.3315,
            29.7604,
            34.0522,
            40.7831,
            36.1627,
            40.7357,
            38.8816,
            39.9526,
            33.4484,
            40.7608,
            32.7157,
            37.7749,
            47.6062,
            25.7617,
            27.9506
           ],
           "lon": [
            -84.388,
            -97.7431,
            -76.6108,
            -71.0589,
            -80.8431,
            -87.6846,
            -83.0466,
            -95.3698,
            -118.2437,
            -73.9712,
            -86.7816,
            -74.1724,
            -77.091,
            -75.1652,
            -112.074,
            -111.891,
            -117.1611,
            -122.4194,
            -122.3321,
            -80.1918,
            -82.4572
           ],
           "marker": {
            "cmax": 94.19122422000001,
            "cmin": 20.99818657,
            "color": [
             30.04447392,
             40.59312192,
             26.29337377,
             40.09777346,
             30.69028912,
             27.657220780000003,
             22.87165006,
             34.00947012,
             41.3381568,
             87.44439491,
             30.286220079999996,
             29.65220652,
             34.9627681,
             29.31696736,
             31.207060560000002,
             27.63453899,
             38.47132671,
             77.64272361,
             46.27454785,
             38.45951318,
             30.9463964
            ],
            "colorbar": {
             "len": 0.6,
             "thickness": 15,
             "title": {
              "text": "Class A Rent ($)"
             },
             "y": 0.5,
             "yanchor": "middle"
            },
            "colorscale": [
             [
              0,
              "#440154"
             ],
             [
              0.1111111111111111,
              "#482878"
             ],
             [
              0.2222222222222222,
              "#3e4989"
             ],
             [
              0.3333333333333333,
              "#31688e"
             ],
             [
              0.4444444444444444,
              "#26828e"
             ],
             [
              0.5555555555555556,
              "#1f9e89"
             ],
             [
              0.6666666666666666,
              "#35b779"
             ],
             [
              0.7777777777777778,
              "#6ece58"
             ],
             [
              0.8888888888888888,
              "#b5de2b"
             ],
             [
              1,
              "#fde725"
             ]
            ],
            "line": {
             "color": "DarkSlateGrey",
             "width": 1
            },
            "size": [
             11.738044541461765,
             15.54078229380168,
             10.778354268373693,
             15.332014168597809,
             11.927446512201449,
             11.097671031671853,
             10.163803502953801,
             12.99802704342407,
             15.859773148950005,
             44.598768375030176,
             11.808177223403922,
             11.626230762143917,
             13.33347515704638,
             11.532656581032317,
             12.083637182770106,
             11.092067531968397,
             14.665645892053785,
             37.232805319094055,
             18.117590988553125,
             14.660915051175134,
             12.004346210748762
            ]
           },
           "mode": "markers",
           "name": "2019-Q1",
           "text": [
            "<b>Atlanta</b><br>Time Period: 2019-Q1<br>Class A Rent: $30.04<br>Class O Rent: $20.39<br>A/O Ratio: 1.47",
            "<b>Austin</b><br>Time Period: 2019-Q1<br>Class A Rent: $40.59<br>Class O Rent: $30.21<br>A/O Ratio: 1.34",
            "<b>Baltimore</b><br>Time Period: 2019-Q1<br>Class A Rent: $26.29<br>Class O Rent: $20.55<br>A/O Ratio: 1.28",
            "<b>Boston</b><br>Time Period: 2019-Q1<br>Class A Rent: $40.10<br>Class O Rent: $19.07<br>A/O Ratio: 2.10",
            "<b>Charlotte</b><br>Time Period: 2019-Q1<br>Class A Rent: $30.69<br>Class O Rent: $22.55<br>A/O Ratio: 1.36",
            "<b>Chicago Suburbs</b><br>Time Period: 2019-Q1<br>Class A Rent: $27.66<br>Class O Rent: $19.99<br>A/O Ratio: 1.38",
            "<b>Detroit</b><br>Time Period: 2019-Q1<br>Class A Rent: $22.87<br>Class O Rent: $17.94<br>A/O Ratio: 1.27",
            "<b>Houston</b><br>Time Period: 2019-Q1<br>Class A Rent: $34.01<br>Class O Rent: $20.39<br>A/O Ratio: 1.67",
            "<b>Los Angeles</b><br>Time Period: 2019-Q1<br>Class A Rent: $41.34<br>Class O Rent: $34.61<br>A/O Ratio: 1.19",
            "<b>Manhattan</b><br>Time Period: 2019-Q1<br>Class A Rent: $87.44<br>Class O Rent: $61.49<br>A/O Ratio: 1.42",
            "<b>Nashville</b><br>Time Period: 2019-Q1<br>Class A Rent: $30.29<br>Class O Rent: $25.66<br>A/O Ratio: 1.18",
            "<b>Northern New Jersey</b><br>Time Period: 2019-Q1<br>Class A Rent: $29.65<br>Class O Rent: $24.12<br>A/O Ratio: 1.23",
            "<b>Northern Virginia</b><br>Time Period: 2019-Q1<br>Class A Rent: $34.96<br>Class O Rent: $29.25<br>A/O Ratio: 1.20",
            "<b>Philadelphia</b><br>Time Period: 2019-Q1<br>Class A Rent: $29.32<br>Class O Rent: $25.92<br>A/O Ratio: 1.13",
            "<b>Phoenix</b><br>Time Period: 2019-Q1<br>Class A Rent: $31.21<br>Class O Rent: $23.72<br>A/O Ratio: 1.32",
            "<b>Salt Lake City</b><br>Time Period: 2019-Q1<br>Class A Rent: $27.63<br>Class O Rent: $21.11<br>A/O Ratio: 1.31",
            "<b>San Diego</b><br>Time Period: 2019-Q1<br>Class A Rent: $38.47<br>Class O Rent: $30.82<br>A/O Ratio: 1.25",
            "<b>San Francisco</b><br>Time Period: 2019-Q1<br>Class A Rent: $77.64<br>Class O Rent: $69.99<br>A/O Ratio: 1.11",
            "<b>Seattle</b><br>Time Period: 2019-Q1<br>Class A Rent: $46.27<br>Class O Rent: $28.77<br>A/O Ratio: 1.61",
            "<b>South Florida</b><br>Time Period: 2019-Q1<br>Class A Rent: $38.46<br>Class O Rent: $28.95<br>A/O Ratio: 1.33",
            "<b>Tampa</b><br>Time Period: 2019-Q1<br>Class A Rent: $30.95<br>Class O Rent: $21.13<br>A/O Ratio: 1.46"
           ],
           "type": "scattergeo"
          }
         ],
         "layout": {
          "title": {
           "text": "US Market Rental Rates Over Time: 2019-Q1"
          }
         },
         "name": "2019-Q1"
        },
        {
         "data": [
          {
           "hoverinfo": "text",
           "lat": [
            33.749,
            30.2672,
            39.2908,
            42.3601,
            35.2271,
            42.047,
            42.3315,
            29.7604,
            34.0522,
            40.7831,
            36.1627,
            40.7357,
            38.8816,
            39.9526,
            33.4484,
            40.7608,
            32.7157,
            37.7749,
            47.6062,
            25.7617,
            27.9506
           ],
           "lon": [
            -84.388,
            -97.7431,
            -76.6108,
            -71.0589,
            -80.8431,
            -87.6846,
            -83.0466,
            -95.3698,
            -118.2437,
            -73.9712,
            -86.7816,
            -74.1724,
            -77.091,
            -75.1652,
            -112.074,
            -111.891,
            -117.1611,
            -122.4194,
            -122.3321,
            -80.1918,
            -82.4572
           ],
           "marker": {
            "cmax": 94.19122422000001,
            "cmin": 20.99818657,
            "color": [
             29.944546310000003,
             41.40487814000001,
             26.52637225,
             42.10934722,
             31.394100100000003,
             27.47380582,
             22.83465861,
             33.20153086,
             43.90007675,
             90.72201636,
             32.00913991,
             29.69931311,
             36.19484002,
             29.46643841,
             31.31746009,
             29.35979894,
             38.81226206,
             85.17950015,
             45.93568059,
             39.29473752,
             30.22116965
            ],
            "colorbar": {
             "len": 0.6,
             "thickness": 15,
             "title": {
              "text": "Class A Rent ($)"
             },
             "y": 0.5,
             "yanchor": "middle"
            },
            "colorscale": [
             [
              0,
              "#440154"
             ],
             [
              0.1111111111111111,
              "#482878"
             ],
             [
              0.2222222222222222,
              "#3e4989"
             ],
             [
              0.3333333333333333,
              "#31688e"
             ],
             [
              0.4444444444444444,
              "#26828e"
             ],
             [
              0.5555555555555556,
              "#1f9e89"
             ],
             [
              0.6666666666666666,
              "#35b779"
             ],
             [
              0.7777777777777778,
              "#6ece58"
             ],
             [
              0.8888888888888888,
              "#b5de2b"
             ],
             [
              1,
              "#fde725"
             ]
            ],
            "line": {
             "color": "DarkSlateGrey",
             "width": 1
            },
            "size": [
             11.70932588832455,
             15.888629560540476,
             10.830288965903819,
             16.19617249966766,
             12.141160987052665,
             11.052633753986402,
             10.15897609132073,
             12.723162952795533,
             17.001036238725067,
             47.19008620084628,
             12.333956284597535,
             11.639526953935395,
             13.784227815532853,
             11.574149521523543,
             12.117527308199401,
             11.544508773968067,
             14.802863749903844,
             42.844922095186945,
             17.954896753052143,
             14.999299760192148,
             11.789214676045152
            ]
           },
           "mode": "markers",
           "name": "2019-Q2",
           "text": [
            "<b>Atlanta</b><br>Time Period: 2019-Q2<br>Class A Rent: $29.94<br>Class O Rent: $20.72<br>A/O Ratio: 1.45",
            "<b>Austin</b><br>Time Period: 2019-Q2<br>Class A Rent: $41.40<br>Class O Rent: $30.71<br>A/O Ratio: 1.35",
            "<b>Baltimore</b><br>Time Period: 2019-Q2<br>Class A Rent: $26.53<br>Class O Rent: $20.31<br>A/O Ratio: 1.31",
            "<b>Boston</b><br>Time Period: 2019-Q2<br>Class A Rent: $42.11<br>Class O Rent: $23.01<br>A/O Ratio: 1.83",
            "<b>Charlotte</b><br>Time Period: 2019-Q2<br>Class A Rent: $31.39<br>Class O Rent: $23.10<br>A/O Ratio: 1.36",
            "<b>Chicago Suburbs</b><br>Time Period: 2019-Q2<br>Class A Rent: $27.47<br>Class O Rent: $19.70<br>A/O Ratio: 1.39",
            "<b>Detroit</b><br>Time Period: 2019-Q2<br>Class A Rent: $22.83<br>Class O Rent: $18.17<br>A/O Ratio: 1.26",
            "<b>Houston</b><br>Time Period: 2019-Q2<br>Class A Rent: $33.20<br>Class O Rent: $20.63<br>A/O Ratio: 1.61",
            "<b>Los Angeles</b><br>Time Period: 2019-Q2<br>Class A Rent: $43.90<br>Class O Rent: $34.99<br>A/O Ratio: 1.25",
            "<b>Manhattan</b><br>Time Period: 2019-Q2<br>Class A Rent: $90.72<br>Class O Rent: $61.40<br>A/O Ratio: 1.48",
            "<b>Nashville</b><br>Time Period: 2019-Q2<br>Class A Rent: $32.01<br>Class O Rent: $25.93<br>A/O Ratio: 1.23",
            "<b>Northern New Jersey</b><br>Time Period: 2019-Q2<br>Class A Rent: $29.70<br>Class O Rent: $23.57<br>A/O Ratio: 1.26",
            "<b>Northern Virginia</b><br>Time Period: 2019-Q2<br>Class A Rent: $36.19<br>Class O Rent: $29.21<br>A/O Ratio: 1.24",
            "<b>Philadelphia</b><br>Time Period: 2019-Q2<br>Class A Rent: $29.47<br>Class O Rent: $25.50<br>A/O Ratio: 1.16",
            "<b>Phoenix</b><br>Time Period: 2019-Q2<br>Class A Rent: $31.32<br>Class O Rent: $24.04<br>A/O Ratio: 1.30",
            "<b>Salt Lake City</b><br>Time Period: 2019-Q2<br>Class A Rent: $29.36<br>Class O Rent: $21.40<br>A/O Ratio: 1.37",
            "<b>San Diego</b><br>Time Period: 2019-Q2<br>Class A Rent: $38.81<br>Class O Rent: $31.87<br>A/O Ratio: 1.22",
            "<b>San Francisco</b><br>Time Period: 2019-Q2<br>Class A Rent: $85.18<br>Class O Rent: $71.24<br>A/O Ratio: 1.20",
            "<b>Seattle</b><br>Time Period: 2019-Q2<br>Class A Rent: $45.94<br>Class O Rent: $28.79<br>A/O Ratio: 1.60",
            "<b>South Florida</b><br>Time Period: 2019-Q2<br>Class A Rent: $39.29<br>Class O Rent: $29.17<br>A/O Ratio: 1.35",
            "<b>Tampa</b><br>Time Period: 2019-Q2<br>Class A Rent: $30.22<br>Class O Rent: $21.10<br>A/O Ratio: 1.43"
           ],
           "type": "scattergeo"
          }
         ],
         "layout": {
          "title": {
           "text": "US Market Rental Rates Over Time: 2019-Q2"
          }
         },
         "name": "2019-Q2"
        },
        {
         "data": [
          {
           "hoverinfo": "text",
           "lat": [
            33.749,
            30.2672,
            39.2908,
            42.3601,
            35.2271,
            42.047,
            42.3315,
            29.7604,
            34.0522,
            40.7831,
            36.1627,
            40.7357,
            38.8816,
            39.9526,
            33.4484,
            40.7608,
            32.7157,
            37.7749,
            47.6062,
            25.7617,
            27.9506
           ],
           "lon": [
            -84.388,
            -97.7431,
            -76.6108,
            -71.0589,
            -80.8431,
            -87.6846,
            -83.0466,
            -95.3698,
            -118.2437,
            -73.9712,
            -86.7816,
            -74.1724,
            -77.091,
            -75.1652,
            -112.074,
            -111.891,
            -117.1611,
            -122.4194,
            -122.3321,
            -80.1918,
            -82.4572
           ],
           "marker": {
            "cmax": 94.19122422000001,
            "cmin": 20.99818657,
            "color": [
             30.3398923,
             41.2520092,
             26.65264885,
             39.92278715,
             31.2402677,
             27.793794010000003,
             22.56874666,
             33.65395035,
             43.66766863,
             93.27432036,
             32.22007391,
             30.27119839,
             37.05876326,
             29.89629828,
             31.7933491,
             26.94561061,
             39.59174261,
             88.11832325,
             47.11516114,
             41.69458467,
             31.65826105
            ],
            "colorbar": {
             "len": 0.6,
             "thickness": 15,
             "title": {
              "text": "Class A Rent ($)"
             },
             "y": 0.5,
             "yanchor": "middle"
            },
            "colorscale": [
             [
              0,
              "#440154"
             ],
             [
              0.1111111111111111,
              "#482878"
             ],
             [
              0.2222222222222222,
              "#3e4989"
             ],
             [
              0.3333333333333333,
              "#31688e"
             ],
             [
              0.4444444444444444,
              "#26828e"
             ],
             [
              0.5555555555555556,
              "#1f9e89"
             ],
             [
              0.6666666666666666,
              "#35b779"
             ],
             [
              0.7777777777777778,
              "#6ece58"
             ],
             [
              0.8888888888888888,
              "#b5de2b"
             ],
             [
              1,
              "#fde725"
             ]
            ],
            "line": {
             "color": "DarkSlateGrey",
             "width": 1
            },
            "size": [
             11.823873057228301,
             15.822585004244354,
             10.858899403095394,
             15.258906109149343,
             12.093811840728026,
             11.131612558833996,
             10.125729494614085,
             12.87599332761709,
             16.89473741096645,
             49.25072686752176,
             12.401342960331522,
             11.803792405177548,
             14.11146916238335,
             11.695516867238338,
             12.265682822526006,
             10.926506968096165,
             15.121521728033157,
             45.12647600689205,
             18.525888195968815,
             16.014471735241003,
             12.223287839208956
            ]
           },
           "mode": "markers",
           "name": "2019-Q3",
           "text": [
            "<b>Atlanta</b><br>Time Period: 2019-Q3<br>Class A Rent: $30.34<br>Class O Rent: $20.99<br>A/O Ratio: 1.45",
            "<b>Austin</b><br>Time Period: 2019-Q3<br>Class A Rent: $41.25<br>Class O Rent: $33.54<br>A/O Ratio: 1.23",
            "<b>Baltimore</b><br>Time Period: 2019-Q3<br>Class A Rent: $26.65<br>Class O Rent: $20.54<br>A/O Ratio: 1.30",
            "<b>Boston</b><br>Time Period: 2019-Q3<br>Class A Rent: $39.92<br>Class O Rent: $22.74<br>A/O Ratio: 1.76",
            "<b>Charlotte</b><br>Time Period: 2019-Q3<br>Class A Rent: $31.24<br>Class O Rent: $23.67<br>A/O Ratio: 1.32",
            "<b>Chicago Suburbs</b><br>Time Period: 2019-Q3<br>Class A Rent: $27.79<br>Class O Rent: $20.24<br>A/O Ratio: 1.37",
            "<b>Detroit</b><br>Time Period: 2019-Q3<br>Class A Rent: $22.57<br>Class O Rent: $18.16<br>A/O Ratio: 1.24",
            "<b>Houston</b><br>Time Period: 2019-Q3<br>Class A Rent: $33.65<br>Class O Rent: $21.01<br>A/O Ratio: 1.60",
            "<b>Los Angeles</b><br>Time Period: 2019-Q3<br>Class A Rent: $43.67<br>Class O Rent: $36.62<br>A/O Ratio: 1.19",
            "<b>Manhattan</b><br>Time Period: 2019-Q3<br>Class A Rent: $93.27<br>Class O Rent: $62.31<br>A/O Ratio: 1.50",
            "<b>Nashville</b><br>Time Period: 2019-Q3<br>Class A Rent: $32.22<br>Class O Rent: $26.11<br>A/O Ratio: 1.23",
            "<b>Northern New Jersey</b><br>Time Period: 2019-Q3<br>Class A Rent: $30.27<br>Class O Rent: $23.99<br>A/O Ratio: 1.26",
            "<b>Northern Virginia</b><br>Time Period: 2019-Q3<br>Class A Rent: $37.06<br>Class O Rent: $29.97<br>A/O Ratio: 1.24",
            "<b>Philadelphia</b><br>Time Period: 2019-Q3<br>Class A Rent: $29.90<br>Class O Rent: $26.35<br>A/O Ratio: 1.13",
            "<b>Phoenix</b><br>Time Period: 2019-Q3<br>Class A Rent: $31.79<br>Class O Rent: $24.55<br>A/O Ratio: 1.29",
            "<b>Salt Lake City</b><br>Time Period: 2019-Q3<br>Class A Rent: $26.95<br>Class O Rent: $22.13<br>A/O Ratio: 1.22",
            "<b>San Diego</b><br>Time Period: 2019-Q3<br>Class A Rent: $39.59<br>Class O Rent: $32.04<br>A/O Ratio: 1.24",
            "<b>San Francisco</b><br>Time Period: 2019-Q3<br>Class A Rent: $88.12<br>Class O Rent: $71.95<br>A/O Ratio: 1.22",
            "<b>Seattle</b><br>Time Period: 2019-Q3<br>Class A Rent: $47.12<br>Class O Rent: $29.22<br>A/O Ratio: 1.61",
            "<b>South Florida</b><br>Time Period: 2019-Q3<br>Class A Rent: $41.69<br>Class O Rent: $29.28<br>A/O Ratio: 1.42",
            "<b>Tampa</b><br>Time Period: 2019-Q3<br>Class A Rent: $31.66<br>Class O Rent: $21.76<br>A/O Ratio: 1.45"
           ],
           "type": "scattergeo"
          }
         ],
         "layout": {
          "title": {
           "text": "US Market Rental Rates Over Time: 2019-Q3"
          }
         },
         "name": "2019-Q3"
        },
        {
         "data": [
          {
           "hoverinfo": "text",
           "lat": [
            33.749,
            30.2672,
            39.2908,
            42.3601,
            35.2271,
            42.047,
            42.3315,
            29.7604,
            34.0522,
            40.7831,
            36.1627,
            40.7357,
            38.8816,
            39.9526,
            33.4484,
            40.7608,
            32.7157,
            37.7749,
            47.6062,
            25.7617,
            27.9506
           ],
           "lon": [
            -84.388,
            -97.7431,
            -76.6108,
            -71.0589,
            -80.8431,
            -87.6846,
            -83.0466,
            -95.3698,
            -118.2437,
            -73.9712,
            -86.7816,
            -74.1724,
            -77.091,
            -75.1652,
            -112.074,
            -111.891,
            -117.1611,
            -122.4194,
            -122.3321,
            -80.1918,
            -82.4572
           ],
           "marker": {
            "cmax": 94.19122422000001,
            "cmin": 20.99818657,
            "color": [
             31.190728310000004,
             42.77284623,
             26.87763065,
             41.51285947,
             31.60517316,
             27.59432712,
             22.60469384,
             33.80333408,
             44.65970658,
             94.19122422000001,
             32.02924809,
             30.736197640000004,
             37.13366544,
             30.22085129,
             31.619101510000004,
             27.26048033,
             40.15426951,
             87.34306462,
             47.65974136,
             41.80678109,
             32.11024348
            ],
            "colorbar": {
             "len": 0.6,
             "thickness": 15,
             "title": {
              "text": "Class A Rent ($)"
             },
             "y": 0.5,
             "yanchor": "middle"
            },
            "colorscale": [
             [
              0,
              "#440154"
             ],
             [
              0.1111111111111111,
              "#482878"
             ],
             [
              0.2222222222222222,
              "#3e4989"
             ],
             [
              0.3333333333333333,
              "#31688e"
             ],
             [
              0.4444444444444444,
              "#26828e"
             ],
             [
              0.5555555555555556,
              "#1f9e89"
             ],
             [
              0.6666666666666666,
              "#35b779"
             ],
             [
              0.7777777777777778,
              "#6ece58"
             ],
             [
              0.8888888888888888,
              "#b5de2b"
             ],
             [
              1,
              "#fde725"
             ]
            ],
            "line": {
             "color": "DarkSlateGrey",
             "width": 1
            },
            "size": [
             12.078639050379003,
             16.49056341478358,
             10.910667274399813,
             15.935430567210743,
             12.206700348753,
             11.08215678167696,
             10.130070669843414,
             12.927063960921192,
             17.35223354762786,
             50,
             12.340352601753647,
             11.941157301487921,
             14.14026483910086,
             11.789122036364944,
             12.211048301254436,
             11.001049350739319,
             15.355689580610576,
             44.51965401265822,
             18.793940888502323,
             16.063445177733474,
             12.366175860414394
            ]
           },
           "mode": "markers",
           "name": "2019-Q4",
           "text": [
            "<b>Atlanta</b><br>Time Period: 2019-Q4<br>Class A Rent: $31.19<br>Class O Rent: $21.75<br>A/O Ratio: 1.43",
            "<b>Austin</b><br>Time Period: 2019-Q4<br>Class A Rent: $42.77<br>Class O Rent: $33.90<br>A/O Ratio: 1.26",
            "<b>Baltimore</b><br>Time Period: 2019-Q4<br>Class A Rent: $26.88<br>Class O Rent: $20.57<br>A/O Ratio: 1.31",
            "<b>Boston</b><br>Time Period: 2019-Q4<br>Class A Rent: $41.51<br>Class O Rent: $22.40<br>A/O Ratio: 1.85",
            "<b>Charlotte</b><br>Time Period: 2019-Q4<br>Class A Rent: $31.61<br>Class O Rent: $24.91<br>A/O Ratio: 1.27",
            "<b>Chicago Suburbs</b><br>Time Period: 2019-Q4<br>Class A Rent: $27.59<br>Class O Rent: $20.36<br>A/O Ratio: 1.36",
            "<b>Detroit</b><br>Time Period: 2019-Q4<br>Class A Rent: $22.60<br>Class O Rent: $18.40<br>A/O Ratio: 1.23",
            "<b>Houston</b><br>Time Period: 2019-Q4<br>Class A Rent: $33.80<br>Class O Rent: $21.09<br>A/O Ratio: 1.60",
            "<b>Los Angeles</b><br>Time Period: 2019-Q4<br>Class A Rent: $44.66<br>Class O Rent: $36.75<br>A/O Ratio: 1.22",
            "<b>Manhattan</b><br>Time Period: 2019-Q4<br>Class A Rent: $94.19<br>Class O Rent: $63.66<br>A/O Ratio: 1.48",
            "<b>Nashville</b><br>Time Period: 2019-Q4<br>Class A Rent: $32.03<br>Class O Rent: $26.33<br>A/O Ratio: 1.22",
            "<b>Northern New Jersey</b><br>Time Period: 2019-Q4<br>Class A Rent: $30.74<br>Class O Rent: $23.88<br>A/O Ratio: 1.29",
            "<b>Northern Virginia</b><br>Time Period: 2019-Q4<br>Class A Rent: $37.13<br>Class O Rent: $30.66<br>A/O Ratio: 1.21",
            "<b>Philadelphia</b><br>Time Period: 2019-Q4<br>Class A Rent: $30.22<br>Class O Rent: $26.61<br>A/O Ratio: 1.14",
            "<b>Phoenix</b><br>Time Period: 2019-Q4<br>Class A Rent: $31.62<br>Class O Rent: $24.50<br>A/O Ratio: 1.29",
            "<b>Salt Lake City</b><br>Time Period: 2019-Q4<br>Class A Rent: $27.26<br>Class O Rent: $22.01<br>A/O Ratio: 1.24",
            "<b>San Diego</b><br>Time Period: 2019-Q4<br>Class A Rent: $40.15<br>Class O Rent: $32.86<br>A/O Ratio: 1.22",
            "<b>San Francisco</b><br>Time Period: 2019-Q4<br>Class A Rent: $87.34<br>Class O Rent: $74.50<br>A/O Ratio: 1.17",
            "<b>Seattle</b><br>Time Period: 2019-Q4<br>Class A Rent: $47.66<br>Class O Rent: $29.80<br>A/O Ratio: 1.60",
            "<b>South Florida</b><br>Time Period: 2019-Q4<br>Class A Rent: $41.81<br>Class O Rent: $29.81<br>A/O Ratio: 1.40",
            "<b>Tampa</b><br>Time Period: 2019-Q4<br>Class A Rent: $32.11<br>Class O Rent: $22.23<br>A/O Ratio: 1.44"
           ],
           "type": "scattergeo"
          }
         ],
         "layout": {
          "title": {
           "text": "US Market Rental Rates Over Time: 2019-Q4"
          }
         },
         "name": "2019-Q4"
        },
        {
         "data": [
          {
           "hoverinfo": "text",
           "lat": [
            33.749,
            30.2672,
            39.2908,
            42.3601,
            35.2271,
            42.047,
            42.3315,
            29.7604,
            34.0522,
            40.7831,
            36.1627,
            40.7357,
            38.8816,
            39.9526,
            33.4484,
            40.7608,
            32.7157,
            37.7749,
            47.6062,
            25.7617,
            27.9506
           ],
           "lon": [
            -84.388,
            -97.7431,
            -76.6108,
            -71.0589,
            -80.8431,
            -87.6846,
            -83.0466,
            -95.3698,
            -118.2437,
            -73.9712,
            -86.7816,
            -74.1724,
            -77.091,
            -75.1652,
            -112.074,
            -111.891,
            -117.1611,
            -122.4194,
            -122.3321,
            -80.1918,
            -82.4572
           ],
           "marker": {
            "cmax": 94.19122422000001,
            "cmin": 20.99818657,
            "color": [
             32.06899221,
             42.94578341,
             26.77771676,
             48.54958359,
             32.76223089,
             27.64409633,
             22.724564839999996,
             33.55190191,
             46.27080608,
             92.63800263,
             32.43837555,
             30.242858729999995,
             36.89363917,
             30.54886018,
             31.715902710000005,
             29.416657,
             42.35992626,
             87.5419194,
             48.28301784,
             42.72045241,
             30.90581085
            ],
            "colorbar": {
             "len": 0.6,
             "thickness": 15,
             "title": {
              "text": "Class A Rent ($)"
             },
             "y": 0.5,
             "yanchor": "middle"
            },
            "colorscale": [
             [
              0,
              "#440154"
             ],
             [
              0.1111111111111111,
              "#482878"
             ],
             [
              0.2222222222222222,
              "#3e4989"
             ],
             [
              0.3333333333333333,
              "#31688e"
             ],
             [
              0.4444444444444444,
              "#26828e"
             ],
             [
              0.5555555555555556,
              "#1f9e89"
             ],
             [
              0.6666666666666666,
              "#35b779"
             ],
             [
              0.7777777777777778,
              "#6ece58"
             ],
             [
              0.8888888888888888,
              "#b5de2b"
             ],
             [
              1,
              "#fde725"
             ]
            ],
            "line": {
             "color": "DarkSlateGrey",
             "width": 1
            },
            "size": [
             12.353012170288952,
             16.5680400888241,
             10.887552678458707,
             19.23784713833716,
             12.577450372808475,
             11.094427491991873,
             10.144896960471145,
             12.841278132948931,
             18.115788531666773,
             48.73352542205918,
             12.471753352508244,
             11.79552975202416,
             14.04822536268527,
             11.885412313965944,
             12.241344995315941,
             11.560289263614234,
             16.306817467202357,
             44.674968322205686,
             19.104104679521477,
             16.46715128553359,
             11.992093081256582
            ]
           },
           "mode": "markers",
           "name": "2020-Q1",
           "text": [
            "<b>Atlanta</b><br>Time Period: 2020-Q1<br>Class A Rent: $32.07<br>Class O Rent: $21.72<br>A/O Ratio: 1.48",
            "<b>Austin</b><br>Time Period: 2020-Q1<br>Class A Rent: $42.95<br>Class O Rent: $34.43<br>A/O Ratio: 1.25",
            "<b>Baltimore</b><br>Time Period: 2020-Q1<br>Class A Rent: $26.78<br>Class O Rent: $20.22<br>A/O Ratio: 1.32",
            "<b>Boston</b><br>Time Period: 2020-Q1<br>Class A Rent: $48.55<br>Class O Rent: $23.49<br>A/O Ratio: 2.07",
            "<b>Charlotte</b><br>Time Period: 2020-Q1<br>Class A Rent: $32.76<br>Class O Rent: $25.63<br>A/O Ratio: 1.28",
            "<b>Chicago Suburbs</b><br>Time Period: 2020-Q1<br>Class A Rent: $27.64<br>Class O Rent: $20.56<br>A/O Ratio: 1.34",
            "<b>Detroit</b><br>Time Period: 2020-Q1<br>Class A Rent: $22.72<br>Class O Rent: $18.08<br>A/O Ratio: 1.26",
            "<b>Houston</b><br>Time Period: 2020-Q1<br>Class A Rent: $33.55<br>Class O Rent: $21.84<br>A/O Ratio: 1.54",
            "<b>Los Angeles</b><br>Time Period: 2020-Q1<br>Class A Rent: $46.27<br>Class O Rent: $39.08<br>A/O Ratio: 1.18",
            "<b>Manhattan</b><br>Time Period: 2020-Q1<br>Class A Rent: $92.64<br>Class O Rent: $64.47<br>A/O Ratio: 1.44",
            "<b>Nashville</b><br>Time Period: 2020-Q1<br>Class A Rent: $32.44<br>Class O Rent: $26.51<br>A/O Ratio: 1.22",
            "<b>Northern New Jersey</b><br>Time Period: 2020-Q1<br>Class A Rent: $30.24<br>Class O Rent: $23.64<br>A/O Ratio: 1.28",
            "<b>Northern Virginia</b><br>Time Period: 2020-Q1<br>Class A Rent: $36.89<br>Class O Rent: $30.95<br>A/O Ratio: 1.19",
            "<b>Philadelphia</b><br>Time Period: 2020-Q1<br>Class A Rent: $30.55<br>Class O Rent: $25.63<br>A/O Ratio: 1.19",
            "<b>Phoenix</b><br>Time Period: 2020-Q1<br>Class A Rent: $31.72<br>Class O Rent: $24.51<br>A/O Ratio: 1.29",
            "<b>Salt Lake City</b><br>Time Period: 2020-Q1<br>Class A Rent: $29.42<br>Class O Rent: $21.85<br>A/O Ratio: 1.35",
            "<b>San Diego</b><br>Time Period: 2020-Q1<br>Class A Rent: $42.36<br>Class O Rent: $34.34<br>A/O Ratio: 1.23",
            "<b>San Francisco</b><br>Time Period: 2020-Q1<br>Class A Rent: $87.54<br>Class O Rent: $76.21<br>A/O Ratio: 1.15",
            "<b>Seattle</b><br>Time Period: 2020-Q1<br>Class A Rent: $48.28<br>Class O Rent: $30.23<br>A/O Ratio: 1.60",
            "<b>South Florida</b><br>Time Period: 2020-Q1<br>Class A Rent: $42.72<br>Class O Rent: $29.79<br>A/O Ratio: 1.43",
            "<b>Tampa</b><br>Time Period: 2020-Q1<br>Class A Rent: $30.91<br>Class O Rent: $22.64<br>A/O Ratio: 1.37"
           ],
           "type": "scattergeo"
          }
         ],
         "layout": {
          "title": {
           "text": "US Market Rental Rates Over Time: 2020-Q1"
          }
         },
         "name": "2020-Q1"
        },
        {
         "data": [
          {
           "hoverinfo": "text",
           "lat": [
            33.749,
            30.2672,
            39.2908,
            42.3601,
            35.2271,
            42.047,
            42.3315,
            29.7604,
            34.0522,
            40.7831,
            36.1627,
            40.7357,
            38.8816,
            39.9526,
            33.4484,
            40.7608,
            32.7157,
            37.7749,
            47.6062,
            25.7617,
            27.9506
           ],
           "lon": [
            -84.388,
            -97.7431,
            -76.6108,
            -71.0589,
            -80.8431,
            -87.6846,
            -83.0466,
            -95.3698,
            -118.2437,
            -73.9712,
            -86.7816,
            -74.1724,
            -77.091,
            -75.1652,
            -112.074,
            -111.891,
            -117.1611,
            -122.4194,
            -122.3321,
            -80.1918,
            -82.4572
           ],
           "marker": {
            "cmax": 94.19122422000001,
            "cmin": 20.99818657,
            "color": [
             32.49196977,
             43.28926185,
             26.66551415,
             49.81808678000001,
             33.84106114,
             27.68714968,
             22.09176686,
             33.44571655,
             46.10322123,
             91.62468373,
             32.72677658,
             30.073832320000005,
             36.78743033,
             30.5886338,
             31.9660791,
             29.095826870000003,
             42.09533932,
             82.52722043,
             48.29109267,
             42.29254743,
             31.00426371
            ],
            "colorbar": {
             "len": 0.6,
             "thickness": 15,
             "title": {
              "text": "Class A Rent ($)"
             },
             "y": 0.5,
             "yanchor": "middle"
            },
            "colorscale": [
             [
              0,
              "#440154"
             ],
             [
              0.1111111111111111,
              "#482878"
             ],
             [
              0.2222222222222222,
              "#3e4989"
             ],
             [
              0.3333333333333333,
              "#31688e"
             ],
             [
              0.4444444444444444,
              "#26828e"
             ],
             [
              0.5555555555555556,
              "#1f9e89"
             ],
             [
              0.6666666666666666,
              "#35b779"
             ],
             [
              0.7777777777777778,
              "#6ece58"
             ],
             [
              0.8888888888888888,
              "#b5de2b"
             ],
             [
              1,
              "#fde725"
             ]
            ],
            "line": {
             "color": "DarkSlateGrey",
             "width": 1
            },
            "size": [
             12.489142932461313,
             16.722825857188944,
             10.861832382642746,
             19.88311941918504,
             12.940009241212783,
             11.10507953217608,
             10.073051871285442,
             12.80530512668557,
             18.035197795982672,
             47.91463110224794,
             12.565807331157506,
             11.74651225568155,
             14.007719598297681,
             11.897202219346703,
             12.320278487328657,
             11.471949993507772,
             16.19000649817962,
             40.8301386335616,
             19.108146460225917,
             16.277001727301666,
             12.021860109883441
            ]
           },
           "mode": "markers",
           "name": "2020-Q2",
           "text": [
            "<b>Atlanta</b><br>Time Period: 2020-Q2<br>Class A Rent: $32.49<br>Class O Rent: $22.23<br>A/O Ratio: 1.46",
            "<b>Austin</b><br>Time Period: 2020-Q2<br>Class A Rent: $43.29<br>Class O Rent: $34.76<br>A/O Ratio: 1.25",
            "<b>Baltimore</b><br>Time Period: 2020-Q2<br>Class A Rent: $26.67<br>Class O Rent: $20.21<br>A/O Ratio: 1.32",
            "<b>Boston</b><br>Time Period: 2020-Q2<br>Class A Rent: $49.82<br>Class O Rent: $24.12<br>A/O Ratio: 2.07",
            "<b>Charlotte</b><br>Time Period: 2020-Q2<br>Class A Rent: $33.84<br>Class O Rent: $25.85<br>A/O Ratio: 1.31",
            "<b>Chicago Suburbs</b><br>Time Period: 2020-Q2<br>Class A Rent: $27.69<br>Class O Rent: $20.47<br>A/O Ratio: 1.35",
            "<b>Detroit</b><br>Time Period: 2020-Q2<br>Class A Rent: $22.09<br>Class O Rent: $18.38<br>A/O Ratio: 1.20",
            "<b>Houston</b><br>Time Period: 2020-Q2<br>Class A Rent: $33.45<br>Class O Rent: $21.68<br>A/O Ratio: 1.54",
            "<b>Los Angeles</b><br>Time Period: 2020-Q2<br>Class A Rent: $46.10<br>Class O Rent: $38.95<br>A/O Ratio: 1.18",
            "<b>Manhattan</b><br>Time Period: 2020-Q2<br>Class A Rent: $91.62<br>Class O Rent: $63.91<br>A/O Ratio: 1.43",
            "<b>Nashville</b><br>Time Period: 2020-Q2<br>Class A Rent: $32.73<br>Class O Rent: $26.44<br>A/O Ratio: 1.24",
            "<b>Northern New Jersey</b><br>Time Period: 2020-Q2<br>Class A Rent: $30.07<br>Class O Rent: $23.64<br>A/O Ratio: 1.27",
            "<b>Northern Virginia</b><br>Time Period: 2020-Q2<br>Class A Rent: $36.79<br>Class O Rent: $30.97<br>A/O Ratio: 1.19",
            "<b>Philadelphia</b><br>Time Period: 2020-Q2<br>Class A Rent: $30.59<br>Class O Rent: $25.56<br>A/O Ratio: 1.20",
            "<b>Phoenix</b><br>Time Period: 2020-Q2<br>Class A Rent: $31.97<br>Class O Rent: $24.83<br>A/O Ratio: 1.29",
            "<b>Salt Lake City</b><br>Time Period: 2020-Q2<br>Class A Rent: $29.10<br>Class O Rent: $21.55<br>A/O Ratio: 1.35",
            "<b>San Diego</b><br>Time Period: 2020-Q2<br>Class A Rent: $42.10<br>Class O Rent: $33.80<br>A/O Ratio: 1.25",
            "<b>San Francisco</b><br>Time Period: 2020-Q2<br>Class A Rent: $82.53<br>Class O Rent: $74.24<br>A/O Ratio: 1.11",
            "<b>Seattle</b><br>Time Period: 2020-Q2<br>Class A Rent: $48.29<br>Class O Rent: $30.48<br>A/O Ratio: 1.58",
            "<b>South Florida</b><br>Time Period: 2020-Q2<br>Class A Rent: $42.29<br>Class O Rent: $29.92<br>A/O Ratio: 1.41",
            "<b>Tampa</b><br>Time Period: 2020-Q2<br>Class A Rent: $31.00<br>Class O Rent: $22.19<br>A/O Ratio: 1.40"
           ],
           "type": "scattergeo"
          }
         ],
         "layout": {
          "title": {
           "text": "US Market Rental Rates Over Time: 2020-Q2"
          }
         },
         "name": "2020-Q2"
        },
        {
         "data": [
          {
           "hoverinfo": "text",
           "lat": [
            33.749,
            30.2672,
            39.2908,
            42.3601,
            35.2271,
            42.047,
            42.3315,
            29.7604,
            34.0522,
            40.7831,
            36.1627,
            40.7357,
            38.8816,
            39.9526,
            33.4484,
            40.7608,
            32.7157,
            37.7749,
            47.6062,
            25.7617,
            27.9506
           ],
           "lon": [
            -84.388,
            -97.7431,
            -76.6108,
            -71.0589,
            -80.8431,
            -87.6846,
            -83.0466,
            -95.3698,
            -118.2437,
            -73.9712,
            -86.7816,
            -74.1724,
            -77.091,
            -75.1652,
            -112.074,
            -111.891,
            -117.1611,
            -122.4194,
            -122.3321,
            -80.1918,
            -82.4572
           ],
           "marker": {
            "cmax": 94.19122422000001,
            "cmin": 20.99818657,
            "color": [
             32.57341763,
             43.61915005,
             26.91612825,
             49.91885554,
             33.68227915,
             27.533936470000004,
             22.14573343,
             33.76313541,
             47.07677419,
             90.07823823,
             32.2759368,
             30.06111969,
             36.836126,
             30.61098605,
             31.94833369,
             26.89024161,
             41.71731433,
             78.69029775,
             45.71314585,
             41.84466578,
             31.31530322
            ],
            "colorbar": {
             "len": 0.6,
             "thickness": 15,
             "title": {
              "text": "Class A Rent ($)"
             },
             "y": 0.5,
             "yanchor": "middle"
            },
            "colorscale": [
             [
              0,
              "#440154"
             ],
             [
              0.1111111111111111,
              "#482878"
             ],
             [
              0.2222222222222222,
              "#3e4989"
             ],
             [
              0.3333333333333333,
              "#31688e"
             ],
             [
              0.4444444444444444,
              "#26828e"
             ],
             [
              0.5555555555555556,
              "#1f9e89"
             ],
             [
              0.6666666666666666,
              "#35b779"
             ],
             [
              0.7777777777777778,
              "#6ece58"
             ],
             [
              0.8888888888888888,
              "#b5de2b"
             ],
             [
              1,
              "#fde725"
             ]
            ],
            "line": {
             "color": "DarkSlateGrey",
             "width": 1
            },
            "size": [
             12.51564779561632,
             16.872614465298064,
             10.919626241639875,
             19.934999182348655,
             12.885655211754754,
             11.067329397438108,
             10.078525548278586,
             12.913291567599368,
             18.507097970893643,
             46.676198492061,
             12.419296192390705,
             11.742843923783546,
             14.02627422216747,
             11.90383873537446,
             12.314649652883283,
             10.91359881295163,
             16.024382476067846,
             37.99174554727545,
             17.84865397797167,
             16.080011620783058,
             12.116863454423083
            ]
           },
           "mode": "markers",
           "name": "2020-Q3",
           "text": [
            "<b>Atlanta</b><br>Time Period: 2020-Q3<br>Class A Rent: $32.57<br>Class O Rent: $22.29<br>A/O Ratio: 1.46",
            "<b>Austin</b><br>Time Period: 2020-Q3<br>Class A Rent: $43.62<br>Class O Rent: $34.48<br>A/O Ratio: 1.27",
            "<b>Baltimore</b><br>Time Period: 2020-Q3<br>Class A Rent: $26.92<br>Class O Rent: $20.47<br>A/O Ratio: 1.31",
            "<b>Boston</b><br>Time Period: 2020-Q3<br>Class A Rent: $49.92<br>Class O Rent: $24.41<br>A/O Ratio: 2.05",
            "<b>Charlotte</b><br>Time Period: 2020-Q3<br>Class A Rent: $33.68<br>Class O Rent: $25.81<br>A/O Ratio: 1.31",
            "<b>Chicago Suburbs</b><br>Time Period: 2020-Q3<br>Class A Rent: $27.53<br>Class O Rent: $20.44<br>A/O Ratio: 1.35",
            "<b>Detroit</b><br>Time Period: 2020-Q3<br>Class A Rent: $22.15<br>Class O Rent: $18.70<br>A/O Ratio: 1.18",
            "<b>Houston</b><br>Time Period: 2020-Q3<br>Class A Rent: $33.76<br>Class O Rent: $21.75<br>A/O Ratio: 1.55",
            "<b>Los Angeles</b><br>Time Period: 2020-Q3<br>Class A Rent: $47.08<br>Class O Rent: $38.19<br>A/O Ratio: 1.23",
            "<b>Manhattan</b><br>Time Period: 2020-Q3<br>Class A Rent: $90.08<br>Class O Rent: $62.31<br>A/O Ratio: 1.45",
            "<b>Nashville</b><br>Time Period: 2020-Q3<br>Class A Rent: $32.28<br>Class O Rent: $26.43<br>A/O Ratio: 1.22",
            "<b>Northern New Jersey</b><br>Time Period: 2020-Q3<br>Class A Rent: $30.06<br>Class O Rent: $23.70<br>A/O Ratio: 1.27",
            "<b>Northern Virginia</b><br>Time Period: 2020-Q3<br>Class A Rent: $36.84<br>Class O Rent: $30.90<br>A/O Ratio: 1.19",
            "<b>Philadelphia</b><br>Time Period: 2020-Q3<br>Class A Rent: $30.61<br>Class O Rent: $25.88<br>A/O Ratio: 1.18",
            "<b>Phoenix</b><br>Time Period: 2020-Q3<br>Class A Rent: $31.95<br>Class O Rent: $24.91<br>A/O Ratio: 1.28",
            "<b>Salt Lake City</b><br>Time Period: 2020-Q3<br>Class A Rent: $26.89<br>Class O Rent: $21.31<br>A/O Ratio: 1.26",
            "<b>San Diego</b><br>Time Period: 2020-Q3<br>Class A Rent: $41.72<br>Class O Rent: $33.61<br>A/O Ratio: 1.24",
            "<b>San Francisco</b><br>Time Period: 2020-Q3<br>Class A Rent: $78.69<br>Class O Rent: $71.59<br>A/O Ratio: 1.10",
            "<b>Seattle</b><br>Time Period: 2020-Q3<br>Class A Rent: $45.71<br>Class O Rent: $30.64<br>A/O Ratio: 1.49",
            "<b>South Florida</b><br>Time Period: 2020-Q3<br>Class A Rent: $41.84<br>Class O Rent: $30.28<br>A/O Ratio: 1.38",
            "<b>Tampa</b><br>Time Period: 2020-Q3<br>Class A Rent: $31.32<br>Class O Rent: $22.48<br>A/O Ratio: 1.39"
           ],
           "type": "scattergeo"
          }
         ],
         "layout": {
          "title": {
           "text": "US Market Rental Rates Over Time: 2020-Q3"
          }
         },
         "name": "2020-Q3"
        },
        {
         "data": [
          {
           "hoverinfo": "text",
           "lat": [
            33.749,
            30.2672,
            39.2908,
            42.3601,
            35.2271,
            42.047,
            42.3315,
            29.7604,
            34.0522,
            40.7831,
            36.1627,
            40.7357,
            38.8816,
            39.9526,
            33.4484,
            40.7608,
            32.7157,
            37.7749,
            47.6062,
            25.7617,
            27.9506
           ],
           "lon": [
            -84.388,
            -97.7431,
            -76.6108,
            -71.0589,
            -80.8431,
            -87.6846,
            -83.0466,
            -95.3698,
            -118.2437,
            -73.9712,
            -86.7816,
            -74.1724,
            -77.091,
            -75.1652,
            -112.074,
            -111.891,
            -117.1611,
            -122.4194,
            -122.3321,
            -80.1918,
            -82.4572
           ],
           "marker": {
            "cmax": 94.19122422000001,
            "cmin": 20.99818657,
            "color": [
             32.40704792,
             42.6666746,
             26.84293694,
             50.3381394,
             33.51885473,
             27.59462365,
             22.01816351,
             33.66556409,
             48.18338141,
             87.81981434,
             31.457517179999996,
             29.781918859999998,
             36.74481003,
             30.52583608,
             31.78778031,
             28.42799238,
             41.5003098,
             74.95270215,
             45.38603308,
             42.24195716,
             30.78171305
            ],
            "colorbar": {
             "len": 0.6,
             "thickness": 15,
             "title": {
              "text": "Class A Rent ($)"
             },
             "y": 0.5,
             "yanchor": "middle"
            },
            "colorscale": [
             [
              0,
              "#440154"
             ],
             [
              0.1111111111111111,
              "#482878"
             ],
             [
              0.2222222222222222,
              "#3e4989"
             ],
             [
              0.3333333333333333,
              "#31688e"
             ],
             [
              0.4444444444444444,
              "#26828e"
             ],
             [
              0.5555555555555556,
              "#1f9e89"
             ],
             [
              0.6666666666666666,
              "#35b779"
             ],
             [
              0.7777777777777778,
              "#6ece58"
             ],
             [
              0.8888888888888888,
              "#b5de2b"
             ],
             [
              1,
              "#fde725"
             ]
            ],
            "line": {
             "color": "DarkSlateGrey",
             "width": 1
            },
            "size": [
             12.461607391728718,
             16.44315006775336,
             10.902618612449936,
             20.151832672653917,
             12.83006618425774,
             11.08222975515769,
             10.065802268165232,
             12.87995302940491,
             19.054281838939616,
             44.89240543738562,
             12.160783079084403,
             11.662930007953035,
             13.991503347455126,
             11.878598593200854,
             12.263929886731129,
             11.293664105876037,
             15.929984979387067,
             35.316113288623875,
             17.693350405769607,
             16.254646053127097,
             11.954782629502454
            ]
           },
           "mode": "markers",
           "name": "2020-Q4",
           "text": [
            "<b>Atlanta</b><br>Time Period: 2020-Q4<br>Class A Rent: $32.41<br>Class O Rent: $22.28<br>A/O Ratio: 1.45",
            "<b>Austin</b><br>Time Period: 2020-Q4<br>Class A Rent: $42.67<br>Class O Rent: $34.48<br>A/O Ratio: 1.24",
            "<b>Baltimore</b><br>Time Period: 2020-Q4<br>Class A Rent: $26.84<br>Class O Rent: $20.42<br>A/O Ratio: 1.31",
            "<b>Boston</b><br>Time Period: 2020-Q4<br>Class A Rent: $50.34<br>Class O Rent: $23.90<br>A/O Ratio: 2.11",
            "<b>Charlotte</b><br>Time Period: 2020-Q4<br>Class A Rent: $33.52<br>Class O Rent: $25.61<br>A/O Ratio: 1.31",
            "<b>Chicago Suburbs</b><br>Time Period: 2020-Q4<br>Class A Rent: $27.59<br>Class O Rent: $20.45<br>A/O Ratio: 1.35",
            "<b>Detroit</b><br>Time Period: 2020-Q4<br>Class A Rent: $22.02<br>Class O Rent: $18.87<br>A/O Ratio: 1.17",
            "<b>Houston</b><br>Time Period: 2020-Q4<br>Class A Rent: $33.67<br>Class O Rent: $21.77<br>A/O Ratio: 1.55",
            "<b>Los Angeles</b><br>Time Period: 2020-Q4<br>Class A Rent: $48.18<br>Class O Rent: $38.38<br>A/O Ratio: 1.26",
            "<b>Manhattan</b><br>Time Period: 2020-Q4<br>Class A Rent: $87.82<br>Class O Rent: $61.12<br>A/O Ratio: 1.44",
            "<b>Nashville</b><br>Time Period: 2020-Q4<br>Class A Rent: $31.46<br>Class O Rent: $26.49<br>A/O Ratio: 1.19",
            "<b>Northern New Jersey</b><br>Time Period: 2020-Q4<br>Class A Rent: $29.78<br>Class O Rent: $23.55<br>A/O Ratio: 1.26",
            "<b>Northern Virginia</b><br>Time Period: 2020-Q4<br>Class A Rent: $36.74<br>Class O Rent: $30.84<br>A/O Ratio: 1.19",
            "<b>Philadelphia</b><br>Time Period: 2020-Q4<br>Class A Rent: $30.53<br>Class O Rent: $26.12<br>A/O Ratio: 1.17",
            "<b>Phoenix</b><br>Time Period: 2020-Q4<br>Class A Rent: $31.79<br>Class O Rent: $24.80<br>A/O Ratio: 1.28",
            "<b>Salt Lake City</b><br>Time Period: 2020-Q4<br>Class A Rent: $28.43<br>Class O Rent: $21.15<br>A/O Ratio: 1.34",
            "<b>San Diego</b><br>Time Period: 2020-Q4<br>Class A Rent: $41.50<br>Class O Rent: $33.56<br>A/O Ratio: 1.24",
            "<b>San Francisco</b><br>Time Period: 2020-Q4<br>Class A Rent: $74.95<br>Class O Rent: $69.39<br>A/O Ratio: 1.08",
            "<b>Seattle</b><br>Time Period: 2020-Q4<br>Class A Rent: $45.39<br>Class O Rent: $30.89<br>A/O Ratio: 1.47",
            "<b>South Florida</b><br>Time Period: 2020-Q4<br>Class A Rent: $42.24<br>Class O Rent: $30.22<br>A/O Ratio: 1.40",
            "<b>Tampa</b><br>Time Period: 2020-Q4<br>Class A Rent: $30.78<br>Class O Rent: $22.72<br>A/O Ratio: 1.35"
           ],
           "type": "scattergeo"
          }
         ],
         "layout": {
          "title": {
           "text": "US Market Rental Rates Over Time: 2020-Q4"
          }
         },
         "name": "2020-Q4"
        },
        {
         "data": [
          {
           "hoverinfo": "text",
           "lat": [
            33.749,
            30.2672,
            39.2908,
            42.3601,
            35.2271,
            42.047,
            42.3315,
            29.7604,
            34.0522,
            40.7831,
            36.1627,
            40.7357,
            38.8816,
            39.9526,
            33.4484,
            40.7608,
            32.7157,
            37.7749,
            47.6062,
            25.7617,
            27.9506
           ],
           "lon": [
            -84.388,
            -97.7431,
            -76.6108,
            -71.0589,
            -80.8431,
            -87.6846,
            -83.0466,
            -95.3698,
            -118.2437,
            -73.9712,
            -86.7816,
            -74.1724,
            -77.091,
            -75.1652,
            -112.074,
            -111.891,
            -117.1611,
            -122.4194,
            -122.3321,
            -80.1918,
            -82.4572
           ],
           "marker": {
            "cmax": 94.19122422000001,
            "cmin": 20.99818657,
            "color": [
             32.43716071,
             50.901469750000004,
             26.89671368,
             48.08321062000001,
             33.56389751,
             27.47172194,
             21.677902339999996,
             33.21431487,
             48.83788293,
             86.49529577,
             30.77990753,
             30.25025981,
             36.3246577,
             30.66129303,
             31.61696785,
             26.75912943,
             42.11515419,
             74.88579658,
             46.310142,
             42.29786549,
             31.46788065
            ],
            "colorbar": {
             "len": 0.6,
             "thickness": 15,
             "title": {
              "text": "Class A Rent ($)"
             },
             "y": 0.5,
             "yanchor": "middle"
            },
            "colorscale": [
             [
              0,
              "#440154"
             ],
             [
              0.1111111111111111,
              "#482878"
             ],
             [
              0.2222222222222222,
              "#3e4989"
             ],
             [
              0.3333333333333333,
              "#31688e"
             ],
             [
              0.4444444444444444,
              "#26828e"
             ],
             [
              0.5555555555555556,
              "#1f9e89"
             ],
             [
              0.6666666666666666,
              "#35b779"
             ],
             [
              0.7777777777777778,
              "#6ece58"
             ],
             [
              0.8888888888888888,
              "#b5de2b"
             ],
             [
              1,
              "#fde725"
             ]
            ],
            "line": {
             "color": "DarkSlateGrey",
             "width": 1
            },
            "size": [
             12.471359647675689,
             20.4456060900249,
             10.915104526713733,
             19.00428374835837,
             12.845351545756918,
             11.052125682281094,
             10.035796977028895,
             12.727443180087185,
             19.383223810146053,
             43.860123075371725,
             11.954241530702273,
             11.797686375608642,
             13.832821475005632,
             11.918803404467722,
             12.210382060859395,
             10.883274485552198,
             16.198729213336325,
             35.26903853205535,
             18.134743800525154,
             16.27935330451828,
             12.163995343453397
            ]
           },
           "mode": "markers",
           "name": "2021-Q1",
           "text": [
            "<b>Atlanta</b><br>Time Period: 2021-Q1<br>Class A Rent: $32.44<br>Class O Rent: $23.32<br>A/O Ratio: 1.39",
            "<b>Austin</b><br>Time Period: 2021-Q1<br>Class A Rent: $50.90<br>Class O Rent: $35.56<br>A/O Ratio: 1.43",
            "<b>Baltimore</b><br>Time Period: 2021-Q1<br>Class A Rent: $26.90<br>Class O Rent: $20.69<br>A/O Ratio: 1.30",
            "<b>Boston</b><br>Time Period: 2021-Q1<br>Class A Rent: $48.08<br>Class O Rent: $23.20<br>A/O Ratio: 2.07",
            "<b>Charlotte</b><br>Time Period: 2021-Q1<br>Class A Rent: $33.56<br>Class O Rent: $25.50<br>A/O Ratio: 1.32",
            "<b>Chicago Suburbs</b><br>Time Period: 2021-Q1<br>Class A Rent: $27.47<br>Class O Rent: $20.40<br>A/O Ratio: 1.35",
            "<b>Detroit</b><br>Time Period: 2021-Q1<br>Class A Rent: $21.68<br>Class O Rent: $19.32<br>A/O Ratio: 1.12",
            "<b>Houston</b><br>Time Period: 2021-Q1<br>Class A Rent: $33.21<br>Class O Rent: $21.41<br>A/O Ratio: 1.55",
            "<b>Los Angeles</b><br>Time Period: 2021-Q1<br>Class A Rent: $48.84<br>Class O Rent: $40.48<br>A/O Ratio: 1.21",
            "<b>Manhattan</b><br>Time Period: 2021-Q1<br>Class A Rent: $86.50<br>Class O Rent: $60.03<br>A/O Ratio: 1.44",
            "<b>Nashville</b><br>Time Period: 2021-Q1<br>Class A Rent: $30.78<br>Class O Rent: $26.89<br>A/O Ratio: 1.14",
            "<b>Northern New Jersey</b><br>Time Period: 2021-Q1<br>Class A Rent: $30.25<br>Class O Rent: $24.09<br>A/O Ratio: 1.26",
            "<b>Northern Virginia</b><br>Time Period: 2021-Q1<br>Class A Rent: $36.32<br>Class O Rent: $30.86<br>A/O Ratio: 1.18",
            "<b>Philadelphia</b><br>Time Period: 2021-Q1<br>Class A Rent: $30.66<br>Class O Rent: $26.06<br>A/O Ratio: 1.18",
            "<b>Phoenix</b><br>Time Period: 2021-Q1<br>Class A Rent: $31.62<br>Class O Rent: $25.12<br>A/O Ratio: 1.26",
            "<b>Salt Lake City</b><br>Time Period: 2021-Q1<br>Class A Rent: $26.76<br>Class O Rent: $21.35<br>A/O Ratio: 1.25",
            "<b>San Diego</b><br>Time Period: 2021-Q1<br>Class A Rent: $42.12<br>Class O Rent: $33.38<br>A/O Ratio: 1.26",
            "<b>San Francisco</b><br>Time Period: 2021-Q1<br>Class A Rent: $74.89<br>Class O Rent: $67.95<br>A/O Ratio: 1.10",
            "<b>Seattle</b><br>Time Period: 2021-Q1<br>Class A Rent: $46.31<br>Class O Rent: $31.21<br>A/O Ratio: 1.48",
            "<b>South Florida</b><br>Time Period: 2021-Q1<br>Class A Rent: $42.30<br>Class O Rent: $30.72<br>A/O Ratio: 1.38",
            "<b>Tampa</b><br>Time Period: 2021-Q1<br>Class A Rent: $31.47<br>Class O Rent: $22.93<br>A/O Ratio: 1.37"
           ],
           "type": "scattergeo"
          }
         ],
         "layout": {
          "title": {
           "text": "US Market Rental Rates Over Time: 2021-Q1"
          }
         },
         "name": "2021-Q1"
        },
        {
         "data": [
          {
           "hoverinfo": "text",
           "lat": [
            33.749,
            30.2672,
            39.2908,
            42.3601,
            35.2271,
            42.047,
            42.3315,
            29.7604,
            34.0522,
            40.7831,
            36.1627,
            40.7357,
            38.8816,
            39.9526,
            33.4484,
            40.7608,
            32.7157,
            37.7749,
            47.6062,
            25.7617,
            27.9506
           ],
           "lon": [
            -84.388,
            -97.7431,
            -76.6108,
            -71.0589,
            -80.8431,
            -87.6846,
            -83.0466,
            -95.3698,
            -118.2437,
            -73.9712,
            -86.7816,
            -74.1724,
            -77.091,
            -75.1652,
            -112.074,
            -111.891,
            -117.1611,
            -122.4194,
            -122.3321,
            -80.1918,
            -82.4572
           ],
           "marker": {
            "cmax": 94.19122422000001,
            "cmin": 20.99818657,
            "color": [
             32.24941719,
             50.396920380000005,
             26.6056802,
             48.05140326,
             33.10255012,
             27.46122989,
             21.534965949999997,
             33.57023992,
             48.44900466,
             85.14009618,
             33.17031368,
             30.25059987,
             36.09875528,
             31.12158229,
             31.34749592,
             26.902646679999997,
             41.86493299,
             74.7293548,
             47.55211805,
             42.19375532,
             32.42542067
            ],
            "colorbar": {
             "len": 0.6,
             "thickness": 15,
             "title": {
              "text": "Class A Rent ($)"
             },
             "y": 0.5,
             "yanchor": "middle"
            },
            "colorscale": [
             [
              0,
              "#440154"
             ],
             [
              0.1111111111111111,
              "#482878"
             ],
             [
              0.2222222222222222,
              "#3e4989"
             ],
             [
              0.3333333333333333,
              "#31688e"
             ],
             [
              0.4444444444444444,
              "#26828e"
             ],
             [
              0.5555555555555556,
              "#1f9e89"
             ],
             [
              0.6666666666666666,
              "#35b779"
             ],
             [
              0.7777777777777778,
              "#6ece58"
             ],
             [
              0.8888888888888888,
              "#b5de2b"
             ],
             [
              1,
              "#fde725"
             ]
            ],
            "line": {
             "color": "DarkSlateGrey",
             "width": 1
            },
            "size": [
             12.410767754793802,
             20.182355904488784,
             10.848220017456072,
             18.988427104108585,
             12.690099059142344,
             11.049568853465857,
             10.025121702631475,
             12.847506059318393,
             19.187307906586952,
             42.814679141596216,
             12.712720518634864,
             11.797785487477455,
             13.748394479832253,
             12.05752279009198,
             12.126779114780643,
             10.916485552880532,
             16.0888803714547,
             35.15908015167117,
             18.74074759467318,
             16.23337056681485,
             12.467556017850441
            ]
           },
           "mode": "markers",
           "name": "2021-Q2",
           "text": [
            "<b>Atlanta</b><br>Time Period: 2021-Q2<br>Class A Rent: $32.25<br>Class O Rent: $23.27<br>A/O Ratio: 1.39",
            "<b>Austin</b><br>Time Period: 2021-Q2<br>Class A Rent: $50.40<br>Class O Rent: $35.58<br>A/O Ratio: 1.42",
            "<b>Baltimore</b><br>Time Period: 2021-Q2<br>Class A Rent: $26.61<br>Class O Rent: $20.78<br>A/O Ratio: 1.28",
            "<b>Boston</b><br>Time Period: 2021-Q2<br>Class A Rent: $48.05<br>Class O Rent: $23.62<br>A/O Ratio: 2.03",
            "<b>Charlotte</b><br>Time Period: 2021-Q2<br>Class A Rent: $33.10<br>Class O Rent: $25.54<br>A/O Ratio: 1.30",
            "<b>Chicago Suburbs</b><br>Time Period: 2021-Q2<br>Class A Rent: $27.46<br>Class O Rent: $20.40<br>A/O Ratio: 1.35",
            "<b>Detroit</b><br>Time Period: 2021-Q2<br>Class A Rent: $21.53<br>Class O Rent: $19.35<br>A/O Ratio: 1.11",
            "<b>Houston</b><br>Time Period: 2021-Q2<br>Class A Rent: $33.57<br>Class O Rent: $21.02<br>A/O Ratio: 1.60",
            "<b>Los Angeles</b><br>Time Period: 2021-Q2<br>Class A Rent: $48.45<br>Class O Rent: $40.62<br>A/O Ratio: 1.19",
            "<b>Manhattan</b><br>Time Period: 2021-Q2<br>Class A Rent: $85.14<br>Class O Rent: $60.60<br>A/O Ratio: 1.40",
            "<b>Nashville</b><br>Time Period: 2021-Q2<br>Class A Rent: $33.17<br>Class O Rent: $27.50<br>A/O Ratio: 1.21",
            "<b>Northern New Jersey</b><br>Time Period: 2021-Q2<br>Class A Rent: $30.25<br>Class O Rent: $24.87<br>A/O Ratio: 1.22",
            "<b>Northern Virginia</b><br>Time Period: 2021-Q2<br>Class A Rent: $36.10<br>Class O Rent: $30.87<br>A/O Ratio: 1.17",
            "<b>Philadelphia</b><br>Time Period: 2021-Q2<br>Class A Rent: $31.12<br>Class O Rent: $26.16<br>A/O Ratio: 1.19",
            "<b>Phoenix</b><br>Time Period: 2021-Q2<br>Class A Rent: $31.35<br>Class O Rent: $24.85<br>A/O Ratio: 1.26",
            "<b>Salt Lake City</b><br>Time Period: 2021-Q2<br>Class A Rent: $26.90<br>Class O Rent: $22.52<br>A/O Ratio: 1.19",
            "<b>San Diego</b><br>Time Period: 2021-Q2<br>Class A Rent: $41.86<br>Class O Rent: $32.84<br>A/O Ratio: 1.27",
            "<b>San Francisco</b><br>Time Period: 2021-Q2<br>Class A Rent: $74.73<br>Class O Rent: $67.62<br>A/O Ratio: 1.11",
            "<b>Seattle</b><br>Time Period: 2021-Q2<br>Class A Rent: $47.55<br>Class O Rent: $30.80<br>A/O Ratio: 1.54",
            "<b>South Florida</b><br>Time Period: 2021-Q2<br>Class A Rent: $42.19<br>Class O Rent: $31.37<br>A/O Ratio: 1.34",
            "<b>Tampa</b><br>Time Period: 2021-Q2<br>Class A Rent: $32.43<br>Class O Rent: $23.10<br>A/O Ratio: 1.40"
           ],
           "type": "scattergeo"
          }
         ],
         "layout": {
          "title": {
           "text": "US Market Rental Rates Over Time: 2021-Q2"
          }
         },
         "name": "2021-Q2"
        },
        {
         "data": [
          {
           "hoverinfo": "text",
           "lat": [
            33.749,
            30.2672,
            39.2908,
            42.3601,
            35.2271,
            42.047,
            42.3315,
            29.7604,
            34.0522,
            40.7831,
            36.1627,
            40.7357,
            38.8816,
            39.9526,
            33.4484,
            40.7608,
            32.7157,
            37.7749,
            47.6062,
            25.7617,
            27.9506
           ],
           "lon": [
            -84.388,
            -97.7431,
            -76.6108,
            -71.0589,
            -80.8431,
            -87.6846,
            -83.0466,
            -95.3698,
            -118.2437,
            -73.9712,
            -86.7816,
            -74.1724,
            -77.091,
            -75.1652,
            -112.074,
            -111.891,
            -117.1611,
            -122.4194,
            -122.3321,
            -80.1918,
            -82.4572
           ],
           "marker": {
            "cmax": 94.19122422000001,
            "cmin": 20.99818657,
            "color": [
             32.69379471,
             51.37692669,
             26.39320816,
             48.57709421,
             33.39616824,
             27.34107064,
             21.40166547,
             33.69328475,
             49.25023031,
             84.39445335,
             33.15426703,
             30.78686691,
             36.47598649,
             31.32313671,
             31.11715309,
             28.426806080000002,
             41.57759568000001,
             75.98389396,
             47.96338942,
             42.22910313,
             32.05637553
            ],
            "colorbar": {
             "len": 0.6,
             "thickness": 15,
             "title": {
              "text": "Class A Rent ($)"
             },
             "y": 0.5,
             "yanchor": "middle"
            },
            "colorscale": [
             [
              0,
              "#440154"
             ],
             [
              0.1111111111111111,
              "#482878"
             ],
             [
              0.2222222222222222,
              "#3e4989"
             ],
             [
              0.3333333333333333,
              "#31688e"
             ],
             [
              0.4444444444444444,
              "#26828e"
             ],
             [
              0.5555555555555556,
              "#1f9e89"
             ],
             [
              0.6666666666666666,
              "#35b779"
             ],
             [
              0.7777777777777778,
              "#6ece58"
             ],
             [
              0.8888888888888888,
              "#b5de2b"
             ],
             [
              1,
              "#fde725"
             ]
            ],
            "line": {
             "color": "DarkSlateGrey",
             "width": 1
            },
            "size": [
             12.554992015447526,
             20.69571868991816,
             10.800470100229496,
             19.251686853916432,
             12.78857172094467,
             11.020435349039388,
             10.016371428517255,
             12.889411718742977,
             19.592463136551373,
             42.24414462445277,
             12.707357972719377,
             11.95632747164843,
             13.88972749158759,
             12.119274822323586,
             12.056172623114579,
             11.293354283686813,
             15.96354753360656,
             36.04534166304239,
             18.944598922416446,
             16.24897013663673,
             12.348990953206647
            ]
           },
           "mode": "markers",
           "name": "2021-Q3",
           "text": [
            "<b>Atlanta</b><br>Time Period: 2021-Q3<br>Class A Rent: $32.69<br>Class O Rent: $23.39<br>A/O Ratio: 1.40",
            "<b>Austin</b><br>Time Period: 2021-Q3<br>Class A Rent: $51.38<br>Class O Rent: $35.75<br>A/O Ratio: 1.44",
            "<b>Baltimore</b><br>Time Period: 2021-Q3<br>Class A Rent: $26.39<br>Class O Rent: $21.03<br>A/O Ratio: 1.26",
            "<b>Boston</b><br>Time Period: 2021-Q3<br>Class A Rent: $48.58<br>Class O Rent: $22.69<br>A/O Ratio: 2.14",
            "<b>Charlotte</b><br>Time Period: 2021-Q3<br>Class A Rent: $33.40<br>Class O Rent: $24.89<br>A/O Ratio: 1.34",
            "<b>Chicago Suburbs</b><br>Time Period: 2021-Q3<br>Class A Rent: $27.34<br>Class O Rent: $20.32<br>A/O Ratio: 1.35",
            "<b>Detroit</b><br>Time Period: 2021-Q3<br>Class A Rent: $21.40<br>Class O Rent: $19.42<br>A/O Ratio: 1.10",
            "<b>Houston</b><br>Time Period: 2021-Q3<br>Class A Rent: $33.69<br>Class O Rent: $21.26<br>A/O Ratio: 1.59",
            "<b>Los Angeles</b><br>Time Period: 2021-Q3<br>Class A Rent: $49.25<br>Class O Rent: $39.85<br>A/O Ratio: 1.24",
            "<b>Manhattan</b><br>Time Period: 2021-Q3<br>Class A Rent: $84.39<br>Class O Rent: $60.45<br>A/O Ratio: 1.40",
            "<b>Nashville</b><br>Time Period: 2021-Q3<br>Class A Rent: $33.15<br>Class O Rent: $28.61<br>A/O Ratio: 1.16",
            "<b>Northern New Jersey</b><br>Time Period: 2021-Q3<br>Class A Rent: $30.79<br>Class O Rent: $24.84<br>A/O Ratio: 1.24",
            "<b>Northern Virginia</b><br>Time Period: 2021-Q3<br>Class A Rent: $36.48<br>Class O Rent: $30.88<br>A/O Ratio: 1.18",
            "<b>Philadelphia</b><br>Time Period: 2021-Q3<br>Class A Rent: $31.32<br>Class O Rent: $26.38<br>A/O Ratio: 1.19",
            "<b>Phoenix</b><br>Time Period: 2021-Q3<br>Class A Rent: $31.12<br>Class O Rent: $24.74<br>A/O Ratio: 1.26",
            "<b>Salt Lake City</b><br>Time Period: 2021-Q3<br>Class A Rent: $28.43<br>Class O Rent: $22.57<br>A/O Ratio: 1.26",
            "<b>San Diego</b><br>Time Period: 2021-Q3<br>Class A Rent: $41.58<br>Class O Rent: $32.67<br>A/O Ratio: 1.27",
            "<b>San Francisco</b><br>Time Period: 2021-Q3<br>Class A Rent: $75.98<br>Class O Rent: $67.50<br>A/O Ratio: 1.13",
            "<b>Seattle</b><br>Time Period: 2021-Q3<br>Class A Rent: $47.96<br>Class O Rent: $30.53<br>A/O Ratio: 1.57",
            "<b>South Florida</b><br>Time Period: 2021-Q3<br>Class A Rent: $42.23<br>Class O Rent: $31.86<br>A/O Ratio: 1.33",
            "<b>Tampa</b><br>Time Period: 2021-Q3<br>Class A Rent: $32.06<br>Class O Rent: $23.47<br>A/O Ratio: 1.37"
           ],
           "type": "scattergeo"
          }
         ],
         "layout": {
          "title": {
           "text": "US Market Rental Rates Over Time: 2021-Q3"
          }
         },
         "name": "2021-Q3"
        },
        {
         "data": [
          {
           "hoverinfo": "text",
           "lat": [
            33.749,
            30.2672,
            39.2908,
            42.3601,
            35.2271,
            42.047,
            42.3315,
            29.7604,
            34.0522,
            40.7831,
            36.1627,
            40.7357,
            38.8816,
            39.9526,
            33.4484,
            40.7608,
            32.7157,
            37.7749,
            47.6062,
            25.7617,
            27.9506
           ],
           "lon": [
            -84.388,
            -97.7431,
            -76.6108,
            -71.0589,
            -80.8431,
            -87.6846,
            -83.0466,
            -95.3698,
            -118.2437,
            -73.9712,
            -86.7816,
            -74.1724,
            -77.091,
            -75.1652,
            -112.074,
            -111.891,
            -117.1611,
            -122.4194,
            -122.3321,
            -80.1918,
            -82.4572
           ],
           "marker": {
            "cmax": 94.19122422000001,
            "cmin": 20.99818657,
            "color": [
             32.79280138,
             50.56986320000001,
             26.412394350000003,
             50.11393128,
             33.42175479,
             27.44096837,
             21.822171900000004,
             33.86086669,
             49.319875399999994,
             85.37979916,
             33.05510841,
             30.79132291,
             36.73025452,
             30.8592348,
             31.12640831,
             28.35498436,
             42.71275286,
             75.9233323,
             46.76825122,
             44.427694880000004,
             31.770659859999995
            ],
            "colorbar": {
             "len": 0.6,
             "thickness": 15,
             "title": {
              "text": "Class A Rent ($)"
             },
             "y": 0.5,
             "yanchor": "middle"
            },
            "colorscale": [
             [
              0,
              "#440154"
             ],
             [
              0.1111111111111111,
              "#482878"
             ],
             [
              0.2222222222222222,
              "#3e4989"
             ],
             [
              0.3333333333333333,
              "#31688e"
             ],
             [
              0.4444444444444444,
              "#26828e"
             ],
             [
              0.5555555555555556,
              "#1f9e89"
             ],
             [
              0.6666666666666666,
              "#35b779"
             ],
             [
              0.7777777777777778,
              "#6ece58"
             ],
             [
              0.8888888888888888,
              "#b5de2b"
             ],
             [
              1,
              "#fde725"
             ]
            ],
            "line": {
             "color": "DarkSlateGrey",
             "width": 1
            },
            "size": [
             12.587503686843444,
             20.272336953329315,
             10.804743934187215,
             20.0356888570115,
             12.797208618235123,
             11.044637155612444,
             10.0477787247065,
             12.946812734828555,
             19.627955056090414,
             42.99879715273015,
             12.674299248666706,
             11.957663461830672,
             13.98597026230977,
             11.978062266123365,
             12.058994257235524,
             11.274642992260961,
             16.463713126111216,
             36.002323719048206,
             18.35658040242239,
             17.244361200278487,
             12.258543569160238
            ]
           },
           "mode": "markers",
           "name": "2021-Q4",
           "text": [
            "<b>Atlanta</b><br>Time Period: 2021-Q4<br>Class A Rent: $32.79<br>Class O Rent: $23.74<br>A/O Ratio: 1.38",
            "<b>Austin</b><br>Time Period: 2021-Q4<br>Class A Rent: $50.57<br>Class O Rent: $35.54<br>A/O Ratio: 1.42",
            "<b>Baltimore</b><br>Time Period: 2021-Q4<br>Class A Rent: $26.41<br>Class O Rent: $21.25<br>A/O Ratio: 1.24",
            "<b>Boston</b><br>Time Period: 2021-Q4<br>Class A Rent: $50.11<br>Class O Rent: $22.83<br>A/O Ratio: 2.19",
            "<b>Charlotte</b><br>Time Period: 2021-Q4<br>Class A Rent: $33.42<br>Class O Rent: $25.41<br>A/O Ratio: 1.32",
            "<b>Chicago Suburbs</b><br>Time Period: 2021-Q4<br>Class A Rent: $27.44<br>Class O Rent: $20.33<br>A/O Ratio: 1.35",
            "<b>Detroit</b><br>Time Period: 2021-Q4<br>Class A Rent: $21.82<br>Class O Rent: $19.54<br>A/O Ratio: 1.12",
            "<b>Houston</b><br>Time Period: 2021-Q4<br>Class A Rent: $33.86<br>Class O Rent: $21.32<br>A/O Ratio: 1.59",
            "<b>Los Angeles</b><br>Time Period: 2021-Q4<br>Class A Rent: $49.32<br>Class O Rent: $40.27<br>A/O Ratio: 1.22",
            "<b>Manhattan</b><br>Time Period: 2021-Q4<br>Class A Rent: $85.38<br>Class O Rent: $60.80<br>A/O Ratio: 1.40",
            "<b>Nashville</b><br>Time Period: 2021-Q4<br>Class A Rent: $33.06<br>Class O Rent: $27.91<br>A/O Ratio: 1.18",
            "<b>Northern New Jersey</b><br>Time Period: 2021-Q4<br>Class A Rent: $30.79<br>Class O Rent: $24.95<br>A/O Ratio: 1.23",
            "<b>Northern Virginia</b><br>Time Period: 2021-Q4<br>Class A Rent: $36.73<br>Class O Rent: $31.37<br>A/O Ratio: 1.17",
            "<b>Philadelphia</b><br>Time Period: 2021-Q4<br>Class A Rent: $30.86<br>Class O Rent: $26.55<br>A/O Ratio: 1.16",
            "<b>Phoenix</b><br>Time Period: 2021-Q4<br>Class A Rent: $31.13<br>Class O Rent: $25.05<br>A/O Ratio: 1.24",
            "<b>Salt Lake City</b><br>Time Period: 2021-Q4<br>Class A Rent: $28.35<br>Class O Rent: $22.72<br>A/O Ratio: 1.25",
            "<b>San Diego</b><br>Time Period: 2021-Q4<br>Class A Rent: $42.71<br>Class O Rent: $32.59<br>A/O Ratio: 1.31",
            "<b>San Francisco</b><br>Time Period: 2021-Q4<br>Class A Rent: $75.92<br>Class O Rent: $67.13<br>A/O Ratio: 1.13",
            "<b>Seattle</b><br>Time Period: 2021-Q4<br>Class A Rent: $46.77<br>Class O Rent: $31.27<br>A/O Ratio: 1.50",
            "<b>South Florida</b><br>Time Period: 2021-Q4<br>Class A Rent: $44.43<br>Class O Rent: $32.25<br>A/O Ratio: 1.38",
            "<b>Tampa</b><br>Time Period: 2021-Q4<br>Class A Rent: $31.77<br>Class O Rent: $23.84<br>A/O Ratio: 1.33"
           ],
           "type": "scattergeo"
          }
         ],
         "layout": {
          "title": {
           "text": "US Market Rental Rates Over Time: 2021-Q4"
          }
         },
         "name": "2021-Q4"
        },
        {
         "data": [
          {
           "hoverinfo": "text",
           "lat": [
            33.749,
            30.2672,
            39.2908,
            42.3601,
            35.2271,
            42.047,
            42.3315,
            29.7604,
            34.0522,
            40.7831,
            36.1627,
            40.7357,
            38.8816,
            39.9526,
            33.4484,
            40.7608,
            32.7157,
            37.7749,
            47.6062,
            25.7617,
            27.9506
           ],
           "lon": [
            -84.388,
            -97.7431,
            -76.6108,
            -71.0589,
            -80.8431,
            -87.6846,
            -83.0466,
            -95.3698,
            -118.2437,
            -73.9712,
            -86.7816,
            -74.1724,
            -77.091,
            -75.1652,
            -112.074,
            -111.891,
            -117.1611,
            -122.4194,
            -122.3321,
            -80.1918,
            -82.4572
           ],
           "marker": {
            "cmax": 94.19122422000001,
            "cmin": 20.99818657,
            "color": [
             33.34794779,
             51.52333868,
             26.65166289,
             50.24656391,
             34.22005499,
             28.68430645,
             21.79501862,
             33.98076837,
             49.13597298,
             86.99263961000001,
             33.54890558,
             30.43365093,
             36.68109606,
             31.469416400000004,
             31.34013862,
             28.30934484,
             43.6567127,
             76.61935241,
             50.672479530000004,
             45.40952801,
             32.43281874
            ],
            "colorbar": {
             "len": 0.6,
             "thickness": 15,
             "title": {
              "text": "Class A Rent ($)"
             },
             "y": 0.5,
             "yanchor": "middle"
            },
            "colorscale": [
             [
              0,
              "#440154"
             ],
             [
              0.1111111111111111,
              "#482878"
             ],
             [
              0.2222222222222222,
              "#3e4989"
             ],
             [
              0.3333333333333333,
              "#31688e"
             ],
             [
              0.4444444444444444,
              "#26828e"
             ],
             [
              0.5555555555555556,
              "#1f9e89"
             ],
             [
              0.6666666666666666,
              "#35b779"
             ],
             [
              0.7777777777777778,
              "#6ece58"
             ],
             [
              0.8888888888888888,
              "#b5de2b"
             ],
             [
              1,
              "#fde725"
             ]
            ],
            "line": {
             "color": "DarkSlateGrey",
             "width": 1
            },
            "size": [
             12.772318831428048,
             20.77313467748018,
             10.858674765411855,
             20.10434112065865,
             13.07110440040547,
             11.361181584077482,
             10.045436568497758,
             12.98811243919144,
             19.534331040127753,
             44.246522990317445,
             12.8402609561219,
             11.851399967484634,
             13.967302244947435,
             12.164471500305572,
             12.124511634380845,
             11.26280011336237,
             16.889739780266975,
             36.498144578689896,
             20.325852186856743,
             17.70447059157826,
             12.469952674770862
            ]
           },
           "mode": "markers",
           "name": "2022-Q1",
           "text": [
            "<b>Atlanta</b><br>Time Period: 2022-Q1<br>Class A Rent: $33.35<br>Class O Rent: $23.43<br>A/O Ratio: 1.42",
            "<b>Austin</b><br>Time Period: 2022-Q1<br>Class A Rent: $51.52<br>Class O Rent: $36.72<br>A/O Ratio: 1.40",
            "<b>Baltimore</b><br>Time Period: 2022-Q1<br>Class A Rent: $26.65<br>Class O Rent: $21.39<br>A/O Ratio: 1.25",
            "<b>Boston</b><br>Time Period: 2022-Q1<br>Class A Rent: $50.25<br>Class O Rent: $21.84<br>A/O Ratio: 2.30",
            "<b>Charlotte</b><br>Time Period: 2022-Q1<br>Class A Rent: $34.22<br>Class O Rent: $25.75<br>A/O Ratio: 1.33",
            "<b>Chicago Suburbs</b><br>Time Period: 2022-Q1<br>Class A Rent: $28.68<br>Class O Rent: $21.31<br>A/O Ratio: 1.35",
            "<b>Detroit</b><br>Time Period: 2022-Q1<br>Class A Rent: $21.80<br>Class O Rent: $19.86<br>A/O Ratio: 1.10",
            "<b>Houston</b><br>Time Period: 2022-Q1<br>Class A Rent: $33.98<br>Class O Rent: $21.56<br>A/O Ratio: 1.58",
            "<b>Los Angeles</b><br>Time Period: 2022-Q1<br>Class A Rent: $49.14<br>Class O Rent: $40.58<br>A/O Ratio: 1.21",
            "<b>Manhattan</b><br>Time Period: 2022-Q1<br>Class A Rent: $86.99<br>Class O Rent: $61.12<br>A/O Ratio: 1.42",
            "<b>Nashville</b><br>Time Period: 2022-Q1<br>Class A Rent: $33.55<br>Class O Rent: $28.06<br>A/O Ratio: 1.20",
            "<b>Northern New Jersey</b><br>Time Period: 2022-Q1<br>Class A Rent: $30.43<br>Class O Rent: $25.42<br>A/O Ratio: 1.20",
            "<b>Northern Virginia</b><br>Time Period: 2022-Q1<br>Class A Rent: $36.68<br>Class O Rent: $31.47<br>A/O Ratio: 1.17",
            "<b>Philadelphia</b><br>Time Period: 2022-Q1<br>Class A Rent: $31.47<br>Class O Rent: $26.62<br>A/O Ratio: 1.18",
            "<b>Phoenix</b><br>Time Period: 2022-Q1<br>Class A Rent: $31.34<br>Class O Rent: $24.83<br>A/O Ratio: 1.26",
            "<b>Salt Lake City</b><br>Time Period: 2022-Q1<br>Class A Rent: $28.31<br>Class O Rent: $23.19<br>A/O Ratio: 1.22",
            "<b>San Diego</b><br>Time Period: 2022-Q1<br>Class A Rent: $43.66<br>Class O Rent: $32.96<br>A/O Ratio: 1.32",
            "<b>San Francisco</b><br>Time Period: 2022-Q1<br>Class A Rent: $76.62<br>Class O Rent: $66.66<br>A/O Ratio: 1.15",
            "<b>Seattle</b><br>Time Period: 2022-Q1<br>Class A Rent: $50.67<br>Class O Rent: $33.16<br>A/O Ratio: 1.53",
            "<b>South Florida</b><br>Time Period: 2022-Q1<br>Class A Rent: $45.41<br>Class O Rent: $32.30<br>A/O Ratio: 1.41",
            "<b>Tampa</b><br>Time Period: 2022-Q1<br>Class A Rent: $32.43<br>Class O Rent: $24.12<br>A/O Ratio: 1.34"
           ],
           "type": "scattergeo"
          }
         ],
         "layout": {
          "title": {
           "text": "US Market Rental Rates Over Time: 2022-Q1"
          }
         },
         "name": "2022-Q1"
        },
        {
         "data": [
          {
           "hoverinfo": "text",
           "lat": [
            33.749,
            30.2672,
            39.2908,
            42.3601,
            35.2271,
            42.047,
            42.3315,
            29.7604,
            34.0522,
            40.7831,
            36.1627,
            40.7357,
            38.8816,
            39.9526,
            33.4484,
            40.7608,
            32.7157,
            37.7749,
            47.6062,
            25.7617,
            27.9506
           ],
           "lon": [
            -84.388,
            -97.7431,
            -76.6108,
            -71.0589,
            -80.8431,
            -87.6846,
            -83.0466,
            -95.3698,
            -118.2437,
            -73.9712,
            -86.7816,
            -74.1724,
            -77.091,
            -75.1652,
            -112.074,
            -111.891,
            -117.1611,
            -122.4194,
            -122.3321,
            -80.1918,
            -82.4572
           ],
           "marker": {
            "cmax": 94.19122422000001,
            "cmin": 20.99818657,
            "color": [
             33.2292881,
             49.73180218,
             26.48478913,
             55.4794414,
             35.08141477,
             28.851445529999996,
             21.60212719,
             33.48325637,
             48.77888827,
             86.26675271,
             33.57565346,
             31.26029284,
             36.56083187,
             31.86117083,
             30.841377769999998,
             30.191714209999997,
             44.1058648,
             75.78584644,
             50.70635603,
             46.23172499,
             32.68490548
            ],
            "colorbar": {
             "len": 0.6,
             "thickness": 15,
             "title": {
              "text": "Class A Rent ($)"
             },
             "y": 0.5,
             "yanchor": "middle"
            },
            "colorscale": [
             [
              0,
              "#440154"
             ],
             [
              0.1111111111111111,
              "#482878"
             ],
             [
              0.2222222222222222,
              "#3e4989"
             ],
             [
              0.3333333333333333,
              "#31688e"
             ],
             [
              0.4444444444444444,
              "#26828e"
             ],
             [
              0.5555555555555556,
              "#1f9e89"
             ],
             [
              0.6666666666666666,
              "#35b779"
             ],
             [
              0.7777777777777778,
              "#6ece58"
             ],
             [
              0.8888888888888888,
              "#b5de2b"
             ],
             [
              1,
              "#fde725"
             ]
            ],
            "line": {
             "color": "DarkSlateGrey",
             "width": 1
            },
            "size": [
             12.732459230721457,
             19.838768689031546,
             10.820938430370813,
             22.93391275661925,
             13.376048357660581,
             11.405821599535162,
             10.029981040058868,
             12.818005237866528,
             19.35341385492267,
             43.683052475585036,
             12.849345466157024,
             12.099955518369015,
             13.921755035107138,
             12.287067904913961,
             11.972691692845745,
             11.78065020119268,
             17.095611045964837,
             35.90475327939929,
             20.343539392481567,
             18.09697066363377,
             12.55207969203741
            ]
           },
           "mode": "markers",
           "name": "2022-Q2",
           "text": [
            "<b>Atlanta</b><br>Time Period: 2022-Q2<br>Class A Rent: $33.23<br>Class O Rent: $23.45<br>A/O Ratio: 1.42",
            "<b>Austin</b><br>Time Period: 2022-Q2<br>Class A Rent: $49.73<br>Class O Rent: $36.47<br>A/O Ratio: 1.36",
            "<b>Baltimore</b><br>Time Period: 2022-Q2<br>Class A Rent: $26.48<br>Class O Rent: $21.24<br>A/O Ratio: 1.25",
            "<b>Boston</b><br>Time Period: 2022-Q2<br>Class A Rent: $55.48<br>Class O Rent: $23.10<br>A/O Ratio: 2.40",
            "<b>Charlotte</b><br>Time Period: 2022-Q2<br>Class A Rent: $35.08<br>Class O Rent: $27.06<br>A/O Ratio: 1.30",
            "<b>Chicago Suburbs</b><br>Time Period: 2022-Q2<br>Class A Rent: $28.85<br>Class O Rent: $21.28<br>A/O Ratio: 1.36",
            "<b>Detroit</b><br>Time Period: 2022-Q2<br>Class A Rent: $21.60<br>Class O Rent: $19.72<br>A/O Ratio: 1.10",
            "<b>Houston</b><br>Time Period: 2022-Q2<br>Class A Rent: $33.48<br>Class O Rent: $21.72<br>A/O Ratio: 1.54",
            "<b>Los Angeles</b><br>Time Period: 2022-Q2<br>Class A Rent: $48.78<br>Class O Rent: $41.07<br>A/O Ratio: 1.19",
            "<b>Manhattan</b><br>Time Period: 2022-Q2<br>Class A Rent: $86.27<br>Class O Rent: $62.05<br>A/O Ratio: 1.39",
            "<b>Nashville</b><br>Time Period: 2022-Q2<br>Class A Rent: $33.58<br>Class O Rent: $28.73<br>A/O Ratio: 1.17",
            "<b>Northern New Jersey</b><br>Time Period: 2022-Q2<br>Class A Rent: $31.26<br>Class O Rent: $25.18<br>A/O Ratio: 1.24",
            "<b>Northern Virginia</b><br>Time Period: 2022-Q2<br>Class A Rent: $36.56<br>Class O Rent: $31.79<br>A/O Ratio: 1.15",
            "<b>Philadelphia</b><br>Time Period: 2022-Q2<br>Class A Rent: $31.86<br>Class O Rent: $27.04<br>A/O Ratio: 1.18",
            "<b>Phoenix</b><br>Time Period: 2022-Q2<br>Class A Rent: $30.84<br>Class O Rent: $25.22<br>A/O Ratio: 1.22",
            "<b>Salt Lake City</b><br>Time Period: 2022-Q2<br>Class A Rent: $30.19<br>Class O Rent: $23.25<br>A/O Ratio: 1.30",
            "<b>San Diego</b><br>Time Period: 2022-Q2<br>Class A Rent: $44.11<br>Class O Rent: $33.12<br>A/O Ratio: 1.33",
            "<b>San Francisco</b><br>Time Period: 2022-Q2<br>Class A Rent: $75.79<br>Class O Rent: $66.30<br>A/O Ratio: 1.14",
            "<b>Seattle</b><br>Time Period: 2022-Q2<br>Class A Rent: $50.71<br>Class O Rent: $32.35<br>A/O Ratio: 1.57",
            "<b>South Florida</b><br>Time Period: 2022-Q2<br>Class A Rent: $46.23<br>Class O Rent: $32.48<br>A/O Ratio: 1.42",
            "<b>Tampa</b><br>Time Period: 2022-Q2<br>Class A Rent: $32.68<br>Class O Rent: $24.39<br>A/O Ratio: 1.34"
           ],
           "type": "scattergeo"
          }
         ],
         "layout": {
          "title": {
           "text": "US Market Rental Rates Over Time: 2022-Q2"
          }
         },
         "name": "2022-Q2"
        },
        {
         "data": [
          {
           "hoverinfo": "text",
           "lat": [
            33.749,
            30.2672,
            39.2908,
            42.3601,
            35.2271,
            42.047,
            42.3315,
            29.7604,
            34.0522,
            40.7831,
            36.1627,
            40.7357,
            38.8816,
            39.9526,
            33.4484,
            40.7608,
            32.7157,
            37.7749,
            47.6062,
            25.7617,
            27.9506
           ],
           "lon": [
            -84.388,
            -97.7431,
            -76.6108,
            -71.0589,
            -80.8431,
            -87.6846,
            -83.0466,
            -95.3698,
            -118.2437,
            -73.9712,
            -86.7816,
            -74.1724,
            -77.091,
            -75.1652,
            -112.074,
            -111.891,
            -117.1611,
            -122.4194,
            -122.3321,
            -80.1918,
            -82.4572
           ],
           "marker": {
            "cmax": 94.19122422000001,
            "cmin": 20.99818657,
            "color": [
             33.12555239,
             50.22179353,
             26.16921566,
             53.70669835,
             35.39639882,
             28.71530802,
             21.51292205,
             34.11551013,
             48.72238114,
             84.63554469999998,
             34.65073602,
             31.52584469,
             36.67073121,
             32.16796604,
             30.72076699,
             29.50614712,
             43.53283525,
             74.51715597,
             50.46670715,
             46.51721381,
             32.70716986
            ],
            "colorbar": {
             "len": 0.6,
             "thickness": 15,
             "title": {
              "text": "Class A Rent ($)"
             },
             "y": 0.5,
             "yanchor": "middle"
            },
            "colorscale": [
             [
              0,
              "#440154"
             ],
             [
              0.1111111111111111,
              "#482878"
             ],
             [
              0.2222222222222222,
              "#3e4989"
             ],
             [
              0.3333333333333333,
              "#31688e"
             ],
             [
              0.4444444444444444,
              "#26828e"
             ],
             [
              0.5555555555555556,
              "#1f9e89"
             ],
             [
              0.6666666666666666,
              "#35b779"
             ],
             [
              0.7777777777777778,
              "#6ece58"
             ],
             [
              0.8888888888888888,
              "#b5de2b"
             ],
             [
              1,
              "#fde725"
             ]
            ],
            "line": {
             "color": "DarkSlateGrey",
             "width": 1
            },
            "size": [
             12.697770809826757,
             20.091507825669478,
             10.751139853934411,
             21.949411319837335,
             13.489941852528418,
             11.369425266826092,
             10.023590192827987,
             13.034751822037244,
             19.32489050866004,
             42.428252558343985,
             13.222374197187143,
             12.181991193730472,
             13.963369904031238,
             12.384636746734976,
             11.936545253445715,
             11.585234571992915,
             16.83331626473815,
             35.01018744035365,
             20.218633755925545,
             18.234770635536876,
             12.559376118787686
            ]
           },
           "mode": "markers",
           "name": "2022-Q3",
           "text": [
            "<b>Atlanta</b><br>Time Period: 2022-Q3<br>Class A Rent: $33.13<br>Class O Rent: $23.70<br>A/O Ratio: 1.40",
            "<b>Austin</b><br>Time Period: 2022-Q3<br>Class A Rent: $50.22<br>Class O Rent: $36.75<br>A/O Ratio: 1.37",
            "<b>Baltimore</b><br>Time Period: 2022-Q3<br>Class A Rent: $26.17<br>Class O Rent: $21.19<br>A/O Ratio: 1.23",
            "<b>Boston</b><br>Time Period: 2022-Q3<br>Class A Rent: $53.71<br>Class O Rent: $26.52<br>A/O Ratio: 2.03",
            "<b>Charlotte</b><br>Time Period: 2022-Q3<br>Class A Rent: $35.40<br>Class O Rent: $27.58<br>A/O Ratio: 1.28",
            "<b>Chicago Suburbs</b><br>Time Period: 2022-Q3<br>Class A Rent: $28.72<br>Class O Rent: $20.94<br>A/O Ratio: 1.37",
            "<b>Detroit</b><br>Time Period: 2022-Q3<br>Class A Rent: $21.51<br>Class O Rent: $19.86<br>A/O Ratio: 1.08",
            "<b>Houston</b><br>Time Period: 2022-Q3<br>Class A Rent: $34.12<br>Class O Rent: $21.62<br>A/O Ratio: 1.58",
            "<b>Los Angeles</b><br>Time Period: 2022-Q3<br>Class A Rent: $48.72<br>Class O Rent: $40.94<br>A/O Ratio: 1.19",
            "<b>Manhattan</b><br>Time Period: 2022-Q3<br>Class A Rent: $84.64<br>Class O Rent: $62.32<br>A/O Ratio: 1.36",
            "<b>Nashville</b><br>Time Period: 2022-Q3<br>Class A Rent: $34.65<br>Class O Rent: $29.02<br>A/O Ratio: 1.19",
            "<b>Northern New Jersey</b><br>Time Period: 2022-Q3<br>Class A Rent: $31.53<br>Class O Rent: $24.91<br>A/O Ratio: 1.27",
            "<b>Northern Virginia</b><br>Time Period: 2022-Q3<br>Class A Rent: $36.67<br>Class O Rent: $31.86<br>A/O Ratio: 1.15",
            "<b>Philadelphia</b><br>Time Period: 2022-Q3<br>Class A Rent: $32.17<br>Class O Rent: $27.04<br>A/O Ratio: 1.19",
            "<b>Phoenix</b><br>Time Period: 2022-Q3<br>Class A Rent: $30.72<br>Class O Rent: $25.40<br>A/O Ratio: 1.21",
            "<b>Salt Lake City</b><br>Time Period: 2022-Q3<br>Class A Rent: $29.51<br>Class O Rent: $23.27<br>A/O Ratio: 1.27",
            "<b>San Diego</b><br>Time Period: 2022-Q3<br>Class A Rent: $43.53<br>Class O Rent: $32.58<br>A/O Ratio: 1.34",
            "<b>San Francisco</b><br>Time Period: 2022-Q3<br>Class A Rent: $74.52<br>Class O Rent: $65.92<br>A/O Ratio: 1.13",
            "<b>Seattle</b><br>Time Period: 2022-Q3<br>Class A Rent: $50.47<br>Class O Rent: $33.14<br>A/O Ratio: 1.52",
            "<b>South Florida</b><br>Time Period: 2022-Q3<br>Class A Rent: $46.52<br>Class O Rent: $32.98<br>A/O Ratio: 1.41",
            "<b>Tampa</b><br>Time Period: 2022-Q3<br>Class A Rent: $32.71<br>Class O Rent: $24.30<br>A/O Ratio: 1.35"
           ],
           "type": "scattergeo"
          }
         ],
         "layout": {
          "title": {
           "text": "US Market Rental Rates Over Time: 2022-Q3"
          }
         },
         "name": "2022-Q3"
        },
        {
         "data": [
          {
           "hoverinfo": "text",
           "lat": [
            33.749,
            30.2672,
            39.2908,
            42.3601,
            35.2271,
            42.047,
            42.3315,
            29.7604,
            34.0522,
            40.7831,
            36.1627,
            40.7357,
            38.8816,
            39.9526,
            33.4484,
            40.7608,
            32.7157,
            37.7749,
            47.6062,
            25.7617,
            27.9506
           ],
           "lon": [
            -84.388,
            -97.7431,
            -76.6108,
            -71.0589,
            -80.8431,
            -87.6846,
            -83.0466,
            -95.3698,
            -118.2437,
            -73.9712,
            -86.7816,
            -74.1724,
            -77.091,
            -75.1652,
            -112.074,
            -111.891,
            -117.1611,
            -122.4194,
            -122.3321,
            -80.1918,
            -82.4572
           ],
           "marker": {
            "cmax": 94.19122422000001,
            "cmin": 20.99818657,
            "color": [
             33.09397778,
             50.97989614,
             25.3256392,
             54.43448192,
             35.20264654,
             28.76969709,
             21.26330613,
             34.01919022,
             48.52836297999999,
             86.34943177,
             33.17284927,
             32.47172219,
             36.48486436,
             33.50198925,
             31.31656685,
             28.94388853,
             43.68688143,
             74.59311054,
             50.44758644,
             46.95142023,
             32.83050498
            ],
            "colorbar": {
             "len": 0.6,
             "thickness": 15,
             "title": {
              "text": "Class A Rent ($)"
             },
             "y": 0.5,
             "yanchor": "middle"
            },
            "colorscale": [
             [
              0,
              "#440154"
             ],
             [
              0.1111111111111111,
              "#482878"
             ],
             [
              0.2222222222222222,
              "#3e4989"
             ],
             [
              0.3333333333333333,
              "#31688e"
             ],
             [
              0.4444444444444444,
              "#26828e"
             ],
             [
              0.5555555555555556,
              "#1f9e89"
             ],
             [
              0.6666666666666666,
              "#35b779"
             ],
             [
              0.7777777777777778,
              "#6ece58"
             ],
             [
              0.8888888888888888,
              "#b5de2b"
             ],
             [
              1,
              "#fde725"
             ]
            ],
            "line": {
             "color": "DarkSlateGrey",
             "width": 1
            },
            "size": [
             12.687241863017292,
             20.486726060060793,
             10.575047629993996,
             22.350443781981504,
             13.419734775647736,
             11.383927989260844,
             10.008720030208048,
             13.001387192062266,
             19.22717644534101,
             43.74707483046499,
             12.713568197740706,
             12.482568475990993,
             13.893074619076131,
             12.824349914120798,
             12.11725237326956,
             11.430717008731973,
             16.90350439163966,
             35.0634483277597,
             20.20868979720436,
             18.44583415241782,
             12.599920725847522
            ]
           },
           "mode": "markers",
           "name": "2022-Q4",
           "text": [
            "<b>Atlanta</b><br>Time Period: 2022-Q4<br>Class A Rent: $33.09<br>Class O Rent: $23.90<br>A/O Ratio: 1.38",
            "<b>Austin</b><br>Time Period: 2022-Q4<br>Class A Rent: $50.98<br>Class O Rent: $35.54<br>A/O Ratio: 1.43",
            "<b>Baltimore</b><br>Time Period: 2022-Q4<br>Class A Rent: $25.33<br>Class O Rent: $20.98<br>A/O Ratio: 1.21",
            "<b>Boston</b><br>Time Period: 2022-Q4<br>Class A Rent: $54.43<br>Class O Rent: $30.22<br>A/O Ratio: 1.80",
            "<b>Charlotte</b><br>Time Period: 2022-Q4<br>Class A Rent: $35.20<br>Class O Rent: $27.48<br>A/O Ratio: 1.28",
            "<b>Chicago Suburbs</b><br>Time Period: 2022-Q4<br>Class A Rent: $28.77<br>Class O Rent: $20.95<br>A/O Ratio: 1.37",
            "<b>Detroit</b><br>Time Period: 2022-Q4<br>Class A Rent: $21.26<br>Class O Rent: $19.72<br>A/O Ratio: 1.08",
            "<b>Houston</b><br>Time Period: 2022-Q4<br>Class A Rent: $34.02<br>Class O Rent: $21.42<br>A/O Ratio: 1.59",
            "<b>Los Angeles</b><br>Time Period: 2022-Q4<br>Class A Rent: $48.53<br>Class O Rent: $40.86<br>A/O Ratio: 1.19",
            "<b>Manhattan</b><br>Time Period: 2022-Q4<br>Class A Rent: $86.35<br>Class O Rent: $62.31<br>A/O Ratio: 1.39",
            "<b>Nashville</b><br>Time Period: 2022-Q4<br>Class A Rent: $33.17<br>Class O Rent: $29.04<br>A/O Ratio: 1.14",
            "<b>Northern New Jersey</b><br>Time Period: 2022-Q4<br>Class A Rent: $32.47<br>Class O Rent: $25.05<br>A/O Ratio: 1.30",
            "<b>Northern Virginia</b><br>Time Period: 2022-Q4<br>Class A Rent: $36.48<br>Class O Rent: $32.28<br>A/O Ratio: 1.13",
            "<b>Philadelphia</b><br>Time Period: 2022-Q4<br>Class A Rent: $33.50<br>Class O Rent: $27.55<br>A/O Ratio: 1.22",
            "<b>Phoenix</b><br>Time Period: 2022-Q4<br>Class A Rent: $31.32<br>Class O Rent: $25.74<br>A/O Ratio: 1.22",
            "<b>Salt Lake City</b><br>Time Period: 2022-Q4<br>Class A Rent: $28.94<br>Class O Rent: $23.42<br>A/O Ratio: 1.24",
            "<b>San Diego</b><br>Time Period: 2022-Q4<br>Class A Rent: $43.69<br>Class O Rent: $32.32<br>A/O Ratio: 1.35",
            "<b>San Francisco</b><br>Time Period: 2022-Q4<br>Class A Rent: $74.59<br>Class O Rent: $65.17<br>A/O Ratio: 1.14",
            "<b>Seattle</b><br>Time Period: 2022-Q4<br>Class A Rent: $50.45<br>Class O Rent: $35.19<br>A/O Ratio: 1.43",
            "<b>South Florida</b><br>Time Period: 2022-Q4<br>Class A Rent: $46.95<br>Class O Rent: $33.54<br>A/O Ratio: 1.40",
            "<b>Tampa</b><br>Time Period: 2022-Q4<br>Class A Rent: $32.83<br>Class O Rent: $24.41<br>A/O Ratio: 1.35"
           ],
           "type": "scattergeo"
          }
         ],
         "layout": {
          "title": {
           "text": "US Market Rental Rates Over Time: 2022-Q4"
          }
         },
         "name": "2022-Q4"
        },
        {
         "data": [
          {
           "hoverinfo": "text",
           "lat": [
            33.749,
            30.2672,
            39.2908,
            42.3601,
            35.2271,
            42.047,
            42.3315,
            29.7604,
            34.0522,
            40.7831,
            36.1627,
            40.7357,
            38.8816,
            39.9526,
            33.4484,
            40.7608,
            32.7157,
            37.7749,
            47.6062,
            25.7617,
            27.9506
           ],
           "lon": [
            -84.388,
            -97.7431,
            -76.6108,
            -71.0589,
            -80.8431,
            -87.6846,
            -83.0466,
            -95.3698,
            -118.2437,
            -73.9712,
            -86.7816,
            -74.1724,
            -77.091,
            -75.1652,
            -112.074,
            -111.891,
            -117.1611,
            -122.4194,
            -122.3321,
            -80.1918,
            -82.4572
           ],
           "marker": {
            "cmax": 94.19122422000001,
            "cmin": 20.99818657,
            "color": [
             33.07298715,
             51.81614173,
             25.50935198,
             54.62621616,
             35.21413689,
             30.18601271,
             21.78026752,
             35.07448634,
             48.1255876,
             86.36049955,
             35.65420404,
             32.57781231,
             36.43824299,
             33.49629326,
             31.26934906,
             28.90361664,
             43.58098611,
             74.35376,
             50.366576300000006,
             47.46102025,
             32.67020755
            ],
            "colorbar": {
             "len": 0.6,
             "thickness": 15,
             "title": {
              "text": "Class A Rent ($)"
             },
             "y": 0.5,
             "yanchor": "middle"
            },
            "colorscale": [
             [
              0,
              "#440154"
             ],
             [
              0.1111111111111111,
              "#482878"
             ],
             [
              0.2222222222222222,
              "#3e4989"
             ],
             [
              0.3333333333333333,
              "#31688e"
             ],
             [
              0.4444444444444444,
              "#26828e"
             ],
             [
              0.5555555555555556,
              "#1f9e89"
             ],
             [
              0.6666666666666666,
              "#35b779"
             ],
             [
              0.7777777777777778,
              "#6ece58"
             ],
             [
              0.8888888888888888,
              "#b5de2b"
             ],
             [
              1,
              "#fde725"
             ]
            ],
            "line": {
             "color": "DarkSlateGrey",
             "width": 1
            },
            "size": [
             12.680249874653853,
             20.92851272672747,
             10.612052197179873,
             22.456827925700463,
             13.423885080723839,
             11.778994013820313,
             10.044180730778137,
             13.373557326771365,
             19.02542404149504,
             43.755648217529036,
             13.584093204364311,
             12.517080576906,
             13.875508184747464,
             12.822420224767567,
             12.102735920429335,
             11.41985366223416,
             16.855229569921306,
             34.89573896045373,
             20.16659530321445,
             18.69580625198317,
             12.547266729646875
            ]
           },
           "mode": "markers",
           "name": "2023-Q1",
           "text": [
            "<b>Atlanta</b><br>Time Period: 2023-Q1<br>Class A Rent: $33.07<br>Class O Rent: $24.31<br>A/O Ratio: 1.36",
            "<b>Austin</b><br>Time Period: 2023-Q1<br>Class A Rent: $51.82<br>Class O Rent: $35.07<br>A/O Ratio: 1.48",
            "<b>Baltimore</b><br>Time Period: 2023-Q1<br>Class A Rent: $25.51<br>Class O Rent: $21.13<br>A/O Ratio: 1.21",
            "<b>Boston</b><br>Time Period: 2023-Q1<br>Class A Rent: $54.63<br>Class O Rent: $29.46<br>A/O Ratio: 1.85",
            "<b>Charlotte</b><br>Time Period: 2023-Q1<br>Class A Rent: $35.21<br>Class O Rent: $27.50<br>A/O Ratio: 1.28",
            "<b>Chicago Suburbs</b><br>Time Period: 2023-Q1<br>Class A Rent: $30.19<br>Class O Rent: $21.92<br>A/O Ratio: 1.38",
            "<b>Detroit</b><br>Time Period: 2023-Q1<br>Class A Rent: $21.78<br>Class O Rent: $19.47<br>A/O Ratio: 1.12",
            "<b>Houston</b><br>Time Period: 2023-Q1<br>Class A Rent: $35.07<br>Class O Rent: $21.80<br>A/O Ratio: 1.61",
            "<b>Los Angeles</b><br>Time Period: 2023-Q1<br>Class A Rent: $48.13<br>Class O Rent: $41.03<br>A/O Ratio: 1.17",
            "<b>Manhattan</b><br>Time Period: 2023-Q1<br>Class A Rent: $86.36<br>Class O Rent: $62.61<br>A/O Ratio: 1.38",
            "<b>Nashville</b><br>Time Period: 2023-Q1<br>Class A Rent: $35.65<br>Class O Rent: $29.88<br>A/O Ratio: 1.19",
            "<b>Northern New Jersey</b><br>Time Period: 2023-Q1<br>Class A Rent: $32.58<br>Class O Rent: $24.11<br>A/O Ratio: 1.35",
            "<b>Northern Virginia</b><br>Time Period: 2023-Q1<br>Class A Rent: $36.44<br>Class O Rent: $32.43<br>A/O Ratio: 1.12",
            "<b>Philadelphia</b><br>Time Period: 2023-Q1<br>Class A Rent: $33.50<br>Class O Rent: $27.26<br>A/O Ratio: 1.23",
            "<b>Phoenix</b><br>Time Period: 2023-Q1<br>Class A Rent: $31.27<br>Class O Rent: $26.42<br>A/O Ratio: 1.18",
            "<b>Salt Lake City</b><br>Time Period: 2023-Q1<br>Class A Rent: $28.90<br>Class O Rent: $24.09<br>A/O Ratio: 1.20",
            "<b>San Diego</b><br>Time Period: 2023-Q1<br>Class A Rent: $43.58<br>Class O Rent: $32.84<br>A/O Ratio: 1.33",
            "<b>San Francisco</b><br>Time Period: 2023-Q1<br>Class A Rent: $74.35<br>Class O Rent: $63.82<br>A/O Ratio: 1.17",
            "<b>Seattle</b><br>Time Period: 2023-Q1<br>Class A Rent: $50.37<br>Class O Rent: $35.26<br>A/O Ratio: 1.43",
            "<b>South Florida</b><br>Time Period: 2023-Q1<br>Class A Rent: $47.46<br>Class O Rent: $34.18<br>A/O Ratio: 1.39",
            "<b>Tampa</b><br>Time Period: 2023-Q1<br>Class A Rent: $32.67<br>Class O Rent: $24.61<br>A/O Ratio: 1.33"
           ],
           "type": "scattergeo"
          }
         ],
         "layout": {
          "title": {
           "text": "US Market Rental Rates Over Time: 2023-Q1"
          }
         },
         "name": "2023-Q1"
        },
        {
         "data": [
          {
           "hoverinfo": "text",
           "lat": [
            33.749,
            30.2672,
            39.2908,
            42.3601,
            35.2271,
            42.047,
            42.3315,
            29.7604,
            34.0522,
            40.7831,
            36.1627,
            40.7357,
            38.8816,
            39.9526,
            33.4484,
            40.7608,
            32.7157,
            37.7749,
            47.6062,
            25.7617,
            27.9506
           ],
           "lon": [
            -84.388,
            -97.7431,
            -76.6108,
            -71.0589,
            -80.8431,
            -87.6846,
            -83.0466,
            -95.3698,
            -118.2437,
            -73.9712,
            -86.7816,
            -74.1724,
            -77.091,
            -75.1652,
            -112.074,
            -111.891,
            -117.1611,
            -122.4194,
            -122.3321,
            -80.1918,
            -82.4572
           ],
           "marker": {
            "cmax": 94.19122422000001,
            "cmin": 20.99818657,
            "color": [
             33.02381293,
             50.52253808,
             25.58883311,
             53.755836699999996,
             34.62613309,
             30.18997273,
             21.87388387,
             36.04406317,
             48.35900437,
             86.91862029,
             33.70168629,
             32.69451408,
             36.72086464,
             32.82714626,
             31.46601348,
             29.32644883,
             42.99077811,
             74.02299306,
             51.43150556,
             48.24174081,
             32.49888812
            ],
            "colorbar": {
             "len": 0.6,
             "thickness": 15,
             "title": {
              "text": "Class A Rent ($)"
             },
             "y": 0.5,
             "yanchor": "middle"
            },
            "colorscale": [
             [
              0,
              "#440154"
             ],
             [
              0.1111111111111111,
              "#482878"
             ],
             [
              0.2222222222222222,
              "#3e4989"
             ],
             [
              0.3333333333333333,
              "#31688e"
             ],
             [
              0.4444444444444444,
              "#26828e"
             ],
             [
              0.5555555555555556,
              "#1f9e89"
             ],
             [
              0.6666666666666666,
              "#35b779"
             ],
             [
              0.7777777777777778,
              "#6ece58"
             ],
             [
              0.8888888888888888,
              "#b5de2b"
             ],
             [
              1,
              "#fde725"
             ]
            ],
            "line": {
             "color": "DarkSlateGrey",
             "width": 1
            },
            "size": [
             12.663893713993113,
             20.24768777460128,
             10.628298635924004,
             21.976349024956008,
             13.213667678384063,
             11.780144276810985,
             10.052346343410115,
             13.728048703339827,
             19.14216267998473,
             44.18892284421811,
             12.89228048632053,
             12.555227746609994,
             13.982402181126723,
             12.598813784792487,
             12.16341647739471,
             11.535277634110967,
             16.58824811491708,
             34.66459407711689,
             20.72455574950937,
             19.08345319170612,
             12.49139067189122
            ]
           },
           "mode": "markers",
           "name": "2023-Q2",
           "text": [
            "<b>Atlanta</b><br>Time Period: 2023-Q2<br>Class A Rent: $33.02<br>Class O Rent: $24.47<br>A/O Ratio: 1.35",
            "<b>Austin</b><br>Time Period: 2023-Q2<br>Class A Rent: $50.52<br>Class O Rent: $35.46<br>A/O Ratio: 1.42",
            "<b>Baltimore</b><br>Time Period: 2023-Q2<br>Class A Rent: $25.59<br>Class O Rent: $21.25<br>A/O Ratio: 1.20",
            "<b>Boston</b><br>Time Period: 2023-Q2<br>Class A Rent: $53.76<br>Class O Rent: $31.31<br>A/O Ratio: 1.72",
            "<b>Charlotte</b><br>Time Period: 2023-Q2<br>Class A Rent: $34.63<br>Class O Rent: $27.32<br>A/O Ratio: 1.27",
            "<b>Chicago Suburbs</b><br>Time Period: 2023-Q2<br>Class A Rent: $30.19<br>Class O Rent: $22.02<br>A/O Ratio: 1.37",
            "<b>Detroit</b><br>Time Period: 2023-Q2<br>Class A Rent: $21.87<br>Class O Rent: $19.38<br>A/O Ratio: 1.13",
            "<b>Houston</b><br>Time Period: 2023-Q2<br>Class A Rent: $36.04<br>Class O Rent: $22.31<br>A/O Ratio: 1.62",
            "<b>Los Angeles</b><br>Time Period: 2023-Q2<br>Class A Rent: $48.36<br>Class O Rent: $40.85<br>A/O Ratio: 1.18",
            "<b>Manhattan</b><br>Time Period: 2023-Q2<br>Class A Rent: $86.92<br>Class O Rent: $62.79<br>A/O Ratio: 1.38",
            "<b>Nashville</b><br>Time Period: 2023-Q2<br>Class A Rent: $33.70<br>Class O Rent: $28.75<br>A/O Ratio: 1.17",
            "<b>Northern New Jersey</b><br>Time Period: 2023-Q2<br>Class A Rent: $32.69<br>Class O Rent: $24.00<br>A/O Ratio: 1.36",
            "<b>Northern Virginia</b><br>Time Period: 2023-Q2<br>Class A Rent: $36.72<br>Class O Rent: $32.20<br>A/O Ratio: 1.14",
            "<b>Philadelphia</b><br>Time Period: 2023-Q2<br>Class A Rent: $32.83<br>Class O Rent: $27.14<br>A/O Ratio: 1.21",
            "<b>Phoenix</b><br>Time Period: 2023-Q2<br>Class A Rent: $31.47<br>Class O Rent: $26.42<br>A/O Ratio: 1.19",
            "<b>Salt Lake City</b><br>Time Period: 2023-Q2<br>Class A Rent: $29.33<br>Class O Rent: $24.53<br>A/O Ratio: 1.20",
            "<b>San Diego</b><br>Time Period: 2023-Q2<br>Class A Rent: $42.99<br>Class O Rent: $33.24<br>A/O Ratio: 1.29",
            "<b>San Francisco</b><br>Time Period: 2023-Q2<br>Class A Rent: $74.02<br>Class O Rent: $60.30<br>A/O Ratio: 1.23",
            "<b>Seattle</b><br>Time Period: 2023-Q2<br>Class A Rent: $51.43<br>Class O Rent: $35.43<br>A/O Ratio: 1.45",
            "<b>South Florida</b><br>Time Period: 2023-Q2<br>Class A Rent: $48.24<br>Class O Rent: $34.91<br>A/O Ratio: 1.38",
            "<b>Tampa</b><br>Time Period: 2023-Q2<br>Class A Rent: $32.50<br>Class O Rent: $24.51<br>A/O Ratio: 1.33"
           ],
           "type": "scattergeo"
          }
         ],
         "layout": {
          "title": {
           "text": "US Market Rental Rates Over Time: 2023-Q2"
          }
         },
         "name": "2023-Q2"
        },
        {
         "data": [
          {
           "hoverinfo": "text",
           "lat": [
            33.749,
            30.2672,
            39.2908,
            42.3601,
            35.2271,
            42.047,
            42.3315,
            29.7604,
            34.0522,
            40.7831,
            36.1627,
            40.7357,
            38.8816,
            39.9526,
            33.4484,
            40.7608,
            32.7157,
            37.7749,
            47.6062,
            25.7617,
            27.9506
           ],
           "lon": [
            -84.388,
            -97.7431,
            -76.6108,
            -71.0589,
            -80.8431,
            -87.6846,
            -83.0466,
            -95.3698,
            -118.2437,
            -73.9712,
            -86.7816,
            -74.1724,
            -77.091,
            -75.1652,
            -112.074,
            -111.891,
            -117.1611,
            -122.4194,
            -122.3321,
            -80.1918,
            -82.4572
           ],
           "marker": {
            "cmax": 94.19122422000001,
            "cmin": 20.99818657,
            "color": [
             33.35673922,
             50.99743706,
             25.875161389999995,
             52.13359812,
             35.26942413,
             30.405753,
             21.28110714,
             36.04006727,
             48.52629272,
             86.94741438,
             33.97714636,
             32.83410303,
             36.50142854,
             33.27610384,
             31.80833637,
             29.20612672,
             43.49114817,
             74.56666762,
             52.05470942,
             48.79917146,
             32.04068759
            ],
            "colorbar": {
             "len": 0.6,
             "thickness": 15,
             "title": {
              "text": "Class A Rent ($)"
             },
             "y": 0.5,
             "yanchor": "middle"
            },
            "colorscale": [
             [
              0,
              "#440154"
             ],
             [
              0.1111111111111111,
              "#482878"
             ],
             [
              0.2222222222222222,
              "#3e4989"
             ],
             [
              0.3333333333333333,
              "#31688e"
             ],
             [
              0.4444444444444444,
              "#26828e"
             ],
             [
              0.5555555555555556,
              "#1f9e89"
             ],
             [
              0.6666666666666666,
              "#35b779"
             ],
             [
              0.7777777777777778,
              "#6ece58"
             ],
             [
              0.8888888888888888,
              "#b5de2b"
             ],
             [
              1,
              "#fde725"
             ]
            ],
            "line": {
             "color": "DarkSlateGrey",
             "width": 1
            },
            "size": [
             12.775279655957835,
             20.495930357994666,
             10.68798838126463,
             21.0978090979701,
             13.443878230845998,
             11.843194961264276,
             10.009612849002918,
             13.726563653207995,
             19.226135644064055,
             44.21132590709766,
             12.9868620463506,
             12.601106717750765,
             13.89932219808629,
             12.74816236643786,
             12.27040273985913,
             11.502126837713552,
             16.81436350292496,
             35.044901729813674,
             21.05565756263351,
             19.363659368003965,
             12.343994055925126
            ]
           },
           "mode": "markers",
           "name": "2023-Q3",
           "text": [
            "<b>Atlanta</b><br>Time Period: 2023-Q3<br>Class A Rent: $33.36<br>Class O Rent: $24.64<br>A/O Ratio: 1.35",
            "<b>Austin</b><br>Time Period: 2023-Q3<br>Class A Rent: $51.00<br>Class O Rent: $34.79<br>A/O Ratio: 1.47",
            "<b>Baltimore</b><br>Time Period: 2023-Q3<br>Class A Rent: $25.88<br>Class O Rent: $20.99<br>A/O Ratio: 1.23",
            "<b>Boston</b><br>Time Period: 2023-Q3<br>Class A Rent: $52.13<br>Class O Rent: $32.01<br>A/O Ratio: 1.63",
            "<b>Charlotte</b><br>Time Period: 2023-Q3<br>Class A Rent: $35.27<br>Class O Rent: $27.49<br>A/O Ratio: 1.28",
            "<b>Chicago Suburbs</b><br>Time Period: 2023-Q3<br>Class A Rent: $30.41<br>Class O Rent: $22.10<br>A/O Ratio: 1.38",
            "<b>Detroit</b><br>Time Period: 2023-Q3<br>Class A Rent: $21.28<br>Class O Rent: $19.47<br>A/O Ratio: 1.09",
            "<b>Houston</b><br>Time Period: 2023-Q3<br>Class A Rent: $36.04<br>Class O Rent: $22.64<br>A/O Ratio: 1.59",
            "<b>Los Angeles</b><br>Time Period: 2023-Q3<br>Class A Rent: $48.53<br>Class O Rent: $41.12<br>A/O Ratio: 1.18",
            "<b>Manhattan</b><br>Time Period: 2023-Q3<br>Class A Rent: $86.95<br>Class O Rent: $62.66<br>A/O Ratio: 1.39",
            "<b>Nashville</b><br>Time Period: 2023-Q3<br>Class A Rent: $33.98<br>Class O Rent: $28.58<br>A/O Ratio: 1.19",
            "<b>Northern New Jersey</b><br>Time Period: 2023-Q3<br>Class A Rent: $32.83<br>Class O Rent: $24.12<br>A/O Ratio: 1.36",
            "<b>Northern Virginia</b><br>Time Period: 2023-Q3<br>Class A Rent: $36.50<br>Class O Rent: $32.19<br>A/O Ratio: 1.13",
            "<b>Philadelphia</b><br>Time Period: 2023-Q3<br>Class A Rent: $33.28<br>Class O Rent: $26.82<br>A/O Ratio: 1.24",
            "<b>Phoenix</b><br>Time Period: 2023-Q3<br>Class A Rent: $31.81<br>Class O Rent: $26.59<br>A/O Ratio: 1.20",
            "<b>Salt Lake City</b><br>Time Period: 2023-Q3<br>Class A Rent: $29.21<br>Class O Rent: $24.63<br>A/O Ratio: 1.19",
            "<b>San Diego</b><br>Time Period: 2023-Q3<br>Class A Rent: $43.49<br>Class O Rent: $33.64<br>A/O Ratio: 1.29",
            "<b>San Francisco</b><br>Time Period: 2023-Q3<br>Class A Rent: $74.57<br>Class O Rent: $60.45<br>A/O Ratio: 1.23",
            "<b>Seattle</b><br>Time Period: 2023-Q3<br>Class A Rent: $52.05<br>Class O Rent: $34.66<br>A/O Ratio: 1.50",
            "<b>South Florida</b><br>Time Period: 2023-Q3<br>Class A Rent: $48.80<br>Class O Rent: $35.43<br>A/O Ratio: 1.38",
            "<b>Tampa</b><br>Time Period: 2023-Q3<br>Class A Rent: $32.04<br>Class O Rent: $25.05<br>A/O Ratio: 1.28"
           ],
           "type": "scattergeo"
          }
         ],
         "layout": {
          "title": {
           "text": "US Market Rental Rates Over Time: 2023-Q3"
          }
         },
         "name": "2023-Q3"
        },
        {
         "data": [
          {
           "hoverinfo": "text",
           "lat": [
            33.749,
            30.2672,
            39.2908,
            42.3601,
            35.2271,
            42.047,
            42.3315,
            29.7604,
            34.0522,
            40.7831,
            36.1627,
            40.7357,
            38.8816,
            39.9526,
            33.4484,
            40.7608,
            32.7157,
            37.7749,
            47.6062,
            25.7617,
            27.9506
           ],
           "lon": [
            -84.388,
            -97.7431,
            -76.6108,
            -71.0589,
            -80.8431,
            -87.6846,
            -83.0466,
            -95.3698,
            -118.2437,
            -73.9712,
            -86.7816,
            -74.1724,
            -77.091,
            -75.1652,
            -112.074,
            -111.891,
            -117.1611,
            -122.4194,
            -122.3321,
            -80.1918,
            -82.4572
           ],
           "marker": {
            "cmax": 94.19122422000001,
            "cmin": 20.99818657,
            "color": [
             34.96039723,
             50.43230289,
             25.76022584,
             53.92276278,
             35.25537378,
             30.77202016,
             21.75812408,
             36.20716332,
             49.7464939,
             84.6765611,
             35.77275468,
             32.65198414,
             36.36390002,
             33.20622957,
             32.81544269,
             29.55745174,
             43.64407651,
             74.50925862,
             52.55730882,
             49.60763019,
             32.14359873
            ],
            "colorbar": {
             "len": 0.6,
             "thickness": 15,
             "title": {
              "text": "Class A Rent ($)"
             },
             "y": 0.5,
             "yanchor": "middle"
            },
            "colorscale": [
             [
              0,
              "#440154"
             ],
             [
              0.1111111111111111,
              "#482878"
             ],
             [
              0.2222222222222222,
              "#3e4989"
             ],
             [
              0.3333333333333333,
              "#31688e"
             ],
             [
              0.4444444444444444,
              "#26828e"
             ],
             [
              0.5555555555555556,
              "#1f9e89"
             ],
             [
              0.6666666666666666,
              "#35b779"
             ],
             [
              0.7777777777777778,
              "#6ece58"
             ],
             [
              0.8888888888888888,
              "#b5de2b"
             ],
             [
              1,
              "#fde725"
             ]
            ],
            "line": {
             "color": "DarkSlateGrey",
             "width": 1
            },
            "size": [
             13.332626270084951,
             20.200743721398762,
             10.663811531700084,
             22.068008972760257,
             13.43879362105101,
             11.95187833942741,
             10.042317709823646,
             13.788831818744907,
             19.846315611369576,
             42.45960924526925,
             13.627667929479792,
             12.54130352550733,
             13.84755138662896,
             12.724735872186923,
             12.594957840310986,
             11.599595065766993,
             16.883977186438806,
             35.00465182598828,
             21.325117264372984,
             19.775060452924336,
             12.376837736822042
            ]
           },
           "mode": "markers",
           "name": "2023-Q4",
           "text": [
            "<b>Atlanta</b><br>Time Period: 2023-Q4<br>Class A Rent: $34.96<br>Class O Rent: $24.61<br>A/O Ratio: 1.42",
            "<b>Austin</b><br>Time Period: 2023-Q4<br>Class A Rent: $50.43<br>Class O Rent: $35.18<br>A/O Ratio: 1.43",
            "<b>Baltimore</b><br>Time Period: 2023-Q4<br>Class A Rent: $25.76<br>Class O Rent: $20.96<br>A/O Ratio: 1.23",
            "<b>Boston</b><br>Time Period: 2023-Q4<br>Class A Rent: $53.92<br>Class O Rent: $31.76<br>A/O Ratio: 1.70",
            "<b>Charlotte</b><br>Time Period: 2023-Q4<br>Class A Rent: $35.26<br>Class O Rent: $27.35<br>A/O Ratio: 1.29",
            "<b>Chicago Suburbs</b><br>Time Period: 2023-Q4<br>Class A Rent: $30.77<br>Class O Rent: $22.14<br>A/O Ratio: 1.39",
            "<b>Detroit</b><br>Time Period: 2023-Q4<br>Class A Rent: $21.76<br>Class O Rent: $20.18<br>A/O Ratio: 1.08",
            "<b>Houston</b><br>Time Period: 2023-Q4<br>Class A Rent: $36.21<br>Class O Rent: $23.04<br>A/O Ratio: 1.57",
            "<b>Los Angeles</b><br>Time Period: 2023-Q4<br>Class A Rent: $49.75<br>Class O Rent: $41.43<br>A/O Ratio: 1.20",
            "<b>Manhattan</b><br>Time Period: 2023-Q4<br>Class A Rent: $84.68<br>Class O Rent: $62.60<br>A/O Ratio: 1.35",
            "<b>Nashville</b><br>Time Period: 2023-Q4<br>Class A Rent: $35.77<br>Class O Rent: $28.71<br>A/O Ratio: 1.25",
            "<b>Northern New Jersey</b><br>Time Period: 2023-Q4<br>Class A Rent: $32.65<br>Class O Rent: $24.13<br>A/O Ratio: 1.35",
            "<b>Northern Virginia</b><br>Time Period: 2023-Q4<br>Class A Rent: $36.36<br>Class O Rent: $32.25<br>A/O Ratio: 1.13",
            "<b>Philadelphia</b><br>Time Period: 2023-Q4<br>Class A Rent: $33.21<br>Class O Rent: $27.11<br>A/O Ratio: 1.22",
            "<b>Phoenix</b><br>Time Period: 2023-Q4<br>Class A Rent: $32.82<br>Class O Rent: $26.63<br>A/O Ratio: 1.23",
            "<b>Salt Lake City</b><br>Time Period: 2023-Q4<br>Class A Rent: $29.56<br>Class O Rent: $24.23<br>A/O Ratio: 1.22",
            "<b>San Diego</b><br>Time Period: 2023-Q4<br>Class A Rent: $43.64<br>Class O Rent: $33.92<br>A/O Ratio: 1.29",
            "<b>San Francisco</b><br>Time Period: 2023-Q4<br>Class A Rent: $74.51<br>Class O Rent: $60.23<br>A/O Ratio: 1.24",
            "<b>Seattle</b><br>Time Period: 2023-Q4<br>Class A Rent: $52.56<br>Class O Rent: $35.57<br>A/O Ratio: 1.48",
            "<b>South Florida</b><br>Time Period: 2023-Q4<br>Class A Rent: $49.61<br>Class O Rent: $35.69<br>A/O Ratio: 1.39",
            "<b>Tampa</b><br>Time Period: 2023-Q4<br>Class A Rent: $32.14<br>Class O Rent: $24.82<br>A/O Ratio: 1.29"
           ],
           "type": "scattergeo"
          }
         ],
         "layout": {
          "title": {
           "text": "US Market Rental Rates Over Time: 2023-Q4"
          }
         },
         "name": "2023-Q4"
        },
        {
         "data": [
          {
           "hoverinfo": "text",
           "lat": [
            33.749,
            30.2672,
            39.2908,
            42.3601,
            35.2271,
            42.047,
            42.3315,
            29.7604,
            34.0522,
            40.7831,
            36.1627,
            40.7357,
            38.8816,
            39.9526,
            33.4484,
            40.7608,
            32.7157,
            37.7749,
            47.6062,
            25.7617,
            27.9506
           ],
           "lon": [
            -84.388,
            -97.7431,
            -76.6108,
            -71.0589,
            -80.8431,
            -87.6846,
            -83.0466,
            -95.3698,
            -118.2437,
            -73.9712,
            -86.7816,
            -74.1724,
            -77.091,
            -75.1652,
            -112.074,
            -111.891,
            -117.1611,
            -122.4194,
            -122.3321,
            -80.1918,
            -82.4572
           ],
           "marker": {
            "cmax": 94.19122422000001,
            "cmin": 20.99818657,
            "color": [
             35.06758712,
             51.10873344,
             25.876343269999996,
             53.47127325,
             35.46668801,
             30.62224347,
             24.00668808,
             36.43592002,
             49.52557754,
             84.89233471,
             36.5465966,
             32.74521374,
             36.30508383,
             33.40471107,
             32.59099684,
             29.77254407,
             45.87944189,
             74.44603539,
             52.25279865,
             49.83497094,
             32.79502152
            ],
            "colorbar": {
             "len": 0.6,
             "thickness": 15,
             "title": {
              "text": "Class A Rent ($)"
             },
             "y": 0.5,
             "yanchor": "middle"
            },
            "colorscale": [
             [
              0,
              "#440154"
             ],
             [
              0.1111111111111111,
              "#482878"
             ],
             [
              0.2222222222222222,
              "#3e4989"
             ],
             [
              0.3333333333333333,
              "#31688e"
             ],
             [
              0.4444444444444444,
              "#26828e"
             ],
             [
              0.5555555555555556,
              "#1f9e89"
             ],
             [
              0.6666666666666666,
              "#35b779"
             ],
             [
              0.7777777777777778,
              "#6ece58"
             ],
             [
              0.8888888888888888,
              "#b5de2b"
             ],
             [
              1,
              "#fde725"
             ]
            ],
            "line": {
             "color": "DarkSlateGrey",
             "width": 1
            },
            "size": [
             13.371077407077358,
             20.55439391082482,
             10.68823848578598,
             21.820631852042762,
             13.515528813040309,
             11.907184054162686,
             10.333334821872404,
             13.874633607247977,
             19.733037916926406,
             42.624732576954415,
             13.916375377050127,
             12.571859821679013,
             13.825481312681148,
             12.791454415645248,
             12.521380711882744,
             11.660268475470083,
             17.928002266619416,
             34.960350494952415,
             21.16160125547363,
             19.89180574040394,
             12.588234302999844
            ]
           },
           "mode": "markers",
           "name": "2024-Q1",
           "text": [
            "<b>Atlanta</b><br>Time Period: 2024-Q1<br>Class A Rent: $35.07<br>Class O Rent: $24.52<br>A/O Ratio: 1.43",
            "<b>Austin</b><br>Time Period: 2024-Q1<br>Class A Rent: $51.11<br>Class O Rent: $34.56<br>A/O Ratio: 1.48",
            "<b>Baltimore</b><br>Time Period: 2024-Q1<br>Class A Rent: $25.88<br>Class O Rent: $21.32<br>A/O Ratio: 1.21",
            "<b>Boston</b><br>Time Period: 2024-Q1<br>Class A Rent: $53.47<br>Class O Rent: $31.73<br>A/O Ratio: 1.69",
            "<b>Charlotte</b><br>Time Period: 2024-Q1<br>Class A Rent: $35.47<br>Class O Rent: $27.51<br>A/O Ratio: 1.29",
            "<b>Chicago Suburbs</b><br>Time Period: 2024-Q1<br>Class A Rent: $30.62<br>Class O Rent: $22.40<br>A/O Ratio: 1.37",
            "<b>Detroit</b><br>Time Period: 2024-Q1<br>Class A Rent: $24.01<br>Class O Rent: $19.89<br>A/O Ratio: 1.21",
            "<b>Houston</b><br>Time Period: 2024-Q1<br>Class A Rent: $36.44<br>Class O Rent: $22.90<br>A/O Ratio: 1.59",
            "<b>Los Angeles</b><br>Time Period: 2024-Q1<br>Class A Rent: $49.53<br>Class O Rent: $41.89<br>A/O Ratio: 1.18",
            "<b>Manhattan</b><br>Time Period: 2024-Q1<br>Class A Rent: $84.89<br>Class O Rent: $62.60<br>A/O Ratio: 1.36",
            "<b>Nashville</b><br>Time Period: 2024-Q1<br>Class A Rent: $36.55<br>Class O Rent: $29.29<br>A/O Ratio: 1.25",
            "<b>Northern New Jersey</b><br>Time Period: 2024-Q1<br>Class A Rent: $32.75<br>Class O Rent: $24.42<br>A/O Ratio: 1.34",
            "<b>Northern Virginia</b><br>Time Period: 2024-Q1<br>Class A Rent: $36.31<br>Class O Rent: $32.43<br>A/O Ratio: 1.12",
            "<b>Philadelphia</b><br>Time Period: 2024-Q1<br>Class A Rent: $33.40<br>Class O Rent: $27.15<br>A/O Ratio: 1.23",
            "<b>Phoenix</b><br>Time Period: 2024-Q1<br>Class A Rent: $32.59<br>Class O Rent: $26.91<br>A/O Ratio: 1.21",
            "<b>Salt Lake City</b><br>Time Period: 2024-Q1<br>Class A Rent: $29.77<br>Class O Rent: $24.21<br>A/O Ratio: 1.23",
            "<b>San Diego</b><br>Time Period: 2024-Q1<br>Class A Rent: $45.88<br>Class O Rent: $33.80<br>A/O Ratio: 1.36",
            "<b>San Francisco</b><br>Time Period: 2024-Q1<br>Class A Rent: $74.45<br>Class O Rent: $60.34<br>A/O Ratio: 1.23",
            "<b>Seattle</b><br>Time Period: 2024-Q1<br>Class A Rent: $52.25<br>Class O Rent: $35.66<br>A/O Ratio: 1.47",
            "<b>South Florida</b><br>Time Period: 2024-Q1<br>Class A Rent: $49.83<br>Class O Rent: $35.67<br>A/O Ratio: 1.40",
            "<b>Tampa</b><br>Time Period: 2024-Q1<br>Class A Rent: $32.80<br>Class O Rent: $25.17<br>A/O Ratio: 1.30"
           ],
           "type": "scattergeo"
          }
         ],
         "layout": {
          "title": {
           "text": "US Market Rental Rates Over Time: 2024-Q1"
          }
         },
         "name": "2024-Q1"
        },
        {
         "data": [
          {
           "hoverinfo": "text",
           "lat": [
            33.749,
            30.2672,
            39.2908,
            42.3601,
            35.2271,
            42.047,
            42.3315,
            29.7604,
            34.0522,
            40.7831,
            36.1627,
            40.7357,
            38.8816,
            39.9526,
            33.4484,
            40.7608,
            32.7157,
            37.7749,
            47.6062,
            25.7617,
            27.9506
           ],
           "lon": [
            -84.388,
            -97.7431,
            -76.6108,
            -71.0589,
            -80.8431,
            -87.6846,
            -83.0466,
            -95.3698,
            -118.2437,
            -73.9712,
            -86.7816,
            -74.1724,
            -77.091,
            -75.1652,
            -112.074,
            -111.891,
            -117.1611,
            -122.4194,
            -122.3321,
            -80.1918,
            -82.4572
           ],
           "marker": {
            "cmax": 94.19122422000001,
            "cmin": 20.99818657,
            "color": [
             35.05830551,
             51.20543757,
             25.91520461,
             56.6276815,
             35.75745184,
             30.95854397,
             24.0132091,
             36.77314427,
             49.21075344,
             86.09031476,
             37.17254705,
             32.75575166,
             36.28189755,
             33.80914569,
             32.51129679,
             30.21517829,
             45.8807517,
             74.76542581,
             51.45304989,
             51.22605961,
             33.35295195
            ],
            "colorbar": {
             "len": 0.6,
             "thickness": 15,
             "title": {
              "text": "Class A Rent ($)"
             },
             "y": 0.5,
             "yanchor": "middle"
            },
            "colorscale": [
             [
              0,
              "#440154"
             ],
             [
              0.1111111111111111,
              "#482878"
             ],
             [
              0.2222222222222222,
              "#3e4989"
             ],
             [
              0.3333333333333333,
              "#31688e"
             ],
             [
              0.4444444444444444,
              "#26828e"
             ],
             [
              0.5555555555555556,
              "#1f9e89"
             ],
             [
              0.6666666666666666,
              "#35b779"
             ],
             [
              0.7777777777777778,
              "#6ece58"
             ],
             [
              0.8888888888888888,
              "#b5de2b"
             ],
             [
              1,
              "#fde725"
             ]
            ],
            "line": {
             "color": "DarkSlateGrey",
             "width": 1
            },
            "size": [
             13.367742098148987,
             20.60528002752794,
             10.696479016378358,
             23.585318759892917,
             13.622033323679368,
             12.008018534840836,
             10.334419179228892,
             14.00228156998254,
             19.572364691141104,
             43.54656371261841,
             14.155239024574072,
             12.575321309832903,
             13.816792574374151,
             12.929056856840198,
             12.49542388437919,
             11.787471516370942,
             17.928628298938293,
             35.184419235673175,
             20.735945942698656,
             20.616141980719014,
             12.77400402987272
            ]
           },
           "mode": "markers",
           "name": "2024-Q2",
           "text": [
            "<b>Atlanta</b><br>Time Period: 2024-Q2<br>Class A Rent: $35.06<br>Class O Rent: $24.69<br>A/O Ratio: 1.42",
            "<b>Austin</b><br>Time Period: 2024-Q2<br>Class A Rent: $51.21<br>Class O Rent: $34.37<br>A/O Ratio: 1.49",
            "<b>Baltimore</b><br>Time Period: 2024-Q2<br>Class A Rent: $25.92<br>Class O Rent: $21.26<br>A/O Ratio: 1.22",
            "<b>Boston</b><br>Time Period: 2024-Q2<br>Class A Rent: $56.63<br>Class O Rent: $32.83<br>A/O Ratio: 1.72",
            "<b>Charlotte</b><br>Time Period: 2024-Q2<br>Class A Rent: $35.76<br>Class O Rent: $27.47<br>A/O Ratio: 1.30",
            "<b>Chicago Suburbs</b><br>Time Period: 2024-Q2<br>Class A Rent: $30.96<br>Class O Rent: $22.29<br>A/O Ratio: 1.39",
            "<b>Detroit</b><br>Time Period: 2024-Q2<br>Class A Rent: $24.01<br>Class O Rent: $19.94<br>A/O Ratio: 1.20",
            "<b>Houston</b><br>Time Period: 2024-Q2<br>Class A Rent: $36.77<br>Class O Rent: $22.61<br>A/O Ratio: 1.63",
            "<b>Los Angeles</b><br>Time Period: 2024-Q2<br>Class A Rent: $49.21<br>Class O Rent: $41.19<br>A/O Ratio: 1.19",
            "<b>Manhattan</b><br>Time Period: 2024-Q2<br>Class A Rent: $86.09<br>Class O Rent: $62.04<br>A/O Ratio: 1.39",
            "<b>Nashville</b><br>Time Period: 2024-Q2<br>Class A Rent: $37.17<br>Class O Rent: $29.69<br>A/O Ratio: 1.25",
            "<b>Northern New Jersey</b><br>Time Period: 2024-Q2<br>Class A Rent: $32.76<br>Class O Rent: $24.70<br>A/O Ratio: 1.33",
            "<b>Northern Virginia</b><br>Time Period: 2024-Q2<br>Class A Rent: $36.28<br>Class O Rent: $32.43<br>A/O Ratio: 1.12",
            "<b>Philadelphia</b><br>Time Period: 2024-Q2<br>Class A Rent: $33.81<br>Class O Rent: $28.39<br>A/O Ratio: 1.19",
            "<b>Phoenix</b><br>Time Period: 2024-Q2<br>Class A Rent: $32.51<br>Class O Rent: $27.43<br>A/O Ratio: 1.19",
            "<b>Salt Lake City</b><br>Time Period: 2024-Q2<br>Class A Rent: $30.22<br>Class O Rent: $24.02<br>A/O Ratio: 1.26",
            "<b>San Diego</b><br>Time Period: 2024-Q2<br>Class A Rent: $45.88<br>Class O Rent: $33.87<br>A/O Ratio: 1.35",
            "<b>San Francisco</b><br>Time Period: 2024-Q2<br>Class A Rent: $74.77<br>Class O Rent: $58.68<br>A/O Ratio: 1.27",
            "<b>Seattle</b><br>Time Period: 2024-Q2<br>Class A Rent: $51.45<br>Class O Rent: $36.22<br>A/O Ratio: 1.42",
            "<b>South Florida</b><br>Time Period: 2024-Q2<br>Class A Rent: $51.23<br>Class O Rent: $35.67<br>A/O Ratio: 1.44",
            "<b>Tampa</b><br>Time Period: 2024-Q2<br>Class A Rent: $33.35<br>Class O Rent: $25.57<br>A/O Ratio: 1.30"
           ],
           "type": "scattergeo"
          }
         ],
         "layout": {
          "title": {
           "text": "US Market Rental Rates Over Time: 2024-Q2"
          }
         },
         "name": "2024-Q2"
        },
        {
         "data": [
          {
           "hoverinfo": "text",
           "lat": [
            33.749,
            30.2672,
            39.2908,
            42.3601,
            35.2271,
            42.047,
            42.3315,
            29.7604,
            34.0522,
            40.7831,
            36.1627,
            40.7357,
            38.8816,
            39.9526,
            33.4484,
            40.7608,
            32.7157,
            37.7749,
            47.6062,
            25.7617,
            27.9506
           ],
           "lon": [
            -84.388,
            -97.7431,
            -76.6108,
            -71.0589,
            -80.8431,
            -87.6846,
            -83.0466,
            -95.3698,
            -118.2437,
            -73.9712,
            -86.7816,
            -74.1724,
            -77.091,
            -75.1652,
            -112.074,
            -111.891,
            -117.1611,
            -122.4194,
            -122.3321,
            -80.1918,
            -82.4572
           ],
           "marker": {
            "cmax": 94.19122422000001,
            "cmin": 20.99818657,
            "color": [
             35.0552203,
             51.25808607,
             26.17220285,
             56.78524532000001,
             35.97377963,
             30.91739337,
             23.63639915,
             36.698371,
             49.28535858000001,
             85.48768405,
             37.71007131,
             32.67591925,
             36.55105088,
             33.75166818,
             32.50926528,
             30.21891976,
             46.74823437,
             75.10270325,
             49.28481608,
             52.63818037,
             33.63129849
            ],
            "colorbar": {
             "len": 0.6,
             "thickness": 15,
             "title": {
              "text": "Class A Rent ($)"
             },
             "y": 0.5,
             "yanchor": "middle"
            },
            "colorscale": [
             [
              0,
              "#440154"
             ],
             [
              0.1111111111111111,
              "#482878"
             ],
             [
              0.2222222222222222,
              "#3e4989"
             ],
             [
              0.3333333333333333,
              "#31688e"
             ],
             [
              0.4444444444444444,
              "#26828e"
             ],
             [
              0.5555555555555556,
              "#1f9e89"
             ],
             [
              0.6666666666666666,
              "#35b779"
             ],
             [
              0.7777777777777778,
              "#6ece58"
             ],
             [
              0.8888888888888888,
              "#b5de2b"
             ],
             [
              1,
              "#fde725"
             ]
            ],
            "line": {
             "color": "DarkSlateGrey",
             "width": 1
            },
            "size": [
             13.366633684168722,
             20.633018167494907,
             10.751790823433371,
             23.67553556701785,
             13.701957080142114,
             11.995587390210469,
             10.273728497957876,
             13.973859106529062,
             19.61035943610154,
             43.081776495426006,
             14.364087820575353,
             12.549136714695829,
             13.918058431632339,
             12.909366771544654,
             12.494763430143692,
             11.78856001409987,
             18.346845855825883,
             35.42176013584596,
             19.610082971826756,
             21.368676759203225,
             12.868275408722857
            ]
           },
           "mode": "markers",
           "name": "2024-Q3",
           "text": [
            "<b>Atlanta</b><br>Time Period: 2024-Q3<br>Class A Rent: $35.06<br>Class O Rent: $24.94<br>A/O Ratio: 1.41",
            "<b>Austin</b><br>Time Period: 2024-Q3<br>Class A Rent: $51.26<br>Class O Rent: $34.30<br>A/O Ratio: 1.49",
            "<b>Baltimore</b><br>Time Period: 2024-Q3<br>Class A Rent: $26.17<br>Class O Rent: $21.27<br>A/O Ratio: 1.23",
            "<b>Boston</b><br>Time Period: 2024-Q3<br>Class A Rent: $56.79<br>Class O Rent: $31.67<br>A/O Ratio: 1.79",
            "<b>Charlotte</b><br>Time Period: 2024-Q3<br>Class A Rent: $35.97<br>Class O Rent: $28.15<br>A/O Ratio: 1.28",
            "<b>Chicago Suburbs</b><br>Time Period: 2024-Q3<br>Class A Rent: $30.92<br>Class O Rent: $22.07<br>A/O Ratio: 1.40",
            "<b>Detroit</b><br>Time Period: 2024-Q3<br>Class A Rent: $23.64<br>Class O Rent: $19.96<br>A/O Ratio: 1.18",
            "<b>Houston</b><br>Time Period: 2024-Q3<br>Class A Rent: $36.70<br>Class O Rent: $22.78<br>A/O Ratio: 1.61",
            "<b>Los Angeles</b><br>Time Period: 2024-Q3<br>Class A Rent: $49.29<br>Class O Rent: $41.16<br>A/O Ratio: 1.20",
            "<b>Manhattan</b><br>Time Period: 2024-Q3<br>Class A Rent: $85.49<br>Class O Rent: $61.65<br>A/O Ratio: 1.39",
            "<b>Nashville</b><br>Time Period: 2024-Q3<br>Class A Rent: $37.71<br>Class O Rent: $29.40<br>A/O Ratio: 1.28",
            "<b>Northern New Jersey</b><br>Time Period: 2024-Q3<br>Class A Rent: $32.68<br>Class O Rent: $24.59<br>A/O Ratio: 1.33",
            "<b>Northern Virginia</b><br>Time Period: 2024-Q3<br>Class A Rent: $36.55<br>Class O Rent: $32.34<br>A/O Ratio: 1.13",
            "<b>Philadelphia</b><br>Time Period: 2024-Q3<br>Class A Rent: $33.75<br>Class O Rent: $28.04<br>A/O Ratio: 1.20",
            "<b>Phoenix</b><br>Time Period: 2024-Q3<br>Class A Rent: $32.51<br>Class O Rent: $27.54<br>A/O Ratio: 1.18",
            "<b>Salt Lake City</b><br>Time Period: 2024-Q3<br>Class A Rent: $30.22<br>Class O Rent: $24.09<br>A/O Ratio: 1.25",
            "<b>San Diego</b><br>Time Period: 2024-Q3<br>Class A Rent: $46.75<br>Class O Rent: $33.66<br>A/O Ratio: 1.39",
            "<b>San Francisco</b><br>Time Period: 2024-Q3<br>Class A Rent: $75.10<br>Class O Rent: $57.91<br>A/O Ratio: 1.30",
            "<b>Seattle</b><br>Time Period: 2024-Q3<br>Class A Rent: $49.28<br>Class O Rent: $35.53<br>A/O Ratio: 1.39",
            "<b>South Florida</b><br>Time Period: 2024-Q3<br>Class A Rent: $52.64<br>Class O Rent: $36.27<br>A/O Ratio: 1.45",
            "<b>Tampa</b><br>Time Period: 2024-Q3<br>Class A Rent: $33.63<br>Class O Rent: $26.04<br>A/O Ratio: 1.29"
           ],
           "type": "scattergeo"
          }
         ],
         "layout": {
          "title": {
           "text": "US Market Rental Rates Over Time: 2024-Q3"
          }
         },
         "name": "2024-Q3"
        },
        {
         "data": [
          {
           "hoverinfo": "text",
           "lat": [
            33.749,
            30.2672,
            39.2908,
            42.3601,
            35.2271,
            42.047,
            42.3315,
            29.7604,
            34.0522,
            40.7831,
            36.1627,
            40.7357,
            38.8816,
            39.9526,
            33.4484,
            40.7608,
            32.7157,
            37.7749,
            47.6062,
            25.7617,
            27.9506
           ],
           "lon": [
            -84.388,
            -97.7431,
            -76.6108,
            -71.0589,
            -80.8431,
            -87.6846,
            -83.0466,
            -95.3698,
            -118.2437,
            -73.9712,
            -86.7816,
            -74.1724,
            -77.091,
            -75.1652,
            -112.074,
            -111.891,
            -117.1611,
            -122.4194,
            -122.3321,
            -80.1918,
            -82.4572
           ],
           "marker": {
            "cmax": 94.19122422000001,
            "cmin": 20.99818657,
            "color": [
             35.33,
             51.26,
             26.33,
             57.95,
             36.73,
             31.36,
             23.46,
             36.23,
             50.07999999999999,
             84.82782826999998,
             39.68,
             32.87,
             36.37,
             33.89,
             32.63,
             30.17,
             47.74,
             75.21,
             50.41,
             54.66,
             32.98
            ],
            "colorbar": {
             "len": 0.6,
             "thickness": 15,
             "title": {
              "text": "Class A Rent ($)"
             },
             "y": 0.5,
             "yanchor": "middle"
            },
            "colorscale": [
             [
              0,
              "#440154"
             ],
             [
              0.1111111111111111,
              "#482878"
             ],
             [
              0.2222222222222222,
              "#3e4989"
             ],
             [
              0.3333333333333333,
              "#31688e"
             ],
             [
              0.4444444444444444,
              "#26828e"
             ],
             [
              0.5555555555555556,
              "#1f9e89"
             ],
             [
              0.6666666666666666,
              "#35b779"
             ],
             [
              0.7777777777777778,
              "#6ece58"
             ],
             [
              0.8888888888888888,
              "#b5de2b"
             ],
             [
              1,
              "#fde725"
             ]
            ],
            "line": {
             "color": "DarkSlateGrey",
             "width": 1
            },
            "size": [
             13.465828373872574,
             20.634026986489218,
             10.786443903835183,
             24.34858149439355,
             13.985873532650537,
             12.130634654253916,
             10.246739135535446,
             13.7973685677415,
             20.018150689515355,
             42.57533899026057,
             15.158030191254346,
             12.612948970638131,
             13.84984275263806,
             12.956829970910544,
             12.534115909302574,
             11.774345346199198,
             18.833679041292747,
             35.49741992269818,
             20.189151919528047,
             22.47560445675216,
             12.64934894738407
            ]
           },
           "mode": "markers",
           "name": "2024-Q4",
           "text": [
            "<b>Atlanta</b><br>Time Period: 2024-Q4<br>Class A Rent: $35.33<br>Class O Rent: $25.39<br>A/O Ratio: 1.39",
            "<b>Austin</b><br>Time Period: 2024-Q4<br>Class A Rent: $51.26<br>Class O Rent: $34.28<br>A/O Ratio: 1.50",
            "<b>Baltimore</b><br>Time Period: 2024-Q4<br>Class A Rent: $26.33<br>Class O Rent: $21.09<br>A/O Ratio: 1.25",
            "<b>Boston</b><br>Time Period: 2024-Q4<br>Class A Rent: $57.95<br>Class O Rent: $31.07<br>A/O Ratio: 1.87",
            "<b>Charlotte</b><br>Time Period: 2024-Q4<br>Class A Rent: $36.73<br>Class O Rent: $27.71<br>A/O Ratio: 1.33",
            "<b>Chicago Suburbs</b><br>Time Period: 2024-Q4<br>Class A Rent: $31.36<br>Class O Rent: $22.71<br>A/O Ratio: 1.38",
            "<b>Detroit</b><br>Time Period: 2024-Q4<br>Class A Rent: $23.46<br>Class O Rent: $20.00<br>A/O Ratio: 1.17",
            "<b>Houston</b><br>Time Period: 2024-Q4<br>Class A Rent: $36.23<br>Class O Rent: $22.73<br>A/O Ratio: 1.59",
            "<b>Los Angeles</b><br>Time Period: 2024-Q4<br>Class A Rent: $50.08<br>Class O Rent: $41.02<br>A/O Ratio: 1.22",
            "<b>Manhattan</b><br>Time Period: 2024-Q4<br>Class A Rent: $84.83<br>Class O Rent: $61.30<br>A/O Ratio: 1.38",
            "<b>Nashville</b><br>Time Period: 2024-Q4<br>Class A Rent: $39.68<br>Class O Rent: $29.37<br>A/O Ratio: 1.35",
            "<b>Northern New Jersey</b><br>Time Period: 2024-Q4<br>Class A Rent: $32.87<br>Class O Rent: $24.89<br>A/O Ratio: 1.32",
            "<b>Northern Virginia</b><br>Time Period: 2024-Q4<br>Class A Rent: $36.37<br>Class O Rent: $32.53<br>A/O Ratio: 1.12",
            "<b>Philadelphia</b><br>Time Period: 2024-Q4<br>Class A Rent: $33.89<br>Class O Rent: $28.27<br>A/O Ratio: 1.20",
            "<b>Phoenix</b><br>Time Period: 2024-Q4<br>Class A Rent: $32.63<br>Class O Rent: $26.93<br>A/O Ratio: 1.21",
            "<b>Salt Lake City</b><br>Time Period: 2024-Q4<br>Class A Rent: $30.17<br>Class O Rent: $24.28<br>A/O Ratio: 1.24",
            "<b>San Diego</b><br>Time Period: 2024-Q4<br>Class A Rent: $47.74<br>Class O Rent: $33.81<br>A/O Ratio: 1.41",
            "<b>San Francisco</b><br>Time Period: 2024-Q4<br>Class A Rent: $75.21<br>Class O Rent: $56.72<br>A/O Ratio: 1.33",
            "<b>Seattle</b><br>Time Period: 2024-Q4<br>Class A Rent: $50.41<br>Class O Rent: $35.78<br>A/O Ratio: 1.41",
            "<b>South Florida</b><br>Time Period: 2024-Q4<br>Class A Rent: $54.66<br>Class O Rent: $37.01<br>A/O Ratio: 1.48",
            "<b>Tampa</b><br>Time Period: 2024-Q4<br>Class A Rent: $32.98<br>Class O Rent: $25.60<br>A/O Ratio: 1.29"
           ],
           "type": "scattergeo"
          }
         ],
         "layout": {
          "title": {
           "text": "US Market Rental Rates Over Time: 2024-Q4"
          }
         },
         "name": "2024-Q4"
        }
       ],
       "layout": {
        "annotations": [
         {
          "bgcolor": "white",
          "bordercolor": "black",
          "borderpad": 4,
          "borderwidth": 1,
          "opacity": 0.8,
          "showarrow": false,
          "text": "<b>Visualization Features:</b><br>• Marker size shows Class A rent (larger = higher rent)<br>• Color intensity also indicates rent level<br>• Hover over markers for detailed information",
          "x": 0.01,
          "xref": "paper",
          "y": 0.9,
          "yref": "paper"
         }
        ],
        "autosize": true,
        "dragmode": "pan",
        "geo": {
         "center": {
          "lat": 39.5,
          "lon": -98.35
         },
         "coastlinecolor": "white",
         "countrycolor": "white",
         "lakecolor": "rgb(255, 255, 255)",
         "landcolor": "rgb(217, 217, 217)",
         "projection": {
          "scale": 0.8,
          "type": "albers usa"
         },
         "scope": "usa",
         "showlakes": true,
         "showland": true,
         "subunitcolor": "white"
        },
        "margin": {
         "b": 200,
         "l": 0,
         "pad": 0,
         "r": 0,
         "t": 50
        },
        "sliders": [
         {
          "active": 0,
          "currentvalue": {
           "font": {
            "size": 14
           },
           "prefix": "Time Period: ",
           "visible": true,
           "xanchor": "right"
          },
          "len": 0.9,
          "pad": {
           "b": 50,
           "t": 10
          },
          "steps": [
           {
            "args": [
             [
              "2018-Q1"
             ],
             {
              "frame": {
               "duration": 300,
               "redraw": true
              },
              "layout": {
               "title": "US Market Rental Rates Over Time: 2018-Q1"
              },
              "mode": "immediate",
              "transition": {
               "duration": 300
              }
             }
            ],
            "label": "2018-Q1",
            "method": "animate"
           },
           {
            "args": [
             [
              "2018-Q2"
             ],
             {
              "frame": {
               "duration": 300,
               "redraw": true
              },
              "layout": {
               "title": "US Market Rental Rates Over Time: 2018-Q2"
              },
              "mode": "immediate",
              "transition": {
               "duration": 300
              }
             }
            ],
            "label": "2018-Q2",
            "method": "animate"
           },
           {
            "args": [
             [
              "2018-Q3"
             ],
             {
              "frame": {
               "duration": 300,
               "redraw": true
              },
              "layout": {
               "title": "US Market Rental Rates Over Time: 2018-Q3"
              },
              "mode": "immediate",
              "transition": {
               "duration": 300
              }
             }
            ],
            "label": "2018-Q3",
            "method": "animate"
           },
           {
            "args": [
             [
              "2018-Q4"
             ],
             {
              "frame": {
               "duration": 300,
               "redraw": true
              },
              "layout": {
               "title": "US Market Rental Rates Over Time: 2018-Q4"
              },
              "mode": "immediate",
              "transition": {
               "duration": 300
              }
             }
            ],
            "label": "2018-Q4",
            "method": "animate"
           },
           {
            "args": [
             [
              "2019-Q1"
             ],
             {
              "frame": {
               "duration": 300,
               "redraw": true
              },
              "layout": {
               "title": "US Market Rental Rates Over Time: 2019-Q1"
              },
              "mode": "immediate",
              "transition": {
               "duration": 300
              }
             }
            ],
            "label": "2019-Q1",
            "method": "animate"
           },
           {
            "args": [
             [
              "2019-Q2"
             ],
             {
              "frame": {
               "duration": 300,
               "redraw": true
              },
              "layout": {
               "title": "US Market Rental Rates Over Time: 2019-Q2"
              },
              "mode": "immediate",
              "transition": {
               "duration": 300
              }
             }
            ],
            "label": "2019-Q2",
            "method": "animate"
           },
           {
            "args": [
             [
              "2019-Q3"
             ],
             {
              "frame": {
               "duration": 300,
               "redraw": true
              },
              "layout": {
               "title": "US Market Rental Rates Over Time: 2019-Q3"
              },
              "mode": "immediate",
              "transition": {
               "duration": 300
              }
             }
            ],
            "label": "2019-Q3",
            "method": "animate"
           },
           {
            "args": [
             [
              "2019-Q4"
             ],
             {
              "frame": {
               "duration": 300,
               "redraw": true
              },
              "layout": {
               "title": "US Market Rental Rates Over Time: 2019-Q4"
              },
              "mode": "immediate",
              "transition": {
               "duration": 300
              }
             }
            ],
            "label": "2019-Q4",
            "method": "animate"
           },
           {
            "args": [
             [
              "2020-Q1"
             ],
             {
              "frame": {
               "duration": 300,
               "redraw": true
              },
              "layout": {
               "title": "US Market Rental Rates Over Time: 2020-Q1"
              },
              "mode": "immediate",
              "transition": {
               "duration": 300
              }
             }
            ],
            "label": "2020-Q1",
            "method": "animate"
           },
           {
            "args": [
             [
              "2020-Q2"
             ],
             {
              "frame": {
               "duration": 300,
               "redraw": true
              },
              "layout": {
               "title": "US Market Rental Rates Over Time: 2020-Q2"
              },
              "mode": "immediate",
              "transition": {
               "duration": 300
              }
             }
            ],
            "label": "2020-Q2",
            "method": "animate"
           },
           {
            "args": [
             [
              "2020-Q3"
             ],
             {
              "frame": {
               "duration": 300,
               "redraw": true
              },
              "layout": {
               "title": "US Market Rental Rates Over Time: 2020-Q3"
              },
              "mode": "immediate",
              "transition": {
               "duration": 300
              }
             }
            ],
            "label": "2020-Q3",
            "method": "animate"
           },
           {
            "args": [
             [
              "2020-Q4"
             ],
             {
              "frame": {
               "duration": 300,
               "redraw": true
              },
              "layout": {
               "title": "US Market Rental Rates Over Time: 2020-Q4"
              },
              "mode": "immediate",
              "transition": {
               "duration": 300
              }
             }
            ],
            "label": "2020-Q4",
            "method": "animate"
           },
           {
            "args": [
             [
              "2021-Q1"
             ],
             {
              "frame": {
               "duration": 300,
               "redraw": true
              },
              "layout": {
               "title": "US Market Rental Rates Over Time: 2021-Q1"
              },
              "mode": "immediate",
              "transition": {
               "duration": 300
              }
             }
            ],
            "label": "2021-Q1",
            "method": "animate"
           },
           {
            "args": [
             [
              "2021-Q2"
             ],
             {
              "frame": {
               "duration": 300,
               "redraw": true
              },
              "layout": {
               "title": "US Market Rental Rates Over Time: 2021-Q2"
              },
              "mode": "immediate",
              "transition": {
               "duration": 300
              }
             }
            ],
            "label": "2021-Q2",
            "method": "animate"
           },
           {
            "args": [
             [
              "2021-Q3"
             ],
             {
              "frame": {
               "duration": 300,
               "redraw": true
              },
              "layout": {
               "title": "US Market Rental Rates Over Time: 2021-Q3"
              },
              "mode": "immediate",
              "transition": {
               "duration": 300
              }
             }
            ],
            "label": "2021-Q3",
            "method": "animate"
           },
           {
            "args": [
             [
              "2021-Q4"
             ],
             {
              "frame": {
               "duration": 300,
               "redraw": true
              },
              "layout": {
               "title": "US Market Rental Rates Over Time: 2021-Q4"
              },
              "mode": "immediate",
              "transition": {
               "duration": 300
              }
             }
            ],
            "label": "2021-Q4",
            "method": "animate"
           },
           {
            "args": [
             [
              "2022-Q1"
             ],
             {
              "frame": {
               "duration": 300,
               "redraw": true
              },
              "layout": {
               "title": "US Market Rental Rates Over Time: 2022-Q1"
              },
              "mode": "immediate",
              "transition": {
               "duration": 300
              }
             }
            ],
            "label": "2022-Q1",
            "method": "animate"
           },
           {
            "args": [
             [
              "2022-Q2"
             ],
             {
              "frame": {
               "duration": 300,
               "redraw": true
              },
              "layout": {
               "title": "US Market Rental Rates Over Time: 2022-Q2"
              },
              "mode": "immediate",
              "transition": {
               "duration": 300
              }
             }
            ],
            "label": "2022-Q2",
            "method": "animate"
           },
           {
            "args": [
             [
              "2022-Q3"
             ],
             {
              "frame": {
               "duration": 300,
               "redraw": true
              },
              "layout": {
               "title": "US Market Rental Rates Over Time: 2022-Q3"
              },
              "mode": "immediate",
              "transition": {
               "duration": 300
              }
             }
            ],
            "label": "2022-Q3",
            "method": "animate"
           },
           {
            "args": [
             [
              "2022-Q4"
             ],
             {
              "frame": {
               "duration": 300,
               "redraw": true
              },
              "layout": {
               "title": "US Market Rental Rates Over Time: 2022-Q4"
              },
              "mode": "immediate",
              "transition": {
               "duration": 300
              }
             }
            ],
            "label": "2022-Q4",
            "method": "animate"
           },
           {
            "args": [
             [
              "2023-Q1"
             ],
             {
              "frame": {
               "duration": 300,
               "redraw": true
              },
              "layout": {
               "title": "US Market Rental Rates Over Time: 2023-Q1"
              },
              "mode": "immediate",
              "transition": {
               "duration": 300
              }
             }
            ],
            "label": "2023-Q1",
            "method": "animate"
           },
           {
            "args": [
             [
              "2023-Q2"
             ],
             {
              "frame": {
               "duration": 300,
               "redraw": true
              },
              "layout": {
               "title": "US Market Rental Rates Over Time: 2023-Q2"
              },
              "mode": "immediate",
              "transition": {
               "duration": 300
              }
             }
            ],
            "label": "2023-Q2",
            "method": "animate"
           },
           {
            "args": [
             [
              "2023-Q3"
             ],
             {
              "frame": {
               "duration": 300,
               "redraw": true
              },
              "layout": {
               "title": "US Market Rental Rates Over Time: 2023-Q3"
              },
              "mode": "immediate",
              "transition": {
               "duration": 300
              }
             }
            ],
            "label": "2023-Q3",
            "method": "animate"
           },
           {
            "args": [
             [
              "2023-Q4"
             ],
             {
              "frame": {
               "duration": 300,
               "redraw": true
              },
              "layout": {
               "title": "US Market Rental Rates Over Time: 2023-Q4"
              },
              "mode": "immediate",
              "transition": {
               "duration": 300
              }
             }
            ],
            "label": "2023-Q4",
            "method": "animate"
           },
           {
            "args": [
             [
              "2024-Q1"
             ],
             {
              "frame": {
               "duration": 300,
               "redraw": true
              },
              "layout": {
               "title": "US Market Rental Rates Over Time: 2024-Q1"
              },
              "mode": "immediate",
              "transition": {
               "duration": 300
              }
             }
            ],
            "label": "2024-Q1",
            "method": "animate"
           },
           {
            "args": [
             [
              "2024-Q2"
             ],
             {
              "frame": {
               "duration": 300,
               "redraw": true
              },
              "layout": {
               "title": "US Market Rental Rates Over Time: 2024-Q2"
              },
              "mode": "immediate",
              "transition": {
               "duration": 300
              }
             }
            ],
            "label": "2024-Q2",
            "method": "animate"
           },
           {
            "args": [
             [
              "2024-Q3"
             ],
             {
              "frame": {
               "duration": 300,
               "redraw": true
              },
              "layout": {
               "title": "US Market Rental Rates Over Time: 2024-Q3"
              },
              "mode": "immediate",
              "transition": {
               "duration": 300
              }
             }
            ],
            "label": "2024-Q3",
            "method": "animate"
           },
           {
            "args": [
             [
              "2024-Q4"
             ],
             {
              "frame": {
               "duration": 300,
               "redraw": true
              },
              "layout": {
               "title": "US Market Rental Rates Over Time: 2024-Q4"
              },
              "mode": "immediate",
              "transition": {
               "duration": 300
              }
             }
            ],
            "label": "2024-Q4",
            "method": "animate"
           }
          ],
          "tickcolor": "white",
          "transition": {
           "duration": 300,
           "easing": "cubic-in-out"
          },
          "x": 0.1,
          "y": -0.2,
          "yanchor": "bottom"
         }
        ],
        "template": {
         "data": {
          "bar": [
           {
            "error_x": {
             "color": "#2a3f5f"
            },
            "error_y": {
             "color": "#2a3f5f"
            },
            "marker": {
             "line": {
              "color": "#E5ECF6",
              "width": 0.5
             },
             "pattern": {
              "fillmode": "overlay",
              "size": 10,
              "solidity": 0.2
             }
            },
            "type": "bar"
           }
          ],
          "barpolar": [
           {
            "marker": {
             "line": {
              "color": "#E5ECF6",
              "width": 0.5
             },
             "pattern": {
              "fillmode": "overlay",
              "size": 10,
              "solidity": 0.2
             }
            },
            "type": "barpolar"
           }
          ],
          "carpet": [
           {
            "aaxis": {
             "endlinecolor": "#2a3f5f",
             "gridcolor": "white",
             "linecolor": "white",
             "minorgridcolor": "white",
             "startlinecolor": "#2a3f5f"
            },
            "baxis": {
             "endlinecolor": "#2a3f5f",
             "gridcolor": "white",
             "linecolor": "white",
             "minorgridcolor": "white",
             "startlinecolor": "#2a3f5f"
            },
            "type": "carpet"
           }
          ],
          "choropleth": [
           {
            "colorbar": {
             "outlinewidth": 0,
             "ticks": ""
            },
            "type": "choropleth"
           }
          ],
          "contour": [
           {
            "colorbar": {
             "outlinewidth": 0,
             "ticks": ""
            },
            "colorscale": [
             [
              0,
              "#0d0887"
             ],
             [
              0.1111111111111111,
              "#46039f"
             ],
             [
              0.2222222222222222,
              "#7201a8"
             ],
             [
              0.3333333333333333,
              "#9c179e"
             ],
             [
              0.4444444444444444,
              "#bd3786"
             ],
             [
              0.5555555555555556,
              "#d8576b"
             ],
             [
              0.6666666666666666,
              "#ed7953"
             ],
             [
              0.7777777777777778,
              "#fb9f3a"
             ],
             [
              0.8888888888888888,
              "#fdca26"
             ],
             [
              1,
              "#f0f921"
             ]
            ],
            "type": "contour"
           }
          ],
          "contourcarpet": [
           {
            "colorbar": {
             "outlinewidth": 0,
             "ticks": ""
            },
            "type": "contourcarpet"
           }
          ],
          "heatmap": [
           {
            "colorbar": {
             "outlinewidth": 0,
             "ticks": ""
            },
            "colorscale": [
             [
              0,
              "#0d0887"
             ],
             [
              0.1111111111111111,
              "#46039f"
             ],
             [
              0.2222222222222222,
              "#7201a8"
             ],
             [
              0.3333333333333333,
              "#9c179e"
             ],
             [
              0.4444444444444444,
              "#bd3786"
             ],
             [
              0.5555555555555556,
              "#d8576b"
             ],
             [
              0.6666666666666666,
              "#ed7953"
             ],
             [
              0.7777777777777778,
              "#fb9f3a"
             ],
             [
              0.8888888888888888,
              "#fdca26"
             ],
             [
              1,
              "#f0f921"
             ]
            ],
            "type": "heatmap"
           }
          ],
          "heatmapgl": [
           {
            "colorbar": {
             "outlinewidth": 0,
             "ticks": ""
            },
            "colorscale": [
             [
              0,
              "#0d0887"
             ],
             [
              0.1111111111111111,
              "#46039f"
             ],
             [
              0.2222222222222222,
              "#7201a8"
             ],
             [
              0.3333333333333333,
              "#9c179e"
             ],
             [
              0.4444444444444444,
              "#bd3786"
             ],
             [
              0.5555555555555556,
              "#d8576b"
             ],
             [
              0.6666666666666666,
              "#ed7953"
             ],
             [
              0.7777777777777778,
              "#fb9f3a"
             ],
             [
              0.8888888888888888,
              "#fdca26"
             ],
             [
              1,
              "#f0f921"
             ]
            ],
            "type": "heatmapgl"
           }
          ],
          "histogram": [
           {
            "marker": {
             "pattern": {
              "fillmode": "overlay",
              "size": 10,
              "solidity": 0.2
             }
            },
            "type": "histogram"
           }
          ],
          "histogram2d": [
           {
            "colorbar": {
             "outlinewidth": 0,
             "ticks": ""
            },
            "colorscale": [
             [
              0,
              "#0d0887"
             ],
             [
              0.1111111111111111,
              "#46039f"
             ],
             [
              0.2222222222222222,
              "#7201a8"
             ],
             [
              0.3333333333333333,
              "#9c179e"
             ],
             [
              0.4444444444444444,
              "#bd3786"
             ],
             [
              0.5555555555555556,
              "#d8576b"
             ],
             [
              0.6666666666666666,
              "#ed7953"
             ],
             [
              0.7777777777777778,
              "#fb9f3a"
             ],
             [
              0.8888888888888888,
              "#fdca26"
             ],
             [
              1,
              "#f0f921"
             ]
            ],
            "type": "histogram2d"
           }
          ],
          "histogram2dcontour": [
           {
            "colorbar": {
             "outlinewidth": 0,
             "ticks": ""
            },
            "colorscale": [
             [
              0,
              "#0d0887"
             ],
             [
              0.1111111111111111,
              "#46039f"
             ],
             [
              0.2222222222222222,
              "#7201a8"
             ],
             [
              0.3333333333333333,
              "#9c179e"
             ],
             [
              0.4444444444444444,
              "#bd3786"
             ],
             [
              0.5555555555555556,
              "#d8576b"
             ],
             [
              0.6666666666666666,
              "#ed7953"
             ],
             [
              0.7777777777777778,
              "#fb9f3a"
             ],
             [
              0.8888888888888888,
              "#fdca26"
             ],
             [
              1,
              "#f0f921"
             ]
            ],
            "type": "histogram2dcontour"
           }
          ],
          "mesh3d": [
           {
            "colorbar": {
             "outlinewidth": 0,
             "ticks": ""
            },
            "type": "mesh3d"
           }
          ],
          "parcoords": [
           {
            "line": {
             "colorbar": {
              "outlinewidth": 0,
              "ticks": ""
             }
            },
            "type": "parcoords"
           }
          ],
          "pie": [
           {
            "automargin": true,
            "type": "pie"
           }
          ],
          "scatter": [
           {
            "fillpattern": {
             "fillmode": "overlay",
             "size": 10,
             "solidity": 0.2
            },
            "type": "scatter"
           }
          ],
          "scatter3d": [
           {
            "line": {
             "colorbar": {
              "outlinewidth": 0,
              "ticks": ""
             }
            },
            "marker": {
             "colorbar": {
              "outlinewidth": 0,
              "ticks": ""
             }
            },
            "type": "scatter3d"
           }
          ],
          "scattercarpet": [
           {
            "marker": {
             "colorbar": {
              "outlinewidth": 0,
              "ticks": ""
             }
            },
            "type": "scattercarpet"
           }
          ],
          "scattergeo": [
           {
            "marker": {
             "colorbar": {
              "outlinewidth": 0,
              "ticks": ""
             }
            },
            "type": "scattergeo"
           }
          ],
          "scattergl": [
           {
            "marker": {
             "colorbar": {
              "outlinewidth": 0,
              "ticks": ""
             }
            },
            "type": "scattergl"
           }
          ],
          "scattermapbox": [
           {
            "marker": {
             "colorbar": {
              "outlinewidth": 0,
              "ticks": ""
             }
            },
            "type": "scattermapbox"
           }
          ],
          "scatterpolar": [
           {
            "marker": {
             "colorbar": {
              "outlinewidth": 0,
              "ticks": ""
             }
            },
            "type": "scatterpolar"
           }
          ],
          "scatterpolargl": [
           {
            "marker": {
             "colorbar": {
              "outlinewidth": 0,
              "ticks": ""
             }
            },
            "type": "scatterpolargl"
           }
          ],
          "scatterternary": [
           {
            "marker": {
             "colorbar": {
              "outlinewidth": 0,
              "ticks": ""
             }
            },
            "type": "scatterternary"
           }
          ],
          "surface": [
           {
            "colorbar": {
             "outlinewidth": 0,
             "ticks": ""
            },
            "colorscale": [
             [
              0,
              "#0d0887"
             ],
             [
              0.1111111111111111,
              "#46039f"
             ],
             [
              0.2222222222222222,
              "#7201a8"
             ],
             [
              0.3333333333333333,
              "#9c179e"
             ],
             [
              0.4444444444444444,
              "#bd3786"
             ],
             [
              0.5555555555555556,
              "#d8576b"
             ],
             [
              0.6666666666666666,
              "#ed7953"
             ],
             [
              0.7777777777777778,
              "#fb9f3a"
             ],
             [
              0.8888888888888888,
              "#fdca26"
             ],
             [
              1,
              "#f0f921"
             ]
            ],
            "type": "surface"
           }
          ],
          "table": [
           {
            "cells": {
             "fill": {
              "color": "#EBF0F8"
             },
             "line": {
              "color": "white"
             }
            },
            "header": {
             "fill": {
              "color": "#C8D4E3"
             },
             "line": {
              "color": "white"
             }
            },
            "type": "table"
           }
          ]
         },
         "layout": {
          "annotationdefaults": {
           "arrowcolor": "#2a3f5f",
           "arrowhead": 0,
           "arrowwidth": 1
          },
          "autotypenumbers": "strict",
          "coloraxis": {
           "colorbar": {
            "outlinewidth": 0,
            "ticks": ""
           }
          },
          "colorscale": {
           "diverging": [
            [
             0,
             "#8e0152"
            ],
            [
             0.1,
             "#c51b7d"
            ],
            [
             0.2,
             "#de77ae"
            ],
            [
             0.3,
             "#f1b6da"
            ],
            [
             0.4,
             "#fde0ef"
            ],
            [
             0.5,
             "#f7f7f7"
            ],
            [
             0.6,
             "#e6f5d0"
            ],
            [
             0.7,
             "#b8e186"
            ],
            [
             0.8,
             "#7fbc41"
            ],
            [
             0.9,
             "#4d9221"
            ],
            [
             1,
             "#276419"
            ]
           ],
           "sequential": [
            [
             0,
             "#0d0887"
            ],
            [
             0.1111111111111111,
             "#46039f"
            ],
            [
             0.2222222222222222,
             "#7201a8"
            ],
            [
             0.3333333333333333,
             "#9c179e"
            ],
            [
             0.4444444444444444,
             "#bd3786"
            ],
            [
             0.5555555555555556,
             "#d8576b"
            ],
            [
             0.6666666666666666,
             "#ed7953"
            ],
            [
             0.7777777777777778,
             "#fb9f3a"
            ],
            [
             0.8888888888888888,
             "#fdca26"
            ],
            [
             1,
             "#f0f921"
            ]
           ],
           "sequentialminus": [
            [
             0,
             "#0d0887"
            ],
            [
             0.1111111111111111,
             "#46039f"
            ],
            [
             0.2222222222222222,
             "#7201a8"
            ],
            [
             0.3333333333333333,
             "#9c179e"
            ],
            [
             0.4444444444444444,
             "#bd3786"
            ],
            [
             0.5555555555555556,
             "#d8576b"
            ],
            [
             0.6666666666666666,
             "#ed7953"
            ],
            [
             0.7777777777777778,
             "#fb9f3a"
            ],
            [
             0.8888888888888888,
             "#fdca26"
            ],
            [
             1,
             "#f0f921"
            ]
           ]
          },
          "colorway": [
           "#636efa",
           "#EF553B",
           "#00cc96",
           "#ab63fa",
           "#FFA15A",
           "#19d3f3",
           "#FF6692",
           "#B6E880",
           "#FF97FF",
           "#FECB52"
          ],
          "font": {
           "color": "#2a3f5f"
          },
          "geo": {
           "bgcolor": "white",
           "lakecolor": "white",
           "landcolor": "#E5ECF6",
           "showlakes": true,
           "showland": true,
           "subunitcolor": "white"
          },
          "hoverlabel": {
           "align": "left"
          },
          "hovermode": "closest",
          "mapbox": {
           "style": "light"
          },
          "paper_bgcolor": "white",
          "plot_bgcolor": "#E5ECF6",
          "polar": {
           "angularaxis": {
            "gridcolor": "white",
            "linecolor": "white",
            "ticks": ""
           },
           "bgcolor": "#E5ECF6",
           "radialaxis": {
            "gridcolor": "white",
            "linecolor": "white",
            "ticks": ""
           }
          },
          "scene": {
           "xaxis": {
            "backgroundcolor": "#E5ECF6",
            "gridcolor": "white",
            "gridwidth": 2,
            "linecolor": "white",
            "showbackground": true,
            "ticks": "",
            "zerolinecolor": "white"
           },
           "yaxis": {
            "backgroundcolor": "#E5ECF6",
            "gridcolor": "white",
            "gridwidth": 2,
            "linecolor": "white",
            "showbackground": true,
            "ticks": "",
            "zerolinecolor": "white"
           },
           "zaxis": {
            "backgroundcolor": "#E5ECF6",
            "gridcolor": "white",
            "gridwidth": 2,
            "linecolor": "white",
            "showbackground": true,
            "ticks": "",
            "zerolinecolor": "white"
           }
          },
          "shapedefaults": {
           "line": {
            "color": "#2a3f5f"
           }
          },
          "ternary": {
           "aaxis": {
            "gridcolor": "white",
            "linecolor": "white",
            "ticks": ""
           },
           "baxis": {
            "gridcolor": "white",
            "linecolor": "white",
            "ticks": ""
           },
           "bgcolor": "#E5ECF6",
           "caxis": {
            "gridcolor": "white",
            "linecolor": "white",
            "ticks": ""
           }
          },
          "title": {
           "x": 0.05
          },
          "xaxis": {
           "automargin": true,
           "gridcolor": "white",
           "linecolor": "white",
           "ticks": "",
           "title": {
            "standoff": 15
           },
           "zerolinecolor": "white",
           "zerolinewidth": 2
          },
          "yaxis": {
           "automargin": true,
           "gridcolor": "white",
           "linecolor": "white",
           "ticks": "",
           "title": {
            "standoff": 15
           },
           "zerolinecolor": "white",
           "zerolinewidth": 2
          }
         }
        },
        "title": {
         "font": {
          "size": 20
         },
         "text": "US Market Rental Rates Over Time: 2018-Q1",
         "x": 0.5,
         "y": 0.98,
         "yanchor": "top"
        },
        "updatemenus": [
         {
          "buttons": [
           {
            "args": [
             null,
             {
              "frame": {
               "duration": 800,
               "redraw": true
              },
              "fromcurrent": true,
              "transition": {
               "duration": 300,
               "easing": "quadratic-in-out"
              }
             }
            ],
            "label": "Play",
            "method": "animate"
           },
           {
            "args": [
             [
              null
             ],
             {
              "frame": {
               "duration": 0,
               "redraw": true
              },
              "mode": "immediate",
              "transition": {
               "duration": 0
              }
             }
            ],
            "label": "Pause",
            "method": "animate"
           }
          ],
          "pad": {
           "b": 10,
           "r": 10,
           "t": 10
          },
          "showactive": false,
          "type": "buttons",
          "x": 0.9,
          "xanchor": "right",
          "y": 0.9,
          "yanchor": "top"
         }
        ]
       }
      }
     },
     "metadata": {},
     "output_type": "display_data"
    },
    {
     "name": "stdout",
     "output_type": "stream",
     "text": [
      "Fullscreen visualization saved as 'us_market_rent_fullscreen.html'\n"
     ]
    }
   ],
   "source": [
    "import pandas as pd\n",
    "import numpy as np\n",
    "import plotly.express as px\n",
    "import plotly.graph_objects as go\n",
    "from plotly.subplots import make_subplots\n",
    "from geopy.geocoders import Nominatim\n",
    "import time\n",
    "import os\n",
    "\n",
    "# Add predefined coordinates to use if geocoding fails\n",
    "MARKET_COORDINATES = {\n",
    "    'Atlanta': [33.7490, -84.3880],\n",
    "    'Austin': [30.2672, -97.7431],\n",
    "    'Baltimore': [39.2908, -76.6108],\n",
    "    'Boston': [42.3601, -71.0589],\n",
    "    'Charlotte': [35.2271, -80.8431],\n",
    "    'Chicago': [41.8781, -87.6298],\n",
    "    'Chicago Suburbs': [42.0470, -87.6846],\n",
    "    'Dallas/Ft Worth': [32.7767, -96.7970],\n",
    "    'Denver': [39.7392, -104.9903],\n",
    "    'Detroit': [42.3315, -83.0466],\n",
    "    'Houston': [29.7604, -95.3698],\n",
    "    'Los Angeles': [34.0522, -118.2437],\n",
    "    'Manhattan': [40.7831, -73.9712],\n",
    "    'Nashville': [36.1627, -86.7816],\n",
    "    'Northern New Jersey': [40.7357, -74.1724],\n",
    "    'Northern Virginia': [38.8816, -77.0910],\n",
    "    'Orange County': [33.7175, -117.8311],\n",
    "    'Philadelphia': [39.9526, -75.1652],\n",
    "    'Phoenix': [33.4484, -112.0740],\n",
    "    'Raleigh/Durham': [35.7796, -78.6382],\n",
    "    'Salt Lake City': [40.7608, -111.8910],\n",
    "    'San Diego': [32.7157, -117.1611],\n",
    "    'San Francisco': [37.7749, -122.4194],\n",
    "    'Seattle': [47.6062, -122.3321],\n",
    "    'South Bay/San Jose': [37.3382, -121.8863],\n",
    "    'South Florida': [25.7617, -80.1918],\n",
    "    'Southern Maryland': [38.5076, -76.9820],\n",
    "    'Tampa': [27.9506, -82.4572],\n",
    "    'Washington D.C.': [38.9072, -77.0369]\n",
    "}\n",
    "\n",
    "# Function to get latitude and longitude with retry mechanism\n",
    "def get_coordinates(location_name):\n",
    "    # First check if we have predefined coordinates\n",
    "    if location_name in MARKET_COORDINATES:\n",
    "        return MARKET_COORDINATES[location_name]\n",
    "    \n",
    "    # Try geocoding as fallback\n",
    "    geolocator = Nominatim(user_agent=\"market_map\")\n",
    "    \n",
    "    # Fix some location names for better geocoding\n",
    "    location_map = {\n",
    "        'Raleigh/Durham': 'Raleigh, NC, USA',\n",
    "        'Dallas/Ft Worth': 'Dallas, TX, USA',\n",
    "        'Manhattan': 'Manhattan, NY, USA',\n",
    "        'Northern New Jersey': 'Newark, NJ, USA',\n",
    "        'Northern Virginia': 'Arlington, VA, USA',\n",
    "        'Orange County': 'Orange County, CA, USA',\n",
    "        'South Bay/San Jose': 'San Jose, CA, USA',\n",
    "        'South Florida': 'Miami, FL, USA',\n",
    "        'Southern Maryland': 'Annapolis, MD, USA',\n",
    "        'Chicago Suburbs': 'Evanston, IL, USA',\n",
    "        'Washington D.C.': 'Washington DC, USA'\n",
    "    }\n",
    "    \n",
    "    search_name = location_map.get(location_name, location_name + ', USA')\n",
    "    \n",
    "    for attempt in range(3):  # Try up to 3 times\n",
    "        try:\n",
    "            location = geolocator.geocode(search_name)\n",
    "            if location:\n",
    "                return location.latitude, location.longitude\n",
    "            time.sleep(1)  # Be nice to the geocoding service\n",
    "        except Exception as e:\n",
    "            print(f\"Error geocoding {location_name}: {e}\")\n",
    "            time.sleep(2)  # Wait a bit longer before retrying\n",
    "    \n",
    "    # Return default coordinates if geocoding fails\n",
    "    print(f\"Could not geocode {location_name}, using default coordinates\")\n",
    "    return None, None\n",
    "\n",
    "# Function to calculate marker size with greater differentiation\n",
    "def calculate_marker_size(rent_value, min_rent, max_rent):\n",
    "    \"\"\"\n",
    "    Calculate a marker size that emphasizes differences in rent values.\n",
    "    \n",
    "    Parameters:\n",
    "    -----------\n",
    "    rent_value : float\n",
    "        The rent value for this marker\n",
    "    min_rent : float\n",
    "        The minimum rent in the dataset\n",
    "    max_rent : float\n",
    "        The maximum rent in the dataset\n",
    "        \n",
    "    Returns:\n",
    "    --------\n",
    "    float : The calculated marker size\n",
    "    \"\"\"\n",
    "    if pd.isna(rent_value) or min_rent == max_rent:\n",
    "        return 15  # Default size\n",
    "    \n",
    "    # Normalize the value between 0 and 1\n",
    "    normalized = (rent_value - min_rent) / (max_rent - min_rent)\n",
    "    \n",
    "    # Apply a power function to emphasize differences (square for higher contrast)\n",
    "    # This makes high values much larger than low values\n",
    "    emphasized = normalized ** 1.5\n",
    "    \n",
    "    # Map to a more dramatic size range (8 to 40)\n",
    "    return 10 + emphasized * 40\n",
    "\n",
    "# Function to create custom HTML with fullscreen capability and fixed slider position\n",
    "def create_fullscreen_html(fig, filename=\"us_market_rent_fullscreen.html\"):\n",
    "    \"\"\"Create an HTML file with fullscreen capabilities\"\"\"\n",
    "    \n",
    "    # First get the regular HTML from plotly\n",
    "    raw_html = fig.to_html(\n",
    "        config={\n",
    "            'responsive': True,\n",
    "            'displayModeBar': True,\n",
    "            'scrollZoom': True\n",
    "        },\n",
    "        include_plotlyjs='cdn',\n",
    "        full_html=True,\n",
    "        include_mathjax=False\n",
    "    )\n",
    "    \n",
    "    # Insert custom CSS for fullscreen and fixed control positioning\n",
    "    custom_css = \"\"\"\n",
    "    <style>\n",
    "    body, html {\n",
    "        height: 100%;\n",
    "        margin: 0;\n",
    "        padding: 0;\n",
    "        overflow: hidden;\n",
    "    }\n",
    "    \n",
    "    .plotly-graph-div {\n",
    "        height: 100vh !important;\n",
    "        width: 100vw !important;\n",
    "    }\n",
    "    \n",
    "    .js-plotly-plot, .plot-container {\n",
    "        height: 100%;\n",
    "        width: 100%;\n",
    "    }\n",
    "    \n",
    "    /* Position controls for better layout */\n",
    "    .updatemenu-container {\n",
    "        top: 10px !important;\n",
    "    }\n",
    "    \n",
    "    /* Much lower slider position to avoid covering any part of the map */\n",
    "    .slider-container {\n",
    "        bottom: 100px !important;\n",
    "        padding-bottom: 50px !important;\n",
    "    }\n",
    "\n",
    "    /* Make slider more compact */\n",
    "    .slider-track {\n",
    "        height: 3px !important;\n",
    "    }\n",
    "\n",
    "    .slider-text {\n",
    "        font-size: 10px !important;\n",
    "    }\n",
    "    </style>\n",
    "    \n",
    "    <meta name=\"viewport\" content=\"width=device-width, initial-scale=1.0, maximum-scale=1.0, user-scalable=no\">\n",
    "    \"\"\"\n",
    "    \n",
    "    # Insert the custom CSS after the <head> tag\n",
    "    modified_html = raw_html.replace('</head>', f'{custom_css}</head>')\n",
    "    \n",
    "    # Write the modified HTML to a file\n",
    "    with open(filename, 'w', encoding='utf-8') as f:\n",
    "        f.write(modified_html)\n",
    "    \n",
    "    print(f\"Fullscreen visualization saved as '{filename}'\")\n",
    "    \n",
    "    # Try to open the file automatically in the default browser\n",
    "    try:\n",
    "        # Get absolute path for more reliable opening\n",
    "        abs_path = os.path.abspath(filename)\n",
    "        import webbrowser\n",
    "        webbrowser.open('file://' + abs_path, new=2)\n",
    "    except Exception as e:\n",
    "        print(f\"Could not auto-open the file: {e}\")\n",
    "    \n",
    "    return filename\n",
    "\n",
    "def create_time_series_visualization(csv_file_path=r'/Users/kaylienguyen/Downloads/Lease-revised.csv', use_sample_data=False):\n",
    "    \"\"\"\n",
    "    Create an enhanced visualization with a time slider\n",
    "    \n",
    "    Parameters:\n",
    "    -----------\n",
    "    csv_file_path : str or None\n",
    "        Path to the CSV file. If None, will use sample data\n",
    "    use_sample_data : bool\n",
    "        Whether to use sample data (True) or load actual data (False)\n",
    "        \n",
    "    Returns:\n",
    "    --------\n",
    "    None, displays the figure\n",
    "    \"\"\"\n",
    "    if use_sample_data:\n",
    "        # Create sample data that includes time dimension\n",
    "        # Sample time periods - 2018-Q1 through 2024-Q4\n",
    "        time_periods = []\n",
    "        for year in range(2018, 2025):\n",
    "            for quarter in range(1, 5):\n",
    "                time_periods.append((year, quarter))\n",
    "        \n",
    "        # Sample markets\n",
    "        markets = [\n",
    "            'Atlanta', 'Austin', 'Boston', 'Chicago', 'Dallas/Ft Worth', \n",
    "            'Denver', 'Houston', 'Los Angeles', 'Manhattan', 'Miami', \n",
    "            'Orange County', 'Philadelphia', 'Phoenix', 'Raleigh/Durham', \n",
    "            'San Francisco', 'Seattle', 'Washington D.C.'\n",
    "        ]\n",
    "        \n",
    "        # Generate data for each time period, market, and class\n",
    "        data = []\n",
    "        np.random.seed(42)  # For reproducibility\n",
    "        \n",
    "        # Define growth trends for different markets (annual percentage growth)\n",
    "        market_growth = {\n",
    "            'Atlanta': 5,\n",
    "            'Austin': 8,\n",
    "            'Boston': 4,\n",
    "            'Chicago': 3,\n",
    "            'Dallas/Ft Worth': 7,\n",
    "            'Denver': 6,\n",
    "            'Houston': 5,\n",
    "            'Los Angeles': 4,\n",
    "            'Manhattan': 3,\n",
    "            'Miami': 9,\n",
    "            'Orange County': 4,\n",
    "            'Philadelphia': 3,\n",
    "            'Phoenix': 7,\n",
    "            'Raleigh/Durham': 6,\n",
    "            'San Francisco': 2,\n",
    "            'Seattle': 5,\n",
    "            'Washington D.C.': 4\n",
    "        }\n",
    "        \n",
    "        # Base rents for 2018-Q1 (starting values)\n",
    "        base_rents = {\n",
    "            'Atlanta': {'A': 29.5, 'O': 21.2},\n",
    "            'Austin': {'A': 39.8, 'O': 26.5},\n",
    "            'Boston': {'A': 50.2, 'O': 26.9},\n",
    "            'Chicago': {'A': 39.5, 'O': 28.0},\n",
    "            'Dallas/Ft Worth': {'A': 30.2, 'O': 23.1},\n",
    "            'Denver': {'A': 34.7, 'O': 26.0},\n",
    "            'Houston': {'A': 30.4, 'O': 18.8},\n",
    "            'Los Angeles': {'A': 44.5, 'O': 36.6},\n",
    "            'Manhattan': {'A': 77.2, 'O': 56.7},\n",
    "            'Miami': {'A': 41.3, 'O': 28.5},\n",
    "            'Orange County': {'A': 39.1, 'O': 33.6},\n",
    "            'Philadelphia': {'A': 29.5, 'O': 24.5},\n",
    "            'Phoenix': {'A': 26.8, 'O': 22.2},\n",
    "            'Raleigh/Durham': {'A': 32.6, 'O': 26.5},\n",
    "            'San Francisco': {'A': 70.5, 'O': 52.2},\n",
    "            'Seattle': {'A': 44.8, 'O': 31.5},\n",
    "            'Washington D.C.': {'A': 53.2, 'O': 40.7}\n",
    "        }\n",
    "        \n",
    "        for time_idx, (year, quarter) in enumerate(time_periods):\n",
    "            period_label = f\"{year}-Q{quarter}\"\n",
    "            \n",
    "            for market in markets:\n",
    "                # Calculate quarters since start to simulate growth over time\n",
    "                quarters_passed = time_idx\n",
    "                \n",
    "                # Apply baseline growth\n",
    "                growth_factor = 1 + (market_growth[market] / 100 * quarters_passed / 4)\n",
    "                \n",
    "                # Add market-specific random variation\n",
    "                market_random_factor = 1 + (np.random.random() * 0.04 - 0.02)  # +/- 2% random variation\n",
    "                \n",
    "                # Calculate rent for each class with growth over time\n",
    "                for class_type in ['A', 'O']:\n",
    "                    base_rent = base_rents[market][class_type]\n",
    "                    current_rent = base_rent * growth_factor * market_random_factor\n",
    "                    \n",
    "                    # Get coordinates from the predefined dictionary\n",
    "                    lat, lon = MARKET_COORDINATES.get(market, [None, None])\n",
    "                    \n",
    "                    data.append({\n",
    "                        'year': year,\n",
    "                        'quarter': quarter,\n",
    "                        'time_period': period_label,\n",
    "                        'market': market,\n",
    "                        'internal_class': class_type,\n",
    "                        'internal_class_rent': round(current_rent, 2),\n",
    "                        'latitude': lat,\n",
    "                        'longitude': lon\n",
    "                    })\n",
    "        \n",
    "        df = pd.DataFrame(data)\n",
    "        \n",
    "    else:\n",
    "        # Load actual data\n",
    "        print(f\"Loading data from {csv_file_path}...\")\n",
    "        try:\n",
    "            leasing = pd.read_csv(csv_file_path)\n",
    "            print(f\"Successfully loaded {len(leasing)} rows of data.\")\n",
    "        except Exception as e:\n",
    "            print(f\"Error loading data: {e}\")\n",
    "            print(\"Using sample data instead.\")\n",
    "            return create_time_series_visualization(use_sample_data=True)\n",
    "        \n",
    "        # Filter out rows with missing internal_class_rent\n",
    "        df = leasing.dropna(subset=['internal_class_rent'])\n",
    "        \n",
    "        # Keep only necessary columns and filter for classes A and O\n",
    "        # Let's make sure we can handle different class naming in the data\n",
    "        print(f\"Unique internal classes: {leasing['internal_class'].unique()}\")\n",
    "        \n",
    "        # Keep only specific classes - filter for A and O classes\n",
    "        # If your data uses different class labels, modify this filter\n",
    "        df = df[df['internal_class'].isin(['A', 'O'])]\n",
    "        \n",
    "        # Keep only necessary columns\n",
    "        df = df[['year', 'quarter', 'market', 'internal_class', 'internal_class_rent']]\n",
    "        \n",
    "        # Create a time_period column (e.g., '2023-Q1')\n",
    "        df['time_period'] = df['year'].astype(str) + '-Q' + df['quarter'].astype(str)\n",
    "        \n",
    "        # Get coordinates for each market (use predefined values if available)\n",
    "        print(\"Getting coordinates for markets...\")\n",
    "        market_coords = {}\n",
    "        markets = df['market'].unique()\n",
    "        print(f\"Markets in data: {sorted(markets)}\")\n",
    "        \n",
    "        for market in markets:\n",
    "            # Use predefined coordinates if available\n",
    "            if market in MARKET_COORDINATES:\n",
    "                market_coords[market] = MARKET_COORDINATES[market]\n",
    "                continue\n",
    "                \n",
    "            # Only geocode markets we don't have predefined coordinates for\n",
    "            if market not in market_coords:\n",
    "                lat, lon = get_coordinates(market)\n",
    "                market_coords[market] = (lat, lon)\n",
    "                time.sleep(1)  # Respect rate limits\n",
    "        \n",
    "        # Add latitude and longitude\n",
    "        df['latitude'] = df['market'].map(lambda x: market_coords.get(x, (None, None))[0])\n",
    "        df['longitude'] = df['market'].map(lambda x: market_coords.get(x, (None, None))[1])\n",
    "        \n",
    "        # Drop rows with missing coordinates\n",
    "        orig_len = len(df)\n",
    "        df = df.dropna(subset=['latitude', 'longitude'])\n",
    "        dropped = orig_len - len(df)\n",
    "        if dropped > 0:\n",
    "            print(f\"Dropped {dropped} rows with missing coordinates.\")\n",
    "    \n",
    "    # Get average rent by market, class, and time period\n",
    "    df_avg = df.groupby(['time_period', 'year', 'quarter', 'market', 'internal_class']).agg({\n",
    "        'internal_class_rent': 'mean',\n",
    "        'latitude': 'first',\n",
    "        'longitude': 'first'\n",
    "    }).reset_index()\n",
    "    \n",
    "    # Sort by time period\n",
    "    df_avg = df_avg.sort_values(['year', 'quarter', 'market', 'internal_class'])\n",
    "    \n",
    "    # Create a pivot table for each time period\n",
    "    time_periods = df_avg['time_period'].unique()\n",
    "    time_periods.sort()  # Sort time periods chronologically\n",
    "    \n",
    "    print(f\"Time periods found: {time_periods}\")\n",
    "    \n",
    "    # Find global min and max for consistent circle sizing\n",
    "    a_class_rents = df_avg[df_avg['internal_class'] == 'A']['internal_class_rent']\n",
    "    global_min_rent = a_class_rents.min() if len(a_class_rents) > 0 else 0\n",
    "    global_max_rent = a_class_rents.max() if len(a_class_rents) > 0 else 100\n",
    "    \n",
    "    # Store frames for animation\n",
    "    frames = []\n",
    "    \n",
    "    for period in time_periods:\n",
    "        # Filter data for this time period\n",
    "        period_data = df_avg[df_avg['time_period'] == period]\n",
    "        \n",
    "        # Skip if no data for this period\n",
    "        if len(period_data) == 0:\n",
    "            continue\n",
    "            \n",
    "        # Create pivot table for this period\n",
    "        try:\n",
    "            pivot_df = period_data.pivot_table(\n",
    "                index='market',\n",
    "                columns='internal_class',\n",
    "                values='internal_class_rent',\n",
    "                aggfunc='mean'\n",
    "            ).reset_index()\n",
    "            \n",
    "            # Add coordinates\n",
    "            pivot_df = pd.merge(\n",
    "                pivot_df,\n",
    "                period_data[['market', 'latitude', 'longitude']].drop_duplicates(),\n",
    "                on='market'\n",
    "            )\n",
    "            \n",
    "            # Ensure both A and O columns exist\n",
    "            if 'A' not in pivot_df.columns:\n",
    "                pivot_df['A'] = np.nan\n",
    "            if 'O' not in pivot_df.columns:\n",
    "                pivot_df['O'] = np.nan\n",
    "                \n",
    "            # Add marker size to dataframe\n",
    "            pivot_df['marker_size'] = pivot_df['A'].apply(\n",
    "                lambda x: calculate_marker_size(x, global_min_rent, global_max_rent)\n",
    "            )\n",
    "                \n",
    "            # Enhanced hover text with marker size info\n",
    "            pivot_df['hover_text'] = pivot_df.apply(\n",
    "                lambda row: f\"<b>{row['market']}</b><br>\" +\n",
    "                            f\"Time Period: {period}<br>\" +\n",
    "                            f\"Class A Rent: ${row['A']:.2f}<br>\" +\n",
    "                            f\"Class O Rent: ${row['O']:.2f}\" +\n",
    "                            (f\"<br>A/O Ratio: {(row['A']/row['O']):.2f}\" if not pd.isna(row['A']) and not pd.isna(row['O']) and row['O'] > 0 else \"\"),\n",
    "                axis=1\n",
    "            )\n",
    "            \n",
    "            # Store this frame\n",
    "            frames.append(go.Frame(\n",
    "                data=[go.Scattergeo(\n",
    "                    lat=pivot_df['latitude'],\n",
    "                    lon=pivot_df['longitude'],\n",
    "                    text=pivot_df['hover_text'],\n",
    "                    hoverinfo='text',\n",
    "                    mode='markers',\n",
    "                    marker=dict(\n",
    "                        size=pivot_df['marker_size'],\n",
    "                        color=pivot_df['A'],\n",
    "                        colorscale='Viridis',\n",
    "                        cmin=global_min_rent,\n",
    "                        cmax=global_max_rent,\n",
    "                        colorbar=dict(\n",
    "                            title='Class A Rent ($)',\n",
    "                            thickness=15,\n",
    "                            len=0.6,\n",
    "                            y=0.5,\n",
    "                            yanchor='middle'\n",
    "                        ),\n",
    "                        line=dict(width=1, color='DarkSlateGrey')\n",
    "                    ),\n",
    "                    name=period\n",
    "                )],\n",
    "                name=period,\n",
    "                layout=go.Layout(\n",
    "                    title=f\"US Market Rental Rates Over Time: {period}\"  # Title specific to this frame\n",
    "                )\n",
    "            ))\n",
    "        except Exception as e:\n",
    "            print(f\"Error processing period {period}: {e}\")\n",
    "            continue\n",
    "    \n",
    "    # Check if we have any frames\n",
    "    if len(frames) == 0:\n",
    "        print(\"No frames could be created. Check your data and try again.\")\n",
    "        return None\n",
    "        \n",
    "    # Create base figure with first time period\n",
    "    first_period = frames[0].name\n",
    "    first_data = df_avg[df_avg['time_period'] == first_period]\n",
    "    \n",
    "    # Create pivot table for first period\n",
    "    first_pivot = first_data.pivot_table(\n",
    "        index='market',\n",
    "        columns='internal_class',\n",
    "        values='internal_class_rent',\n",
    "        aggfunc='mean'\n",
    "    ).reset_index()\n",
    "    \n",
    "    # Add coordinates\n",
    "    first_pivot = pd.merge(\n",
    "        first_pivot,\n",
    "        first_data[['market', 'latitude', 'longitude']].drop_duplicates(),\n",
    "        on='market'\n",
    "    )\n",
    "    \n",
    "    # Ensure both A and O columns exist\n",
    "    if 'A' not in first_pivot.columns:\n",
    "        first_pivot['A'] = np.nan\n",
    "    if 'O' not in first_pivot.columns:\n",
    "        first_pivot['O'] = np.nan\n",
    "    \n",
    "    # Add marker size to dataframe\n",
    "    first_pivot['marker_size'] = first_pivot['A'].apply(\n",
    "        lambda x: calculate_marker_size(x, global_min_rent, global_max_rent)\n",
    "    )\n",
    "    \n",
    "    # Create custom hover text\n",
    "    first_pivot['hover_text'] = first_pivot.apply(\n",
    "        lambda row: f\"<b>{row['market']}</b><br>\" +\n",
    "                    f\"Time Period: {first_period}<br>\" +\n",
    "                    f\"Class A Rent: ${row['A']:.2f}<br>\" +\n",
    "                    f\"Class O Rent: ${row['O']:.2f}\" +\n",
    "                    (f\"<br>A/O Ratio: {(row['A']/row['O']):.2f}\" if not pd.isna(row['A']) and not pd.isna(row['O']) and row['O'] > 0 else \"\"),\n",
    "        axis=1\n",
    "    )\n",
    "    \n",
    "    # Create figure with responsive layout\n",
    "    fig = go.Figure(\n",
    "        data=[go.Scattergeo(\n",
    "            lat=first_pivot['latitude'],\n",
    "            lon=first_pivot['longitude'],\n",
    "            text=first_pivot['hover_text'],\n",
    "            hoverinfo='text',\n",
    "            mode='markers',\n",
    "            marker=dict(\n",
    "                size=first_pivot['marker_size'],\n",
    "                color=first_pivot['A'],\n",
    "                colorscale='Viridis',\n",
    "                cmin=global_min_rent,\n",
    "                cmax=global_max_rent,\n",
    "                colorbar=dict(\n",
    "                    title='Class A Rent ($)',\n",
    "                    thickness=15,\n",
    "                    len=0.6,\n",
    "                    y=0.5,\n",
    "                    yanchor='middle'\n",
    "                ),\n",
    "                line=dict(width=1, color='DarkSlateGrey')\n",
    "            ),\n",
    "            name=first_period\n",
    "        )],\n",
    "        frames=frames,\n",
    "        layout=go.Layout(\n",
    "            title=dict(\n",
    "                text=f\"US Market Rental Rates Over Time: {first_period}\",\n",
    "                x=0.5,\n",
    "                y=0.98,\n",
    "                yanchor='top',\n",
    "                font=dict(size=20)\n",
    "            ),\n",
    "            updatemenus=[dict(\n",
    "                type='buttons',\n",
    "                showactive=False,\n",
    "                y=0.90,  # Move buttons to top right\n",
    "                x=0.9,\n",
    "                xanchor='right',\n",
    "                yanchor='top',\n",
    "                pad=dict(r=10, t=10, b=10),\n",
    "                buttons=[dict(\n",
    "                    label='Play',\n",
    "                    method='animate',\n",
    "                    args=[None, dict(\n",
    "                        frame=dict(duration=800, redraw=True),\n",
    "                        fromcurrent=True,\n",
    "                        transition=dict(duration=300, easing='quadratic-in-out')\n",
    "                    )]\n",
    "                ), dict(\n",
    "                    label='Pause',\n",
    "                    method='animate',\n",
    "                    args=[[None], dict(\n",
    "                        frame=dict(duration=0, redraw=True),\n",
    "                        mode='immediate',\n",
    "                        transition=dict(duration=0)\n",
    "                    )]\n",
    "                )]\n",
    "            )],\n",
    "            sliders=[dict(\n",
    "                active=0,\n",
    "                steps=[dict(\n",
    "                    method='animate',\n",
    "                    args=[[frame.name], dict(\n",
    "                        mode='immediate',\n",
    "                        frame=dict(duration=300, redraw=True),\n",
    "                        transition=dict(duration=300),\n",
    "                        layout=dict(title=f\"US Market Rental Rates Over Time: {frame.name}\")  # Update title when slider moves\n",
    "                    )],\n",
    "                    label=frame.name\n",
    "                ) for frame in frames],\n",
    "                transition=dict(duration=300, easing='cubic-in-out'),\n",
    "                pad=dict(b=50, t=10),  # Much more bottom padding\n",
    "                currentvalue=dict(\n",
    "                    font=dict(size=14),\n",
    "                    prefix='Time Period: ',\n",
    "                    visible=True,\n",
    "                    xanchor='right'\n",
    "                ),\n",
    "                len=0.9,\n",
    "                x=0.1,\n",
    "                y=-0.2,  # Position slider well below the map (-0.2 is way outside the plot area)\n",
    "                yanchor='bottom',\n",
    "                tickcolor='white'\n",
    "            )],\n",
    "            geo=dict(\n",
    "                scope='usa',\n",
    "                projection_type='albers usa',\n",
    "                showland=True,\n",
    "                landcolor='rgb(217, 217, 217)',\n",
    "                coastlinecolor='white',\n",
    "                countrycolor='white',\n",
    "                showlakes=True,\n",
    "                lakecolor='rgb(255, 255, 255)',\n",
    "                subunitcolor='white',\n",
    "                center=dict(lat=39.5, lon=-98.35),  # Center the map slightly higher\n",
    "                projection=dict(\n",
    "                    scale=0.80  # Significantly reduced scale to leave more room\n",
    "                )\n",
    "            ),\n",
    "            # Extreme bottom margin to accommodate the slider\n",
    "            autosize=True,\n",
    "            dragmode='pan',\n",
    "            margin=dict(r=0, t=50, l=0, b=200, pad=0),  # Much larger bottom margin (200px)\n",
    "        )\n",
    "    )\n",
    "    \n",
    "    # Add annotations explaining the visualization\n",
    "    fig.add_annotation(\n",
    "        text=\"<b>Visualization Features:</b><br>\" +\n",
    "             \"• Marker size shows Class A rent (larger = higher rent)<br>\" +\n",
    "             \"• Color intensity also indicates rent level<br>\" + \n",
    "             \"• Hover over markers for detailed information\",\n",
    "        xref=\"paper\", yref=\"paper\",\n",
    "        x=0.01, y=0.90,\n",
    "        showarrow=False,\n",
    "        bordercolor=\"black\",\n",
    "        borderwidth=1,\n",
    "        borderpad=4,\n",
    "        bgcolor=\"white\",\n",
    "        opacity=0.8\n",
    "    )\n",
    "    \n",
    "    # Show figure\n",
    "    fig.show()\n",
    "    \n",
    "    # Create custom fullscreen HTML\n",
    "    create_fullscreen_html(fig)\n",
    "    \n",
    "    return fig\n",
    "\n",
    "# Execute the function\n",
    "if __name__ == \"__main__\":\n",
    "    # Use actual data by default with the path provided\n",
    "    try:\n",
    "        fig = create_time_series_visualization(use_sample_data=False)\n",
    "        if fig is None:\n",
    "            print(\"Trying with sample data instead...\")\n",
    "            fig = create_time_series_visualization(use_sample_data=True)\n",
    "    except Exception as e:\n",
    "        print(f\"Error: {e}\")\n",
    "        print(\"Trying with sample data instead...\")\n",
    "        fig = create_time_series_visualization(use_sample_data=True)"
   ]
  }
 ],
 "metadata": {
  "kernelspec": {
   "display_name": "mlpython",
   "language": "python",
   "name": "python3"
  },
  "language_info": {
   "codemirror_mode": {
    "name": "ipython",
    "version": 3
   },
   "file_extension": ".py",
   "mimetype": "text/x-python",
   "name": "python",
   "nbconvert_exporter": "python",
   "pygments_lexer": "ipython3",
   "version": "3.8.18"
  },
  "orig_nbformat": 4
 },
 "nbformat": 4,
 "nbformat_minor": 2
}
