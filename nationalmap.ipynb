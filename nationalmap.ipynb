{
 "cells": [
  {
   "cell_type": "markdown",
   "metadata": {},
   "source": [
    "# US National Map"
   ]
  },
  {
   "cell_type": "markdown",
   "metadata": {},
   "source": [
    "US wide map of 5 cities (dallas, manhattan, la, chicago, etc. or all) and when you hover over each market, you can see the internal_class_rent. This means you can compare what the internal class rent is for la vs chicago versus any other city. And this is used in the beginning stages for a client who is looking ot expand and is highly price sensitive \n"
   ]
  },
  {
   "cell_type": "code",
   "execution_count": 1,
   "metadata": {},
   "outputs": [],
   "source": [
    "import pandas as pd\n",
    "import matplotlib.pyplot as plt\n",
    "import seaborn as sns\n",
    "import numpy as np"
   ]
  },
  {
   "cell_type": "code",
   "execution_count": 2,
   "metadata": {},
   "outputs": [
    {
     "data": {
      "text/plain": [
       "<bound method NDFrame.head of         year  quarter  monthsigned   market            building_name  \\\n",
       "0       2018        1          1.0  Atlanta  10 Glenlake North Tower   \n",
       "1       2018        1          1.0  Atlanta            100 City View   \n",
       "2       2018        1          1.0  Atlanta            1000 Parkwood   \n",
       "3       2018        1          1.0  Atlanta           1100 Circle 75   \n",
       "4       2018        1          1.0  Atlanta             1200 Ashwood   \n",
       "...      ...      ...          ...      ...                      ...   \n",
       "194680  2024        4         12.0    Tampa              Building II   \n",
       "194681  2024        4         12.0    Tampa             Midtown East   \n",
       "194682  2024        4         12.0    Tampa               Park Tower   \n",
       "194683  2024        4         12.0    Tampa          Rivergate Tower   \n",
       "194684  2024        4         12.0    Tampa                 Spectrum   \n",
       "\n",
       "                                              building_id  \\\n",
       "0       Atlanta_Central Perimeter_Atlanta_10 Glenlake ...   \n",
       "1       Atlanta_Northwest_Atlanta_100 City View_3330 C...   \n",
       "2       Atlanta_Northwest_Atlanta_1000 Parkwood_1000 P...   \n",
       "3       Atlanta_Northwest_Atlanta_1100 Circle 75_1100 ...   \n",
       "4       Atlanta_Central Perimeter_Atlanta_1200 Ashwood...   \n",
       "...                                                   ...   \n",
       "194680  Tampa_Westshore_Tampa_Building II_3111 W Dr Ma...   \n",
       "194681    Tampa_Westshore_Tampa_Midtown East_1 Midtown Pl   \n",
       "194682    Tampa_Tampa CBD_Tampa_Park Tower_400 N Tampa St   \n",
       "194683  Tampa_Tampa CBD_Tampa_Rivergate Tower_400 N As...   \n",
       "194684  Tampa_Westshore_Tampa_Spectrum_3101 W Dr Marti...   \n",
       "\n",
       "                                  address region     city state  ...  \\\n",
       "0                      10 Glenlake Pky NE  South  Atlanta    GA  ...   \n",
       "1                    3330 Cumberland Blvd  South  Atlanta    GA  ...   \n",
       "2                    1000 Parkwood Cir SE  South  Atlanta    GA  ...   \n",
       "3                   1100 Circle 75 Pky SE  South  Atlanta    GA  ...   \n",
       "4                        1200 Ashwood Pky  South  Atlanta    GA  ...   \n",
       "...                                   ...    ...      ...   ...  ...   \n",
       "194680  3111 W Dr Martin Luther King Blvd  South    Tampa    FL  ...   \n",
       "194681                       1 Midtown Pl  South    Tampa    FL  ...   \n",
       "194682                     400 N Tampa St  South    Tampa    FL  ...   \n",
       "194683                    400 N Ashley Dr  South    Tampa    FL  ...   \n",
       "194684  3101 W Dr Martin Luther King Blvd  South    Tampa    FL  ...   \n",
       "\n",
       "        overall_rent direct_available_space direct_availability_proportion  \\\n",
       "0          24.345689                    NaN                            NaN   \n",
       "1          24.345689                    NaN                            NaN   \n",
       "2          24.345689                    NaN                            NaN   \n",
       "3          24.345689                    NaN                            NaN   \n",
       "4          24.345689                    NaN                            NaN   \n",
       "...              ...                    ...                            ...   \n",
       "194680     29.460000              4227315.0                         0.0779   \n",
       "194681     29.460000              4227315.0                         0.0779   \n",
       "194682     29.460000              3967413.0                         0.0731   \n",
       "194683     29.460000              4227315.0                         0.0779   \n",
       "194684     29.460000              3967413.0                         0.0731   \n",
       "\n",
       "        direct_internal_class_rent direct_overall_rent sublet_available_space  \\\n",
       "0                              NaN                 NaN                    NaN   \n",
       "1                              NaN                 NaN                    NaN   \n",
       "2                              NaN                 NaN                    NaN   \n",
       "3                              NaN                 NaN                    NaN   \n",
       "4                              NaN                 NaN                    NaN   \n",
       "...                            ...                 ...                    ...   \n",
       "194680                   33.566518           29.801662              1545553.0   \n",
       "194681                   33.566518           29.801662              1545553.0   \n",
       "194682                   25.777557           29.801662               924341.0   \n",
       "194683                   33.566518           29.801662              1545553.0   \n",
       "194684                   25.777557           29.801662               924341.0   \n",
       "\n",
       "       sublet_availability_proportion sublet_internal_class_rent  \\\n",
       "0                                 NaN                        NaN   \n",
       "1                                 NaN                        NaN   \n",
       "2                                 NaN                        NaN   \n",
       "3                                 NaN                        NaN   \n",
       "4                                 NaN                        NaN   \n",
       "...                               ...                        ...   \n",
       "194680                         0.0285                  26.162086   \n",
       "194681                         0.0285                  26.162086   \n",
       "194682                         0.0170                  22.768426   \n",
       "194683                         0.0285                  26.162086   \n",
       "194684                         0.0170                  22.768426   \n",
       "\n",
       "        sublet_overall_rent    leasing  \n",
       "0                       NaN  1205126.0  \n",
       "1                       NaN  1205126.0  \n",
       "2                       NaN  1205126.0  \n",
       "3                       NaN   715742.0  \n",
       "4                       NaN  1205126.0  \n",
       "...                     ...        ...  \n",
       "194680            24.797899   770384.0  \n",
       "194681            24.797899   770384.0  \n",
       "194682            24.797899   328947.0  \n",
       "194683            24.797899   770384.0  \n",
       "194684            24.797899   328947.0  \n",
       "\n",
       "[194685 rows x 35 columns]>"
      ]
     },
     "execution_count": 2,
     "metadata": {},
     "output_type": "execute_result"
    }
   ],
   "source": [
    "leasing = pd.read_csv(\"/Users/kaylienguyen/Downloads/Lease-revised.csv\")\n",
    "leasing.head"
   ]
  },
  {
   "cell_type": "code",
   "execution_count": 13,
   "metadata": {},
   "outputs": [
    {
     "data": {
      "text/html": [
       "<div>\n",
       "<style scoped>\n",
       "    .dataframe tbody tr th:only-of-type {\n",
       "        vertical-align: middle;\n",
       "    }\n",
       "\n",
       "    .dataframe tbody tr th {\n",
       "        vertical-align: top;\n",
       "    }\n",
       "\n",
       "    .dataframe thead th {\n",
       "        text-align: right;\n",
       "    }\n",
       "</style>\n",
       "<table border=\"1\" class=\"dataframe\">\n",
       "  <thead>\n",
       "    <tr style=\"text-align: right;\">\n",
       "      <th></th>\n",
       "      <th>year</th>\n",
       "      <th>quarter</th>\n",
       "      <th>monthsigned</th>\n",
       "      <th>market</th>\n",
       "      <th>building_name</th>\n",
       "      <th>building_id</th>\n",
       "      <th>address</th>\n",
       "      <th>region</th>\n",
       "      <th>city</th>\n",
       "      <th>state</th>\n",
       "      <th>...</th>\n",
       "      <th>overall_rent</th>\n",
       "      <th>direct_available_space</th>\n",
       "      <th>direct_availability_proportion</th>\n",
       "      <th>direct_internal_class_rent</th>\n",
       "      <th>direct_overall_rent</th>\n",
       "      <th>sublet_available_space</th>\n",
       "      <th>sublet_availability_proportion</th>\n",
       "      <th>sublet_internal_class_rent</th>\n",
       "      <th>sublet_overall_rent</th>\n",
       "      <th>leasing</th>\n",
       "    </tr>\n",
       "  </thead>\n",
       "  <tbody>\n",
       "    <tr>\n",
       "      <th>41486</th>\n",
       "      <td>2024</td>\n",
       "      <td>1</td>\n",
       "      <td>1.0</td>\n",
       "      <td>Atlanta</td>\n",
       "      <td>100 Milton Park</td>\n",
       "      <td>Atlanta_North Fulton_Alpharetta_100 Milton Par...</td>\n",
       "      <td>30000 Mill Creek Ave</td>\n",
       "      <td>South</td>\n",
       "      <td>Alpharetta</td>\n",
       "      <td>GA</td>\n",
       "      <td>...</td>\n",
       "      <td>32.567671</td>\n",
       "      <td>33261231.0</td>\n",
       "      <td>0.1884</td>\n",
       "      <td>36.111845</td>\n",
       "      <td>33.631677</td>\n",
       "      <td>5802002.0</td>\n",
       "      <td>0.0329</td>\n",
       "      <td>28.384836</td>\n",
       "      <td>26.207404</td>\n",
       "      <td>1859961.0</td>\n",
       "    </tr>\n",
       "    <tr>\n",
       "      <th>41487</th>\n",
       "      <td>2024</td>\n",
       "      <td>1</td>\n",
       "      <td>1.0</td>\n",
       "      <td>Atlanta</td>\n",
       "      <td>10000 Avalon</td>\n",
       "      <td>Atlanta_North Fulton_Alpharetta_10000 Avalon_1...</td>\n",
       "      <td>10000 Avalon Blvd</td>\n",
       "      <td>South</td>\n",
       "      <td>Alpharetta</td>\n",
       "      <td>GA</td>\n",
       "      <td>...</td>\n",
       "      <td>32.567671</td>\n",
       "      <td>33261231.0</td>\n",
       "      <td>0.1884</td>\n",
       "      <td>36.111845</td>\n",
       "      <td>33.631677</td>\n",
       "      <td>5802002.0</td>\n",
       "      <td>0.0329</td>\n",
       "      <td>28.384836</td>\n",
       "      <td>26.207404</td>\n",
       "      <td>1859961.0</td>\n",
       "    </tr>\n",
       "    <tr>\n",
       "      <th>41488</th>\n",
       "      <td>2024</td>\n",
       "      <td>1</td>\n",
       "      <td>1.0</td>\n",
       "      <td>Atlanta</td>\n",
       "      <td>200 Ashford Center North</td>\n",
       "      <td>Atlanta_Central Perimeter_Atlanta_200 Ashford ...</td>\n",
       "      <td>200 Ashford Ctr N</td>\n",
       "      <td>South</td>\n",
       "      <td>Atlanta</td>\n",
       "      <td>GA</td>\n",
       "      <td>...</td>\n",
       "      <td>32.567671</td>\n",
       "      <td>33261231.0</td>\n",
       "      <td>0.1884</td>\n",
       "      <td>36.111845</td>\n",
       "      <td>33.631677</td>\n",
       "      <td>5802002.0</td>\n",
       "      <td>0.0329</td>\n",
       "      <td>28.384836</td>\n",
       "      <td>26.207404</td>\n",
       "      <td>1859961.0</td>\n",
       "    </tr>\n",
       "    <tr>\n",
       "      <th>41489</th>\n",
       "      <td>2024</td>\n",
       "      <td>1</td>\n",
       "      <td>1.0</td>\n",
       "      <td>Atlanta</td>\n",
       "      <td>2400 Lake Park</td>\n",
       "      <td>Atlanta_Northwest_Smyrna_2400 Lake Park_2400 L...</td>\n",
       "      <td>2400 Lake Park Dr SE</td>\n",
       "      <td>South</td>\n",
       "      <td>Smyrna</td>\n",
       "      <td>GA</td>\n",
       "      <td>...</td>\n",
       "      <td>32.567671</td>\n",
       "      <td>10842822.0</td>\n",
       "      <td>0.0614</td>\n",
       "      <td>25.320276</td>\n",
       "      <td>33.631677</td>\n",
       "      <td>2334587.0</td>\n",
       "      <td>0.0132</td>\n",
       "      <td>20.624759</td>\n",
       "      <td>26.207404</td>\n",
       "      <td>567235.0</td>\n",
       "    </tr>\n",
       "    <tr>\n",
       "      <th>41490</th>\n",
       "      <td>2024</td>\n",
       "      <td>1</td>\n",
       "      <td>1.0</td>\n",
       "      <td>Atlanta</td>\n",
       "      <td>2400 Lake Park</td>\n",
       "      <td>Atlanta_Northwest_Smyrna_2400 Lake Park_2400 L...</td>\n",
       "      <td>2400 Lake Park Dr SE</td>\n",
       "      <td>South</td>\n",
       "      <td>Smyrna</td>\n",
       "      <td>GA</td>\n",
       "      <td>...</td>\n",
       "      <td>32.567671</td>\n",
       "      <td>10842822.0</td>\n",
       "      <td>0.0614</td>\n",
       "      <td>25.320276</td>\n",
       "      <td>33.631677</td>\n",
       "      <td>2334587.0</td>\n",
       "      <td>0.0132</td>\n",
       "      <td>20.624759</td>\n",
       "      <td>26.207404</td>\n",
       "      <td>567235.0</td>\n",
       "    </tr>\n",
       "    <tr>\n",
       "      <th>...</th>\n",
       "      <td>...</td>\n",
       "      <td>...</td>\n",
       "      <td>...</td>\n",
       "      <td>...</td>\n",
       "      <td>...</td>\n",
       "      <td>...</td>\n",
       "      <td>...</td>\n",
       "      <td>...</td>\n",
       "      <td>...</td>\n",
       "      <td>...</td>\n",
       "      <td>...</td>\n",
       "      <td>...</td>\n",
       "      <td>...</td>\n",
       "      <td>...</td>\n",
       "      <td>...</td>\n",
       "      <td>...</td>\n",
       "      <td>...</td>\n",
       "      <td>...</td>\n",
       "      <td>...</td>\n",
       "      <td>...</td>\n",
       "      <td>...</td>\n",
       "    </tr>\n",
       "    <tr>\n",
       "      <th>194680</th>\n",
       "      <td>2024</td>\n",
       "      <td>4</td>\n",
       "      <td>12.0</td>\n",
       "      <td>Tampa</td>\n",
       "      <td>Building II</td>\n",
       "      <td>Tampa_Westshore_Tampa_Building II_3111 W Dr Ma...</td>\n",
       "      <td>3111 W Dr Martin Luther King Blvd</td>\n",
       "      <td>South</td>\n",
       "      <td>Tampa</td>\n",
       "      <td>FL</td>\n",
       "      <td>...</td>\n",
       "      <td>29.460000</td>\n",
       "      <td>4227315.0</td>\n",
       "      <td>0.0779</td>\n",
       "      <td>33.566518</td>\n",
       "      <td>29.801662</td>\n",
       "      <td>1545553.0</td>\n",
       "      <td>0.0285</td>\n",
       "      <td>26.162086</td>\n",
       "      <td>24.797899</td>\n",
       "      <td>770384.0</td>\n",
       "    </tr>\n",
       "    <tr>\n",
       "      <th>194681</th>\n",
       "      <td>2024</td>\n",
       "      <td>4</td>\n",
       "      <td>12.0</td>\n",
       "      <td>Tampa</td>\n",
       "      <td>Midtown East</td>\n",
       "      <td>Tampa_Westshore_Tampa_Midtown East_1 Midtown Pl</td>\n",
       "      <td>1 Midtown Pl</td>\n",
       "      <td>South</td>\n",
       "      <td>Tampa</td>\n",
       "      <td>FL</td>\n",
       "      <td>...</td>\n",
       "      <td>29.460000</td>\n",
       "      <td>4227315.0</td>\n",
       "      <td>0.0779</td>\n",
       "      <td>33.566518</td>\n",
       "      <td>29.801662</td>\n",
       "      <td>1545553.0</td>\n",
       "      <td>0.0285</td>\n",
       "      <td>26.162086</td>\n",
       "      <td>24.797899</td>\n",
       "      <td>770384.0</td>\n",
       "    </tr>\n",
       "    <tr>\n",
       "      <th>194682</th>\n",
       "      <td>2024</td>\n",
       "      <td>4</td>\n",
       "      <td>12.0</td>\n",
       "      <td>Tampa</td>\n",
       "      <td>Park Tower</td>\n",
       "      <td>Tampa_Tampa CBD_Tampa_Park Tower_400 N Tampa St</td>\n",
       "      <td>400 N Tampa St</td>\n",
       "      <td>South</td>\n",
       "      <td>Tampa</td>\n",
       "      <td>FL</td>\n",
       "      <td>...</td>\n",
       "      <td>29.460000</td>\n",
       "      <td>3967413.0</td>\n",
       "      <td>0.0731</td>\n",
       "      <td>25.777557</td>\n",
       "      <td>29.801662</td>\n",
       "      <td>924341.0</td>\n",
       "      <td>0.0170</td>\n",
       "      <td>22.768426</td>\n",
       "      <td>24.797899</td>\n",
       "      <td>328947.0</td>\n",
       "    </tr>\n",
       "    <tr>\n",
       "      <th>194683</th>\n",
       "      <td>2024</td>\n",
       "      <td>4</td>\n",
       "      <td>12.0</td>\n",
       "      <td>Tampa</td>\n",
       "      <td>Rivergate Tower</td>\n",
       "      <td>Tampa_Tampa CBD_Tampa_Rivergate Tower_400 N As...</td>\n",
       "      <td>400 N Ashley Dr</td>\n",
       "      <td>South</td>\n",
       "      <td>Tampa</td>\n",
       "      <td>FL</td>\n",
       "      <td>...</td>\n",
       "      <td>29.460000</td>\n",
       "      <td>4227315.0</td>\n",
       "      <td>0.0779</td>\n",
       "      <td>33.566518</td>\n",
       "      <td>29.801662</td>\n",
       "      <td>1545553.0</td>\n",
       "      <td>0.0285</td>\n",
       "      <td>26.162086</td>\n",
       "      <td>24.797899</td>\n",
       "      <td>770384.0</td>\n",
       "    </tr>\n",
       "    <tr>\n",
       "      <th>194684</th>\n",
       "      <td>2024</td>\n",
       "      <td>4</td>\n",
       "      <td>12.0</td>\n",
       "      <td>Tampa</td>\n",
       "      <td>Spectrum</td>\n",
       "      <td>Tampa_Westshore_Tampa_Spectrum_3101 W Dr Marti...</td>\n",
       "      <td>3101 W Dr Martin Luther King Blvd</td>\n",
       "      <td>South</td>\n",
       "      <td>Tampa</td>\n",
       "      <td>FL</td>\n",
       "      <td>...</td>\n",
       "      <td>29.460000</td>\n",
       "      <td>3967413.0</td>\n",
       "      <td>0.0731</td>\n",
       "      <td>25.777557</td>\n",
       "      <td>29.801662</td>\n",
       "      <td>924341.0</td>\n",
       "      <td>0.0170</td>\n",
       "      <td>22.768426</td>\n",
       "      <td>24.797899</td>\n",
       "      <td>328947.0</td>\n",
       "    </tr>\n",
       "  </tbody>\n",
       "</table>\n",
       "<p>27744 rows × 35 columns</p>\n",
       "</div>"
      ],
      "text/plain": [
       "        year  quarter  monthsigned   market             building_name  \\\n",
       "41486   2024        1          1.0  Atlanta           100 Milton Park   \n",
       "41487   2024        1          1.0  Atlanta              10000 Avalon   \n",
       "41488   2024        1          1.0  Atlanta  200 Ashford Center North   \n",
       "41489   2024        1          1.0  Atlanta            2400 Lake Park   \n",
       "41490   2024        1          1.0  Atlanta            2400 Lake Park   \n",
       "...      ...      ...          ...      ...                       ...   \n",
       "194680  2024        4         12.0    Tampa               Building II   \n",
       "194681  2024        4         12.0    Tampa              Midtown East   \n",
       "194682  2024        4         12.0    Tampa                Park Tower   \n",
       "194683  2024        4         12.0    Tampa           Rivergate Tower   \n",
       "194684  2024        4         12.0    Tampa                  Spectrum   \n",
       "\n",
       "                                              building_id  \\\n",
       "41486   Atlanta_North Fulton_Alpharetta_100 Milton Par...   \n",
       "41487   Atlanta_North Fulton_Alpharetta_10000 Avalon_1...   \n",
       "41488   Atlanta_Central Perimeter_Atlanta_200 Ashford ...   \n",
       "41489   Atlanta_Northwest_Smyrna_2400 Lake Park_2400 L...   \n",
       "41490   Atlanta_Northwest_Smyrna_2400 Lake Park_2400 L...   \n",
       "...                                                   ...   \n",
       "194680  Tampa_Westshore_Tampa_Building II_3111 W Dr Ma...   \n",
       "194681    Tampa_Westshore_Tampa_Midtown East_1 Midtown Pl   \n",
       "194682    Tampa_Tampa CBD_Tampa_Park Tower_400 N Tampa St   \n",
       "194683  Tampa_Tampa CBD_Tampa_Rivergate Tower_400 N As...   \n",
       "194684  Tampa_Westshore_Tampa_Spectrum_3101 W Dr Marti...   \n",
       "\n",
       "                                  address region        city state  ...  \\\n",
       "41486                30000 Mill Creek Ave  South  Alpharetta    GA  ...   \n",
       "41487                   10000 Avalon Blvd  South  Alpharetta    GA  ...   \n",
       "41488                   200 Ashford Ctr N  South     Atlanta    GA  ...   \n",
       "41489                2400 Lake Park Dr SE  South      Smyrna    GA  ...   \n",
       "41490                2400 Lake Park Dr SE  South      Smyrna    GA  ...   \n",
       "...                                   ...    ...         ...   ...  ...   \n",
       "194680  3111 W Dr Martin Luther King Blvd  South       Tampa    FL  ...   \n",
       "194681                       1 Midtown Pl  South       Tampa    FL  ...   \n",
       "194682                     400 N Tampa St  South       Tampa    FL  ...   \n",
       "194683                    400 N Ashley Dr  South       Tampa    FL  ...   \n",
       "194684  3101 W Dr Martin Luther King Blvd  South       Tampa    FL  ...   \n",
       "\n",
       "        overall_rent direct_available_space direct_availability_proportion  \\\n",
       "41486      32.567671             33261231.0                         0.1884   \n",
       "41487      32.567671             33261231.0                         0.1884   \n",
       "41488      32.567671             33261231.0                         0.1884   \n",
       "41489      32.567671             10842822.0                         0.0614   \n",
       "41490      32.567671             10842822.0                         0.0614   \n",
       "...              ...                    ...                            ...   \n",
       "194680     29.460000              4227315.0                         0.0779   \n",
       "194681     29.460000              4227315.0                         0.0779   \n",
       "194682     29.460000              3967413.0                         0.0731   \n",
       "194683     29.460000              4227315.0                         0.0779   \n",
       "194684     29.460000              3967413.0                         0.0731   \n",
       "\n",
       "        direct_internal_class_rent direct_overall_rent sublet_available_space  \\\n",
       "41486                    36.111845           33.631677              5802002.0   \n",
       "41487                    36.111845           33.631677              5802002.0   \n",
       "41488                    36.111845           33.631677              5802002.0   \n",
       "41489                    25.320276           33.631677              2334587.0   \n",
       "41490                    25.320276           33.631677              2334587.0   \n",
       "...                            ...                 ...                    ...   \n",
       "194680                   33.566518           29.801662              1545553.0   \n",
       "194681                   33.566518           29.801662              1545553.0   \n",
       "194682                   25.777557           29.801662               924341.0   \n",
       "194683                   33.566518           29.801662              1545553.0   \n",
       "194684                   25.777557           29.801662               924341.0   \n",
       "\n",
       "       sublet_availability_proportion sublet_internal_class_rent  \\\n",
       "41486                          0.0329                  28.384836   \n",
       "41487                          0.0329                  28.384836   \n",
       "41488                          0.0329                  28.384836   \n",
       "41489                          0.0132                  20.624759   \n",
       "41490                          0.0132                  20.624759   \n",
       "...                               ...                        ...   \n",
       "194680                         0.0285                  26.162086   \n",
       "194681                         0.0285                  26.162086   \n",
       "194682                         0.0170                  22.768426   \n",
       "194683                         0.0285                  26.162086   \n",
       "194684                         0.0170                  22.768426   \n",
       "\n",
       "        sublet_overall_rent    leasing  \n",
       "41486             26.207404  1859961.0  \n",
       "41487             26.207404  1859961.0  \n",
       "41488             26.207404  1859961.0  \n",
       "41489             26.207404   567235.0  \n",
       "41490             26.207404   567235.0  \n",
       "...                     ...        ...  \n",
       "194680            24.797899   770384.0  \n",
       "194681            24.797899   770384.0  \n",
       "194682            24.797899   328947.0  \n",
       "194683            24.797899   770384.0  \n",
       "194684            24.797899   328947.0  \n",
       "\n",
       "[27744 rows x 35 columns]"
      ]
     },
     "execution_count": 13,
     "metadata": {},
     "output_type": "execute_result"
    }
   ],
   "source": [
    "leasing[(leasing['year'] == 2024)]\n",
    "#leasing['quarter']"
   ]
  },
  {
   "cell_type": "code",
   "execution_count": 33,
   "metadata": {},
   "outputs": [
    {
     "name": "stdout",
     "output_type": "stream",
     "text": [
      "        year  quarter  monthsigned          market        building_name  \\\n",
      "187782  2024        4          1.0  Raleigh/Durham        Bristol Place   \n",
      "187783  2024        4          9.0         Atlanta   2295 Northlake Pky   \n",
      "187784  2024        4          9.0         Atlanta   2295 Northlake Pky   \n",
      "187785  2024        4          9.0         Atlanta   2295 Northlake Pky   \n",
      "187786  2024        4          9.0         Atlanta  2302 Parklake Dr NE   \n",
      "\n",
      "                                              building_id  \\\n",
      "187782  Raleigh/Durham_RTP/RDU_Durham_Bristol Place_48...   \n",
      "187783  Atlanta_Northlake_Atlanta_2295 Northlake Pky_2...   \n",
      "187784  Atlanta_Northlake_Atlanta_2295 Northlake Pky_2...   \n",
      "187785  Atlanta_Northlake_Atlanta_2295 Northlake Pky_2...   \n",
      "187786  Atlanta_Northlake_Atlanta_2302 Parklake Dr NE_...   \n",
      "\n",
      "                    address region     city state  ...  overall_rent  \\\n",
      "187782    4819 Emperor Blvd  South   Durham    NC  ...           NaN   \n",
      "187783  2295 Parklake Dr NE  South  Atlanta    GA  ...         32.87   \n",
      "187784  2295 Parklake Dr NE  South  Atlanta    GA  ...         32.87   \n",
      "187785  2295 Parklake Dr NE  South  Atlanta    GA  ...         32.87   \n",
      "187786     2302 Parklake Dr  South  Atlanta    GA  ...         32.87   \n",
      "\n",
      "       direct_available_space direct_availability_proportion  \\\n",
      "187782                    NaN                            NaN   \n",
      "187783             11246973.0                         0.0633   \n",
      "187784             11246973.0                         0.0633   \n",
      "187785             11246973.0                         0.0633   \n",
      "187786             11246973.0                         0.0633   \n",
      "\n",
      "        direct_internal_class_rent direct_overall_rent sublet_available_space  \\\n",
      "187782                         NaN                 NaN                    NaN   \n",
      "187783                   26.329352           34.018947              2124139.0   \n",
      "187784                   26.329352           34.018947              2124139.0   \n",
      "187785                   26.329352           34.018947              2124139.0   \n",
      "187786                   26.329352           34.018947              2124139.0   \n",
      "\n",
      "       sublet_availability_proportion sublet_internal_class_rent  \\\n",
      "187782                            NaN                        NaN   \n",
      "187783                          0.012                  20.589642   \n",
      "187784                          0.012                  20.589642   \n",
      "187785                          0.012                  20.589642   \n",
      "187786                          0.012                  20.589642   \n",
      "\n",
      "        sublet_overall_rent   leasing  \n",
      "187782                  NaN       NaN  \n",
      "187783             25.88464  342931.0  \n",
      "187784             25.88464  342931.0  \n",
      "187785             25.88464  342931.0  \n",
      "187786             25.88464  342931.0  \n",
      "\n",
      "[5 rows x 35 columns]\n",
      "(6903, 35)\n"
     ]
    }
   ],
   "source": [
    "df2024_Q4 = leasing[(leasing['year']== 2024) & (leasing['quarter'] == 4)]\n",
    "print(df2024_Q4.head(5))\n",
    "print(df2024_Q4.shape)\n"
   ]
  },
  {
   "cell_type": "code",
   "execution_count": 38,
   "metadata": {},
   "outputs": [
    {
     "data": {
      "text/plain": [
       "array(['Raleigh/Durham', 'Atlanta', 'Austin', 'Baltimore', 'Boston',\n",
       "       'Charlotte', 'Chicago', 'Chicago Suburbs', 'Dallas/Ft Worth',\n",
       "       'Denver', 'Detroit', 'Houston', 'Los Angeles', 'Manhattan',\n",
       "       'Nashville', 'Northern New Jersey', 'Northern Virginia',\n",
       "       'Orange County', 'Philadelphia', 'Phoenix', 'Salt Lake City',\n",
       "       'San Diego', 'San Francisco', 'Seattle', 'South Bay/San Jose',\n",
       "       'South Florida', 'Southern Maryland', 'Tampa', 'Washington D.C.'],\n",
       "      dtype=object)"
      ]
     },
     "execution_count": 38,
     "metadata": {},
     "output_type": "execute_result"
    }
   ],
   "source": [
    "df2024_Q4['market'].unique()"
   ]
  },
  {
   "cell_type": "markdown",
   "metadata": {},
   "source": [
    "Ensuring that internal_class_rent is consistent for every market and and internal_class. Also dropping entries where internal_class_rent is NA. "
   ]
  },
  {
   "cell_type": "code",
   "execution_count": 40,
   "metadata": {},
   "outputs": [
    {
     "data": {
      "text/html": [
       "<div>\n",
       "<style scoped>\n",
       "    .dataframe tbody tr th:only-of-type {\n",
       "        vertical-align: middle;\n",
       "    }\n",
       "\n",
       "    .dataframe tbody tr th {\n",
       "        vertical-align: top;\n",
       "    }\n",
       "\n",
       "    .dataframe thead th {\n",
       "        text-align: right;\n",
       "    }\n",
       "</style>\n",
       "<table border=\"1\" class=\"dataframe\">\n",
       "  <thead>\n",
       "    <tr style=\"text-align: right;\">\n",
       "      <th></th>\n",
       "      <th>market</th>\n",
       "      <th>internal_class</th>\n",
       "      <th>internal_class_rent</th>\n",
       "    </tr>\n",
       "  </thead>\n",
       "  <tbody>\n",
       "    <tr>\n",
       "      <th>0</th>\n",
       "      <td>Atlanta</td>\n",
       "      <td>A</td>\n",
       "      <td>1</td>\n",
       "    </tr>\n",
       "    <tr>\n",
       "      <th>1</th>\n",
       "      <td>Atlanta</td>\n",
       "      <td>O</td>\n",
       "      <td>1</td>\n",
       "    </tr>\n",
       "    <tr>\n",
       "      <th>2</th>\n",
       "      <td>Austin</td>\n",
       "      <td>A</td>\n",
       "      <td>1</td>\n",
       "    </tr>\n",
       "    <tr>\n",
       "      <th>3</th>\n",
       "      <td>Austin</td>\n",
       "      <td>O</td>\n",
       "      <td>1</td>\n",
       "    </tr>\n",
       "    <tr>\n",
       "      <th>4</th>\n",
       "      <td>Baltimore</td>\n",
       "      <td>A</td>\n",
       "      <td>1</td>\n",
       "    </tr>\n",
       "    <tr>\n",
       "      <th>5</th>\n",
       "      <td>Baltimore</td>\n",
       "      <td>O</td>\n",
       "      <td>1</td>\n",
       "    </tr>\n",
       "    <tr>\n",
       "      <th>6</th>\n",
       "      <td>Boston</td>\n",
       "      <td>A</td>\n",
       "      <td>1</td>\n",
       "    </tr>\n",
       "    <tr>\n",
       "      <th>7</th>\n",
       "      <td>Boston</td>\n",
       "      <td>O</td>\n",
       "      <td>1</td>\n",
       "    </tr>\n",
       "    <tr>\n",
       "      <th>8</th>\n",
       "      <td>Charlotte</td>\n",
       "      <td>A</td>\n",
       "      <td>1</td>\n",
       "    </tr>\n",
       "    <tr>\n",
       "      <th>9</th>\n",
       "      <td>Charlotte</td>\n",
       "      <td>O</td>\n",
       "      <td>1</td>\n",
       "    </tr>\n",
       "    <tr>\n",
       "      <th>10</th>\n",
       "      <td>Chicago</td>\n",
       "      <td>A</td>\n",
       "      <td>0</td>\n",
       "    </tr>\n",
       "    <tr>\n",
       "      <th>11</th>\n",
       "      <td>Chicago</td>\n",
       "      <td>O</td>\n",
       "      <td>0</td>\n",
       "    </tr>\n",
       "    <tr>\n",
       "      <th>12</th>\n",
       "      <td>Chicago Suburbs</td>\n",
       "      <td>A</td>\n",
       "      <td>1</td>\n",
       "    </tr>\n",
       "    <tr>\n",
       "      <th>13</th>\n",
       "      <td>Chicago Suburbs</td>\n",
       "      <td>O</td>\n",
       "      <td>1</td>\n",
       "    </tr>\n",
       "    <tr>\n",
       "      <th>14</th>\n",
       "      <td>Dallas/Ft Worth</td>\n",
       "      <td>A</td>\n",
       "      <td>0</td>\n",
       "    </tr>\n",
       "    <tr>\n",
       "      <th>15</th>\n",
       "      <td>Dallas/Ft Worth</td>\n",
       "      <td>O</td>\n",
       "      <td>0</td>\n",
       "    </tr>\n",
       "    <tr>\n",
       "      <th>16</th>\n",
       "      <td>Denver</td>\n",
       "      <td>A</td>\n",
       "      <td>0</td>\n",
       "    </tr>\n",
       "    <tr>\n",
       "      <th>17</th>\n",
       "      <td>Denver</td>\n",
       "      <td>O</td>\n",
       "      <td>0</td>\n",
       "    </tr>\n",
       "    <tr>\n",
       "      <th>18</th>\n",
       "      <td>Detroit</td>\n",
       "      <td>A</td>\n",
       "      <td>1</td>\n",
       "    </tr>\n",
       "    <tr>\n",
       "      <th>19</th>\n",
       "      <td>Detroit</td>\n",
       "      <td>O</td>\n",
       "      <td>1</td>\n",
       "    </tr>\n",
       "    <tr>\n",
       "      <th>20</th>\n",
       "      <td>Houston</td>\n",
       "      <td>A</td>\n",
       "      <td>1</td>\n",
       "    </tr>\n",
       "    <tr>\n",
       "      <th>21</th>\n",
       "      <td>Houston</td>\n",
       "      <td>O</td>\n",
       "      <td>1</td>\n",
       "    </tr>\n",
       "    <tr>\n",
       "      <th>22</th>\n",
       "      <td>Los Angeles</td>\n",
       "      <td>A</td>\n",
       "      <td>1</td>\n",
       "    </tr>\n",
       "    <tr>\n",
       "      <th>23</th>\n",
       "      <td>Los Angeles</td>\n",
       "      <td>O</td>\n",
       "      <td>1</td>\n",
       "    </tr>\n",
       "    <tr>\n",
       "      <th>24</th>\n",
       "      <td>Manhattan</td>\n",
       "      <td>A</td>\n",
       "      <td>1</td>\n",
       "    </tr>\n",
       "    <tr>\n",
       "      <th>25</th>\n",
       "      <td>Manhattan</td>\n",
       "      <td>O</td>\n",
       "      <td>1</td>\n",
       "    </tr>\n",
       "    <tr>\n",
       "      <th>26</th>\n",
       "      <td>Nashville</td>\n",
       "      <td>A</td>\n",
       "      <td>1</td>\n",
       "    </tr>\n",
       "    <tr>\n",
       "      <th>27</th>\n",
       "      <td>Nashville</td>\n",
       "      <td>O</td>\n",
       "      <td>1</td>\n",
       "    </tr>\n",
       "    <tr>\n",
       "      <th>28</th>\n",
       "      <td>Northern New Jersey</td>\n",
       "      <td>A</td>\n",
       "      <td>1</td>\n",
       "    </tr>\n",
       "    <tr>\n",
       "      <th>29</th>\n",
       "      <td>Northern New Jersey</td>\n",
       "      <td>O</td>\n",
       "      <td>1</td>\n",
       "    </tr>\n",
       "    <tr>\n",
       "      <th>30</th>\n",
       "      <td>Northern Virginia</td>\n",
       "      <td>A</td>\n",
       "      <td>1</td>\n",
       "    </tr>\n",
       "    <tr>\n",
       "      <th>31</th>\n",
       "      <td>Northern Virginia</td>\n",
       "      <td>O</td>\n",
       "      <td>1</td>\n",
       "    </tr>\n",
       "    <tr>\n",
       "      <th>32</th>\n",
       "      <td>Orange County</td>\n",
       "      <td>A</td>\n",
       "      <td>0</td>\n",
       "    </tr>\n",
       "    <tr>\n",
       "      <th>33</th>\n",
       "      <td>Orange County</td>\n",
       "      <td>O</td>\n",
       "      <td>0</td>\n",
       "    </tr>\n",
       "    <tr>\n",
       "      <th>34</th>\n",
       "      <td>Philadelphia</td>\n",
       "      <td>A</td>\n",
       "      <td>1</td>\n",
       "    </tr>\n",
       "    <tr>\n",
       "      <th>35</th>\n",
       "      <td>Philadelphia</td>\n",
       "      <td>O</td>\n",
       "      <td>1</td>\n",
       "    </tr>\n",
       "    <tr>\n",
       "      <th>36</th>\n",
       "      <td>Phoenix</td>\n",
       "      <td>A</td>\n",
       "      <td>1</td>\n",
       "    </tr>\n",
       "    <tr>\n",
       "      <th>37</th>\n",
       "      <td>Phoenix</td>\n",
       "      <td>O</td>\n",
       "      <td>1</td>\n",
       "    </tr>\n",
       "    <tr>\n",
       "      <th>38</th>\n",
       "      <td>Raleigh/Durham</td>\n",
       "      <td>A</td>\n",
       "      <td>0</td>\n",
       "    </tr>\n",
       "    <tr>\n",
       "      <th>39</th>\n",
       "      <td>Raleigh/Durham</td>\n",
       "      <td>O</td>\n",
       "      <td>0</td>\n",
       "    </tr>\n",
       "    <tr>\n",
       "      <th>40</th>\n",
       "      <td>Salt Lake City</td>\n",
       "      <td>A</td>\n",
       "      <td>1</td>\n",
       "    </tr>\n",
       "    <tr>\n",
       "      <th>41</th>\n",
       "      <td>Salt Lake City</td>\n",
       "      <td>O</td>\n",
       "      <td>1</td>\n",
       "    </tr>\n",
       "    <tr>\n",
       "      <th>42</th>\n",
       "      <td>San Diego</td>\n",
       "      <td>A</td>\n",
       "      <td>1</td>\n",
       "    </tr>\n",
       "    <tr>\n",
       "      <th>43</th>\n",
       "      <td>San Diego</td>\n",
       "      <td>O</td>\n",
       "      <td>1</td>\n",
       "    </tr>\n",
       "    <tr>\n",
       "      <th>44</th>\n",
       "      <td>San Francisco</td>\n",
       "      <td>A</td>\n",
       "      <td>1</td>\n",
       "    </tr>\n",
       "    <tr>\n",
       "      <th>45</th>\n",
       "      <td>San Francisco</td>\n",
       "      <td>O</td>\n",
       "      <td>1</td>\n",
       "    </tr>\n",
       "    <tr>\n",
       "      <th>46</th>\n",
       "      <td>Seattle</td>\n",
       "      <td>A</td>\n",
       "      <td>1</td>\n",
       "    </tr>\n",
       "    <tr>\n",
       "      <th>47</th>\n",
       "      <td>Seattle</td>\n",
       "      <td>O</td>\n",
       "      <td>1</td>\n",
       "    </tr>\n",
       "    <tr>\n",
       "      <th>48</th>\n",
       "      <td>South Bay/San Jose</td>\n",
       "      <td>A</td>\n",
       "      <td>0</td>\n",
       "    </tr>\n",
       "    <tr>\n",
       "      <th>49</th>\n",
       "      <td>South Bay/San Jose</td>\n",
       "      <td>O</td>\n",
       "      <td>0</td>\n",
       "    </tr>\n",
       "    <tr>\n",
       "      <th>50</th>\n",
       "      <td>South Florida</td>\n",
       "      <td>A</td>\n",
       "      <td>1</td>\n",
       "    </tr>\n",
       "    <tr>\n",
       "      <th>51</th>\n",
       "      <td>South Florida</td>\n",
       "      <td>O</td>\n",
       "      <td>1</td>\n",
       "    </tr>\n",
       "    <tr>\n",
       "      <th>52</th>\n",
       "      <td>Southern Maryland</td>\n",
       "      <td>A</td>\n",
       "      <td>0</td>\n",
       "    </tr>\n",
       "    <tr>\n",
       "      <th>53</th>\n",
       "      <td>Southern Maryland</td>\n",
       "      <td>O</td>\n",
       "      <td>0</td>\n",
       "    </tr>\n",
       "    <tr>\n",
       "      <th>54</th>\n",
       "      <td>Tampa</td>\n",
       "      <td>A</td>\n",
       "      <td>1</td>\n",
       "    </tr>\n",
       "    <tr>\n",
       "      <th>55</th>\n",
       "      <td>Tampa</td>\n",
       "      <td>O</td>\n",
       "      <td>1</td>\n",
       "    </tr>\n",
       "    <tr>\n",
       "      <th>56</th>\n",
       "      <td>Washington D.C.</td>\n",
       "      <td>A</td>\n",
       "      <td>0</td>\n",
       "    </tr>\n",
       "    <tr>\n",
       "      <th>57</th>\n",
       "      <td>Washington D.C.</td>\n",
       "      <td>O</td>\n",
       "      <td>0</td>\n",
       "    </tr>\n",
       "  </tbody>\n",
       "</table>\n",
       "</div>"
      ],
      "text/plain": [
       "                 market internal_class  internal_class_rent\n",
       "0               Atlanta              A                    1\n",
       "1               Atlanta              O                    1\n",
       "2                Austin              A                    1\n",
       "3                Austin              O                    1\n",
       "4             Baltimore              A                    1\n",
       "5             Baltimore              O                    1\n",
       "6                Boston              A                    1\n",
       "7                Boston              O                    1\n",
       "8             Charlotte              A                    1\n",
       "9             Charlotte              O                    1\n",
       "10              Chicago              A                    0\n",
       "11              Chicago              O                    0\n",
       "12      Chicago Suburbs              A                    1\n",
       "13      Chicago Suburbs              O                    1\n",
       "14      Dallas/Ft Worth              A                    0\n",
       "15      Dallas/Ft Worth              O                    0\n",
       "16               Denver              A                    0\n",
       "17               Denver              O                    0\n",
       "18              Detroit              A                    1\n",
       "19              Detroit              O                    1\n",
       "20              Houston              A                    1\n",
       "21              Houston              O                    1\n",
       "22          Los Angeles              A                    1\n",
       "23          Los Angeles              O                    1\n",
       "24            Manhattan              A                    1\n",
       "25            Manhattan              O                    1\n",
       "26            Nashville              A                    1\n",
       "27            Nashville              O                    1\n",
       "28  Northern New Jersey              A                    1\n",
       "29  Northern New Jersey              O                    1\n",
       "30    Northern Virginia              A                    1\n",
       "31    Northern Virginia              O                    1\n",
       "32        Orange County              A                    0\n",
       "33        Orange County              O                    0\n",
       "34         Philadelphia              A                    1\n",
       "35         Philadelphia              O                    1\n",
       "36              Phoenix              A                    1\n",
       "37              Phoenix              O                    1\n",
       "38       Raleigh/Durham              A                    0\n",
       "39       Raleigh/Durham              O                    0\n",
       "40       Salt Lake City              A                    1\n",
       "41       Salt Lake City              O                    1\n",
       "42            San Diego              A                    1\n",
       "43            San Diego              O                    1\n",
       "44        San Francisco              A                    1\n",
       "45        San Francisco              O                    1\n",
       "46              Seattle              A                    1\n",
       "47              Seattle              O                    1\n",
       "48   South Bay/San Jose              A                    0\n",
       "49   South Bay/San Jose              O                    0\n",
       "50        South Florida              A                    1\n",
       "51        South Florida              O                    1\n",
       "52    Southern Maryland              A                    0\n",
       "53    Southern Maryland              O                    0\n",
       "54                Tampa              A                    1\n",
       "55                Tampa              O                    1\n",
       "56      Washington D.C.              A                    0\n",
       "57      Washington D.C.              O                    0"
      ]
     },
     "execution_count": 40,
     "metadata": {},
     "output_type": "execute_result"
    }
   ],
   "source": [
    "grouped = df2024_Q4.groupby(['market', 'internal_class'])['internal_class_rent'].nunique().reset_index()\n",
    "grouped"
   ]
  },
  {
   "cell_type": "code",
   "execution_count": 43,
   "metadata": {},
   "outputs": [
    {
     "data": {
      "text/html": [
       "<div>\n",
       "<style scoped>\n",
       "    .dataframe tbody tr th:only-of-type {\n",
       "        vertical-align: middle;\n",
       "    }\n",
       "\n",
       "    .dataframe tbody tr th {\n",
       "        vertical-align: top;\n",
       "    }\n",
       "\n",
       "    .dataframe thead th {\n",
       "        text-align: right;\n",
       "    }\n",
       "</style>\n",
       "<table border=\"1\" class=\"dataframe\">\n",
       "  <thead>\n",
       "    <tr style=\"text-align: right;\">\n",
       "      <th></th>\n",
       "      <th>year</th>\n",
       "      <th>quarter</th>\n",
       "      <th>monthsigned</th>\n",
       "      <th>market</th>\n",
       "      <th>building_name</th>\n",
       "      <th>building_id</th>\n",
       "      <th>address</th>\n",
       "      <th>region</th>\n",
       "      <th>city</th>\n",
       "      <th>state</th>\n",
       "      <th>...</th>\n",
       "      <th>overall_rent</th>\n",
       "      <th>direct_available_space</th>\n",
       "      <th>direct_availability_proportion</th>\n",
       "      <th>direct_internal_class_rent</th>\n",
       "      <th>direct_overall_rent</th>\n",
       "      <th>sublet_available_space</th>\n",
       "      <th>sublet_availability_proportion</th>\n",
       "      <th>sublet_internal_class_rent</th>\n",
       "      <th>sublet_overall_rent</th>\n",
       "      <th>leasing</th>\n",
       "    </tr>\n",
       "  </thead>\n",
       "  <tbody>\n",
       "    <tr>\n",
       "      <th>187783</th>\n",
       "      <td>2024</td>\n",
       "      <td>4</td>\n",
       "      <td>9.0</td>\n",
       "      <td>Atlanta</td>\n",
       "      <td>2295 Northlake Pky</td>\n",
       "      <td>Atlanta_Northlake_Atlanta_2295 Northlake Pky_2...</td>\n",
       "      <td>2295 Parklake Dr NE</td>\n",
       "      <td>South</td>\n",
       "      <td>Atlanta</td>\n",
       "      <td>GA</td>\n",
       "      <td>...</td>\n",
       "      <td>32.87</td>\n",
       "      <td>11246973.0</td>\n",
       "      <td>0.0633</td>\n",
       "      <td>26.329352</td>\n",
       "      <td>34.018947</td>\n",
       "      <td>2124139.0</td>\n",
       "      <td>0.012</td>\n",
       "      <td>20.589642</td>\n",
       "      <td>25.88464</td>\n",
       "      <td>342931.0</td>\n",
       "    </tr>\n",
       "    <tr>\n",
       "      <th>187784</th>\n",
       "      <td>2024</td>\n",
       "      <td>4</td>\n",
       "      <td>9.0</td>\n",
       "      <td>Atlanta</td>\n",
       "      <td>2295 Northlake Pky</td>\n",
       "      <td>Atlanta_Northlake_Atlanta_2295 Northlake Pky_2...</td>\n",
       "      <td>2295 Parklake Dr NE</td>\n",
       "      <td>South</td>\n",
       "      <td>Atlanta</td>\n",
       "      <td>GA</td>\n",
       "      <td>...</td>\n",
       "      <td>32.87</td>\n",
       "      <td>11246973.0</td>\n",
       "      <td>0.0633</td>\n",
       "      <td>26.329352</td>\n",
       "      <td>34.018947</td>\n",
       "      <td>2124139.0</td>\n",
       "      <td>0.012</td>\n",
       "      <td>20.589642</td>\n",
       "      <td>25.88464</td>\n",
       "      <td>342931.0</td>\n",
       "    </tr>\n",
       "    <tr>\n",
       "      <th>187785</th>\n",
       "      <td>2024</td>\n",
       "      <td>4</td>\n",
       "      <td>9.0</td>\n",
       "      <td>Atlanta</td>\n",
       "      <td>2295 Northlake Pky</td>\n",
       "      <td>Atlanta_Northlake_Atlanta_2295 Northlake Pky_2...</td>\n",
       "      <td>2295 Parklake Dr NE</td>\n",
       "      <td>South</td>\n",
       "      <td>Atlanta</td>\n",
       "      <td>GA</td>\n",
       "      <td>...</td>\n",
       "      <td>32.87</td>\n",
       "      <td>11246973.0</td>\n",
       "      <td>0.0633</td>\n",
       "      <td>26.329352</td>\n",
       "      <td>34.018947</td>\n",
       "      <td>2124139.0</td>\n",
       "      <td>0.012</td>\n",
       "      <td>20.589642</td>\n",
       "      <td>25.88464</td>\n",
       "      <td>342931.0</td>\n",
       "    </tr>\n",
       "    <tr>\n",
       "      <th>187786</th>\n",
       "      <td>2024</td>\n",
       "      <td>4</td>\n",
       "      <td>9.0</td>\n",
       "      <td>Atlanta</td>\n",
       "      <td>2302 Parklake Dr NE</td>\n",
       "      <td>Atlanta_Northlake_Atlanta_2302 Parklake Dr NE_...</td>\n",
       "      <td>2302 Parklake Dr</td>\n",
       "      <td>South</td>\n",
       "      <td>Atlanta</td>\n",
       "      <td>GA</td>\n",
       "      <td>...</td>\n",
       "      <td>32.87</td>\n",
       "      <td>11246973.0</td>\n",
       "      <td>0.0633</td>\n",
       "      <td>26.329352</td>\n",
       "      <td>34.018947</td>\n",
       "      <td>2124139.0</td>\n",
       "      <td>0.012</td>\n",
       "      <td>20.589642</td>\n",
       "      <td>25.88464</td>\n",
       "      <td>342931.0</td>\n",
       "    </tr>\n",
       "    <tr>\n",
       "      <th>187787</th>\n",
       "      <td>2024</td>\n",
       "      <td>4</td>\n",
       "      <td>9.0</td>\n",
       "      <td>Atlanta</td>\n",
       "      <td>2302 Parklake Dr NE</td>\n",
       "      <td>Atlanta_Northlake_Atlanta_2302 Parklake Dr NE_...</td>\n",
       "      <td>2302 Parklake Dr</td>\n",
       "      <td>South</td>\n",
       "      <td>Atlanta</td>\n",
       "      <td>GA</td>\n",
       "      <td>...</td>\n",
       "      <td>32.87</td>\n",
       "      <td>11246973.0</td>\n",
       "      <td>0.0633</td>\n",
       "      <td>26.329352</td>\n",
       "      <td>34.018947</td>\n",
       "      <td>2124139.0</td>\n",
       "      <td>0.012</td>\n",
       "      <td>20.589642</td>\n",
       "      <td>25.88464</td>\n",
       "      <td>342931.0</td>\n",
       "    </tr>\n",
       "  </tbody>\n",
       "</table>\n",
       "<p>5 rows × 35 columns</p>\n",
       "</div>"
      ],
      "text/plain": [
       "        year  quarter  monthsigned   market        building_name  \\\n",
       "187783  2024        4          9.0  Atlanta   2295 Northlake Pky   \n",
       "187784  2024        4          9.0  Atlanta   2295 Northlake Pky   \n",
       "187785  2024        4          9.0  Atlanta   2295 Northlake Pky   \n",
       "187786  2024        4          9.0  Atlanta  2302 Parklake Dr NE   \n",
       "187787  2024        4          9.0  Atlanta  2302 Parklake Dr NE   \n",
       "\n",
       "                                              building_id  \\\n",
       "187783  Atlanta_Northlake_Atlanta_2295 Northlake Pky_2...   \n",
       "187784  Atlanta_Northlake_Atlanta_2295 Northlake Pky_2...   \n",
       "187785  Atlanta_Northlake_Atlanta_2295 Northlake Pky_2...   \n",
       "187786  Atlanta_Northlake_Atlanta_2302 Parklake Dr NE_...   \n",
       "187787  Atlanta_Northlake_Atlanta_2302 Parklake Dr NE_...   \n",
       "\n",
       "                    address region     city state  ...  overall_rent  \\\n",
       "187783  2295 Parklake Dr NE  South  Atlanta    GA  ...         32.87   \n",
       "187784  2295 Parklake Dr NE  South  Atlanta    GA  ...         32.87   \n",
       "187785  2295 Parklake Dr NE  South  Atlanta    GA  ...         32.87   \n",
       "187786     2302 Parklake Dr  South  Atlanta    GA  ...         32.87   \n",
       "187787     2302 Parklake Dr  South  Atlanta    GA  ...         32.87   \n",
       "\n",
       "       direct_available_space direct_availability_proportion  \\\n",
       "187783             11246973.0                         0.0633   \n",
       "187784             11246973.0                         0.0633   \n",
       "187785             11246973.0                         0.0633   \n",
       "187786             11246973.0                         0.0633   \n",
       "187787             11246973.0                         0.0633   \n",
       "\n",
       "        direct_internal_class_rent direct_overall_rent sublet_available_space  \\\n",
       "187783                   26.329352           34.018947              2124139.0   \n",
       "187784                   26.329352           34.018947              2124139.0   \n",
       "187785                   26.329352           34.018947              2124139.0   \n",
       "187786                   26.329352           34.018947              2124139.0   \n",
       "187787                   26.329352           34.018947              2124139.0   \n",
       "\n",
       "       sublet_availability_proportion sublet_internal_class_rent  \\\n",
       "187783                          0.012                  20.589642   \n",
       "187784                          0.012                  20.589642   \n",
       "187785                          0.012                  20.589642   \n",
       "187786                          0.012                  20.589642   \n",
       "187787                          0.012                  20.589642   \n",
       "\n",
       "        sublet_overall_rent   leasing  \n",
       "187783             25.88464  342931.0  \n",
       "187784             25.88464  342931.0  \n",
       "187785             25.88464  342931.0  \n",
       "187786             25.88464  342931.0  \n",
       "187787             25.88464  342931.0  \n",
       "\n",
       "[5 rows x 35 columns]"
      ]
     },
     "execution_count": 43,
     "metadata": {},
     "output_type": "execute_result"
    }
   ],
   "source": [
    "# Drop rows where 'internal_class_rent' is NaN\n",
    "df2024_Q4_cleaned = df2024_Q4.dropna(subset=['internal_class_rent'])\n",
    "\n",
    "# Optional: Check the result to confirm the rows were dropped\n",
    "df2024_Q4_cleaned.head()\n"
   ]
  },
  {
   "cell_type": "code",
   "execution_count": 44,
   "metadata": {},
   "outputs": [
    {
     "data": {
      "text/html": [
       "<div>\n",
       "<style scoped>\n",
       "    .dataframe tbody tr th:only-of-type {\n",
       "        vertical-align: middle;\n",
       "    }\n",
       "\n",
       "    .dataframe tbody tr th {\n",
       "        vertical-align: top;\n",
       "    }\n",
       "\n",
       "    .dataframe thead th {\n",
       "        text-align: right;\n",
       "    }\n",
       "</style>\n",
       "<table border=\"1\" class=\"dataframe\">\n",
       "  <thead>\n",
       "    <tr style=\"text-align: right;\">\n",
       "      <th></th>\n",
       "      <th>market</th>\n",
       "      <th>internal_class</th>\n",
       "      <th>internal_class_rent</th>\n",
       "    </tr>\n",
       "  </thead>\n",
       "  <tbody>\n",
       "    <tr>\n",
       "      <th>0</th>\n",
       "      <td>Atlanta</td>\n",
       "      <td>A</td>\n",
       "      <td>1</td>\n",
       "    </tr>\n",
       "    <tr>\n",
       "      <th>1</th>\n",
       "      <td>Atlanta</td>\n",
       "      <td>O</td>\n",
       "      <td>1</td>\n",
       "    </tr>\n",
       "    <tr>\n",
       "      <th>2</th>\n",
       "      <td>Austin</td>\n",
       "      <td>A</td>\n",
       "      <td>1</td>\n",
       "    </tr>\n",
       "    <tr>\n",
       "      <th>3</th>\n",
       "      <td>Austin</td>\n",
       "      <td>O</td>\n",
       "      <td>1</td>\n",
       "    </tr>\n",
       "    <tr>\n",
       "      <th>4</th>\n",
       "      <td>Baltimore</td>\n",
       "      <td>A</td>\n",
       "      <td>1</td>\n",
       "    </tr>\n",
       "    <tr>\n",
       "      <th>5</th>\n",
       "      <td>Baltimore</td>\n",
       "      <td>O</td>\n",
       "      <td>1</td>\n",
       "    </tr>\n",
       "    <tr>\n",
       "      <th>6</th>\n",
       "      <td>Boston</td>\n",
       "      <td>A</td>\n",
       "      <td>1</td>\n",
       "    </tr>\n",
       "    <tr>\n",
       "      <th>7</th>\n",
       "      <td>Boston</td>\n",
       "      <td>O</td>\n",
       "      <td>1</td>\n",
       "    </tr>\n",
       "    <tr>\n",
       "      <th>8</th>\n",
       "      <td>Charlotte</td>\n",
       "      <td>A</td>\n",
       "      <td>1</td>\n",
       "    </tr>\n",
       "    <tr>\n",
       "      <th>9</th>\n",
       "      <td>Charlotte</td>\n",
       "      <td>O</td>\n",
       "      <td>1</td>\n",
       "    </tr>\n",
       "    <tr>\n",
       "      <th>10</th>\n",
       "      <td>Chicago Suburbs</td>\n",
       "      <td>A</td>\n",
       "      <td>1</td>\n",
       "    </tr>\n",
       "    <tr>\n",
       "      <th>11</th>\n",
       "      <td>Chicago Suburbs</td>\n",
       "      <td>O</td>\n",
       "      <td>1</td>\n",
       "    </tr>\n",
       "    <tr>\n",
       "      <th>12</th>\n",
       "      <td>Detroit</td>\n",
       "      <td>A</td>\n",
       "      <td>1</td>\n",
       "    </tr>\n",
       "    <tr>\n",
       "      <th>13</th>\n",
       "      <td>Detroit</td>\n",
       "      <td>O</td>\n",
       "      <td>1</td>\n",
       "    </tr>\n",
       "    <tr>\n",
       "      <th>14</th>\n",
       "      <td>Houston</td>\n",
       "      <td>A</td>\n",
       "      <td>1</td>\n",
       "    </tr>\n",
       "    <tr>\n",
       "      <th>15</th>\n",
       "      <td>Houston</td>\n",
       "      <td>O</td>\n",
       "      <td>1</td>\n",
       "    </tr>\n",
       "    <tr>\n",
       "      <th>16</th>\n",
       "      <td>Los Angeles</td>\n",
       "      <td>A</td>\n",
       "      <td>1</td>\n",
       "    </tr>\n",
       "    <tr>\n",
       "      <th>17</th>\n",
       "      <td>Los Angeles</td>\n",
       "      <td>O</td>\n",
       "      <td>1</td>\n",
       "    </tr>\n",
       "    <tr>\n",
       "      <th>18</th>\n",
       "      <td>Manhattan</td>\n",
       "      <td>A</td>\n",
       "      <td>1</td>\n",
       "    </tr>\n",
       "    <tr>\n",
       "      <th>19</th>\n",
       "      <td>Manhattan</td>\n",
       "      <td>O</td>\n",
       "      <td>1</td>\n",
       "    </tr>\n",
       "    <tr>\n",
       "      <th>20</th>\n",
       "      <td>Nashville</td>\n",
       "      <td>A</td>\n",
       "      <td>1</td>\n",
       "    </tr>\n",
       "    <tr>\n",
       "      <th>21</th>\n",
       "      <td>Nashville</td>\n",
       "      <td>O</td>\n",
       "      <td>1</td>\n",
       "    </tr>\n",
       "    <tr>\n",
       "      <th>22</th>\n",
       "      <td>Northern New Jersey</td>\n",
       "      <td>A</td>\n",
       "      <td>1</td>\n",
       "    </tr>\n",
       "    <tr>\n",
       "      <th>23</th>\n",
       "      <td>Northern New Jersey</td>\n",
       "      <td>O</td>\n",
       "      <td>1</td>\n",
       "    </tr>\n",
       "    <tr>\n",
       "      <th>24</th>\n",
       "      <td>Northern Virginia</td>\n",
       "      <td>A</td>\n",
       "      <td>1</td>\n",
       "    </tr>\n",
       "    <tr>\n",
       "      <th>25</th>\n",
       "      <td>Northern Virginia</td>\n",
       "      <td>O</td>\n",
       "      <td>1</td>\n",
       "    </tr>\n",
       "    <tr>\n",
       "      <th>26</th>\n",
       "      <td>Philadelphia</td>\n",
       "      <td>A</td>\n",
       "      <td>1</td>\n",
       "    </tr>\n",
       "    <tr>\n",
       "      <th>27</th>\n",
       "      <td>Philadelphia</td>\n",
       "      <td>O</td>\n",
       "      <td>1</td>\n",
       "    </tr>\n",
       "    <tr>\n",
       "      <th>28</th>\n",
       "      <td>Phoenix</td>\n",
       "      <td>A</td>\n",
       "      <td>1</td>\n",
       "    </tr>\n",
       "    <tr>\n",
       "      <th>29</th>\n",
       "      <td>Phoenix</td>\n",
       "      <td>O</td>\n",
       "      <td>1</td>\n",
       "    </tr>\n",
       "    <tr>\n",
       "      <th>30</th>\n",
       "      <td>Salt Lake City</td>\n",
       "      <td>A</td>\n",
       "      <td>1</td>\n",
       "    </tr>\n",
       "    <tr>\n",
       "      <th>31</th>\n",
       "      <td>Salt Lake City</td>\n",
       "      <td>O</td>\n",
       "      <td>1</td>\n",
       "    </tr>\n",
       "    <tr>\n",
       "      <th>32</th>\n",
       "      <td>San Diego</td>\n",
       "      <td>A</td>\n",
       "      <td>1</td>\n",
       "    </tr>\n",
       "    <tr>\n",
       "      <th>33</th>\n",
       "      <td>San Diego</td>\n",
       "      <td>O</td>\n",
       "      <td>1</td>\n",
       "    </tr>\n",
       "    <tr>\n",
       "      <th>34</th>\n",
       "      <td>San Francisco</td>\n",
       "      <td>A</td>\n",
       "      <td>1</td>\n",
       "    </tr>\n",
       "    <tr>\n",
       "      <th>35</th>\n",
       "      <td>San Francisco</td>\n",
       "      <td>O</td>\n",
       "      <td>1</td>\n",
       "    </tr>\n",
       "    <tr>\n",
       "      <th>36</th>\n",
       "      <td>Seattle</td>\n",
       "      <td>A</td>\n",
       "      <td>1</td>\n",
       "    </tr>\n",
       "    <tr>\n",
       "      <th>37</th>\n",
       "      <td>Seattle</td>\n",
       "      <td>O</td>\n",
       "      <td>1</td>\n",
       "    </tr>\n",
       "    <tr>\n",
       "      <th>38</th>\n",
       "      <td>South Florida</td>\n",
       "      <td>A</td>\n",
       "      <td>1</td>\n",
       "    </tr>\n",
       "    <tr>\n",
       "      <th>39</th>\n",
       "      <td>South Florida</td>\n",
       "      <td>O</td>\n",
       "      <td>1</td>\n",
       "    </tr>\n",
       "    <tr>\n",
       "      <th>40</th>\n",
       "      <td>Tampa</td>\n",
       "      <td>A</td>\n",
       "      <td>1</td>\n",
       "    </tr>\n",
       "    <tr>\n",
       "      <th>41</th>\n",
       "      <td>Tampa</td>\n",
       "      <td>O</td>\n",
       "      <td>1</td>\n",
       "    </tr>\n",
       "  </tbody>\n",
       "</table>\n",
       "</div>"
      ],
      "text/plain": [
       "                 market internal_class  internal_class_rent\n",
       "0               Atlanta              A                    1\n",
       "1               Atlanta              O                    1\n",
       "2                Austin              A                    1\n",
       "3                Austin              O                    1\n",
       "4             Baltimore              A                    1\n",
       "5             Baltimore              O                    1\n",
       "6                Boston              A                    1\n",
       "7                Boston              O                    1\n",
       "8             Charlotte              A                    1\n",
       "9             Charlotte              O                    1\n",
       "10      Chicago Suburbs              A                    1\n",
       "11      Chicago Suburbs              O                    1\n",
       "12              Detroit              A                    1\n",
       "13              Detroit              O                    1\n",
       "14              Houston              A                    1\n",
       "15              Houston              O                    1\n",
       "16          Los Angeles              A                    1\n",
       "17          Los Angeles              O                    1\n",
       "18            Manhattan              A                    1\n",
       "19            Manhattan              O                    1\n",
       "20            Nashville              A                    1\n",
       "21            Nashville              O                    1\n",
       "22  Northern New Jersey              A                    1\n",
       "23  Northern New Jersey              O                    1\n",
       "24    Northern Virginia              A                    1\n",
       "25    Northern Virginia              O                    1\n",
       "26         Philadelphia              A                    1\n",
       "27         Philadelphia              O                    1\n",
       "28              Phoenix              A                    1\n",
       "29              Phoenix              O                    1\n",
       "30       Salt Lake City              A                    1\n",
       "31       Salt Lake City              O                    1\n",
       "32            San Diego              A                    1\n",
       "33            San Diego              O                    1\n",
       "34        San Francisco              A                    1\n",
       "35        San Francisco              O                    1\n",
       "36              Seattle              A                    1\n",
       "37              Seattle              O                    1\n",
       "38        South Florida              A                    1\n",
       "39        South Florida              O                    1\n",
       "40                Tampa              A                    1\n",
       "41                Tampa              O                    1"
      ]
     },
     "execution_count": 44,
     "metadata": {},
     "output_type": "execute_result"
    }
   ],
   "source": [
    "grouped = df2024_Q4_cleaned.groupby(['market', 'internal_class'])['internal_class_rent'].nunique().reset_index()\n",
    "grouped"
   ]
  },
  {
   "cell_type": "code",
   "execution_count": 47,
   "metadata": {},
   "outputs": [
    {
     "data": {
      "text/html": [
       "<div>\n",
       "<style scoped>\n",
       "    .dataframe tbody tr th:only-of-type {\n",
       "        vertical-align: middle;\n",
       "    }\n",
       "\n",
       "    .dataframe tbody tr th {\n",
       "        vertical-align: top;\n",
       "    }\n",
       "\n",
       "    .dataframe thead th {\n",
       "        text-align: right;\n",
       "    }\n",
       "</style>\n",
       "<table border=\"1\" class=\"dataframe\">\n",
       "  <thead>\n",
       "    <tr style=\"text-align: right;\">\n",
       "      <th></th>\n",
       "      <th>market</th>\n",
       "      <th>internal_class</th>\n",
       "      <th>internal_class_rent</th>\n",
       "    </tr>\n",
       "  </thead>\n",
       "  <tbody>\n",
       "    <tr>\n",
       "      <th>0</th>\n",
       "      <td>Atlanta</td>\n",
       "      <td>O</td>\n",
       "      <td>25.390000</td>\n",
       "    </tr>\n",
       "    <tr>\n",
       "      <th>1</th>\n",
       "      <td>Atlanta</td>\n",
       "      <td>A</td>\n",
       "      <td>35.330000</td>\n",
       "    </tr>\n",
       "    <tr>\n",
       "      <th>2</th>\n",
       "      <td>Austin</td>\n",
       "      <td>O</td>\n",
       "      <td>34.280000</td>\n",
       "    </tr>\n",
       "    <tr>\n",
       "      <th>3</th>\n",
       "      <td>Austin</td>\n",
       "      <td>A</td>\n",
       "      <td>51.260000</td>\n",
       "    </tr>\n",
       "    <tr>\n",
       "      <th>4</th>\n",
       "      <td>Baltimore</td>\n",
       "      <td>O</td>\n",
       "      <td>21.090000</td>\n",
       "    </tr>\n",
       "    <tr>\n",
       "      <th>5</th>\n",
       "      <td>Baltimore</td>\n",
       "      <td>A</td>\n",
       "      <td>26.330000</td>\n",
       "    </tr>\n",
       "    <tr>\n",
       "      <th>6</th>\n",
       "      <td>Boston</td>\n",
       "      <td>O</td>\n",
       "      <td>31.070000</td>\n",
       "    </tr>\n",
       "    <tr>\n",
       "      <th>7</th>\n",
       "      <td>Boston</td>\n",
       "      <td>A</td>\n",
       "      <td>57.950000</td>\n",
       "    </tr>\n",
       "    <tr>\n",
       "      <th>8</th>\n",
       "      <td>Charlotte</td>\n",
       "      <td>O</td>\n",
       "      <td>27.710000</td>\n",
       "    </tr>\n",
       "    <tr>\n",
       "      <th>9</th>\n",
       "      <td>Charlotte</td>\n",
       "      <td>A</td>\n",
       "      <td>36.730000</td>\n",
       "    </tr>\n",
       "    <tr>\n",
       "      <th>10</th>\n",
       "      <td>Chicago Suburbs</td>\n",
       "      <td>O</td>\n",
       "      <td>22.710000</td>\n",
       "    </tr>\n",
       "    <tr>\n",
       "      <th>11</th>\n",
       "      <td>Chicago Suburbs</td>\n",
       "      <td>A</td>\n",
       "      <td>31.360000</td>\n",
       "    </tr>\n",
       "    <tr>\n",
       "      <th>12</th>\n",
       "      <td>Detroit</td>\n",
       "      <td>O</td>\n",
       "      <td>20.000000</td>\n",
       "    </tr>\n",
       "    <tr>\n",
       "      <th>13</th>\n",
       "      <td>Detroit</td>\n",
       "      <td>A</td>\n",
       "      <td>23.460000</td>\n",
       "    </tr>\n",
       "    <tr>\n",
       "      <th>14</th>\n",
       "      <td>Houston</td>\n",
       "      <td>O</td>\n",
       "      <td>22.730000</td>\n",
       "    </tr>\n",
       "    <tr>\n",
       "      <th>15</th>\n",
       "      <td>Houston</td>\n",
       "      <td>A</td>\n",
       "      <td>36.230000</td>\n",
       "    </tr>\n",
       "    <tr>\n",
       "      <th>16</th>\n",
       "      <td>Los Angeles</td>\n",
       "      <td>O</td>\n",
       "      <td>41.020000</td>\n",
       "    </tr>\n",
       "    <tr>\n",
       "      <th>17</th>\n",
       "      <td>Los Angeles</td>\n",
       "      <td>A</td>\n",
       "      <td>50.080000</td>\n",
       "    </tr>\n",
       "    <tr>\n",
       "      <th>18</th>\n",
       "      <td>Manhattan</td>\n",
       "      <td>O</td>\n",
       "      <td>61.300511</td>\n",
       "    </tr>\n",
       "    <tr>\n",
       "      <th>19</th>\n",
       "      <td>Manhattan</td>\n",
       "      <td>A</td>\n",
       "      <td>84.827828</td>\n",
       "    </tr>\n",
       "    <tr>\n",
       "      <th>20</th>\n",
       "      <td>Nashville</td>\n",
       "      <td>O</td>\n",
       "      <td>29.370000</td>\n",
       "    </tr>\n",
       "    <tr>\n",
       "      <th>21</th>\n",
       "      <td>Nashville</td>\n",
       "      <td>A</td>\n",
       "      <td>39.680000</td>\n",
       "    </tr>\n",
       "    <tr>\n",
       "      <th>22</th>\n",
       "      <td>Northern New Jersey</td>\n",
       "      <td>O</td>\n",
       "      <td>24.890000</td>\n",
       "    </tr>\n",
       "    <tr>\n",
       "      <th>23</th>\n",
       "      <td>Northern New Jersey</td>\n",
       "      <td>A</td>\n",
       "      <td>32.870000</td>\n",
       "    </tr>\n",
       "    <tr>\n",
       "      <th>24</th>\n",
       "      <td>Northern Virginia</td>\n",
       "      <td>O</td>\n",
       "      <td>32.530000</td>\n",
       "    </tr>\n",
       "    <tr>\n",
       "      <th>25</th>\n",
       "      <td>Northern Virginia</td>\n",
       "      <td>A</td>\n",
       "      <td>36.370000</td>\n",
       "    </tr>\n",
       "    <tr>\n",
       "      <th>26</th>\n",
       "      <td>Philadelphia</td>\n",
       "      <td>O</td>\n",
       "      <td>28.270000</td>\n",
       "    </tr>\n",
       "    <tr>\n",
       "      <th>27</th>\n",
       "      <td>Philadelphia</td>\n",
       "      <td>A</td>\n",
       "      <td>33.890000</td>\n",
       "    </tr>\n",
       "    <tr>\n",
       "      <th>28</th>\n",
       "      <td>Phoenix</td>\n",
       "      <td>O</td>\n",
       "      <td>26.930000</td>\n",
       "    </tr>\n",
       "    <tr>\n",
       "      <th>29</th>\n",
       "      <td>Phoenix</td>\n",
       "      <td>A</td>\n",
       "      <td>32.630000</td>\n",
       "    </tr>\n",
       "    <tr>\n",
       "      <th>30</th>\n",
       "      <td>Salt Lake City</td>\n",
       "      <td>O</td>\n",
       "      <td>24.280000</td>\n",
       "    </tr>\n",
       "    <tr>\n",
       "      <th>31</th>\n",
       "      <td>Salt Lake City</td>\n",
       "      <td>A</td>\n",
       "      <td>30.170000</td>\n",
       "    </tr>\n",
       "    <tr>\n",
       "      <th>32</th>\n",
       "      <td>San Diego</td>\n",
       "      <td>O</td>\n",
       "      <td>33.810000</td>\n",
       "    </tr>\n",
       "    <tr>\n",
       "      <th>33</th>\n",
       "      <td>San Diego</td>\n",
       "      <td>A</td>\n",
       "      <td>47.740000</td>\n",
       "    </tr>\n",
       "    <tr>\n",
       "      <th>34</th>\n",
       "      <td>San Francisco</td>\n",
       "      <td>O</td>\n",
       "      <td>56.720000</td>\n",
       "    </tr>\n",
       "    <tr>\n",
       "      <th>35</th>\n",
       "      <td>San Francisco</td>\n",
       "      <td>A</td>\n",
       "      <td>75.210000</td>\n",
       "    </tr>\n",
       "    <tr>\n",
       "      <th>36</th>\n",
       "      <td>Seattle</td>\n",
       "      <td>O</td>\n",
       "      <td>35.780000</td>\n",
       "    </tr>\n",
       "    <tr>\n",
       "      <th>37</th>\n",
       "      <td>Seattle</td>\n",
       "      <td>A</td>\n",
       "      <td>50.410000</td>\n",
       "    </tr>\n",
       "    <tr>\n",
       "      <th>38</th>\n",
       "      <td>South Florida</td>\n",
       "      <td>O</td>\n",
       "      <td>37.010000</td>\n",
       "    </tr>\n",
       "    <tr>\n",
       "      <th>39</th>\n",
       "      <td>South Florida</td>\n",
       "      <td>A</td>\n",
       "      <td>54.660000</td>\n",
       "    </tr>\n",
       "    <tr>\n",
       "      <th>40</th>\n",
       "      <td>Tampa</td>\n",
       "      <td>O</td>\n",
       "      <td>25.600000</td>\n",
       "    </tr>\n",
       "    <tr>\n",
       "      <th>41</th>\n",
       "      <td>Tampa</td>\n",
       "      <td>A</td>\n",
       "      <td>32.980000</td>\n",
       "    </tr>\n",
       "  </tbody>\n",
       "</table>\n",
       "</div>"
      ],
      "text/plain": [
       "                 market internal_class  internal_class_rent\n",
       "0               Atlanta              O            25.390000\n",
       "1               Atlanta              A            35.330000\n",
       "2                Austin              O            34.280000\n",
       "3                Austin              A            51.260000\n",
       "4             Baltimore              O            21.090000\n",
       "5             Baltimore              A            26.330000\n",
       "6                Boston              O            31.070000\n",
       "7                Boston              A            57.950000\n",
       "8             Charlotte              O            27.710000\n",
       "9             Charlotte              A            36.730000\n",
       "10      Chicago Suburbs              O            22.710000\n",
       "11      Chicago Suburbs              A            31.360000\n",
       "12              Detroit              O            20.000000\n",
       "13              Detroit              A            23.460000\n",
       "14              Houston              O            22.730000\n",
       "15              Houston              A            36.230000\n",
       "16          Los Angeles              O            41.020000\n",
       "17          Los Angeles              A            50.080000\n",
       "18            Manhattan              O            61.300511\n",
       "19            Manhattan              A            84.827828\n",
       "20            Nashville              O            29.370000\n",
       "21            Nashville              A            39.680000\n",
       "22  Northern New Jersey              O            24.890000\n",
       "23  Northern New Jersey              A            32.870000\n",
       "24    Northern Virginia              O            32.530000\n",
       "25    Northern Virginia              A            36.370000\n",
       "26         Philadelphia              O            28.270000\n",
       "27         Philadelphia              A            33.890000\n",
       "28              Phoenix              O            26.930000\n",
       "29              Phoenix              A            32.630000\n",
       "30       Salt Lake City              O            24.280000\n",
       "31       Salt Lake City              A            30.170000\n",
       "32            San Diego              O            33.810000\n",
       "33            San Diego              A            47.740000\n",
       "34        San Francisco              O            56.720000\n",
       "35        San Francisco              A            75.210000\n",
       "36              Seattle              O            35.780000\n",
       "37              Seattle              A            50.410000\n",
       "38        South Florida              O            37.010000\n",
       "39        South Florida              A            54.660000\n",
       "40                Tampa              O            25.600000\n",
       "41                Tampa              A            32.980000"
      ]
     },
     "execution_count": 47,
     "metadata": {},
     "output_type": "execute_result"
    }
   ],
   "source": [
    "# Initialize an empty list to store the results\n",
    "data = []\n",
    "\n",
    "# Get unique markets and internal_classes\n",
    "markets = df2024_Q4_cleaned['market'].unique()\n",
    "internal_classes = df2024_Q4_cleaned['internal_class'].unique()\n",
    "\n",
    "# Loop through each combination of market and internal_class\n",
    "for market in markets:\n",
    "    for internal_class in internal_classes:\n",
    "        # Get the rent for each market and internal_class combination (mean or other aggregation)\n",
    "        rent_value = df2024_Q4_cleaned[(df2024_Q4_cleaned['market'] == market) & \n",
    "                                      (df2024_Q4_cleaned['internal_class'] == internal_class)]['internal_class_rent'].mean()\n",
    "        \n",
    "        # Append the result to the data list\n",
    "        data.append([market, internal_class, rent_value])\n",
    "\n",
    "# Convert the list of results into a DataFrame\n",
    "df_market_class_rent = pd.DataFrame(data, columns=['market', 'internal_class', 'internal_class_rent'])\n",
    "df_market_class_rent"
   ]
  },
  {
   "cell_type": "code",
   "execution_count": 57,
   "metadata": {},
   "outputs": [],
   "source": [
    "import pandas as pd\n",
    "import plotly.express as px\n",
    "import numpy as np\n",
    "from geopy.geocoders import Nominatim\n",
    "import time"
   ]
  },
  {
   "cell_type": "code",
   "execution_count": 59,
   "metadata": {},
   "outputs": [
    {
     "data": {
      "application/vnd.plotly.v1+json": {
       "config": {
        "plotlyServerURL": "https://plot.ly"
       },
       "data": [
        {
         "customdata": [
          [
           "<b>Atlanta</b><br>Class A Rent: $35.33<br>Class O Rent: $25.39"
          ],
          [
           "<b>Austin</b><br>Class A Rent: $51.26<br>Class O Rent: $34.28"
          ],
          [
           "<b>Baltimore</b><br>Class A Rent: $26.33<br>Class O Rent: $21.09"
          ],
          [
           "<b>Boston</b><br>Class A Rent: $57.95<br>Class O Rent: $31.07"
          ],
          [
           "<b>Charlotte</b><br>Class A Rent: $36.73<br>Class O Rent: $27.71"
          ],
          [
           "<b>Chicago Suburbs</b><br>Class A Rent: $31.36<br>Class O Rent: $22.71"
          ],
          [
           "<b>Detroit</b><br>Class A Rent: $23.46<br>Class O Rent: $20.00"
          ],
          [
           "<b>Houston</b><br>Class A Rent: $36.23<br>Class O Rent: $22.73"
          ],
          [
           "<b>Los Angeles</b><br>Class A Rent: $50.08<br>Class O Rent: $41.02"
          ],
          [
           "<b>Manhattan</b><br>Class A Rent: $84.83<br>Class O Rent: $61.30"
          ],
          [
           "<b>Nashville</b><br>Class A Rent: $39.68<br>Class O Rent: $29.37"
          ],
          [
           "<b>Northern New Jersey</b><br>Class A Rent: $32.87<br>Class O Rent: $24.89"
          ],
          [
           "<b>Northern Virginia</b><br>Class A Rent: $36.37<br>Class O Rent: $32.53"
          ],
          [
           "<b>Philadelphia</b><br>Class A Rent: $33.89<br>Class O Rent: $28.27"
          ],
          [
           "<b>Phoenix</b><br>Class A Rent: $32.63<br>Class O Rent: $26.93"
          ],
          [
           "<b>Salt Lake City</b><br>Class A Rent: $30.17<br>Class O Rent: $24.28"
          ],
          [
           "<b>San Diego</b><br>Class A Rent: $47.74<br>Class O Rent: $33.81"
          ],
          [
           "<b>San Francisco</b><br>Class A Rent: $75.21<br>Class O Rent: $56.72"
          ],
          [
           "<b>Seattle</b><br>Class A Rent: $50.41<br>Class O Rent: $35.78"
          ],
          [
           "<b>South Florida</b><br>Class A Rent: $54.66<br>Class O Rent: $37.01"
          ],
          [
           "<b>Tampa</b><br>Class A Rent: $32.98<br>Class O Rent: $25.60"
          ]
         ],
         "geo": "geo",
         "hovertemplate": "%{customdata[0]}",
         "lat": [
          33.7489924,
          30.2711286,
          39.2908816,
          42.3554334,
          35.2272086,
          42.0470043,
          42.3315509,
          29.7589382,
          34.0536909,
          40.7896239,
          36.1622767,
          40.735657,
          38.8769326,
          39.9527237,
          33.4484367,
          40.7596198,
          32.7174202,
          37.7792588,
          47.6038321,
          25.7741728,
          27.9477595
         ],
         "legendgroup": "",
         "lon": [
          -84.3902644,
          -97.7436995,
          -76.610759,
          -71.060511,
          -80.8430827,
          -87.6846053,
          -83.0466403,
          -95.3676974,
          -118.242766,
          -73.9598939,
          -86.7742984,
          -74.1723667,
          -77.0893094,
          -75.1635262,
          -112.074141,
          -111.886797,
          -117.162772,
          -122.4193286,
          -122.330062,
          -80.19362,
          -82.458444
         ],
         "marker": {
          "color": [
           35.32999999999999,
           51.26000000000001,
           26.32999999999999,
           57.95,
           36.73,
           31.360000000000017,
           23.460000000000004,
           36.230000000000004,
           50.07999999999999,
           84.82782827000001,
           39.680000000000014,
           32.87,
           36.370000000000005,
           33.889999999999986,
           32.63,
           30.16999999999999,
           47.73999999999999,
           75.21000000000001,
           50.40999999999999,
           54.659999999999975,
           32.98
          ],
          "coloraxis": "coloraxis",
          "line": {
           "color": "DarkSlateGrey",
           "width": 1
          },
          "size": 15,
          "sizemin": 5,
          "sizemode": "diameter",
          "symbol": "circle"
         },
         "mode": "markers",
         "name": "",
         "showlegend": false,
         "type": "scattergeo"
        }
       ],
       "layout": {
        "coloraxis": {
         "colorbar": {
          "len": 300,
          "lenmode": "pixels",
          "thickness": 20,
          "thicknessmode": "pixels",
          "title": {
           "text": "Class A Rent ($)"
          }
         },
         "colorscale": [
          [
           0,
           "#440154"
          ],
          [
           0.1111111111111111,
           "#482878"
          ],
          [
           0.2222222222222222,
           "#3e4989"
          ],
          [
           0.3333333333333333,
           "#31688e"
          ],
          [
           0.4444444444444444,
           "#26828e"
          ],
          [
           0.5555555555555556,
           "#1f9e89"
          ],
          [
           0.6666666666666666,
           "#35b779"
          ],
          [
           0.7777777777777778,
           "#6ece58"
          ],
          [
           0.8888888888888888,
           "#b5de2b"
          ],
          [
           1,
           "#fde725"
          ]
         ]
        },
        "geo": {
         "center": {},
         "coastlinecolor": "white",
         "countrycolor": "white",
         "domain": {
          "x": [
           0,
           1
          ],
          "y": [
           0,
           1
          ]
         },
         "lakecolor": "rgb(255, 255, 255)",
         "landcolor": "rgb(217, 217, 217)",
         "projection": {
          "type": "albers usa"
         },
         "scope": "usa",
         "showlakes": true,
         "showland": true,
         "subunitcolor": "white"
        },
        "height": 600,
        "legend": {
         "tracegroupgap": 0
        },
        "margin": {
         "b": 20,
         "l": 20,
         "r": 20,
         "t": 40
        },
        "template": {
         "data": {
          "bar": [
           {
            "error_x": {
             "color": "#2a3f5f"
            },
            "error_y": {
             "color": "#2a3f5f"
            },
            "marker": {
             "line": {
              "color": "#E5ECF6",
              "width": 0.5
             },
             "pattern": {
              "fillmode": "overlay",
              "size": 10,
              "solidity": 0.2
             }
            },
            "type": "bar"
           }
          ],
          "barpolar": [
           {
            "marker": {
             "line": {
              "color": "#E5ECF6",
              "width": 0.5
             },
             "pattern": {
              "fillmode": "overlay",
              "size": 10,
              "solidity": 0.2
             }
            },
            "type": "barpolar"
           }
          ],
          "carpet": [
           {
            "aaxis": {
             "endlinecolor": "#2a3f5f",
             "gridcolor": "white",
             "linecolor": "white",
             "minorgridcolor": "white",
             "startlinecolor": "#2a3f5f"
            },
            "baxis": {
             "endlinecolor": "#2a3f5f",
             "gridcolor": "white",
             "linecolor": "white",
             "minorgridcolor": "white",
             "startlinecolor": "#2a3f5f"
            },
            "type": "carpet"
           }
          ],
          "choropleth": [
           {
            "colorbar": {
             "outlinewidth": 0,
             "ticks": ""
            },
            "type": "choropleth"
           }
          ],
          "contour": [
           {
            "colorbar": {
             "outlinewidth": 0,
             "ticks": ""
            },
            "colorscale": [
             [
              0,
              "#0d0887"
             ],
             [
              0.1111111111111111,
              "#46039f"
             ],
             [
              0.2222222222222222,
              "#7201a8"
             ],
             [
              0.3333333333333333,
              "#9c179e"
             ],
             [
              0.4444444444444444,
              "#bd3786"
             ],
             [
              0.5555555555555556,
              "#d8576b"
             ],
             [
              0.6666666666666666,
              "#ed7953"
             ],
             [
              0.7777777777777778,
              "#fb9f3a"
             ],
             [
              0.8888888888888888,
              "#fdca26"
             ],
             [
              1,
              "#f0f921"
             ]
            ],
            "type": "contour"
           }
          ],
          "contourcarpet": [
           {
            "colorbar": {
             "outlinewidth": 0,
             "ticks": ""
            },
            "type": "contourcarpet"
           }
          ],
          "heatmap": [
           {
            "colorbar": {
             "outlinewidth": 0,
             "ticks": ""
            },
            "colorscale": [
             [
              0,
              "#0d0887"
             ],
             [
              0.1111111111111111,
              "#46039f"
             ],
             [
              0.2222222222222222,
              "#7201a8"
             ],
             [
              0.3333333333333333,
              "#9c179e"
             ],
             [
              0.4444444444444444,
              "#bd3786"
             ],
             [
              0.5555555555555556,
              "#d8576b"
             ],
             [
              0.6666666666666666,
              "#ed7953"
             ],
             [
              0.7777777777777778,
              "#fb9f3a"
             ],
             [
              0.8888888888888888,
              "#fdca26"
             ],
             [
              1,
              "#f0f921"
             ]
            ],
            "type": "heatmap"
           }
          ],
          "heatmapgl": [
           {
            "colorbar": {
             "outlinewidth": 0,
             "ticks": ""
            },
            "colorscale": [
             [
              0,
              "#0d0887"
             ],
             [
              0.1111111111111111,
              "#46039f"
             ],
             [
              0.2222222222222222,
              "#7201a8"
             ],
             [
              0.3333333333333333,
              "#9c179e"
             ],
             [
              0.4444444444444444,
              "#bd3786"
             ],
             [
              0.5555555555555556,
              "#d8576b"
             ],
             [
              0.6666666666666666,
              "#ed7953"
             ],
             [
              0.7777777777777778,
              "#fb9f3a"
             ],
             [
              0.8888888888888888,
              "#fdca26"
             ],
             [
              1,
              "#f0f921"
             ]
            ],
            "type": "heatmapgl"
           }
          ],
          "histogram": [
           {
            "marker": {
             "pattern": {
              "fillmode": "overlay",
              "size": 10,
              "solidity": 0.2
             }
            },
            "type": "histogram"
           }
          ],
          "histogram2d": [
           {
            "colorbar": {
             "outlinewidth": 0,
             "ticks": ""
            },
            "colorscale": [
             [
              0,
              "#0d0887"
             ],
             [
              0.1111111111111111,
              "#46039f"
             ],
             [
              0.2222222222222222,
              "#7201a8"
             ],
             [
              0.3333333333333333,
              "#9c179e"
             ],
             [
              0.4444444444444444,
              "#bd3786"
             ],
             [
              0.5555555555555556,
              "#d8576b"
             ],
             [
              0.6666666666666666,
              "#ed7953"
             ],
             [
              0.7777777777777778,
              "#fb9f3a"
             ],
             [
              0.8888888888888888,
              "#fdca26"
             ],
             [
              1,
              "#f0f921"
             ]
            ],
            "type": "histogram2d"
           }
          ],
          "histogram2dcontour": [
           {
            "colorbar": {
             "outlinewidth": 0,
             "ticks": ""
            },
            "colorscale": [
             [
              0,
              "#0d0887"
             ],
             [
              0.1111111111111111,
              "#46039f"
             ],
             [
              0.2222222222222222,
              "#7201a8"
             ],
             [
              0.3333333333333333,
              "#9c179e"
             ],
             [
              0.4444444444444444,
              "#bd3786"
             ],
             [
              0.5555555555555556,
              "#d8576b"
             ],
             [
              0.6666666666666666,
              "#ed7953"
             ],
             [
              0.7777777777777778,
              "#fb9f3a"
             ],
             [
              0.8888888888888888,
              "#fdca26"
             ],
             [
              1,
              "#f0f921"
             ]
            ],
            "type": "histogram2dcontour"
           }
          ],
          "mesh3d": [
           {
            "colorbar": {
             "outlinewidth": 0,
             "ticks": ""
            },
            "type": "mesh3d"
           }
          ],
          "parcoords": [
           {
            "line": {
             "colorbar": {
              "outlinewidth": 0,
              "ticks": ""
             }
            },
            "type": "parcoords"
           }
          ],
          "pie": [
           {
            "automargin": true,
            "type": "pie"
           }
          ],
          "scatter": [
           {
            "fillpattern": {
             "fillmode": "overlay",
             "size": 10,
             "solidity": 0.2
            },
            "type": "scatter"
           }
          ],
          "scatter3d": [
           {
            "line": {
             "colorbar": {
              "outlinewidth": 0,
              "ticks": ""
             }
            },
            "marker": {
             "colorbar": {
              "outlinewidth": 0,
              "ticks": ""
             }
            },
            "type": "scatter3d"
           }
          ],
          "scattercarpet": [
           {
            "marker": {
             "colorbar": {
              "outlinewidth": 0,
              "ticks": ""
             }
            },
            "type": "scattercarpet"
           }
          ],
          "scattergeo": [
           {
            "marker": {
             "colorbar": {
              "outlinewidth": 0,
              "ticks": ""
             }
            },
            "type": "scattergeo"
           }
          ],
          "scattergl": [
           {
            "marker": {
             "colorbar": {
              "outlinewidth": 0,
              "ticks": ""
             }
            },
            "type": "scattergl"
           }
          ],
          "scattermapbox": [
           {
            "marker": {
             "colorbar": {
              "outlinewidth": 0,
              "ticks": ""
             }
            },
            "type": "scattermapbox"
           }
          ],
          "scatterpolar": [
           {
            "marker": {
             "colorbar": {
              "outlinewidth": 0,
              "ticks": ""
             }
            },
            "type": "scatterpolar"
           }
          ],
          "scatterpolargl": [
           {
            "marker": {
             "colorbar": {
              "outlinewidth": 0,
              "ticks": ""
             }
            },
            "type": "scatterpolargl"
           }
          ],
          "scatterternary": [
           {
            "marker": {
             "colorbar": {
              "outlinewidth": 0,
              "ticks": ""
             }
            },
            "type": "scatterternary"
           }
          ],
          "surface": [
           {
            "colorbar": {
             "outlinewidth": 0,
             "ticks": ""
            },
            "colorscale": [
             [
              0,
              "#0d0887"
             ],
             [
              0.1111111111111111,
              "#46039f"
             ],
             [
              0.2222222222222222,
              "#7201a8"
             ],
             [
              0.3333333333333333,
              "#9c179e"
             ],
             [
              0.4444444444444444,
              "#bd3786"
             ],
             [
              0.5555555555555556,
              "#d8576b"
             ],
             [
              0.6666666666666666,
              "#ed7953"
             ],
             [
              0.7777777777777778,
              "#fb9f3a"
             ],
             [
              0.8888888888888888,
              "#fdca26"
             ],
             [
              1,
              "#f0f921"
             ]
            ],
            "type": "surface"
           }
          ],
          "table": [
           {
            "cells": {
             "fill": {
              "color": "#EBF0F8"
             },
             "line": {
              "color": "white"
             }
            },
            "header": {
             "fill": {
              "color": "#C8D4E3"
             },
             "line": {
              "color": "white"
             }
            },
            "type": "table"
           }
          ]
         },
         "layout": {
          "annotationdefaults": {
           "arrowcolor": "#2a3f5f",
           "arrowhead": 0,
           "arrowwidth": 1
          },
          "autotypenumbers": "strict",
          "coloraxis": {
           "colorbar": {
            "outlinewidth": 0,
            "ticks": ""
           }
          },
          "colorscale": {
           "diverging": [
            [
             0,
             "#8e0152"
            ],
            [
             0.1,
             "#c51b7d"
            ],
            [
             0.2,
             "#de77ae"
            ],
            [
             0.3,
             "#f1b6da"
            ],
            [
             0.4,
             "#fde0ef"
            ],
            [
             0.5,
             "#f7f7f7"
            ],
            [
             0.6,
             "#e6f5d0"
            ],
            [
             0.7,
             "#b8e186"
            ],
            [
             0.8,
             "#7fbc41"
            ],
            [
             0.9,
             "#4d9221"
            ],
            [
             1,
             "#276419"
            ]
           ],
           "sequential": [
            [
             0,
             "#0d0887"
            ],
            [
             0.1111111111111111,
             "#46039f"
            ],
            [
             0.2222222222222222,
             "#7201a8"
            ],
            [
             0.3333333333333333,
             "#9c179e"
            ],
            [
             0.4444444444444444,
             "#bd3786"
            ],
            [
             0.5555555555555556,
             "#d8576b"
            ],
            [
             0.6666666666666666,
             "#ed7953"
            ],
            [
             0.7777777777777778,
             "#fb9f3a"
            ],
            [
             0.8888888888888888,
             "#fdca26"
            ],
            [
             1,
             "#f0f921"
            ]
           ],
           "sequentialminus": [
            [
             0,
             "#0d0887"
            ],
            [
             0.1111111111111111,
             "#46039f"
            ],
            [
             0.2222222222222222,
             "#7201a8"
            ],
            [
             0.3333333333333333,
             "#9c179e"
            ],
            [
             0.4444444444444444,
             "#bd3786"
            ],
            [
             0.5555555555555556,
             "#d8576b"
            ],
            [
             0.6666666666666666,
             "#ed7953"
            ],
            [
             0.7777777777777778,
             "#fb9f3a"
            ],
            [
             0.8888888888888888,
             "#fdca26"
            ],
            [
             1,
             "#f0f921"
            ]
           ]
          },
          "colorway": [
           "#636efa",
           "#EF553B",
           "#00cc96",
           "#ab63fa",
           "#FFA15A",
           "#19d3f3",
           "#FF6692",
           "#B6E880",
           "#FF97FF",
           "#FECB52"
          ],
          "font": {
           "color": "#2a3f5f"
          },
          "geo": {
           "bgcolor": "white",
           "lakecolor": "white",
           "landcolor": "#E5ECF6",
           "showlakes": true,
           "showland": true,
           "subunitcolor": "white"
          },
          "hoverlabel": {
           "align": "left"
          },
          "hovermode": "closest",
          "mapbox": {
           "style": "light"
          },
          "paper_bgcolor": "white",
          "plot_bgcolor": "#E5ECF6",
          "polar": {
           "angularaxis": {
            "gridcolor": "white",
            "linecolor": "white",
            "ticks": ""
           },
           "bgcolor": "#E5ECF6",
           "radialaxis": {
            "gridcolor": "white",
            "linecolor": "white",
            "ticks": ""
           }
          },
          "scene": {
           "xaxis": {
            "backgroundcolor": "#E5ECF6",
            "gridcolor": "white",
            "gridwidth": 2,
            "linecolor": "white",
            "showbackground": true,
            "ticks": "",
            "zerolinecolor": "white"
           },
           "yaxis": {
            "backgroundcolor": "#E5ECF6",
            "gridcolor": "white",
            "gridwidth": 2,
            "linecolor": "white",
            "showbackground": true,
            "ticks": "",
            "zerolinecolor": "white"
           },
           "zaxis": {
            "backgroundcolor": "#E5ECF6",
            "gridcolor": "white",
            "gridwidth": 2,
            "linecolor": "white",
            "showbackground": true,
            "ticks": "",
            "zerolinecolor": "white"
           }
          },
          "shapedefaults": {
           "line": {
            "color": "#2a3f5f"
           }
          },
          "ternary": {
           "aaxis": {
            "gridcolor": "white",
            "linecolor": "white",
            "ticks": ""
           },
           "baxis": {
            "gridcolor": "white",
            "linecolor": "white",
            "ticks": ""
           },
           "bgcolor": "#E5ECF6",
           "caxis": {
            "gridcolor": "white",
            "linecolor": "white",
            "ticks": ""
           }
          },
          "title": {
           "x": 0.05
          },
          "xaxis": {
           "automargin": true,
           "gridcolor": "white",
           "linecolor": "white",
           "ticks": "",
           "title": {
            "standoff": 15
           },
           "zerolinecolor": "white",
           "zerolinewidth": 2
          },
          "yaxis": {
           "automargin": true,
           "gridcolor": "white",
           "linecolor": "white",
           "ticks": "",
           "title": {
            "standoff": 15
           },
           "zerolinecolor": "white",
           "zerolinewidth": 2
          }
         }
        },
        "title": {
         "text": "US Markets - Internal Class Rents (Class A and O)"
        },
        "width": 1000
       }
      }
     },
     "metadata": {},
     "output_type": "display_data"
    },
    {
     "data": {
      "text/plain": [
       "' \\n# Create the map\\nfig = px.scatter_geo(\\n    df_market_class_rentCOPY,\\n    lat=\\'latitude\\',\\n    lon=\\'longitude\\',\\n    hover_name=\\'market\\',\\n    hover_data={\\'internal_class_rent\\': True, \\'latitude\\': False, \\'longitude\\': False},\\n    size=[15] * len(df_market_class_rentCOPY),  # Constant size for all markers\\n    text=\\'market\\',\\n    scope=\\'usa\\',\\n    title=\\'US Markets - Internal Class Rent (Hover for Details)\\',\\n    projection=\\'albers usa\\',  # Use Albers USA projection for better US visualization\\n    color=\\'internal_class_rent\\',\\n    color_continuous_scale=px.colors.sequential.Viridis,\\n    labels={\\'internal_class_rent\\': \\'Rent ($)\\'}\\n)\\n\\n# Customize the marker size and color\\nfig.update_traces(\\n    marker=dict(\\n        sizemode=\\'diameter\\',\\n        sizemin=5,\\n        line=dict(width=1, color=\\'DarkSlateGrey\\')\\n    ),\\n    selector=dict(mode=\\'markers\\')\\n)\\n\\n# Customize layout\\nfig.update_layout(\\n    coloraxis_colorbar=dict(\\n        title=\\'Rent ($)\\',\\n        thicknessmode=\\'pixels\\', thickness=20,\\n        lenmode=\\'pixels\\', len=300\\n    ),\\n    geo=dict(\\n        showland=True,\\n        landcolor=\\'rgb(217, 217, 217)\\',\\n        coastlinecolor=\\'white\\',\\n        countrycolor=\\'white\\',\\n        showlakes=True,\\n        lakecolor=\\'rgb(255, 255, 255)\\',\\n        subunitcolor=\\'white\\'\\n    ),\\n    margin=dict(r=20, t=40, l=20, b=20),\\n    height=600,\\n    width=1000\\n)\\n\\n# Show the figure\\nfig.show()\\n\\n# Optional: Save the figure to an HTML file\\n#fig.write_html(\"us_market_rent_map.html\")\\n'"
      ]
     },
     "execution_count": 59,
     "metadata": {},
     "output_type": "execute_result"
    }
   ],
   "source": [
    "\n",
    "# Let's assume you have a DataFrame df_market_class_rent with market and internal_class_rent columns\n",
    "# For this example, I'll create a mock DataFrame with random rent values\n",
    "\n",
    "# Define market names\n",
    "markets = df_market_class_rent['market'].unique().tolist()\n",
    "\n",
    "# Function to get latitude and longitude with retry mechanism\n",
    "def get_coordinates(location_name):\n",
    "    geolocator = Nominatim(user_agent=\"market_map\")\n",
    "    \n",
    "    # Fix some location names for better geocoding\n",
    "    location_map = {\n",
    "        'Raleigh/Durham': 'Raleigh, NC, USA',\n",
    "        'Dallas/Ft Worth': 'Dallas, TX, USA',\n",
    "        'Manhattan': 'Manhattan, NY, USA',\n",
    "        'Northern New Jersey': 'Newark, NJ, USA',\n",
    "        'Northern Virginia': 'Arlington, VA, USA',\n",
    "        'Orange County': 'Orange County, CA, USA',\n",
    "        'South Bay/San Jose': 'San Jose, CA, USA',\n",
    "        'South Florida': 'Miami, FL, USA',\n",
    "        'Southern Maryland': 'Annapolis, MD, USA',\n",
    "        'Chicago Suburbs': 'Evanston, IL, USA',\n",
    "        'Washington D.C': 'Washington DC, USA'\n",
    "    }\n",
    "    \n",
    "    search_name = location_map.get(location_name, location_name + ', USA')\n",
    "    \n",
    "    for attempt in range(3):  # Try up to 3 times\n",
    "        try:\n",
    "            location = geolocator.geocode(search_name)\n",
    "            if location:\n",
    "                return location.latitude, location.longitude\n",
    "            time.sleep(1)  # Be nice to the geocoding service\n",
    "        except Exception as e:\n",
    "            print(f\"Error geocoding {location_name}: {e}\")\n",
    "            time.sleep(2)  # Wait a bit longer before retrying\n",
    "    \n",
    "    # Return default coordinates if geocoding fails\n",
    "    print(f\"Could not geocode {location_name}, using default coordinates\")\n",
    "    return None, None\n",
    "\n",
    "# Get coordinates for each market\n",
    "coordinates = {}\n",
    "for market in markets:\n",
    "    lat, lon = get_coordinates(market)\n",
    "    coordinates[market] = (lat, lon)\n",
    "    time.sleep(1)  # Respect rate limits\n",
    "\n",
    "# Add coordinates to DataFrame\n",
    "df_market_class_rent['latitude'] = df_market_class_rent['market'].map(lambda x: coordinates[x][0])\n",
    "df_market_class_rent['longitude'] = df_market_class_rent['market'].map(lambda x: coordinates[x][1])\n",
    "\n",
    "# Remove any rows with missing coordinates\n",
    "df_market_class_rentCOPY = df_market_class_rent.dropna(subset=['latitude', 'longitude'])\n",
    "\n",
    "\n",
    "\n",
    "df_pivot = df_market_class_rent.pivot_table(\n",
    "    index='market',\n",
    "    columns='internal_class',\n",
    "    values='internal_class_rent',\n",
    "    aggfunc='mean'  # or 'first' if you have only one value per market-class\n",
    ").reset_index()\n",
    "\n",
    "# Merge pivot data with coordinates\n",
    "df_for_map = pd.merge(\n",
    "    df_pivot,\n",
    "    df_market_class_rentCOPY[['market', 'latitude', 'longitude']].drop_duplicates(),\n",
    "    on='market'\n",
    ")\n",
    "\n",
    "# Create custom hover text that shows both Class A and O rents\n",
    "df_for_map['hover_text'] = df_for_map.apply(\n",
    "    lambda row: f\"<b>{row['market']}</b><br>\" +\n",
    "                f\"Class A Rent: ${row['A']:.2f}<br>\" +\n",
    "                f\"Class O Rent: ${row['O']:.2f}\",\n",
    "    axis=1\n",
    ")\n",
    "\n",
    "# Create the map\n",
    "fig = px.scatter_geo(\n",
    "    df_for_map,\n",
    "    lat='latitude',\n",
    "    lon='longitude',\n",
    "    custom_data=['hover_text'],  # Use our custom hover text\n",
    "    scope='usa',\n",
    "    title='US Markets - Internal Class Rents (Class A and O)',\n",
    "    projection='albers usa',  # Use Albers USA projection for better US visualization\n",
    "    color='A',  # Color by Class A rent\n",
    "    color_continuous_scale=px.colors.sequential.Viridis,\n",
    "    labels={'A': 'Class A Rent ($)'}\n",
    ")\n",
    "\n",
    "# Update hover template to use our custom hover text\n",
    "fig.update_traces(\n",
    "    hovertemplate=\"%{customdata[0]}\",\n",
    "    marker=dict(\n",
    "        size=15,  # Constant size for all markers\n",
    "        sizemode='diameter',\n",
    "        sizemin=5,\n",
    "        line=dict(width=1, color='DarkSlateGrey')\n",
    "    ),\n",
    "    selector=dict(mode='markers')\n",
    ")\n",
    "\n",
    "# Customize layout\n",
    "fig.update_layout(\n",
    "    coloraxis_colorbar=dict(\n",
    "        title='Class A Rent ($)',\n",
    "        thicknessmode='pixels', thickness=20,\n",
    "        lenmode='pixels', len=300\n",
    "    ),\n",
    "    geo=dict(\n",
    "        showland=True,\n",
    "        landcolor='rgb(217, 217, 217)',\n",
    "        coastlinecolor='white',\n",
    "        countrycolor='white',\n",
    "        showlakes=True,\n",
    "        lakecolor='rgb(255, 255, 255)',\n",
    "        subunitcolor='white'\n",
    "    ),\n",
    "    margin=dict(r=20, t=40, l=20, b=20),\n",
    "    height=600,\n",
    "    width=1000\n",
    ")\n",
    "\n",
    "# Show the figure\n",
    "fig.show()\n",
    "\n",
    "# Optional: Save the figure to an HTML file\n",
    "# fig.write_html(\"us_market_rent_map.html\")\n"
   ]
  }
 ],
 "metadata": {
  "kernelspec": {
   "display_name": "mlpython",
   "language": "python",
   "name": "python3"
  },
  "language_info": {
   "codemirror_mode": {
    "name": "ipython",
    "version": 3
   },
   "file_extension": ".py",
   "mimetype": "text/x-python",
   "name": "python",
   "nbconvert_exporter": "python",
   "pygments_lexer": "ipython3",
   "version": "3.8.18"
  },
  "orig_nbformat": 4
 },
 "nbformat": 4,
 "nbformat_minor": 2
}
