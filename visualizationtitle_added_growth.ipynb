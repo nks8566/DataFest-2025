{
 "cells": [
  {
   "cell_type": "code",
   "execution_count": 1,
   "metadata": {},
   "outputs": [],
   "source": [
    "import pandas as pd\n",
    "import numpy as np\n",
    "import plotly.express as px\n",
    "import plotly.graph_objects as go\n",
    "from plotly.subplots import make_subplots\n",
    "from geopy.geocoders import Nominatim\n",
    "import time\n",
    "import os"
   ]
  },
  {
   "cell_type": "code",
   "execution_count": 9,
   "metadata": {},
   "outputs": [
    {
     "data": {
      "text/html": [
       "<div>\n",
       "<style scoped>\n",
       "    .dataframe tbody tr th:only-of-type {\n",
       "        vertical-align: middle;\n",
       "    }\n",
       "\n",
       "    .dataframe tbody tr th {\n",
       "        vertical-align: top;\n",
       "    }\n",
       "\n",
       "    .dataframe thead th {\n",
       "        text-align: right;\n",
       "    }\n",
       "</style>\n",
       "<table border=\"1\" class=\"dataframe\">\n",
       "  <thead>\n",
       "    <tr style=\"text-align: right;\">\n",
       "      <th></th>\n",
       "      <th>market</th>\n",
       "      <th>quarter</th>\n",
       "      <th>year</th>\n",
       "      <th>go_proportion</th>\n",
       "      <th>quarter_percent_change_lease</th>\n",
       "      <th>internal_industry</th>\n",
       "      <th>internal_class</th>\n",
       "      <th>internal_class_rent</th>\n",
       "      <th>county_name</th>\n",
       "      <th>worked_at_home_rate</th>\n",
       "      <th>employed_pop</th>\n",
       "      <th>commuters_by_public_transportation_rate</th>\n",
       "      <th>total_pop</th>\n",
       "    </tr>\n",
       "  </thead>\n",
       "  <tbody>\n",
       "    <tr>\n",
       "      <th>0</th>\n",
       "      <td>Atlanta</td>\n",
       "      <td>Q1</td>\n",
       "      <td>2018</td>\n",
       "      <td>0.591837</td>\n",
       "      <td>0.000000</td>\n",
       "      <td>Financial Services and Insurance</td>\n",
       "      <td>A</td>\n",
       "      <td>27.655891</td>\n",
       "      <td>Fulton County</td>\n",
       "      <td>0.041473</td>\n",
       "      <td>72922.625</td>\n",
       "      <td>0.013230</td>\n",
       "      <td>149460.25</td>\n",
       "    </tr>\n",
       "    <tr>\n",
       "      <th>1</th>\n",
       "      <td>Atlanta</td>\n",
       "      <td>Q1</td>\n",
       "      <td>2018</td>\n",
       "      <td>0.789474</td>\n",
       "      <td>0.000000</td>\n",
       "      <td>Technology, Advertising, Media, and Information</td>\n",
       "      <td>A</td>\n",
       "      <td>27.655891</td>\n",
       "      <td>Fulton County</td>\n",
       "      <td>0.041473</td>\n",
       "      <td>72922.625</td>\n",
       "      <td>0.013230</td>\n",
       "      <td>149460.25</td>\n",
       "    </tr>\n",
       "    <tr>\n",
       "      <th>2</th>\n",
       "      <td>Austin</td>\n",
       "      <td>Q1</td>\n",
       "      <td>2018</td>\n",
       "      <td>0.625000</td>\n",
       "      <td>0.000000</td>\n",
       "      <td>Legal Services</td>\n",
       "      <td>O</td>\n",
       "      <td>30.118658</td>\n",
       "      <td>Travis County</td>\n",
       "      <td>0.082316</td>\n",
       "      <td>645807.000</td>\n",
       "      <td>0.031554</td>\n",
       "      <td>1176584.00</td>\n",
       "    </tr>\n",
       "    <tr>\n",
       "      <th>3</th>\n",
       "      <td>Austin</td>\n",
       "      <td>Q1</td>\n",
       "      <td>2018</td>\n",
       "      <td>0.833333</td>\n",
       "      <td>836.536618</td>\n",
       "      <td>Financial Services and Insurance</td>\n",
       "      <td>A</td>\n",
       "      <td>40.384706</td>\n",
       "      <td>Travis County</td>\n",
       "      <td>0.082316</td>\n",
       "      <td>645807.000</td>\n",
       "      <td>0.031554</td>\n",
       "      <td>1176584.00</td>\n",
       "    </tr>\n",
       "    <tr>\n",
       "      <th>4</th>\n",
       "      <td>Austin</td>\n",
       "      <td>Q1</td>\n",
       "      <td>2018</td>\n",
       "      <td>0.833333</td>\n",
       "      <td>0.000000</td>\n",
       "      <td>Financial Services and Insurance</td>\n",
       "      <td>A</td>\n",
       "      <td>40.384706</td>\n",
       "      <td>Travis County</td>\n",
       "      <td>0.082316</td>\n",
       "      <td>645807.000</td>\n",
       "      <td>0.031554</td>\n",
       "      <td>1176584.00</td>\n",
       "    </tr>\n",
       "  </tbody>\n",
       "</table>\n",
       "</div>"
      ],
      "text/plain": [
       "    market quarter  year  go_proportion  quarter_percent_change_lease  \\\n",
       "0  Atlanta      Q1  2018       0.591837                      0.000000   \n",
       "1  Atlanta      Q1  2018       0.789474                      0.000000   \n",
       "2   Austin      Q1  2018       0.625000                      0.000000   \n",
       "3   Austin      Q1  2018       0.833333                    836.536618   \n",
       "4   Austin      Q1  2018       0.833333                      0.000000   \n",
       "\n",
       "                                 internal_industry internal_class  \\\n",
       "0                 Financial Services and Insurance              A   \n",
       "1  Technology, Advertising, Media, and Information              A   \n",
       "2                                   Legal Services              O   \n",
       "3                 Financial Services and Insurance              A   \n",
       "4                 Financial Services and Insurance              A   \n",
       "\n",
       "   internal_class_rent    county_name  worked_at_home_rate  employed_pop  \\\n",
       "0            27.655891  Fulton County             0.041473     72922.625   \n",
       "1            27.655891  Fulton County             0.041473     72922.625   \n",
       "2            30.118658  Travis County             0.082316    645807.000   \n",
       "3            40.384706  Travis County             0.082316    645807.000   \n",
       "4            40.384706  Travis County             0.082316    645807.000   \n",
       "\n",
       "   commuters_by_public_transportation_rate   total_pop  \n",
       "0                                 0.013230   149460.25  \n",
       "1                                 0.013230   149460.25  \n",
       "2                                 0.031554  1176584.00  \n",
       "3                                 0.031554  1176584.00  \n",
       "4                                 0.031554  1176584.00  "
      ]
     },
     "execution_count": 9,
     "metadata": {},
     "output_type": "execute_result"
    }
   ],
   "source": [
    "growth = pd.read_csv('df_final.csv')\n",
    "growth.head(5)"
   ]
  },
  {
   "cell_type": "code",
   "execution_count": 10,
   "metadata": {},
   "outputs": [
    {
     "data": {
      "text/html": [
       "<div>\n",
       "<style scoped>\n",
       "    .dataframe tbody tr th:only-of-type {\n",
       "        vertical-align: middle;\n",
       "    }\n",
       "\n",
       "    .dataframe tbody tr th {\n",
       "        vertical-align: top;\n",
       "    }\n",
       "\n",
       "    .dataframe thead th {\n",
       "        text-align: right;\n",
       "    }\n",
       "</style>\n",
       "<table border=\"1\" class=\"dataframe\">\n",
       "  <thead>\n",
       "    <tr style=\"text-align: right;\">\n",
       "      <th></th>\n",
       "      <th>market</th>\n",
       "      <th>quarter</th>\n",
       "      <th>year</th>\n",
       "      <th>legal_growth_index</th>\n",
       "      <th>internal_class</th>\n",
       "      <th>internal_class_rent</th>\n",
       "      <th>tech_growth_index</th>\n",
       "      <th>finance_growth_index</th>\n",
       "    </tr>\n",
       "  </thead>\n",
       "  <tbody>\n",
       "    <tr>\n",
       "      <th>0</th>\n",
       "      <td>Atlanta</td>\n",
       "      <td>Q1</td>\n",
       "      <td>2018</td>\n",
       "      <td>0.357747</td>\n",
       "      <td>A</td>\n",
       "      <td>27.655891</td>\n",
       "      <td>0.962922</td>\n",
       "      <td>0.598188</td>\n",
       "    </tr>\n",
       "    <tr>\n",
       "      <th>1</th>\n",
       "      <td>Atlanta</td>\n",
       "      <td>Q1</td>\n",
       "      <td>2018</td>\n",
       "      <td>NaN</td>\n",
       "      <td>O</td>\n",
       "      <td>18.560886</td>\n",
       "      <td>0.785548</td>\n",
       "      <td>0.497500</td>\n",
       "    </tr>\n",
       "    <tr>\n",
       "      <th>2</th>\n",
       "      <td>Atlanta</td>\n",
       "      <td>Q1</td>\n",
       "      <td>2019</td>\n",
       "      <td>0.420012</td>\n",
       "      <td>A</td>\n",
       "      <td>30.044474</td>\n",
       "      <td>1.112619</td>\n",
       "      <td>0.497500</td>\n",
       "    </tr>\n",
       "    <tr>\n",
       "      <th>3</th>\n",
       "      <td>Atlanta</td>\n",
       "      <td>Q1</td>\n",
       "      <td>2019</td>\n",
       "      <td>0.165062</td>\n",
       "      <td>O</td>\n",
       "      <td>20.385196</td>\n",
       "      <td>NaN</td>\n",
       "      <td>NaN</td>\n",
       "    </tr>\n",
       "    <tr>\n",
       "      <th>4</th>\n",
       "      <td>Atlanta</td>\n",
       "      <td>Q1</td>\n",
       "      <td>2020</td>\n",
       "      <td>0.357747</td>\n",
       "      <td>A</td>\n",
       "      <td>32.068992</td>\n",
       "      <td>0.989656</td>\n",
       "      <td>0.564139</td>\n",
       "    </tr>\n",
       "  </tbody>\n",
       "</table>\n",
       "</div>"
      ],
      "text/plain": [
       "    market quarter  year  legal_growth_index internal_class  \\\n",
       "0  Atlanta      Q1  2018            0.357747              A   \n",
       "1  Atlanta      Q1  2018                 NaN              O   \n",
       "2  Atlanta      Q1  2019            0.420012              A   \n",
       "3  Atlanta      Q1  2019            0.165062              O   \n",
       "4  Atlanta      Q1  2020            0.357747              A   \n",
       "\n",
       "   internal_class_rent  tech_growth_index  finance_growth_index  \n",
       "0            27.655891           0.962922              0.598188  \n",
       "1            18.560886           0.785548              0.497500  \n",
       "2            30.044474           1.112619              0.497500  \n",
       "3            20.385196                NaN                   NaN  \n",
       "4            32.068992           0.989656              0.564139  "
      ]
     },
     "execution_count": 10,
     "metadata": {},
     "output_type": "execute_result"
    }
   ],
   "source": [
    "growth = pd.read_csv('C:/SMU/DataFest/growth_merged.csv')\n",
    "growth.head(5)"
   ]
  },
  {
   "cell_type": "code",
   "execution_count": 11,
   "metadata": {},
   "outputs": [],
   "source": [
    "growth['quarter'] = growth['quarter'].str.replace('Q', '').astype(int)"
   ]
  },
  {
   "cell_type": "code",
   "execution_count": 6,
   "metadata": {},
   "outputs": [
    {
     "name": "stderr",
     "output_type": "stream",
     "text": [
      "C:\\Users\\nia_4\\AppData\\Local\\Temp\\ipykernel_22872\\1254066020.py:1: FutureWarning:\n",
      "\n",
      "Series.fillna with 'method' is deprecated and will raise in a future version. Use obj.ffill() or obj.bfill() instead.\n",
      "\n",
      "C:\\Users\\nia_4\\AppData\\Local\\Temp\\ipykernel_22872\\1254066020.py:2: FutureWarning:\n",
      "\n",
      "Series.fillna with 'method' is deprecated and will raise in a future version. Use obj.ffill() or obj.bfill() instead.\n",
      "\n",
      "C:\\Users\\nia_4\\AppData\\Local\\Temp\\ipykernel_22872\\1254066020.py:3: FutureWarning:\n",
      "\n",
      "Series.fillna with 'method' is deprecated and will raise in a future version. Use obj.ffill() or obj.bfill() instead.\n",
      "\n"
     ]
    }
   ],
   "source": [
    "growth['legal_growth_index'] = growth['legal_growth_index'].fillna(method='ffill').fillna(method='bfill')\n",
    "growth['finance_growth_index'] = growth['finance_growth_index'].fillna(method='ffill').fillna(method='bfill')\n",
    "growth['tech_growth_index'] = growth['tech_growth_index'].fillna(method='ffill').fillna(method='bfill')"
   ]
  },
  {
   "cell_type": "code",
   "execution_count": 7,
   "metadata": {},
   "outputs": [],
   "source": [
    "growth.to_csv('C:/SMU/DataFest/growth_data.csv', index=False)"
   ]
  },
  {
   "cell_type": "code",
   "execution_count": 12,
   "metadata": {},
   "outputs": [
    {
     "data": {
      "text/html": [
       "<div>\n",
       "<style scoped>\n",
       "    .dataframe tbody tr th:only-of-type {\n",
       "        vertical-align: middle;\n",
       "    }\n",
       "\n",
       "    .dataframe tbody tr th {\n",
       "        vertical-align: top;\n",
       "    }\n",
       "\n",
       "    .dataframe thead th {\n",
       "        text-align: right;\n",
       "    }\n",
       "</style>\n",
       "<table border=\"1\" class=\"dataframe\">\n",
       "  <thead>\n",
       "    <tr style=\"text-align: right;\">\n",
       "      <th></th>\n",
       "      <th>market</th>\n",
       "      <th>quarter</th>\n",
       "      <th>year</th>\n",
       "      <th>legal_growth_index</th>\n",
       "      <th>internal_class</th>\n",
       "      <th>internal_class_rent</th>\n",
       "      <th>tech_growth_index</th>\n",
       "      <th>finance_growth_index</th>\n",
       "    </tr>\n",
       "  </thead>\n",
       "  <tbody>\n",
       "    <tr>\n",
       "      <th>0</th>\n",
       "      <td>Atlanta</td>\n",
       "      <td>1</td>\n",
       "      <td>2018</td>\n",
       "      <td>0.357747</td>\n",
       "      <td>A</td>\n",
       "      <td>27.655891</td>\n",
       "      <td>0.962922</td>\n",
       "      <td>0.598188</td>\n",
       "    </tr>\n",
       "    <tr>\n",
       "      <th>1</th>\n",
       "      <td>Atlanta</td>\n",
       "      <td>1</td>\n",
       "      <td>2018</td>\n",
       "      <td>NaN</td>\n",
       "      <td>O</td>\n",
       "      <td>18.560886</td>\n",
       "      <td>0.785548</td>\n",
       "      <td>0.497500</td>\n",
       "    </tr>\n",
       "    <tr>\n",
       "      <th>2</th>\n",
       "      <td>Atlanta</td>\n",
       "      <td>1</td>\n",
       "      <td>2019</td>\n",
       "      <td>0.420012</td>\n",
       "      <td>A</td>\n",
       "      <td>30.044474</td>\n",
       "      <td>1.112619</td>\n",
       "      <td>0.497500</td>\n",
       "    </tr>\n",
       "    <tr>\n",
       "      <th>3</th>\n",
       "      <td>Atlanta</td>\n",
       "      <td>1</td>\n",
       "      <td>2019</td>\n",
       "      <td>0.165062</td>\n",
       "      <td>O</td>\n",
       "      <td>20.385196</td>\n",
       "      <td>NaN</td>\n",
       "      <td>NaN</td>\n",
       "    </tr>\n",
       "    <tr>\n",
       "      <th>4</th>\n",
       "      <td>Atlanta</td>\n",
       "      <td>1</td>\n",
       "      <td>2020</td>\n",
       "      <td>0.357747</td>\n",
       "      <td>A</td>\n",
       "      <td>32.068992</td>\n",
       "      <td>0.989656</td>\n",
       "      <td>0.564139</td>\n",
       "    </tr>\n",
       "  </tbody>\n",
       "</table>\n",
       "</div>"
      ],
      "text/plain": [
       "    market  quarter  year  legal_growth_index internal_class  \\\n",
       "0  Atlanta        1  2018            0.357747              A   \n",
       "1  Atlanta        1  2018                 NaN              O   \n",
       "2  Atlanta        1  2019            0.420012              A   \n",
       "3  Atlanta        1  2019            0.165062              O   \n",
       "4  Atlanta        1  2020            0.357747              A   \n",
       "\n",
       "   internal_class_rent  tech_growth_index  finance_growth_index  \n",
       "0            27.655891           0.962922              0.598188  \n",
       "1            18.560886           0.785548              0.497500  \n",
       "2            30.044474           1.112619              0.497500  \n",
       "3            20.385196                NaN                   NaN  \n",
       "4            32.068992           0.989656              0.564139  "
      ]
     },
     "execution_count": 12,
     "metadata": {},
     "output_type": "execute_result"
    }
   ],
   "source": [
    "growth.head(5)"
   ]
  },
  {
   "cell_type": "code",
   "execution_count": 17,
   "metadata": {},
   "outputs": [
    {
     "name": "stdout",
     "output_type": "stream",
     "text": [
      "Loading data from C:/SMU/DataFest/growth_data.csv...\n",
      "Successfully loaded 1064 rows of data.\n",
      "Unique internal classes: ['A' 'O']\n",
      "Getting coordinates for markets...\n",
      "Markets in data: ['Atlanta', 'Austin', 'Baltimore', 'Boston', 'Charlotte', 'Chicago Suburbs', 'Detroit', 'Houston', 'Los Angeles', 'Manhattan', 'Nashville', 'Northern New Jersey', 'Northern Virginia', 'Philadelphia', 'Phoenix', 'Salt Lake City', 'San Diego', 'San Francisco', 'Seattle', 'South Florida', 'Tampa']\n",
      "DF AG:  Index(['time_period', 'year', 'quarter', 'market', 'internal_class',\n",
      "       'internal_class_rent', 'legal_growth_index', 'tech_growth_index',\n",
      "       'finance_growth_index', 'latitude', 'longitude'],\n",
      "      dtype='object')\n",
      "Time periods found: ['2018-Q1' '2018-Q2' '2018-Q3' '2018-Q4' '2019-Q1' '2019-Q2' '2019-Q3'\n",
      " '2019-Q4' '2020-Q1' '2020-Q2' '2020-Q3' '2020-Q4' '2021-Q1' '2021-Q2'\n",
      " '2021-Q3' '2021-Q4' '2022-Q1' '2022-Q2' '2022-Q3' '2022-Q4' '2023-Q1'\n",
      " '2023-Q2' '2023-Q3' '2023-Q4' '2024-Q1' '2024-Q2' '2024-Q3' '2024-Q4']\n",
      "FIRST DATA :  Index(['time_period', 'year', 'quarter', 'market', 'internal_class',\n",
      "       'internal_class_rent', 'legal_growth_index', 'tech_growth_index',\n",
      "       'finance_growth_index', 'latitude', 'longitude'],\n",
      "      dtype='object')\n"
     ]
    },
    {
     "data": {
      "application/vnd.plotly.v1+json": {
       "config": {
        "plotlyServerURL": "https://plot.ly"
       },
       "data": [
        {
         "hoverinfo": "text",
         "lat": {
          "bdata": "HVpkO9/fQEAdWmQ7399AQL99HThnRD5Av30dOGdEPkCh1jTvOKVDQKHWNO84pUNAEqW9wRcuRUASpb3BFy5FQPd14JwRnUFA93XgnBGdQUC8dJMYBAZFQLx0kxgEBkVA30+Nl24qRUDf4AuTqcI9QN/gC5Opwj1A9GxWfa4GQUD0bFZ9rgZBQLG/7J48ZERAsb/snjxkREBn1edqK15EQKkT0ETYcENAqRPQRNhwQ0C1FfvL7vlDQLUV+8vu+UNAYcPTK2W5QEBhw9MrZblAQP5l9+RhYURApN++DpxbQECk374OnFtAQNDVVuwv40JA0NVW7C/jQkDoaiv2l81HQOhqK/aXzUdA+1xtxf7COUD7XG3F/sI5QN6Th4Va8ztA3pOHhVrzO0A=",
          "dtype": "f8"
         },
         "lon": {
          "bdata": "Rrbz/dQYVcBGtvP91BhVwBZqTfOOb1jAFmpN845vWMBlGeJYFydTwGUZ4lgXJ1PAAG+BBMXDUcAAb4EExcNRwH3Qs1n1NVTAfdCzWfU1VMDdtYR80OtVwN21hHzQ61XAl/+QfvvCVMDkg57NqtdXwOSDns2q11fAQYLix5iPXcBBguLHmI9dwAN4CyQoflLAA3gLJCh+UsAldQKaCItSwOf7qfHSRVPA5/up8dJFU8AmUwWjkspSwCZTBaOSylLA2/l+arwEXMDb+X5qvARcwBsv3SQG+VvArthfdk9KXcCu2F92T0pdwFD8GHPXml7AUPwYc9eaXsAawFsgQZVewBrAWyBBlV7A3NeBc0YMVMDc14FzRgxUwMzuycNCnVTAzO7Jw0KdVMA=",
          "dtype": "f8"
         },
         "marker": {
          "cmax": 94.191224222457,
          "cmin": 20.9981865703684,
          "color": {
           "bdata": "JDfPe+inO0AkN8976Kc7QJ4x7Qw+MURAnjHtDD4xREDSFF111ho7QNIUXXXWGjtApkyJ8SAmRUCmTInxICZFQGbX4vXgljxAZtfi9eCWPECtzDF9tFM6QK3MMX20UzpA5wmzJ4n/NEDW3z8hfQ1AQNbfPyF9DUBA5735I2vzQ0Dnvfkja/NDQHCsmU6/nVRAcKyZTr+dVECOTQjpE3k8QHoaH1D31EBAehofUPfUQEAGHhrTzJM7QAYeGtPMkztAymnGREb8PEDKacZERvw8QN+qiTjLDz1AR6HzcT1EQkBHofNxPURCQCFmmBTJM1FAIWaYFMkzUUCcPLDiscxEQJw8sOKxzERAQYulNrK4QkBBi6U2srhCQK5nmK2AUjxArmeYrYBSPEA=",
           "dtype": "f8"
          },
          "colorbar": {
           "len": 0.6,
           "thickness": 15,
           "title": {
            "text": "Class A Rent ($)"
           },
           "y": 0.5,
           "yanchor": "middle"
          },
          "colorscale": [
           [
            0,
            "#440154"
           ],
           [
            0.1111111111111111,
            "#482878"
           ],
           [
            0.2222222222222222,
            "#3e4989"
           ],
           [
            0.3333333333333333,
            "#31688e"
           ],
           [
            0.4444444444444444,
            "#26828e"
           ],
           [
            0.5555555555555556,
            "#1f9e89"
           ],
           [
            0.6666666666666666,
            "#35b779"
           ],
           [
            0.7777777777777778,
            "#6ece58"
           ],
           [
            0.8888888888888888,
            "#b5de2b"
           ],
           [
            1,
            "#fde725"
           ]
          ],
          "line": {
           "color": "DarkSlateGrey",
           "width": 1
          },
          "size": {
           "bdata": "j9M72dYxJkCP0zvZ1jEmQJUWn5m95y5AlRafmb3nLkB77DldjO0lQHvsOV2M7SVAbM0DIYRHMEBszQMhhEcwQIJc7HoNrCZAglzseg2sJkAkNOn/UJIlQCQ06f9QkiVAAAAAAAAAJEBGUcXcr7ooQEZRxdyvuihA2DDa9Q+ALkDYMNr1D4AuQE68gBdBZERATryAF0FkRED9RhnZYJwmQHJaeTw6wilAclp5PDrCKUC/4awD7ScmQL/hrAPtJyZA+p7fGkjiJkD6nt8aSOImQHd+G+Lg7CZAJ9G7KZTSK0An0bsplNIrQA6szV8hHj9ADqzNXyEeP0AgK88UJPIvQCArzxQk8i9AksLXqA2FLECSwteoDYUsQG3Dsw1FiCZAbcOzDUWIJkA=",
           "dtype": "f8"
          }
         },
         "mode": "markers",
         "name": "2018-Q1",
         "text": [
          "<b>Atlanta</b><br>Time Period: 2024-Q4<br>Class A Rent: $27.66<br>Class O Rent: $18.56<br>A/O Ratio: 1.49<br>Legal Growth Index: 0.36<br>Tech Growth Index: 0.96<br>Finance Growth Index: 0.60",
          "<b>Atlanta</b><br>Time Period: 2024-Q4<br>Class A Rent: $27.66<br>Class O Rent: $18.56<br>A/O Ratio: 1.49<br>Legal Growth Index: 0.36<br>Tech Growth Index: 0.79<br>Finance Growth Index: 0.50",
          "<b>Austin</b><br>Time Period: 2024-Q4<br>Class A Rent: $40.38<br>Class O Rent: $30.12<br>A/O Ratio: 1.34<br>Legal Growth Index: 0.55<br>Tech Growth Index: 0.31<br>Finance Growth Index: 1.87",
          "<b>Austin</b><br>Time Period: 2024-Q4<br>Class A Rent: $40.38<br>Class O Rent: $30.12<br>A/O Ratio: 1.34<br>Legal Growth Index: 0.32<br>Tech Growth Index: 0.31<br>Finance Growth Index: 1.87",
          "<b>Baltimore</b><br>Time Period: 2024-Q4<br>Class A Rent: $27.10<br>Class O Rent: $20.12<br>A/O Ratio: 1.35<br>Legal Growth Index: 0.63<br>Tech Growth Index: 0.29<br>Finance Growth Index: 0.82",
          "<b>Baltimore</b><br>Time Period: 2024-Q4<br>Class A Rent: $27.10<br>Class O Rent: $20.12<br>A/O Ratio: 1.35<br>Legal Growth Index: 0.63<br>Tech Growth Index: 0.29<br>Finance Growth Index: 0.79",
          "<b>Boston</b><br>Time Period: 2024-Q4<br>Class A Rent: $42.30<br>Class O Rent: $20.15<br>A/O Ratio: 2.10<br>Legal Growth Index: 1.06<br>Tech Growth Index: 0.65<br>Finance Growth Index: 0.51",
          "<b>Boston</b><br>Time Period: 2024-Q4<br>Class A Rent: $42.30<br>Class O Rent: $20.15<br>A/O Ratio: 2.10<br>Legal Growth Index: 1.06<br>Tech Growth Index: 0.42<br>Finance Growth Index: 0.51",
          "<b>Charlotte</b><br>Time Period: 2024-Q4<br>Class A Rent: $28.59<br>Class O Rent: $20.76<br>A/O Ratio: 1.38<br>Legal Growth Index: 0.47<br>Tech Growth Index: 0.76<br>Finance Growth Index: 1.90",
          "<b>Charlotte</b><br>Time Period: 2024-Q4<br>Class A Rent: $28.59<br>Class O Rent: $20.76<br>A/O Ratio: 1.38<br>Legal Growth Index: 0.57<br>Tech Growth Index: 0.76<br>Finance Growth Index: 1.90",
          "<b>Chicago Suburbs</b><br>Time Period: 2024-Q4<br>Class A Rent: $26.33<br>Class O Rent: $19.61<br>A/O Ratio: 1.34<br>Legal Growth Index: 1.30<br>Tech Growth Index: 1.00<br>Finance Growth Index: 0.14",
          "<b>Chicago Suburbs</b><br>Time Period: 2024-Q4<br>Class A Rent: $26.33<br>Class O Rent: $19.61<br>A/O Ratio: 1.34<br>Legal Growth Index: 1.30<br>Tech Growth Index: 0.88<br>Finance Growth Index: 0.10",
          "<b>Detroit</b><br>Time Period: 2024-Q4<br>Class A Rent: $21.00<br>Class O Rent: $nan<br>Legal Growth Index: 0.73<br>Tech Growth Index: -0.27<br>Finance Growth Index: 0.19",
          "<b>Houston</b><br>Time Period: 2024-Q4<br>Class A Rent: $32.11<br>Class O Rent: $21.03<br>A/O Ratio: 1.53<br>Legal Growth Index: 0.34<br>Tech Growth Index: 0.81<br>Finance Growth Index: 0.05",
          "<b>Houston</b><br>Time Period: 2024-Q4<br>Class A Rent: $32.11<br>Class O Rent: $21.03<br>A/O Ratio: 1.53<br>Legal Growth Index: 0.34<br>Tech Growth Index: 0.81<br>Finance Growth Index: -0.11",
          "<b>Los Angeles</b><br>Time Period: 2024-Q4<br>Class A Rent: $39.90<br>Class O Rent: $31.90<br>A/O Ratio: 1.25<br>Legal Growth Index: 0.84<br>Tech Growth Index: 0.49<br>Finance Growth Index: 0.75",
          "<b>Los Angeles</b><br>Time Period: 2024-Q4<br>Class A Rent: $39.90<br>Class O Rent: $31.90<br>A/O Ratio: 1.25<br>Legal Growth Index: 0.84<br>Tech Growth Index: 0.06<br>Finance Growth Index: 0.27",
          "<b>Manhattan</b><br>Time Period: 2024-Q4<br>Class A Rent: $82.46<br>Class O Rent: $61.39<br>A/O Ratio: 1.34<br>Legal Growth Index: 0.30<br>Tech Growth Index: 0.42<br>Finance Growth Index: 0.34",
          "<b>Manhattan</b><br>Time Period: 2024-Q4<br>Class A Rent: $82.46<br>Class O Rent: $61.39<br>A/O Ratio: 1.34<br>Legal Growth Index: 0.21<br>Tech Growth Index: 0.32<br>Finance Growth Index: 0.25",
          "<b>Northern New Jersey</b><br>Time Period: 2024-Q4<br>Class A Rent: $28.47<br>Class O Rent: $nan<br>Legal Growth Index: 0.19<br>Tech Growth Index: 0.27<br>Finance Growth Index: 0.48",
          "<b>Northern Virginia</b><br>Time Period: 2024-Q4<br>Class A Rent: $33.66<br>Class O Rent: $28.97<br>A/O Ratio: 1.16<br>Legal Growth Index: 0.52<br>Tech Growth Index: -0.08<br>Finance Growth Index: 1.18",
          "<b>Northern Virginia</b><br>Time Period: 2024-Q4<br>Class A Rent: $33.66<br>Class O Rent: $28.97<br>A/O Ratio: 1.16<br>Legal Growth Index: 0.52<br>Tech Growth Index: -0.36<br>Finance Growth Index: 0.11",
          "<b>Philadelphia</b><br>Time Period: 2024-Q4<br>Class A Rent: $27.58<br>Class O Rent: $22.97<br>A/O Ratio: 1.20<br>Legal Growth Index: 0.00<br>Tech Growth Index: 0.09<br>Finance Growth Index: 0.65",
          "<b>Philadelphia</b><br>Time Period: 2024-Q4<br>Class A Rent: $27.58<br>Class O Rent: $22.97<br>A/O Ratio: 1.20<br>Legal Growth Index: 0.00<br>Tech Growth Index: 1.04<br>Finance Growth Index: 0.40",
          "<b>Phoenix</b><br>Time Period: 2024-Q4<br>Class A Rent: $28.99<br>Class O Rent: $23.07<br>A/O Ratio: 1.26<br>Legal Growth Index: 0.38<br>Tech Growth Index: 0.48<br>Finance Growth Index: 0.38",
          "<b>Phoenix</b><br>Time Period: 2024-Q4<br>Class A Rent: $28.99<br>Class O Rent: $23.07<br>A/O Ratio: 1.26<br>Legal Growth Index: 0.44<br>Tech Growth Index: 0.48<br>Finance Growth Index: 0.32",
          "<b>Salt Lake City</b><br>Time Period: 2024-Q4<br>Class A Rent: $29.06<br>Class O Rent: $nan<br>Legal Growth Index: 1.43<br>Tech Growth Index: 1.01<br>Finance Growth Index: -0.97",
          "<b>San Diego</b><br>Time Period: 2024-Q4<br>Class A Rent: $36.53<br>Class O Rent: $28.34<br>A/O Ratio: 1.29<br>Legal Growth Index: 0.13<br>Tech Growth Index: -0.27<br>Finance Growth Index: -0.31",
          "<b>San Diego</b><br>Time Period: 2024-Q4<br>Class A Rent: $36.53<br>Class O Rent: $28.34<br>A/O Ratio: 1.29<br>Legal Growth Index: 0.13<br>Tech Growth Index: -0.28<br>Finance Growth Index: -0.31",
          "<b>San Francisco</b><br>Time Period: 2024-Q4<br>Class A Rent: $68.81<br>Class O Rent: $64.58<br>A/O Ratio: 1.07<br>Legal Growth Index: 0.47<br>Tech Growth Index: 0.76<br>Finance Growth Index: 0.38",
          "<b>San Francisco</b><br>Time Period: 2024-Q4<br>Class A Rent: $68.81<br>Class O Rent: $64.58<br>A/O Ratio: 1.07<br>Legal Growth Index: 0.47<br>Tech Growth Index: 0.62<br>Finance Growth Index: 0.38",
          "<b>Seattle</b><br>Time Period: 2024-Q4<br>Class A Rent: $41.60<br>Class O Rent: $28.04<br>A/O Ratio: 1.48<br>Legal Growth Index: 0.54<br>Tech Growth Index: 0.70<br>Finance Growth Index: 0.30",
          "<b>Seattle</b><br>Time Period: 2024-Q4<br>Class A Rent: $41.60<br>Class O Rent: $28.04<br>A/O Ratio: 1.48<br>Legal Growth Index: 0.54<br>Tech Growth Index: 0.63<br>Finance Growth Index: 0.30",
          "<b>South Florida</b><br>Time Period: 2024-Q4<br>Class A Rent: $37.44<br>Class O Rent: $27.76<br>A/O Ratio: 1.35<br>Legal Growth Index: 0.95<br>Tech Growth Index: 0.28<br>Finance Growth Index: 0.47",
          "<b>South Florida</b><br>Time Period: 2024-Q4<br>Class A Rent: $37.44<br>Class O Rent: $27.76<br>A/O Ratio: 1.35<br>Legal Growth Index: 0.95<br>Tech Growth Index: 0.28<br>Finance Growth Index: 0.46",
          "<b>Tampa</b><br>Time Period: 2024-Q4<br>Class A Rent: $28.32<br>Class O Rent: $20.03<br>A/O Ratio: 1.41<br>Legal Growth Index: 0.47<br>Tech Growth Index: 0.13<br>Finance Growth Index: 1.07",
          "<b>Tampa</b><br>Time Period: 2024-Q4<br>Class A Rent: $28.32<br>Class O Rent: $20.03<br>A/O Ratio: 1.41<br>Legal Growth Index: 0.47<br>Tech Growth Index: 0.13<br>Finance Growth Index: 0.51"
         ],
         "type": "scattergeo"
        }
       ],
       "frames": [
        {
         "data": [
          {
           "hoverinfo": "text",
           "lat": {
            "bdata": "HVpkO9/fQEAdWmQ7399AQL99HThnRD5Av30dOGdEPkCh1jTvOKVDQKHWNO84pUNAEqW9wRcuRUASpb3BFy5FQPd14JwRnUFA93XgnBGdQUC8dJMYBAZFQLx0kxgEBkVA30+Nl24qRUDf4AuTqcI9QN/gC5Opwj1A9GxWfa4GQUD0bFZ9rgZBQLG/7J48ZERAsb/snjxkREBn1edqK15EQKkT0ETYcENAqRPQRNhwQ0C1FfvL7vlDQLUV+8vu+UNAYcPTK2W5QEBhw9MrZblAQP5l9+RhYURApN++DpxbQECk374OnFtAQNDVVuwv40JA0NVW7C/jQkDoaiv2l81HQOhqK/aXzUdA+1xtxf7COUD7XG3F/sI5QN6Th4Va8ztA3pOHhVrzO0A=",
            "dtype": "f8"
           },
           "lon": {
            "bdata": "Rrbz/dQYVcBGtvP91BhVwBZqTfOOb1jAFmpN845vWMBlGeJYFydTwGUZ4lgXJ1PAAG+BBMXDUcAAb4EExcNRwH3Qs1n1NVTAfdCzWfU1VMDdtYR80OtVwN21hHzQ61XAl/+QfvvCVMDkg57NqtdXwOSDns2q11fAQYLix5iPXcBBguLHmI9dwAN4CyQoflLAA3gLJCh+UsAldQKaCItSwOf7qfHSRVPA5/up8dJFU8AmUwWjkspSwCZTBaOSylLA2/l+arwEXMDb+X5qvARcwBsv3SQG+VvArthfdk9KXcCu2F92T0pdwFD8GHPXml7AUPwYc9eaXsAawFsgQZVewBrAWyBBlV7A3NeBc0YMVMDc14FzRgxUwMzuycNCnVTAzO7Jw0KdVMA=",
            "dtype": "f8"
           },
           "marker": {
            "cmax": 94.191224222457,
            "cmin": 20.9981865703684,
            "color": {
             "bdata": "JDfPe+inO0AkN8976Kc7QJ4x7Qw+MURAnjHtDD4xREDSFF111ho7QNIUXXXWGjtApkyJ8SAmRUCmTInxICZFQGbX4vXgljxAZtfi9eCWPECtzDF9tFM6QK3MMX20UzpA5wmzJ4n/NEDW3z8hfQ1AQNbfPyF9DUBA5735I2vzQ0Dnvfkja/NDQHCsmU6/nVRAcKyZTr+dVECOTQjpE3k8QHoaH1D31EBAehofUPfUQEAGHhrTzJM7QAYeGtPMkztAymnGREb8PEDKacZERvw8QN+qiTjLDz1AR6HzcT1EQkBHofNxPURCQCFmmBTJM1FAIWaYFMkzUUCcPLDiscxEQJw8sOKxzERAQYulNrK4QkBBi6U2srhCQK5nmK2AUjxArmeYrYBSPEA=",
             "dtype": "f8"
            },
            "colorbar": {
             "len": 0.6,
             "thickness": 15,
             "title": {
              "text": "Class A Rent ($)"
             },
             "y": 0.5,
             "yanchor": "middle"
            },
            "colorscale": [
             [
              0,
              "#440154"
             ],
             [
              0.1111111111111111,
              "#482878"
             ],
             [
              0.2222222222222222,
              "#3e4989"
             ],
             [
              0.3333333333333333,
              "#31688e"
             ],
             [
              0.4444444444444444,
              "#26828e"
             ],
             [
              0.5555555555555556,
              "#1f9e89"
             ],
             [
              0.6666666666666666,
              "#35b779"
             ],
             [
              0.7777777777777778,
              "#6ece58"
             ],
             [
              0.8888888888888888,
              "#b5de2b"
             ],
             [
              1,
              "#fde725"
             ]
            ],
            "line": {
             "color": "DarkSlateGrey",
             "width": 1
            },
            "size": {
             "bdata": "j9M72dYxJkCP0zvZ1jEmQJUWn5m95y5AlRafmb3nLkB77DldjO0lQHvsOV2M7SVAbM0DIYRHMEBszQMhhEcwQIJc7HoNrCZAglzseg2sJkAkNOn/UJIlQCQ06f9QkiVAAAAAAAAAJEBGUcXcr7ooQEZRxdyvuihA2DDa9Q+ALkDYMNr1D4AuQE68gBdBZERATryAF0FkRED9RhnZYJwmQHJaeTw6wilAclp5PDrCKUC/4awD7ScmQL/hrAPtJyZA+p7fGkjiJkD6nt8aSOImQHd+G+Lg7CZAJ9G7KZTSK0An0bsplNIrQA6szV8hHj9ADqzNXyEeP0AgK88UJPIvQCArzxQk8i9AksLXqA2FLECSwteoDYUsQG3Dsw1FiCZAbcOzDUWIJkA=",
             "dtype": "f8"
            }
           },
           "mode": "markers",
           "name": "2018-Q1",
           "text": [
            "<b>Atlanta</b><br>Time Period: 2018-Q1<br>Class A Rent: $27.66<br>Class O Rent: $18.56<br>A/O Ratio: 1.49<br>Legal Growth Index: 36%<br>Tech Growth Index: 96%<br>Finance Growth Index: 60%",
            "<b>Atlanta</b><br>Time Period: 2018-Q1<br>Class A Rent: $27.66<br>Class O Rent: $18.56<br>A/O Ratio: 1.49<br>Legal Growth Index: 36%<br>Tech Growth Index: 79%<br>Finance Growth Index: 50%",
            "<b>Austin</b><br>Time Period: 2018-Q1<br>Class A Rent: $40.38<br>Class O Rent: $30.12<br>A/O Ratio: 1.34<br>Legal Growth Index: 55%<br>Tech Growth Index: 31%<br>Finance Growth Index: 187%",
            "<b>Austin</b><br>Time Period: 2018-Q1<br>Class A Rent: $40.38<br>Class O Rent: $30.12<br>A/O Ratio: 1.34<br>Legal Growth Index: 32%<br>Tech Growth Index: 31%<br>Finance Growth Index: 187%",
            "<b>Baltimore</b><br>Time Period: 2018-Q1<br>Class A Rent: $27.10<br>Class O Rent: $20.12<br>A/O Ratio: 1.35<br>Legal Growth Index: 63%<br>Tech Growth Index: 29%<br>Finance Growth Index: 82%",
            "<b>Baltimore</b><br>Time Period: 2018-Q1<br>Class A Rent: $27.10<br>Class O Rent: $20.12<br>A/O Ratio: 1.35<br>Legal Growth Index: 63%<br>Tech Growth Index: 29%<br>Finance Growth Index: 79%",
            "<b>Boston</b><br>Time Period: 2018-Q1<br>Class A Rent: $42.30<br>Class O Rent: $20.15<br>A/O Ratio: 2.10<br>Legal Growth Index: 106%<br>Tech Growth Index: 65%<br>Finance Growth Index: 51%",
            "<b>Boston</b><br>Time Period: 2018-Q1<br>Class A Rent: $42.30<br>Class O Rent: $20.15<br>A/O Ratio: 2.10<br>Legal Growth Index: 106%<br>Tech Growth Index: 42%<br>Finance Growth Index: 51%",
            "<b>Charlotte</b><br>Time Period: 2018-Q1<br>Class A Rent: $28.59<br>Class O Rent: $20.76<br>A/O Ratio: 1.38<br>Legal Growth Index: 47%<br>Tech Growth Index: 76%<br>Finance Growth Index: 190%",
            "<b>Charlotte</b><br>Time Period: 2018-Q1<br>Class A Rent: $28.59<br>Class O Rent: $20.76<br>A/O Ratio: 1.38<br>Legal Growth Index: 57%<br>Tech Growth Index: 76%<br>Finance Growth Index: 190%",
            "<b>Chicago Suburbs</b><br>Time Period: 2018-Q1<br>Class A Rent: $26.33<br>Class O Rent: $19.61<br>A/O Ratio: 1.34<br>Legal Growth Index: 130%<br>Tech Growth Index: 100%<br>Finance Growth Index: 14%",
            "<b>Chicago Suburbs</b><br>Time Period: 2018-Q1<br>Class A Rent: $26.33<br>Class O Rent: $19.61<br>A/O Ratio: 1.34<br>Legal Growth Index: 130%<br>Tech Growth Index: 88%<br>Finance Growth Index: 10%",
            "<b>Detroit</b><br>Time Period: 2018-Q1<br>Class A Rent: $21.00<br>Class O Rent: $nan<br>Legal Growth Index: 73%<br>Tech Growth Index: -27%<br>Finance Growth Index: 19%",
            "<b>Houston</b><br>Time Period: 2018-Q1<br>Class A Rent: $32.11<br>Class O Rent: $21.03<br>A/O Ratio: 1.53<br>Legal Growth Index: 34%<br>Tech Growth Index: 81%<br>Finance Growth Index: 5%",
            "<b>Houston</b><br>Time Period: 2018-Q1<br>Class A Rent: $32.11<br>Class O Rent: $21.03<br>A/O Ratio: 1.53<br>Legal Growth Index: 34%<br>Tech Growth Index: 81%<br>Finance Growth Index: -11%",
            "<b>Los Angeles</b><br>Time Period: 2018-Q1<br>Class A Rent: $39.90<br>Class O Rent: $31.90<br>A/O Ratio: 1.25<br>Legal Growth Index: 84%<br>Tech Growth Index: 49%<br>Finance Growth Index: 75%",
            "<b>Los Angeles</b><br>Time Period: 2018-Q1<br>Class A Rent: $39.90<br>Class O Rent: $31.90<br>A/O Ratio: 1.25<br>Legal Growth Index: 84%<br>Tech Growth Index: 6%<br>Finance Growth Index: 27%",
            "<b>Manhattan</b><br>Time Period: 2018-Q1<br>Class A Rent: $82.46<br>Class O Rent: $61.39<br>A/O Ratio: 1.34<br>Legal Growth Index: 30%<br>Tech Growth Index: 42%<br>Finance Growth Index: 34%",
            "<b>Manhattan</b><br>Time Period: 2018-Q1<br>Class A Rent: $82.46<br>Class O Rent: $61.39<br>A/O Ratio: 1.34<br>Legal Growth Index: 21%<br>Tech Growth Index: 32%<br>Finance Growth Index: 25%",
            "<b>Northern New Jersey</b><br>Time Period: 2018-Q1<br>Class A Rent: $28.47<br>Class O Rent: $nan<br>Legal Growth Index: 19%<br>Tech Growth Index: 27%<br>Finance Growth Index: 48%",
            "<b>Northern Virginia</b><br>Time Period: 2018-Q1<br>Class A Rent: $33.66<br>Class O Rent: $28.97<br>A/O Ratio: 1.16<br>Legal Growth Index: 52%<br>Tech Growth Index: -8%<br>Finance Growth Index: 118%",
            "<b>Northern Virginia</b><br>Time Period: 2018-Q1<br>Class A Rent: $33.66<br>Class O Rent: $28.97<br>A/O Ratio: 1.16<br>Legal Growth Index: 52%<br>Tech Growth Index: -36%<br>Finance Growth Index: 11%",
            "<b>Philadelphia</b><br>Time Period: 2018-Q1<br>Class A Rent: $27.58<br>Class O Rent: $22.97<br>A/O Ratio: 1.20<br>Legal Growth Index: 0%<br>Tech Growth Index: 9%<br>Finance Growth Index: 65%",
            "<b>Philadelphia</b><br>Time Period: 2018-Q1<br>Class A Rent: $27.58<br>Class O Rent: $22.97<br>A/O Ratio: 1.20<br>Legal Growth Index: 0%<br>Tech Growth Index: 104%<br>Finance Growth Index: 40%",
            "<b>Phoenix</b><br>Time Period: 2018-Q1<br>Class A Rent: $28.99<br>Class O Rent: $23.07<br>A/O Ratio: 1.26<br>Legal Growth Index: 38%<br>Tech Growth Index: 48%<br>Finance Growth Index: 38%",
            "<b>Phoenix</b><br>Time Period: 2018-Q1<br>Class A Rent: $28.99<br>Class O Rent: $23.07<br>A/O Ratio: 1.26<br>Legal Growth Index: 44%<br>Tech Growth Index: 48%<br>Finance Growth Index: 32%",
            "<b>Salt Lake City</b><br>Time Period: 2018-Q1<br>Class A Rent: $29.06<br>Class O Rent: $nan<br>Legal Growth Index: 143%<br>Tech Growth Index: 101%<br>Finance Growth Index: -97%",
            "<b>San Diego</b><br>Time Period: 2018-Q1<br>Class A Rent: $36.53<br>Class O Rent: $28.34<br>A/O Ratio: 1.29<br>Legal Growth Index: 13%<br>Tech Growth Index: -27%<br>Finance Growth Index: -31%",
            "<b>San Diego</b><br>Time Period: 2018-Q1<br>Class A Rent: $36.53<br>Class O Rent: $28.34<br>A/O Ratio: 1.29<br>Legal Growth Index: 13%<br>Tech Growth Index: -28%<br>Finance Growth Index: -31%",
            "<b>San Francisco</b><br>Time Period: 2018-Q1<br>Class A Rent: $68.81<br>Class O Rent: $64.58<br>A/O Ratio: 1.07<br>Legal Growth Index: 47%<br>Tech Growth Index: 76%<br>Finance Growth Index: 38%",
            "<b>San Francisco</b><br>Time Period: 2018-Q1<br>Class A Rent: $68.81<br>Class O Rent: $64.58<br>A/O Ratio: 1.07<br>Legal Growth Index: 47%<br>Tech Growth Index: 62%<br>Finance Growth Index: 38%",
            "<b>Seattle</b><br>Time Period: 2018-Q1<br>Class A Rent: $41.60<br>Class O Rent: $28.04<br>A/O Ratio: 1.48<br>Legal Growth Index: 54%<br>Tech Growth Index: 70%<br>Finance Growth Index: 30%",
            "<b>Seattle</b><br>Time Period: 2018-Q1<br>Class A Rent: $41.60<br>Class O Rent: $28.04<br>A/O Ratio: 1.48<br>Legal Growth Index: 54%<br>Tech Growth Index: 63%<br>Finance Growth Index: 30%",
            "<b>South Florida</b><br>Time Period: 2018-Q1<br>Class A Rent: $37.44<br>Class O Rent: $27.76<br>A/O Ratio: 1.35<br>Legal Growth Index: 95%<br>Tech Growth Index: 28%<br>Finance Growth Index: 47%",
            "<b>South Florida</b><br>Time Period: 2018-Q1<br>Class A Rent: $37.44<br>Class O Rent: $27.76<br>A/O Ratio: 1.35<br>Legal Growth Index: 95%<br>Tech Growth Index: 28%<br>Finance Growth Index: 46%",
            "<b>Tampa</b><br>Time Period: 2018-Q1<br>Class A Rent: $28.32<br>Class O Rent: $20.03<br>A/O Ratio: 1.41<br>Legal Growth Index: 47%<br>Tech Growth Index: 13%<br>Finance Growth Index: 107%",
            "<b>Tampa</b><br>Time Period: 2018-Q1<br>Class A Rent: $28.32<br>Class O Rent: $20.03<br>A/O Ratio: 1.41<br>Legal Growth Index: 47%<br>Tech Growth Index: 13%<br>Finance Growth Index: 51%"
           ],
           "type": "scattergeo"
          }
         ],
         "layout": {
          "title": {
           "text": "US Market Rental Rates Over Time: 2018-Q1"
          }
         },
         "name": "2018-Q1"
        },
        {
         "data": [
          {
           "hoverinfo": "text",
           "lat": {
            "bdata": "HVpkO9/fQEAdWmQ7399AQL99HThnRD5Av30dOGdEPkCh1jTvOKVDQKHWNO84pUNAEqW9wRcuRUASpb3BFy5FQPd14JwRnUFAvHSTGAQGRUC8dJMYBAZFQN9PjZduKkVA3+ALk6nCPUDf4AuTqcI9QPRsVn2uBkFA9GxWfa4GQUCxv+yePGREQLG/7J48ZERAlIeFWtMUQkBn1edqK15EQKkT0ETYcENAqRPQRNhwQ0C1FfvL7vlDQLUV+8vu+UNAYcPTK2W5QEBhw9MrZblAQKTfvg6cW0BApN++DpxbQEDQ1VbsL+NCQNDVVuwv40JA6Gor9pfNR0Doaiv2l81HQPtcbcX+wjlA+1xtxf7COUDek4eFWvM7QN6Th4Va8ztA",
            "dtype": "f8"
           },
           "lon": {
            "bdata": "Rrbz/dQYVcBGtvP91BhVwBZqTfOOb1jAFmpN845vWMBlGeJYFydTwGUZ4lgXJ1PAAG+BBMXDUcAAb4EExcNRwH3Qs1n1NVTA3bWEfNDrVcDdtYR80OtVwJf/kH77wlTA5IOezarXV8Dkg57NqtdXwEGC4seYj13AQYLix5iPXcADeAskKH5SwAN4CyQoflLAbqMBvAWyVcAldQKaCItSwOf7qfHSRVPA5/up8dJFU8AmUwWjkspSwCZTBaOSylLA2/l+arwEXMDb+X5qvARcwK7YX3ZPSl3Arthfdk9KXcBQ/Bhz15pewFD8GHPXml7AGsBbIEGVXsAawFsgQZVewNzXgXNGDFTA3NeBc0YMVMDM7snDQp1UwMzuycNCnVTA",
            "dtype": "f8"
           },
           "marker": {
            "cmax": 94.191224222457,
            "cmin": 20.9981865703684,
            "color": {
             "bdata": "Y4hdjnxAPUBjiF2OfEA9QHkXlgZj1ENAeReWBmPUQ0DPn+hoIzQ7QM+f6GgjNDtAlNAvTYXaRkCU0C9NhdpGQE7AccIMYT1AWCzTQHfcOkBYLNNAd9w6QIAVhxZqVTVApWXj2i/IQEClZePaL8hAQHKgA9M7hENAcqAD0zuEQ0DFehaRHoJUQMV6FpEeglRAAAAAAAAA+H920CLLpm08QE6ttWXxOEFATq21ZfE4QUCKUHXxJnI9QIpQdfEmcj1AVepg32RoPkBV6mDfZGg+QN4kZKKoZUJA3iRkoqhlQkA8N90qsT1RQDw33SqxPVFARiMGKewuR0BGIwYp7C5HQEYlMaiy1kJARiUxqLLWQkAh22bNCMI8QCHbZs0IwjxA",
             "dtype": "f8"
            },
            "colorbar": {
             "len": 0.6,
             "thickness": 15,
             "title": {
              "text": "Class A Rent ($)"
             },
             "y": 0.5,
             "yanchor": "middle"
            },
            "colorscale": [
             [
              0,
              "#440154"
             ],
             [
              0.1111111111111111,
              "#482878"
             ],
             [
              0.2222222222222222,
              "#3e4989"
             ],
             [
              0.3333333333333333,
              "#31688e"
             ],
             [
              0.4444444444444444,
              "#26828e"
             ],
             [
              0.5555555555555556,
              "#1f9e89"
             ],
             [
              0.6666666666666666,
              "#35b779"
             ],
             [
              0.7777777777777778,
              "#6ece58"
             ],
             [
              0.8888888888888888,
              "#b5de2b"
             ],
             [
              1,
              "#fde725"
             ]
            ],
            "line": {
             "color": "DarkSlateGrey",
             "width": 1
            },
            "size": {
             "bdata": "ehSxDYgHJ0B6FLENiAcnQDwMiHaETC5APAyIdoRMLkA/xs38k/klQD/GzfyT+SVAkJcUkIfYMUCQlxSQh9gxQGKCVjyHGSdAlE/ez07QJUCUT97PTtAlQO8pw8taBiRAh3/ut9SwKUCHf+631LApQMpApvTtyC1AykCm9O3ILUCyvd9s0TpEQLK932zROkRAAAAAAAAALkDMWs6SZpYmQGS+zs6tTCpAZL7Ozq1MKkB2pLkBCSMnQHakuQEJIydAxs2gsAWwJ0DGzaCwBbAnQAloXCJGBSxACWhcIkYFLEBNQfDRZzg/QE1B8NFnOD9AJArUqnYpMkAkCtSqdikyQO4NNmjZsyxA7g02aNmzLECGPLX49sImQIY8tfj2wiZA",
             "dtype": "f8"
            }
           },
           "mode": "markers",
           "name": "2018-Q2",
           "text": [
            "<b>Atlanta</b><br>Time Period: 2018-Q2<br>Class A Rent: $29.25<br>Class O Rent: $20.22<br>A/O Ratio: 1.45<br>Legal Growth Index: 14%<br>Tech Growth Index: 115%<br>Finance Growth Index: 76%",
            "<b>Atlanta</b><br>Time Period: 2018-Q2<br>Class A Rent: $29.25<br>Class O Rent: $20.22<br>A/O Ratio: 1.45<br>Legal Growth Index: 14%<br>Tech Growth Index: 87%<br>Finance Growth Index: 60%",
            "<b>Austin</b><br>Time Period: 2018-Q2<br>Class A Rent: $39.66<br>Class O Rent: $29.72<br>A/O Ratio: 1.33<br>Legal Growth Index: 87%<br>Tech Growth Index: 24%<br>Finance Growth Index: 64%",
            "<b>Austin</b><br>Time Period: 2018-Q2<br>Class A Rent: $39.66<br>Class O Rent: $29.72<br>A/O Ratio: 1.33<br>Legal Growth Index: 87%<br>Tech Growth Index: 24%<br>Finance Growth Index: 54%",
            "<b>Baltimore</b><br>Time Period: 2018-Q2<br>Class A Rent: $27.20<br>Class O Rent: $20.65<br>A/O Ratio: 1.32<br>Legal Growth Index: -39%<br>Tech Growth Index: 8%<br>Finance Growth Index: 100%",
            "<b>Baltimore</b><br>Time Period: 2018-Q2<br>Class A Rent: $27.20<br>Class O Rent: $20.65<br>A/O Ratio: 1.32<br>Legal Growth Index: 67%<br>Tech Growth Index: 8%<br>Finance Growth Index: 100%",
            "<b>Boston</b><br>Time Period: 2018-Q2<br>Class A Rent: $45.71<br>Class O Rent: $21.97<br>A/O Ratio: 2.08<br>Legal Growth Index: 106%<br>Tech Growth Index: 120%<br>Finance Growth Index: 47%",
            "<b>Boston</b><br>Time Period: 2018-Q2<br>Class A Rent: $45.71<br>Class O Rent: $21.97<br>A/O Ratio: 2.08<br>Legal Growth Index: 106%<br>Tech Growth Index: 101%<br>Finance Growth Index: 43%",
            "<b>Charlotte</b><br>Time Period: 2018-Q2<br>Class A Rent: $29.38<br>Class O Rent: $nan<br>Legal Growth Index: 57%<br>Tech Growth Index: 64%<br>Finance Growth Index: 79%",
            "<b>Chicago Suburbs</b><br>Time Period: 2018-Q2<br>Class A Rent: $26.86<br>Class O Rent: $19.76<br>A/O Ratio: 1.36<br>Legal Growth Index: 66%<br>Tech Growth Index: 95%<br>Finance Growth Index: 27%",
            "<b>Chicago Suburbs</b><br>Time Period: 2018-Q2<br>Class A Rent: $26.86<br>Class O Rent: $19.76<br>A/O Ratio: 1.36<br>Legal Growth Index: 66%<br>Tech Growth Index: 95%<br>Finance Growth Index: 3%",
            "<b>Detroit</b><br>Time Period: 2018-Q2<br>Class A Rent: $21.33<br>Class O Rent: $nan<br>Legal Growth Index: -7%<br>Tech Growth Index: 45%<br>Finance Growth Index: -8%",
            "<b>Houston</b><br>Time Period: 2018-Q2<br>Class A Rent: $33.56<br>Class O Rent: $20.54<br>A/O Ratio: 1.63<br>Legal Growth Index: 87%<br>Tech Growth Index: 62%<br>Finance Growth Index: 86%",
            "<b>Houston</b><br>Time Period: 2018-Q2<br>Class A Rent: $33.56<br>Class O Rent: $20.54<br>A/O Ratio: 1.63<br>Legal Growth Index: 87%<br>Tech Growth Index: 76%<br>Finance Growth Index: 70%",
            "<b>Los Angeles</b><br>Time Period: 2018-Q2<br>Class A Rent: $39.03<br>Class O Rent: $31.82<br>A/O Ratio: 1.23<br>Legal Growth Index: 59%<br>Tech Growth Index: 58%<br>Finance Growth Index: 77%",
            "<b>Los Angeles</b><br>Time Period: 2018-Q2<br>Class A Rent: $39.03<br>Class O Rent: $31.82<br>A/O Ratio: 1.23<br>Legal Growth Index: 59%<br>Tech Growth Index: 36%<br>Finance Growth Index: 60%",
            "<b>Manhattan</b><br>Time Period: 2018-Q2<br>Class A Rent: $82.03<br>Class O Rent: $62.18<br>A/O Ratio: 1.32<br>Legal Growth Index: 54%<br>Tech Growth Index: 56%<br>Finance Growth Index: 29%",
            "<b>Manhattan</b><br>Time Period: 2018-Q2<br>Class A Rent: $82.03<br>Class O Rent: $62.18<br>A/O Ratio: 1.32<br>Legal Growth Index: 34%<br>Tech Growth Index: 42%<br>Finance Growth Index: 15%",
            "<b>Nashville</b><br>Time Period: 2018-Q2<br>Class A Rent: $nan<br>Class O Rent: $24.74<br>Legal Growth Index: 86%<br>Tech Growth Index: 77%<br>Finance Growth Index: -27%",
            "<b>Northern New Jersey</b><br>Time Period: 2018-Q2<br>Class A Rent: $28.43<br>Class O Rent: $nan<br>Legal Growth Index: 39%<br>Tech Growth Index: 6%<br>Finance Growth Index: 31%",
            "<b>Northern Virginia</b><br>Time Period: 2018-Q2<br>Class A Rent: $34.44<br>Class O Rent: $28.72<br>A/O Ratio: 1.20<br>Legal Growth Index: 68%<br>Tech Growth Index: 34%<br>Finance Growth Index: 54%",
            "<b>Northern Virginia</b><br>Time Period: 2018-Q2<br>Class A Rent: $34.44<br>Class O Rent: $28.72<br>A/O Ratio: 1.20<br>Legal Growth Index: 4%<br>Tech Growth Index: -21%<br>Finance Growth Index: 54%",
            "<b>Philadelphia</b><br>Time Period: 2018-Q2<br>Class A Rent: $29.45<br>Class O Rent: $25.53<br>A/O Ratio: 1.15<br>Legal Growth Index: 70%<br>Tech Growth Index: 104%<br>Finance Growth Index: 95%",
            "<b>Philadelphia</b><br>Time Period: 2018-Q2<br>Class A Rent: $29.45<br>Class O Rent: $25.53<br>A/O Ratio: 1.15<br>Legal Growth Index: 35%<br>Tech Growth Index: 104%<br>Finance Growth Index: 98%",
            "<b>Phoenix</b><br>Time Period: 2018-Q2<br>Class A Rent: $30.41<br>Class O Rent: $22.88<br>A/O Ratio: 1.33<br>Legal Growth Index: 30%<br>Tech Growth Index: 42%<br>Finance Growth Index: 103%",
            "<b>Phoenix</b><br>Time Period: 2018-Q2<br>Class A Rent: $30.41<br>Class O Rent: $22.88<br>A/O Ratio: 1.33<br>Legal Growth Index: 15%<br>Tech Growth Index: 42%<br>Finance Growth Index: 93%",
            "<b>San Diego</b><br>Time Period: 2018-Q2<br>Class A Rent: $36.79<br>Class O Rent: $28.32<br>A/O Ratio: 1.30<br>Legal Growth Index: 11%<br>Tech Growth Index: -31%<br>Finance Growth Index: 40%",
            "<b>San Diego</b><br>Time Period: 2018-Q2<br>Class A Rent: $36.79<br>Class O Rent: $28.32<br>A/O Ratio: 1.30<br>Legal Growth Index: -80%<br>Tech Growth Index: -31%<br>Finance Growth Index: 31%",
            "<b>San Francisco</b><br>Time Period: 2018-Q2<br>Class A Rent: $68.96<br>Class O Rent: $63.50<br>A/O Ratio: 1.09<br>Legal Growth Index: 57%<br>Tech Growth Index: 58%<br>Finance Growth Index: 47%",
            "<b>San Francisco</b><br>Time Period: 2018-Q2<br>Class A Rent: $68.96<br>Class O Rent: $63.50<br>A/O Ratio: 1.09<br>Legal Growth Index: 57%<br>Tech Growth Index: 21%<br>Finance Growth Index: 27%",
            "<b>Seattle</b><br>Time Period: 2018-Q2<br>Class A Rent: $46.37<br>Class O Rent: $28.00<br>A/O Ratio: 1.66<br>Legal Growth Index: 113%<br>Tech Growth Index: 72%<br>Finance Growth Index: 91%",
            "<b>Seattle</b><br>Time Period: 2018-Q2<br>Class A Rent: $46.37<br>Class O Rent: $28.00<br>A/O Ratio: 1.66<br>Legal Growth Index: 113%<br>Tech Growth Index: 72%<br>Finance Growth Index: 83%",
            "<b>South Florida</b><br>Time Period: 2018-Q2<br>Class A Rent: $37.68<br>Class O Rent: $28.98<br>A/O Ratio: 1.30<br>Legal Growth Index: 61%<br>Tech Growth Index: 88%<br>Finance Growth Index: 71%",
            "<b>South Florida</b><br>Time Period: 2018-Q2<br>Class A Rent: $37.68<br>Class O Rent: $28.98<br>A/O Ratio: 1.30<br>Legal Growth Index: 72%<br>Tech Growth Index: 95%<br>Finance Growth Index: 83%",
            "<b>Tampa</b><br>Time Period: 2018-Q2<br>Class A Rent: $28.76<br>Class O Rent: $20.85<br>A/O Ratio: 1.38<br>Legal Growth Index: -5%<br>Tech Growth Index: 44%<br>Finance Growth Index: 54%",
            "<b>Tampa</b><br>Time Period: 2018-Q2<br>Class A Rent: $28.76<br>Class O Rent: $20.85<br>A/O Ratio: 1.38<br>Legal Growth Index: 35%<br>Tech Growth Index: 44%<br>Finance Growth Index: 64%"
           ],
           "type": "scattergeo"
          }
         ],
         "layout": {
          "title": {
           "text": "US Market Rental Rates Over Time: 2018-Q2"
          }
         },
         "name": "2018-Q2"
        },
        {
         "data": [
          {
           "hoverinfo": "text",
           "lat": {
            "bdata": "HVpkO9/fQEAdWmQ7399AQL99HThnRD5AodY07zilQ0Ch1jTvOKVDQBKlvcEXLkVAEqW9wRcuRUD3deCcEZ1BQPd14JwRnUFAvHSTGAQGRUC8dJMYBAZFQN/gC5Opwj1A3+ALk6nCPUD0bFZ9rgZBQPRsVn2uBkFAsb/snjxkRECxv+yePGREQGfV52orXkRAZ9XnaiteRECpE9BE2HBDQKkT0ETYcENAtRX7y+75Q0C1FfvL7vlDQGHD0ytluUBAYcPTK2W5QECk374OnFtAQKTfvg6cW0BA0NVW7C/jQkDQ1VbsL+NCQOhqK/aXzUdA6Gor9pfNR0D7XG3F/sI5QPtcbcX+wjlA3pOHhVrzO0Dek4eFWvM7QA==",
            "dtype": "f8"
           },
           "lon": {
            "bdata": "Rrbz/dQYVcBGtvP91BhVwBZqTfOOb1jAZRniWBcnU8BlGeJYFydTwABvgQTFw1HAAG+BBMXDUcB90LNZ9TVUwH3Qs1n1NVTA3bWEfNDrVcDdtYR80OtVwOSDns2q11fA5IOezarXV8BBguLHmI9dwEGC4seYj13AA3gLJCh+UsADeAskKH5SwCV1ApoIi1LAJXUCmgiLUsDn+6nx0kVTwOf7qfHSRVPAJlMFo5LKUsAmUwWjkspSwNv5fmq8BFzA2/l+arwEXMCu2F92T0pdwK7YX3ZPSl3AUPwYc9eaXsBQ/Bhz15pewBrAWyBBlV7AGsBbIEGVXsDc14FzRgxUwNzXgXNGDFTAzO7Jw0KdVMDM7snDQp1UwA==",
            "dtype": "f8"
           },
           "marker": {
            "cmax": 94.191224222457,
            "cmin": 20.9981865703684,
            "color": {
             "bdata": "1MM0s9uBPUDUwzSz24E9QO/aryovfENAozZ2bY2lOkCjNnZtjaU6QO6Jy/rfTURA7onL+t9NREAhd23h9xM+QCF3beH3Ez5Av6jSlraUOkC/qNKWtpQ6QLZKKJRIuEBAtkoolEi4QEDbjh7nwfBEQNuOHufB8ERA3p5uxvSBVEDenm7G9IFUQP1GBY4qNDxA/UYFjio0PED6fz/c+mdBQPp/P9z6Z0FA3nVr05Y5PUDedWvTljk9QFUdUaeJuj5AVR1Rp4m6PkA1TTMourFCQDVNMyi6sUJAChfhoO1sUkAKF+Gg7WxSQAjemvBA4EZACN6a8EDgRkADqW04fzpDQAOpbTh/OkNABEK/e/D4PEAEQr978Pg8QA==",
             "dtype": "f8"
            },
            "colorbar": {
             "len": 0.6,
             "thickness": 15,
             "title": {
              "text": "Class A Rent ($)"
             },
             "y": 0.5,
             "yanchor": "middle"
            },
            "colorscale": [
             [
              0,
              "#440154"
             ],
             [
              0.1111111111111111,
              "#482878"
             ],
             [
              0.2222222222222222,
              "#3e4989"
             ],
             [
              0.3333333333333333,
              "#31688e"
             ],
             [
              0.4444444444444444,
              "#26828e"
             ],
             [
              0.5555555555555556,
              "#1f9e89"
             ],
             [
              0.6666666666666666,
              "#35b779"
             ],
             [
              0.7777777777777778,
              "#6ece58"
             ],
             [
              0.8888888888888888,
              "#b5de2b"
             ],
             [
              1,
              "#fde725"
             ]
            ],
            "line": {
             "color": "DarkSlateGrey",
             "width": 1
            },
            "size": {
             "bdata": "Kap6lcwrJ0ApqnqVzCsnQEYijtXWuy1A6oYLuw+3JUDqhgu7D7clQCba29QyGC9AJtrb1DIYL0CGjF6Z1H4nQIaMXpnUfidA/bYsE2qvJUD9tiwTaq8lQHjIUA5HmylAeMhQDkebKUBHGgB3ixgwQEcaAHeLGDBAY9mH25I6REBj2YfbkjpEQC9CJa+ZeCZAL0Ilr5l4JkCyKPKIPI8qQLIo8og8jypAwAvetrwDJ0DAC962vAMnQAhkYCG44CdACGRgIbjgJ0CMEBcXO3osQIwQFxc7eixAzBNJtXE4QUDME0m1cThBQDbjfj/+3TFANuN+P/7dMUCOwi3231EtQI7CLfbfUS1Ahr8G43ngJkCGvwbjeeAmQA==",
             "dtype": "f8"
            }
           },
           "mode": "markers",
           "name": "2018-Q3",
           "text": [
            "<b>Atlanta</b><br>Time Period: 2018-Q3<br>Class A Rent: $29.51<br>Class O Rent: $20.36<br>A/O Ratio: 1.45<br>Legal Growth Index: 69%<br>Tech Growth Index: 81%<br>Finance Growth Index: 112%",
            "<b>Atlanta</b><br>Time Period: 2018-Q3<br>Class A Rent: $29.51<br>Class O Rent: $20.36<br>A/O Ratio: 1.45<br>Legal Growth Index: 69%<br>Tech Growth Index: 81%<br>Finance Growth Index: 38%",
            "<b>Austin</b><br>Time Period: 2018-Q3<br>Class A Rent: $38.97<br>Class O Rent: $nan<br>Legal Growth Index: 87%<br>Tech Growth Index: 55%<br>Finance Growth Index: 36%",
            "<b>Baltimore</b><br>Time Period: 2018-Q3<br>Class A Rent: $26.65<br>Class O Rent: $20.83<br>A/O Ratio: 1.28<br>Legal Growth Index: 104%<br>Tech Growth Index: 52%<br>Finance Growth Index: 98%",
            "<b>Baltimore</b><br>Time Period: 2018-Q3<br>Class A Rent: $26.65<br>Class O Rent: $20.83<br>A/O Ratio: 1.28<br>Legal Growth Index: 104%<br>Tech Growth Index: 48%<br>Finance Growth Index: 98%",
            "<b>Boston</b><br>Time Period: 2018-Q3<br>Class A Rent: $40.61<br>Class O Rent: $21.95<br>A/O Ratio: 1.85<br>Legal Growth Index: 132%<br>Tech Growth Index: 32%<br>Finance Growth Index: 79%",
            "<b>Boston</b><br>Time Period: 2018-Q3<br>Class A Rent: $40.61<br>Class O Rent: $21.95<br>A/O Ratio: 1.85<br>Legal Growth Index: 132%<br>Tech Growth Index: 26%<br>Finance Growth Index: 79%",
            "<b>Charlotte</b><br>Time Period: 2018-Q3<br>Class A Rent: $30.08<br>Class O Rent: $22.16<br>A/O Ratio: 1.36<br>Legal Growth Index: 122%<br>Tech Growth Index: 89%<br>Finance Growth Index: 65%",
            "<b>Charlotte</b><br>Time Period: 2018-Q3<br>Class A Rent: $30.08<br>Class O Rent: $22.16<br>A/O Ratio: 1.36<br>Legal Growth Index: 122%<br>Tech Growth Index: 89%<br>Finance Growth Index: 49%",
            "<b>Chicago Suburbs</b><br>Time Period: 2018-Q3<br>Class A Rent: $26.58<br>Class O Rent: $19.87<br>A/O Ratio: 1.34<br>Legal Growth Index: 13%<br>Tech Growth Index: 61%<br>Finance Growth Index: 50%",
            "<b>Chicago Suburbs</b><br>Time Period: 2018-Q3<br>Class A Rent: $26.58<br>Class O Rent: $19.87<br>A/O Ratio: 1.34<br>Legal Growth Index: 13%<br>Tech Growth Index: 61%<br>Finance Growth Index: 38%",
            "<b>Houston</b><br>Time Period: 2018-Q3<br>Class A Rent: $33.44<br>Class O Rent: $20.67<br>A/O Ratio: 1.62<br>Legal Growth Index: 57%<br>Tech Growth Index: 34%<br>Finance Growth Index: 111%",
            "<b>Houston</b><br>Time Period: 2018-Q3<br>Class A Rent: $33.44<br>Class O Rent: $20.67<br>A/O Ratio: 1.62<br>Legal Growth Index: 57%<br>Tech Growth Index: -5%<br>Finance Growth Index: 78%",
            "<b>Los Angeles</b><br>Time Period: 2018-Q3<br>Class A Rent: $41.88<br>Class O Rent: $35.15<br>A/O Ratio: 1.19<br>Legal Growth Index: 35%<br>Tech Growth Index: 70%<br>Finance Growth Index: 28%",
            "<b>Los Angeles</b><br>Time Period: 2018-Q3<br>Class A Rent: $41.88<br>Class O Rent: $35.15<br>A/O Ratio: 1.19<br>Legal Growth Index: 35%<br>Tech Growth Index: 44%<br>Finance Growth Index: -14%",
            "<b>Manhattan</b><br>Time Period: 2018-Q3<br>Class A Rent: $82.03<br>Class O Rent: $61.99<br>A/O Ratio: 1.32<br>Legal Growth Index: 20%<br>Tech Growth Index: 23%<br>Finance Growth Index: 28%",
            "<b>Manhattan</b><br>Time Period: 2018-Q3<br>Class A Rent: $82.03<br>Class O Rent: $61.99<br>A/O Ratio: 1.32<br>Legal Growth Index: 22%<br>Tech Growth Index: 25%<br>Finance Growth Index: 33%",
            "<b>Northern New Jersey</b><br>Time Period: 2018-Q3<br>Class A Rent: $28.20<br>Class O Rent: $23.98<br>A/O Ratio: 1.18<br>Legal Growth Index: 23%<br>Tech Growth Index: -9%<br>Finance Growth Index: 216%",
            "<b>Northern New Jersey</b><br>Time Period: 2018-Q3<br>Class A Rent: $28.20<br>Class O Rent: $23.98<br>A/O Ratio: 1.18<br>Legal Growth Index: 23%<br>Tech Growth Index: -9%<br>Finance Growth Index: 14%",
            "<b>Northern Virginia</b><br>Time Period: 2018-Q3<br>Class A Rent: $34.81<br>Class O Rent: $28.79<br>A/O Ratio: 1.21<br>Legal Growth Index: 6%<br>Tech Growth Index: 3%<br>Finance Growth Index: 47%",
            "<b>Northern Virginia</b><br>Time Period: 2018-Q3<br>Class A Rent: $34.81<br>Class O Rent: $28.79<br>A/O Ratio: 1.21<br>Legal Growth Index: 6%<br>Tech Growth Index: 3%<br>Finance Growth Index: -10%",
            "<b>Philadelphia</b><br>Time Period: 2018-Q3<br>Class A Rent: $29.22<br>Class O Rent: $25.43<br>A/O Ratio: 1.15<br>Legal Growth Index: 100%<br>Tech Growth Index: 80%<br>Finance Growth Index: 101%",
            "<b>Philadelphia</b><br>Time Period: 2018-Q3<br>Class A Rent: $29.22<br>Class O Rent: $25.43<br>A/O Ratio: 1.15<br>Legal Growth Index: 100%<br>Tech Growth Index: 80%<br>Finance Growth Index: 62%",
            "<b>Phoenix</b><br>Time Period: 2018-Q3<br>Class A Rent: $30.73<br>Class O Rent: $23.23<br>A/O Ratio: 1.32<br>Legal Growth Index: 22%<br>Tech Growth Index: 93%<br>Finance Growth Index: 84%",
            "<b>Phoenix</b><br>Time Period: 2018-Q3<br>Class A Rent: $30.73<br>Class O Rent: $23.23<br>A/O Ratio: 1.32<br>Legal Growth Index: 22%<br>Tech Growth Index: 93%<br>Finance Growth Index: 97%",
            "<b>San Diego</b><br>Time Period: 2018-Q3<br>Class A Rent: $37.39<br>Class O Rent: $28.19<br>A/O Ratio: 1.33<br>Legal Growth Index: 54%<br>Tech Growth Index: 70%<br>Finance Growth Index: -1%",
            "<b>San Diego</b><br>Time Period: 2018-Q3<br>Class A Rent: $37.39<br>Class O Rent: $28.19<br>A/O Ratio: 1.33<br>Legal Growth Index: 54%<br>Tech Growth Index: 70%<br>Finance Growth Index: -9%",
            "<b>San Francisco</b><br>Time Period: 2018-Q3<br>Class A Rent: $73.70<br>Class O Rent: $66.43<br>A/O Ratio: 1.11<br>Legal Growth Index: 32%<br>Tech Growth Index: 79%<br>Finance Growth Index: -2%",
            "<b>San Francisco</b><br>Time Period: 2018-Q3<br>Class A Rent: $73.70<br>Class O Rent: $66.43<br>A/O Ratio: 1.11<br>Legal Growth Index: 32%<br>Tech Growth Index: 62%<br>Finance Growth Index: -6%",
            "<b>Seattle</b><br>Time Period: 2018-Q3<br>Class A Rent: $45.75<br>Class O Rent: $28.56<br>A/O Ratio: 1.60<br>Legal Growth Index: 113%<br>Tech Growth Index: 81%<br>Finance Growth Index: 91%",
            "<b>Seattle</b><br>Time Period: 2018-Q3<br>Class A Rent: $45.75<br>Class O Rent: $28.56<br>A/O Ratio: 1.60<br>Legal Growth Index: 113%<br>Tech Growth Index: 64%<br>Finance Growth Index: 91%",
            "<b>South Florida</b><br>Time Period: 2018-Q3<br>Class A Rent: $38.46<br>Class O Rent: $28.95<br>A/O Ratio: 1.33<br>Legal Growth Index: 47%<br>Tech Growth Index: 92%<br>Finance Growth Index: 89%",
            "<b>South Florida</b><br>Time Period: 2018-Q3<br>Class A Rent: $38.46<br>Class O Rent: $28.95<br>A/O Ratio: 1.33<br>Legal Growth Index: 23%<br>Tech Growth Index: 92%<br>Finance Growth Index: 100%",
            "<b>Tampa</b><br>Time Period: 2018-Q3<br>Class A Rent: $28.97<br>Class O Rent: $21.21<br>A/O Ratio: 1.37<br>Legal Growth Index: 3%<br>Tech Growth Index: 56%<br>Finance Growth Index: 4%",
            "<b>Tampa</b><br>Time Period: 2018-Q3<br>Class A Rent: $28.97<br>Class O Rent: $21.21<br>A/O Ratio: 1.37<br>Legal Growth Index: 3%<br>Tech Growth Index: 7%<br>Finance Growth Index: 6%"
           ],
           "type": "scattergeo"
          }
         ],
         "layout": {
          "title": {
           "text": "US Market Rental Rates Over Time: 2018-Q3"
          }
         },
         "name": "2018-Q3"
        },
        {
         "data": [
          {
           "hoverinfo": "text",
           "lat": {
            "bdata": "HVpkO9/fQEAdWmQ7399AQL99HThnRD5Av30dOGdEPkCh1jTvOKVDQKHWNO84pUNAEqW9wRcuRUASpb3BFy5FQPd14JwRnUFAvHSTGAQGRUC8dJMYBAZFQN9PjZduKkVA3+ALk6nCPUDf4AuTqcI9QPRsVn2uBkFA9GxWfa4GQUCxv+yePGREQLG/7J48ZERAZ9XnaiteRECpE9BE2HBDQKkT0ETYcENAtRX7y+75Q0C1FfvL7vlDQGHD0ytluUBAYcPTK2W5QED+ZffkYWFEQNDVVuwv40JA0NVW7C/jQkDoaiv2l81HQOhqK/aXzUdA+1xtxf7COUD7XG3F/sI5QN6Th4Va8ztA3pOHhVrzO0A=",
            "dtype": "f8"
           },
           "lon": {
            "bdata": "Rrbz/dQYVcBGtvP91BhVwBZqTfOOb1jAFmpN845vWMBlGeJYFydTwGUZ4lgXJ1PAAG+BBMXDUcAAb4EExcNRwH3Qs1n1NVTA3bWEfNDrVcDdtYR80OtVwJf/kH77wlTA5IOezarXV8Dkg57NqtdXwEGC4seYj13AQYLix5iPXcADeAskKH5SwAN4CyQoflLAJXUCmgiLUsDn+6nx0kVTwOf7qfHSRVPAJlMFo5LKUsAmUwWjkspSwNv5fmq8BFzA2/l+arwEXMAbL90kBvlbwFD8GHPXml7AUPwYc9eaXsAawFsgQZVewBrAWyBBlV7A3NeBc0YMVMDc14FzRgxUwMzuycNCnVTAzO7Jw0KdVMA=",
            "dtype": "f8"
           },
           "marker": {
            "cmax": 94.191224222457,
            "cmin": 20.9981865703684,
            "color": {
             "bdata": "k3Qu0qF7PUCTdC7SoXs9QNCnjQQWz0NA0KeNBBbPQ0BAXM/izys7QEBcz+LPKztAoek2seMBRUCh6Tax4wFFQDkrrM/EHj5AgYQmpe8cO0CBhCal7xw7QD/lKnB4JzZA+yNXo9HnQED7I1ej0edAQK0hwhU7wERArSHCFTvAREBZYyBi5p9VQFljIGLmn1VAr4QcX30sPED0v5WdujJBQPS/lZ26MkFAUi26XIEjPUBSLbpcgSM9QIapc9bF9D5Ahqlz1sX0PkA7ibLkgro7QKVG+Cuu+lJApUb4K676UkBsj67qOLlHQGyPruo4uUdAvGm4arBVQ0C8abhqsFVDQPb0emWEYD1A9vR6ZYRgPUA=",
             "dtype": "f8"
            },
            "colorbar": {
             "len": 0.6,
             "thickness": 15,
             "title": {
              "text": "Class A Rent ($)"
             },
             "y": 0.5,
             "yanchor": "middle"
            },
            "colorscale": [
             [
              0,
              "#440154"
             ],
             [
              0.1111111111111111,
              "#482878"
             ],
             [
              0.2222222222222222,
              "#3e4989"
             ],
             [
              0.3333333333333333,
              "#31688e"
             ],
             [
              0.4444444444444444,
              "#26828e"
             ],
             [
              0.5555555555555556,
              "#1f9e89"
             ],
             [
              0.6666666666666666,
              "#35b779"
             ],
             [
              0.7777777777777778,
              "#6ece58"
             ],
             [
              0.8888888888888888,
              "#b5de2b"
             ],
             [
              1,
              "#fde725"
             ]
            ],
            "line": {
             "color": "DarkSlateGrey",
             "width": 1
            },
            "size": {
             "bdata": "Z+39OlIoJ0Bn7f06UignQBV3NvK+Qy5AFXc28r5DLkBDmG3Gm/UlQEOYbcab9SVAGilAYZInMEAaKUBhkicwQDSAZxAThSdAzmBm14ruJUDOYGbXiu4lQDtYBF6mKCRAYZWShgTcKUBhlZKGBNwpQGoYwel73C9AahjB6XvcL0ChIeFRaO5FQKEh4VFo7kVA8GaD0qd0JkCEIMMR9EMqQIQgwxH0QypAjqSHaaH3JkCOpIdpofcmQF+NKOC7AyhAX40o4LsDKECW3SEgEDsmQCHtmAW2/0FAIe2YBbb/QUCeaCQeXbAyQJ5oJB5dsDJAzsaQ1I19LUDOxpDUjX0tQPSmrZY7GSdA9KatljsZJ0A=",
             "dtype": "f8"
            }
           },
           "mode": "markers",
           "name": "2018-Q4",
           "text": [
            "<b>Atlanta</b><br>Time Period: 2018-Q4<br>Class A Rent: $29.48<br>Class O Rent: $21.00<br>A/O Ratio: 1.40<br>Legal Growth Index: 98%<br>Tech Growth Index: 50%<br>Finance Growth Index: 80%",
            "<b>Atlanta</b><br>Time Period: 2018-Q4<br>Class A Rent: $29.48<br>Class O Rent: $21.00<br>A/O Ratio: 1.40<br>Legal Growth Index: 98%<br>Tech Growth Index: 32%<br>Finance Growth Index: 54%",
            "<b>Austin</b><br>Time Period: 2018-Q4<br>Class A Rent: $39.62<br>Class O Rent: $30.33<br>A/O Ratio: 1.31<br>Legal Growth Index: 87%<br>Tech Growth Index: 54%<br>Finance Growth Index: 83%",
            "<b>Austin</b><br>Time Period: 2018-Q4<br>Class A Rent: $39.62<br>Class O Rent: $30.33<br>A/O Ratio: 1.31<br>Legal Growth Index: 63%<br>Tech Growth Index: 26%<br>Finance Growth Index: 41%",
            "<b>Baltimore</b><br>Time Period: 2018-Q4<br>Class A Rent: $27.17<br>Class O Rent: $20.36<br>A/O Ratio: 1.33<br>Legal Growth Index: 94%<br>Tech Growth Index: 16%<br>Finance Growth Index: 49%",
            "<b>Baltimore</b><br>Time Period: 2018-Q4<br>Class A Rent: $27.17<br>Class O Rent: $20.36<br>A/O Ratio: 1.33<br>Legal Growth Index: 94%<br>Tech Growth Index: 16%<br>Finance Growth Index: 59%",
            "<b>Boston</b><br>Time Period: 2018-Q4<br>Class A Rent: $42.01<br>Class O Rent: $22.35<br>A/O Ratio: 1.88<br>Legal Growth Index: 109%<br>Tech Growth Index: 72%<br>Finance Growth Index: 67%",
            "<b>Boston</b><br>Time Period: 2018-Q4<br>Class A Rent: $42.01<br>Class O Rent: $22.35<br>A/O Ratio: 1.88<br>Legal Growth Index: 15%<br>Tech Growth Index: 72%<br>Finance Growth Index: 67%",
            "<b>Charlotte</b><br>Time Period: 2018-Q4<br>Class A Rent: $30.12<br>Class O Rent: $nan<br>Legal Growth Index: 106%<br>Tech Growth Index: 3%<br>Finance Growth Index: 76%",
            "<b>Chicago Suburbs</b><br>Time Period: 2018-Q4<br>Class A Rent: $27.11<br>Class O Rent: $19.82<br>A/O Ratio: 1.37<br>Legal Growth Index: 37%<br>Tech Growth Index: 94%<br>Finance Growth Index: 18%",
            "<b>Chicago Suburbs</b><br>Time Period: 2018-Q4<br>Class A Rent: $27.11<br>Class O Rent: $19.82<br>A/O Ratio: 1.37<br>Legal Growth Index: 56%<br>Tech Growth Index: 94%<br>Finance Growth Index: 18%",
            "<b>Detroit</b><br>Time Period: 2018-Q4<br>Class A Rent: $22.15<br>Class O Rent: $nan<br>Legal Growth Index: 78%<br>Tech Growth Index: 28%<br>Finance Growth Index: 9%",
            "<b>Houston</b><br>Time Period: 2018-Q4<br>Class A Rent: $33.81<br>Class O Rent: $20.31<br>A/O Ratio: 1.66<br>Legal Growth Index: 142%<br>Tech Growth Index: 41%<br>Finance Growth Index: 94%",
            "<b>Houston</b><br>Time Period: 2018-Q4<br>Class A Rent: $33.81<br>Class O Rent: $20.31<br>A/O Ratio: 1.66<br>Legal Growth Index: 38%<br>Tech Growth Index: 41%<br>Finance Growth Index: 84%",
            "<b>Los Angeles</b><br>Time Period: 2018-Q4<br>Class A Rent: $41.50<br>Class O Rent: $32.67<br>A/O Ratio: 1.27<br>Legal Growth Index: 96%<br>Tech Growth Index: 102%<br>Finance Growth Index: 35%",
            "<b>Los Angeles</b><br>Time Period: 2018-Q4<br>Class A Rent: $41.50<br>Class O Rent: $32.67<br>A/O Ratio: 1.27<br>Legal Growth Index: 8%<br>Tech Growth Index: 11%<br>Finance Growth Index: 35%",
            "<b>Manhattan</b><br>Time Period: 2018-Q4<br>Class A Rent: $86.50<br>Class O Rent: $61.44<br>A/O Ratio: 1.41<br>Legal Growth Index: 27%<br>Tech Growth Index: 36%<br>Finance Growth Index: 45%",
            "<b>Manhattan</b><br>Time Period: 2018-Q4<br>Class A Rent: $86.50<br>Class O Rent: $61.44<br>A/O Ratio: 1.41<br>Legal Growth Index: 20%<br>Tech Growth Index: 28%<br>Finance Growth Index: 41%",
            "<b>Northern New Jersey</b><br>Time Period: 2018-Q4<br>Class A Rent: $28.17<br>Class O Rent: $nan<br>Legal Growth Index: 66%<br>Tech Growth Index: 32%<br>Finance Growth Index: 32%",
            "<b>Northern Virginia</b><br>Time Period: 2018-Q4<br>Class A Rent: $34.40<br>Class O Rent: $28.92<br>A/O Ratio: 1.19<br>Legal Growth Index: 0%<br>Tech Growth Index: 55%<br>Finance Growth Index: 50%",
            "<b>Northern Virginia</b><br>Time Period: 2018-Q4<br>Class A Rent: $34.40<br>Class O Rent: $28.92<br>A/O Ratio: 1.19<br>Legal Growth Index: -24%<br>Tech Growth Index: -22%<br>Finance Growth Index: 50%",
            "<b>Philadelphia</b><br>Time Period: 2018-Q4<br>Class A Rent: $29.14<br>Class O Rent: $26.29<br>A/O Ratio: 1.11<br>Legal Growth Index: 38%<br>Tech Growth Index: 66%<br>Finance Growth Index: 186%",
            "<b>Philadelphia</b><br>Time Period: 2018-Q4<br>Class A Rent: $29.14<br>Class O Rent: $26.29<br>A/O Ratio: 1.11<br>Legal Growth Index: 38%<br>Tech Growth Index: 66%<br>Finance Growth Index: 81%",
            "<b>Phoenix</b><br>Time Period: 2018-Q4<br>Class A Rent: $30.96<br>Class O Rent: $24.12<br>A/O Ratio: 1.28<br>Legal Growth Index: 153%<br>Tech Growth Index: 102%<br>Finance Growth Index: 85%",
            "<b>Phoenix</b><br>Time Period: 2018-Q4<br>Class A Rent: $30.96<br>Class O Rent: $24.12<br>A/O Ratio: 1.28<br>Legal Growth Index: 153%<br>Tech Growth Index: 96%<br>Finance Growth Index: 79%",
            "<b>Salt Lake City</b><br>Time Period: 2018-Q4<br>Class A Rent: $27.73<br>Class O Rent: $nan<br>Legal Growth Index: -52%<br>Tech Growth Index: -52%<br>Finance Growth Index: 31%",
            "<b>San Francisco</b><br>Time Period: 2018-Q4<br>Class A Rent: $75.92<br>Class O Rent: $66.34<br>A/O Ratio: 1.14<br>Legal Growth Index: 67%<br>Tech Growth Index: 31%<br>Finance Growth Index: -11%",
            "<b>San Francisco</b><br>Time Period: 2018-Q4<br>Class A Rent: $75.92<br>Class O Rent: $66.34<br>A/O Ratio: 1.14<br>Legal Growth Index: 72%<br>Tech Growth Index: 29%<br>Finance Growth Index: -14%",
            "<b>Seattle</b><br>Time Period: 2018-Q4<br>Class A Rent: $47.45<br>Class O Rent: $28.57<br>A/O Ratio: 1.66<br>Legal Growth Index: 0%<br>Tech Growth Index: 50%<br>Finance Growth Index: 55%",
            "<b>Seattle</b><br>Time Period: 2018-Q4<br>Class A Rent: $47.45<br>Class O Rent: $28.57<br>A/O Ratio: 1.66<br>Legal Growth Index: 0%<br>Tech Growth Index: 37%<br>Finance Growth Index: 55%",
            "<b>South Florida</b><br>Time Period: 2018-Q4<br>Class A Rent: $38.67<br>Class O Rent: $28.84<br>A/O Ratio: 1.34<br>Legal Growth Index: 54%<br>Tech Growth Index: 14%<br>Finance Growth Index: 53%",
            "<b>South Florida</b><br>Time Period: 2018-Q4<br>Class A Rent: $38.67<br>Class O Rent: $28.84<br>A/O Ratio: 1.34<br>Legal Growth Index: 52%<br>Tech Growth Index: 20%<br>Finance Growth Index: 57%",
            "<b>Tampa</b><br>Time Period: 2018-Q4<br>Class A Rent: $29.38<br>Class O Rent: $21.27<br>A/O Ratio: 1.38<br>Legal Growth Index: 3%<br>Tech Growth Index: 24%<br>Finance Growth Index: 43%",
            "<b>Tampa</b><br>Time Period: 2018-Q4<br>Class A Rent: $29.38<br>Class O Rent: $21.27<br>A/O Ratio: 1.38<br>Legal Growth Index: 1%<br>Tech Growth Index: 22%<br>Finance Growth Index: 43%"
           ],
           "type": "scattergeo"
          }
         ],
         "layout": {
          "title": {
           "text": "US Market Rental Rates Over Time: 2018-Q4"
          }
         },
         "name": "2018-Q4"
        },
        {
         "data": [
          {
           "hoverinfo": "text",
           "lat": {
            "bdata": "HVpkO9/fQEAdWmQ7399AQL99HThnRD5Av30dOGdEPkCh1jTvOKVDQKHWNO84pUNAEqW9wRcuRUASpb3BFy5FQPd14JwRnUFA93XgnBGdQUC8dJMYBAZFQLx0kxgEBkVA3+ALk6nCPUDf4AuTqcI9QPRsVn2uBkFA9GxWfa4GQUCxv+yePGREQLG/7J48ZERAlIeFWtMUQkCUh4Va0xRCQGfV52orXkRAqRPQRNhwQ0CpE9BE2HBDQLUV+8vu+UNAYcPTK2W5QEBhw9MrZblAQP5l9+RhYURApN++DpxbQEDQ1VbsL+NCQOhqK/aXzUdA6Gor9pfNR0D7XG3F/sI5QPtcbcX+wjlA3pOHhVrzO0Dek4eFWvM7QA==",
            "dtype": "f8"
           },
           "lon": {
            "bdata": "Rrbz/dQYVcBGtvP91BhVwBZqTfOOb1jAFmpN845vWMBlGeJYFydTwGUZ4lgXJ1PAAG+BBMXDUcAAb4EExcNRwH3Qs1n1NVTAfdCzWfU1VMDdtYR80OtVwN21hHzQ61XA5IOezarXV8Dkg57NqtdXwEGC4seYj13AQYLix5iPXcADeAskKH5SwAN4CyQoflLAbqMBvAWyVcBuowG8BbJVwCV1ApoIi1LA5/up8dJFU8Dn+6nx0kVTwCZTBaOSylLA2/l+arwEXMDb+X5qvARcwBsv3SQG+VvArthfdk9KXcBQ/Bhz15pewBrAWyBBlV7AGsBbIEGVXsDc14FzRgxUwNzXgXNGDFTAzO7Jw0KdVMDM7snDQp1UwA==",
            "dtype": "f8"
           },
           "marker": {
            "cmax": 94.191224222457,
            "cmin": 20.9981865703684,
            "color": {
             "bdata": "bpyLpGILPkBunIukYgs+QCp9SWvrS0RAKn1Ja+tLREDEDC+LGks6QMQML4saSzpAmJ0214MMRECYnTbXgwxEQMHStcm2sD5AwdK1ybawPkAVwgSfP6g7QBXCBJ8/qDtAuIoYUTYBQUC4ihhRNgFBQMSU27hIq0RAxJTbuEirRECUoFz3cNxVQJSgXPdw3FVAptYouEVJPkCm1ii4RUk+QARznQH3pj1AkrQx/Dt7QUCStDH8O3tBQCG92MUkUT1Adyuz6wE1P0B3K7PrATU/QAAAAAAAAPh/R3P5blQ8Q0BQzTZiImlTQMaOQGIkI0dAxo5AYiQjR0BmT/VT0TpDQGZP9VPROkNAbnO+CEfyPkBuc74IR/I+QA==",
             "dtype": "f8"
            },
            "colorbar": {
             "len": 0.6,
             "thickness": 15,
             "title": {
              "text": "Class A Rent ($)"
             },
             "y": 0.5,
             "yanchor": "middle"
            },
            "colorscale": [
             [
              0,
              "#440154"
             ],
             [
              0.1111111111111111,
              "#482878"
             ],
             [
              0.2222222222222222,
              "#3e4989"
             ],
             [
              0.3333333333333333,
              "#31688e"
             ],
             [
              0.4444444444444444,
              "#26828e"
             ],
             [
              0.5555555555555556,
              "#1f9e89"
             ],
             [
              0.6666666666666666,
              "#35b779"
             ],
             [
              0.7777777777777778,
              "#6ece58"
             ],
             [
              0.8888888888888888,
              "#b5de2b"
             ],
             [
              1,
              "#fde725"
             ]
            ],
            "line": {
             "color": "DarkSlateGrey",
             "width": 1
            },
            "size": {
             "bdata": "Chpd+eB5J0AKGl354HknQOedsmrhFC9A552yauEUL0CdTWZzhI4lQJ1NZnOEjiVAjfvNwv2pLkCN+83C/akuQFgV8kTa2idAWBXyRNraJ0DFkADwATImQMWQAPABMiZAj8SDZv3+KUCPxINm/f4pQL3Eri80uC9AvcSuLzS4L0B0zy9xpExGQHTPL3GkTEZAMT62Z8mdJ0AxPrZnyZ0nQAr0fVGhQCdAacp7Qb2qKkBpyntBvaoqQLg3A124ECdAQ2YhftIqKEBDZiF+0iooQAAAAAAAAC5AfYzAic9ULUDo+I6QzJ1CQDVWXnEaHjJANVZecRoeMkB01yl1Y1ItQHTXKXVjUi1A1eiTqjkCKEDV6JOqOQIoQA==",
             "dtype": "f8"
            }
           },
           "mode": "markers",
           "name": "2019-Q1",
           "text": [
            "<b>Atlanta</b><br>Time Period: 2019-Q1<br>Class A Rent: $30.04<br>Class O Rent: $20.39<br>A/O Ratio: 1.47<br>Legal Growth Index: 42%<br>Tech Growth Index: 111%<br>Finance Growth Index: 50%",
            "<b>Atlanta</b><br>Time Period: 2019-Q1<br>Class A Rent: $30.04<br>Class O Rent: $20.39<br>A/O Ratio: 1.47<br>Legal Growth Index: 17%<br>Tech Growth Index: 111%<br>Finance Growth Index: 50%",
            "<b>Austin</b><br>Time Period: 2019-Q1<br>Class A Rent: $40.59<br>Class O Rent: $30.21<br>A/O Ratio: 1.34<br>Legal Growth Index: 32%<br>Tech Growth Index: 65%<br>Finance Growth Index: 64%",
            "<b>Austin</b><br>Time Period: 2019-Q1<br>Class A Rent: $40.59<br>Class O Rent: $30.21<br>A/O Ratio: 1.34<br>Legal Growth Index: 11%<br>Tech Growth Index: 30%<br>Finance Growth Index: 64%",
            "<b>Baltimore</b><br>Time Period: 2019-Q1<br>Class A Rent: $26.29<br>Class O Rent: $20.55<br>A/O Ratio: 1.28<br>Legal Growth Index: 63%<br>Tech Growth Index: 52%<br>Finance Growth Index: 89%",
            "<b>Baltimore</b><br>Time Period: 2019-Q1<br>Class A Rent: $26.29<br>Class O Rent: $20.55<br>A/O Ratio: 1.28<br>Legal Growth Index: -26%<br>Tech Growth Index: 52%<br>Finance Growth Index: 80%",
            "<b>Boston</b><br>Time Period: 2019-Q1<br>Class A Rent: $40.10<br>Class O Rent: $19.07<br>A/O Ratio: 2.10<br>Legal Growth Index: 106%<br>Tech Growth Index: 53%<br>Finance Growth Index: 51%",
            "<b>Boston</b><br>Time Period: 2019-Q1<br>Class A Rent: $40.10<br>Class O Rent: $19.07<br>A/O Ratio: 2.10<br>Legal Growth Index: 106%<br>Tech Growth Index: 28%<br>Finance Growth Index: 54%",
            "<b>Charlotte</b><br>Time Period: 2019-Q1<br>Class A Rent: $30.69<br>Class O Rent: $22.55<br>A/O Ratio: 1.36<br>Legal Growth Index: 57%<br>Tech Growth Index: 76%<br>Finance Growth Index: 126%",
            "<b>Charlotte</b><br>Time Period: 2019-Q1<br>Class A Rent: $30.69<br>Class O Rent: $22.55<br>A/O Ratio: 1.36<br>Legal Growth Index: 57%<br>Tech Growth Index: 76%<br>Finance Growth Index: 91%",
            "<b>Chicago Suburbs</b><br>Time Period: 2019-Q1<br>Class A Rent: $27.66<br>Class O Rent: $19.99<br>A/O Ratio: 1.38<br>Legal Growth Index: 130%<br>Tech Growth Index: 88%<br>Finance Growth Index: 11%",
            "<b>Chicago Suburbs</b><br>Time Period: 2019-Q1<br>Class A Rent: $27.66<br>Class O Rent: $19.99<br>A/O Ratio: 1.38<br>Legal Growth Index: -100%<br>Tech Growth Index: 95%<br>Finance Growth Index: 1%",
            "<b>Houston</b><br>Time Period: 2019-Q1<br>Class A Rent: $34.01<br>Class O Rent: $20.39<br>A/O Ratio: 1.67<br>Legal Growth Index: 25%<br>Tech Growth Index: 81%<br>Finance Growth Index: 5%",
            "<b>Houston</b><br>Time Period: 2019-Q1<br>Class A Rent: $34.01<br>Class O Rent: $20.39<br>A/O Ratio: 1.67<br>Legal Growth Index: 7%<br>Tech Growth Index: 62%<br>Finance Growth Index: -11%",
            "<b>Los Angeles</b><br>Time Period: 2019-Q1<br>Class A Rent: $41.34<br>Class O Rent: $34.61<br>A/O Ratio: 1.19<br>Legal Growth Index: 53%<br>Tech Growth Index: 51%<br>Finance Growth Index: 66%",
            "<b>Los Angeles</b><br>Time Period: 2019-Q1<br>Class A Rent: $41.34<br>Class O Rent: $34.61<br>A/O Ratio: 1.19<br>Legal Growth Index: 32%<br>Tech Growth Index: 6%<br>Finance Growth Index: 26%",
            "<b>Manhattan</b><br>Time Period: 2019-Q1<br>Class A Rent: $87.44<br>Class O Rent: $61.49<br>A/O Ratio: 1.42<br>Legal Growth Index: 25%<br>Tech Growth Index: 41%<br>Finance Growth Index: 35%",
            "<b>Manhattan</b><br>Time Period: 2019-Q1<br>Class A Rent: $87.44<br>Class O Rent: $61.49<br>A/O Ratio: 1.42<br>Legal Growth Index: 20%<br>Tech Growth Index: 31%<br>Finance Growth Index: 24%",
            "<b>Nashville</b><br>Time Period: 2019-Q1<br>Class A Rent: $30.29<br>Class O Rent: $25.66<br>A/O Ratio: 1.18<br>Legal Growth Index: 14%<br>Tech Growth Index: 22%<br>Finance Growth Index: 123%",
            "<b>Nashville</b><br>Time Period: 2019-Q1<br>Class A Rent: $30.29<br>Class O Rent: $25.66<br>A/O Ratio: 1.18<br>Legal Growth Index: 85%<br>Tech Growth Index: 22%<br>Finance Growth Index: 123%",
            "<b>Northern New Jersey</b><br>Time Period: 2019-Q1<br>Class A Rent: $29.65<br>Class O Rent: $nan<br>Legal Growth Index: 45%<br>Tech Growth Index: 26%<br>Finance Growth Index: 48%",
            "<b>Northern Virginia</b><br>Time Period: 2019-Q1<br>Class A Rent: $34.96<br>Class O Rent: $29.25<br>A/O Ratio: 1.20<br>Legal Growth Index: 14%<br>Tech Growth Index: 12%<br>Finance Growth Index: 36%",
            "<b>Northern Virginia</b><br>Time Period: 2019-Q1<br>Class A Rent: $34.96<br>Class O Rent: $29.25<br>A/O Ratio: 1.20<br>Legal Growth Index: 14%<br>Tech Growth Index: -13%<br>Finance Growth Index: 36%",
            "<b>Philadelphia</b><br>Time Period: 2019-Q1<br>Class A Rent: $29.32<br>Class O Rent: $nan<br>Legal Growth Index: 0%<br>Tech Growth Index: 104%<br>Finance Growth Index: 35%",
            "<b>Phoenix</b><br>Time Period: 2019-Q1<br>Class A Rent: $31.21<br>Class O Rent: $23.72<br>A/O Ratio: 1.32<br>Legal Growth Index: 52%<br>Tech Growth Index: 48%<br>Finance Growth Index: 40%",
            "<b>Phoenix</b><br>Time Period: 2019-Q1<br>Class A Rent: $31.21<br>Class O Rent: $23.72<br>A/O Ratio: 1.32<br>Legal Growth Index: 52%<br>Tech Growth Index: 115%<br>Finance Growth Index: 24%",
            "<b>Salt Lake City</b><br>Time Period: 2019-Q1<br>Class A Rent: $nan<br>Class O Rent: $21.11<br>Legal Growth Index: 143%<br>Tech Growth Index: 101%<br>Finance Growth Index: -37%",
            "<b>San Diego</b><br>Time Period: 2019-Q1<br>Class A Rent: $38.47<br>Class O Rent: $nan<br>Legal Growth Index: 12%<br>Tech Growth Index: -32%<br>Finance Growth Index: -32%",
            "<b>San Francisco</b><br>Time Period: 2019-Q1<br>Class A Rent: $77.64<br>Class O Rent: $nan<br>Legal Growth Index: 62%<br>Tech Growth Index: 67%<br>Finance Growth Index: 30%",
            "<b>Seattle</b><br>Time Period: 2019-Q1<br>Class A Rent: $46.27<br>Class O Rent: $28.77<br>A/O Ratio: 1.61<br>Legal Growth Index: 54%<br>Tech Growth Index: 76%<br>Finance Growth Index: 26%",
            "<b>Seattle</b><br>Time Period: 2019-Q1<br>Class A Rent: $46.27<br>Class O Rent: $28.77<br>A/O Ratio: 1.61<br>Legal Growth Index: 54%<br>Tech Growth Index: 62%<br>Finance Growth Index: 26%",
            "<b>South Florida</b><br>Time Period: 2019-Q1<br>Class A Rent: $38.46<br>Class O Rent: $28.95<br>A/O Ratio: 1.33<br>Legal Growth Index: 96%<br>Tech Growth Index: 33%<br>Finance Growth Index: 46%",
            "<b>South Florida</b><br>Time Period: 2019-Q1<br>Class A Rent: $38.46<br>Class O Rent: $28.95<br>A/O Ratio: 1.33<br>Legal Growth Index: 87%<br>Tech Growth Index: 20%<br>Finance Growth Index: 46%",
            "<b>Tampa</b><br>Time Period: 2019-Q1<br>Class A Rent: $30.95<br>Class O Rent: $21.13<br>A/O Ratio: 1.46<br>Legal Growth Index: 44%<br>Tech Growth Index: 13%<br>Finance Growth Index: 51%",
            "<b>Tampa</b><br>Time Period: 2019-Q1<br>Class A Rent: $30.95<br>Class O Rent: $21.13<br>A/O Ratio: 1.46<br>Legal Growth Index: 52%<br>Tech Growth Index: 13%<br>Finance Growth Index: 51%"
           ],
           "type": "scattergeo"
          }
         ],
         "layout": {
          "title": {
           "text": "US Market Rental Rates Over Time: 2019-Q1"
          }
         },
         "name": "2019-Q1"
        },
        {
         "data": [
          {
           "hoverinfo": "text",
           "lat": {
            "bdata": "HVpkO9/fQEAdWmQ7399AQL99HThnRD5Av30dOGdEPkCh1jTvOKVDQKHWNO84pUNAEqW9wRcuRUASpb3BFy5FQPd14JwRnUFA93XgnBGdQUC8dJMYBAZFQLx0kxgEBkVA30+Nl24qRUDf4AuTqcI9QN/gC5Opwj1A9GxWfa4GQUD0bFZ9rgZBQLG/7J48ZERAsb/snjxkRECUh4Va0xRCQGfV52orXkRAZ9XnaiteRECpE9BE2HBDQKkT0ETYcENAtRX7y+75Q0C1FfvL7vlDQGHD0ytluUBAYcPTK2W5QED+ZffkYWFEQKTfvg6cW0BApN++DpxbQEDQ1VbsL+NCQNDVVuwv40JA6Gor9pfNR0Doaiv2l81HQPtcbcX+wjlA+1xtxf7COUDek4eFWvM7QN6Th4Va8ztA",
            "dtype": "f8"
           },
           "lon": {
            "bdata": "Rrbz/dQYVcBGtvP91BhVwBZqTfOOb1jAFmpN845vWMBlGeJYFydTwGUZ4lgXJ1PAAG+BBMXDUcAAb4EExcNRwH3Qs1n1NVTAfdCzWfU1VMDdtYR80OtVwN21hHzQ61XAl/+QfvvCVMDkg57NqtdXwOSDns2q11fAQYLix5iPXcBBguLHmI9dwAN4CyQoflLAA3gLJCh+UsBuowG8BbJVwCV1ApoIi1LAJXUCmgiLUsDn+6nx0kVTwOf7qfHSRVPAJlMFo5LKUsAmUwWjkspSwNv5fmq8BFzA2/l+arwEXMAbL90kBvlbwK7YX3ZPSl3Arthfdk9KXcBQ/Bhz15pewFD8GHPXml7AGsBbIEGVXsAawFsgQZVewNzXgXNGDFTA3NeBc0YMVMDM7snDQp1UwMzuycNCnVTA",
            "dtype": "f8"
           },
           "marker": {
            "cmax": 94.191224222457,
            "cmin": 20.9981865703684,
            "color": {
             "bdata": "ZyF5yc3xPUBnIXnJzfE9QHzUBAzTs0RAfNQEDNOzREBGmQNVwIY6QEaZA1XAhjpABs/7Fv8NRUAGz/sW/w1FQHt/cb7jZD9Ae39xvuNkP0D8falWS3k7QPx9qVZLeTtAQZzSL6zVNkCn2FvDy5lAQKfYW8PLmUBAn578tjXzRUCfnvy2NfNFQDrtHoQ1rlZAOu0ehDWuVkAVUhZ/KwFAQEkUIy8Gsz1ASRQjLwazPUCXjYOE8BhCQJeNg4TwGEJAplgFgmh3PUCmWAWCaHc9QDqdhRBFUT9AOp2FEEVRP0CaMHTIG1w9QKJV/jP4Z0NAolX+M/hnQ0DgsDHufEtVQOCwMe58S1VAFjyqYcT3RkAWPKphxPdGQKToffW5pUNApOh99bmlQ0DtygaTnjg+QO3KBpOeOD5A",
             "dtype": "f8"
            },
            "colorbar": {
             "len": 0.6,
             "thickness": 15,
             "title": {
              "text": "Class A Rent ($)"
             },
             "y": 0.5,
             "yanchor": "middle"
            },
            "colorscale": [
             [
              0,
              "#440154"
             ],
             [
              0.1111111111111111,
              "#482878"
             ],
             [
              0.2222222222222222,
              "#3e4989"
             ],
             [
              0.3333333333333333,
              "#31688e"
             ],
             [
              0.4444444444444444,
              "#26828e"
             ],
             [
              0.5555555555555556,
              "#1f9e89"
             ],
             [
              0.6666666666666666,
              "#35b779"
             ],
             [
              0.7777777777777778,
              "#6ece58"
             ],
             [
              0.8888888888888888,
              "#b5de2b"
             ],
             [
              1,
              "#fde725"
             ]
            ],
            "line": {
             "color": "DarkSlateGrey",
             "width": 1
            },
            "size": {
             "bdata": "Oc1IwyxrJ0A5zUjDLGsnQH+DLHT6xi9Af4MsdPrGL0Cztq2iG6klQLO2raIbqSVADe5oXDgyMEAN7mhcODIwQEB5skBGSChAQHmyQEZIKECIo8DP8homQIijwM/yGiZAihd0UGVRJEBGAxVqQnIpQEYDFWpCcilAC0wo6UMAMUALTCjpQwAxQHq1ob5UmEdAerWhvlSYR0D6CGRR/KooQA5DtBNwRydADkO0E3BHJ0CmE9hOhpErQKYT2E6GkStAZtIb7fYlJ0Bm0hvt9iUnQC20E4osPChALbQTiiw8KED/fZTayRYnQK4rDvUQmy1ArisO9RCbLUAxbTpoJmxFQDFtOmgmbEVAotkOHXT0MUCi2Q4ddPQxQFypyzek/y1AXKnLN6T/LUAJCTLyE5QnQAkJMvITlCdA",
             "dtype": "f8"
            }
           },
           "mode": "markers",
           "name": "2019-Q2",
           "text": [
            "<b>Atlanta</b><br>Time Period: 2019-Q2<br>Class A Rent: $29.94<br>Class O Rent: $20.72<br>A/O Ratio: 1.45<br>Legal Growth Index: 114%<br>Tech Growth Index: 96%<br>Finance Growth Index: 92%",
            "<b>Atlanta</b><br>Time Period: 2019-Q2<br>Class A Rent: $29.94<br>Class O Rent: $20.72<br>A/O Ratio: 1.45<br>Legal Growth Index: 78%<br>Tech Growth Index: 93%<br>Finance Growth Index: 57%",
            "<b>Austin</b><br>Time Period: 2019-Q2<br>Class A Rent: $41.40<br>Class O Rent: $30.71<br>A/O Ratio: 1.35<br>Legal Growth Index: 109%<br>Tech Growth Index: 55%<br>Finance Growth Index: 90%",
            "<b>Austin</b><br>Time Period: 2019-Q2<br>Class A Rent: $41.40<br>Class O Rent: $30.71<br>A/O Ratio: 1.35<br>Legal Growth Index: 68%<br>Tech Growth Index: -12%<br>Finance Growth Index: 49%",
            "<b>Baltimore</b><br>Time Period: 2019-Q2<br>Class A Rent: $26.53<br>Class O Rent: $20.31<br>A/O Ratio: 1.31<br>Legal Growth Index: 67%<br>Tech Growth Index: 63%<br>Finance Growth Index: 102%",
            "<b>Baltimore</b><br>Time Period: 2019-Q2<br>Class A Rent: $26.53<br>Class O Rent: $20.31<br>A/O Ratio: 1.31<br>Legal Growth Index: 67%<br>Tech Growth Index: 63%<br>Finance Growth Index: 76%",
            "<b>Boston</b><br>Time Period: 2019-Q2<br>Class A Rent: $42.11<br>Class O Rent: $23.01<br>A/O Ratio: 1.83<br>Legal Growth Index: 53%<br>Tech Growth Index: 147%<br>Finance Growth Index: 43%",
            "<b>Boston</b><br>Time Period: 2019-Q2<br>Class A Rent: $42.11<br>Class O Rent: $23.01<br>A/O Ratio: 1.83<br>Legal Growth Index: 53%<br>Tech Growth Index: 101%<br>Finance Growth Index: 43%",
            "<b>Charlotte</b><br>Time Period: 2019-Q2<br>Class A Rent: $31.39<br>Class O Rent: $23.10<br>A/O Ratio: 1.36<br>Legal Growth Index: 300%<br>Tech Growth Index: 300%<br>Finance Growth Index: 300%",
            "<b>Charlotte</b><br>Time Period: 2019-Q2<br>Class A Rent: $31.39<br>Class O Rent: $23.10<br>A/O Ratio: 1.36<br>Legal Growth Index: 300%<br>Tech Growth Index: 34%<br>Finance Growth Index: 60%",
            "<b>Chicago Suburbs</b><br>Time Period: 2019-Q2<br>Class A Rent: $27.47<br>Class O Rent: $19.70<br>A/O Ratio: 1.39<br>Legal Growth Index: 66%<br>Tech Growth Index: 51%<br>Finance Growth Index: 26%",
            "<b>Chicago Suburbs</b><br>Time Period: 2019-Q2<br>Class A Rent: $27.47<br>Class O Rent: $19.70<br>A/O Ratio: 1.39<br>Legal Growth Index: 66%<br>Tech Growth Index: 51%<br>Finance Growth Index: 10%",
            "<b>Detroit</b><br>Time Period: 2019-Q2<br>Class A Rent: $22.83<br>Class O Rent: $nan<br>Legal Growth Index: -7%<br>Tech Growth Index: 45%<br>Finance Growth Index: -13%",
            "<b>Houston</b><br>Time Period: 2019-Q2<br>Class A Rent: $33.20<br>Class O Rent: $20.63<br>A/O Ratio: 1.61<br>Legal Growth Index: 96%<br>Tech Growth Index: 89%<br>Finance Growth Index: 94%",
            "<b>Houston</b><br>Time Period: 2019-Q2<br>Class A Rent: $33.20<br>Class O Rent: $20.63<br>A/O Ratio: 1.61<br>Legal Growth Index: 65%<br>Tech Growth Index: 80%<br>Finance Growth Index: 68%",
            "<b>Los Angeles</b><br>Time Period: 2019-Q2<br>Class A Rent: $43.90<br>Class O Rent: $34.99<br>A/O Ratio: 1.25<br>Legal Growth Index: 96%<br>Tech Growth Index: 55%<br>Finance Growth Index: 60%",
            "<b>Los Angeles</b><br>Time Period: 2019-Q2<br>Class A Rent: $43.90<br>Class O Rent: $34.99<br>A/O Ratio: 1.25<br>Legal Growth Index: 74%<br>Tech Growth Index: 27%<br>Finance Growth Index: 60%",
            "<b>Manhattan</b><br>Time Period: 2019-Q2<br>Class A Rent: $90.72<br>Class O Rent: $61.40<br>A/O Ratio: 1.48<br>Legal Growth Index: 64%<br>Tech Growth Index: 68%<br>Finance Growth Index: 39%",
            "<b>Manhattan</b><br>Time Period: 2019-Q2<br>Class A Rent: $90.72<br>Class O Rent: $61.40<br>A/O Ratio: 1.48<br>Legal Growth Index: 64%<br>Tech Growth Index: 68%<br>Finance Growth Index: 12%",
            "<b>Nashville</b><br>Time Period: 2019-Q2<br>Class A Rent: $32.01<br>Class O Rent: $nan<br>Legal Growth Index: 86%<br>Tech Growth Index: 29%<br>Finance Growth Index: -27%",
            "<b>Northern New Jersey</b><br>Time Period: 2019-Q2<br>Class A Rent: $29.70<br>Class O Rent: $23.57<br>A/O Ratio: 1.26<br>Legal Growth Index: 82%<br>Tech Growth Index: 4%<br>Finance Growth Index: 83%",
            "<b>Northern New Jersey</b><br>Time Period: 2019-Q2<br>Class A Rent: $29.70<br>Class O Rent: $23.57<br>A/O Ratio: 1.26<br>Legal Growth Index: 82%<br>Tech Growth Index: 4%<br>Finance Growth Index: 8%",
            "<b>Northern Virginia</b><br>Time Period: 2019-Q2<br>Class A Rent: $36.19<br>Class O Rent: $29.21<br>A/O Ratio: 1.24<br>Legal Growth Index: 36%<br>Tech Growth Index: 0%<br>Finance Growth Index: 41%",
            "<b>Northern Virginia</b><br>Time Period: 2019-Q2<br>Class A Rent: $36.19<br>Class O Rent: $29.21<br>A/O Ratio: 1.24<br>Legal Growth Index: 36%<br>Tech Growth Index: -15%<br>Finance Growth Index: 21%",
            "<b>Philadelphia</b><br>Time Period: 2019-Q2<br>Class A Rent: $29.47<br>Class O Rent: $25.50<br>A/O Ratio: 1.16<br>Legal Growth Index: 35%<br>Tech Growth Index: 109%<br>Finance Growth Index: 98%",
            "<b>Philadelphia</b><br>Time Period: 2019-Q2<br>Class A Rent: $29.47<br>Class O Rent: $25.50<br>A/O Ratio: 1.16<br>Legal Growth Index: 40%<br>Tech Growth Index: 109%<br>Finance Growth Index: 75%",
            "<b>Phoenix</b><br>Time Period: 2019-Q2<br>Class A Rent: $31.32<br>Class O Rent: $24.04<br>A/O Ratio: 1.30<br>Legal Growth Index: 15%<br>Tech Growth Index: 38%<br>Finance Growth Index: 104%",
            "<b>Phoenix</b><br>Time Period: 2019-Q2<br>Class A Rent: $31.32<br>Class O Rent: $24.04<br>A/O Ratio: 1.30<br>Legal Growth Index: 15%<br>Tech Growth Index: 30%<br>Finance Growth Index: 116%",
            "<b>Salt Lake City</b><br>Time Period: 2019-Q2<br>Class A Rent: $29.36<br>Class O Rent: $nan<br>Legal Growth Index: 154%<br>Tech Growth Index: -40%<br>Finance Growth Index: -35%",
            "<b>San Diego</b><br>Time Period: 2019-Q2<br>Class A Rent: $38.81<br>Class O Rent: $31.87<br>A/O Ratio: 1.22<br>Legal Growth Index: -80%<br>Tech Growth Index: 87%<br>Finance Growth Index: 47%",
            "<b>San Diego</b><br>Time Period: 2019-Q2<br>Class A Rent: $38.81<br>Class O Rent: $31.87<br>A/O Ratio: 1.22<br>Legal Growth Index: -80%<br>Tech Growth Index: 87%<br>Finance Growth Index: 27%",
            "<b>San Francisco</b><br>Time Period: 2019-Q2<br>Class A Rent: $85.18<br>Class O Rent: $71.24<br>A/O Ratio: 1.20<br>Legal Growth Index: 25%<br>Tech Growth Index: 68%<br>Finance Growth Index: 69%",
            "<b>San Francisco</b><br>Time Period: 2019-Q2<br>Class A Rent: $85.18<br>Class O Rent: $71.24<br>A/O Ratio: 1.20<br>Legal Growth Index: 25%<br>Tech Growth Index: 33%<br>Finance Growth Index: 37%",
            "<b>Seattle</b><br>Time Period: 2019-Q2<br>Class A Rent: $45.94<br>Class O Rent: $28.79<br>A/O Ratio: 1.60<br>Legal Growth Index: 149%<br>Tech Growth Index: 109%<br>Finance Growth Index: 89%",
            "<b>Seattle</b><br>Time Period: 2019-Q2<br>Class A Rent: $45.94<br>Class O Rent: $28.79<br>A/O Ratio: 1.60<br>Legal Growth Index: 149%<br>Tech Growth Index: 49%<br>Finance Growth Index: 68%",
            "<b>South Florida</b><br>Time Period: 2019-Q2<br>Class A Rent: $39.29<br>Class O Rent: $29.17<br>A/O Ratio: 1.35<br>Legal Growth Index: 64%<br>Tech Growth Index: 91%<br>Finance Growth Index: 77%",
            "<b>South Florida</b><br>Time Period: 2019-Q2<br>Class A Rent: $39.29<br>Class O Rent: $29.17<br>A/O Ratio: 1.35<br>Legal Growth Index: 64%<br>Tech Growth Index: 91%<br>Finance Growth Index: 74%",
            "<b>Tampa</b><br>Time Period: 2019-Q2<br>Class A Rent: $30.22<br>Class O Rent: $21.10<br>A/O Ratio: 1.43<br>Legal Growth Index: 35%<br>Tech Growth Index: 57%<br>Finance Growth Index: 60%",
            "<b>Tampa</b><br>Time Period: 2019-Q2<br>Class A Rent: $30.22<br>Class O Rent: $21.10<br>A/O Ratio: 1.43<br>Legal Growth Index: 1%<br>Tech Growth Index: 57%<br>Finance Growth Index: 60%"
           ],
           "type": "scattergeo"
          }
         ],
         "layout": {
          "title": {
           "text": "US Market Rental Rates Over Time: 2019-Q2"
          }
         },
         "name": "2019-Q2"
        },
        {
         "data": [
          {
           "hoverinfo": "text",
           "lat": {
            "bdata": "HVpkO9/fQEAdWmQ7399AQL99HThnRD5Av30dOGdEPkCh1jTvOKVDQKHWNO84pUNAEqW9wRcuRUASpb3BFy5FQPd14JwRnUFAvHSTGAQGRUDfT42XbipFQN9PjZduKkVA3+ALk6nCPUDf4AuTqcI9QPRsVn2uBkFA9GxWfa4GQUCxv+yePGREQLG/7J48ZERAlIeFWtMUQkBn1edqK15EQGfV52orXkRAqRPQRNhwQ0CpE9BE2HBDQLUV+8vu+UNAtRX7y+75Q0Bhw9MrZblAQGHD0ytluUBApN++DpxbQECk374OnFtAQNDVVuwv40JA0NVW7C/jQkDoaiv2l81HQOhqK/aXzUdA+1xtxf7COUD7XG3F/sI5QN6Th4Va8ztA3pOHhVrzO0A=",
            "dtype": "f8"
           },
           "lon": {
            "bdata": "Rrbz/dQYVcBGtvP91BhVwBZqTfOOb1jAFmpN845vWMBlGeJYFydTwGUZ4lgXJ1PAAG+BBMXDUcAAb4EExcNRwH3Qs1n1NVTA3bWEfNDrVcCX/5B++8JUwJf/kH77wlTA5IOezarXV8Dkg57NqtdXwEGC4seYj13AQYLix5iPXcADeAskKH5SwAN4CyQoflLAbqMBvAWyVcAldQKaCItSwCV1ApoIi1LA5/up8dJFU8Dn+6nx0kVTwCZTBaOSylLAJlMFo5LKUsDb+X5qvARcwNv5fmq8BFzArthfdk9KXcCu2F92T0pdwFD8GHPXml7AUPwYc9eaXsAawFsgQZVewBrAWyBBlV7A3NeBc0YMVMDc14FzRgxUwMzuycNCnVTAzO7Jw0KdVMA=",
            "dtype": "f8"
           },
           "marker": {
            "cmax": 94.191224222457,
            "cmin": 20.9981865703684,
            "color": {
             "bdata": "Ma2ULgNXPkAxrZQuA1c+QE47adZBoERATjtp1kGgREACFM/+E6c6QAIUz/4TpzpAPcGk4x32Q0A9waTjHfZDQH5BCi+CPT9AjGqPFTbLO0CntY9hmZE2QKe1j2GZkTZA3qQmpbTTQEDepCaltNNAQMfBZyp21UVAx8FnKnbVRUCJavh2jlFXQIlq+HaOUVdAAd+6YSscQECfT+1BbUU+QJ9P7UFtRT5AmRn7jYWHQkCZGfuNhYdCQCpd3s1z5T1AKl3ezXPlPUCFgyPtGMs/QIWDI+0Yyz9ADmXJOL7LQ0AOZck4vstDQPEks5uSB1ZA8SSzm5IHVkCAXquZvY5HQIBeq5m9jkdAc3KGJujYREBzcoYm6NhEQBsW5cuDqD9AGxbly4OoP0A=",
             "dtype": "f8"
            },
            "colorbar": {
             "len": 0.6,
             "thickness": 15,
             "title": {
              "text": "Class A Rent ($)"
             },
             "y": 0.5,
             "yanchor": "middle"
            },
            "colorscale": [
             [
              0,
              "#440154"
             ],
             [
              0.1111111111111111,
              "#482878"
             ],
             [
              0.2222222222222222,
              "#3e4989"
             ],
             [
              0.3333333333333333,
              "#31688e"
             ],
             [
              0.4444444444444444,
              "#26828e"
             ],
             [
              0.5555555555555556,
              "#1f9e89"
             ],
             [
              0.6666666666666666,
              "#35b779"
             ],
             [
              0.7777777777777778,
              "#6ece58"
             ],
             [
              0.8888888888888888,
              "#b5de2b"
             ],
             [
              1,
              "#fde725"
             ]
            ],
            "line": {
             "color": "DarkSlateGrey",
             "width": 1
            },
            "size": {
             "bdata": "UCR/sNKlJ0BQJH+w0qUnQCgWnNwppS9AKBac3CmlL0AbB6apwbclQBsHpqnBtyVAIgxhV4+ELkAiDGFXj4QuQGiL/BoIMChAPwSmuGJDJkALbcadX0AkQAttxp1fQCRAlMeNMoLAKUCUx40ygsApQLFLy4IN5TBAsUvLgg3lMEAAgV7RF6BIQACBXtEXoEhAFMYF03zNKECwU5KtipsnQLBTkq2KmydACSZ2fBI5LEAJJnZ8EjksQAJJb8kaZCdAAklvyRpkJ0CcvCWUB4goQJy8JZQHiChAh8yJGDg+LkCHzIkYOD4uQCB1qF0wkEZAIHWoXTCQRkB0+9qboIYyQHT72pughjJALBBta7QDMEAsEG1rtAMwQAQkqMhScihABCSoyFJyKEA=",
             "dtype": "f8"
            }
           },
           "mode": "markers",
           "name": "2019-Q3",
           "text": [
            "<b>Atlanta</b><br>Time Period: 2019-Q3<br>Class A Rent: $30.34<br>Class O Rent: $20.99<br>A/O Ratio: 1.45<br>Legal Growth Index: 100%<br>Tech Growth Index: 75%<br>Finance Growth Index: 91%",
            "<b>Atlanta</b><br>Time Period: 2019-Q3<br>Class A Rent: $30.34<br>Class O Rent: $20.99<br>A/O Ratio: 1.45<br>Legal Growth Index: 100%<br>Tech Growth Index: 75%<br>Finance Growth Index: 40%",
            "<b>Austin</b><br>Time Period: 2019-Q3<br>Class A Rent: $41.25<br>Class O Rent: $33.54<br>A/O Ratio: 1.23<br>Legal Growth Index: 87%<br>Tech Growth Index: 55%<br>Finance Growth Index: 49%",
            "<b>Austin</b><br>Time Period: 2019-Q3<br>Class A Rent: $41.25<br>Class O Rent: $33.54<br>A/O Ratio: 1.23<br>Legal Growth Index: 87%<br>Tech Growth Index: 55%<br>Finance Growth Index: 49%",
            "<b>Baltimore</b><br>Time Period: 2019-Q3<br>Class A Rent: $26.65<br>Class O Rent: $20.54<br>A/O Ratio: 1.30<br>Legal Growth Index: 106%<br>Tech Growth Index: 48%<br>Finance Growth Index: 34%",
            "<b>Baltimore</b><br>Time Period: 2019-Q3<br>Class A Rent: $26.65<br>Class O Rent: $20.54<br>A/O Ratio: 1.30<br>Legal Growth Index: 104%<br>Tech Growth Index: 47%<br>Finance Growth Index: 34%",
            "<b>Boston</b><br>Time Period: 2019-Q3<br>Class A Rent: $39.92<br>Class O Rent: $22.74<br>A/O Ratio: 1.76<br>Legal Growth Index: 109%<br>Tech Growth Index: 32%<br>Finance Growth Index: 51%",
            "<b>Boston</b><br>Time Period: 2019-Q3<br>Class A Rent: $39.92<br>Class O Rent: $22.74<br>A/O Ratio: 1.76<br>Legal Growth Index: 109%<br>Tech Growth Index: 16%<br>Finance Growth Index: 51%",
            "<b>Charlotte</b><br>Time Period: 2019-Q3<br>Class A Rent: $31.24<br>Class O Rent: $nan<br>Legal Growth Index: 122%<br>Tech Growth Index: 44%<br>Finance Growth Index: 65%",
            "<b>Chicago Suburbs</b><br>Time Period: 2019-Q3<br>Class A Rent: $27.79<br>Class O Rent: $nan<br>Legal Growth Index: 13%<br>Tech Growth Index: 61%<br>Finance Growth Index: 49%",
            "<b>Detroit</b><br>Time Period: 2019-Q3<br>Class A Rent: $22.57<br>Class O Rent: $18.16<br>A/O Ratio: 1.24<br>Legal Growth Index: 97%<br>Tech Growth Index: 26%<br>Finance Growth Index: 55%",
            "<b>Detroit</b><br>Time Period: 2019-Q3<br>Class A Rent: $22.57<br>Class O Rent: $18.16<br>A/O Ratio: 1.24<br>Legal Growth Index: 79%<br>Tech Growth Index: 26%<br>Finance Growth Index: 55%",
            "<b>Houston</b><br>Time Period: 2019-Q3<br>Class A Rent: $33.65<br>Class O Rent: $21.01<br>A/O Ratio: 1.60<br>Legal Growth Index: 57%<br>Tech Growth Index: 23%<br>Finance Growth Index: 94%",
            "<b>Houston</b><br>Time Period: 2019-Q3<br>Class A Rent: $33.65<br>Class O Rent: $21.01<br>A/O Ratio: 1.60<br>Legal Growth Index: 57%<br>Tech Growth Index: 23%<br>Finance Growth Index: 83%",
            "<b>Los Angeles</b><br>Time Period: 2019-Q3<br>Class A Rent: $43.67<br>Class O Rent: $36.62<br>A/O Ratio: 1.19<br>Legal Growth Index: 10%<br>Tech Growth Index: 75%<br>Finance Growth Index: 4%",
            "<b>Los Angeles</b><br>Time Period: 2019-Q3<br>Class A Rent: $43.67<br>Class O Rent: $36.62<br>A/O Ratio: 1.19<br>Legal Growth Index: 10%<br>Tech Growth Index: 75%<br>Finance Growth Index: -16%",
            "<b>Manhattan</b><br>Time Period: 2019-Q3<br>Class A Rent: $93.27<br>Class O Rent: $62.31<br>A/O Ratio: 1.50<br>Legal Growth Index: 33%<br>Tech Growth Index: 30%<br>Finance Growth Index: 45%",
            "<b>Manhattan</b><br>Time Period: 2019-Q3<br>Class A Rent: $93.27<br>Class O Rent: $62.31<br>A/O Ratio: 1.50<br>Legal Growth Index: 33%<br>Tech Growth Index: 17%<br>Finance Growth Index: 26%",
            "<b>Nashville</b><br>Time Period: 2019-Q3<br>Class A Rent: $32.22<br>Class O Rent: $nan<br>Legal Growth Index: 42%<br>Tech Growth Index: 28%<br>Finance Growth Index: -51%",
            "<b>Northern New Jersey</b><br>Time Period: 2019-Q3<br>Class A Rent: $30.27<br>Class O Rent: $23.99<br>A/O Ratio: 1.26<br>Legal Growth Index: 94%<br>Tech Growth Index: -9%<br>Finance Growth Index: 68%",
            "<b>Northern New Jersey</b><br>Time Period: 2019-Q3<br>Class A Rent: $30.27<br>Class O Rent: $23.99<br>A/O Ratio: 1.26<br>Legal Growth Index: 94%<br>Tech Growth Index: -32%<br>Finance Growth Index: 68%",
            "<b>Northern Virginia</b><br>Time Period: 2019-Q3<br>Class A Rent: $37.06<br>Class O Rent: $29.97<br>A/O Ratio: 1.24<br>Legal Growth Index: 6%<br>Tech Growth Index: 54%<br>Finance Growth Index: 11%",
            "<b>Northern Virginia</b><br>Time Period: 2019-Q3<br>Class A Rent: $37.06<br>Class O Rent: $29.97<br>A/O Ratio: 1.24<br>Legal Growth Index: 6%<br>Tech Growth Index: 54%<br>Finance Growth Index: -12%",
            "<b>Philadelphia</b><br>Time Period: 2019-Q3<br>Class A Rent: $29.90<br>Class O Rent: $26.35<br>A/O Ratio: 1.13<br>Legal Growth Index: 100%<br>Tech Growth Index: 80%<br>Finance Growth Index: 96%",
            "<b>Philadelphia</b><br>Time Period: 2019-Q3<br>Class A Rent: $29.90<br>Class O Rent: $26.35<br>A/O Ratio: 1.13<br>Legal Growth Index: 83%<br>Tech Growth Index: 59%<br>Finance Growth Index: 64%",
            "<b>Phoenix</b><br>Time Period: 2019-Q3<br>Class A Rent: $31.79<br>Class O Rent: $24.55<br>A/O Ratio: 1.29<br>Legal Growth Index: 22%<br>Tech Growth Index: 102%<br>Finance Growth Index: 91%",
            "<b>Phoenix</b><br>Time Period: 2019-Q3<br>Class A Rent: $31.79<br>Class O Rent: $24.55<br>A/O Ratio: 1.29<br>Legal Growth Index: 22%<br>Tech Growth Index: 102%<br>Finance Growth Index: 81%",
            "<b>San Diego</b><br>Time Period: 2019-Q3<br>Class A Rent: $39.59<br>Class O Rent: $32.04<br>A/O Ratio: 1.24<br>Legal Growth Index: 35%<br>Tech Growth Index: 47%<br>Finance Growth Index: 4%",
            "<b>San Diego</b><br>Time Period: 2019-Q3<br>Class A Rent: $39.59<br>Class O Rent: $32.04<br>A/O Ratio: 1.24<br>Legal Growth Index: 21%<br>Tech Growth Index: 38%<br>Finance Growth Index: -8%",
            "<b>San Francisco</b><br>Time Period: 2019-Q3<br>Class A Rent: $88.12<br>Class O Rent: $71.95<br>A/O Ratio: 1.22<br>Legal Growth Index: 43%<br>Tech Growth Index: 72%<br>Finance Growth Index: 4%",
            "<b>San Francisco</b><br>Time Period: 2019-Q3<br>Class A Rent: $88.12<br>Class O Rent: $71.95<br>A/O Ratio: 1.22<br>Legal Growth Index: 43%<br>Tech Growth Index: 59%<br>Finance Growth Index: 4%",
            "<b>Seattle</b><br>Time Period: 2019-Q3<br>Class A Rent: $47.12<br>Class O Rent: $29.22<br>A/O Ratio: 1.61<br>Legal Growth Index: 113%<br>Tech Growth Index: 85%<br>Finance Growth Index: 61%",
            "<b>Seattle</b><br>Time Period: 2019-Q3<br>Class A Rent: $47.12<br>Class O Rent: $29.22<br>A/O Ratio: 1.61<br>Legal Growth Index: 113%<br>Tech Growth Index: 44%<br>Finance Growth Index: 29%",
            "<b>South Florida</b><br>Time Period: 2019-Q3<br>Class A Rent: $41.69<br>Class O Rent: $29.28<br>A/O Ratio: 1.42<br>Legal Growth Index: 32%<br>Tech Growth Index: 81%<br>Finance Growth Index: 94%",
            "<b>South Florida</b><br>Time Period: 2019-Q3<br>Class A Rent: $41.69<br>Class O Rent: $29.28<br>A/O Ratio: 1.42<br>Legal Growth Index: 32%<br>Tech Growth Index: 69%<br>Finance Growth Index: 83%",
            "<b>Tampa</b><br>Time Period: 2019-Q3<br>Class A Rent: $31.66<br>Class O Rent: $21.76<br>A/O Ratio: 1.45<br>Legal Growth Index: -42%<br>Tech Growth Index: 7%<br>Finance Growth Index: 5%",
            "<b>Tampa</b><br>Time Period: 2019-Q3<br>Class A Rent: $31.66<br>Class O Rent: $21.76<br>A/O Ratio: 1.45<br>Legal Growth Index: -42%<br>Tech Growth Index: 7%<br>Finance Growth Index: 10%"
           ],
           "type": "scattergeo"
          }
         ],
         "layout": {
          "title": {
           "text": "US Market Rental Rates Over Time: 2019-Q3"
          }
         },
         "name": "2019-Q3"
        },
        {
         "data": [
          {
           "hoverinfo": "text",
           "lat": {
            "bdata": "HVpkO9/fQEAdWmQ7399AQL99HThnRD5AodY07zilQ0Ch1jTvOKVDQBKlvcEXLkVAEqW9wRcuRUD3deCcEZ1BQLx0kxgEBkVA30+Nl24qRUDfT42XbipFQN/gC5Opwj1A3+ALk6nCPUD0bFZ9rgZBQPRsVn2uBkFAsb/snjxkRECxv+yePGREQJSHhVrTFEJAZ9XnaiteREBn1edqK15EQKkT0ETYcENAqRPQRNhwQ0C1FfvL7vlDQLUV+8vu+UNAYcPTK2W5QEBhw9MrZblAQP5l9+RhYURApN++DpxbQECk374OnFtAQNDVVuwv40JA0NVW7C/jQkDoaiv2l81HQOhqK/aXzUdA+1xtxf7COUDek4eFWvM7QN6Th4Va8ztA",
            "dtype": "f8"
           },
           "lon": {
            "bdata": "Rrbz/dQYVcBGtvP91BhVwBZqTfOOb1jAZRniWBcnU8BlGeJYFydTwABvgQTFw1HAAG+BBMXDUcB90LNZ9TVUwN21hHzQ61XAl/+QfvvCVMCX/5B++8JUwOSDns2q11fA5IOezarXV8BBguLHmI9dwEGC4seYj13AA3gLJCh+UsADeAskKH5SwG6jAbwFslXAJXUCmgiLUsAldQKaCItSwOf7qfHSRVPA5/up8dJFU8AmUwWjkspSwCZTBaOSylLA2/l+arwEXMDb+X5qvARcwBsv3SQG+VvArthfdk9KXcCu2F92T0pdwFD8GHPXml7AUPwYc9eaXsAawFsgQZVewBrAWyBBlV7A3NeBc0YMVMDM7snDQp1UwMzuycNCnVTA",
            "dtype": "f8"
           },
           "marker": {
            "cmax": 94.191224222457,
            "cmin": 20.9981865703684,
            "color": {
             "bdata": "gAwKktMwP0CADAqS0zA/QHqnGaDsYkVAfzUGZ6zgOkB/NQZnrOA6QOVRFGGlwURA5VEUYaXBREC13sWg7Jo/QMZbdtIlmDtAJBQ7N82aNkAkFDs3zZo2QB2NuKbT5kBAHY24ptPmQEALkepDcVRGQAuR6kNxVEZA+WmFBD2MV0D5aYUEPYxXQAAAAAAAAPh/gjTecne8PkCCNN5yd7w+QGTz8vIbkUJAZPPy8huRQkCNDrq1iTg+QI0OurWJOD5ADSnNb32eP0ANKc1vfZ4/QB2HydauQjtAD0FrGr8TREAPQWsavxNEQPt4S8X01VVA+3hLxfTVVUCycapnctRHQLJxqmdy1EdAs4pNmkTnREBkWl11HA5AQGRaXXUcDkBA",
             "dtype": "f8"
            },
            "colorbar": {
             "len": 0.6,
             "thickness": 15,
             "title": {
              "text": "Class A Rent ($)"
             },
             "y": 0.5,
             "yanchor": "middle"
            },
            "colorscale": [
             [
              0,
              "#440154"
             ],
             [
              0.1111111111111111,
              "#482878"
             ],
             [
              0.2222222222222222,
              "#3e4989"
             ],
             [
              0.3333333333333333,
              "#31688e"
             ],
             [
              0.4444444444444444,
              "#26828e"
             ],
             [
              0.5555555555555556,
              "#1f9e89"
             ],
             [
              0.6666666666666666,
              "#35b779"
             ],
             [
              0.7777777777777778,
              "#6ece58"
             ],
             [
              0.8888888888888888,
              "#b5de2b"
             ],
             [
              1,
              "#fde725"
             ]
            ],
            "line": {
             "color": "DarkSlateGrey",
             "width": 1
            },
            "size": {
             "bdata": "yA+nYEMoKEDID6dgQygoQASkZJCVfTBAdvkl+0LSJUB2+SX7QtIlQE3mY8Hw3i9ATeZjwfDeL0BeLcKg1GkoQKQkI3QQKiZAu8p1n5hCJEC7ynWfmEIkQNKLqyCo2ilA0ourIKjaKUCHsFL6K1oxQIewUvorWjFAAAAAAAAASUAAAAAAAABJQAAAAAAAAC5AhX2xXt/hJ0CFfbFe3+EnQEXC8srQRyxARcLyytBHLEARj6nNB5QnQBGPqc0HlCdA3HnkhQ5sKEDceeSFDmwoQN5oYIqJACZANLTJ8Ry2LkA0tMnxHLYuQKfFxQWEQkZAp8XFBYRCRkCZkci1P8syQJmRyLU/yzJASf5w8T0QMEC/4Ahne7soQL/gCGd7uyhA",
             "dtype": "f8"
            }
           },
           "mode": "markers",
           "name": "2019-Q4",
           "text": [
            "<b>Atlanta</b><br>Time Period: 2019-Q4<br>Class A Rent: $31.19<br>Class O Rent: $21.75<br>A/O Ratio: 1.43<br>Legal Growth Index: 88%<br>Tech Growth Index: 54%<br>Finance Growth Index: 57%",
            "<b>Atlanta</b><br>Time Period: 2019-Q4<br>Class A Rent: $31.19<br>Class O Rent: $21.75<br>A/O Ratio: 1.43<br>Legal Growth Index: 75%<br>Tech Growth Index: 47%<br>Finance Growth Index: 62%",
            "<b>Austin</b><br>Time Period: 2019-Q4<br>Class A Rent: $42.77<br>Class O Rent: $nan<br>Legal Growth Index: 63%<br>Tech Growth Index: 41%<br>Finance Growth Index: 53%",
            "<b>Baltimore</b><br>Time Period: 2019-Q4<br>Class A Rent: $26.88<br>Class O Rent: $20.57<br>A/O Ratio: 1.31<br>Legal Growth Index: 94%<br>Tech Growth Index: 32%<br>Finance Growth Index: 49%",
            "<b>Baltimore</b><br>Time Period: 2019-Q4<br>Class A Rent: $26.88<br>Class O Rent: $20.57<br>A/O Ratio: 1.31<br>Legal Growth Index: 94%<br>Tech Growth Index: 32%<br>Finance Growth Index: 40%",
            "<b>Boston</b><br>Time Period: 2019-Q4<br>Class A Rent: $41.51<br>Class O Rent: $22.40<br>A/O Ratio: 1.85<br>Legal Growth Index: 22%<br>Tech Growth Index: 96%<br>Finance Growth Index: 93%",
            "<b>Boston</b><br>Time Period: 2019-Q4<br>Class A Rent: $41.51<br>Class O Rent: $22.40<br>A/O Ratio: 1.85<br>Legal Growth Index: 22%<br>Tech Growth Index: 52%<br>Finance Growth Index: 93%",
            "<b>Charlotte</b><br>Time Period: 2019-Q4<br>Class A Rent: $31.61<br>Class O Rent: $nan<br>Legal Growth Index: 125%<br>Tech Growth Index: 3%<br>Finance Growth Index: 73%",
            "<b>Chicago Suburbs</b><br>Time Period: 2019-Q4<br>Class A Rent: $27.59<br>Class O Rent: $nan<br>Legal Growth Index: 56%<br>Tech Growth Index: 94%<br>Finance Growth Index: 27%",
            "<b>Detroit</b><br>Time Period: 2019-Q4<br>Class A Rent: $22.60<br>Class O Rent: $18.40<br>A/O Ratio: 1.23<br>Legal Growth Index: 93%<br>Tech Growth Index: 45%<br>Finance Growth Index: 9%",
            "<b>Detroit</b><br>Time Period: 2019-Q4<br>Class A Rent: $22.60<br>Class O Rent: $18.40<br>A/O Ratio: 1.23<br>Legal Growth Index: 93%<br>Tech Growth Index: 55%<br>Finance Growth Index: 16%",
            "<b>Houston</b><br>Time Period: 2019-Q4<br>Class A Rent: $33.80<br>Class O Rent: $21.09<br>A/O Ratio: 1.60<br>Legal Growth Index: 63%<br>Tech Growth Index: 41%<br>Finance Growth Index: 103%",
            "<b>Houston</b><br>Time Period: 2019-Q4<br>Class A Rent: $33.80<br>Class O Rent: $21.09<br>A/O Ratio: 1.60<br>Legal Growth Index: 47%<br>Tech Growth Index: 41%<br>Finance Growth Index: 89%",
            "<b>Los Angeles</b><br>Time Period: 2019-Q4<br>Class A Rent: $44.66<br>Class O Rent: $36.75<br>A/O Ratio: 1.22<br>Legal Growth Index: 8%<br>Tech Growth Index: 36%<br>Finance Growth Index: 35%",
            "<b>Los Angeles</b><br>Time Period: 2019-Q4<br>Class A Rent: $44.66<br>Class O Rent: $36.75<br>A/O Ratio: 1.22<br>Legal Growth Index: 8%<br>Tech Growth Index: 7%<br>Finance Growth Index: 35%",
            "<b>Manhattan</b><br>Time Period: 2019-Q4<br>Class A Rent: $94.19<br>Class O Rent: $63.66<br>A/O Ratio: 1.48<br>Legal Growth Index: 52%<br>Tech Growth Index: 61%<br>Finance Growth Index: 67%",
            "<b>Manhattan</b><br>Time Period: 2019-Q4<br>Class A Rent: $94.19<br>Class O Rent: $63.66<br>A/O Ratio: 1.48<br>Legal Growth Index: 13%<br>Tech Growth Index: 21%<br>Finance Growth Index: 25%",
            "<b>Nashville</b><br>Time Period: 2019-Q4<br>Class A Rent: $nan<br>Class O Rent: $26.33<br>Legal Growth Index: 9%<br>Tech Growth Index: -3%<br>Finance Growth Index: -68%",
            "<b>Northern New Jersey</b><br>Time Period: 2019-Q4<br>Class A Rent: $30.74<br>Class O Rent: $23.88<br>A/O Ratio: 1.29<br>Legal Growth Index: 66%<br>Tech Growth Index: 177%<br>Finance Growth Index: 32%",
            "<b>Northern New Jersey</b><br>Time Period: 2019-Q4<br>Class A Rent: $30.74<br>Class O Rent: $23.88<br>A/O Ratio: 1.29<br>Legal Growth Index: 32%<br>Tech Growth Index: 177%<br>Finance Growth Index: 32%",
            "<b>Northern Virginia</b><br>Time Period: 2019-Q4<br>Class A Rent: $37.13<br>Class O Rent: $30.66<br>A/O Ratio: 1.21<br>Legal Growth Index: 0%<br>Tech Growth Index: 38%<br>Finance Growth Index: 50%",
            "<b>Northern Virginia</b><br>Time Period: 2019-Q4<br>Class A Rent: $37.13<br>Class O Rent: $30.66<br>A/O Ratio: 1.21<br>Legal Growth Index: -21%<br>Tech Growth Index: -19%<br>Finance Growth Index: 30%",
            "<b>Philadelphia</b><br>Time Period: 2019-Q4<br>Class A Rent: $30.22<br>Class O Rent: $26.61<br>A/O Ratio: 1.14<br>Legal Growth Index: 66%<br>Tech Growth Index: 95%<br>Finance Growth Index: 102%",
            "<b>Philadelphia</b><br>Time Period: 2019-Q4<br>Class A Rent: $30.22<br>Class O Rent: $26.61<br>A/O Ratio: 1.14<br>Legal Growth Index: 66%<br>Tech Growth Index: 56%<br>Finance Growth Index: 102%",
            "<b>Phoenix</b><br>Time Period: 2019-Q4<br>Class A Rent: $31.62<br>Class O Rent: $24.50<br>A/O Ratio: 1.29<br>Legal Growth Index: 155%<br>Tech Growth Index: 120%<br>Finance Growth Index: 81%",
            "<b>Phoenix</b><br>Time Period: 2019-Q4<br>Class A Rent: $31.62<br>Class O Rent: $24.50<br>A/O Ratio: 1.29<br>Legal Growth Index: 155%<br>Tech Growth Index: 86%<br>Finance Growth Index: 74%",
            "<b>Salt Lake City</b><br>Time Period: 2019-Q4<br>Class A Rent: $27.26<br>Class O Rent: $nan<br>Legal Growth Index: -52%<br>Tech Growth Index: -52%<br>Finance Growth Index: 10%",
            "<b>San Diego</b><br>Time Period: 2019-Q4<br>Class A Rent: $40.15<br>Class O Rent: $32.86<br>A/O Ratio: 1.22<br>Legal Growth Index: -5%<br>Tech Growth Index: 34%<br>Finance Growth Index: 60%",
            "<b>San Diego</b><br>Time Period: 2019-Q4<br>Class A Rent: $40.15<br>Class O Rent: $32.86<br>A/O Ratio: 1.22<br>Legal Growth Index: -5%<br>Tech Growth Index: -99%<br>Finance Growth Index: 59%",
            "<b>San Francisco</b><br>Time Period: 2019-Q4<br>Class A Rent: $87.34<br>Class O Rent: $74.50<br>A/O Ratio: 1.17<br>Legal Growth Index: 80%<br>Tech Growth Index: 31%<br>Finance Growth Index: 12%",
            "<b>San Francisco</b><br>Time Period: 2019-Q4<br>Class A Rent: $87.34<br>Class O Rent: $74.50<br>A/O Ratio: 1.17<br>Legal Growth Index: 80%<br>Tech Growth Index: 10%<br>Finance Growth Index: 12%",
            "<b>Seattle</b><br>Time Period: 2019-Q4<br>Class A Rent: $47.66<br>Class O Rent: $29.80<br>A/O Ratio: 1.60<br>Legal Growth Index: 0%<br>Tech Growth Index: 45%<br>Finance Growth Index: 65%",
            "<b>Seattle</b><br>Time Period: 2019-Q4<br>Class A Rent: $47.66<br>Class O Rent: $29.80<br>A/O Ratio: 1.60<br>Legal Growth Index: 0%<br>Tech Growth Index: 36%<br>Finance Growth Index: 40%",
            "<b>South Florida</b><br>Time Period: 2019-Q4<br>Class A Rent: $41.81<br>Class O Rent: $nan<br>Legal Growth Index: 52%<br>Tech Growth Index: 28%<br>Finance Growth Index: 54%",
            "<b>Tampa</b><br>Time Period: 2019-Q4<br>Class A Rent: $32.11<br>Class O Rent: $22.23<br>A/O Ratio: 1.44<br>Legal Growth Index: 1%<br>Tech Growth Index: 21%<br>Finance Growth Index: 44%",
            "<b>Tampa</b><br>Time Period: 2019-Q4<br>Class A Rent: $32.11<br>Class O Rent: $22.23<br>A/O Ratio: 1.44<br>Legal Growth Index: 1%<br>Tech Growth Index: 25%<br>Finance Growth Index: 42%"
           ],
           "type": "scattergeo"
          }
         ],
         "layout": {
          "title": {
           "text": "US Market Rental Rates Over Time: 2019-Q4"
          }
         },
         "name": "2019-Q4"
        },
        {
         "data": [
          {
           "hoverinfo": "text",
           "lat": {
            "bdata": "HVpkO9/fQEAdWmQ7399AQL99HThnRD5AodY07zilQ0Ch1jTvOKVDQBKlvcEXLkVAEqW9wRcuRUD3deCcEZ1BQPd14JwRnUFAvHSTGAQGRUC8dJMYBAZFQN9PjZduKkVA30+Nl24qRUDf4AuTqcI9QN/gC5Opwj1A9GxWfa4GQUD0bFZ9rgZBQLG/7J48ZERAsb/snjxkREBn1edqK15EQGfV52orXkRAqRPQRNhwQ0CpE9BE2HBDQLUV+8vu+UNAtRX7y+75Q0Bhw9MrZblAQGHD0ytluUBA/mX35GFhRECk374OnFtAQKTfvg6cW0BA0NVW7C/jQkDQ1VbsL+NCQOhqK/aXzUdA6Gor9pfNR0D7XG3F/sI5QN6Th4Va8ztA3pOHhVrzO0A=",
            "dtype": "f8"
           },
           "lon": {
            "bdata": "Rrbz/dQYVcBGtvP91BhVwBZqTfOOb1jAZRniWBcnU8BlGeJYFydTwABvgQTFw1HAAG+BBMXDUcB90LNZ9TVUwH3Qs1n1NVTA3bWEfNDrVcDdtYR80OtVwJf/kH77wlTAl/+QfvvCVMDkg57NqtdXwOSDns2q11fAQYLix5iPXcBBguLHmI9dwAN4CyQoflLAA3gLJCh+UsAldQKaCItSwCV1ApoIi1LA5/up8dJFU8Dn+6nx0kVTwCZTBaOSylLAJlMFo5LKUsDb+X5qvARcwNv5fmq8BFzAGy/dJAb5W8Cu2F92T0pdwK7YX3ZPSl3AUPwYc9eaXsBQ/Bhz15pewBrAWyBBlV7AGsBbIEGVXsDc14FzRgxUwMzuycNCnVTAzO7Jw0KdVMA=",
            "dtype": "f8"
           },
           "marker": {
            "cmax": 94.191224222457,
            "cmin": 20.9981865703684,
            "color": {
             "bdata": "N3KTvNQIQEA3cpO81AhAQKDuTW4PeUVAvucbchjHOkC+5xtyGMc6QADVVsFYRkhAANVWwVhGSEA8fCTIkGFAQDx8JMiQYUBAuzNHf+OkO0C7M0d/46Q7QGPk0BR9uTZAY+TQFH25NkCX8cW4pMZAQJfxxbikxkBAYkcNxqkiR0BiRw3GqSJHQBtwAAnVKFdAG3AACdUoV0BceGn9Kz4+QFx4af0rPj5A2oqvxGJyQkDaiq/EYnJCQB6QzRmCjD5AHpDNGYKMPkA6OVRmRbc/QDo5VGZFtz9AAAAAAAAA+H/qS0UQEi5FQOpLRRASLkVA1Pqxzq7iVUDU+rHOruJVQFgHwu05JEhAWAfC7TkkSECZV+TIN1xFQFkTOzjj5z5AWRM7OOPnPkA=",
             "dtype": "f8"
            },
            "colorbar": {
             "len": 0.6,
             "thickness": 15,
             "title": {
              "text": "Class A Rent ($)"
             },
             "y": 0.5,
             "yanchor": "middle"
            },
            "colorscale": [
             [
              0,
              "#440154"
             ],
             [
              0.1111111111111111,
              "#482878"
             ],
             [
              0.2222222222222222,
              "#3e4989"
             ],
             [
              0.3333333333333333,
              "#31688e"
             ],
             [
              0.4444444444444444,
              "#26828e"
             ],
             [
              0.5555555555555556,
              "#1f9e89"
             ],
             [
              0.6666666666666666,
              "#35b779"
             ],
             [
              0.7777777777777778,
              "#6ece58"
             ],
             [
              0.8888888888888888,
              "#b5de2b"
             ],
             [
              1,
              "#fde725"
             ]
            ],
            "line": {
             "color": "DarkSlateGrey",
             "width": 1
            },
            "size": {
             "bdata": "ErHRAr60KEASsdECvrQoQLcmSBNrkTBAmYkCTm3GJUCZiQJObcYlQMBE2IzjPDNAwETYjOM8M0DG1kKTpycpQMbWQpOnJylAJt3dzFgwJkAm3d3MWDAmQKTiM+8vSiRApOIz7y9KJEC2H+QBvK4pQLYf5AG8rilARi4zUaQdMkBGLjNRpB0yQNjSPCnkXUhA2NI8KeRdSECYdPysT5cnQJh0/KxPlydA1oqi/rAYLEDWiqL+sBgsQKizR8NUxSdAqLNHw1TFJ0CEiy6SkXsoQISLLpKReyhAAAAAAAAALkBaDeKWi04wQFoN4paLTjBAGU2iXGVWRkAZTaJcZVZGQJr8uZqmGjNAmvy5mqYaM0AfUQ06l3cwQCQEy5/z+ydAJATLn/P7J0A=",
             "dtype": "f8"
            }
           },
           "mode": "markers",
           "name": "2020-Q1",
           "text": [
            "<b>Atlanta</b><br>Time Period: 2020-Q1<br>Class A Rent: $32.07<br>Class O Rent: $21.72<br>A/O Ratio: 1.48<br>Legal Growth Index: 36%<br>Tech Growth Index: 99%<br>Finance Growth Index: 56%",
            "<b>Atlanta</b><br>Time Period: 2020-Q1<br>Class A Rent: $32.07<br>Class O Rent: $21.72<br>A/O Ratio: 1.48<br>Legal Growth Index: 36%<br>Tech Growth Index: 70%<br>Finance Growth Index: 36%",
            "<b>Austin</b><br>Time Period: 2020-Q1<br>Class A Rent: $42.95<br>Class O Rent: $nan<br>Legal Growth Index: 32%<br>Tech Growth Index: 40%<br>Finance Growth Index: 64%",
            "<b>Baltimore</b><br>Time Period: 2020-Q1<br>Class A Rent: $26.78<br>Class O Rent: $20.22<br>A/O Ratio: 1.32<br>Legal Growth Index: -26%<br>Tech Growth Index: 52%<br>Finance Growth Index: 90%",
            "<b>Baltimore</b><br>Time Period: 2020-Q1<br>Class A Rent: $26.78<br>Class O Rent: $20.22<br>A/O Ratio: 1.32<br>Legal Growth Index: -26%<br>Tech Growth Index: 22%<br>Finance Growth Index: 89%",
            "<b>Boston</b><br>Time Period: 2020-Q1<br>Class A Rent: $48.55<br>Class O Rent: $23.49<br>A/O Ratio: 2.07<br>Legal Growth Index: 106%<br>Tech Growth Index: 40%<br>Finance Growth Index: 64%",
            "<b>Boston</b><br>Time Period: 2020-Q1<br>Class A Rent: $48.55<br>Class O Rent: $23.49<br>A/O Ratio: 2.07<br>Legal Growth Index: 106%<br>Tech Growth Index: 26%<br>Finance Growth Index: 51%",
            "<b>Charlotte</b><br>Time Period: 2020-Q1<br>Class A Rent: $32.76<br>Class O Rent: $25.63<br>A/O Ratio: 1.28<br>Legal Growth Index: 85%<br>Tech Growth Index: 76%<br>Finance Growth Index: 115%",
            "<b>Charlotte</b><br>Time Period: 2020-Q1<br>Class A Rent: $32.76<br>Class O Rent: $25.63<br>A/O Ratio: 1.28<br>Legal Growth Index: 49%<br>Tech Growth Index: 76%<br>Finance Growth Index: 101%",
            "<b>Chicago Suburbs</b><br>Time Period: 2020-Q1<br>Class A Rent: $27.64<br>Class O Rent: $20.56<br>A/O Ratio: 1.34<br>Legal Growth Index: -100%<br>Tech Growth Index: 95%<br>Finance Growth Index: 2%",
            "<b>Chicago Suburbs</b><br>Time Period: 2020-Q1<br>Class A Rent: $27.64<br>Class O Rent: $20.56<br>A/O Ratio: 1.34<br>Legal Growth Index: -100%<br>Tech Growth Index: 95%<br>Finance Growth Index: 8%",
            "<b>Detroit</b><br>Time Period: 2020-Q1<br>Class A Rent: $22.72<br>Class O Rent: $18.08<br>A/O Ratio: 1.26<br>Legal Growth Index: 73%<br>Tech Growth Index: -27%<br>Finance Growth Index: -6%",
            "<b>Detroit</b><br>Time Period: 2020-Q1<br>Class A Rent: $22.72<br>Class O Rent: $18.08<br>A/O Ratio: 1.26<br>Legal Growth Index: 73%<br>Tech Growth Index: 125%<br>Finance Growth Index: 44%",
            "<b>Houston</b><br>Time Period: 2020-Q1<br>Class A Rent: $33.55<br>Class O Rent: $21.84<br>A/O Ratio: 1.54<br>Legal Growth Index: 61%<br>Tech Growth Index: 156%<br>Finance Growth Index: 48%",
            "<b>Houston</b><br>Time Period: 2020-Q1<br>Class A Rent: $33.55<br>Class O Rent: $21.84<br>A/O Ratio: 1.54<br>Legal Growth Index: -7%<br>Tech Growth Index: 45%<br>Finance Growth Index: -17%",
            "<b>Los Angeles</b><br>Time Period: 2020-Q1<br>Class A Rent: $46.27<br>Class O Rent: $39.08<br>A/O Ratio: 1.18<br>Legal Growth Index: 53%<br>Tech Growth Index: 55%<br>Finance Growth Index: 26%",
            "<b>Los Angeles</b><br>Time Period: 2020-Q1<br>Class A Rent: $46.27<br>Class O Rent: $39.08<br>A/O Ratio: 1.18<br>Legal Growth Index: 53%<br>Tech Growth Index: -6%<br>Finance Growth Index: 25%",
            "<b>Manhattan</b><br>Time Period: 2020-Q1<br>Class A Rent: $92.64<br>Class O Rent: $64.47<br>A/O Ratio: 1.44<br>Legal Growth Index: 32%<br>Tech Growth Index: 43%<br>Finance Growth Index: 35%",
            "<b>Manhattan</b><br>Time Period: 2020-Q1<br>Class A Rent: $92.64<br>Class O Rent: $64.47<br>A/O Ratio: 1.44<br>Legal Growth Index: 25%<br>Tech Growth Index: 31%<br>Finance Growth Index: 14%",
            "<b>Northern New Jersey</b><br>Time Period: 2020-Q1<br>Class A Rent: $30.24<br>Class O Rent: $23.64<br>A/O Ratio: 1.28<br>Legal Growth Index: 45%<br>Tech Growth Index: 27%<br>Finance Growth Index: 71%",
            "<b>Northern New Jersey</b><br>Time Period: 2020-Q1<br>Class A Rent: $30.24<br>Class O Rent: $23.64<br>A/O Ratio: 1.28<br>Legal Growth Index: 45%<br>Tech Growth Index: 3%<br>Finance Growth Index: 71%",
            "<b>Northern Virginia</b><br>Time Period: 2020-Q1<br>Class A Rent: $36.89<br>Class O Rent: $30.95<br>A/O Ratio: 1.19<br>Legal Growth Index: 14%<br>Tech Growth Index: 22%<br>Finance Growth Index: 36%",
            "<b>Northern Virginia</b><br>Time Period: 2020-Q1<br>Class A Rent: $36.89<br>Class O Rent: $30.95<br>A/O Ratio: 1.19<br>Legal Growth Index: 14%<br>Tech Growth Index: -17%<br>Finance Growth Index: 28%",
            "<b>Philadelphia</b><br>Time Period: 2020-Q1<br>Class A Rent: $30.55<br>Class O Rent: $25.63<br>A/O Ratio: 1.19<br>Legal Growth Index: 132%<br>Tech Growth Index: 107%<br>Finance Growth Index: 40%",
            "<b>Philadelphia</b><br>Time Period: 2020-Q1<br>Class A Rent: $30.55<br>Class O Rent: $25.63<br>A/O Ratio: 1.19<br>Legal Growth Index: 122%<br>Tech Growth Index: 101%<br>Finance Growth Index: 57%",
            "<b>Phoenix</b><br>Time Period: 2020-Q1<br>Class A Rent: $31.72<br>Class O Rent: $24.51<br>A/O Ratio: 1.29<br>Legal Growth Index: 49%<br>Tech Growth Index: 113%<br>Finance Growth Index: 24%",
            "<b>Phoenix</b><br>Time Period: 2020-Q1<br>Class A Rent: $31.72<br>Class O Rent: $24.51<br>A/O Ratio: 1.29<br>Legal Growth Index: 49%<br>Tech Growth Index: 117%<br>Finance Growth Index: 36%",
            "<b>Salt Lake City</b><br>Time Period: 2020-Q1<br>Class A Rent: $nan<br>Class O Rent: $21.85<br>Legal Growth Index: 143%<br>Tech Growth Index: -60%<br>Finance Growth Index: -37%",
            "<b>San Diego</b><br>Time Period: 2020-Q1<br>Class A Rent: $42.36<br>Class O Rent: $34.34<br>A/O Ratio: 1.23<br>Legal Growth Index: 12%<br>Tech Growth Index: -25%<br>Finance Growth Index: -27%",
            "<b>San Diego</b><br>Time Period: 2020-Q1<br>Class A Rent: $42.36<br>Class O Rent: $34.34<br>A/O Ratio: 1.23<br>Legal Growth Index: 12%<br>Tech Growth Index: -20%<br>Finance Growth Index: -27%",
            "<b>San Francisco</b><br>Time Period: 2020-Q1<br>Class A Rent: $87.54<br>Class O Rent: $76.21<br>A/O Ratio: 1.15<br>Legal Growth Index: 47%<br>Tech Growth Index: 93%<br>Finance Growth Index: 59%",
            "<b>San Francisco</b><br>Time Period: 2020-Q1<br>Class A Rent: $87.54<br>Class O Rent: $76.21<br>A/O Ratio: 1.15<br>Legal Growth Index: 47%<br>Tech Growth Index: 51%<br>Finance Growth Index: 16%",
            "<b>Seattle</b><br>Time Period: 2020-Q1<br>Class A Rent: $48.28<br>Class O Rent: $30.23<br>A/O Ratio: 1.60<br>Legal Growth Index: 54%<br>Tech Growth Index: 83%<br>Finance Growth Index: 26%",
            "<b>Seattle</b><br>Time Period: 2020-Q1<br>Class A Rent: $48.28<br>Class O Rent: $30.23<br>A/O Ratio: 1.60<br>Legal Growth Index: 54%<br>Tech Growth Index: 55%<br>Finance Growth Index: 19%",
            "<b>South Florida</b><br>Time Period: 2020-Q1<br>Class A Rent: $42.72<br>Class O Rent: $nan<br>Legal Growth Index: 95%<br>Tech Growth Index: 20%<br>Finance Growth Index: 43%",
            "<b>Tampa</b><br>Time Period: 2020-Q1<br>Class A Rent: $30.91<br>Class O Rent: $22.64<br>A/O Ratio: 1.37<br>Legal Growth Index: 56%<br>Tech Growth Index: 13%<br>Finance Growth Index: 60%",
            "<b>Tampa</b><br>Time Period: 2020-Q1<br>Class A Rent: $30.91<br>Class O Rent: $22.64<br>A/O Ratio: 1.37<br>Legal Growth Index: 56%<br>Tech Growth Index: 1%<br>Finance Growth Index: 40%"
           ],
           "type": "scattergeo"
          }
         ],
         "layout": {
          "title": {
           "text": "US Market Rental Rates Over Time: 2020-Q1"
          }
         },
         "name": "2020-Q1"
        },
        {
         "data": [
          {
           "hoverinfo": "text",
           "lat": {
            "bdata": "HVpkO9/fQEAdWmQ7399AQL99HThnRD5AodY07zilQ0Ch1jTvOKVDQBKlvcEXLkVAEqW9wRcuRUD3deCcEZ1BQPd14JwRnUFAvHSTGAQGRUC8dJMYBAZFQN9PjZduKkVA30+Nl24qRUDf4AuTqcI9QN/gC5Opwj1A9GxWfa4GQUD0bFZ9rgZBQLG/7J48ZERAsb/snjxkREBn1edqK15EQGfV52orXkRAqRPQRNhwQ0CpE9BE2HBDQLUV+8vu+UNAtRX7y+75Q0Bhw9MrZblAQGHD0ytluUBApN++DpxbQECk374OnFtAQNDVVuwv40JA0NVW7C/jQkDoaiv2l81HQOhqK/aXzUdA+1xtxf7COUD7XG3F/sI5QN6Th4Va8ztA3pOHhVrzO0A=",
            "dtype": "f8"
           },
           "lon": {
            "bdata": "Rrbz/dQYVcBGtvP91BhVwBZqTfOOb1jAZRniWBcnU8BlGeJYFydTwABvgQTFw1HAAG+BBMXDUcB90LNZ9TVUwH3Qs1n1NVTA3bWEfNDrVcDdtYR80OtVwJf/kH77wlTAl/+QfvvCVMDkg57NqtdXwOSDns2q11fAQYLix5iPXcBBguLHmI9dwAN4CyQoflLAA3gLJCh+UsAldQKaCItSwCV1ApoIi1LA5/up8dJFU8Dn+6nx0kVTwCZTBaOSylLAJlMFo5LKUsDb+X5qvARcwNv5fmq8BFzArthfdk9KXcCu2F92T0pdwFD8GHPXml7AUPwYc9eaXsAawFsgQZVewBrAWyBBlV7A3NeBc0YMVMDc14FzRgxUwMzuycNCnVTAzO7Jw0KdVMA=",
            "dtype": "f8"
           },
           "marker": {
            "cmax": 94.191224222457,
            "cmin": 20.9981865703684,
            "color": {
             "bdata": "496M3fg+QEDj3ozd+D5AQBRHTogGpUVAtEaUIl+qOkC0RpQiX6o6QIxpSBG36EhAjGlIEbfoSEAn/TPkp+tAQCf9M+Sn60BAi8iJCumvO0CLyIkK6a87QB4Afgh+FzZAHgB+CH4XNkDzr3A9DblAQPOvcD0NuUBAmOlyWjYNR0CY6XJaNg1HQCmzd9H651ZAKbN30frnVkBCjLys5hI+QEKMvKzmEj5AE8FkhMpkQkATwWSEymRCQLJuZLSwlj5Asm5ktLCWPkBv/8H1UPc/QG//wfVQ9z9AEk4sFDQMRUASTiwUNAxFQMimxPq9oVRAyKbE+r2hVECr+EWGQiVIQKv4RYZCJUhArGqvMXIlRUCsaq8xciVFQOVtJW0XAT9A5W0lbRcBP0A=",
             "dtype": "f8"
            },
            "colorbar": {
             "len": 0.6,
             "thickness": 15,
             "title": {
              "text": "Class A Rent ($)"
             },
             "y": 0.5,
             "yanchor": "middle"
            },
            "colorscale": [
             [
              0,
              "#440154"
             ],
             [
              0.1111111111111111,
              "#482878"
             ],
             [
              0.2222222222222222,
              "#3e4989"
             ],
             [
              0.3333333333333333,
              "#31688e"
             ],
             [
              0.4444444444444444,
              "#26828e"
             ],
             [
              0.5555555555555556,
              "#1f9e89"
             ],
             [
              0.6666666666666666,
              "#35b779"
             ],
             [
              0.7777777777777778,
              "#6ece58"
             ],
             [
              0.8888888888888888,
              "#b5de2b"
             ],
             [
              1,
              "#fde725"
             ]
            ],
            "line": {
             "color": "DarkSlateGrey",
             "width": 1
            },
            "size": {
             "bdata": "UatC8XD6KEBRq0LxcPooQOXkjx0LuTBA9V8LGEK5JUD1XwsYQrklQJrENh0U4jNAmsQ2HRTiM0CuLCbkSOEpQK4sJuRI4SlARpn6+8w1JkBGmfr7zDUmQIvqDg5nJSRAi+oODmclJED+uyL0UJwpQP67IvRQnClAlaAHuQIJMkCVoAe5AgkyQEPzw6ES9UdAQ/PDoRL1R0DhYrDaNn4nQOFisNo2fidAKKbE0vMDLEAopsTS8wMsQKQK2BZeyydApArYFl7LJ0BAbLuK+6MoQEBsu4r7oyhApcELRKQwMEClwQtEpDAwQEh3lftBakRASHeV+0FqREC/d3x8rxszQL93fHyvGzNAdtrHlelGMEB22seV6UYwQAmQij8xCyhACZCKPzELKEA=",
             "dtype": "f8"
            }
           },
           "mode": "markers",
           "name": "2020-Q2",
           "text": [
            "<b>Atlanta</b><br>Time Period: 2020-Q2<br>Class A Rent: $32.49<br>Class O Rent: $22.23<br>A/O Ratio: 1.46<br>Legal Growth Index: 95%<br>Tech Growth Index: 144%<br>Finance Growth Index: 75%",
            "<b>Atlanta</b><br>Time Period: 2020-Q2<br>Class A Rent: $32.49<br>Class O Rent: $22.23<br>A/O Ratio: 1.46<br>Legal Growth Index: 95%<br>Tech Growth Index: 144%<br>Finance Growth Index: 52%",
            "<b>Austin</b><br>Time Period: 2020-Q2<br>Class A Rent: $43.29<br>Class O Rent: $nan<br>Legal Growth Index: 87%<br>Tech Growth Index: 0%<br>Finance Growth Index: 49%",
            "<b>Baltimore</b><br>Time Period: 2020-Q2<br>Class A Rent: $26.67<br>Class O Rent: $20.21<br>A/O Ratio: 1.32<br>Legal Growth Index: 67%<br>Tech Growth Index: 54%<br>Finance Growth Index: 76%",
            "<b>Baltimore</b><br>Time Period: 2020-Q2<br>Class A Rent: $26.67<br>Class O Rent: $20.21<br>A/O Ratio: 1.32<br>Legal Growth Index: 67%<br>Tech Growth Index: 54%<br>Finance Growth Index: 87%",
            "<b>Boston</b><br>Time Period: 2020-Q2<br>Class A Rent: $49.82<br>Class O Rent: $24.12<br>A/O Ratio: 2.07<br>Legal Growth Index: 81%<br>Tech Growth Index: 115%<br>Finance Growth Index: 43%",
            "<b>Boston</b><br>Time Period: 2020-Q2<br>Class A Rent: $49.82<br>Class O Rent: $24.12<br>A/O Ratio: 2.07<br>Legal Growth Index: 53%<br>Tech Growth Index: 99%<br>Finance Growth Index: 43%",
            "<b>Charlotte</b><br>Time Period: 2020-Q2<br>Class A Rent: $33.84<br>Class O Rent: $25.85<br>A/O Ratio: 1.31<br>Legal Growth Index: 111%<br>Tech Growth Index: 64%<br>Finance Growth Index: 86%",
            "<b>Charlotte</b><br>Time Period: 2020-Q2<br>Class A Rent: $33.84<br>Class O Rent: $25.85<br>A/O Ratio: 1.31<br>Legal Growth Index: 111%<br>Tech Growth Index: 46%<br>Finance Growth Index: 66%",
            "<b>Chicago Suburbs</b><br>Time Period: 2020-Q2<br>Class A Rent: $27.69<br>Class O Rent: $20.47<br>A/O Ratio: 1.35<br>Legal Growth Index: 66%<br>Tech Growth Index: 51%<br>Finance Growth Index: 21%",
            "<b>Chicago Suburbs</b><br>Time Period: 2020-Q2<br>Class A Rent: $27.69<br>Class O Rent: $20.47<br>A/O Ratio: 1.35<br>Legal Growth Index: 13%<br>Tech Growth Index: 51%<br>Finance Growth Index: 21%",
            "<b>Detroit</b><br>Time Period: 2020-Q2<br>Class A Rent: $22.09<br>Class O Rent: $18.38<br>A/O Ratio: 1.20<br>Legal Growth Index: -7%<br>Tech Growth Index: 45%<br>Finance Growth Index: 5%",
            "<b>Detroit</b><br>Time Period: 2020-Q2<br>Class A Rent: $22.09<br>Class O Rent: $18.38<br>A/O Ratio: 1.20<br>Legal Growth Index: -7%<br>Tech Growth Index: 45%<br>Finance Growth Index: -12%",
            "<b>Houston</b><br>Time Period: 2020-Q2<br>Class A Rent: $33.45<br>Class O Rent: $21.68<br>A/O Ratio: 1.54<br>Legal Growth Index: 64%<br>Tech Growth Index: 89%<br>Finance Growth Index: 92%",
            "<b>Houston</b><br>Time Period: 2020-Q2<br>Class A Rent: $33.45<br>Class O Rent: $21.68<br>A/O Ratio: 1.54<br>Legal Growth Index: 76%<br>Tech Growth Index: 81%<br>Finance Growth Index: 61%",
            "<b>Los Angeles</b><br>Time Period: 2020-Q2<br>Class A Rent: $46.10<br>Class O Rent: $38.95<br>A/O Ratio: 1.18<br>Legal Growth Index: 59%<br>Tech Growth Index: 36%<br>Finance Growth Index: 83%",
            "<b>Los Angeles</b><br>Time Period: 2020-Q2<br>Class A Rent: $46.10<br>Class O Rent: $38.95<br>A/O Ratio: 1.18<br>Legal Growth Index: 50%<br>Tech Growth Index: 11%<br>Finance Growth Index: 83%",
            "<b>Manhattan</b><br>Time Period: 2020-Q2<br>Class A Rent: $91.62<br>Class O Rent: $63.91<br>A/O Ratio: 1.43<br>Legal Growth Index: 66%<br>Tech Growth Index: 69%<br>Finance Growth Index: 29%",
            "<b>Manhattan</b><br>Time Period: 2020-Q2<br>Class A Rent: $91.62<br>Class O Rent: $63.91<br>A/O Ratio: 1.43<br>Legal Growth Index: 27%<br>Tech Growth Index: 38%<br>Finance Growth Index: 12%",
            "<b>Northern New Jersey</b><br>Time Period: 2020-Q2<br>Class A Rent: $30.07<br>Class O Rent: $23.64<br>A/O Ratio: 1.27<br>Legal Growth Index: 27%<br>Tech Growth Index: 6%<br>Finance Growth Index: 8%",
            "<b>Northern New Jersey</b><br>Time Period: 2020-Q2<br>Class A Rent: $30.07<br>Class O Rent: $23.64<br>A/O Ratio: 1.27<br>Legal Growth Index: 27%<br>Tech Growth Index: 6%<br>Finance Growth Index: 11%",
            "<b>Northern Virginia</b><br>Time Period: 2020-Q2<br>Class A Rent: $36.79<br>Class O Rent: $30.97<br>A/O Ratio: 1.19<br>Legal Growth Index: 26%<br>Tech Growth Index: 19%<br>Finance Growth Index: 32%",
            "<b>Northern Virginia</b><br>Time Period: 2020-Q2<br>Class A Rent: $36.79<br>Class O Rent: $30.97<br>A/O Ratio: 1.19<br>Legal Growth Index: 26%<br>Tech Growth Index: -20%<br>Finance Growth Index: 21%",
            "<b>Philadelphia</b><br>Time Period: 2020-Q2<br>Class A Rent: $30.59<br>Class O Rent: $25.56<br>A/O Ratio: 1.20<br>Legal Growth Index: 52%<br>Tech Growth Index: 109%<br>Finance Growth Index: 98%",
            "<b>Philadelphia</b><br>Time Period: 2020-Q2<br>Class A Rent: $30.59<br>Class O Rent: $25.56<br>A/O Ratio: 1.20<br>Legal Growth Index: 52%<br>Tech Growth Index: 59%<br>Finance Growth Index: 95%",
            "<b>Phoenix</b><br>Time Period: 2020-Q2<br>Class A Rent: $31.97<br>Class O Rent: $24.83<br>A/O Ratio: 1.29<br>Legal Growth Index: 2%<br>Tech Growth Index: 34%<br>Finance Growth Index: 89%",
            "<b>Phoenix</b><br>Time Period: 2020-Q2<br>Class A Rent: $31.97<br>Class O Rent: $24.83<br>A/O Ratio: 1.29<br>Legal Growth Index: 2%<br>Tech Growth Index: 34%<br>Finance Growth Index: 125%",
            "<b>San Diego</b><br>Time Period: 2020-Q2<br>Class A Rent: $42.10<br>Class O Rent: $33.80<br>A/O Ratio: 1.25<br>Legal Growth Index: -78%<br>Tech Growth Index: 76%<br>Finance Growth Index: 36%",
            "<b>San Diego</b><br>Time Period: 2020-Q2<br>Class A Rent: $42.10<br>Class O Rent: $33.80<br>A/O Ratio: 1.25<br>Legal Growth Index: -85%<br>Tech Growth Index: 63%<br>Finance Growth Index: 36%",
            "<b>San Francisco</b><br>Time Period: 2020-Q2<br>Class A Rent: $82.53<br>Class O Rent: $74.24<br>A/O Ratio: 1.11<br>Legal Growth Index: 24%<br>Tech Growth Index: 43%<br>Finance Growth Index: 37%",
            "<b>San Francisco</b><br>Time Period: 2020-Q2<br>Class A Rent: $82.53<br>Class O Rent: $74.24<br>A/O Ratio: 1.11<br>Legal Growth Index: 24%<br>Tech Growth Index: 40%<br>Finance Growth Index: 37%",
            "<b>Seattle</b><br>Time Period: 2020-Q2<br>Class A Rent: $48.29<br>Class O Rent: $30.48<br>A/O Ratio: 1.58<br>Legal Growth Index: 113%<br>Tech Growth Index: 65%<br>Finance Growth Index: 73%",
            "<b>Seattle</b><br>Time Period: 2020-Q2<br>Class A Rent: $48.29<br>Class O Rent: $30.48<br>A/O Ratio: 1.58<br>Legal Growth Index: 113%<br>Tech Growth Index: 83%<br>Finance Growth Index: 109%",
            "<b>South Florida</b><br>Time Period: 2020-Q2<br>Class A Rent: $42.29<br>Class O Rent: $29.92<br>A/O Ratio: 1.41<br>Legal Growth Index: 64%<br>Tech Growth Index: 91%<br>Finance Growth Index: 72%",
            "<b>South Florida</b><br>Time Period: 2020-Q2<br>Class A Rent: $42.29<br>Class O Rent: $29.92<br>A/O Ratio: 1.41<br>Legal Growth Index: 57%<br>Tech Growth Index: 91%<br>Finance Growth Index: 68%",
            "<b>Tampa</b><br>Time Period: 2020-Q2<br>Class A Rent: $31.00<br>Class O Rent: $22.19<br>A/O Ratio: 1.40<br>Legal Growth Index: 17%<br>Tech Growth Index: 57%<br>Finance Growth Index: 54%",
            "<b>Tampa</b><br>Time Period: 2020-Q2<br>Class A Rent: $31.00<br>Class O Rent: $22.19<br>A/O Ratio: 1.40<br>Legal Growth Index: 17%<br>Tech Growth Index: 57%<br>Finance Growth Index: 39%"
           ],
           "type": "scattergeo"
          }
         ],
         "layout": {
          "title": {
           "text": "US Market Rental Rates Over Time: 2020-Q2"
          }
         },
         "name": "2020-Q2"
        },
        {
         "data": [
          {
           "hoverinfo": "text",
           "lat": {
            "bdata": "HVpkO9/fQEAdWmQ7399AQL99HThnRD5Av30dOGdEPkCh1jTvOKVDQKHWNO84pUNAEqW9wRcuRUASpb3BFy5FQPd14JwRnUFA93XgnBGdQUC8dJMYBAZFQN9PjZduKkVA30+Nl24qRUDf4AuTqcI9QN/gC5Opwj1A9GxWfa4GQUD0bFZ9rgZBQLG/7J48ZERAsb/snjxkREBn1edqK15EQGfV52orXkRAqRPQRNhwQ0CpE9BE2HBDQLUV+8vu+UNAtRX7y+75Q0Bhw9MrZblAQGHD0ytluUBApN++DpxbQECk374OnFtAQNDVVuwv40JA0NVW7C/jQkDoaiv2l81HQOhqK/aXzUdA+1xtxf7COUD7XG3F/sI5QN6Th4Va8ztA3pOHhVrzO0A=",
            "dtype": "f8"
           },
           "lon": {
            "bdata": "Rrbz/dQYVcBGtvP91BhVwBZqTfOOb1jAFmpN845vWMBlGeJYFydTwGUZ4lgXJ1PAAG+BBMXDUcAAb4EExcNRwH3Qs1n1NVTAfdCzWfU1VMDdtYR80OtVwJf/kH77wlTAl/+QfvvCVMDkg57NqtdXwOSDns2q11fAQYLix5iPXcBBguLHmI9dwAN4CyQoflLAA3gLJCh+UsAldQKaCItSwCV1ApoIi1LA5/up8dJFU8Dn+6nx0kVTwCZTBaOSylLAJlMFo5LKUsDb+X5qvARcwNv5fmq8BFzArthfdk9KXcCu2F92T0pdwFD8GHPXml7AUPwYc9eaXsAawFsgQZVewBrAWyBBlV7A3NeBc0YMVMDc14FzRgxUwMzuycNCnVTAzO7Jw0KdVMA=",
            "dtype": "f8"
           },
           "marker": {
            "cmax": 94.191224222457,
            "cmin": 20.9981865703684,
            "color": {
             "bdata": "apWwv2VJQEBqlbC/ZUlAQHS8B09Az0VAdLwHT0DPRUBwQJBhh+o6QHBAkGGH6jpAUv/mDp31SEBS/+YOnfVIQHd2TuxU10BAd3ZO7FTXQEAAAAAAAAD4f8IkJ8lOJTZAwiQnyU4lNkC3Yc5rruFAQLdhzmuu4UBAzgmXvNOJR0DOCZe804lHQMXx6doBhVZAxfHp2gGFVkB4NjCKpQ8+QHg2MIqlDz5AkilDLQZrQkCSKUMtBmtCQGPD6JRpnD5AY8PolGmcPkDxiiT/xfI/QPGKJP/F8j9AmMTD9NDbRECYxMP00NtEQCDpnNYtrFNAIOmc1i2sU0Cv+/RcSNtGQK/79FxI20ZAQggoAh7sREBCCCgCHuxEQJS2Tba3UD9AlLZNtrdQP0A=",
             "dtype": "f8"
            },
            "colorbar": {
             "len": 0.6,
             "thickness": 15,
             "title": {
              "text": "Class A Rent ($)"
             },
             "y": 0.5,
             "yanchor": "middle"
            },
            "colorscale": [
             [
              0,
              "#440154"
             ],
             [
              0.1111111111111111,
              "#482878"
             ],
             [
              0.2222222222222222,
              "#3e4989"
             ],
             [
              0.3333333333333333,
              "#31688e"
             ],
             [
              0.4444444444444444,
              "#26828e"
             ],
             [
              0.5555555555555556,
              "#1f9e89"
             ],
             [
              0.6666666666666666,
              "#35b779"
             ],
             [
              0.7777777777777778,
              "#6ece58"
             ],
             [
              0.8888888888888888,
              "#b5de2b"
             ],
             [
              1,
              "#fde725"
             ]
            ],
            "line": {
             "color": "DarkSlateGrey",
             "width": 1
            },
            "size": {
             "bdata": "OVvZ/AIIKUA5W9n8AggpQLnsVKlj3zBAuexUqWPfMEDSODNA2dYlQNI4M0DZ1iVAZg8zG1zvM0BmDzMbXO8zQOmch5l0xSlA6ZyHmXTFKUAAAAAAAAAuQFHsJoA0KCRAUewmgDQoJEAKOMvzmtMpQAo4y/Oa0ylAlOkvLNGBMkCU6S8s0YEyQE2RDayNVkdATZENrI1WR0AWCeQJVnwnQBYJ5AlWfCdADv6a0HMNLEAO/prQcw0sQC4zXfPDzidALjNd88POJ0DzdV3CGaEoQPN1XcIZoShA5eUX7j0GMEDl5RfuPQYwQMEynoTx/kJAwTKehPH+QkAMlxBjQdkxQAyXEGNB2TFAJAdFpHsUMEAkB0WkexQwQBLv34bVOyhAEu/fhtU7KEA=",
             "dtype": "f8"
            }
           },
           "mode": "markers",
           "name": "2020-Q3",
           "text": [
            "<b>Atlanta</b><br>Time Period: 2020-Q3<br>Class A Rent: $32.57<br>Class O Rent: $22.29<br>A/O Ratio: 1.46<br>Legal Growth Index: 56%<br>Tech Growth Index: 75%<br>Finance Growth Index: 105%",
            "<b>Atlanta</b><br>Time Period: 2020-Q3<br>Class A Rent: $32.57<br>Class O Rent: $22.29<br>A/O Ratio: 1.46<br>Legal Growth Index: 56%<br>Tech Growth Index: 75%<br>Finance Growth Index: 39%",
            "<b>Austin</b><br>Time Period: 2020-Q3<br>Class A Rent: $43.62<br>Class O Rent: $34.48<br>A/O Ratio: 1.27<br>Legal Growth Index: 87%<br>Tech Growth Index: 44%<br>Finance Growth Index: 37%",
            "<b>Austin</b><br>Time Period: 2020-Q3<br>Class A Rent: $43.62<br>Class O Rent: $34.48<br>A/O Ratio: 1.27<br>Legal Growth Index: 87%<br>Tech Growth Index: 58%<br>Finance Growth Index: 37%",
            "<b>Baltimore</b><br>Time Period: 2020-Q3<br>Class A Rent: $26.92<br>Class O Rent: $20.47<br>A/O Ratio: 1.31<br>Legal Growth Index: 104%<br>Tech Growth Index: 69%<br>Finance Growth Index: 50%",
            "<b>Baltimore</b><br>Time Period: 2020-Q3<br>Class A Rent: $26.92<br>Class O Rent: $20.47<br>A/O Ratio: 1.31<br>Legal Growth Index: 104%<br>Tech Growth Index: 69%<br>Finance Growth Index: 17%",
            "<b>Boston</b><br>Time Period: 2020-Q3<br>Class A Rent: $49.92<br>Class O Rent: $24.41<br>A/O Ratio: 2.05<br>Legal Growth Index: 122%<br>Tech Growth Index: 16%<br>Finance Growth Index: 57%",
            "<b>Boston</b><br>Time Period: 2020-Q3<br>Class A Rent: $49.92<br>Class O Rent: $24.41<br>A/O Ratio: 2.05<br>Legal Growth Index: 109%<br>Tech Growth Index: 18%<br>Finance Growth Index: 57%",
            "<b>Charlotte</b><br>Time Period: 2020-Q3<br>Class A Rent: $33.68<br>Class O Rent: $25.81<br>A/O Ratio: 1.31<br>Legal Growth Index: 144%<br>Tech Growth Index: 44%<br>Finance Growth Index: 71%",
            "<b>Charlotte</b><br>Time Period: 2020-Q3<br>Class A Rent: $33.68<br>Class O Rent: $25.81<br>A/O Ratio: 1.31<br>Legal Growth Index: 144%<br>Tech Growth Index: 44%<br>Finance Growth Index: 48%",
            "<b>Chicago Suburbs</b><br>Time Period: 2020-Q3<br>Class A Rent: $nan<br>Class O Rent: $20.44<br>Legal Growth Index: 13%<br>Tech Growth Index: 61%<br>Finance Growth Index: 71%",
            "<b>Detroit</b><br>Time Period: 2020-Q3<br>Class A Rent: $22.15<br>Class O Rent: $18.70<br>A/O Ratio: 1.18<br>Legal Growth Index: 79%<br>Tech Growth Index: 26%<br>Finance Growth Index: 17%",
            "<b>Detroit</b><br>Time Period: 2020-Q3<br>Class A Rent: $22.15<br>Class O Rent: $18.70<br>A/O Ratio: 1.18<br>Legal Growth Index: 79%<br>Tech Growth Index: 26%<br>Finance Growth Index: 24%",
            "<b>Houston</b><br>Time Period: 2020-Q3<br>Class A Rent: $33.76<br>Class O Rent: $21.75<br>A/O Ratio: 1.55<br>Legal Growth Index: 57%<br>Tech Growth Index: 16%<br>Finance Growth Index: 94%",
            "<b>Houston</b><br>Time Period: 2020-Q3<br>Class A Rent: $33.76<br>Class O Rent: $21.75<br>A/O Ratio: 1.55<br>Legal Growth Index: 57%<br>Tech Growth Index: 4%<br>Finance Growth Index: 94%",
            "<b>Los Angeles</b><br>Time Period: 2020-Q3<br>Class A Rent: $47.08<br>Class O Rent: $38.19<br>A/O Ratio: 1.23<br>Legal Growth Index: 53%<br>Tech Growth Index: 99%<br>Finance Growth Index: 11%",
            "<b>Los Angeles</b><br>Time Period: 2020-Q3<br>Class A Rent: $47.08<br>Class O Rent: $38.19<br>A/O Ratio: 1.23<br>Legal Growth Index: 53%<br>Tech Growth Index: 30%<br>Finance Growth Index: -17%",
            "<b>Manhattan</b><br>Time Period: 2020-Q3<br>Class A Rent: $90.08<br>Class O Rent: $62.31<br>A/O Ratio: 1.45<br>Legal Growth Index: 56%<br>Tech Growth Index: 61%<br>Finance Growth Index: 66%",
            "<b>Manhattan</b><br>Time Period: 2020-Q3<br>Class A Rent: $90.08<br>Class O Rent: $62.31<br>A/O Ratio: 1.45<br>Legal Growth Index: -1%<br>Tech Growth Index: 4%<br>Finance Growth Index: 23%",
            "<b>Northern New Jersey</b><br>Time Period: 2020-Q3<br>Class A Rent: $30.06<br>Class O Rent: $23.70<br>A/O Ratio: 1.27<br>Legal Growth Index: 208%<br>Tech Growth Index: -9%<br>Finance Growth Index: 128%",
            "<b>Northern New Jersey</b><br>Time Period: 2020-Q3<br>Class A Rent: $30.06<br>Class O Rent: $23.70<br>A/O Ratio: 1.27<br>Legal Growth Index: -3%<br>Tech Growth Index: -37%<br>Finance Growth Index: 19%",
            "<b>Northern Virginia</b><br>Time Period: 2020-Q3<br>Class A Rent: $36.84<br>Class O Rent: $30.90<br>A/O Ratio: 1.19<br>Legal Growth Index: 6%<br>Tech Growth Index: -14%<br>Finance Growth Index: 11%",
            "<b>Northern Virginia</b><br>Time Period: 2020-Q3<br>Class A Rent: $36.84<br>Class O Rent: $30.90<br>A/O Ratio: 1.19<br>Legal Growth Index: 6%<br>Tech Growth Index: -31%<br>Finance Growth Index: 2%",
            "<b>Philadelphia</b><br>Time Period: 2020-Q3<br>Class A Rent: $30.61<br>Class O Rent: $25.88<br>A/O Ratio: 1.18<br>Legal Growth Index: 100%<br>Tech Growth Index: 76%<br>Finance Growth Index: 90%",
            "<b>Philadelphia</b><br>Time Period: 2020-Q3<br>Class A Rent: $30.61<br>Class O Rent: $25.88<br>A/O Ratio: 1.18<br>Legal Growth Index: 83%<br>Tech Growth Index: 59%<br>Finance Growth Index: 90%",
            "<b>Phoenix</b><br>Time Period: 2020-Q3<br>Class A Rent: $31.95<br>Class O Rent: $24.91<br>A/O Ratio: 1.28<br>Legal Growth Index: 22%<br>Tech Growth Index: 95%<br>Finance Growth Index: 83%",
            "<b>Phoenix</b><br>Time Period: 2020-Q3<br>Class A Rent: $31.95<br>Class O Rent: $24.91<br>A/O Ratio: 1.28<br>Legal Growth Index: 22%<br>Tech Growth Index: 102%<br>Finance Growth Index: 102%",
            "<b>San Diego</b><br>Time Period: 2020-Q3<br>Class A Rent: $41.72<br>Class O Rent: $33.61<br>A/O Ratio: 1.24<br>Legal Growth Index: 30%<br>Tech Growth Index: 42%<br>Finance Growth Index: -14%",
            "<b>San Diego</b><br>Time Period: 2020-Q3<br>Class A Rent: $41.72<br>Class O Rent: $33.61<br>A/O Ratio: 1.24<br>Legal Growth Index: 30%<br>Tech Growth Index: 42%<br>Finance Growth Index: 21%",
            "<b>San Francisco</b><br>Time Period: 2020-Q3<br>Class A Rent: $78.69<br>Class O Rent: $71.59<br>A/O Ratio: 1.10<br>Legal Growth Index: 43%<br>Tech Growth Index: 75%<br>Finance Growth Index: -13%",
            "<b>San Francisco</b><br>Time Period: 2020-Q3<br>Class A Rent: $78.69<br>Class O Rent: $71.59<br>A/O Ratio: 1.10<br>Legal Growth Index: 43%<br>Tech Growth Index: 53%<br>Finance Growth Index: -13%",
            "<b>Seattle</b><br>Time Period: 2020-Q3<br>Class A Rent: $45.71<br>Class O Rent: $30.64<br>A/O Ratio: 1.49<br>Legal Growth Index: 113%<br>Tech Growth Index: 67%<br>Finance Growth Index: 131%",
            "<b>Seattle</b><br>Time Period: 2020-Q3<br>Class A Rent: $45.71<br>Class O Rent: $30.64<br>A/O Ratio: 1.49<br>Legal Growth Index: 113%<br>Tech Growth Index: 39%<br>Finance Growth Index: 26%",
            "<b>South Florida</b><br>Time Period: 2020-Q3<br>Class A Rent: $41.84<br>Class O Rent: $30.28<br>A/O Ratio: 1.38<br>Legal Growth Index: 23%<br>Tech Growth Index: 69%<br>Finance Growth Index: 91%",
            "<b>South Florida</b><br>Time Period: 2020-Q3<br>Class A Rent: $41.84<br>Class O Rent: $30.28<br>A/O Ratio: 1.38<br>Legal Growth Index: 23%<br>Tech Growth Index: 91%<br>Finance Growth Index: 91%",
            "<b>Tampa</b><br>Time Period: 2020-Q3<br>Class A Rent: $31.32<br>Class O Rent: $22.48<br>A/O Ratio: 1.39<br>Legal Growth Index: -42%<br>Tech Growth Index: 7%<br>Finance Growth Index: 6%",
            "<b>Tampa</b><br>Time Period: 2020-Q3<br>Class A Rent: $31.32<br>Class O Rent: $22.48<br>A/O Ratio: 1.39<br>Legal Growth Index: -42%<br>Tech Growth Index: 7%<br>Finance Growth Index: 14%"
           ],
           "type": "scattergeo"
          }
         ],
         "layout": {
          "title": {
           "text": "US Market Rental Rates Over Time: 2020-Q3"
          }
         },
         "name": "2020-Q3"
        },
        {
         "data": [
          {
           "hoverinfo": "text",
           "lat": {
            "bdata": "HVpkO9/fQEC/fR04Z0Q+QKHWNO84pUNAodY07zilQ0ASpb3BFy5FQBKlvcEXLkVA93XgnBGdQUC8dJMYBAZFQN9PjZduKkVA30+Nl24qRUDf4AuTqcI9QN/gC5Opwj1A9GxWfa4GQUD0bFZ9rgZBQLG/7J48ZERAsb/snjxkRECUh4Va0xRCQGfV52orXkRAqRPQRNhwQ0CpE9BE2HBDQLUV+8vu+UNAtRX7y+75Q0Bhw9MrZblAQKTfvg6cW0BApN++DpxbQEDQ1VbsL+NCQOhqK/aXzUdA6Gor9pfNR0D7XG3F/sI5QPtcbcX+wjlA3pOHhVrzO0Dek4eFWvM7QA==",
            "dtype": "f8"
           },
           "lon": {
            "bdata": "Rrbz/dQYVcAWak3zjm9YwGUZ4lgXJ1PAZRniWBcnU8AAb4EExcNRwABvgQTFw1HAfdCzWfU1VMDdtYR80OtVwJf/kH77wlTAl/+QfvvCVMDkg57NqtdXwOSDns2q11fAQYLix5iPXcBBguLHmI9dwAN4CyQoflLAA3gLJCh+UsBuowG8BbJVwCV1ApoIi1LA5/up8dJFU8Dn+6nx0kVTwCZTBaOSylLAJlMFo5LKUsDb+X5qvARcwK7YX3ZPSl3Arthfdk9KXcBQ/Bhz15pewBrAWyBBlV7AGsBbIEGVXsDc14FzRgxUwNzXgXNGDFTAzO7Jw0KdVMDM7snDQp1UwA==",
            "dtype": "f8"
           },
           "marker": {
            "cmax": 94.191224222457,
            "cmin": 20.9981865703684,
            "color": {
             "bdata": "02RpJRo0QEAAAAAAAAD4f4XHK7fK1zpAhccrt8rXOkBSL+gmSCtJQFIv6CZIK0lAAAAAAAAA+H8AAAAAAAD4fz0+Nl2mBDZAPT42XaYENkBHrEI0MdVAQEesQjQx1UBAERu+CnkXSEARG74KeRdIQG/Li9Z39FVAb8uL1nf0VUA1+XrYH3U/QLhxm9UryD1A/01d71VfQkD/TV3vVV9CQI9mdjGdhj5Aj2Z2MZ2GPkDYxGv4q8k/QPtrxiYKwERA+2vGJgrAREDvI3MS+bxSQGqRNIhpsUZAapE0iGmxRkBmQrxz+B5FQGZCvHP4HkVAUY6bWB7IPkBRjptYHsg+QA==",
             "dtype": "f8"
            },
            "colorbar": {
             "len": 0.6,
             "thickness": 15,
             "title": {
              "text": "Class A Rent ($)"
             },
             "y": 0.5,
             "yanchor": "middle"
            },
            "colorscale": [
             [
              0,
              "#440154"
             ],
             [
              0.1111111111111111,
              "#482878"
             ],
             [
              0.2222222222222222,
              "#3e4989"
             ],
             [
              0.3333333333333333,
              "#31688e"
             ],
             [
              0.4444444444444444,
              "#26828e"
             ],
             [
              0.5555555555555556,
              "#1f9e89"
             ],
             [
              0.6666666666666666,
              "#35b779"
             ],
             [
              0.7777777777777778,
              "#6ece58"
             ],
             [
              0.8888888888888888,
              "#b5de2b"
             ],
             [
              1,
              "#fde725"
             ]
            ],
            "line": {
             "color": "DarkSlateGrey",
             "width": 1
            },
            "size": {
             "bdata": "ZnTLzVfsKEAAAAAAAAAuQCrW3wYkziVAKtbfBiTOJUBMEZGB3iY0QEwRkYHeJjRAAAAAAAAALkAAAAAAAAAuQAM+v9WwISRAAz6/1bAhJEAKKxg0icIpQAorGDSJwilAYVgbauUNM0BhWBtq5Q0zQOKLWFc6ckZA4otYVzpyRkCmmtcoUlIoQPep3Y9rUydA4CyfU6b7K0DgLJ9TpvsrQEu1uazXwSdAS7W5rNfBJ0CM/m3RIYcoQAT2tf0m3C9ABPa1/SbcL0BsZHdmdqhBQH6piGl/sTFAfqmIaX+xMUCTAc17MEEwQJMBzXswQTBABbjCRNnoJ0AFuMJE2egnQA==",
             "dtype": "f8"
            }
           },
           "mode": "markers",
           "name": "2020-Q4",
           "text": [
            "<b>Atlanta</b><br>Time Period: 2020-Q4<br>Class A Rent: $32.41<br>Class O Rent: $nan<br>Legal Growth Index: 75%<br>Tech Growth Index: 38%<br>Finance Growth Index: 62%",
            "<b>Austin</b><br>Time Period: 2020-Q4<br>Class A Rent: $nan<br>Class O Rent: $34.48<br>Legal Growth Index: 63%<br>Tech Growth Index: 38%<br>Finance Growth Index: 59%",
            "<b>Baltimore</b><br>Time Period: 2020-Q4<br>Class A Rent: $26.84<br>Class O Rent: $20.42<br>A/O Ratio: 1.31<br>Legal Growth Index: 94%<br>Tech Growth Index: 11%<br>Finance Growth Index: 40%",
            "<b>Baltimore</b><br>Time Period: 2020-Q4<br>Class A Rent: $26.84<br>Class O Rent: $20.42<br>A/O Ratio: 1.31<br>Legal Growth Index: 94%<br>Tech Growth Index: 34%<br>Finance Growth Index: 58%",
            "<b>Boston</b><br>Time Period: 2020-Q4<br>Class A Rent: $50.34<br>Class O Rent: $23.90<br>A/O Ratio: 2.11<br>Legal Growth Index: 9%<br>Tech Growth Index: 52%<br>Finance Growth Index: 75%",
            "<b>Boston</b><br>Time Period: 2020-Q4<br>Class A Rent: $50.34<br>Class O Rent: $23.90<br>A/O Ratio: 2.11<br>Legal Growth Index: 9%<br>Tech Growth Index: 66%<br>Finance Growth Index: 75%",
            "<b>Charlotte</b><br>Time Period: 2020-Q4<br>Class A Rent: $nan<br>Class O Rent: $25.61<br>Legal Growth Index: 125%<br>Tech Growth Index: 3%<br>Finance Growth Index: 68%",
            "<b>Chicago Suburbs</b><br>Time Period: 2020-Q4<br>Class A Rent: $nan<br>Class O Rent: $20.45<br>Legal Growth Index: 64%<br>Tech Growth Index: 94%<br>Finance Growth Index: 18%",
            "<b>Detroit</b><br>Time Period: 2020-Q4<br>Class A Rent: $22.02<br>Class O Rent: $18.87<br>A/O Ratio: 1.17<br>Legal Growth Index: 93%<br>Tech Growth Index: 72%<br>Finance Growth Index: 9%",
            "<b>Detroit</b><br>Time Period: 2020-Q4<br>Class A Rent: $22.02<br>Class O Rent: $18.87<br>A/O Ratio: 1.17<br>Legal Growth Index: 95%<br>Tech Growth Index: 72%<br>Finance Growth Index: 9%",
            "<b>Houston</b><br>Time Period: 2020-Q4<br>Class A Rent: $33.67<br>Class O Rent: $21.77<br>A/O Ratio: 1.55<br>Legal Growth Index: 59%<br>Tech Growth Index: 41%<br>Finance Growth Index: 112%",
            "<b>Houston</b><br>Time Period: 2020-Q4<br>Class A Rent: $33.67<br>Class O Rent: $21.77<br>A/O Ratio: 1.55<br>Legal Growth Index: 59%<br>Tech Growth Index: 27%<br>Finance Growth Index: 94%",
            "<b>Los Angeles</b><br>Time Period: 2020-Q4<br>Class A Rent: $48.18<br>Class O Rent: $38.38<br>A/O Ratio: 1.26<br>Legal Growth Index: 41%<br>Tech Growth Index: 25%<br>Finance Growth Index: 48%",
            "<b>Los Angeles</b><br>Time Period: 2020-Q4<br>Class A Rent: $48.18<br>Class O Rent: $38.38<br>A/O Ratio: 1.26<br>Legal Growth Index: 41%<br>Tech Growth Index: 9%<br>Finance Growth Index: 48%",
            "<b>Manhattan</b><br>Time Period: 2020-Q4<br>Class A Rent: $87.82<br>Class O Rent: $61.12<br>A/O Ratio: 1.44<br>Legal Growth Index: 29%<br>Tech Growth Index: 38%<br>Finance Growth Index: 42%",
            "<b>Manhattan</b><br>Time Period: 2020-Q4<br>Class A Rent: $87.82<br>Class O Rent: $61.12<br>A/O Ratio: 1.44<br>Legal Growth Index: 29%<br>Tech Growth Index: 26%<br>Finance Growth Index: 36%",
            "<b>Nashville</b><br>Time Period: 2020-Q4<br>Class A Rent: $31.46<br>Class O Rent: $nan<br>Legal Growth Index: 25%<br>Tech Growth Index: -3%<br>Finance Growth Index: -68%",
            "<b>Northern New Jersey</b><br>Time Period: 2020-Q4<br>Class A Rent: $29.78<br>Class O Rent: $nan<br>Legal Growth Index: 32%<br>Tech Growth Index: 35%<br>Finance Growth Index: 68%",
            "<b>Northern Virginia</b><br>Time Period: 2020-Q4<br>Class A Rent: $36.74<br>Class O Rent: $30.84<br>A/O Ratio: 1.19<br>Legal Growth Index: 0%<br>Tech Growth Index: 35%<br>Finance Growth Index: 97%",
            "<b>Northern Virginia</b><br>Time Period: 2020-Q4<br>Class A Rent: $36.74<br>Class O Rent: $30.84<br>A/O Ratio: 1.19<br>Legal Growth Index: -20%<br>Tech Growth Index: -7%<br>Finance Growth Index: 97%",
            "<b>Philadelphia</b><br>Time Period: 2020-Q4<br>Class A Rent: $30.53<br>Class O Rent: $26.12<br>A/O Ratio: 1.17<br>Legal Growth Index: 78%<br>Tech Growth Index: 123%<br>Finance Growth Index: 102%",
            "<b>Philadelphia</b><br>Time Period: 2020-Q4<br>Class A Rent: $30.53<br>Class O Rent: $26.12<br>A/O Ratio: 1.17<br>Legal Growth Index: 78%<br>Tech Growth Index: 54%<br>Finance Growth Index: 102%",
            "<b>Phoenix</b><br>Time Period: 2020-Q4<br>Class A Rent: $31.79<br>Class O Rent: $nan<br>Legal Growth Index: 142%<br>Tech Growth Index: 99%<br>Finance Growth Index: 81%",
            "<b>San Diego</b><br>Time Period: 2020-Q4<br>Class A Rent: $41.50<br>Class O Rent: $33.56<br>A/O Ratio: 1.24<br>Legal Growth Index: -5%<br>Tech Growth Index: -90%<br>Finance Growth Index: 59%",
            "<b>San Diego</b><br>Time Period: 2020-Q4<br>Class A Rent: $41.50<br>Class O Rent: $33.56<br>A/O Ratio: 1.24<br>Legal Growth Index: -5%<br>Tech Growth Index: -97%<br>Finance Growth Index: 79%",
            "<b>San Francisco</b><br>Time Period: 2020-Q4<br>Class A Rent: $74.95<br>Class O Rent: $nan<br>Legal Growth Index: 80%<br>Tech Growth Index: 31%<br>Finance Growth Index: -26%",
            "<b>Seattle</b><br>Time Period: 2020-Q4<br>Class A Rent: $45.39<br>Class O Rent: $30.89<br>A/O Ratio: 1.47<br>Legal Growth Index: 0%<br>Tech Growth Index: 17%<br>Finance Growth Index: 40%",
            "<b>Seattle</b><br>Time Period: 2020-Q4<br>Class A Rent: $45.39<br>Class O Rent: $30.89<br>A/O Ratio: 1.47<br>Legal Growth Index: 0%<br>Tech Growth Index: 55%<br>Finance Growth Index: 40%",
            "<b>South Florida</b><br>Time Period: 2020-Q4<br>Class A Rent: $42.24<br>Class O Rent: $30.22<br>A/O Ratio: 1.40<br>Legal Growth Index: 49%<br>Tech Growth Index: 28%<br>Finance Growth Index: 57%",
            "<b>South Florida</b><br>Time Period: 2020-Q4<br>Class A Rent: $42.24<br>Class O Rent: $30.22<br>A/O Ratio: 1.40<br>Legal Growth Index: 49%<br>Tech Growth Index: 28%<br>Finance Growth Index: 43%",
            "<b>Tampa</b><br>Time Period: 2020-Q4<br>Class A Rent: $30.78<br>Class O Rent: $22.72<br>A/O Ratio: 1.35<br>Legal Growth Index: -12%<br>Tech Growth Index: 9%<br>Finance Growth Index: 33%",
            "<b>Tampa</b><br>Time Period: 2020-Q4<br>Class A Rent: $30.78<br>Class O Rent: $22.72<br>A/O Ratio: 1.35<br>Legal Growth Index: -12%<br>Tech Growth Index: 9%<br>Finance Growth Index: 50%"
           ],
           "type": "scattergeo"
          }
         ],
         "layout": {
          "title": {
           "text": "US Market Rental Rates Over Time: 2020-Q4"
          }
         },
         "name": "2020-Q4"
        },
        {
         "data": [
          {
           "hoverinfo": "text",
           "lat": {
            "bdata": "HVpkO9/fQEAdWmQ7399AQL99HThnRD5Av30dOGdEPkCh1jTvOKVDQBKlvcEXLkVAEqW9wRcuRUD3deCcEZ1BQPd14JwRnUFAvHSTGAQGRUC8dJMYBAZFQN9PjZduKkVA30+Nl24qRUDf4AuTqcI9QN/gC5Opwj1A9GxWfa4GQUD0bFZ9rgZBQLG/7J48ZERAsb/snjxkRECUh4Va0xRCQGfV52orXkRAZ9XnaiteRECpE9BE2HBDQKkT0ETYcENAtRX7y+75Q0C1FfvL7vlDQGHD0ytluUBAYcPTK2W5QED+ZffkYWFEQKTfvg6cW0BApN++DpxbQEDQ1VbsL+NCQOhqK/aXzUdA6Gor9pfNR0D7XG3F/sI5QPtcbcX+wjlA3pOHhVrzO0Dek4eFWvM7QA==",
            "dtype": "f8"
           },
           "lon": {
            "bdata": "Rrbz/dQYVcBGtvP91BhVwBZqTfOOb1jAFmpN845vWMBlGeJYFydTwABvgQTFw1HAAG+BBMXDUcB90LNZ9TVUwH3Qs1n1NVTA3bWEfNDrVcDdtYR80OtVwJf/kH77wlTAl/+QfvvCVMDkg57NqtdXwOSDns2q11fAQYLix5iPXcBBguLHmI9dwAN4CyQoflLAA3gLJCh+UsBuowG8BbJVwCV1ApoIi1LAJXUCmgiLUsDn+6nx0kVTwOf7qfHSRVPAJlMFo5LKUsAmUwWjkspSwNv5fmq8BFzA2/l+arwEXMAbL90kBvlbwK7YX3ZPSl3Arthfdk9KXcBQ/Bhz15pewBrAWyBBlV7AGsBbIEGVXsDc14FzRgxUwNzXgXNGDFTAzO7Jw0KdVMDM7snDQp1UwA==",
            "dtype": "f8"
           },
           "marker": {
            "cmax": 94.191224222457,
            "cmin": 20.9981865703684,
            "color": {
             "bdata": "6FDc4fQ3QEDoUNzh9DdAQLQpZFxjc0lAtClkXGNzSUAyaAYHj+U6QD76QaWmCkhAPvpBpaYKSECTzSDLLchAQJPNIMstyEBAv3nqxMJ4O0C/eerEwng7QPW56QGLrTVA9bnpAYutNUBm322rbptAQGbfbatum0BAiRp4vz9rSECJGni/P2tIQNaiB+2yn1VA1qIH7bKfVUDbSicFqMc+QMDi3AYRQD5AwOLcBhFAPkCMLiRijilCQIwuJGKOKUJAJTwVgEqpPkAlPBWASqk+QKCX6ZrxnT9AoJfpmvGdP0AAAAAAAAD4fzBtWV+9DkVAMG1ZX70ORUCAYSLksLhSQCYUpLuyJ0dAJhSku7InR0Ao3tZ0ICZFQCje1nQgJkVAW8W6Bsd3P0BbxboGx3c/QA==",
             "dtype": "f8"
            },
            "colorbar": {
             "len": 0.6,
             "thickness": 15,
             "title": {
              "text": "Class A Rent ($)"
             },
             "y": 0.5,
             "yanchor": "middle"
            },
            "colorscale": [
             [
              0,
              "#440154"
             ],
             [
              0.1111111111111111,
              "#482878"
             ],
             [
              0.2222222222222222,
              "#3e4989"
             ],
             [
              0.3333333333333333,
              "#31688e"
             ],
             [
              0.4444444444444444,
              "#26828e"
             ],
             [
              0.5555555555555556,
              "#1f9e89"
             ],
             [
              0.6666666666666666,
              "#35b779"
             ],
             [
              0.7777777777777778,
              "#6ece58"
             ],
             [
              0.8888888888888888,
              "#b5de2b"
             ],
             [
              1,
              "#fde725"
             ]
            ],
            "line": {
             "color": "DarkSlateGrey",
             "width": 1
            },
            "size": {
             "bdata": "iVVHDVbxKECJVUcNVvEoQEEapj0TcjRAQRqmPRNyNEC7XZOUiNQlQFzbWL0YATNAXNtYvRgBM0C72ubq0bApQLva5urRsClArMSsN7AaJkCsxKw3sBomQC4XOPtTEiRALhc4+1MSJEDT+bRuc3QpQNP5tG5zdClAlCWm9BpiM0CUJab0GmIzQFIdTIMY7kVAUh1MgxjuRUDzpZVYkugnQBD/OVlqmCdAEP85WWqYJ0C83HuTZ6orQLzce5NnqitAnbxlZm3WJ0CdvGVmbdYnQDjIkDK3ayhAOMiQMrdrKEAAAAAAAAAuQHvq6+rfMjBAe+rr6t8yMEBw0MPab6JBQKIN0ZF+IjJAog3RkX4iMkD6qbqyg0cwQPqpurKDRzBAAz+YMvdTKEADP5gy91MoQA==",
             "dtype": "f8"
            }
           },
           "mode": "markers",
           "name": "2021-Q1",
           "text": [
            "<b>Atlanta</b><br>Time Period: 2021-Q1<br>Class A Rent: $32.44<br>Class O Rent: $23.32<br>A/O Ratio: 1.39<br>Legal Growth Index: 36%<br>Tech Growth Index: 96%<br>Finance Growth Index: 50%",
            "<b>Atlanta</b><br>Time Period: 2021-Q1<br>Class A Rent: $32.44<br>Class O Rent: $23.32<br>A/O Ratio: 1.39<br>Legal Growth Index: 36%<br>Tech Growth Index: 75%<br>Finance Growth Index: 50%",
            "<b>Austin</b><br>Time Period: 2021-Q1<br>Class A Rent: $50.90<br>Class O Rent: $35.56<br>A/O Ratio: 1.43<br>Legal Growth Index: 100%<br>Tech Growth Index: 40%<br>Finance Growth Index: 94%",
            "<b>Austin</b><br>Time Period: 2021-Q1<br>Class A Rent: $50.90<br>Class O Rent: $35.56<br>A/O Ratio: 1.43<br>Legal Growth Index: 11%<br>Tech Growth Index: 9%<br>Finance Growth Index: 94%",
            "<b>Baltimore</b><br>Time Period: 2021-Q1<br>Class A Rent: $26.90<br>Class O Rent: $nan<br>Legal Growth Index: -26%<br>Tech Growth Index: 29%<br>Finance Growth Index: 90%",
            "<b>Boston</b><br>Time Period: 2021-Q1<br>Class A Rent: $48.08<br>Class O Rent: $23.20<br>A/O Ratio: 2.07<br>Legal Growth Index: 106%<br>Tech Growth Index: 67%<br>Finance Growth Index: 88%",
            "<b>Boston</b><br>Time Period: 2021-Q1<br>Class A Rent: $48.08<br>Class O Rent: $23.20<br>A/O Ratio: 2.07<br>Legal Growth Index: 106%<br>Tech Growth Index: 22%<br>Finance Growth Index: 88%",
            "<b>Charlotte</b><br>Time Period: 2021-Q1<br>Class A Rent: $33.56<br>Class O Rent: $25.50<br>A/O Ratio: 1.32<br>Legal Growth Index: 49%<br>Tech Growth Index: 76%<br>Finance Growth Index: 109%",
            "<b>Charlotte</b><br>Time Period: 2021-Q1<br>Class A Rent: $33.56<br>Class O Rent: $25.50<br>A/O Ratio: 1.32<br>Legal Growth Index: 49%<br>Tech Growth Index: 76%<br>Finance Growth Index: 103%",
            "<b>Chicago Suburbs</b><br>Time Period: 2021-Q1<br>Class A Rent: $27.47<br>Class O Rent: $20.40<br>A/O Ratio: 1.35<br>Legal Growth Index: -100%<br>Tech Growth Index: 95%<br>Finance Growth Index: 20%",
            "<b>Chicago Suburbs</b><br>Time Period: 2021-Q1<br>Class A Rent: $27.47<br>Class O Rent: $20.40<br>A/O Ratio: 1.35<br>Legal Growth Index: -100%<br>Tech Growth Index: 95%<br>Finance Growth Index: 6%",
            "<b>Detroit</b><br>Time Period: 2021-Q1<br>Class A Rent: $21.68<br>Class O Rent: $19.32<br>A/O Ratio: 1.12<br>Legal Growth Index: 73%<br>Tech Growth Index: 125%<br>Finance Growth Index: 31%",
            "<b>Detroit</b><br>Time Period: 2021-Q1<br>Class A Rent: $21.68<br>Class O Rent: $19.32<br>A/O Ratio: 1.12<br>Legal Growth Index: 73%<br>Tech Growth Index: 125%<br>Finance Growth Index: 6%",
            "<b>Houston</b><br>Time Period: 2021-Q1<br>Class A Rent: $33.21<br>Class O Rent: $21.41<br>A/O Ratio: 1.55<br>Legal Growth Index: 21%<br>Tech Growth Index: 45%<br>Finance Growth Index: 2%",
            "<b>Houston</b><br>Time Period: 2021-Q1<br>Class A Rent: $33.21<br>Class O Rent: $21.41<br>A/O Ratio: 1.55<br>Legal Growth Index: 21%<br>Tech Growth Index: 58%<br>Finance Growth Index: -2%",
            "<b>Los Angeles</b><br>Time Period: 2021-Q1<br>Class A Rent: $48.84<br>Class O Rent: $40.48<br>A/O Ratio: 1.21<br>Legal Growth Index: 70%<br>Tech Growth Index: 17%<br>Finance Growth Index: 46%",
            "<b>Los Angeles</b><br>Time Period: 2021-Q1<br>Class A Rent: $48.84<br>Class O Rent: $40.48<br>A/O Ratio: 1.21<br>Legal Growth Index: 70%<br>Tech Growth Index: -0%<br>Finance Growth Index: 46%",
            "<b>Manhattan</b><br>Time Period: 2021-Q1<br>Class A Rent: $86.50<br>Class O Rent: $60.03<br>A/O Ratio: 1.44<br>Legal Growth Index: 25%<br>Tech Growth Index: 31%<br>Finance Growth Index: 35%",
            "<b>Manhattan</b><br>Time Period: 2021-Q1<br>Class A Rent: $86.50<br>Class O Rent: $60.03<br>A/O Ratio: 1.44<br>Legal Growth Index: 19%<br>Tech Growth Index: 29%<br>Finance Growth Index: 29%",
            "<b>Nashville</b><br>Time Period: 2021-Q1<br>Class A Rent: $30.78<br>Class O Rent: $nan<br>Legal Growth Index: 85%<br>Tech Growth Index: 102%<br>Finance Growth Index: 123%",
            "<b>Northern New Jersey</b><br>Time Period: 2021-Q1<br>Class A Rent: $30.25<br>Class O Rent: $24.09<br>A/O Ratio: 1.26<br>Legal Growth Index: 45%<br>Tech Growth Index: 72%<br>Finance Growth Index: 48%",
            "<b>Northern New Jersey</b><br>Time Period: 2021-Q1<br>Class A Rent: $30.25<br>Class O Rent: $24.09<br>A/O Ratio: 1.26<br>Legal Growth Index: 45%<br>Tech Growth Index: 27%<br>Finance Growth Index: 28%",
            "<b>Northern Virginia</b><br>Time Period: 2021-Q1<br>Class A Rent: $36.32<br>Class O Rent: $30.86<br>A/O Ratio: 1.18<br>Legal Growth Index: 11%<br>Tech Growth Index: 9%<br>Finance Growth Index: 51%",
            "<b>Northern Virginia</b><br>Time Period: 2021-Q1<br>Class A Rent: $36.32<br>Class O Rent: $30.86<br>A/O Ratio: 1.18<br>Legal Growth Index: 11%<br>Tech Growth Index: -25%<br>Finance Growth Index: 21%",
            "<b>Philadelphia</b><br>Time Period: 2021-Q1<br>Class A Rent: $30.66<br>Class O Rent: $26.06<br>A/O Ratio: 1.18<br>Legal Growth Index: 140%<br>Tech Growth Index: 104%<br>Finance Growth Index: 62%",
            "<b>Philadelphia</b><br>Time Period: 2021-Q1<br>Class A Rent: $30.66<br>Class O Rent: $26.06<br>A/O Ratio: 1.18<br>Legal Growth Index: 109%<br>Tech Growth Index: 104%<br>Finance Growth Index: 23%",
            "<b>Phoenix</b><br>Time Period: 2021-Q1<br>Class A Rent: $31.62<br>Class O Rent: $25.12<br>A/O Ratio: 1.26<br>Legal Growth Index: 49%<br>Tech Growth Index: 118%<br>Finance Growth Index: 40%",
            "<b>Phoenix</b><br>Time Period: 2021-Q1<br>Class A Rent: $31.62<br>Class O Rent: $25.12<br>A/O Ratio: 1.26<br>Legal Growth Index: 49%<br>Tech Growth Index: 118%<br>Finance Growth Index: 27%",
            "<b>Salt Lake City</b><br>Time Period: 2021-Q1<br>Class A Rent: $nan<br>Class O Rent: $21.35<br>Legal Growth Index: 143%<br>Tech Growth Index: -60%<br>Finance Growth Index: -78%",
            "<b>San Diego</b><br>Time Period: 2021-Q1<br>Class A Rent: $42.12<br>Class O Rent: $33.38<br>A/O Ratio: 1.26<br>Legal Growth Index: 12%<br>Tech Growth Index: -25%<br>Finance Growth Index: -29%",
            "<b>San Diego</b><br>Time Period: 2021-Q1<br>Class A Rent: $42.12<br>Class O Rent: $33.38<br>A/O Ratio: 1.26<br>Legal Growth Index: 12%<br>Tech Growth Index: -31%<br>Finance Growth Index: -33%",
            "<b>San Francisco</b><br>Time Period: 2021-Q1<br>Class A Rent: $74.89<br>Class O Rent: $nan<br>Legal Growth Index: 47%<br>Tech Growth Index: 51%<br>Finance Growth Index: 32%",
            "<b>Seattle</b><br>Time Period: 2021-Q1<br>Class A Rent: $46.31<br>Class O Rent: $31.21<br>A/O Ratio: 1.48<br>Legal Growth Index: 54%<br>Tech Growth Index: 87%<br>Finance Growth Index: 56%",
            "<b>Seattle</b><br>Time Period: 2021-Q1<br>Class A Rent: $46.31<br>Class O Rent: $31.21<br>A/O Ratio: 1.48<br>Legal Growth Index: 39%<br>Tech Growth Index: 87%<br>Finance Growth Index: 56%",
            "<b>South Florida</b><br>Time Period: 2021-Q1<br>Class A Rent: $42.30<br>Class O Rent: $30.72<br>A/O Ratio: 1.38<br>Legal Growth Index: 93%<br>Tech Growth Index: 20%<br>Finance Growth Index: 45%",
            "<b>South Florida</b><br>Time Period: 2021-Q1<br>Class A Rent: $42.30<br>Class O Rent: $30.72<br>A/O Ratio: 1.38<br>Legal Growth Index: 93%<br>Tech Growth Index: 20%<br>Finance Growth Index: 45%",
            "<b>Tampa</b><br>Time Period: 2021-Q1<br>Class A Rent: $31.47<br>Class O Rent: $22.93<br>A/O Ratio: 1.37<br>Legal Growth Index: 47%<br>Tech Growth Index: 6%<br>Finance Growth Index: 43%",
            "<b>Tampa</b><br>Time Period: 2021-Q1<br>Class A Rent: $31.47<br>Class O Rent: $22.93<br>A/O Ratio: 1.37<br>Legal Growth Index: 47%<br>Tech Growth Index: 6%<br>Finance Growth Index: 56%"
           ],
           "type": "scattergeo"
          }
         ],
         "layout": {
          "title": {
           "text": "US Market Rental Rates Over Time: 2021-Q1"
          }
         },
         "name": "2021-Q1"
        },
        {
         "data": [
          {
           "hoverinfo": "text",
           "lat": {
            "bdata": "HVpkO9/fQEAdWmQ7399AQL99HThnRD5AodY07zilQ0Ch1jTvOKVDQBKlvcEXLkVAEqW9wRcuRUD3deCcEZ1BQLx0kxgEBkVAvHSTGAQGRUDfT42XbipFQN9PjZduKkVA3+ALk6nCPUDf4AuTqcI9QPRsVn2uBkFA9GxWfa4GQUCxv+yePGREQLG/7J48ZERAlIeFWtMUQkBn1edqK15EQKkT0ETYcENAqRPQRNhwQ0C1FfvL7vlDQLUV+8vu+UNAYcPTK2W5QEBhw9MrZblAQKTfvg6cW0BApN++DpxbQEDQ1VbsL+NCQNDVVuwv40JA6Gor9pfNR0Doaiv2l81HQPtcbcX+wjlA+1xtxf7COUDek4eFWvM7QN6Th4Va8ztA",
            "dtype": "f8"
           },
           "lon": {
            "bdata": "Rrbz/dQYVcBGtvP91BhVwBZqTfOOb1jAZRniWBcnU8BlGeJYFydTwABvgQTFw1HAAG+BBMXDUcB90LNZ9TVUwN21hHzQ61XA3bWEfNDrVcCX/5B++8JUwJf/kH77wlTA5IOezarXV8Dkg57NqtdXwEGC4seYj13AQYLix5iPXcADeAskKH5SwAN4CyQoflLAbqMBvAWyVcAldQKaCItSwOf7qfHSRVPA5/up8dJFU8AmUwWjkspSwCZTBaOSylLA2/l+arwEXMDb+X5qvARcwK7YX3ZPSl3Arthfdk9KXcBQ/Bhz15pewFD8GHPXml7AGsBbIEGVXsAawFsgQZVewNzXgXNGDFTA3NeBc0YMVMDM7snDQp1UwMzuycNCnVTA",
            "dtype": "f8"
           },
           "marker": {
            "cmax": 94.191224222457,
            "cmin": 20.9981865703684,
            "color": {
             "bdata": "NK8P5+wfQEA0rw/n7B9AQFJafknOMklAMaZ92w2bOkAxpn3bDZs6QLdDy2GUBkhAt0PLYZQGSEBg7LpcII1AQKBwkSkTdjtAoHCRKRN2O0DzzEqH84g1QPPMSofziDVAm60on/3IQECbrSif/chAQMAyHPx4OUhAwDIc/Hg5SEDAkPVV90hVQMCQ9VX3SFVAAAAAAAAA+H8QJCBQJ0A+QEtuVQOkDEJAS25VA6QMQkADH0UEIB8/QAMfRQQgHz9AK24sfvVYP0Arbix+9Vg/QGyl0h+27kRAbKXSH7buREDLQsW/ra5SQMtCxb+trlJA5w3pzavGR0DnDenNq8ZHQA5favnMGEVADl9q+cwYRUBknjwvdDZAQGSePC90NkBA",
             "dtype": "f8"
            },
            "colorbar": {
             "len": 0.6,
             "thickness": 15,
             "title": {
              "text": "Class A Rent ($)"
             },
             "y": 0.5,
             "yanchor": "middle"
            },
            "colorscale": [
             [
              0,
              "#440154"
             ],
             [
              0.1111111111111111,
              "#482878"
             ],
             [
              0.2222222222222222,
              "#3e4989"
             ],
             [
              0.3333333333333333,
              "#31688e"
             ],
             [
              0.4444444444444444,
              "#26828e"
             ],
             [
              0.5555555555555556,
              "#1f9e89"
             ],
             [
              0.6666666666666666,
              "#35b779"
             ],
             [
              0.7777777777777778,
              "#6ece58"
             ],
             [
              0.8888888888888888,
              "#b5de2b"
             ],
             [
              1,
              "#fde725"
             ]
            ],
            "line": {
             "color": "DarkSlateGrey",
             "width": 1
            },
            "size": {
             "bdata": "9cy4JlDSKED1zLgmUNIoQIM/aOCuLjRAL4/e5EmyJUAvj97kSbIlQD4mA48J/TJAPiYDjwn9MkC20eipVGEpQMiiwRZhGSZAyKLBFmEZJkBEFXbA3AwkQEQVdsDcDCRAZilvUOyxKUBmKW9Q7LEpQC6XOWnzLzNALpc5afMvM0Ai0e9nR2hFQCLR72dHaEVAAAAAAAAALkBl3N5Wd5gnQFjtrI8tfytAWO2sjy1/K0C8nn+gcx0oQLyef6BzHShA8gg4MelAKEDyCDgx6UAoQHcZNN3AFjBAdxk03cAWMEBDIwu9XJRBQEMjC71clEFAGC1ooqG9MkAYLWiiob0yQJDKYyy+OzBAkMpjLL47MEAi2pmAY+8oQCLamYBj7yhA",
             "dtype": "f8"
            }
           },
           "mode": "markers",
           "name": "2021-Q2",
           "text": [
            "<b>Atlanta</b><br>Time Period: 2021-Q2<br>Class A Rent: $32.25<br>Class O Rent: $23.27<br>A/O Ratio: 1.39<br>Legal Growth Index: 95%<br>Tech Growth Index: 102%<br>Finance Growth Index: 75%",
            "<b>Atlanta</b><br>Time Period: 2021-Q2<br>Class A Rent: $32.25<br>Class O Rent: $23.27<br>A/O Ratio: 1.39<br>Legal Growth Index: 95%<br>Tech Growth Index: 100%<br>Finance Growth Index: 72%",
            "<b>Austin</b><br>Time Period: 2021-Q2<br>Class A Rent: $50.40<br>Class O Rent: $nan<br>Legal Growth Index: 87%<br>Tech Growth Index: 8%<br>Finance Growth Index: 83%",
            "<b>Baltimore</b><br>Time Period: 2021-Q2<br>Class A Rent: $26.61<br>Class O Rent: $20.78<br>A/O Ratio: 1.28<br>Legal Growth Index: 73%<br>Tech Growth Index: 67%<br>Finance Growth Index: 96%",
            "<b>Baltimore</b><br>Time Period: 2021-Q2<br>Class A Rent: $26.61<br>Class O Rent: $20.78<br>A/O Ratio: 1.28<br>Legal Growth Index: 73%<br>Tech Growth Index: 55%<br>Finance Growth Index: 96%",
            "<b>Boston</b><br>Time Period: 2021-Q2<br>Class A Rent: $48.05<br>Class O Rent: $23.62<br>A/O Ratio: 2.03<br>Legal Growth Index: 53%<br>Tech Growth Index: 127%<br>Finance Growth Index: 43%",
            "<b>Boston</b><br>Time Period: 2021-Q2<br>Class A Rent: $48.05<br>Class O Rent: $23.62<br>A/O Ratio: 2.03<br>Legal Growth Index: 53%<br>Tech Growth Index: 99%<br>Finance Growth Index: 43%",
            "<b>Charlotte</b><br>Time Period: 2021-Q2<br>Class A Rent: $33.10<br>Class O Rent: $nan<br>Legal Growth Index: 111%<br>Tech Growth Index: 64%<br>Finance Growth Index: 126%",
            "<b>Chicago Suburbs</b><br>Time Period: 2021-Q2<br>Class A Rent: $27.46<br>Class O Rent: $20.40<br>A/O Ratio: 1.35<br>Legal Growth Index: 13%<br>Tech Growth Index: 50%<br>Finance Growth Index: 20%",
            "<b>Chicago Suburbs</b><br>Time Period: 2021-Q2<br>Class A Rent: $27.46<br>Class O Rent: $20.40<br>A/O Ratio: 1.35<br>Legal Growth Index: 13%<br>Tech Growth Index: 31%<br>Finance Growth Index: 15%",
            "<b>Detroit</b><br>Time Period: 2021-Q2<br>Class A Rent: $21.53<br>Class O Rent: $19.35<br>A/O Ratio: 1.11<br>Legal Growth Index: -7%<br>Tech Growth Index: 84%<br>Finance Growth Index: -12%",
            "<b>Detroit</b><br>Time Period: 2021-Q2<br>Class A Rent: $21.53<br>Class O Rent: $19.35<br>A/O Ratio: 1.11<br>Legal Growth Index: 94%<br>Tech Growth Index: 84%<br>Finance Growth Index: -12%",
            "<b>Houston</b><br>Time Period: 2021-Q2<br>Class A Rent: $33.57<br>Class O Rent: $21.02<br>A/O Ratio: 1.60<br>Legal Growth Index: 76%<br>Tech Growth Index: 89%<br>Finance Growth Index: 81%",
            "<b>Houston</b><br>Time Period: 2021-Q2<br>Class A Rent: $33.57<br>Class O Rent: $21.02<br>A/O Ratio: 1.60<br>Legal Growth Index: 76%<br>Tech Growth Index: 89%<br>Finance Growth Index: 71%",
            "<b>Los Angeles</b><br>Time Period: 2021-Q2<br>Class A Rent: $48.45<br>Class O Rent: $40.62<br>A/O Ratio: 1.19<br>Legal Growth Index: 59%<br>Tech Growth Index: 80%<br>Finance Growth Index: 117%",
            "<b>Los Angeles</b><br>Time Period: 2021-Q2<br>Class A Rent: $48.45<br>Class O Rent: $40.62<br>A/O Ratio: 1.19<br>Legal Growth Index: 59%<br>Tech Growth Index: 15%<br>Finance Growth Index: 77%",
            "<b>Manhattan</b><br>Time Period: 2021-Q2<br>Class A Rent: $85.14<br>Class O Rent: $60.60<br>A/O Ratio: 1.40<br>Legal Growth Index: 45%<br>Tech Growth Index: 48%<br>Finance Growth Index: 21%",
            "<b>Manhattan</b><br>Time Period: 2021-Q2<br>Class A Rent: $85.14<br>Class O Rent: $60.60<br>A/O Ratio: 1.40<br>Legal Growth Index: 44%<br>Tech Growth Index: 47%<br>Finance Growth Index: 20%",
            "<b>Nashville</b><br>Time Period: 2021-Q2<br>Class A Rent: $nan<br>Class O Rent: $27.50<br>Legal Growth Index: 86%<br>Tech Growth Index: 29%<br>Finance Growth Index: -10%",
            "<b>Northern New Jersey</b><br>Time Period: 2021-Q2<br>Class A Rent: $30.25<br>Class O Rent: $nan<br>Legal Growth Index: 27%<br>Tech Growth Index: 6%<br>Finance Growth Index: 65%",
            "<b>Northern Virginia</b><br>Time Period: 2021-Q2<br>Class A Rent: $36.10<br>Class O Rent: $30.87<br>A/O Ratio: 1.17<br>Legal Growth Index: 49%<br>Tech Growth Index: 14%<br>Finance Growth Index: 53%",
            "<b>Northern Virginia</b><br>Time Period: 2021-Q2<br>Class A Rent: $36.10<br>Class O Rent: $30.87<br>A/O Ratio: 1.17<br>Legal Growth Index: 8%<br>Tech Growth Index: -18%<br>Finance Growth Index: 14%",
            "<b>Philadelphia</b><br>Time Period: 2021-Q2<br>Class A Rent: $31.12<br>Class O Rent: $26.16<br>A/O Ratio: 1.19<br>Legal Growth Index: 102%<br>Tech Growth Index: 63%<br>Finance Growth Index: 98%",
            "<b>Philadelphia</b><br>Time Period: 2021-Q2<br>Class A Rent: $31.12<br>Class O Rent: $26.16<br>A/O Ratio: 1.19<br>Legal Growth Index: 43%<br>Tech Growth Index: 50%<br>Finance Growth Index: 98%",
            "<b>Phoenix</b><br>Time Period: 2021-Q2<br>Class A Rent: $31.35<br>Class O Rent: $24.85<br>A/O Ratio: 1.26<br>Legal Growth Index: 25%<br>Tech Growth Index: 34%<br>Finance Growth Index: 96%",
            "<b>Phoenix</b><br>Time Period: 2021-Q2<br>Class A Rent: $31.35<br>Class O Rent: $24.85<br>A/O Ratio: 1.26<br>Legal Growth Index: 25%<br>Tech Growth Index: 34%<br>Finance Growth Index: 96%",
            "<b>San Diego</b><br>Time Period: 2021-Q2<br>Class A Rent: $41.86<br>Class O Rent: $32.84<br>A/O Ratio: 1.27<br>Legal Growth Index: -85%<br>Tech Growth Index: 83%<br>Finance Growth Index: 34%",
            "<b>San Diego</b><br>Time Period: 2021-Q2<br>Class A Rent: $41.86<br>Class O Rent: $32.84<br>A/O Ratio: 1.27<br>Legal Growth Index: -72%<br>Tech Growth Index: 71%<br>Finance Growth Index: 24%",
            "<b>San Francisco</b><br>Time Period: 2021-Q2<br>Class A Rent: $74.73<br>Class O Rent: $67.62<br>A/O Ratio: 1.11<br>Legal Growth Index: 25%<br>Tech Growth Index: 40%<br>Finance Growth Index: 65%",
            "<b>San Francisco</b><br>Time Period: 2021-Q2<br>Class A Rent: $74.73<br>Class O Rent: $67.62<br>A/O Ratio: 1.11<br>Legal Growth Index: 25%<br>Tech Growth Index: 41%<br>Finance Growth Index: 65%",
            "<b>Seattle</b><br>Time Period: 2021-Q2<br>Class A Rent: $47.55<br>Class O Rent: $30.80<br>A/O Ratio: 1.54<br>Legal Growth Index: 113%<br>Tech Growth Index: 67%<br>Finance Growth Index: 93%",
            "<b>Seattle</b><br>Time Period: 2021-Q2<br>Class A Rent: $47.55<br>Class O Rent: $30.80<br>A/O Ratio: 1.54<br>Legal Growth Index: 106%<br>Tech Growth Index: 67%<br>Finance Growth Index: 93%",
            "<b>South Florida</b><br>Time Period: 2021-Q2<br>Class A Rent: $42.19<br>Class O Rent: $31.37<br>A/O Ratio: 1.34<br>Legal Growth Index: 64%<br>Tech Growth Index: 91%<br>Finance Growth Index: 91%",
            "<b>South Florida</b><br>Time Period: 2021-Q2<br>Class A Rent: $42.19<br>Class O Rent: $31.37<br>A/O Ratio: 1.34<br>Legal Growth Index: 64%<br>Tech Growth Index: 91%<br>Finance Growth Index: 69%",
            "<b>Tampa</b><br>Time Period: 2021-Q2<br>Class A Rent: $32.43<br>Class O Rent: $23.10<br>A/O Ratio: 1.40<br>Legal Growth Index: 17%<br>Tech Growth Index: 57%<br>Finance Growth Index: 56%",
            "<b>Tampa</b><br>Time Period: 2021-Q2<br>Class A Rent: $32.43<br>Class O Rent: $23.10<br>A/O Ratio: 1.40<br>Legal Growth Index: 17%<br>Tech Growth Index: 57%<br>Finance Growth Index: 51%"
           ],
           "type": "scattergeo"
          }
         ],
         "layout": {
          "title": {
           "text": "US Market Rental Rates Over Time: 2021-Q2"
          }
         },
         "name": "2021-Q2"
        },
        {
         "data": [
          {
           "hoverinfo": "text",
           "lat": {
            "bdata": "HVpkO9/fQEAdWmQ7399AQL99HThnRD5Av30dOGdEPkCh1jTvOKVDQKHWNO84pUNAEqW9wRcuRUASpb3BFy5FQPd14JwRnUFAvHSTGAQGRUC8dJMYBAZFQN9PjZduKkVA30+Nl24qRUDf4AuTqcI9QN/gC5Opwj1A9GxWfa4GQUD0bFZ9rgZBQLG/7J48ZERAsb/snjxkREBn1edqK15EQKkT0ETYcENAqRPQRNhwQ0C1FfvL7vlDQLUV+8vu+UNAYcPTK2W5QEBhw9MrZblAQP5l9+RhYURApN++DpxbQECk374OnFtAQNDVVuwv40JA0NVW7C/jQkDoaiv2l81HQOhqK/aXzUdA+1xtxf7COUD7XG3F/sI5QN6Th4Va8ztA3pOHhVrzO0A=",
            "dtype": "f8"
           },
           "lon": {
            "bdata": "Rrbz/dQYVcBGtvP91BhVwBZqTfOOb1jAFmpN845vWMBlGeJYFydTwGUZ4lgXJ1PAAG+BBMXDUcAAb4EExcNRwH3Qs1n1NVTA3bWEfNDrVcDdtYR80OtVwJf/kH77wlTAl/+QfvvCVMDkg57NqtdXwOSDns2q11fAQYLix5iPXcBBguLHmI9dwAN4CyQoflLAA3gLJCh+UsAldQKaCItSwOf7qfHSRVPA5/up8dJFU8AmUwWjkspSwCZTBaOSylLA2/l+arwEXMDb+X5qvARcwBsv3SQG+VvArthfdk9KXcCu2F92T0pdwFD8GHPXml7AUPwYc9eaXsAawFsgQZVewBrAWyBBlV7A3NeBc0YMVMDc14FzRgxUwMzuycNCnVTAzO7Jw0KdVMA=",
            "dtype": "f8"
           },
           "marker": {
            "cmax": 94.191224222457,
            "cmin": 20.9981865703684,
            "color": {
             "bdata": "wy7hQ85YQEDDLuFDzlhAQFWvQiI/sElAVa9CIj+wSUDdr0dKqWQ6QN2vR0qpZDpA2g4ZOd5JSEDaDhk53klIQDajCqS1skBAijDcZ1BXO0CKMNxnUFc7QN3QRIzTZjVA3dBEjNNmNUBH+ASOvdhAQEf4BI692EBA8JT5iwegSEDwlPmLB6BIQKbrRrk+GVVAputGuT4ZVUBixRsccMk+QE7xECDtPEJATvEQIO08QkAePloWuVI/QB4+Wha5Uj9Aks3Bvv0dP0CSzcG+/R0/QAAAAAAAAPh/9JXGp+7JRED0lcan7slEQLxhXB74/lJAvGFcHvj+UkDWIjpYUPtHQNYiOlhQ+0dA9v5fQFMdRUD2/l9AUx1FQJ+4PVA3B0BAn7g9UDcHQEA=",
             "dtype": "f8"
            },
            "colorbar": {
             "len": 0.6,
             "thickness": 15,
             "title": {
              "text": "Class A Rent ($)"
             },
             "y": 0.5,
             "yanchor": "middle"
            },
            "colorscale": [
             [
              0,
              "#440154"
             ],
             [
              0.1111111111111111,
              "#482878"
             ],
             [
              0.2222222222222222,
              "#3e4989"
             ],
             [
              0.3333333333333333,
              "#31688e"
             ],
             [
              0.4444444444444444,
              "#26828e"
             ],
             [
              0.5555555555555556,
              "#1f9e89"
             ],
             [
              0.6666666666666666,
              "#35b779"
             ],
             [
              0.7777777777777778,
              "#6ece58"
             ],
             [
              0.8888888888888888,
              "#b5de2b"
             ],
             [
              1,
              "#fde725"
             ]
            ],
            "line": {
             "color": "DarkSlateGrey",
             "width": 1
            },
            "size": {
             "bdata": "lize6SccKUCWLN7pJxwpQEI4vZ4asjRAQji9nhqyNECnJpA315klQKcmkDfXmSVAyJ6xjG5AM0DInrGMbkAzQFb9JKy/kylAFxWOgHYKJkAXFY6AdgomQBNq+dVhCCRAE2r51WEIJEC39Q35YMcpQLf1DflgxylABpr/qauXM0AGmv+pq5czQJlkjiFAH0VAmWSOIUAfRUAuvBvBo+knQAJLllyKxytAAkuWXIrHK0C+9OOWET0oQL7045YRPShArDh+qMIcKECsOH6owhwoQAAAAAAAAC5AiWY9GlbtL0CJZj0aVu0vQOnyaMHNBUJA6fJowc0FQkCyLC080fEyQLIsLTzR8TJAhofGgbw/MECGh8aBvD8wQNedOfGusihA15058a6yKEA=",
             "dtype": "f8"
            }
           },
           "mode": "markers",
           "name": "2021-Q3",
           "text": [
            "<b>Atlanta</b><br>Time Period: 2021-Q3<br>Class A Rent: $32.69<br>Class O Rent: $23.39<br>A/O Ratio: 1.40<br>Legal Growth Index: 56%<br>Tech Growth Index: 112%<br>Finance Growth Index: 81%",
            "<b>Atlanta</b><br>Time Period: 2021-Q3<br>Class A Rent: $32.69<br>Class O Rent: $23.39<br>A/O Ratio: 1.40<br>Legal Growth Index: 56%<br>Tech Growth Index: 112%<br>Finance Growth Index: 44%",
            "<b>Austin</b><br>Time Period: 2021-Q3<br>Class A Rent: $51.38<br>Class O Rent: $35.75<br>A/O Ratio: 1.44<br>Legal Growth Index: 87%<br>Tech Growth Index: 70%<br>Finance Growth Index: 37%",
            "<b>Austin</b><br>Time Period: 2021-Q3<br>Class A Rent: $51.38<br>Class O Rent: $35.75<br>A/O Ratio: 1.44<br>Legal Growth Index: 87%<br>Tech Growth Index: 36%<br>Finance Growth Index: 37%",
            "<b>Baltimore</b><br>Time Period: 2021-Q3<br>Class A Rent: $26.39<br>Class O Rent: $21.03<br>A/O Ratio: 1.26<br>Legal Growth Index: 128%<br>Tech Growth Index: 58%<br>Finance Growth Index: 33%",
            "<b>Baltimore</b><br>Time Period: 2021-Q3<br>Class A Rent: $26.39<br>Class O Rent: $21.03<br>A/O Ratio: 1.26<br>Legal Growth Index: 128%<br>Tech Growth Index: 29%<br>Finance Growth Index: 33%",
            "<b>Boston</b><br>Time Period: 2021-Q3<br>Class A Rent: $48.58<br>Class O Rent: $22.69<br>A/O Ratio: 2.14<br>Legal Growth Index: 109%<br>Tech Growth Index: 43%<br>Finance Growth Index: 67%",
            "<b>Boston</b><br>Time Period: 2021-Q3<br>Class A Rent: $48.58<br>Class O Rent: $22.69<br>A/O Ratio: 2.14<br>Legal Growth Index: 109%<br>Tech Growth Index: 20%<br>Finance Growth Index: 45%",
            "<b>Charlotte</b><br>Time Period: 2021-Q3<br>Class A Rent: $33.40<br>Class O Rent: $nan<br>Legal Growth Index: 106%<br>Tech Growth Index: 44%<br>Finance Growth Index: 64%",
            "<b>Chicago Suburbs</b><br>Time Period: 2021-Q3<br>Class A Rent: $27.34<br>Class O Rent: $20.32<br>A/O Ratio: 1.35<br>Legal Growth Index: 13%<br>Tech Growth Index: 44%<br>Finance Growth Index: 66%",
            "<b>Chicago Suburbs</b><br>Time Period: 2021-Q3<br>Class A Rent: $27.34<br>Class O Rent: $20.32<br>A/O Ratio: 1.35<br>Legal Growth Index: 13%<br>Tech Growth Index: 44%<br>Finance Growth Index: 53%",
            "<b>Detroit</b><br>Time Period: 2021-Q3<br>Class A Rent: $21.40<br>Class O Rent: $19.42<br>A/O Ratio: 1.10<br>Legal Growth Index: 79%<br>Tech Growth Index: 25%<br>Finance Growth Index: 35%",
            "<b>Detroit</b><br>Time Period: 2021-Q3<br>Class A Rent: $21.40<br>Class O Rent: $19.42<br>A/O Ratio: 1.10<br>Legal Growth Index: 80%<br>Tech Growth Index: 25%<br>Finance Growth Index: 37%",
            "<b>Houston</b><br>Time Period: 2021-Q3<br>Class A Rent: $33.69<br>Class O Rent: $21.26<br>A/O Ratio: 1.59<br>Legal Growth Index: 57%<br>Tech Growth Index: 16%<br>Finance Growth Index: 98%",
            "<b>Houston</b><br>Time Period: 2021-Q3<br>Class A Rent: $33.69<br>Class O Rent: $21.26<br>A/O Ratio: 1.59<br>Legal Growth Index: 51%<br>Tech Growth Index: 16%<br>Finance Growth Index: 92%",
            "<b>Los Angeles</b><br>Time Period: 2021-Q3<br>Class A Rent: $49.25<br>Class O Rent: $39.85<br>A/O Ratio: 1.24<br>Legal Growth Index: 28%<br>Tech Growth Index: 63%<br>Finance Growth Index: 13%",
            "<b>Los Angeles</b><br>Time Period: 2021-Q3<br>Class A Rent: $49.25<br>Class O Rent: $39.85<br>A/O Ratio: 1.24<br>Legal Growth Index: -2%<br>Tech Growth Index: 44%<br>Finance Growth Index: 13%",
            "<b>Manhattan</b><br>Time Period: 2021-Q3<br>Class A Rent: $84.39<br>Class O Rent: $60.45<br>A/O Ratio: 1.40<br>Legal Growth Index: 20%<br>Tech Growth Index: 23%<br>Finance Growth Index: 32%",
            "<b>Manhattan</b><br>Time Period: 2021-Q3<br>Class A Rent: $84.39<br>Class O Rent: $60.45<br>A/O Ratio: 1.40<br>Legal Growth Index: 20%<br>Tech Growth Index: 31%<br>Finance Growth Index: 32%",
            "<b>Northern New Jersey</b><br>Time Period: 2021-Q3<br>Class A Rent: $30.79<br>Class O Rent: $nan<br>Legal Growth Index: 23%<br>Tech Growth Index: -9%<br>Finance Growth Index: 41%",
            "<b>Northern Virginia</b><br>Time Period: 2021-Q3<br>Class A Rent: $36.48<br>Class O Rent: $30.88<br>A/O Ratio: 1.18<br>Legal Growth Index: 6%<br>Tech Growth Index: 80%<br>Finance Growth Index: 34%",
            "<b>Northern Virginia</b><br>Time Period: 2021-Q3<br>Class A Rent: $36.48<br>Class O Rent: $30.88<br>A/O Ratio: 1.18<br>Legal Growth Index: 6%<br>Tech Growth Index: -48%<br>Finance Growth Index: -14%",
            "<b>Philadelphia</b><br>Time Period: 2021-Q3<br>Class A Rent: $31.32<br>Class O Rent: $26.38<br>A/O Ratio: 1.19<br>Legal Growth Index: 114%<br>Tech Growth Index: 71%<br>Finance Growth Index: 93%",
            "<b>Philadelphia</b><br>Time Period: 2021-Q3<br>Class A Rent: $31.32<br>Class O Rent: $26.38<br>A/O Ratio: 1.19<br>Legal Growth Index: 84%<br>Tech Growth Index: 60%<br>Finance Growth Index: 65%",
            "<b>Phoenix</b><br>Time Period: 2021-Q3<br>Class A Rent: $31.12<br>Class O Rent: $24.74<br>A/O Ratio: 1.26<br>Legal Growth Index: 22%<br>Tech Growth Index: 102%<br>Finance Growth Index: 88%",
            "<b>Phoenix</b><br>Time Period: 2021-Q3<br>Class A Rent: $31.12<br>Class O Rent: $24.74<br>A/O Ratio: 1.26<br>Legal Growth Index: 22%<br>Tech Growth Index: 104%<br>Finance Growth Index: 91%",
            "<b>Salt Lake City</b><br>Time Period: 2021-Q3<br>Class A Rent: $nan<br>Class O Rent: $22.57<br>Legal Growth Index: 154%<br>Tech Growth Index: -40%<br>Finance Growth Index: -17%",
            "<b>San Diego</b><br>Time Period: 2021-Q3<br>Class A Rent: $41.58<br>Class O Rent: $32.67<br>A/O Ratio: 1.27<br>Legal Growth Index: 30%<br>Tech Growth Index: 42%<br>Finance Growth Index: 17%",
            "<b>San Diego</b><br>Time Period: 2021-Q3<br>Class A Rent: $41.58<br>Class O Rent: $32.67<br>A/O Ratio: 1.27<br>Legal Growth Index: 18%<br>Tech Growth Index: 39%<br>Finance Growth Index: -1%",
            "<b>San Francisco</b><br>Time Period: 2021-Q3<br>Class A Rent: $75.98<br>Class O Rent: $67.50<br>A/O Ratio: 1.13<br>Legal Growth Index: 43%<br>Tech Growth Index: 79%<br>Finance Growth Index: 0%",
            "<b>San Francisco</b><br>Time Period: 2021-Q3<br>Class A Rent: $75.98<br>Class O Rent: $67.50<br>A/O Ratio: 1.13<br>Legal Growth Index: 43%<br>Tech Growth Index: 62%<br>Finance Growth Index: -9%",
            "<b>Seattle</b><br>Time Period: 2021-Q3<br>Class A Rent: $47.96<br>Class O Rent: $30.53<br>A/O Ratio: 1.57<br>Legal Growth Index: 113%<br>Tech Growth Index: 77%<br>Finance Growth Index: 26%",
            "<b>Seattle</b><br>Time Period: 2021-Q3<br>Class A Rent: $47.96<br>Class O Rent: $30.53<br>A/O Ratio: 1.57<br>Legal Growth Index: 74%<br>Tech Growth Index: 61%<br>Finance Growth Index: 34%",
            "<b>South Florida</b><br>Time Period: 2021-Q3<br>Class A Rent: $42.23<br>Class O Rent: $31.86<br>A/O Ratio: 1.33<br>Legal Growth Index: 23%<br>Tech Growth Index: 87%<br>Finance Growth Index: 94%",
            "<b>South Florida</b><br>Time Period: 2021-Q3<br>Class A Rent: $42.23<br>Class O Rent: $31.86<br>A/O Ratio: 1.33<br>Legal Growth Index: 23%<br>Tech Growth Index: 87%<br>Finance Growth Index: 90%",
            "<b>Tampa</b><br>Time Period: 2021-Q3<br>Class A Rent: $32.06<br>Class O Rent: $23.47<br>A/O Ratio: 1.37<br>Legal Growth Index: -42%<br>Tech Growth Index: 2%<br>Finance Growth Index: 4%",
            "<b>Tampa</b><br>Time Period: 2021-Q3<br>Class A Rent: $32.06<br>Class O Rent: $23.47<br>A/O Ratio: 1.37<br>Legal Growth Index: -42%<br>Tech Growth Index: 19%<br>Finance Growth Index: 4%"
           ],
           "type": "scattergeo"
          }
         ],
         "layout": {
          "title": {
           "text": "US Market Rental Rates Over Time: 2021-Q3"
          }
         },
         "name": "2021-Q3"
        },
        {
         "data": [
          {
           "hoverinfo": "text",
           "lat": {
            "bdata": "HVpkO9/fQEAdWmQ7399AQL99HThnRD5Av30dOGdEPkCh1jTvOKVDQKHWNO84pUNAEqW9wRcuRUASpb3BFy5FQPd14JwRnUFA93XgnBGdQUC8dJMYBAZFQLx0kxgEBkVA30+Nl24qRUDfT42XbipFQN/gC5Opwj1A3+ALk6nCPUD0bFZ9rgZBQPRsVn2uBkFAsb/snjxkRECxv+yePGREQJSHhVrTFEJAZ9XnaiteRECpE9BE2HBDQKkT0ETYcENAtRX7y+75Q0C1FfvL7vlDQGHD0ytluUBAYcPTK2W5QECk374OnFtAQKTfvg6cW0BA0NVW7C/jQkDQ1VbsL+NCQOhqK/aXzUdA6Gor9pfNR0D7XG3F/sI5QPtcbcX+wjlA3pOHhVrzO0Dek4eFWvM7QA==",
            "dtype": "f8"
           },
           "lon": {
            "bdata": "Rrbz/dQYVcBGtvP91BhVwBZqTfOOb1jAFmpN845vWMBlGeJYFydTwGUZ4lgXJ1PAAG+BBMXDUcAAb4EExcNRwH3Qs1n1NVTAfdCzWfU1VMDdtYR80OtVwN21hHzQ61XAl/+QfvvCVMCX/5B++8JUwOSDns2q11fA5IOezarXV8BBguLHmI9dwEGC4seYj13AA3gLJCh+UsADeAskKH5SwG6jAbwFslXAJXUCmgiLUsDn+6nx0kVTwOf7qfHSRVPAJlMFo5LKUsAmUwWjkspSwNv5fmq8BFzA2/l+arwEXMCu2F92T0pdwK7YX3ZPSl3AUPwYc9eaXsBQ/Bhz15pewBrAWyBBlV7AGsBbIEGVXsDc14FzRgxUwNzXgXNGDFTAzO7Jw0KdVMDM7snDQp1UwA==",
            "dtype": "f8"
           },
           "marker": {
            "cmax": 94.191224222457,
            "cmin": 20.9981865703684,
            "color": {
             "bdata": "uW8FhHplQEC5bwWEemVAQOop/kbxSElA6in+RvFISUDyKw+tkmk6QPIrD62SaTpAzDHhTJUOSUDMMeFMlQ5JQNr7nw/8tUBA2vufD/y1QEAgs45N43A7QCCzjk3jcDtAO/eF23nSNUA794XbedI1QL5wN+Ew7kBAvnA34TDuQECAcFSt8ahIQIBwVK3xqEhA6iknoU5YVUDqKSehTlhVQF9h38oNh0BA6RFlI5TKPkAyTeb6eF1CQDJN5vp4XUJAmCTQz/bbPkCYJNDP9ts+QCL7mUtcID9AIvuZS1wgP0BOO1R8O1tFQE47VHw7W0VAJmlZ4Bf7UkAmaVngF/tSQHriXA5WYkdAeuJcDlZiR0CQ6q60vjZGQJDqrrS+NkZAB+jh9knFP0AH6OH2ScU/QA==",
             "dtype": "f8"
            },
            "colorbar": {
             "len": 0.6,
             "thickness": 15,
             "title": {
              "text": "Class A Rent ($)"
             },
             "y": 0.5,
             "yanchor": "middle"
            },
            "colorscale": [
             [
              0,
              "#440154"
             ],
             [
              0.1111111111111111,
              "#482878"
             ],
             [
              0.2222222222222222,
              "#3e4989"
             ],
             [
              0.3333333333333333,
              "#31688e"
             ],
             [
              0.4444444444444444,
              "#26828e"
             ],
             [
              0.5555555555555556,
              "#1f9e89"
             ],
             [
              0.6666666666666666,
              "#35b779"
             ],
             [
              0.7777777777777778,
              "#6ece58"
             ],
             [
              0.8888888888888888,
              "#b5de2b"
             ],
             [
              1,
              "#fde725"
             ]
            ],
            "line": {
             "color": "DarkSlateGrey",
             "width": 1
            },
            "size": {
             "bdata": "/iaISM0sKUD+JohIzSwpQNDV39+3RTRA0NXf37dFNEBsy5llB5wlQGzLmWUHnCVAwLev5yIJNEDAt6/nIgk0QGx3Y7ormClAbHdjuiuYKUDOimGu2hYmQM6KYa7aFiZA/2T2c3YYJED/ZPZzdhgkQOPEiaPE5ClA48SJo8TkKUC+LpipwaAzQL4umKnBoDNA8jTMldh/RUDyNMyV2H9FQDZ7T8A9WSlAxdSB3VLqJ0DcxBgY0fgrQNzEGBjR+CtA1fLHk8T0J0DV8seTxPQnQIjK1X40HihAiMrVfjQeKEB9MELntXYwQH0wQue1djBAABa+JEwAQkAAFr4kTABCQMykdNpIWzJAzKR02khbMkA4fJ90jj4xQDh8n3SOPjFAry6S0l+EKECvLpLSX4QoQA==",
             "dtype": "f8"
            }
           },
           "mode": "markers",
           "name": "2021-Q4",
           "text": [
            "<b>Atlanta</b><br>Time Period: 2021-Q4<br>Class A Rent: $32.79<br>Class O Rent: $23.74<br>A/O Ratio: 1.38<br>Legal Growth Index: 81%<br>Tech Growth Index: 105%<br>Finance Growth Index: 111%",
            "<b>Atlanta</b><br>Time Period: 2021-Q4<br>Class A Rent: $32.79<br>Class O Rent: $23.74<br>A/O Ratio: 1.38<br>Legal Growth Index: 81%<br>Tech Growth Index: 28%<br>Finance Growth Index: 40%",
            "<b>Austin</b><br>Time Period: 2021-Q4<br>Class A Rent: $50.57<br>Class O Rent: $35.54<br>A/O Ratio: 1.42<br>Legal Growth Index: 63%<br>Tech Growth Index: 127%<br>Finance Growth Index: 59%",
            "<b>Austin</b><br>Time Period: 2021-Q4<br>Class A Rent: $50.57<br>Class O Rent: $35.54<br>A/O Ratio: 1.42<br>Legal Growth Index: 63%<br>Tech Growth Index: 13%<br>Finance Growth Index: 34%",
            "<b>Baltimore</b><br>Time Period: 2021-Q4<br>Class A Rent: $26.41<br>Class O Rent: $21.25<br>A/O Ratio: 1.24<br>Legal Growth Index: 89%<br>Tech Growth Index: 34%<br>Finance Growth Index: 46%",
            "<b>Baltimore</b><br>Time Period: 2021-Q4<br>Class A Rent: $26.41<br>Class O Rent: $21.25<br>A/O Ratio: 1.24<br>Legal Growth Index: 89%<br>Tech Growth Index: 34%<br>Finance Growth Index: 36%",
            "<b>Boston</b><br>Time Period: 2021-Q4<br>Class A Rent: $50.11<br>Class O Rent: $22.83<br>A/O Ratio: 2.19<br>Legal Growth Index: 9%<br>Tech Growth Index: 72%<br>Finance Growth Index: 87%",
            "<b>Boston</b><br>Time Period: 2021-Q4<br>Class A Rent: $50.11<br>Class O Rent: $22.83<br>A/O Ratio: 2.19<br>Legal Growth Index: 5%<br>Tech Growth Index: 72%<br>Finance Growth Index: 87%",
            "<b>Charlotte</b><br>Time Period: 2021-Q4<br>Class A Rent: $33.42<br>Class O Rent: $25.41<br>A/O Ratio: 1.32<br>Legal Growth Index: 125%<br>Tech Growth Index: 3%<br>Finance Growth Index: 70%",
            "<b>Charlotte</b><br>Time Period: 2021-Q4<br>Class A Rent: $33.42<br>Class O Rent: $25.41<br>A/O Ratio: 1.32<br>Legal Growth Index: 125%<br>Tech Growth Index: 3%<br>Finance Growth Index: 66%",
            "<b>Chicago Suburbs</b><br>Time Period: 2021-Q4<br>Class A Rent: $27.44<br>Class O Rent: $20.33<br>A/O Ratio: 1.35<br>Legal Growth Index: 64%<br>Tech Growth Index: 56%<br>Finance Growth Index: 8%",
            "<b>Chicago Suburbs</b><br>Time Period: 2021-Q4<br>Class A Rent: $27.44<br>Class O Rent: $20.33<br>A/O Ratio: 1.35<br>Legal Growth Index: 64%<br>Tech Growth Index: 56%<br>Finance Growth Index: 13%",
            "<b>Detroit</b><br>Time Period: 2021-Q4<br>Class A Rent: $21.82<br>Class O Rent: $19.54<br>A/O Ratio: 1.12<br>Legal Growth Index: 85%<br>Tech Growth Index: 72%<br>Finance Growth Index: 9%",
            "<b>Detroit</b><br>Time Period: 2021-Q4<br>Class A Rent: $21.82<br>Class O Rent: $19.54<br>A/O Ratio: 1.12<br>Legal Growth Index: 93%<br>Tech Growth Index: 55%<br>Finance Growth Index: 11%",
            "<b>Houston</b><br>Time Period: 2021-Q4<br>Class A Rent: $33.86<br>Class O Rent: $21.32<br>A/O Ratio: 1.59<br>Legal Growth Index: 75%<br>Tech Growth Index: 57%<br>Finance Growth Index: 94%",
            "<b>Houston</b><br>Time Period: 2021-Q4<br>Class A Rent: $33.86<br>Class O Rent: $21.32<br>A/O Ratio: 1.59<br>Legal Growth Index: 42%<br>Tech Growth Index: 24%<br>Finance Growth Index: 79%",
            "<b>Los Angeles</b><br>Time Period: 2021-Q4<br>Class A Rent: $49.32<br>Class O Rent: $40.27<br>A/O Ratio: 1.22<br>Legal Growth Index: 33%<br>Tech Growth Index: 58%<br>Finance Growth Index: 46%",
            "<b>Los Angeles</b><br>Time Period: 2021-Q4<br>Class A Rent: $49.32<br>Class O Rent: $40.27<br>A/O Ratio: 1.22<br>Legal Growth Index: 12%<br>Tech Growth Index: 14%<br>Finance Growth Index: 46%",
            "<b>Manhattan</b><br>Time Period: 2021-Q4<br>Class A Rent: $85.38<br>Class O Rent: $60.80<br>A/O Ratio: 1.40<br>Legal Growth Index: 37%<br>Tech Growth Index: 46%<br>Finance Growth Index: 54%",
            "<b>Manhattan</b><br>Time Period: 2021-Q4<br>Class A Rent: $85.38<br>Class O Rent: $60.80<br>A/O Ratio: 1.40<br>Legal Growth Index: 16%<br>Tech Growth Index: 23%<br>Finance Growth Index: 33%",
            "<b>Nashville</b><br>Time Period: 2021-Q4<br>Class A Rent: $33.06<br>Class O Rent: $nan<br>Legal Growth Index: 25%<br>Tech Growth Index: -3%<br>Finance Growth Index: -57%",
            "<b>Northern New Jersey</b><br>Time Period: 2021-Q4<br>Class A Rent: $30.79<br>Class O Rent: $nan<br>Legal Growth Index: 57%<br>Tech Growth Index: 44%<br>Finance Growth Index: 32%",
            "<b>Northern Virginia</b><br>Time Period: 2021-Q4<br>Class A Rent: $36.73<br>Class O Rent: $31.37<br>A/O Ratio: 1.17<br>Legal Growth Index: 0%<br>Tech Growth Index: 19%<br>Finance Growth Index: 50%",
            "<b>Northern Virginia</b><br>Time Period: 2021-Q4<br>Class A Rent: $36.73<br>Class O Rent: $31.37<br>A/O Ratio: 1.17<br>Legal Growth Index: 0%<br>Tech Growth Index: -6%<br>Finance Growth Index: 33%",
            "<b>Philadelphia</b><br>Time Period: 2021-Q4<br>Class A Rent: $30.86<br>Class O Rent: $26.55<br>A/O Ratio: 1.16<br>Legal Growth Index: 57%<br>Tech Growth Index: 106%<br>Finance Growth Index: 120%",
            "<b>Philadelphia</b><br>Time Period: 2021-Q4<br>Class A Rent: $30.86<br>Class O Rent: $26.55<br>A/O Ratio: 1.16<br>Legal Growth Index: 21%<br>Tech Growth Index: 58%<br>Finance Growth Index: 94%",
            "<b>Phoenix</b><br>Time Period: 2021-Q4<br>Class A Rent: $31.13<br>Class O Rent: $25.05<br>A/O Ratio: 1.24<br>Legal Growth Index: 131%<br>Tech Growth Index: 99%<br>Finance Growth Index: 81%",
            "<b>Phoenix</b><br>Time Period: 2021-Q4<br>Class A Rent: $31.13<br>Class O Rent: $25.05<br>A/O Ratio: 1.24<br>Legal Growth Index: 131%<br>Tech Growth Index: 99%<br>Finance Growth Index: 88%",
            "<b>San Diego</b><br>Time Period: 2021-Q4<br>Class A Rent: $42.71<br>Class O Rent: $32.59<br>A/O Ratio: 1.31<br>Legal Growth Index: -5%<br>Tech Growth Index: -73%<br>Finance Growth Index: 69%",
            "<b>San Diego</b><br>Time Period: 2021-Q4<br>Class A Rent: $42.71<br>Class O Rent: $32.59<br>A/O Ratio: 1.31<br>Legal Growth Index: -5%<br>Tech Growth Index: -73%<br>Finance Growth Index: 48%",
            "<b>San Francisco</b><br>Time Period: 2021-Q4<br>Class A Rent: $75.92<br>Class O Rent: $67.13<br>A/O Ratio: 1.13<br>Legal Growth Index: 89%<br>Tech Growth Index: 45%<br>Finance Growth Index: -12%",
            "<b>San Francisco</b><br>Time Period: 2021-Q4<br>Class A Rent: $75.92<br>Class O Rent: $67.13<br>A/O Ratio: 1.13<br>Legal Growth Index: 89%<br>Tech Growth Index: 23%<br>Finance Growth Index: -12%",
            "<b>Seattle</b><br>Time Period: 2021-Q4<br>Class A Rent: $46.77<br>Class O Rent: $31.27<br>A/O Ratio: 1.50<br>Legal Growth Index: 5%<br>Tech Growth Index: 55%<br>Finance Growth Index: 40%",
            "<b>Seattle</b><br>Time Period: 2021-Q4<br>Class A Rent: $46.77<br>Class O Rent: $31.27<br>A/O Ratio: 1.50<br>Legal Growth Index: 5%<br>Tech Growth Index: 37%<br>Finance Growth Index: 40%",
            "<b>South Florida</b><br>Time Period: 2021-Q4<br>Class A Rent: $44.43<br>Class O Rent: $32.25<br>A/O Ratio: 1.38<br>Legal Growth Index: 49%<br>Tech Growth Index: 27%<br>Finance Growth Index: 59%",
            "<b>South Florida</b><br>Time Period: 2021-Q4<br>Class A Rent: $44.43<br>Class O Rent: $32.25<br>A/O Ratio: 1.38<br>Legal Growth Index: 49%<br>Tech Growth Index: 11%<br>Finance Growth Index: 48%",
            "<b>Tampa</b><br>Time Period: 2021-Q4<br>Class A Rent: $31.77<br>Class O Rent: $23.84<br>A/O Ratio: 1.33<br>Legal Growth Index: 2%<br>Tech Growth Index: 24%<br>Finance Growth Index: 49%",
            "<b>Tampa</b><br>Time Period: 2021-Q4<br>Class A Rent: $31.77<br>Class O Rent: $23.84<br>A/O Ratio: 1.33<br>Legal Growth Index: -9%<br>Tech Growth Index: 17%<br>Finance Growth Index: 28%"
           ],
           "type": "scattergeo"
          }
         ],
         "layout": {
          "title": {
           "text": "US Market Rental Rates Over Time: 2021-Q4"
          }
         },
         "name": "2021-Q4"
        },
        {
         "data": [
          {
           "hoverinfo": "text",
           "lat": {
            "bdata": "HVpkO9/fQEAdWmQ7399AQL99HThnRD5Av30dOGdEPkCh1jTvOKVDQKHWNO84pUNAEqW9wRcuRUASpb3BFy5FQPd14JwRnUFA93XgnBGdQUC8dJMYBAZFQN9PjZduKkVA3+ALk6nCPUD0bFZ9rgZBQPRsVn2uBkFAsb/snjxkRECxv+yePGREQJSHhVrTFEJAlIeFWtMUQkBn1edqK15EQGfV52orXkRAqRPQRNhwQ0CpE9BE2HBDQLUV+8vu+UNAtRX7y+75Q0Bhw9MrZblAQGHD0ytluUBA/mX35GFhRED+ZffkYWFEQKTfvg6cW0BA0NVW7C/jQkDoaiv2l81HQOhqK/aXzUdA+1xtxf7COUD7XG3F/sI5QN6Th4Va8ztA3pOHhVrzO0A=",
            "dtype": "f8"
           },
           "lon": {
            "bdata": "Rrbz/dQYVcBGtvP91BhVwBZqTfOOb1jAFmpN845vWMBlGeJYFydTwGUZ4lgXJ1PAAG+BBMXDUcAAb4EExcNRwH3Qs1n1NVTAfdCzWfU1VMDdtYR80OtVwJf/kH77wlTA5IOezarXV8BBguLHmI9dwEGC4seYj13AA3gLJCh+UsADeAskKH5SwG6jAbwFslXAbqMBvAWyVcAldQKaCItSwCV1ApoIi1LA5/up8dJFU8Dn+6nx0kVTwCZTBaOSylLAJlMFo5LKUsDb+X5qvARcwNv5fmq8BFzAGy/dJAb5W8AbL90kBvlbwK7YX3ZPSl3AUPwYc9eaXsAawFsgQZVewBrAWyBBlV7A3NeBc0YMVMDc14FzRgxUwMzuycNCnVTAzO7Jw0KdVMA=",
            "dtype": "f8"
           },
           "marker": {
            "cmax": 94.191224222457,
            "cmin": 20.9981865703684,
            "color": {
             "bdata": "wzSmjYmsQEDDNKaNiaxAQPQCBsP8wklA9AIGw/zCSUA5CSBh06Y6QDkJIGHTpjpATgr5Z48fSUBOCvlnjx9JQEdiAsMqHEFAR2ICwyocQUB7cjG1Lq88QCbQEVeGyzVA9nxr0Yn9QEBSigeQZ5FIQFKKB5BnkUhAVOlGaIe/VUBU6UZoh79VQAyXtIlCxkBADJe0iULGQEDVUFO/A28+QNVQU78Dbz5AxPDeJy5XQkDE8N4nLldCQFZ6aqwreD9AVnpqrCt4P0DIdQlTE1c/QMh1CVMTVz9AghQyOTFPPECCFDI5MU88QPjCYikP1EVAH1BGeKMnU0BQhCnPE1ZJQFCEKc8TVklAbTHoaWu0RkBtMehpa7RGQDJwxZpmN0BAMnDFmmY3QEA=",
             "dtype": "f8"
            },
            "colorbar": {
             "len": 0.6,
             "thickness": 15,
             "title": {
              "text": "Class A Rent ($)"
             },
             "y": 0.5,
             "yanchor": "middle"
            },
            "colorscale": [
             [
              0,
              "#440154"
             ],
             [
              0.1111111111111111,
              "#482878"
             ],
             [
              0.2222222222222222,
              "#3e4989"
             ],
             [
              0.3333333333333333,
              "#31688e"
             ],
             [
              0.4444444444444444,
              "#26828e"
             ],
             [
              0.5555555555555556,
              "#1f9e89"
             ],
             [
              0.6666666666666666,
              "#35b779"
             ],
             [
              0.7777777777777778,
              "#6ece58"
             ],
             [
              0.8888888888888888,
              "#b5de2b"
             ],
             [
              1,
              "#fde725"
             ]
            ],
            "line": {
             "color": "DarkSlateGrey",
             "width": 1
            },
            "size": {
             "bdata": "pu+/X22LKUCm779fbYspQFp+dCfsxTRAWn50J+zFNEBgsww4pLclQGCzDDiktyVAsip+GbYaNECyKn4Ztho0QPAYtMtnJCpA8Bi0y2ckKkATa+/K7LgmQJ1YPXZDFyRAG+Ws3+n5KUDydETryYgzQPJ0ROvJiDNAX+ayEI4fRkBf5rIQjh9GQINKD682rilAg0oPrzauKUDYWU+y6rMnQNhZT7LqsydA9kBpPULvK0D2QGk9Qu8rQLqq0Js1VChAuqrQmzVUKEDw7x/9vz8oQPDvH/2/PyhAl8yGvI2GJkCXzIa8jYYmQGbOcvzF4zBAejeQM8M/QkBMWYIMa1M0QExZggxrUzRARXA9L1i0MUBFcD0vWLQxQFxrGKOd8ChAXGsYo53wKEA=",
             "dtype": "f8"
            }
           },
           "mode": "markers",
           "name": "2022-Q1",
           "text": [
            "<b>Atlanta</b><br>Time Period: 2022-Q1<br>Class A Rent: $33.35<br>Class O Rent: $23.43<br>A/O Ratio: 1.42<br>Legal Growth Index: 36%<br>Tech Growth Index: 108%<br>Finance Growth Index: 45%",
            "<b>Atlanta</b><br>Time Period: 2022-Q1<br>Class A Rent: $33.35<br>Class O Rent: $23.43<br>A/O Ratio: 1.42<br>Legal Growth Index: 36%<br>Tech Growth Index: 108%<br>Finance Growth Index: 41%",
            "<b>Austin</b><br>Time Period: 2022-Q1<br>Class A Rent: $51.52<br>Class O Rent: $36.72<br>A/O Ratio: 1.40<br>Legal Growth Index: 32%<br>Tech Growth Index: 26%<br>Finance Growth Index: 107%",
            "<b>Austin</b><br>Time Period: 2022-Q1<br>Class A Rent: $51.52<br>Class O Rent: $36.72<br>A/O Ratio: 1.40<br>Legal Growth Index: 32%<br>Tech Growth Index: 26%<br>Finance Growth Index: 42%",
            "<b>Baltimore</b><br>Time Period: 2022-Q1<br>Class A Rent: $26.65<br>Class O Rent: $21.39<br>A/O Ratio: 1.25<br>Legal Growth Index: -26%<br>Tech Growth Index: 29%<br>Finance Growth Index: 95%",
            "<b>Baltimore</b><br>Time Period: 2022-Q1<br>Class A Rent: $26.65<br>Class O Rent: $21.39<br>A/O Ratio: 1.25<br>Legal Growth Index: -26%<br>Tech Growth Index: 15%<br>Finance Growth Index: 95%",
            "<b>Boston</b><br>Time Period: 2022-Q1<br>Class A Rent: $50.25<br>Class O Rent: $21.84<br>A/O Ratio: 2.30<br>Legal Growth Index: 106%<br>Tech Growth Index: 47%<br>Finance Growth Index: 72%",
            "<b>Boston</b><br>Time Period: 2022-Q1<br>Class A Rent: $50.25<br>Class O Rent: $21.84<br>A/O Ratio: 2.30<br>Legal Growth Index: 106%<br>Tech Growth Index: 32%<br>Finance Growth Index: 72%",
            "<b>Charlotte</b><br>Time Period: 2022-Q1<br>Class A Rent: $34.22<br>Class O Rent: $25.75<br>A/O Ratio: 1.33<br>Legal Growth Index: 57%<br>Tech Growth Index: 76%<br>Finance Growth Index: 136%",
            "<b>Charlotte</b><br>Time Period: 2022-Q1<br>Class A Rent: $34.22<br>Class O Rent: $25.75<br>A/O Ratio: 1.33<br>Legal Growth Index: 57%<br>Tech Growth Index: 56%<br>Finance Growth Index: 136%",
            "<b>Chicago Suburbs</b><br>Time Period: 2022-Q1<br>Class A Rent: $28.68<br>Class O Rent: $nan<br>Legal Growth Index: -100%<br>Tech Growth Index: 95%<br>Finance Growth Index: 19%",
            "<b>Detroit</b><br>Time Period: 2022-Q1<br>Class A Rent: $21.80<br>Class O Rent: $nan<br>Legal Growth Index: 73%<br>Tech Growth Index: -27%<br>Finance Growth Index: 3%",
            "<b>Houston</b><br>Time Period: 2022-Q1<br>Class A Rent: $33.98<br>Class O Rent: $nan<br>Legal Growth Index: 16%<br>Tech Growth Index: 62%<br>Finance Growth Index: 3%",
            "<b>Los Angeles</b><br>Time Period: 2022-Q1<br>Class A Rent: $49.14<br>Class O Rent: $40.58<br>A/O Ratio: 1.21<br>Legal Growth Index: 86%<br>Tech Growth Index: 17%<br>Finance Growth Index: 46%",
            "<b>Los Angeles</b><br>Time Period: 2022-Q1<br>Class A Rent: $49.14<br>Class O Rent: $40.58<br>A/O Ratio: 1.21<br>Legal Growth Index: 86%<br>Tech Growth Index: -5%<br>Finance Growth Index: 46%",
            "<b>Manhattan</b><br>Time Period: 2022-Q1<br>Class A Rent: $86.99<br>Class O Rent: $61.12<br>A/O Ratio: 1.42<br>Legal Growth Index: 28%<br>Tech Growth Index: 39%<br>Finance Growth Index: 31%",
            "<b>Manhattan</b><br>Time Period: 2022-Q1<br>Class A Rent: $86.99<br>Class O Rent: $61.12<br>A/O Ratio: 1.42<br>Legal Growth Index: 28%<br>Tech Growth Index: 30%<br>Finance Growth Index: 31%",
            "<b>Nashville</b><br>Time Period: 2022-Q1<br>Class A Rent: $33.55<br>Class O Rent: $28.06<br>A/O Ratio: 1.20<br>Legal Growth Index: 85%<br>Tech Growth Index: 76%<br>Finance Growth Index: 106%",
            "<b>Nashville</b><br>Time Period: 2022-Q1<br>Class A Rent: $33.55<br>Class O Rent: $28.06<br>A/O Ratio: 1.20<br>Legal Growth Index: 80%<br>Tech Growth Index: 76%<br>Finance Growth Index: 106%",
            "<b>Northern New Jersey</b><br>Time Period: 2022-Q1<br>Class A Rent: $30.43<br>Class O Rent: $25.42<br>A/O Ratio: 1.20<br>Legal Growth Index: 138%<br>Tech Growth Index: 27%<br>Finance Growth Index: 135%",
            "<b>Northern New Jersey</b><br>Time Period: 2022-Q1<br>Class A Rent: $30.43<br>Class O Rent: $25.42<br>A/O Ratio: 1.20<br>Legal Growth Index: 18%<br>Tech Growth Index: -0%<br>Finance Growth Index: 135%",
            "<b>Northern Virginia</b><br>Time Period: 2022-Q1<br>Class A Rent: $36.68<br>Class O Rent: $31.47<br>A/O Ratio: 1.17<br>Legal Growth Index: 11%<br>Tech Growth Index: 34%<br>Finance Growth Index: 74%",
            "<b>Northern Virginia</b><br>Time Period: 2022-Q1<br>Class A Rent: $36.68<br>Class O Rent: $31.47<br>A/O Ratio: 1.17<br>Legal Growth Index: 11%<br>Tech Growth Index: -32%<br>Finance Growth Index: 74%",
            "<b>Philadelphia</b><br>Time Period: 2022-Q1<br>Class A Rent: $31.47<br>Class O Rent: $26.62<br>A/O Ratio: 1.18<br>Legal Growth Index: 153%<br>Tech Growth Index: 130%<br>Finance Growth Index: 40%",
            "<b>Philadelphia</b><br>Time Period: 2022-Q1<br>Class A Rent: $31.47<br>Class O Rent: $26.62<br>A/O Ratio: 1.18<br>Legal Growth Index: 108%<br>Tech Growth Index: 130%<br>Finance Growth Index: 22%",
            "<b>Phoenix</b><br>Time Period: 2022-Q1<br>Class A Rent: $31.34<br>Class O Rent: $24.83<br>A/O Ratio: 1.26<br>Legal Growth Index: 49%<br>Tech Growth Index: 115%<br>Finance Growth Index: 22%",
            "<b>Phoenix</b><br>Time Period: 2022-Q1<br>Class A Rent: $31.34<br>Class O Rent: $24.83<br>A/O Ratio: 1.26<br>Legal Growth Index: 49%<br>Tech Growth Index: 125%<br>Finance Growth Index: 22%",
            "<b>Salt Lake City</b><br>Time Period: 2022-Q1<br>Class A Rent: $28.31<br>Class O Rent: $23.19<br>A/O Ratio: 1.22<br>Legal Growth Index: 143%<br>Tech Growth Index: -48%<br>Finance Growth Index: -78%",
            "<b>Salt Lake City</b><br>Time Period: 2022-Q1<br>Class A Rent: $28.31<br>Class O Rent: $23.19<br>A/O Ratio: 1.22<br>Legal Growth Index: 143%<br>Tech Growth Index: -5%<br>Finance Growth Index: -100%",
            "<b>San Diego</b><br>Time Period: 2022-Q1<br>Class A Rent: $43.66<br>Class O Rent: $nan<br>Legal Growth Index: 12%<br>Tech Growth Index: -27%<br>Finance Growth Index: -3%",
            "<b>San Francisco</b><br>Time Period: 2022-Q1<br>Class A Rent: $76.62<br>Class O Rent: $nan<br>Legal Growth Index: 47%<br>Tech Growth Index: 51%<br>Finance Growth Index: 30%",
            "<b>Seattle</b><br>Time Period: 2022-Q1<br>Class A Rent: $50.67<br>Class O Rent: $33.16<br>A/O Ratio: 1.53<br>Legal Growth Index: 54%<br>Tech Growth Index: 70%<br>Finance Growth Index: 46%",
            "<b>Seattle</b><br>Time Period: 2022-Q1<br>Class A Rent: $50.67<br>Class O Rent: $33.16<br>A/O Ratio: 1.53<br>Legal Growth Index: 54%<br>Tech Growth Index: 51%<br>Finance Growth Index: 46%",
            "<b>South Florida</b><br>Time Period: 2022-Q1<br>Class A Rent: $45.41<br>Class O Rent: $32.30<br>A/O Ratio: 1.41<br>Legal Growth Index: 93%<br>Tech Growth Index: 15%<br>Finance Growth Index: 48%",
            "<b>South Florida</b><br>Time Period: 2022-Q1<br>Class A Rent: $45.41<br>Class O Rent: $32.30<br>A/O Ratio: 1.41<br>Legal Growth Index: 95%<br>Tech Growth Index: 15%<br>Finance Growth Index: 46%",
            "<b>Tampa</b><br>Time Period: 2022-Q1<br>Class A Rent: $32.43<br>Class O Rent: $24.12<br>A/O Ratio: 1.34<br>Legal Growth Index: 52%<br>Tech Growth Index: 25%<br>Finance Growth Index: 51%",
            "<b>Tampa</b><br>Time Period: 2022-Q1<br>Class A Rent: $32.43<br>Class O Rent: $24.12<br>A/O Ratio: 1.34<br>Legal Growth Index: 52%<br>Tech Growth Index: 13%<br>Finance Growth Index: 44%"
           ],
           "type": "scattergeo"
          }
         ],
         "layout": {
          "title": {
           "text": "US Market Rental Rates Over Time: 2022-Q1"
          }
         },
         "name": "2022-Q1"
        },
        {
         "data": [
          {
           "hoverinfo": "text",
           "lat": {
            "bdata": "HVpkO9/fQEAdWmQ7399AQL99HThnRD5Av30dOGdEPkCh1jTvOKVDQBKlvcEXLkVAEqW9wRcuRUD3deCcEZ1BQPd14JwRnUFAvHSTGAQGRUC8dJMYBAZFQN9PjZduKkVA3+ALk6nCPUDf4AuTqcI9QPRsVn2uBkFA9GxWfa4GQUCxv+yePGREQLG/7J48ZERAlIeFWtMUQkBn1edqK15EQKkT0ETYcENAqRPQRNhwQ0C1FfvL7vlDQGHD0ytluUBAYcPTK2W5QED+ZffkYWFEQP5l9+RhYURApN++DpxbQECk374OnFtAQNDVVuwv40JA0NVW7C/jQkDoaiv2l81HQOhqK/aXzUdA+1xtxf7COUD7XG3F/sI5QN6Th4Va8ztA3pOHhVrzO0A=",
            "dtype": "f8"
           },
           "lon": {
            "bdata": "Rrbz/dQYVcBGtvP91BhVwBZqTfOOb1jAFmpN845vWMBlGeJYFydTwABvgQTFw1HAAG+BBMXDUcB90LNZ9TVUwH3Qs1n1NVTA3bWEfNDrVcDdtYR80OtVwJf/kH77wlTA5IOezarXV8Dkg57NqtdXwEGC4seYj13AQYLix5iPXcADeAskKH5SwAN4CyQoflLAbqMBvAWyVcAldQKaCItSwOf7qfHSRVPA5/up8dJFU8AmUwWjkspSwNv5fmq8BFzA2/l+arwEXMAbL90kBvlbwBsv3SQG+VvArthfdk9KXcCu2F92T0pdwFD8GHPXml7AUPwYc9eaXsAawFsgQZVewBrAWyBBlV7A3NeBc0YMVMDc14FzRgxUwMzuycNCnVTAzO7Jw0KdVMA=",
            "dtype": "f8"
           },
           "marker": {
            "cmax": 94.191224222457,
            "cmin": 20.9981865703684,
            "color": {
             "bdata": "eMn/T1mdQEB4yf9PWZ1AQNpcmbGr3UhA2lyZsavdSEBPTd8jG3w6QNUI8VVevUtA1QjxVV69S0Ayl5XMa4pBQDKXlcxrikFAN3yAVfjZPEA3fIBV+Nk8QHRx4wElmjVAiG1DWNu9QECIbUNY271AQC60V5yyY0hALrRXnLJjSEB1bvN5EpFVQHVu83kSkVVAM7wzA6/JQED+CjONokI/QPMMvFbJR0JA8wy8VslHQkAsSRSxddw/QBuMlIhk1z5AG4yUiGTXPkBYTaguFDE+QFhNqC4UMT5AYfVE+owNRkBh9UT6jA1GQPjO305L8lJA+M7fTkvyUkBF9t3faVpJQEX23d9pWklAMnkgKqkdR0AyeSAqqR1HQOXak/uqV0BA5dqT+6pXQEA=",
             "dtype": "f8"
            },
            "colorbar": {
             "len": 0.6,
             "thickness": 15,
             "title": {
              "text": "Class A Rent ($)"
             },
             "y": 0.5,
             "yanchor": "middle"
            },
            "colorscale": [
             [
              0,
              "#440154"
             ],
             [
              0.1111111111111111,
              "#482878"
             ],
             [
              0.2222222222222222,
              "#3e4989"
             ],
             [
              0.3333333333333333,
              "#31688e"
             ],
             [
              0.4444444444444444,
              "#26828e"
             ],
             [
              0.5555555555555556,
              "#1f9e89"
             ],
             [
              0.6666666666666666,
              "#35b779"
             ],
             [
              0.7777777777777778,
              "#6ece58"
             ],
             [
              0.8888888888888888,
              "#b5de2b"
             ],
             [
              1,
              "#fde725"
             ]
            ],
            "line": {
             "color": "DarkSlateGrey",
             "width": 1
            },
            "size": {
             "bdata": "AEx05QR3KUAATHTlBHcpQFLDb4u51jNAUsNvi7nWM0BjLbMKUqQlQO5hAegU7zZA7mEB6BTvNkBg7AZpicAqQGDsBmmJwCpA+G052cfPJkD4bTnZx88mQHFsw6xZDyRAjDkjldGiKUCMOSOV0aIpQG6CilR5WjNAboKKVHlaM0DoTG9DbtdFQOhMb0Nu10VAWAWoaN2yKUDkEaNeLTMoQM3Fq0bw1ytAzcWrRvDXK0A9JoWQ+pIoQJFWQaUE8idAkVZBpQTyJ0Bq3g1isY8nQGreDWKxjydAd10g93kYMUB3XSD3eRgxQN/KmPTO80FA38qY9M7zQUATAJsy8lc0QBMAmzLyVzRAUiLIEdMYMkBSIsgR0xgyQNVvdjCqGilA1W92MKoaKUA=",
             "dtype": "f8"
            }
           },
           "mode": "markers",
           "name": "2022-Q2",
           "text": [
            "<b>Atlanta</b><br>Time Period: 2022-Q2<br>Class A Rent: $33.23<br>Class O Rent: $23.45<br>A/O Ratio: 1.42<br>Legal Growth Index: 113%<br>Tech Growth Index: 102%<br>Finance Growth Index: 88%",
            "<b>Atlanta</b><br>Time Period: 2022-Q2<br>Class A Rent: $33.23<br>Class O Rent: $23.45<br>A/O Ratio: 1.42<br>Legal Growth Index: 78%<br>Tech Growth Index: 102%<br>Finance Growth Index: 58%",
            "<b>Austin</b><br>Time Period: 2022-Q2<br>Class A Rent: $49.73<br>Class O Rent: $36.47<br>A/O Ratio: 1.36<br>Legal Growth Index: 87%<br>Tech Growth Index: 0%<br>Finance Growth Index: 137%",
            "<b>Austin</b><br>Time Period: 2022-Q2<br>Class A Rent: $49.73<br>Class O Rent: $36.47<br>A/O Ratio: 1.36<br>Legal Growth Index: 87%<br>Tech Growth Index: -15%<br>Finance Growth Index: 137%",
            "<b>Baltimore</b><br>Time Period: 2022-Q2<br>Class A Rent: $26.48<br>Class O Rent: $nan<br>Legal Growth Index: 73%<br>Tech Growth Index: 90%<br>Finance Growth Index: 89%",
            "<b>Boston</b><br>Time Period: 2022-Q2<br>Class A Rent: $55.48<br>Class O Rent: $23.10<br>A/O Ratio: 2.40<br>Legal Growth Index: 53%<br>Tech Growth Index: 143%<br>Finance Growth Index: 43%",
            "<b>Boston</b><br>Time Period: 2022-Q2<br>Class A Rent: $55.48<br>Class O Rent: $23.10<br>A/O Ratio: 2.40<br>Legal Growth Index: 53%<br>Tech Growth Index: 90%<br>Finance Growth Index: 43%",
            "<b>Charlotte</b><br>Time Period: 2022-Q2<br>Class A Rent: $35.08<br>Class O Rent: $27.06<br>A/O Ratio: 1.30<br>Legal Growth Index: 73%<br>Tech Growth Index: 157%<br>Finance Growth Index: 86%",
            "<b>Charlotte</b><br>Time Period: 2022-Q2<br>Class A Rent: $35.08<br>Class O Rent: $27.06<br>A/O Ratio: 1.30<br>Legal Growth Index: 73%<br>Tech Growth Index: 157%<br>Finance Growth Index: 76%",
            "<b>Chicago Suburbs</b><br>Time Period: 2022-Q2<br>Class A Rent: $28.85<br>Class O Rent: $21.28<br>A/O Ratio: 1.36<br>Legal Growth Index: 13%<br>Tech Growth Index: 20%<br>Finance Growth Index: 7%",
            "<b>Chicago Suburbs</b><br>Time Period: 2022-Q2<br>Class A Rent: $28.85<br>Class O Rent: $21.28<br>A/O Ratio: 1.36<br>Legal Growth Index: 13%<br>Tech Growth Index: 34%<br>Finance Growth Index: 41%",
            "<b>Detroit</b><br>Time Period: 2022-Q2<br>Class A Rent: $21.60<br>Class O Rent: $nan<br>Legal Growth Index: 94%<br>Tech Growth Index: 45%<br>Finance Growth Index: 1%",
            "<b>Houston</b><br>Time Period: 2022-Q2<br>Class A Rent: $33.48<br>Class O Rent: $21.72<br>A/O Ratio: 1.54<br>Legal Growth Index: 74%<br>Tech Growth Index: 89%<br>Finance Growth Index: 76%",
            "<b>Houston</b><br>Time Period: 2022-Q2<br>Class A Rent: $33.48<br>Class O Rent: $21.72<br>A/O Ratio: 1.54<br>Legal Growth Index: 74%<br>Tech Growth Index: 75%<br>Finance Growth Index: 76%",
            "<b>Los Angeles</b><br>Time Period: 2022-Q2<br>Class A Rent: $48.78<br>Class O Rent: $41.07<br>A/O Ratio: 1.19<br>Legal Growth Index: 117%<br>Tech Growth Index: 36%<br>Finance Growth Index: 132%",
            "<b>Los Angeles</b><br>Time Period: 2022-Q2<br>Class A Rent: $48.78<br>Class O Rent: $41.07<br>A/O Ratio: 1.19<br>Legal Growth Index: 117%<br>Tech Growth Index: 9%<br>Finance Growth Index: 54%",
            "<b>Manhattan</b><br>Time Period: 2022-Q2<br>Class A Rent: $86.27<br>Class O Rent: $62.05<br>A/O Ratio: 1.39<br>Legal Growth Index: 61%<br>Tech Growth Index: 64%<br>Finance Growth Index: 36%",
            "<b>Manhattan</b><br>Time Period: 2022-Q2<br>Class A Rent: $86.27<br>Class O Rent: $62.05<br>A/O Ratio: 1.39<br>Legal Growth Index: 37%<br>Tech Growth Index: 40%<br>Finance Growth Index: 13%",
            "<b>Nashville</b><br>Time Period: 2022-Q2<br>Class A Rent: $33.58<br>Class O Rent: $nan<br>Legal Growth Index: 44%<br>Tech Growth Index: 29%<br>Finance Growth Index: -28%",
            "<b>Northern New Jersey</b><br>Time Period: 2022-Q2<br>Class A Rent: $31.26<br>Class O Rent: $nan<br>Legal Growth Index: 27%<br>Tech Growth Index: 6%<br>Finance Growth Index: 28%",
            "<b>Northern Virginia</b><br>Time Period: 2022-Q2<br>Class A Rent: $36.56<br>Class O Rent: $31.79<br>A/O Ratio: 1.15<br>Legal Growth Index: 26%<br>Tech Growth Index: -4%<br>Finance Growth Index: 32%",
            "<b>Northern Virginia</b><br>Time Period: 2022-Q2<br>Class A Rent: $36.56<br>Class O Rent: $31.79<br>A/O Ratio: 1.15<br>Legal Growth Index: 23%<br>Tech Growth Index: -4%<br>Finance Growth Index: 29%",
            "<b>Philadelphia</b><br>Time Period: 2022-Q2<br>Class A Rent: $31.86<br>Class O Rent: $nan<br>Legal Growth Index: 52%<br>Tech Growth Index: 71%<br>Finance Growth Index: 98%",
            "<b>Phoenix</b><br>Time Period: 2022-Q2<br>Class A Rent: $30.84<br>Class O Rent: $25.22<br>A/O Ratio: 1.22<br>Legal Growth Index: 25%<br>Tech Growth Index: 30%<br>Finance Growth Index: 88%",
            "<b>Phoenix</b><br>Time Period: 2022-Q2<br>Class A Rent: $30.84<br>Class O Rent: $25.22<br>A/O Ratio: 1.22<br>Legal Growth Index: 22%<br>Tech Growth Index: 39%<br>Finance Growth Index: 96%",
            "<b>Salt Lake City</b><br>Time Period: 2022-Q2<br>Class A Rent: $30.19<br>Class O Rent: $23.25<br>A/O Ratio: 1.30<br>Legal Growth Index: 154%<br>Tech Growth Index: -24%<br>Finance Growth Index: -35%",
            "<b>Salt Lake City</b><br>Time Period: 2022-Q2<br>Class A Rent: $30.19<br>Class O Rent: $23.25<br>A/O Ratio: 1.30<br>Legal Growth Index: 154%<br>Tech Growth Index: -51%<br>Finance Growth Index: -35%",
            "<b>San Diego</b><br>Time Period: 2022-Q2<br>Class A Rent: $44.11<br>Class O Rent: $33.12<br>A/O Ratio: 1.33<br>Legal Growth Index: -72%<br>Tech Growth Index: 76%<br>Finance Growth Index: 48%",
            "<b>San Diego</b><br>Time Period: 2022-Q2<br>Class A Rent: $44.11<br>Class O Rent: $33.12<br>A/O Ratio: 1.33<br>Legal Growth Index: -100%<br>Tech Growth Index: 76%<br>Finance Growth Index: 48%",
            "<b>San Francisco</b><br>Time Period: 2022-Q2<br>Class A Rent: $75.79<br>Class O Rent: $66.30<br>A/O Ratio: 1.14<br>Legal Growth Index: 58%<br>Tech Growth Index: 43%<br>Finance Growth Index: 93%",
            "<b>San Francisco</b><br>Time Period: 2022-Q2<br>Class A Rent: $75.79<br>Class O Rent: $66.30<br>A/O Ratio: 1.14<br>Legal Growth Index: 58%<br>Tech Growth Index: 18%<br>Finance Growth Index: 93%",
            "<b>Seattle</b><br>Time Period: 2022-Q2<br>Class A Rent: $50.71<br>Class O Rent: $32.35<br>A/O Ratio: 1.57<br>Legal Growth Index: 113%<br>Tech Growth Index: 72%<br>Finance Growth Index: 91%",
            "<b>Seattle</b><br>Time Period: 2022-Q2<br>Class A Rent: $50.71<br>Class O Rent: $32.35<br>A/O Ratio: 1.57<br>Legal Growth Index: 111%<br>Tech Growth Index: 63%<br>Finance Growth Index: 91%",
            "<b>South Florida</b><br>Time Period: 2022-Q2<br>Class A Rent: $46.23<br>Class O Rent: $32.48<br>A/O Ratio: 1.42<br>Legal Growth Index: 64%<br>Tech Growth Index: 99%<br>Finance Growth Index: 69%",
            "<b>South Florida</b><br>Time Period: 2022-Q2<br>Class A Rent: $46.23<br>Class O Rent: $32.48<br>A/O Ratio: 1.42<br>Legal Growth Index: 54%<br>Tech Growth Index: 81%<br>Finance Growth Index: 69%",
            "<b>Tampa</b><br>Time Period: 2022-Q2<br>Class A Rent: $32.68<br>Class O Rent: $24.39<br>A/O Ratio: 1.34<br>Legal Growth Index: 34%<br>Tech Growth Index: 57%<br>Finance Growth Index: 66%",
            "<b>Tampa</b><br>Time Period: 2022-Q2<br>Class A Rent: $32.68<br>Class O Rent: $24.39<br>A/O Ratio: 1.34<br>Legal Growth Index: 34%<br>Tech Growth Index: 38%<br>Finance Growth Index: 66%"
           ],
           "type": "scattergeo"
          }
         ],
         "layout": {
          "title": {
           "text": "US Market Rental Rates Over Time: 2022-Q2"
          }
         },
         "name": "2022-Q2"
        },
        {
         "data": [
          {
           "hoverinfo": "text",
           "lat": {
            "bdata": "HVpkO9/fQEAdWmQ7399AQL99HThnRD5Av30dOGdEPkCh1jTvOKVDQKHWNO84pUNAEqW9wRcuRUD3deCcEZ1BQPd14JwRnUFAvHSTGAQGRUC8dJMYBAZFQN9PjZduKkVA30+Nl24qRUDf4AuTqcI9QN/gC5Opwj1A9GxWfa4GQUD0bFZ9rgZBQLG/7J48ZERAsb/snjxkRECUh4Va0xRCQGfV52orXkRAZ9XnaiteRECpE9BE2HBDQKkT0ETYcENAtRX7y+75Q0Bhw9MrZblAQGHD0ytluUBA/mX35GFhRED+ZffkYWFEQKTfvg6cW0BApN++DpxbQEDQ1VbsL+NCQOhqK/aXzUdA6Gor9pfNR0D7XG3F/sI5QN6Th4Va8ztA3pOHhVrzO0A=",
            "dtype": "f8"
           },
           "lon": {
            "bdata": "Rrbz/dQYVcBGtvP91BhVwBZqTfOOb1jAFmpN845vWMBlGeJYFydTwGUZ4lgXJ1PAAG+BBMXDUcB90LNZ9TVUwH3Qs1n1NVTA3bWEfNDrVcDdtYR80OtVwJf/kH77wlTAl/+QfvvCVMDkg57NqtdXwOSDns2q11fAQYLix5iPXcBBguLHmI9dwAN4CyQoflLAA3gLJCh+UsBuowG8BbJVwCV1ApoIi1LAJXUCmgiLUsDn+6nx0kVTwOf7qfHSRVPAJlMFo5LKUsDb+X5qvARcwNv5fmq8BFzAGy/dJAb5W8AbL90kBvlbwK7YX3ZPSl3Arthfdk9KXcBQ/Bhz15pewBrAWyBBlV7AGsBbIEGVXsDc14FzRgxUwMzuycNCnVTAzO7Jw0KdVMA=",
            "dtype": "f8"
           },
           "marker": {
            "cmax": 94.191224222457,
            "cmin": 20.9981865703684,
            "color": {
             "bdata": "E8bJGRKQQEATxskZEpBAQHtfBbtjHElAe18Fu2McSUC2tqy3USs6QLa2rLdRKzpA8Gd4F3XaSkB+8UUyvbJBQH7xRTK9skFAUo8nbR63PEBSjydtHrc8QOdxE9xOgzVA53ET3E6DNUAFjCoJyQ5BQAWMKgnJDkFAQpc1/HZcSEBClzX8dlxIQEoJrMOsKFVASgmsw6woVUAAAAAAAAD4f7FgAsKdhj9AsWACwp2GP0AjcjOF2lVCQCNyM4XaVUJAIatO6X8VQEDQSYMvhLg+QNBJgy+EuD5ANDuk25KBPUA0O6TbkoE9QDn8E/IzxEVAOfwT8jPERUAeO14VGaFSQBqqWg+9O0lAGqpaD707SUD1tekPNEJHQAQkwYqEWkBABCTBioRaQEA=",
             "dtype": "f8"
            },
            "colorbar": {
             "len": 0.6,
             "thickness": 15,
             "title": {
              "text": "Class A Rent ($)"
             },
             "y": 0.5,
             "yanchor": "middle"
            },
            "colorscale": [
             [
              0,
              "#440154"
             ],
             [
              0.1111111111111111,
              "#482878"
             ],
             [
              0.2222222222222222,
              "#3e4989"
             ],
             [
              0.3333333333333333,
              "#31688e"
             ],
             [
              0.4444444444444444,
              "#26828e"
             ],
             [
              0.5555555555555556,
              "#1f9e89"
             ],
             [
              0.6666666666666666,
              "#35b779"
             ],
             [
              0.7777777777777778,
              "#6ece58"
             ],
             [
              0.8888888888888888,
              "#b5de2b"
             ],
             [
              1,
              "#fde725"
             ]
            ],
            "line": {
             "color": "DarkSlateGrey",
             "width": 1
            },
            "size": {
             "bdata": "/EcwN0JlKUD8RzA3QmUpQO++lg5tFzRA776WDm0XNECwWyVnlYAlQLBbJWeVgCVABLzQngzzNUBv/YGo2foqQG/9gajZ+ipA+9b8TiW9JkD71vxOJb0mQNQBhwMUDCRA1AGHAxQMJEB60Jf9yhEqQHrQl/3KESpAXMc6BixTM0BcxzoGLFMzQO6R0PrQNkVA7pHQ+tA2RUAAAAAAAAAuQO6oKvMtXShA7qgq8y1dKEDVje/RPu0rQNWN79E+7StA5n+bG+/EKEBIYwncgt8nQEhjCdyC3ydAxJew3aMrJ0DEl7DdoysnQIz4/jZU1TBAjPj+NlTVMEBO7HPSTYFBQICpwmH4NzRAgKnCYfg3NEC6jqntGTwyQKHs8YtmHilAoezxi2YeKUA=",
             "dtype": "f8"
            }
           },
           "mode": "markers",
           "name": "2022-Q3",
           "text": [
            "<b>Atlanta</b><br>Time Period: 2022-Q3<br>Class A Rent: $33.13<br>Class O Rent: $23.70<br>A/O Ratio: 1.40<br>Legal Growth Index: 56%<br>Tech Growth Index: 75%<br>Finance Growth Index: 77%",
            "<b>Atlanta</b><br>Time Period: 2022-Q3<br>Class A Rent: $33.13<br>Class O Rent: $23.70<br>A/O Ratio: 1.40<br>Legal Growth Index: 56%<br>Tech Growth Index: 75%<br>Finance Growth Index: 43%",
            "<b>Austin</b><br>Time Period: 2022-Q3<br>Class A Rent: $50.22<br>Class O Rent: $36.75<br>A/O Ratio: 1.37<br>Legal Growth Index: 87%<br>Tech Growth Index: 36%<br>Finance Growth Index: 40%",
            "<b>Austin</b><br>Time Period: 2022-Q3<br>Class A Rent: $50.22<br>Class O Rent: $36.75<br>A/O Ratio: 1.37<br>Legal Growth Index: 87%<br>Tech Growth Index: 40%<br>Finance Growth Index: 40%",
            "<b>Baltimore</b><br>Time Period: 2022-Q3<br>Class A Rent: $26.17<br>Class O Rent: $21.19<br>A/O Ratio: 1.23<br>Legal Growth Index: 115%<br>Tech Growth Index: 49%<br>Finance Growth Index: 38%",
            "<b>Baltimore</b><br>Time Period: 2022-Q3<br>Class A Rent: $26.17<br>Class O Rent: $21.19<br>A/O Ratio: 1.23<br>Legal Growth Index: 92%<br>Tech Growth Index: 49%<br>Finance Growth Index: 38%",
            "<b>Boston</b><br>Time Period: 2022-Q3<br>Class A Rent: $53.71<br>Class O Rent: $nan<br>Legal Growth Index: 109%<br>Tech Growth Index: 34%<br>Finance Growth Index: 57%",
            "<b>Charlotte</b><br>Time Period: 2022-Q3<br>Class A Rent: $35.40<br>Class O Rent: $27.58<br>A/O Ratio: 1.28<br>Legal Growth Index: 106%<br>Tech Growth Index: 55%<br>Finance Growth Index: 75%",
            "<b>Charlotte</b><br>Time Period: 2022-Q3<br>Class A Rent: $35.40<br>Class O Rent: $27.58<br>A/O Ratio: 1.28<br>Legal Growth Index: 106%<br>Tech Growth Index: 55%<br>Finance Growth Index: 48%",
            "<b>Chicago Suburbs</b><br>Time Period: 2022-Q3<br>Class A Rent: $28.72<br>Class O Rent: $20.94<br>A/O Ratio: 1.37<br>Legal Growth Index: 13%<br>Tech Growth Index: 44%<br>Finance Growth Index: 53%",
            "<b>Chicago Suburbs</b><br>Time Period: 2022-Q3<br>Class A Rent: $28.72<br>Class O Rent: $20.94<br>A/O Ratio: 1.37<br>Legal Growth Index: 13%<br>Tech Growth Index: 44%<br>Finance Growth Index: 43%",
            "<b>Detroit</b><br>Time Period: 2022-Q3<br>Class A Rent: $21.51<br>Class O Rent: $19.86<br>A/O Ratio: 1.08<br>Legal Growth Index: 80%<br>Tech Growth Index: 25%<br>Finance Growth Index: 55%",
            "<b>Detroit</b><br>Time Period: 2022-Q3<br>Class A Rent: $21.51<br>Class O Rent: $19.86<br>A/O Ratio: 1.08<br>Legal Growth Index: 78%<br>Tech Growth Index: 28%<br>Finance Growth Index: 49%",
            "<b>Houston</b><br>Time Period: 2022-Q3<br>Class A Rent: $34.12<br>Class O Rent: $21.62<br>A/O Ratio: 1.58<br>Legal Growth Index: 110%<br>Tech Growth Index: 16%<br>Finance Growth Index: 121%",
            "<b>Houston</b><br>Time Period: 2022-Q3<br>Class A Rent: $34.12<br>Class O Rent: $21.62<br>A/O Ratio: 1.58<br>Legal Growth Index: 110%<br>Tech Growth Index: 16%<br>Finance Growth Index: 85%",
            "<b>Los Angeles</b><br>Time Period: 2022-Q3<br>Class A Rent: $48.72<br>Class O Rent: $40.94<br>A/O Ratio: 1.19<br>Legal Growth Index: 44%<br>Tech Growth Index: 89%<br>Finance Growth Index: 4%",
            "<b>Los Angeles</b><br>Time Period: 2022-Q3<br>Class A Rent: $48.72<br>Class O Rent: $40.94<br>A/O Ratio: 1.19<br>Legal Growth Index: 10%<br>Tech Growth Index: 32%<br>Finance Growth Index: -6%",
            "<b>Manhattan</b><br>Time Period: 2022-Q3<br>Class A Rent: $84.64<br>Class O Rent: $62.32<br>A/O Ratio: 1.36<br>Legal Growth Index: 33%<br>Tech Growth Index: 37%<br>Finance Growth Index: 45%",
            "<b>Manhattan</b><br>Time Period: 2022-Q3<br>Class A Rent: $84.64<br>Class O Rent: $62.32<br>A/O Ratio: 1.36<br>Legal Growth Index: 14%<br>Tech Growth Index: 17%<br>Finance Growth Index: 45%",
            "<b>Nashville</b><br>Time Period: 2022-Q3<br>Class A Rent: $nan<br>Class O Rent: $29.02<br>Legal Growth Index: 42%<br>Tech Growth Index: 28%<br>Finance Growth Index: 36%",
            "<b>Northern New Jersey</b><br>Time Period: 2022-Q3<br>Class A Rent: $31.53<br>Class O Rent: $24.91<br>A/O Ratio: 1.27<br>Legal Growth Index: 92%<br>Tech Growth Index: -9%<br>Finance Growth Index: 41%",
            "<b>Northern New Jersey</b><br>Time Period: 2022-Q3<br>Class A Rent: $31.53<br>Class O Rent: $24.91<br>A/O Ratio: 1.27<br>Legal Growth Index: 92%<br>Tech Growth Index: -36%<br>Finance Growth Index: 19%",
            "<b>Northern Virginia</b><br>Time Period: 2022-Q3<br>Class A Rent: $36.67<br>Class O Rent: $31.86<br>A/O Ratio: 1.15<br>Legal Growth Index: 6%<br>Tech Growth Index: 4%<br>Finance Growth Index: 33%",
            "<b>Northern Virginia</b><br>Time Period: 2022-Q3<br>Class A Rent: $36.67<br>Class O Rent: $31.86<br>A/O Ratio: 1.15<br>Legal Growth Index: 6%<br>Tech Growth Index: -39%<br>Finance Growth Index: -7%",
            "<b>Philadelphia</b><br>Time Period: 2022-Q3<br>Class A Rent: $32.17<br>Class O Rent: $nan<br>Legal Growth Index: 108%<br>Tech Growth Index: 76%<br>Finance Growth Index: 79%",
            "<b>Phoenix</b><br>Time Period: 2022-Q3<br>Class A Rent: $30.72<br>Class O Rent: $25.40<br>A/O Ratio: 1.21<br>Legal Growth Index: 22%<br>Tech Growth Index: 101%<br>Finance Growth Index: 87%",
            "<b>Phoenix</b><br>Time Period: 2022-Q3<br>Class A Rent: $30.72<br>Class O Rent: $25.40<br>A/O Ratio: 1.21<br>Legal Growth Index: 22%<br>Tech Growth Index: 101%<br>Finance Growth Index: 97%",
            "<b>Salt Lake City</b><br>Time Period: 2022-Q3<br>Class A Rent: $29.51<br>Class O Rent: $23.27<br>A/O Ratio: 1.27<br>Legal Growth Index: 162%<br>Tech Growth Index: -24%<br>Finance Growth Index: -0%",
            "<b>Salt Lake City</b><br>Time Period: 2022-Q3<br>Class A Rent: $29.51<br>Class O Rent: $23.27<br>A/O Ratio: 1.27<br>Legal Growth Index: 162%<br>Tech Growth Index: -38%<br>Finance Growth Index: -0%",
            "<b>San Diego</b><br>Time Period: 2022-Q3<br>Class A Rent: $43.53<br>Class O Rent: $32.58<br>A/O Ratio: 1.34<br>Legal Growth Index: 17%<br>Tech Growth Index: 34%<br>Finance Growth Index: -1%",
            "<b>San Diego</b><br>Time Period: 2022-Q3<br>Class A Rent: $43.53<br>Class O Rent: $32.58<br>A/O Ratio: 1.34<br>Legal Growth Index: 58%<br>Tech Growth Index: 57%<br>Finance Growth Index: -1%",
            "<b>San Francisco</b><br>Time Period: 2022-Q3<br>Class A Rent: $74.52<br>Class O Rent: $nan<br>Legal Growth Index: 39%<br>Tech Growth Index: 65%<br>Finance Growth Index: -6%",
            "<b>Seattle</b><br>Time Period: 2022-Q3<br>Class A Rent: $50.47<br>Class O Rent: $33.14<br>A/O Ratio: 1.52<br>Legal Growth Index: 74%<br>Tech Growth Index: 101%<br>Finance Growth Index: 45%",
            "<b>Seattle</b><br>Time Period: 2022-Q3<br>Class A Rent: $50.47<br>Class O Rent: $33.14<br>A/O Ratio: 1.52<br>Legal Growth Index: 74%<br>Tech Growth Index: 61%<br>Finance Growth Index: 45%",
            "<b>South Florida</b><br>Time Period: 2022-Q3<br>Class A Rent: $46.52<br>Class O Rent: $nan<br>Legal Growth Index: 36%<br>Tech Growth Index: 87%<br>Finance Growth Index: 94%",
            "<b>Tampa</b><br>Time Period: 2022-Q3<br>Class A Rent: $32.71<br>Class O Rent: $24.30<br>A/O Ratio: 1.35<br>Legal Growth Index: -42%<br>Tech Growth Index: 23%<br>Finance Growth Index: 6%",
            "<b>Tampa</b><br>Time Period: 2022-Q3<br>Class A Rent: $32.71<br>Class O Rent: $24.30<br>A/O Ratio: 1.35<br>Legal Growth Index: -58%<br>Tech Growth Index: 23%<br>Finance Growth Index: 6%"
           ],
           "type": "scattergeo"
          }
         ],
         "layout": {
          "title": {
           "text": "US Market Rental Rates Over Time: 2022-Q3"
          }
         },
         "name": "2022-Q3"
        },
        {
         "data": [
          {
           "hoverinfo": "text",
           "lat": {
            "bdata": "HVpkO9/fQEAdWmQ7399AQL99HThnRD5AodY07zilQ0Ch1jTvOKVDQBKlvcEXLkVA93XgnBGdQUD3deCcEZ1BQLx0kxgEBkVAvHSTGAQGRUDfT42XbipFQN/gC5Opwj1A3+ALk6nCPUD0bFZ9rgZBQPRsVn2uBkFAsb/snjxkRECxv+yePGREQGfV52orXkRAZ9XnaiteRECpE9BE2HBDQKkT0ETYcENAtRX7y+75Q0C1FfvL7vlDQGHD0ytluUBAYcPTK2W5QED+ZffkYWFEQP5l9+RhYURA0NVW7C/jQkDQ1VbsL+NCQOhqK/aXzUdA6Gor9pfNR0D7XG3F/sI5QPtcbcX+wjlA3pOHhVrzO0Dek4eFWvM7QA==",
            "dtype": "f8"
           },
           "lon": {
            "bdata": "Rrbz/dQYVcBGtvP91BhVwBZqTfOOb1jAZRniWBcnU8BlGeJYFydTwABvgQTFw1HAfdCzWfU1VMB90LNZ9TVUwN21hHzQ61XA3bWEfNDrVcCX/5B++8JUwOSDns2q11fA5IOezarXV8BBguLHmI9dwEGC4seYj13AA3gLJCh+UsADeAskKH5SwCV1ApoIi1LAJXUCmgiLUsDn+6nx0kVTwOf7qfHSRVPAJlMFo5LKUsAmUwWjkspSwNv5fmq8BFzA2/l+arwEXMAbL90kBvlbwBsv3SQG+VvAUPwYc9eaXsBQ/Bhz15pewBrAWyBBlV7AGsBbIEGVXsDc14FzRgxUwNzXgXNGDFTAzO7Jw0KdVMDM7snDQp1UwA==",
            "dtype": "f8"
           },
           "marker": {
            "cmax": 94.191224222457,
            "cmin": 20.9981865703684,
            "color": {
             "bdata": "EHS5dgeMQEAQdLl2B4xAQA4FkzxtfUlAdSoiF11TOUB1KiIXXVM5QHhFjBqdN0tAjyxiUvCZQUCPLGJS8JlBQFQvQd4KxTxAVC9B3grFPEDhbs8HaEM1QNbWQNN0AkFA1tZA03QCQUCf2elloUNIQJ/Z6WWhQ0hAdNUNF12WVUB01Q0XXZZVQNSWj2RhPEBA1JaPZGE8QEAZzRQJED5CQBnNFAkQPkJA9pkKL0HAQED2mQovQcBAQP9ddYYKUT9A/111hgpRP0CxRcKtovE8QLFFwq2i8TxARxLohfWlUkBHEuiF9aVSQFVeJoNKOUlAVV4mg0o5SUDNrlAjyHlHQM2uUCPIeUdAMy3C/E1qQEAzLcL8TWpAQA==",
             "dtype": "f8"
            },
            "colorbar": {
             "len": 0.6,
             "thickness": 15,
             "title": {
              "text": "Class A Rent ($)"
             },
             "y": 0.5,
             "yanchor": "middle"
            },
            "colorscale": [
             [
              0,
              "#440154"
             ],
             [
              0.1111111111111111,
              "#482878"
             ],
             [
              0.2222222222222222,
              "#3e4989"
             ],
             [
              0.3333333333333333,
              "#31688e"
             ],
             [
              0.4444444444444444,
              "#26828e"
             ],
             [
              0.5555555555555556,
              "#1f9e89"
             ],
             [
              0.6666666666666666,
              "#35b779"
             ],
             [
              0.7777777777777778,
              "#6ece58"
             ],
             [
              0.8888888888888888,
              "#b5de2b"
             ],
             [
              1,
              "#fde725"
             ]
            ],
            "line": {
             "color": "DarkSlateGrey",
             "width": 1
            },
            "size": {
             "bdata": "IABPKt5fKUAgAE8q3l8pQKWhNBSafDRAI6mRpGwmJUAjqZGkbCYlQBBSDq+2WTZAGz/5eefWKkAbP/l559YqQM6ljzWSxCZAzqWPNZLEJkCKy6jzdgQkQPMOdtK1ACpA8w520rUAKkAdwEY8KDozQB3ARjwoOjNAMvXbJaDfRUAy9dsloN9FQPT8IjcT9yhA9PwiNxP3KEAvY50TQckrQC9jnRNByStAbCEiMRGmKUBsISIxEaYpQLNPzYAIPChAs0/NgAg8KEBs1JTwhtwmQGzUlPCG3CZA5x4iEx+IQUDnHiITH4hBQNZHwLFsNTRA1kfAsWw1NEDpW9QvInIyQOlb1C8icjJAhKg+zygzKUCEqD7PKDMpQA==",
             "dtype": "f8"
            }
           },
           "mode": "markers",
           "name": "2022-Q4",
           "text": [
            "<b>Atlanta</b><br>Time Period: 2022-Q4<br>Class A Rent: $33.09<br>Class O Rent: $23.90<br>A/O Ratio: 1.38<br>Legal Growth Index: 99%<br>Tech Growth Index: 78%<br>Finance Growth Index: 87%",
            "<b>Atlanta</b><br>Time Period: 2022-Q4<br>Class A Rent: $33.09<br>Class O Rent: $23.90<br>A/O Ratio: 1.38<br>Legal Growth Index: 99%<br>Tech Growth Index: 30%<br>Finance Growth Index: 44%",
            "<b>Austin</b><br>Time Period: 2022-Q4<br>Class A Rent: $50.98<br>Class O Rent: $nan<br>Legal Growth Index: 63%<br>Tech Growth Index: 13%<br>Finance Growth Index: 58%",
            "<b>Baltimore</b><br>Time Period: 2022-Q4<br>Class A Rent: $25.33<br>Class O Rent: $20.98<br>A/O Ratio: 1.21<br>Legal Growth Index: 89%<br>Tech Growth Index: 34%<br>Finance Growth Index: 58%",
            "<b>Baltimore</b><br>Time Period: 2022-Q4<br>Class A Rent: $25.33<br>Class O Rent: $20.98<br>A/O Ratio: 1.21<br>Legal Growth Index: 89%<br>Tech Growth Index: 18%<br>Finance Growth Index: 45%",
            "<b>Boston</b><br>Time Period: 2022-Q4<br>Class A Rent: $54.43<br>Class O Rent: $nan<br>Legal Growth Index: 5%<br>Tech Growth Index: 72%<br>Finance Growth Index: 70%",
            "<b>Charlotte</b><br>Time Period: 2022-Q4<br>Class A Rent: $35.20<br>Class O Rent: $27.48<br>A/O Ratio: 1.28<br>Legal Growth Index: 125%<br>Tech Growth Index: 3%<br>Finance Growth Index: 91%",
            "<b>Charlotte</b><br>Time Period: 2022-Q4<br>Class A Rent: $35.20<br>Class O Rent: $27.48<br>A/O Ratio: 1.28<br>Legal Growth Index: 125%<br>Tech Growth Index: -19%<br>Finance Growth Index: 91%",
            "<b>Chicago Suburbs</b><br>Time Period: 2022-Q4<br>Class A Rent: $28.77<br>Class O Rent: $20.95<br>A/O Ratio: 1.37<br>Legal Growth Index: 64%<br>Tech Growth Index: 80%<br>Finance Growth Index: 13%",
            "<b>Chicago Suburbs</b><br>Time Period: 2022-Q4<br>Class A Rent: $28.77<br>Class O Rent: $20.95<br>A/O Ratio: 1.37<br>Legal Growth Index: 64%<br>Tech Growth Index: 80%<br>Finance Growth Index: 7%",
            "<b>Detroit</b><br>Time Period: 2022-Q4<br>Class A Rent: $21.26<br>Class O Rent: $nan<br>Legal Growth Index: 93%<br>Tech Growth Index: 43%<br>Finance Growth Index: 11%",
            "<b>Houston</b><br>Time Period: 2022-Q4<br>Class A Rent: $34.02<br>Class O Rent: $21.42<br>A/O Ratio: 1.59<br>Legal Growth Index: 59%<br>Tech Growth Index: 41%<br>Finance Growth Index: 125%",
            "<b>Houston</b><br>Time Period: 2022-Q4<br>Class A Rent: $34.02<br>Class O Rent: $21.42<br>A/O Ratio: 1.59<br>Legal Growth Index: 59%<br>Tech Growth Index: 18%<br>Finance Growth Index: 125%",
            "<b>Los Angeles</b><br>Time Period: 2022-Q4<br>Class A Rent: $48.53<br>Class O Rent: $40.86<br>A/O Ratio: 1.19<br>Legal Growth Index: 56%<br>Tech Growth Index: 48%<br>Finance Growth Index: 35%",
            "<b>Los Angeles</b><br>Time Period: 2022-Q4<br>Class A Rent: $48.53<br>Class O Rent: $40.86<br>A/O Ratio: 1.19<br>Legal Growth Index: 56%<br>Tech Growth Index: 4%<br>Finance Growth Index: 35%",
            "<b>Manhattan</b><br>Time Period: 2022-Q4<br>Class A Rent: $86.35<br>Class O Rent: $62.31<br>A/O Ratio: 1.39<br>Legal Growth Index: 25%<br>Tech Growth Index: 33%<br>Finance Growth Index: 42%",
            "<b>Manhattan</b><br>Time Period: 2022-Q4<br>Class A Rent: $86.35<br>Class O Rent: $62.31<br>A/O Ratio: 1.39<br>Legal Growth Index: 23%<br>Tech Growth Index: 24%<br>Finance Growth Index: 39%",
            "<b>Northern New Jersey</b><br>Time Period: 2022-Q4<br>Class A Rent: $32.47<br>Class O Rent: $25.05<br>A/O Ratio: 1.30<br>Legal Growth Index: 138%<br>Tech Growth Index: 35%<br>Finance Growth Index: 32%",
            "<b>Northern New Jersey</b><br>Time Period: 2022-Q4<br>Class A Rent: $32.47<br>Class O Rent: $25.05<br>A/O Ratio: 1.30<br>Legal Growth Index: 138%<br>Tech Growth Index: 7%<br>Finance Growth Index: 32%",
            "<b>Northern Virginia</b><br>Time Period: 2022-Q4<br>Class A Rent: $36.48<br>Class O Rent: $32.28<br>A/O Ratio: 1.13<br>Legal Growth Index: 147%<br>Tech Growth Index: 4%<br>Finance Growth Index: 64%",
            "<b>Northern Virginia</b><br>Time Period: 2022-Q4<br>Class A Rent: $36.48<br>Class O Rent: $32.28<br>A/O Ratio: 1.13<br>Legal Growth Index: 147%<br>Tech Growth Index: -25%<br>Finance Growth Index: 64%",
            "<b>Philadelphia</b><br>Time Period: 2022-Q4<br>Class A Rent: $33.50<br>Class O Rent: $27.55<br>A/O Ratio: 1.22<br>Legal Growth Index: 105%<br>Tech Growth Index: 58%<br>Finance Growth Index: 102%",
            "<b>Philadelphia</b><br>Time Period: 2022-Q4<br>Class A Rent: $33.50<br>Class O Rent: $27.55<br>A/O Ratio: 1.22<br>Legal Growth Index: 105%<br>Tech Growth Index: 38%<br>Finance Growth Index: 102%",
            "<b>Phoenix</b><br>Time Period: 2022-Q4<br>Class A Rent: $31.32<br>Class O Rent: $25.74<br>A/O Ratio: 1.22<br>Legal Growth Index: 143%<br>Tech Growth Index: 98%<br>Finance Growth Index: 80%",
            "<b>Phoenix</b><br>Time Period: 2022-Q4<br>Class A Rent: $31.32<br>Class O Rent: $25.74<br>A/O Ratio: 1.22<br>Legal Growth Index: 143%<br>Tech Growth Index: 100%<br>Finance Growth Index: 82%",
            "<b>Salt Lake City</b><br>Time Period: 2022-Q4<br>Class A Rent: $28.94<br>Class O Rent: $23.42<br>A/O Ratio: 1.24<br>Legal Growth Index: -27%<br>Tech Growth Index: 1%<br>Finance Growth Index: 16%",
            "<b>Salt Lake City</b><br>Time Period: 2022-Q4<br>Class A Rent: $28.94<br>Class O Rent: $23.42<br>A/O Ratio: 1.24<br>Legal Growth Index: -27%<br>Tech Growth Index: -5%<br>Finance Growth Index: 16%",
            "<b>San Francisco</b><br>Time Period: 2022-Q4<br>Class A Rent: $74.59<br>Class O Rent: $65.17<br>A/O Ratio: 1.14<br>Legal Growth Index: 75%<br>Tech Growth Index: 52%<br>Finance Growth Index: -12%",
            "<b>San Francisco</b><br>Time Period: 2022-Q4<br>Class A Rent: $74.59<br>Class O Rent: $65.17<br>A/O Ratio: 1.14<br>Legal Growth Index: 75%<br>Tech Growth Index: 22%<br>Finance Growth Index: -12%",
            "<b>Seattle</b><br>Time Period: 2022-Q4<br>Class A Rent: $50.45<br>Class O Rent: $35.19<br>A/O Ratio: 1.43<br>Legal Growth Index: 8%<br>Tech Growth Index: 53%<br>Finance Growth Index: 63%",
            "<b>Seattle</b><br>Time Period: 2022-Q4<br>Class A Rent: $50.45<br>Class O Rent: $35.19<br>A/O Ratio: 1.43<br>Legal Growth Index: 8%<br>Tech Growth Index: 29%<br>Finance Growth Index: 63%",
            "<b>South Florida</b><br>Time Period: 2022-Q4<br>Class A Rent: $46.95<br>Class O Rent: $33.54<br>A/O Ratio: 1.40<br>Legal Growth Index: 63%<br>Tech Growth Index: 17%<br>Finance Growth Index: 45%",
            "<b>South Florida</b><br>Time Period: 2022-Q4<br>Class A Rent: $46.95<br>Class O Rent: $33.54<br>A/O Ratio: 1.40<br>Legal Growth Index: 63%<br>Tech Growth Index: 17%<br>Finance Growth Index: 40%",
            "<b>Tampa</b><br>Time Period: 2022-Q4<br>Class A Rent: $32.83<br>Class O Rent: $24.41<br>A/O Ratio: 1.35<br>Legal Growth Index: -13%<br>Tech Growth Index: 17%<br>Finance Growth Index: 28%",
            "<b>Tampa</b><br>Time Period: 2022-Q4<br>Class A Rent: $32.83<br>Class O Rent: $24.41<br>A/O Ratio: 1.35<br>Legal Growth Index: -13%<br>Tech Growth Index: 17%<br>Finance Growth Index: 47%"
           ],
           "type": "scattergeo"
          }
         ],
         "layout": {
          "title": {
           "text": "US Market Rental Rates Over Time: 2022-Q4"
          }
         },
         "name": "2022-Q4"
        },
        {
         "data": [
          {
           "hoverinfo": "text",
           "lat": {
            "bdata": "HVpkO9/fQEC/fR04Z0Q+QL99HThnRD5AodY07zilQ0ASpb3BFy5FQBKlvcEXLkVA93XgnBGdQUD3deCcEZ1BQLx0kxgEBkVA30+Nl24qRUDfT42XbipFQN/gC5Opwj1A3+ALk6nCPUD0bFZ9rgZBQLG/7J48ZERAsb/snjxkRECUh4Va0xRCQGfV52orXkRAZ9XnaiteRECpE9BE2HBDQKkT0ETYcENAtRX7y+75Q0C1FfvL7vlDQGHD0ytluUBAYcPTK2W5QED+ZffkYWFEQKTfvg6cW0BA0NVW7C/jQkDQ1VbsL+NCQOhqK/aXzUdA+1xtxf7COUD7XG3F/sI5QN6Th4Va8ztA3pOHhVrzO0A=",
            "dtype": "f8"
           },
           "lon": {
            "bdata": "Rrbz/dQYVcAWak3zjm9YwBZqTfOOb1jAZRniWBcnU8AAb4EExcNRwABvgQTFw1HAfdCzWfU1VMB90LNZ9TVUwN21hHzQ61XAl/+QfvvCVMCX/5B++8JUwOSDns2q11fA5IOezarXV8BBguLHmI9dwAN4CyQoflLAA3gLJCh+UsBuowG8BbJVwCV1ApoIi1LAJXUCmgiLUsDn+6nx0kVTwOf7qfHSRVPAJlMFo5LKUsAmUwWjkspSwNv5fmq8BFzA2/l+arwEXMAbL90kBvlbwK7YX3ZPSl3AUPwYc9eaXsBQ/Bhz15pewBrAWyBBlV7A3NeBc0YMVMDc14FzRgxUwMzuycNCnVTAzO7Jw0KdVMA=",
            "dtype": "f8"
           },
           "marker": {
            "cmax": 94.191224222457,
            "cmin": 20.9981865703684,
            "color": {
             "bdata": "VUWdpFeJQEAl/A5Vd+hJQCX8DlV36ElApSM15GSCOUDvjtnZJ1BLQO+O2dknUEtAvWJk1mibQUC9YmTWaJtBQArsYoeeLz5A8TGlnL/HNUDxMaWcv8c1QDnjtMSIiUFAOeO0xIiJQUBdWCpBExBIQGbItmwSl1VAZsi2bBKXVUDLgkf1vNNBQHMH8sD1SUBAcwfywPVJQECWqK5YGDhCQJaorlgYOEJAKaufiYa/QEApq5+Jhr9AQKDMVA/0RD9AoMxUD/REP0B4qpxrU+c8QF0Jw8BdykVAYk/9AKSWUkBiT/0ApJZSQJ2S4PjrLklAP9ErtgK7R0A/0Su2ArtHQPVEb1zJVUBA9URvXMlVQEA=",
             "dtype": "f8"
            },
            "colorbar": {
             "len": 0.6,
             "thickness": 15,
             "title": {
              "text": "Class A Rent ($)"
             },
             "y": 0.5,
             "yanchor": "middle"
            },
            "colorscale": [
             [
              0,
              "#440154"
             ],
             [
              0.1111111111111111,
              "#482878"
             ],
             [
              0.2222222222222222,
              "#3e4989"
             ],
             [
              0.3333333333333333,
              "#31688e"
             ],
             [
              0.4444444444444444,
              "#26828e"
             ],
             [
              0.5555555555555556,
              "#1f9e89"
             ],
             [
              0.6666666666666666,
              "#35b779"
             ],
             [
              0.7777777777777778,
              "#6ece58"
             ],
             [
              0.8888888888888888,
              "#b5de2b"
             ],
             [
              1,
              "#fde725"
             ]
            ],
            "line": {
             "color": "DarkSlateGrey",
             "width": 1
            },
            "size": {
             "bdata": "up4vtklcKUAD8JMCs+00QAPwkwKz7TRA6sjV5145JUAiVLqs8nQ2QCJUuqzydDZAYhEOdwfZKkBiEQ53B9kqQPmJpE3YjidAtQxQ254WJEC1DFDbnhYkQPCS6OdCvypA8JLo50K/KkCuP6UwggYzQDLPrhS54EVAMs+uFLngRUB5E8BDDisrQOSIBcm+CClA5IgFyb4IKUCh2OKbQsArQKHY4ptCwCtAKiCEQxSlKUAqIIRDFKUpQDugbs2ZNChAO6BuzZk0KEBx6S8P99YmQNbGPlPw2jBAy+sBk6dyQUDL6wGTp3JBQGbOXv2lKjRAmrzJWyCyMkCavMlbILIyQKZ1SFgzGClApnVIWDMYKUA=",
             "dtype": "f8"
            }
           },
           "mode": "markers",
           "name": "2023-Q1",
           "text": [
            "<b>Atlanta</b><br>Time Period: 2023-Q1<br>Class A Rent: $33.07<br>Class O Rent: $nan<br>Legal Growth Index: 36%<br>Tech Growth Index: 85%<br>Finance Growth Index: 48%",
            "<b>Austin</b><br>Time Period: 2023-Q1<br>Class A Rent: $51.82<br>Class O Rent: $35.07<br>A/O Ratio: 1.48<br>Legal Growth Index: 32%<br>Tech Growth Index: 34%<br>Finance Growth Index: 42%",
            "<b>Austin</b><br>Time Period: 2023-Q1<br>Class A Rent: $51.82<br>Class O Rent: $35.07<br>A/O Ratio: 1.48<br>Legal Growth Index: 32%<br>Tech Growth Index: 18%<br>Finance Growth Index: 52%",
            "<b>Baltimore</b><br>Time Period: 2023-Q1<br>Class A Rent: $25.51<br>Class O Rent: $nan<br>Legal Growth Index: -39%<br>Tech Growth Index: 29%<br>Finance Growth Index: 89%",
            "<b>Boston</b><br>Time Period: 2023-Q1<br>Class A Rent: $54.63<br>Class O Rent: $29.46<br>A/O Ratio: 1.85<br>Legal Growth Index: 127%<br>Tech Growth Index: 32%<br>Finance Growth Index: 62%",
            "<b>Boston</b><br>Time Period: 2023-Q1<br>Class A Rent: $54.63<br>Class O Rent: $29.46<br>A/O Ratio: 1.85<br>Legal Growth Index: 127%<br>Tech Growth Index: 23%<br>Finance Growth Index: 62%",
            "<b>Charlotte</b><br>Time Period: 2023-Q1<br>Class A Rent: $35.21<br>Class O Rent: $27.50<br>A/O Ratio: 1.28<br>Legal Growth Index: 57%<br>Tech Growth Index: 89%<br>Finance Growth Index: 136%",
            "<b>Charlotte</b><br>Time Period: 2023-Q1<br>Class A Rent: $35.21<br>Class O Rent: $27.50<br>A/O Ratio: 1.28<br>Legal Growth Index: 57%<br>Tech Growth Index: 89%<br>Finance Growth Index: 96%",
            "<b>Chicago Suburbs</b><br>Time Period: 2023-Q1<br>Class A Rent: $30.19<br>Class O Rent: $nan<br>Legal Growth Index: -100%<br>Tech Growth Index: 95%<br>Finance Growth Index: 9%",
            "<b>Detroit</b><br>Time Period: 2023-Q1<br>Class A Rent: $21.78<br>Class O Rent: $19.47<br>A/O Ratio: 1.12<br>Legal Growth Index: 19%<br>Tech Growth Index: -27%<br>Finance Growth Index: 19%",
            "<b>Detroit</b><br>Time Period: 2023-Q1<br>Class A Rent: $21.78<br>Class O Rent: $19.47<br>A/O Ratio: 1.12<br>Legal Growth Index: 19%<br>Tech Growth Index: -27%<br>Finance Growth Index: 19%",
            "<b>Houston</b><br>Time Period: 2023-Q1<br>Class A Rent: $35.07<br>Class O Rent: $21.80<br>A/O Ratio: 1.61<br>Legal Growth Index: 16%<br>Tech Growth Index: 136%<br>Finance Growth Index: 1%",
            "<b>Houston</b><br>Time Period: 2023-Q1<br>Class A Rent: $35.07<br>Class O Rent: $21.80<br>A/O Ratio: 1.61<br>Legal Growth Index: 5%<br>Tech Growth Index: 136%<br>Finance Growth Index: -15%",
            "<b>Los Angeles</b><br>Time Period: 2023-Q1<br>Class A Rent: $48.13<br>Class O Rent: $nan<br>Legal Growth Index: 53%<br>Tech Growth Index: 45%<br>Finance Growth Index: 46%",
            "<b>Manhattan</b><br>Time Period: 2023-Q1<br>Class A Rent: $86.36<br>Class O Rent: $62.61<br>A/O Ratio: 1.38<br>Legal Growth Index: 20%<br>Tech Growth Index: 30%<br>Finance Growth Index: 41%",
            "<b>Manhattan</b><br>Time Period: 2023-Q1<br>Class A Rent: $86.36<br>Class O Rent: $62.61<br>A/O Ratio: 1.38<br>Legal Growth Index: 19%<br>Tech Growth Index: 30%<br>Finance Growth Index: 23%",
            "<b>Nashville</b><br>Time Period: 2023-Q1<br>Class A Rent: $35.65<br>Class O Rent: $nan<br>Legal Growth Index: 80%<br>Tech Growth Index: 76%<br>Finance Growth Index: 124%",
            "<b>Northern New Jersey</b><br>Time Period: 2023-Q1<br>Class A Rent: $32.58<br>Class O Rent: $24.11<br>A/O Ratio: 1.35<br>Legal Growth Index: 41%<br>Tech Growth Index: 51%<br>Finance Growth Index: 69%",
            "<b>Northern New Jersey</b><br>Time Period: 2023-Q1<br>Class A Rent: $32.58<br>Class O Rent: $24.11<br>A/O Ratio: 1.35<br>Legal Growth Index: 41%<br>Tech Growth Index: 8%<br>Finance Growth Index: 69%",
            "<b>Northern Virginia</b><br>Time Period: 2023-Q1<br>Class A Rent: $36.44<br>Class O Rent: $32.43<br>A/O Ratio: 1.12<br>Legal Growth Index: 14%<br>Tech Growth Index: 54%<br>Finance Growth Index: 36%",
            "<b>Northern Virginia</b><br>Time Period: 2023-Q1<br>Class A Rent: $36.44<br>Class O Rent: $32.43<br>A/O Ratio: 1.12<br>Legal Growth Index: 14%<br>Tech Growth Index: -32%<br>Finance Growth Index: 15%",
            "<b>Philadelphia</b><br>Time Period: 2023-Q1<br>Class A Rent: $33.50<br>Class O Rent: $27.26<br>A/O Ratio: 1.23<br>Legal Growth Index: 128%<br>Tech Growth Index: 114%<br>Finance Growth Index: 31%",
            "<b>Philadelphia</b><br>Time Period: 2023-Q1<br>Class A Rent: $33.50<br>Class O Rent: $27.26<br>A/O Ratio: 1.23<br>Legal Growth Index: 116%<br>Tech Growth Index: 104%<br>Finance Growth Index: 31%",
            "<b>Phoenix</b><br>Time Period: 2023-Q1<br>Class A Rent: $31.27<br>Class O Rent: $26.42<br>A/O Ratio: 1.18<br>Legal Growth Index: 59%<br>Tech Growth Index: 125%<br>Finance Growth Index: 37%",
            "<b>Phoenix</b><br>Time Period: 2023-Q1<br>Class A Rent: $31.27<br>Class O Rent: $26.42<br>A/O Ratio: 1.18<br>Legal Growth Index: 59%<br>Tech Growth Index: 125%<br>Finance Growth Index: 23%",
            "<b>Salt Lake City</b><br>Time Period: 2023-Q1<br>Class A Rent: $28.90<br>Class O Rent: $nan<br>Legal Growth Index: 143%<br>Tech Growth Index: -55%<br>Finance Growth Index: -97%",
            "<b>San Diego</b><br>Time Period: 2023-Q1<br>Class A Rent: $43.58<br>Class O Rent: $nan<br>Legal Growth Index: 12%<br>Tech Growth Index: -34%<br>Finance Growth Index: -32%",
            "<b>San Francisco</b><br>Time Period: 2023-Q1<br>Class A Rent: $74.35<br>Class O Rent: $63.82<br>A/O Ratio: 1.17<br>Legal Growth Index: 47%<br>Tech Growth Index: 71%<br>Finance Growth Index: 30%",
            "<b>San Francisco</b><br>Time Period: 2023-Q1<br>Class A Rent: $74.35<br>Class O Rent: $63.82<br>A/O Ratio: 1.17<br>Legal Growth Index: 47%<br>Tech Growth Index: 71%<br>Finance Growth Index: 17%",
            "<b>Seattle</b><br>Time Period: 2023-Q1<br>Class A Rent: $50.37<br>Class O Rent: $nan<br>Legal Growth Index: 52%<br>Tech Growth Index: 70%<br>Finance Growth Index: 26%",
            "<b>South Florida</b><br>Time Period: 2023-Q1<br>Class A Rent: $47.46<br>Class O Rent: $34.18<br>A/O Ratio: 1.39<br>Legal Growth Index: 95%<br>Tech Growth Index: 28%<br>Finance Growth Index: 55%",
            "<b>South Florida</b><br>Time Period: 2023-Q1<br>Class A Rent: $47.46<br>Class O Rent: $34.18<br>A/O Ratio: 1.39<br>Legal Growth Index: 95%<br>Tech Growth Index: 28%<br>Finance Growth Index: 33%",
            "<b>Tampa</b><br>Time Period: 2023-Q1<br>Class A Rent: $32.67<br>Class O Rent: $24.61<br>A/O Ratio: 1.33<br>Legal Growth Index: 56%<br>Tech Growth Index: 27%<br>Finance Growth Index: 51%",
            "<b>Tampa</b><br>Time Period: 2023-Q1<br>Class A Rent: $32.67<br>Class O Rent: $24.61<br>A/O Ratio: 1.33<br>Legal Growth Index: 56%<br>Tech Growth Index: 27%<br>Finance Growth Index: 41%"
           ],
           "type": "scattergeo"
          }
         ],
         "layout": {
          "title": {
           "text": "US Market Rental Rates Over Time: 2023-Q1"
          }
         },
         "name": "2023-Q1"
        },
        {
         "data": [
          {
           "hoverinfo": "text",
           "lat": {
            "bdata": "HVpkO9/fQEC/fR04Z0Q+QKHWNO84pUNAEqW9wRcuRUASpb3BFy5FQPd14JwRnUFA93XgnBGdQUC8dJMYBAZFQLx0kxgEBkVA30+Nl24qRUDfT42XbipFQN/gC5Opwj1A3+ALk6nCPUD0bFZ9rgZBQPRsVn2uBkFAsb/snjxkRECxv+yePGREQJSHhVrTFEJAZ9XnaiteREBn1edqK15EQKkT0ETYcENAqRPQRNhwQ0C1FfvL7vlDQLUV+8vu+UNAYcPTK2W5QEBhw9MrZblAQP5l9+RhYURA/mX35GFhRECk374OnFtAQKTfvg6cW0BA0NVW7C/jQkDQ1VbsL+NCQOhqK/aXzUdA6Gor9pfNR0D7XG3F/sI5QPtcbcX+wjlA3pOHhVrzO0Dek4eFWvM7QA==",
            "dtype": "f8"
           },
           "lon": {
            "bdata": "Rrbz/dQYVcAWak3zjm9YwGUZ4lgXJ1PAAG+BBMXDUcAAb4EExcNRwH3Qs1n1NVTAfdCzWfU1VMDdtYR80OtVwN21hHzQ61XAl/+QfvvCVMCX/5B++8JUwOSDns2q11fA5IOezarXV8BBguLHmI9dwEGC4seYj13AA3gLJCh+UsADeAskKH5SwG6jAbwFslXAJXUCmgiLUsAldQKaCItSwOf7qfHSRVPA5/up8dJFU8AmUwWjkspSwCZTBaOSylLA2/l+arwEXMDb+X5qvARcwBsv3SQG+VvAGy/dJAb5W8Cu2F92T0pdwK7YX3ZPSl3AUPwYc9eaXsBQ/Bhz15pewBrAWyBBlV7AGsBbIEGVXsDc14FzRgxUwNzXgXNGDFTAzO7Jw0KdVMDM7snDQp1UwA==",
            "dtype": "f8"
           },
           "marker": {
            "cmax": 94.191224222457,
            "cmin": 20.9981865703684,
            "color": {
             "bdata": "oLFVTQyDQEBAuBeH4kJJQOwyWMS9ljlAFvHFQb/gSkAW8cVBv+BKQBjkAiElUEFAGOQCISVQQUDWZIINojA+QNZkgg2iMD5Adyd72rbfNUB3J3vatt81QP/4rdyjBUJA//it3KMFQkABg/Da8y1IQAGD8NrzLUhAg/nCrMq6VUCD+cKsyrpVQAAAAAAAAPh/VbdX1uVYQEBVt1fW5VhAQBHl6UpFXEJAEeXpSkVcQkCWicbt32lAQJaJxu3faUBApuvEqEx3P0Cm68SoTHc/QOxdgSaSUz1A7F2BJpJTPUBI0S/R0X5FQEjRL9HRfkVAho7jt3iBUkCGjuO3eIFSQM0g+5I7t0lAzSD7kju3SUDaeuRc8R5IQNp65FzxHkhA66HZkNs/QEDrodmQ2z9AQA==",
             "dtype": "f8"
            },
            "colorbar": {
             "len": 0.6,
             "thickness": 15,
             "title": {
              "text": "Class A Rent ($)"
             },
             "y": 0.5,
             "yanchor": "middle"
            },
            "colorscale": [
             [
              0,
              "#440154"
             ],
             [
              0.1111111111111111,
              "#482878"
             ],
             [
              0.2222222222222222,
              "#3e4989"
             ],
             [
              0.3333333333333333,
              "#31688e"
             ],
             [
              0.4444444444444444,
              "#26828e"
             ],
             [
              0.5555555555555556,
              "#1f9e89"
             ],
             [
              0.6666666666666666,
              "#35b779"
             ],
             [
              0.7777777777777778,
              "#6ece58"
             ],
             [
              0.8888888888888888,
              "#b5de2b"
             ],
             [
              1,
              "#fde725"
             ]
            ],
            "line": {
             "color": "DarkSlateGrey",
             "width": 1
            },
            "size": {
             "bdata": "YhZ54OlTKUAyBEJ3aD80QHpR4VuwQSVAdVt0AvL5NUB1W3QC8vk1QJI0htllbSpAkjSG2WVtKkA7LhISb48nQDsuEhJvjydAq1XTI80aJECrVdMjzRokQLk+uszCdCtAuT66zMJ0K0CCJ/3FZCQzQIIn/cVkJDNAsNesny4YRkCw16yfLhhGQAAAAAAAAC5ABrGgz0YcKUAGsaDPRhwpQPf/Nmv99itA9/82a/32K0BNPXi4lzIpQE09eLiXMilA414LU6tTKEDjXgtTq1MoQMIY9OgPEidAwhj06A8SJ0DOMa9tl5YwQM4xr22XljBAUkMwaxFVQUBSQzBrEVVBQKtMSnx8uTRAq0xKfHy5NEAunTYwXRUzQC6dNjBdFTNAFJnYjpf7KEAUmdiOl/soQA==",
             "dtype": "f8"
            }
           },
           "mode": "markers",
           "name": "2023-Q2",
           "text": [
            "<b>Atlanta</b><br>Time Period: 2023-Q2<br>Class A Rent: $33.02<br>Class O Rent: $nan<br>Legal Growth Index: 97%<br>Tech Growth Index: 102%<br>Finance Growth Index: 74%",
            "<b>Austin</b><br>Time Period: 2023-Q2<br>Class A Rent: $50.52<br>Class O Rent: $nan<br>Legal Growth Index: 87%<br>Tech Growth Index: 27%<br>Finance Growth Index: 69%",
            "<b>Baltimore</b><br>Time Period: 2023-Q2<br>Class A Rent: $25.59<br>Class O Rent: $nan<br>Legal Growth Index: 73%<br>Tech Growth Index: 70%<br>Finance Growth Index: 89%",
            "<b>Boston</b><br>Time Period: 2023-Q2<br>Class A Rent: $53.76<br>Class O Rent: $31.31<br>A/O Ratio: 1.72<br>Legal Growth Index: 53%<br>Tech Growth Index: 117%<br>Finance Growth Index: 43%",
            "<b>Boston</b><br>Time Period: 2023-Q2<br>Class A Rent: $53.76<br>Class O Rent: $31.31<br>A/O Ratio: 1.72<br>Legal Growth Index: 53%<br>Tech Growth Index: 107%<br>Finance Growth Index: 38%",
            "<b>Charlotte</b><br>Time Period: 2023-Q2<br>Class A Rent: $34.63<br>Class O Rent: $27.32<br>A/O Ratio: 1.27<br>Legal Growth Index: 73%<br>Tech Growth Index: 89%<br>Finance Growth Index: 86%",
            "<b>Charlotte</b><br>Time Period: 2023-Q2<br>Class A Rent: $34.63<br>Class O Rent: $27.32<br>A/O Ratio: 1.27<br>Legal Growth Index: 60%<br>Tech Growth Index: 89%<br>Finance Growth Index: 86%",
            "<b>Chicago Suburbs</b><br>Time Period: 2023-Q2<br>Class A Rent: $30.19<br>Class O Rent: $22.02<br>A/O Ratio: 1.37<br>Legal Growth Index: 13%<br>Tech Growth Index: 34%<br>Finance Growth Index: 18%",
            "<b>Chicago Suburbs</b><br>Time Period: 2023-Q2<br>Class A Rent: $30.19<br>Class O Rent: $22.02<br>A/O Ratio: 1.37<br>Legal Growth Index: 13%<br>Tech Growth Index: 34%<br>Finance Growth Index: 2%",
            "<b>Detroit</b><br>Time Period: 2023-Q2<br>Class A Rent: $21.87<br>Class O Rent: $19.38<br>A/O Ratio: 1.13<br>Legal Growth Index: 91%<br>Tech Growth Index: 45%<br>Finance Growth Index: 1%",
            "<b>Detroit</b><br>Time Period: 2023-Q2<br>Class A Rent: $21.87<br>Class O Rent: $19.38<br>A/O Ratio: 1.13<br>Legal Growth Index: 107%<br>Tech Growth Index: 55%<br>Finance Growth Index: -2%",
            "<b>Houston</b><br>Time Period: 2023-Q2<br>Class A Rent: $36.04<br>Class O Rent: $22.31<br>A/O Ratio: 1.62<br>Legal Growth Index: 76%<br>Tech Growth Index: 129%<br>Finance Growth Index: 76%",
            "<b>Houston</b><br>Time Period: 2023-Q2<br>Class A Rent: $36.04<br>Class O Rent: $22.31<br>A/O Ratio: 1.62<br>Legal Growth Index: 76%<br>Tech Growth Index: 115%<br>Finance Growth Index: 76%",
            "<b>Los Angeles</b><br>Time Period: 2023-Q2<br>Class A Rent: $48.36<br>Class O Rent: $40.85<br>A/O Ratio: 1.18<br>Legal Growth Index: 59%<br>Tech Growth Index: 41%<br>Finance Growth Index: 89%",
            "<b>Los Angeles</b><br>Time Period: 2023-Q2<br>Class A Rent: $48.36<br>Class O Rent: $40.85<br>A/O Ratio: 1.18<br>Legal Growth Index: 59%<br>Tech Growth Index: 21%<br>Finance Growth Index: 63%",
            "<b>Manhattan</b><br>Time Period: 2023-Q2<br>Class A Rent: $86.92<br>Class O Rent: $62.79<br>A/O Ratio: 1.38<br>Legal Growth Index: 45%<br>Tech Growth Index: 50%<br>Finance Growth Index: 23%",
            "<b>Manhattan</b><br>Time Period: 2023-Q2<br>Class A Rent: $86.92<br>Class O Rent: $62.79<br>A/O Ratio: 1.38<br>Legal Growth Index: 40%<br>Tech Growth Index: 45%<br>Finance Growth Index: 18%",
            "<b>Nashville</b><br>Time Period: 2023-Q2<br>Class A Rent: $nan<br>Class O Rent: $28.75<br>Legal Growth Index: 44%<br>Tech Growth Index: 12%<br>Finance Growth Index: -28%",
            "<b>Northern New Jersey</b><br>Time Period: 2023-Q2<br>Class A Rent: $32.69<br>Class O Rent: $24.00<br>A/O Ratio: 1.36<br>Legal Growth Index: 109%<br>Tech Growth Index: 6%<br>Finance Growth Index: 81%",
            "<b>Northern New Jersey</b><br>Time Period: 2023-Q2<br>Class A Rent: $32.69<br>Class O Rent: $24.00<br>A/O Ratio: 1.36<br>Legal Growth Index: 1%<br>Tech Growth Index: -21%<br>Finance Growth Index: 7%",
            "<b>Northern Virginia</b><br>Time Period: 2023-Q2<br>Class A Rent: $36.72<br>Class O Rent: $32.20<br>A/O Ratio: 1.14<br>Legal Growth Index: 77%<br>Tech Growth Index: 54%<br>Finance Growth Index: 88%",
            "<b>Northern Virginia</b><br>Time Period: 2023-Q2<br>Class A Rent: $36.72<br>Class O Rent: $32.20<br>A/O Ratio: 1.14<br>Legal Growth Index: 77%<br>Tech Growth Index: -35%<br>Finance Growth Index: 32%",
            "<b>Philadelphia</b><br>Time Period: 2023-Q2<br>Class A Rent: $32.83<br>Class O Rent: $27.14<br>A/O Ratio: 1.21<br>Legal Growth Index: 52%<br>Tech Growth Index: 71%<br>Finance Growth Index: 110%",
            "<b>Philadelphia</b><br>Time Period: 2023-Q2<br>Class A Rent: $32.83<br>Class O Rent: $27.14<br>A/O Ratio: 1.21<br>Legal Growth Index: 39%<br>Tech Growth Index: 71%<br>Finance Growth Index: 110%",
            "<b>Phoenix</b><br>Time Period: 2023-Q2<br>Class A Rent: $31.47<br>Class O Rent: $26.42<br>A/O Ratio: 1.19<br>Legal Growth Index: 22%<br>Tech Growth Index: 39%<br>Finance Growth Index: 90%",
            "<b>Phoenix</b><br>Time Period: 2023-Q2<br>Class A Rent: $31.47<br>Class O Rent: $26.42<br>A/O Ratio: 1.19<br>Legal Growth Index: 22%<br>Tech Growth Index: 34%<br>Finance Growth Index: 102%",
            "<b>Salt Lake City</b><br>Time Period: 2023-Q2<br>Class A Rent: $29.33<br>Class O Rent: $24.53<br>A/O Ratio: 1.20<br>Legal Growth Index: 154%<br>Tech Growth Index: -46%<br>Finance Growth Index: -41%",
            "<b>Salt Lake City</b><br>Time Period: 2023-Q2<br>Class A Rent: $29.33<br>Class O Rent: $24.53<br>A/O Ratio: 1.20<br>Legal Growth Index: 154%<br>Tech Growth Index: -37%<br>Finance Growth Index: -41%",
            "<b>San Diego</b><br>Time Period: 2023-Q2<br>Class A Rent: $42.99<br>Class O Rent: $33.24<br>A/O Ratio: 1.29<br>Legal Growth Index: -100%<br>Tech Growth Index: 86%<br>Finance Growth Index: 34%",
            "<b>San Diego</b><br>Time Period: 2023-Q2<br>Class A Rent: $42.99<br>Class O Rent: $33.24<br>A/O Ratio: 1.29<br>Legal Growth Index: -100%<br>Tech Growth Index: 74%<br>Finance Growth Index: 34%",
            "<b>San Francisco</b><br>Time Period: 2023-Q2<br>Class A Rent: $74.02<br>Class O Rent: $60.30<br>A/O Ratio: 1.23<br>Legal Growth Index: 25%<br>Tech Growth Index: 59%<br>Finance Growth Index: 63%",
            "<b>San Francisco</b><br>Time Period: 2023-Q2<br>Class A Rent: $74.02<br>Class O Rent: $60.30<br>A/O Ratio: 1.23<br>Legal Growth Index: 25%<br>Tech Growth Index: 35%<br>Finance Growth Index: 63%",
            "<b>Seattle</b><br>Time Period: 2023-Q2<br>Class A Rent: $51.43<br>Class O Rent: $35.43<br>A/O Ratio: 1.45<br>Legal Growth Index: 113%<br>Tech Growth Index: 68%<br>Finance Growth Index: 86%",
            "<b>Seattle</b><br>Time Period: 2023-Q2<br>Class A Rent: $51.43<br>Class O Rent: $35.43<br>A/O Ratio: 1.45<br>Legal Growth Index: 113%<br>Tech Growth Index: 77%<br>Finance Growth Index: 86%",
            "<b>South Florida</b><br>Time Period: 2023-Q2<br>Class A Rent: $48.24<br>Class O Rent: $34.91<br>A/O Ratio: 1.38<br>Legal Growth Index: 67%<br>Tech Growth Index: 92%<br>Finance Growth Index: 75%",
            "<b>South Florida</b><br>Time Period: 2023-Q2<br>Class A Rent: $48.24<br>Class O Rent: $34.91<br>A/O Ratio: 1.38<br>Legal Growth Index: 62%<br>Tech Growth Index: 92%<br>Finance Growth Index: 73%",
            "<b>Tampa</b><br>Time Period: 2023-Q2<br>Class A Rent: $32.50<br>Class O Rent: $24.51<br>A/O Ratio: 1.33<br>Legal Growth Index: 15%<br>Tech Growth Index: 57%<br>Finance Growth Index: 66%",
            "<b>Tampa</b><br>Time Period: 2023-Q2<br>Class A Rent: $32.50<br>Class O Rent: $24.51<br>A/O Ratio: 1.33<br>Legal Growth Index: 15%<br>Tech Growth Index: 56%<br>Finance Growth Index: 49%"
           ],
           "type": "scattergeo"
          }
         ],
         "layout": {
          "title": {
           "text": "US Market Rental Rates Over Time: 2023-Q2"
          }
         },
         "name": "2023-Q2"
        },
        {
         "data": [
          {
           "hoverinfo": "text",
           "lat": {
            "bdata": "HVpkO9/fQEAdWmQ7399AQL99HThnRD5Av30dOGdEPkCh1jTvOKVDQKHWNO84pUNAEqW9wRcuRUASpb3BFy5FQPd14JwRnUFA93XgnBGdQUC8dJMYBAZFQLx0kxgEBkVA30+Nl24qRUDf4AuTqcI9QN/gC5Opwj1A9GxWfa4GQUD0bFZ9rgZBQLG/7J48ZERAsb/snjxkRECUh4Va0xRCQJSHhVrTFEJAZ9XnaiteREBn1edqK15EQKkT0ETYcENAqRPQRNhwQ0C1FfvL7vlDQLUV+8vu+UNAYcPTK2W5QEBhw9MrZblAQP5l9+RhYURApN++DpxbQECk374OnFtAQNDVVuwv40JA0NVW7C/jQkDoaiv2l81HQOhqK/aXzUdA+1xtxf7COUD7XG3F/sI5QN6Th4Va8ztA3pOHhVrzO0A=",
            "dtype": "f8"
           },
           "lon": {
            "bdata": "Rrbz/dQYVcBGtvP91BhVwBZqTfOOb1jAFmpN845vWMBlGeJYFydTwGUZ4lgXJ1PAAG+BBMXDUcAAb4EExcNRwH3Qs1n1NVTAfdCzWfU1VMDdtYR80OtVwN21hHzQ61XAl/+QfvvCVMDkg57NqtdXwOSDns2q11fAQYLix5iPXcBBguLHmI9dwAN4CyQoflLAA3gLJCh+UsBuowG8BbJVwG6jAbwFslXAJXUCmgiLUsAldQKaCItSwOf7qfHSRVPA5/up8dJFU8AmUwWjkspSwCZTBaOSylLA2/l+arwEXMDb+X5qvARcwBsv3SQG+VvArthfdk9KXcCu2F92T0pdwFD8GHPXml7AUPwYc9eaXsAawFsgQZVewBrAWyBBlV7A3NeBc0YMVMDc14FzRgxUwMzuycNCnVTAzO7Jw0KdVMA=",
            "dtype": "f8"
           },
           "marker": {
            "cmax": 94.191224222457,
            "cmin": 20.9981865703684,
            "color": {
             "bdata": "gQ94oamtQECBD3ihqa1AQD/igQSsf0lAP+KBBKx/SUDVBpyTCuA5QNUGnJMK4DlAje9AvhkRSkCN70C+GRFKQNXEY318okFA1cRjfXyiQUCCh7ht32c+QIKHuG3fZz5A2CFGo/ZHNUAJpaHsIAVCQAmloewgBUJAOjFSj11DSEA6MVKPXUNIQB3a7G+ivFVAHdrsb6K8VUDHJ8QhE/1AQMcnxCET/UBAvqpa48NqQEC+qlrjw2pAQOIoc88uQEJA4ihzzy5AQkA7M+heV6NAQDsz6F5Xo0BACgvzIe/OP0AKC/Mh784/QI9ikrjEND1A8sJy8d2+RUDywnLx3b5FQJ50RUhEpFJAnnRFSESkUkBqIeW3AAdKQGoh5bcAB0pAriEZQEtmSECuIRlAS2ZIQPuyQUA1BUBA+7JBQDUFQEA=",
             "dtype": "f8"
            },
            "colorbar": {
             "len": 0.6,
             "thickness": 15,
             "title": {
              "text": "Class A Rent ($)"
             },
             "y": 0.5,
             "yanchor": "middle"
            },
            "colorscale": [
             [
              0,
              "#440154"
             ],
             [
              0.1111111111111111,
              "#482878"
             ],
             [
              0.2222222222222222,
              "#3e4989"
             ],
             [
              0.3333333333333333,
              "#31688e"
             ],
             [
              0.4444444444444444,
              "#26828e"
             ],
             [
              0.5555555555555556,
              "#1f9e89"
             ],
             [
              0.6666666666666666,
              "#35b779"
             ],
             [
              0.7777777777777778,
              "#6ece58"
             ],
             [
              0.8888888888888888,
              "#b5de2b"
             ],
             [
              1,
              "#fde725"
             ]
            ],
            "line": {
             "color": "DarkSlateGrey",
             "width": 1
            },
            "size": {
             "bdata": "rhd7dPGMKUCuF3t08YwpQDygu0r1fjRAPKC7SvV+NEAhHFMDQGAlQCEcUwNAYCVA4OVYBAoZNUDg5VgEChk1QMv+3gFE4ypAy/7eAUTjKkDPh/s/t68nQM+H+z+3rydAHsOx+esEJECZJrMmAHQrQJkmsyYAdCtAaCeJBuQ5M0BoJ4kG5DkzQKS7LroMG0ZApLsuugwbRkCEA2n7RfkpQIQDaftF+SlAWpp7QsQzKUBamntCxDMpQLVXg/VzzCtAtVeD9XPMK0BWwUYjD38pQFbBRiMPfylAcDliOnKKKEBwOWI6coooQATY3MQWASdAoIxdIHrQMECgjF0getAwQKrdAVe/hUFAqt0BV7+FQUA0/fSSPw41QDT99JI/DjVA7MLAxxhdM0DswsDHGF0zQNIEK/0fsChA0gQr/R+wKEA=",
             "dtype": "f8"
            }
           },
           "mode": "markers",
           "name": "2023-Q3",
           "text": [
            "<b>Atlanta</b><br>Time Period: 2023-Q3<br>Class A Rent: $33.36<br>Class O Rent: $24.64<br>A/O Ratio: 1.35<br>Legal Growth Index: 88%<br>Tech Growth Index: 77%<br>Finance Growth Index: 89%",
            "<b>Atlanta</b><br>Time Period: 2023-Q3<br>Class A Rent: $33.36<br>Class O Rent: $24.64<br>A/O Ratio: 1.35<br>Legal Growth Index: 37%<br>Tech Growth Index: 54%<br>Finance Growth Index: 89%",
            "<b>Austin</b><br>Time Period: 2023-Q3<br>Class A Rent: $51.00<br>Class O Rent: $34.79<br>A/O Ratio: 1.47<br>Legal Growth Index: 107%<br>Tech Growth Index: 51%<br>Finance Growth Index: 40%",
            "<b>Austin</b><br>Time Period: 2023-Q3<br>Class A Rent: $51.00<br>Class O Rent: $34.79<br>A/O Ratio: 1.47<br>Legal Growth Index: 107%<br>Tech Growth Index: 37%<br>Finance Growth Index: 40%",
            "<b>Baltimore</b><br>Time Period: 2023-Q3<br>Class A Rent: $25.88<br>Class O Rent: $20.99<br>A/O Ratio: 1.23<br>Legal Growth Index: 92%<br>Tech Growth Index: 49%<br>Finance Growth Index: 34%",
            "<b>Baltimore</b><br>Time Period: 2023-Q3<br>Class A Rent: $25.88<br>Class O Rent: $20.99<br>A/O Ratio: 1.23<br>Legal Growth Index: 92%<br>Tech Growth Index: 49%<br>Finance Growth Index: 18%",
            "<b>Boston</b><br>Time Period: 2023-Q3<br>Class A Rent: $52.13<br>Class O Rent: $32.01<br>A/O Ratio: 1.63<br>Legal Growth Index: 147%<br>Tech Growth Index: 53%<br>Finance Growth Index: 57%",
            "<b>Boston</b><br>Time Period: 2023-Q3<br>Class A Rent: $52.13<br>Class O Rent: $32.01<br>A/O Ratio: 1.63<br>Legal Growth Index: 147%<br>Tech Growth Index: 14%<br>Finance Growth Index: 57%",
            "<b>Charlotte</b><br>Time Period: 2023-Q3<br>Class A Rent: $35.27<br>Class O Rent: $27.49<br>A/O Ratio: 1.28<br>Legal Growth Index: 122%<br>Tech Growth Index: 55%<br>Finance Growth Index: 65%",
            "<b>Charlotte</b><br>Time Period: 2023-Q3<br>Class A Rent: $35.27<br>Class O Rent: $27.49<br>A/O Ratio: 1.28<br>Legal Growth Index: 122%<br>Tech Growth Index: 55%<br>Finance Growth Index: 48%",
            "<b>Chicago Suburbs</b><br>Time Period: 2023-Q3<br>Class A Rent: $30.41<br>Class O Rent: $22.10<br>A/O Ratio: 1.38<br>Legal Growth Index: 13%<br>Tech Growth Index: 44%<br>Finance Growth Index: 66%",
            "<b>Chicago Suburbs</b><br>Time Period: 2023-Q3<br>Class A Rent: $30.41<br>Class O Rent: $22.10<br>A/O Ratio: 1.38<br>Legal Growth Index: 37%<br>Tech Growth Index: 44%<br>Finance Growth Index: 39%",
            "<b>Detroit</b><br>Time Period: 2023-Q3<br>Class A Rent: $21.28<br>Class O Rent: $nan<br>Legal Growth Index: 73%<br>Tech Growth Index: 28%<br>Finance Growth Index: 49%",
            "<b>Houston</b><br>Time Period: 2023-Q3<br>Class A Rent: $36.04<br>Class O Rent: $22.64<br>A/O Ratio: 1.59<br>Legal Growth Index: 135%<br>Tech Growth Index: 11%<br>Finance Growth Index: 131%",
            "<b>Houston</b><br>Time Period: 2023-Q3<br>Class A Rent: $36.04<br>Class O Rent: $22.64<br>A/O Ratio: 1.59<br>Legal Growth Index: 46%<br>Tech Growth Index: 11%<br>Finance Growth Index: 73%",
            "<b>Los Angeles</b><br>Time Period: 2023-Q3<br>Class A Rent: $48.53<br>Class O Rent: $41.12<br>A/O Ratio: 1.18<br>Legal Growth Index: 37%<br>Tech Growth Index: 98%<br>Finance Growth Index: 4%",
            "<b>Los Angeles</b><br>Time Period: 2023-Q3<br>Class A Rent: $48.53<br>Class O Rent: $41.12<br>A/O Ratio: 1.18<br>Legal Growth Index: 37%<br>Tech Growth Index: 42%<br>Finance Growth Index: 4%",
            "<b>Manhattan</b><br>Time Period: 2023-Q3<br>Class A Rent: $86.95<br>Class O Rent: $62.66<br>A/O Ratio: 1.39<br>Legal Growth Index: 26%<br>Tech Growth Index: 30%<br>Finance Growth Index: 38%",
            "<b>Manhattan</b><br>Time Period: 2023-Q3<br>Class A Rent: $86.95<br>Class O Rent: $62.66<br>A/O Ratio: 1.39<br>Legal Growth Index: 15%<br>Tech Growth Index: 20%<br>Finance Growth Index: 29%",
            "<b>Nashville</b><br>Time Period: 2023-Q3<br>Class A Rent: $33.98<br>Class O Rent: $28.58<br>A/O Ratio: 1.19<br>Legal Growth Index: 3%<br>Tech Growth Index: 15%<br>Finance Growth Index: 36%",
            "<b>Nashville</b><br>Time Period: 2023-Q3<br>Class A Rent: $33.98<br>Class O Rent: $28.58<br>A/O Ratio: 1.19<br>Legal Growth Index: 3%<br>Tech Growth Index: -16%<br>Finance Growth Index: 36%",
            "<b>Northern New Jersey</b><br>Time Period: 2023-Q3<br>Class A Rent: $32.83<br>Class O Rent: $24.12<br>A/O Ratio: 1.36<br>Legal Growth Index: 23%<br>Tech Growth Index: -9%<br>Finance Growth Index: 109%",
            "<b>Northern New Jersey</b><br>Time Period: 2023-Q3<br>Class A Rent: $32.83<br>Class O Rent: $24.12<br>A/O Ratio: 1.36<br>Legal Growth Index: 23%<br>Tech Growth Index: -38%<br>Finance Growth Index: 109%",
            "<b>Northern Virginia</b><br>Time Period: 2023-Q3<br>Class A Rent: $36.50<br>Class O Rent: $32.19<br>A/O Ratio: 1.13<br>Legal Growth Index: 38%<br>Tech Growth Index: 14%<br>Finance Growth Index: 7%",
            "<b>Northern Virginia</b><br>Time Period: 2023-Q3<br>Class A Rent: $36.50<br>Class O Rent: $32.19<br>A/O Ratio: 1.13<br>Legal Growth Index: 6%<br>Tech Growth Index: -42%<br>Finance Growth Index: 7%",
            "<b>Philadelphia</b><br>Time Period: 2023-Q3<br>Class A Rent: $33.28<br>Class O Rent: $26.82<br>A/O Ratio: 1.24<br>Legal Growth Index: 139%<br>Tech Growth Index: 89%<br>Finance Growth Index: 116%",
            "<b>Philadelphia</b><br>Time Period: 2023-Q3<br>Class A Rent: $33.28<br>Class O Rent: $26.82<br>A/O Ratio: 1.24<br>Legal Growth Index: 77%<br>Tech Growth Index: 53%<br>Finance Growth Index: 116%",
            "<b>Phoenix</b><br>Time Period: 2023-Q3<br>Class A Rent: $31.81<br>Class O Rent: $26.59<br>A/O Ratio: 1.20<br>Legal Growth Index: 22%<br>Tech Growth Index: 99%<br>Finance Growth Index: 89%",
            "<b>Phoenix</b><br>Time Period: 2023-Q3<br>Class A Rent: $31.81<br>Class O Rent: $26.59<br>A/O Ratio: 1.20<br>Legal Growth Index: 22%<br>Tech Growth Index: 121%<br>Finance Growth Index: 89%",
            "<b>Salt Lake City</b><br>Time Period: 2023-Q3<br>Class A Rent: $29.21<br>Class O Rent: $nan<br>Legal Growth Index: 154%<br>Tech Growth Index: -30%<br>Finance Growth Index: -0%",
            "<b>San Diego</b><br>Time Period: 2023-Q3<br>Class A Rent: $43.49<br>Class O Rent: $33.64<br>A/O Ratio: 1.29<br>Legal Growth Index: 38%<br>Tech Growth Index: 45%<br>Finance Growth Index: 3%",
            "<b>San Diego</b><br>Time Period: 2023-Q3<br>Class A Rent: $43.49<br>Class O Rent: $33.64<br>A/O Ratio: 1.29<br>Legal Growth Index: 38%<br>Tech Growth Index: 35%<br>Finance Growth Index: -4%",
            "<b>San Francisco</b><br>Time Period: 2023-Q3<br>Class A Rent: $74.57<br>Class O Rent: $60.45<br>A/O Ratio: 1.23<br>Legal Growth Index: 67%<br>Tech Growth Index: 60%<br>Finance Growth Index: 5%",
            "<b>San Francisco</b><br>Time Period: 2023-Q3<br>Class A Rent: $74.57<br>Class O Rent: $60.45<br>A/O Ratio: 1.23<br>Legal Growth Index: 67%<br>Tech Growth Index: 52%<br>Finance Growth Index: 5%",
            "<b>Seattle</b><br>Time Period: 2023-Q3<br>Class A Rent: $52.05<br>Class O Rent: $34.66<br>A/O Ratio: 1.50<br>Legal Growth Index: 71%<br>Tech Growth Index: 74%<br>Finance Growth Index: 42%",
            "<b>Seattle</b><br>Time Period: 2023-Q3<br>Class A Rent: $52.05<br>Class O Rent: $34.66<br>A/O Ratio: 1.50<br>Legal Growth Index: 71%<br>Tech Growth Index: 72%<br>Finance Growth Index: 50%",
            "<b>South Florida</b><br>Time Period: 2023-Q3<br>Class A Rent: $48.80<br>Class O Rent: $35.43<br>A/O Ratio: 1.38<br>Legal Growth Index: 23%<br>Tech Growth Index: 81%<br>Finance Growth Index: 105%",
            "<b>South Florida</b><br>Time Period: 2023-Q3<br>Class A Rent: $48.80<br>Class O Rent: $35.43<br>A/O Ratio: 1.38<br>Legal Growth Index: 10%<br>Tech Growth Index: 81%<br>Finance Growth Index: 83%",
            "<b>Tampa</b><br>Time Period: 2023-Q3<br>Class A Rent: $32.04<br>Class O Rent: $25.05<br>A/O Ratio: 1.28<br>Legal Growth Index: -40%<br>Tech Growth Index: 5%<br>Finance Growth Index: 18%",
            "<b>Tampa</b><br>Time Period: 2023-Q3<br>Class A Rent: $32.04<br>Class O Rent: $25.05<br>A/O Ratio: 1.28<br>Legal Growth Index: -40%<br>Tech Growth Index: -0%<br>Finance Growth Index: 18%"
           ],
           "type": "scattergeo"
          }
         ],
         "layout": {
          "title": {
           "text": "US Market Rental Rates Over Time: 2023-Q3"
          }
         },
         "name": "2023-Q3"
        },
        {
         "data": [
          {
           "hoverinfo": "text",
           "lat": {
            "bdata": "HVpkO9/fQEAdWmQ7399AQL99HThnRD5Av30dOGdEPkCh1jTvOKVDQKHWNO84pUNAEqW9wRcuRUASpb3BFy5FQPd14JwRnUFA93XgnBGdQUC8dJMYBAZFQN9PjZduKkVA30+Nl24qRUDf4AuTqcI9QN/gC5Opwj1A9GxWfa4GQUD0bFZ9rgZBQLG/7J48ZERAsb/snjxkRECUh4Va0xRCQGfV52orXkRAqRPQRNhwQ0CpE9BE2HBDQLUV+8vu+UNAtRX7y+75Q0Bhw9MrZblAQGHD0ytluUBA/mX35GFhRED+ZffkYWFEQKTfvg6cW0BApN++DpxbQEDQ1VbsL+NCQNDVVuwv40JA6Gor9pfNR0Doaiv2l81HQPtcbcX+wjlA+1xtxf7COUDek4eFWvM7QN6Th4Va8ztA",
            "dtype": "f8"
           },
           "lon": {
            "bdata": "Rrbz/dQYVcBGtvP91BhVwBZqTfOOb1jAFmpN845vWMBlGeJYFydTwGUZ4lgXJ1PAAG+BBMXDUcAAb4EExcNRwH3Qs1n1NVTAfdCzWfU1VMDdtYR80OtVwJf/kH77wlTAl/+QfvvCVMDkg57NqtdXwOSDns2q11fAQYLix5iPXcBBguLHmI9dwAN4CyQoflLAA3gLJCh+UsBuowG8BbJVwCV1ApoIi1LA5/up8dJFU8Dn+6nx0kVTwCZTBaOSylLAJlMFo5LKUsDb+X5qvARcwNv5fmq8BFzAGy/dJAb5W8AbL90kBvlbwK7YX3ZPSl3Arthfdk9KXcBQ/Bhz15pewFD8GHPXml7AGsBbIEGVXsAawFsgQZVewNzXgXNGDFTA3NeBc0YMVMDM7snDQp1UwMzuycNCnVTA",
            "dtype": "f8"
           },
           "marker": {
            "cmax": 94.191224222457,
            "cmin": 20.9981865703684,
            "color": {
             "bdata": "m1/gS+56QUCbX+BL7npBQOHXgrNVN0lA4deCs1U3SUCizQwpnsI5QKLNDCmewjlAXgs9Fx32SkBeCz0XHfZKQNjOkRawoEFA2M6RFrCgQUDznQIdo8U+QBCSg2sUwjVAEJKDaxTCNUA8I+RThBpCQDwj5FOEGkJA0vy1HI3fSEDS/LUcjd9IQHCt7sZMK1VAcK3uxkwrVUCmYxWg6eJBQHIiWjd0U0BAvIWhRpQuQkC8haFGlC5CQCjODLtlmkBAKM4Mu2WaQEAnFxRtYGhAQCcXFG1gaEBAYw5SKLWOPUBjDlIotY49QMGOVhlx0kVAwY5WGXHSRUCViXmxl6BSQJWJebGXoFJAv64x5VVHSkC/rjHlVUdKQBlketPGzUhAGWR608bNSECwXGtxYRJAQLBca3FhEkBA",
             "dtype": "f8"
            },
            "colorbar": {
             "len": 0.6,
             "thickness": 15,
             "title": {
              "text": "Class A Rent ($)"
             },
             "y": 0.5,
             "yanchor": "middle"
            },
            "colorscale": [
             [
              0,
              "#440154"
             ],
             [
              0.1111111111111111,
              "#482878"
             ],
             [
              0.2222222222222222,
              "#3e4989"
             ],
             [
              0.3333333333333333,
              "#31688e"
             ],
             [
              0.4444444444444444,
              "#26828e"
             ],
             [
              0.5555555555555556,
              "#1f9e89"
             ],
             [
              0.6666666666666666,
              "#35b779"
             ],
             [
              0.7777777777777778,
              "#6ece58"
             ],
             [
              0.8888888888888888,
              "#b5de2b"
             ],
             [
              1,
              "#fde725"
             ]
            ],
            "line": {
             "color": "DarkSlateGrey",
             "width": 1
            },
            "size": {
             "bdata": "KHqJ/U2qKkAoeon9TaoqQC55y/BjMzRALnnL8GMzNEAEod0a31MlQASh3RrfUyVAj8M2CWkRNkCPwzYJaRE2QMIEw46p4CpAwgTDjqngKkDcFgaZXOcnQIcjuqqqFSRAhyO6qqoVJEDBep/D4ZMrQMF6n8PhkytAjMbQI6jYM0CMxtAjqNgzQLDNyHnUOkVAsM3IedQ6RUCtidawXUErQEKpTbwlFSlACYFgQfKxK0AJgWBB8rErQAGKkpQQcylAAYqSlBBzKUCLKWVQnjApQIspZVCeMClAlQzlH/4yJ0CVDOUf/jInQLoKKlRM4jBAugoqVEziMECQNVhumIBBQJA1WG6YgEFArCKG4jpTNUCsIobiOlM1QEh+oFxqxjNASH6gXGrGM0A7dSng8MAoQDt1KeDwwChA",
             "dtype": "f8"
            }
           },
           "mode": "markers",
           "name": "2023-Q4",
           "text": [
            "<b>Atlanta</b><br>Time Period: 2023-Q4<br>Class A Rent: $34.96<br>Class O Rent: $24.61<br>A/O Ratio: 1.42<br>Legal Growth Index: 121%<br>Tech Growth Index: 81%<br>Finance Growth Index: 62%",
            "<b>Atlanta</b><br>Time Period: 2023-Q4<br>Class A Rent: $34.96<br>Class O Rent: $24.61<br>A/O Ratio: 1.42<br>Legal Growth Index: 59%<br>Tech Growth Index: 27%<br>Finance Growth Index: 62%",
            "<b>Austin</b><br>Time Period: 2023-Q4<br>Class A Rent: $50.43<br>Class O Rent: $35.18<br>A/O Ratio: 1.43<br>Legal Growth Index: 69%<br>Tech Growth Index: 68%<br>Finance Growth Index: 58%",
            "<b>Austin</b><br>Time Period: 2023-Q4<br>Class A Rent: $50.43<br>Class O Rent: $35.18<br>A/O Ratio: 1.43<br>Legal Growth Index: 69%<br>Tech Growth Index: 20%<br>Finance Growth Index: 58%",
            "<b>Baltimore</b><br>Time Period: 2023-Q4<br>Class A Rent: $25.76<br>Class O Rent: $20.96<br>A/O Ratio: 1.23<br>Legal Growth Index: 130%<br>Tech Growth Index: 18%<br>Finance Growth Index: 49%",
            "<b>Baltimore</b><br>Time Period: 2023-Q4<br>Class A Rent: $25.76<br>Class O Rent: $20.96<br>A/O Ratio: 1.23<br>Legal Growth Index: 130%<br>Tech Growth Index: 18%<br>Finance Growth Index: 53%",
            "<b>Boston</b><br>Time Period: 2023-Q4<br>Class A Rent: $53.92<br>Class O Rent: $31.76<br>A/O Ratio: 1.70<br>Legal Growth Index: 5%<br>Tech Growth Index: 72%<br>Finance Growth Index: 88%",
            "<b>Boston</b><br>Time Period: 2023-Q4<br>Class A Rent: $53.92<br>Class O Rent: $31.76<br>A/O Ratio: 1.70<br>Legal Growth Index: 5%<br>Tech Growth Index: 52%<br>Finance Growth Index: 57%",
            "<b>Charlotte</b><br>Time Period: 2023-Q4<br>Class A Rent: $35.26<br>Class O Rent: $27.35<br>A/O Ratio: 1.29<br>Legal Growth Index: 130%<br>Tech Growth Index: 3%<br>Finance Growth Index: 72%",
            "<b>Charlotte</b><br>Time Period: 2023-Q4<br>Class A Rent: $35.26<br>Class O Rent: $27.35<br>A/O Ratio: 1.29<br>Legal Growth Index: 130%<br>Tech Growth Index: 3%<br>Finance Growth Index: 59%",
            "<b>Chicago Suburbs</b><br>Time Period: 2023-Q4<br>Class A Rent: $30.77<br>Class O Rent: $nan<br>Legal Growth Index: 73%<br>Tech Growth Index: 80%<br>Finance Growth Index: 18%",
            "<b>Detroit</b><br>Time Period: 2023-Q4<br>Class A Rent: $21.76<br>Class O Rent: $20.18<br>A/O Ratio: 1.08<br>Legal Growth Index: 96%<br>Tech Growth Index: 55%<br>Finance Growth Index: 28%",
            "<b>Detroit</b><br>Time Period: 2023-Q4<br>Class A Rent: $21.76<br>Class O Rent: $20.18<br>A/O Ratio: 1.08<br>Legal Growth Index: 91%<br>Tech Growth Index: 52%<br>Finance Growth Index: 28%",
            "<b>Houston</b><br>Time Period: 2023-Q4<br>Class A Rent: $36.21<br>Class O Rent: $23.04<br>A/O Ratio: 1.57<br>Legal Growth Index: 71%<br>Tech Growth Index: 41%<br>Finance Growth Index: 94%",
            "<b>Houston</b><br>Time Period: 2023-Q4<br>Class A Rent: $36.21<br>Class O Rent: $23.04<br>A/O Ratio: 1.57<br>Legal Growth Index: 71%<br>Tech Growth Index: 21%<br>Finance Growth Index: 94%",
            "<b>Los Angeles</b><br>Time Period: 2023-Q4<br>Class A Rent: $49.75<br>Class O Rent: $41.43<br>A/O Ratio: 1.20<br>Legal Growth Index: 62%<br>Tech Growth Index: 25%<br>Finance Growth Index: 62%",
            "<b>Los Angeles</b><br>Time Period: 2023-Q4<br>Class A Rent: $49.75<br>Class O Rent: $41.43<br>A/O Ratio: 1.20<br>Legal Growth Index: 62%<br>Tech Growth Index: 2%<br>Finance Growth Index: 62%",
            "<b>Manhattan</b><br>Time Period: 2023-Q4<br>Class A Rent: $84.68<br>Class O Rent: $62.60<br>A/O Ratio: 1.35<br>Legal Growth Index: 33%<br>Tech Growth Index: 42%<br>Finance Growth Index: 50%",
            "<b>Manhattan</b><br>Time Period: 2023-Q4<br>Class A Rent: $84.68<br>Class O Rent: $62.60<br>A/O Ratio: 1.35<br>Legal Growth Index: 11%<br>Tech Growth Index: 26%<br>Finance Growth Index: 29%",
            "<b>Nashville</b><br>Time Period: 2023-Q4<br>Class A Rent: $35.77<br>Class O Rent: $nan<br>Legal Growth Index: 25%<br>Tech Growth Index: -3%<br>Finance Growth Index: -44%",
            "<b>Northern New Jersey</b><br>Time Period: 2023-Q4<br>Class A Rent: $32.65<br>Class O Rent: $nan<br>Legal Growth Index: 57%<br>Tech Growth Index: 47%<br>Finance Growth Index: 32%",
            "<b>Northern Virginia</b><br>Time Period: 2023-Q4<br>Class A Rent: $36.36<br>Class O Rent: $32.25<br>A/O Ratio: 1.13<br>Legal Growth Index: 6%<br>Tech Growth Index: 4%<br>Finance Growth Index: 46%",
            "<b>Northern Virginia</b><br>Time Period: 2023-Q4<br>Class A Rent: $36.36<br>Class O Rent: $32.25<br>A/O Ratio: 1.13<br>Legal Growth Index: 6%<br>Tech Growth Index: -1%<br>Finance Growth Index: 46%",
            "<b>Philadelphia</b><br>Time Period: 2023-Q4<br>Class A Rent: $33.21<br>Class O Rent: $27.11<br>A/O Ratio: 1.22<br>Legal Growth Index: 38%<br>Tech Growth Index: 38%<br>Finance Growth Index: 111%",
            "<b>Philadelphia</b><br>Time Period: 2023-Q4<br>Class A Rent: $33.21<br>Class O Rent: $27.11<br>A/O Ratio: 1.22<br>Legal Growth Index: 38%<br>Tech Growth Index: 38%<br>Finance Growth Index: 86%",
            "<b>Phoenix</b><br>Time Period: 2023-Q4<br>Class A Rent: $32.82<br>Class O Rent: $26.63<br>A/O Ratio: 1.23<br>Legal Growth Index: 143%<br>Tech Growth Index: 94%<br>Finance Growth Index: 81%",
            "<b>Phoenix</b><br>Time Period: 2023-Q4<br>Class A Rent: $32.82<br>Class O Rent: $26.63<br>A/O Ratio: 1.23<br>Legal Growth Index: 143%<br>Tech Growth Index: 92%<br>Finance Growth Index: 87%",
            "<b>Salt Lake City</b><br>Time Period: 2023-Q4<br>Class A Rent: $29.56<br>Class O Rent: $24.23<br>A/O Ratio: 1.22<br>Legal Growth Index: -27%<br>Tech Growth Index: -4%<br>Finance Growth Index: 36%",
            "<b>Salt Lake City</b><br>Time Period: 2023-Q4<br>Class A Rent: $29.56<br>Class O Rent: $24.23<br>A/O Ratio: 1.22<br>Legal Growth Index: -44%<br>Tech Growth Index: -4%<br>Finance Growth Index: 36%",
            "<b>San Diego</b><br>Time Period: 2023-Q4<br>Class A Rent: $43.64<br>Class O Rent: $33.92<br>A/O Ratio: 1.29<br>Legal Growth Index: -1%<br>Tech Growth Index: -73%<br>Finance Growth Index: 64%",
            "<b>San Diego</b><br>Time Period: 2023-Q4<br>Class A Rent: $43.64<br>Class O Rent: $33.92<br>A/O Ratio: 1.29<br>Legal Growth Index: -1%<br>Tech Growth Index: -100%<br>Finance Growth Index: 64%",
            "<b>San Francisco</b><br>Time Period: 2023-Q4<br>Class A Rent: $74.51<br>Class O Rent: $60.23<br>A/O Ratio: 1.24<br>Legal Growth Index: 131%<br>Tech Growth Index: 60%<br>Finance Growth Index: 39%",
            "<b>San Francisco</b><br>Time Period: 2023-Q4<br>Class A Rent: $74.51<br>Class O Rent: $60.23<br>A/O Ratio: 1.24<br>Legal Growth Index: 50%<br>Tech Growth Index: 5%<br>Finance Growth Index: 39%",
            "<b>Seattle</b><br>Time Period: 2023-Q4<br>Class A Rent: $52.56<br>Class O Rent: $35.57<br>A/O Ratio: 1.48<br>Legal Growth Index: 0%<br>Tech Growth Index: 29%<br>Finance Growth Index: 64%",
            "<b>Seattle</b><br>Time Period: 2023-Q4<br>Class A Rent: $52.56<br>Class O Rent: $35.57<br>A/O Ratio: 1.48<br>Legal Growth Index: 0%<br>Tech Growth Index: 29%<br>Finance Growth Index: 43%",
            "<b>South Florida</b><br>Time Period: 2023-Q4<br>Class A Rent: $49.61<br>Class O Rent: $35.69<br>A/O Ratio: 1.39<br>Legal Growth Index: 49%<br>Tech Growth Index: 17%<br>Finance Growth Index: 63%",
            "<b>South Florida</b><br>Time Period: 2023-Q4<br>Class A Rent: $49.61<br>Class O Rent: $35.69<br>A/O Ratio: 1.39<br>Legal Growth Index: 40%<br>Tech Growth Index: 17%<br>Finance Growth Index: 63%",
            "<b>Tampa</b><br>Time Period: 2023-Q4<br>Class A Rent: $32.14<br>Class O Rent: $24.82<br>A/O Ratio: 1.29<br>Legal Growth Index: 2%<br>Tech Growth Index: 24%<br>Finance Growth Index: 47%",
            "<b>Tampa</b><br>Time Period: 2023-Q4<br>Class A Rent: $32.14<br>Class O Rent: $24.82<br>A/O Ratio: 1.29<br>Legal Growth Index: 2%<br>Tech Growth Index: 24%<br>Finance Growth Index: 38%"
           ],
           "type": "scattergeo"
          }
         ],
         "layout": {
          "title": {
           "text": "US Market Rental Rates Over Time: 2023-Q4"
          }
         },
         "name": "2023-Q4"
        },
        {
         "data": [
          {
           "hoverinfo": "text",
           "lat": {
            "bdata": "HVpkO9/fQEAdWmQ7399AQL99HThnRD5Av30dOGdEPkCh1jTvOKVDQKHWNO84pUNAEqW9wRcuRUASpb3BFy5FQPd14JwRnUFA93XgnBGdQUC8dJMYBAZFQLx0kxgEBkVA30+Nl24qRUDfT42XbipFQN/gC5Opwj1A3+ALk6nCPUD0bFZ9rgZBQPRsVn2uBkFAsb/snjxkRECxv+yePGREQJSHhVrTFEJAZ9XnaiteREBn1edqK15EQKkT0ETYcENAqRPQRNhwQ0C1FfvL7vlDQLUV+8vu+UNAYcPTK2W5QEBhw9MrZblAQP5l9+RhYURApN++DpxbQECk374OnFtAQNDVVuwv40JA0NVW7C/jQkDoaiv2l81HQOhqK/aXzUdA+1xtxf7COUD7XG3F/sI5QN6Th4Va8ztA3pOHhVrzO0A=",
            "dtype": "f8"
           },
           "lon": {
            "bdata": "Rrbz/dQYVcBGtvP91BhVwBZqTfOOb1jAFmpN845vWMBlGeJYFydTwGUZ4lgXJ1PAAG+BBMXDUcAAb4EExcNRwH3Qs1n1NVTAfdCzWfU1VMDdtYR80OtVwN21hHzQ61XAl/+QfvvCVMCX/5B++8JUwOSDns2q11fA5IOezarXV8BBguLHmI9dwEGC4seYj13AA3gLJCh+UsADeAskKH5SwG6jAbwFslXAJXUCmgiLUsAldQKaCItSwOf7qfHSRVPA5/up8dJFU8AmUwWjkspSwCZTBaOSylLA2/l+arwEXMDb+X5qvARcwBsv3SQG+VvArthfdk9KXcCu2F92T0pdwFD8GHPXml7AUPwYc9eaXsAawFsgQZVewBrAWyBBlV7A3NeBc0YMVMDc14FzRgxUwMzuycNCnVTAzO7Jw0KdVMA=",
            "dtype": "f8"
           },
           "marker": {
            "cmax": 94.191224222457,
            "cmin": 20.9981865703684,
            "color": {
             "bdata": "+IfXsaaIQUD4h9expohBQBb+L/rqjUlAFv4v+uqNSUD3GEkIWOA5QPcYSQhY4DlA6/6HrlK8SkDr/oeuUrxKQPT5wm68u0FA9PnCbry7QUCSsAtZS58+QJKwC1lLnz5A8kJvT7YBOEDyQm9PtgE4QPR/IDrMN0JA9H8gOsw3QkC4ffMfRsNIQLh98x9Gw0hAMeEOAxw5VUAx4Q4DHDlVQBI9oOD2RUJAb7LuKWNfQEBvsu4pY19AQAblrPwMJ0JABuWs/AwnQkDP3YiSzbNAQM/diJLNs0BAiCnJyKVLQECIKcnIpUtAQE1KxHLFxT1A5IZOjZHwRkDkhk6NkfBGQCnrB9iLnFJAKesH2IucUkCMvcm0WyBKQIy9ybRbIEpA4SrxU+DqSEDhKvFT4OpIQP9B6UPDZUBA/0HpQ8NlQEA=",
             "dtype": "f8"
            },
            "colorbar": {
             "len": 0.6,
             "thickness": 15,
             "title": {
              "text": "Class A Rent ($)"
             },
             "y": 0.5,
             "yanchor": "middle"
            },
            "colorscale": [
             [
              0,
              "#440154"
             ],
             [
              0.1111111111111111,
              "#482878"
             ],
             [
              0.2222222222222222,
              "#3e4989"
             ],
             [
              0.3333333333333333,
              "#31688e"
             ],
             [
              0.4444444444444444,
              "#26828e"
             ],
             [
              0.5555555555555556,
              "#1f9e89"
             ],
             [
              0.6666666666666666,
              "#35b779"
             ],
             [
              0.7777777777777778,
              "#6ece58"
             ],
             [
              0.8888888888888888,
              "#b5de2b"
             ],
             [
              1,
              "#fde725"
             ]
            ],
            "line": {
             "color": "DarkSlateGrey",
             "width": 1
            },
            "size": {
             "bdata": "Q/qX2/29KkBD+pfb/b0qQGayXMLsjTRAZrJcwuyNNEC8wXLLYGAlQLzBcstgYCVAPtzM7RTSNUA+3MztFNI1QD0seWTzBytAPSx5ZPMHK0DyIZ5tetAnQPIhnm160CdAaZWi3KqqJEBplaLcqqokQJAe1PnPvytAkB7U+c+/K0Ao4XNfqLszQCjhc1+ouzNA+4OzPPdPRUD7g7M8909FQOWDSScv1StA/h17z8okKUD+HXvPyiQpQApOl3ylpitACk6XfKWmK0DmFGKDOZUpQOYUYoM5lSlAKzeXafIKKUArN5dp8gopQNcArbUOUidA5It/jpHtMUDki3+Oke0xQGYu2cPsekFAZi7Zw+x6QUA2KyuzXik1QDYrK7NeKTVApAKQYU3kM0CkApBhTeQzQP4W8wstLSlA/hbzCy0tKUA=",
             "dtype": "f8"
            }
           },
           "mode": "markers",
           "name": "2024-Q1",
           "text": [
            "<b>Atlanta</b><br>Time Period: 2024-Q1<br>Class A Rent: $35.07<br>Class O Rent: $24.52<br>A/O Ratio: 1.43<br>Legal Growth Index: 36%<br>Tech Growth Index: 122%<br>Finance Growth Index: 74%",
            "<b>Atlanta</b><br>Time Period: 2024-Q1<br>Class A Rent: $35.07<br>Class O Rent: $24.52<br>A/O Ratio: 1.43<br>Legal Growth Index: 14%<br>Tech Growth Index: 122%<br>Finance Growth Index: 29%",
            "<b>Austin</b><br>Time Period: 2024-Q1<br>Class A Rent: $51.11<br>Class O Rent: $34.56<br>A/O Ratio: 1.48<br>Legal Growth Index: 32%<br>Tech Growth Index: 37%<br>Finance Growth Index: 52%",
            "<b>Austin</b><br>Time Period: 2024-Q1<br>Class A Rent: $51.11<br>Class O Rent: $34.56<br>A/O Ratio: 1.48<br>Legal Growth Index: 32%<br>Tech Growth Index: 31%<br>Finance Growth Index: 50%",
            "<b>Baltimore</b><br>Time Period: 2024-Q1<br>Class A Rent: $25.88<br>Class O Rent: $21.32<br>A/O Ratio: 1.21<br>Legal Growth Index: -39%<br>Tech Growth Index: 28%<br>Finance Growth Index: 89%",
            "<b>Baltimore</b><br>Time Period: 2024-Q1<br>Class A Rent: $25.88<br>Class O Rent: $21.32<br>A/O Ratio: 1.21<br>Legal Growth Index: -39%<br>Tech Growth Index: 8%<br>Finance Growth Index: 89%",
            "<b>Boston</b><br>Time Period: 2024-Q1<br>Class A Rent: $53.47<br>Class O Rent: $31.73<br>A/O Ratio: 1.69<br>Legal Growth Index: 106%<br>Tech Growth Index: 23%<br>Finance Growth Index: 47%",
            "<b>Boston</b><br>Time Period: 2024-Q1<br>Class A Rent: $53.47<br>Class O Rent: $31.73<br>A/O Ratio: 1.69<br>Legal Growth Index: 106%<br>Tech Growth Index: 29%<br>Finance Growth Index: 47%",
            "<b>Charlotte</b><br>Time Period: 2024-Q1<br>Class A Rent: $35.47<br>Class O Rent: $27.51<br>A/O Ratio: 1.29<br>Legal Growth Index: 57%<br>Tech Growth Index: 99%<br>Finance Growth Index: 115%",
            "<b>Charlotte</b><br>Time Period: 2024-Q1<br>Class A Rent: $35.47<br>Class O Rent: $27.51<br>A/O Ratio: 1.29<br>Legal Growth Index: 57%<br>Tech Growth Index: 57%<br>Finance Growth Index: 91%",
            "<b>Chicago Suburbs</b><br>Time Period: 2024-Q1<br>Class A Rent: $30.62<br>Class O Rent: $22.40<br>A/O Ratio: 1.37<br>Legal Growth Index: -100%<br>Tech Growth Index: 95%<br>Finance Growth Index: 9%",
            "<b>Chicago Suburbs</b><br>Time Period: 2024-Q1<br>Class A Rent: $30.62<br>Class O Rent: $22.40<br>A/O Ratio: 1.37<br>Legal Growth Index: -100%<br>Tech Growth Index: 95%<br>Finance Growth Index: -6%",
            "<b>Detroit</b><br>Time Period: 2024-Q1<br>Class A Rent: $24.01<br>Class O Rent: $19.89<br>A/O Ratio: 1.21<br>Legal Growth Index: -7%<br>Tech Growth Index: -28%<br>Finance Growth Index: 19%",
            "<b>Detroit</b><br>Time Period: 2024-Q1<br>Class A Rent: $24.01<br>Class O Rent: $19.89<br>A/O Ratio: 1.21<br>Legal Growth Index: -7%<br>Tech Growth Index: -27%<br>Finance Growth Index: 19%",
            "<b>Houston</b><br>Time Period: 2024-Q1<br>Class A Rent: $36.44<br>Class O Rent: $22.90<br>A/O Ratio: 1.59<br>Legal Growth Index: 87%<br>Tech Growth Index: 136%<br>Finance Growth Index: -15%",
            "<b>Houston</b><br>Time Period: 2024-Q1<br>Class A Rent: $36.44<br>Class O Rent: $22.90<br>A/O Ratio: 1.59<br>Legal Growth Index: 87%<br>Tech Growth Index: 62%<br>Finance Growth Index: -13%",
            "<b>Los Angeles</b><br>Time Period: 2024-Q1<br>Class A Rent: $49.53<br>Class O Rent: $41.89<br>A/O Ratio: 1.18<br>Legal Growth Index: 53%<br>Tech Growth Index: 49%<br>Finance Growth Index: 75%",
            "<b>Los Angeles</b><br>Time Period: 2024-Q1<br>Class A Rent: $49.53<br>Class O Rent: $41.89<br>A/O Ratio: 1.18<br>Legal Growth Index: 53%<br>Tech Growth Index: -2%<br>Finance Growth Index: 75%",
            "<b>Manhattan</b><br>Time Period: 2024-Q1<br>Class A Rent: $84.89<br>Class O Rent: $62.60<br>A/O Ratio: 1.36<br>Legal Growth Index: 23%<br>Tech Growth Index: 39%<br>Finance Growth Index: 31%",
            "<b>Manhattan</b><br>Time Period: 2024-Q1<br>Class A Rent: $84.89<br>Class O Rent: $62.60<br>A/O Ratio: 1.36<br>Legal Growth Index: 20%<br>Tech Growth Index: 33%<br>Finance Growth Index: 26%",
            "<b>Nashville</b><br>Time Period: 2024-Q1<br>Class A Rent: $36.55<br>Class O Rent: $nan<br>Legal Growth Index: 86%<br>Tech Growth Index: 77%<br>Finance Growth Index: 105%",
            "<b>Northern New Jersey</b><br>Time Period: 2024-Q1<br>Class A Rent: $32.75<br>Class O Rent: $24.42<br>A/O Ratio: 1.34<br>Legal Growth Index: 88%<br>Tech Growth Index: 27%<br>Finance Growth Index: 48%",
            "<b>Northern New Jersey</b><br>Time Period: 2024-Q1<br>Class A Rent: $32.75<br>Class O Rent: $24.42<br>A/O Ratio: 1.34<br>Legal Growth Index: 88%<br>Tech Growth Index: 27%<br>Finance Growth Index: 24%",
            "<b>Northern Virginia</b><br>Time Period: 2024-Q1<br>Class A Rent: $36.31<br>Class O Rent: $32.43<br>A/O Ratio: 1.12<br>Legal Growth Index: 14%<br>Tech Growth Index: 51%<br>Finance Growth Index: 36%",
            "<b>Northern Virginia</b><br>Time Period: 2024-Q1<br>Class A Rent: $36.31<br>Class O Rent: $32.43<br>A/O Ratio: 1.12<br>Legal Growth Index: 14%<br>Tech Growth Index: -35%<br>Finance Growth Index: 12%",
            "<b>Philadelphia</b><br>Time Period: 2024-Q1<br>Class A Rent: $33.40<br>Class O Rent: $27.15<br>A/O Ratio: 1.23<br>Legal Growth Index: 176%<br>Tech Growth Index: 104%<br>Finance Growth Index: 41%",
            "<b>Philadelphia</b><br>Time Period: 2024-Q1<br>Class A Rent: $33.40<br>Class O Rent: $27.15<br>A/O Ratio: 1.23<br>Legal Growth Index: 105%<br>Tech Growth Index: 104%<br>Finance Growth Index: 41%",
            "<b>Phoenix</b><br>Time Period: 2024-Q1<br>Class A Rent: $32.59<br>Class O Rent: $26.91<br>A/O Ratio: 1.21<br>Legal Growth Index: 71%<br>Tech Growth Index: 125%<br>Finance Growth Index: 32%",
            "<b>Phoenix</b><br>Time Period: 2024-Q1<br>Class A Rent: $32.59<br>Class O Rent: $26.91<br>A/O Ratio: 1.21<br>Legal Growth Index: 52%<br>Tech Growth Index: 125%<br>Finance Growth Index: 26%",
            "<b>Salt Lake City</b><br>Time Period: 2024-Q1<br>Class A Rent: $29.77<br>Class O Rent: $nan<br>Legal Growth Index: 154%<br>Tech Growth Index: -53%<br>Finance Growth Index: -97%",
            "<b>San Diego</b><br>Time Period: 2024-Q1<br>Class A Rent: $45.88<br>Class O Rent: $33.80<br>A/O Ratio: 1.36<br>Legal Growth Index: 11%<br>Tech Growth Index: -27%<br>Finance Growth Index: -32%",
            "<b>San Diego</b><br>Time Period: 2024-Q1<br>Class A Rent: $45.88<br>Class O Rent: $33.80<br>A/O Ratio: 1.36<br>Legal Growth Index: 11%<br>Tech Growth Index: -31%<br>Finance Growth Index: -32%",
            "<b>San Francisco</b><br>Time Period: 2024-Q1<br>Class A Rent: $74.45<br>Class O Rent: $60.34<br>A/O Ratio: 1.23<br>Legal Growth Index: 84%<br>Tech Growth Index: 61%<br>Finance Growth Index: 65%",
            "<b>San Francisco</b><br>Time Period: 2024-Q1<br>Class A Rent: $74.45<br>Class O Rent: $60.34<br>A/O Ratio: 1.23<br>Legal Growth Index: 84%<br>Tech Growth Index: 56%<br>Finance Growth Index: 65%",
            "<b>Seattle</b><br>Time Period: 2024-Q1<br>Class A Rent: $52.25<br>Class O Rent: $35.66<br>A/O Ratio: 1.47<br>Legal Growth Index: 54%<br>Tech Growth Index: 98%<br>Finance Growth Index: 26%",
            "<b>Seattle</b><br>Time Period: 2024-Q1<br>Class A Rent: $52.25<br>Class O Rent: $35.66<br>A/O Ratio: 1.47<br>Legal Growth Index: 54%<br>Tech Growth Index: 48%<br>Finance Growth Index: 26%",
            "<b>South Florida</b><br>Time Period: 2024-Q1<br>Class A Rent: $49.83<br>Class O Rent: $35.67<br>A/O Ratio: 1.40<br>Legal Growth Index: 95%<br>Tech Growth Index: 38%<br>Finance Growth Index: 45%",
            "<b>South Florida</b><br>Time Period: 2024-Q1<br>Class A Rent: $49.83<br>Class O Rent: $35.67<br>A/O Ratio: 1.40<br>Legal Growth Index: 83%<br>Tech Growth Index: 38%<br>Finance Growth Index: 35%",
            "<b>Tampa</b><br>Time Period: 2024-Q1<br>Class A Rent: $32.80<br>Class O Rent: $25.17<br>A/O Ratio: 1.30<br>Legal Growth Index: 53%<br>Tech Growth Index: 25%<br>Finance Growth Index: 51%",
            "<b>Tampa</b><br>Time Period: 2024-Q1<br>Class A Rent: $32.80<br>Class O Rent: $25.17<br>A/O Ratio: 1.30<br>Legal Growth Index: 53%<br>Tech Growth Index: 4%<br>Finance Growth Index: 43%"
           ],
           "type": "scattergeo"
          }
         ],
         "layout": {
          "title": {
           "text": "US Market Rental Rates Over Time: 2024-Q1"
          }
         },
         "name": "2024-Q1"
        },
        {
         "data": [
          {
           "hoverinfo": "text",
           "lat": {
            "bdata": "HVpkO9/fQEAdWmQ7399AQL99HThnRD5AodY07zilQ0Ch1jTvOKVDQBKlvcEXLkVAEqW9wRcuRUD3deCcEZ1BQLx0kxgEBkVAvHSTGAQGRUDfT42XbipFQN9PjZduKkVA3+ALk6nCPUDf4AuTqcI9QPRsVn2uBkFA9GxWfa4GQUCxv+yePGREQLG/7J48ZERAlIeFWtMUQkCUh4Va0xRCQGfV52orXkRAZ9XnaiteRECpE9BE2HBDQKkT0ETYcENAtRX7y+75Q0C1FfvL7vlDQGHD0ytluUBAYcPTK2W5QED+ZffkYWFEQP5l9+RhYURApN++DpxbQECk374OnFtAQNDVVuwv40JA0NVW7C/jQkDoaiv2l81HQPtcbcX+wjlA+1xtxf7COUDek4eFWvM7QN6Th4Va8ztA",
            "dtype": "f8"
           },
           "lon": {
            "bdata": "Rrbz/dQYVcBGtvP91BhVwBZqTfOOb1jAZRniWBcnU8BlGeJYFydTwABvgQTFw1HAAG+BBMXDUcB90LNZ9TVUwN21hHzQ61XA3bWEfNDrVcCX/5B++8JUwJf/kH77wlTA5IOezarXV8Dkg57NqtdXwEGC4seYj13AQYLix5iPXcADeAskKH5SwAN4CyQoflLAbqMBvAWyVcBuowG8BbJVwCV1ApoIi1LAJXUCmgiLUsDn+6nx0kVTwOf7qfHSRVPAJlMFo5LKUsAmUwWjkspSwNv5fmq8BFzA2/l+arwEXMAbL90kBvlbwBsv3SQG+VvArthfdk9KXcCu2F92T0pdwFD8GHPXml7AUPwYc9eaXsAawFsgQZVewNzXgXNGDFTA3NeBc0YMVMDM7snDQp1UwMzuycNCnVTA",
            "dtype": "f8"
           },
           "marker": {
            "cmax": 94.191224222457,
            "cmin": 20.9981865703684,
            "color": {
             "bdata": "66QJjnaHQUDrpAmOdodBQMFHQcdLmklAd9Fd2UrqOUB30V3ZSuo5QJECC95XUExAkQIL3ldQTEAp+You9OBBQFhaOiNj9T5AWFo6I2P1PkChGd2rYQM4QKEZ3athAzhAWDUyZPZiQkBYNTJk9mJCQAhE/ff5mkhACET99/maSEB1GYy3x4VVQHUZjLfHhVVAAKmJBRaWQkAAqYkFFpZCQLjyZni8YEBAuPJmeLxgQEA/5hE4FSRCQD/mETgVJEJALs0BFpLnQEAuzQEWkudAQFE0VCxyQUBAUTRULHJBQECr0LjsFTc+QKvQuOwVNz5ADTq7eLzwRkANOrt4vPBGQBr5hbz8sFJAGvmFvPywUkCT4fOJ/blJQIY6a4XvnElAhjprhe+cSUB3L5KHLa1AQHcvkoctrUBA",
             "dtype": "f8"
            },
            "colorbar": {
             "len": 0.6,
             "thickness": 15,
             "title": {
              "text": "Class A Rent ($)"
             },
             "y": 0.5,
             "yanchor": "middle"
            },
            "colorscale": [
             [
              0,
              "#440154"
             ],
             [
              0.1111111111111111,
              "#482878"
             ],
             [
              0.2222222222222222,
              "#3e4989"
             ],
             [
              0.3333333333333333,
              "#31688e"
             ],
             [
              0.4444444444444444,
              "#26828e"
             ],
             [
              0.5555555555555556,
              "#1f9e89"
             ],
             [
              0.6666666666666666,
              "#35b779"
             ],
             [
              0.7777777777777778,
              "#6ece58"
             ],
             [
              0.8888888888888888,
              "#b5de2b"
             ],
             [
              1,
              "#fde725"
             ]
            ],
            "line": {
             "color": "DarkSlateGrey",
             "width": 1
            },
            "size": {
             "bdata": "h20ssUi8KkCHbSyxSLwqQIiNw6HzmjRAD/jD5ZhkJUAP+MPlmGQlQC5WPXPXlTdALlY9c9eVN0DqvtEmez4rQG7DXwEbBChAbsNfARsEKEAIHJb9OKskQAgclv04qyRAtW3BDCsBLEC1bcEMKwEsQHZcCn6GkjNAdlwKfoaSM0AjDLPM9cVFQCMMs8z1xUVAaho+fXtPLEBqGj59e08sQKd8vIOQJilAp3y8g5AmKUDTzOyiMqIrQNPM7KIyoitAnOYdV63bKUCc5h1XrdspQHGCAzOo/ShAcYIDM6j9KEBr2Xt3L5MnQGvZe3cvkydAFq6FlbrtMUAWroWVuu0xQKJYpQybl0FAolilDJuXQUBMZA70Zrw0QJToDHu7nTRAlOgMe7udNEAaPptBSowpQBo+m0FKjClA",
             "dtype": "f8"
            }
           },
           "mode": "markers",
           "name": "2024-Q2",
           "text": [
            "<b>Atlanta</b><br>Time Period: 2024-Q2<br>Class A Rent: $35.06<br>Class O Rent: $24.69<br>A/O Ratio: 1.42<br>Legal Growth Index: 182%<br>Tech Growth Index: 102%<br>Finance Growth Index: 153%",
            "<b>Atlanta</b><br>Time Period: 2024-Q2<br>Class A Rent: $35.06<br>Class O Rent: $24.69<br>A/O Ratio: 1.42<br>Legal Growth Index: 69%<br>Tech Growth Index: 102%<br>Finance Growth Index: 153%",
            "<b>Austin</b><br>Time Period: 2024-Q2<br>Class A Rent: $51.21<br>Class O Rent: $nan<br>Legal Growth Index: 87%<br>Tech Growth Index: 21%<br>Finance Growth Index: 69%",
            "<b>Baltimore</b><br>Time Period: 2024-Q2<br>Class A Rent: $25.92<br>Class O Rent: $21.26<br>A/O Ratio: 1.22<br>Legal Growth Index: 73%<br>Tech Growth Index: 70%<br>Finance Growth Index: 98%",
            "<b>Baltimore</b><br>Time Period: 2024-Q2<br>Class A Rent: $25.92<br>Class O Rent: $21.26<br>A/O Ratio: 1.22<br>Legal Growth Index: 75%<br>Tech Growth Index: 60%<br>Finance Growth Index: 98%",
            "<b>Boston</b><br>Time Period: 2024-Q2<br>Class A Rent: $56.63<br>Class O Rent: $32.83<br>A/O Ratio: 1.72<br>Legal Growth Index: 67%<br>Tech Growth Index: 125%<br>Finance Growth Index: 54%",
            "<b>Boston</b><br>Time Period: 2024-Q2<br>Class A Rent: $56.63<br>Class O Rent: $32.83<br>A/O Ratio: 1.72<br>Legal Growth Index: 40%<br>Tech Growth Index: 101%<br>Finance Growth Index: 54%",
            "<b>Charlotte</b><br>Time Period: 2024-Q2<br>Class A Rent: $35.76<br>Class O Rent: $nan<br>Legal Growth Index: 60%<br>Tech Growth Index: 89%<br>Finance Growth Index: 82%",
            "<b>Chicago Suburbs</b><br>Time Period: 2024-Q2<br>Class A Rent: $30.96<br>Class O Rent: $22.29<br>A/O Ratio: 1.39<br>Legal Growth Index: 13%<br>Tech Growth Index: 34%<br>Finance Growth Index: 48%",
            "<b>Chicago Suburbs</b><br>Time Period: 2024-Q2<br>Class A Rent: $30.96<br>Class O Rent: $22.29<br>A/O Ratio: 1.39<br>Legal Growth Index: 13%<br>Tech Growth Index: 13%<br>Finance Growth Index: 48%",
            "<b>Detroit</b><br>Time Period: 2024-Q2<br>Class A Rent: $24.01<br>Class O Rent: $19.94<br>A/O Ratio: 1.20<br>Legal Growth Index: 97%<br>Tech Growth Index: 59%<br>Finance Growth Index: 11%",
            "<b>Detroit</b><br>Time Period: 2024-Q2<br>Class A Rent: $24.01<br>Class O Rent: $19.94<br>A/O Ratio: 1.20<br>Legal Growth Index: 97%<br>Tech Growth Index: 30%<br>Finance Growth Index: -9%",
            "<b>Houston</b><br>Time Period: 2024-Q2<br>Class A Rent: $36.77<br>Class O Rent: $22.61<br>A/O Ratio: 1.63<br>Legal Growth Index: 87%<br>Tech Growth Index: 101%<br>Finance Growth Index: 76%",
            "<b>Houston</b><br>Time Period: 2024-Q2<br>Class A Rent: $36.77<br>Class O Rent: $22.61<br>A/O Ratio: 1.63<br>Legal Growth Index: 69%<br>Tech Growth Index: 101%<br>Finance Growth Index: 64%",
            "<b>Los Angeles</b><br>Time Period: 2024-Q2<br>Class A Rent: $49.21<br>Class O Rent: $41.19<br>A/O Ratio: 1.19<br>Legal Growth Index: 77%<br>Tech Growth Index: 36%<br>Finance Growth Index: 104%",
            "<b>Los Angeles</b><br>Time Period: 2024-Q2<br>Class A Rent: $49.21<br>Class O Rent: $41.19<br>A/O Ratio: 1.19<br>Legal Growth Index: 59%<br>Tech Growth Index: 25%<br>Finance Growth Index: 58%",
            "<b>Manhattan</b><br>Time Period: 2024-Q2<br>Class A Rent: $86.09<br>Class O Rent: $62.04<br>A/O Ratio: 1.39<br>Legal Growth Index: 62%<br>Tech Growth Index: 65%<br>Finance Growth Index: 40%",
            "<b>Manhattan</b><br>Time Period: 2024-Q2<br>Class A Rent: $86.09<br>Class O Rent: $62.04<br>A/O Ratio: 1.39<br>Legal Growth Index: 37%<br>Tech Growth Index: 39%<br>Finance Growth Index: 13%",
            "<b>Nashville</b><br>Time Period: 2024-Q2<br>Class A Rent: $37.17<br>Class O Rent: $29.69<br>A/O Ratio: 1.25<br>Legal Growth Index: 42%<br>Tech Growth Index: 95%<br>Finance Growth Index: -27%",
            "<b>Nashville</b><br>Time Period: 2024-Q2<br>Class A Rent: $37.17<br>Class O Rent: $29.69<br>A/O Ratio: 1.25<br>Legal Growth Index: 42%<br>Tech Growth Index: 15%<br>Finance Growth Index: -51%",
            "<b>Northern New Jersey</b><br>Time Period: 2024-Q2<br>Class A Rent: $32.76<br>Class O Rent: $24.70<br>A/O Ratio: 1.33<br>Legal Growth Index: 27%<br>Tech Growth Index: 6%<br>Finance Growth Index: 78%",
            "<b>Northern New Jersey</b><br>Time Period: 2024-Q2<br>Class A Rent: $32.76<br>Class O Rent: $24.70<br>A/O Ratio: 1.33<br>Legal Growth Index: 1%<br>Tech Growth Index: 6%<br>Finance Growth Index: 78%",
            "<b>Northern Virginia</b><br>Time Period: 2024-Q2<br>Class A Rent: $36.28<br>Class O Rent: $32.43<br>A/O Ratio: 1.12<br>Legal Growth Index: 26%<br>Tech Growth Index: 20%<br>Finance Growth Index: 75%",
            "<b>Northern Virginia</b><br>Time Period: 2024-Q2<br>Class A Rent: $36.28<br>Class O Rent: $32.43<br>A/O Ratio: 1.12<br>Legal Growth Index: 3%<br>Tech Growth Index: -33%<br>Finance Growth Index: 75%",
            "<b>Philadelphia</b><br>Time Period: 2024-Q2<br>Class A Rent: $33.81<br>Class O Rent: $28.39<br>A/O Ratio: 1.19<br>Legal Growth Index: 91%<br>Tech Growth Index: 71%<br>Finance Growth Index: 123%",
            "<b>Philadelphia</b><br>Time Period: 2024-Q2<br>Class A Rent: $33.81<br>Class O Rent: $28.39<br>A/O Ratio: 1.19<br>Legal Growth Index: 91%<br>Tech Growth Index: 51%<br>Finance Growth Index: 123%",
            "<b>Phoenix</b><br>Time Period: 2024-Q2<br>Class A Rent: $32.51<br>Class O Rent: $27.43<br>A/O Ratio: 1.19<br>Legal Growth Index: 22%<br>Tech Growth Index: 44%<br>Finance Growth Index: 105%",
            "<b>Phoenix</b><br>Time Period: 2024-Q2<br>Class A Rent: $32.51<br>Class O Rent: $27.43<br>A/O Ratio: 1.19<br>Legal Growth Index: 22%<br>Tech Growth Index: 44%<br>Finance Growth Index: 90%",
            "<b>Salt Lake City</b><br>Time Period: 2024-Q2<br>Class A Rent: $30.22<br>Class O Rent: $24.02<br>A/O Ratio: 1.26<br>Legal Growth Index: 154%<br>Tech Growth Index: -40%<br>Finance Growth Index: -15%",
            "<b>Salt Lake City</b><br>Time Period: 2024-Q2<br>Class A Rent: $30.22<br>Class O Rent: $24.02<br>A/O Ratio: 1.26<br>Legal Growth Index: 154%<br>Tech Growth Index: -40%<br>Finance Growth Index: -58%",
            "<b>San Diego</b><br>Time Period: 2024-Q2<br>Class A Rent: $45.88<br>Class O Rent: $33.87<br>A/O Ratio: 1.35<br>Legal Growth Index: -100%<br>Tech Growth Index: 86%<br>Finance Growth Index: 38%",
            "<b>San Diego</b><br>Time Period: 2024-Q2<br>Class A Rent: $45.88<br>Class O Rent: $33.87<br>A/O Ratio: 1.35<br>Legal Growth Index: -84%<br>Tech Growth Index: 70%<br>Finance Growth Index: 27%",
            "<b>San Francisco</b><br>Time Period: 2024-Q2<br>Class A Rent: $74.77<br>Class O Rent: $58.68<br>A/O Ratio: 1.27<br>Legal Growth Index: 32%<br>Tech Growth Index: 44%<br>Finance Growth Index: 47%",
            "<b>San Francisco</b><br>Time Period: 2024-Q2<br>Class A Rent: $74.77<br>Class O Rent: $58.68<br>A/O Ratio: 1.27<br>Legal Growth Index: 32%<br>Tech Growth Index: 38%<br>Finance Growth Index: 47%",
            "<b>Seattle</b><br>Time Period: 2024-Q2<br>Class A Rent: $51.45<br>Class O Rent: $nan<br>Legal Growth Index: 113%<br>Tech Growth Index: 72%<br>Finance Growth Index: 91%",
            "<b>South Florida</b><br>Time Period: 2024-Q2<br>Class A Rent: $51.23<br>Class O Rent: $35.67<br>A/O Ratio: 1.44<br>Legal Growth Index: 62%<br>Tech Growth Index: 92%<br>Finance Growth Index: 96%",
            "<b>South Florida</b><br>Time Period: 2024-Q2<br>Class A Rent: $51.23<br>Class O Rent: $35.67<br>A/O Ratio: 1.44<br>Legal Growth Index: 47%<br>Tech Growth Index: 92%<br>Finance Growth Index: 59%",
            "<b>Tampa</b><br>Time Period: 2024-Q2<br>Class A Rent: $33.35<br>Class O Rent: $25.57<br>A/O Ratio: 1.30<br>Legal Growth Index: 15%<br>Tech Growth Index: 56%<br>Finance Growth Index: 61%",
            "<b>Tampa</b><br>Time Period: 2024-Q2<br>Class A Rent: $33.35<br>Class O Rent: $25.57<br>A/O Ratio: 1.30<br>Legal Growth Index: 3%<br>Tech Growth Index: 56%<br>Finance Growth Index: 61%"
           ],
           "type": "scattergeo"
          }
         ],
         "layout": {
          "title": {
           "text": "US Market Rental Rates Over Time: 2024-Q2"
          }
         },
         "name": "2024-Q2"
        },
        {
         "data": [
          {
           "hoverinfo": "text",
           "lat": {
            "bdata": "HVpkO9/fQEAdWmQ7399AQL99HThnRD5Av30dOGdEPkCh1jTvOKVDQKHWNO84pUNAEqW9wRcuRUD3deCcEZ1BQPd14JwRnUFAvHSTGAQGRUC8dJMYBAZFQN9PjZduKkVA30+Nl24qRUDf4AuTqcI9QN/gC5Opwj1A9GxWfa4GQUD0bFZ9rgZBQLG/7J48ZERAsb/snjxkRECUh4Va0xRCQGfV52orXkRAZ9XnaiteRECpE9BE2HBDQKkT0ETYcENAtRX7y+75Q0Bhw9MrZblAQGHD0ytluUBA/mX35GFhRED+ZffkYWFEQKTfvg6cW0BApN++DpxbQEDQ1VbsL+NCQNDVVuwv40JA6Gor9pfNR0Doaiv2l81HQPtcbcX+wjlA+1xtxf7COUDek4eFWvM7QN6Th4Va8ztA",
            "dtype": "f8"
           },
           "lon": {
            "bdata": "Rrbz/dQYVcBGtvP91BhVwBZqTfOOb1jAFmpN845vWMBlGeJYFydTwGUZ4lgXJ1PAAG+BBMXDUcB90LNZ9TVUwH3Qs1n1NVTA3bWEfNDrVcDdtYR80OtVwJf/kH77wlTAl/+QfvvCVMDkg57NqtdXwOSDns2q11fAQYLix5iPXcBBguLHmI9dwAN4CyQoflLAA3gLJCh+UsBuowG8BbJVwCV1ApoIi1LAJXUCmgiLUsDn+6nx0kVTwOf7qfHSRVPAJlMFo5LKUsDb+X5qvARcwNv5fmq8BFzAGy/dJAb5W8AbL90kBvlbwK7YX3ZPSl3Arthfdk9KXcBQ/Bhz15pewFD8GHPXml7AGsBbIEGVXsAawFsgQZVewNzXgXNGDFTA3NeBc0YMVMDM7snDQp1UwMzuycNCnVTA",
            "dtype": "f8"
           },
           "marker": {
            "cmax": 94.191224222457,
            "cmin": 20.9981865703684,
            "color": {
             "bdata": "nS50dRGHQUCdLnR1EYdBQAY22fYIoUlABjbZ9gihSUDrYV58FSw6QOthXnwVLDpADZ0r64JkTECl4ZjPpPxBQKXhmM+k/EFAvkGsStrqPkC+QaxK2uo+QAqg9A3rojdACqD0DeuiN0CvV5Y4ZFlCQK9XljhkWUJAAPRLoYakSEAA9EuhhqRIQAXWJjc2X1VABdYmNzZfVUA3Bued49pCQFZSqoWEVkBAVlKqhYRWQEBYednViEZCQFh52dWIRkJAamWsqTbgQEA67syaL0FAQDruzJovQUBANNYmIAs4PkA01iYgCzg+QHMT0CTGX0dAcxPQJMZfR0Ddk6KwksZSQN2TorCSxlJAlG572nSkSECUbnvadKRIQPNy9eSvUUpA83L15K9RSkBXk4djztBAQFeTh2PO0EBA",
             "dtype": "f8"
            },
            "colorbar": {
             "len": 0.6,
             "thickness": 15,
             "title": {
              "text": "Class A Rent ($)"
             },
             "y": 0.5,
             "yanchor": "middle"
            },
            "colorscale": [
             [
              0,
              "#440154"
             ],
             [
              0.1111111111111111,
              "#482878"
             ],
             [
              0.2222222222222222,
              "#3e4989"
             ],
             [
              0.3333333333333333,
              "#31688e"
             ],
             [
              0.4444444444444444,
              "#26828e"
             ],
             [
              0.5555555555555556,
              "#1f9e89"
             ],
             [
              0.6666666666666666,
              "#35b779"
             ],
             [
              0.7777777777777778,
              "#6ece58"
             ],
             [
              0.8888888888888888,
              "#b5de2b"
             ],
             [
              1,
              "#fde725"
             ]
            ],
            "line": {
             "color": "DarkSlateGrey",
             "width": 1
            },
            "size": {
             "bdata": "2CQFabe7KkDYJAVpt7sqQIYqfnoNojRAhip+eg2iNEBMjQq66oAlQEyNCrrqgCVAAFcb5u+sN0AyURvrZmcrQDJRG+tmZytAE7dYob39J0ATt1ihvf0nQGsmQSQmjCRAayZBJCaMJECRyzOpnfIrQJHLM6md8itAQQUehECcM0BBBR6EQJwzQDgm76Z3ikVAOCbvpneKRUA2/w24abosQN7fl3IoGSlA3t+XcigZKUAM/j/BC9YrQAz+P8EL1itA1mdxhZjRKUByB92hUf0oQHIH3aFR/ShArBRlI76TJ0CsFGUjvpMnQIzq0uPKWDJAjOrS48pYMkDc/2k8/LVBQNz/aTz8tUFAwmLSZS6cM0DCYtJlLpwzQJgPnZlhXjVAmA+dmWFeNUBKxxqYjrwpQErHGpiOvClA",
             "dtype": "f8"
            }
           },
           "mode": "markers",
           "name": "2024-Q3",
           "text": [
            "<b>Atlanta</b><br>Time Period: 2024-Q3<br>Class A Rent: $35.06<br>Class O Rent: $24.94<br>A/O Ratio: 1.41<br>Legal Growth Index: 54%<br>Tech Growth Index: 127%<br>Finance Growth Index: 108%",
            "<b>Atlanta</b><br>Time Period: 2024-Q3<br>Class A Rent: $35.06<br>Class O Rent: $24.94<br>A/O Ratio: 1.41<br>Legal Growth Index: 34%<br>Tech Growth Index: 51%<br>Finance Growth Index: 39%",
            "<b>Austin</b><br>Time Period: 2024-Q3<br>Class A Rent: $51.26<br>Class O Rent: $34.30<br>A/O Ratio: 1.49<br>Legal Growth Index: 87%<br>Tech Growth Index: 95%<br>Finance Growth Index: 40%",
            "<b>Austin</b><br>Time Period: 2024-Q3<br>Class A Rent: $51.26<br>Class O Rent: $34.30<br>A/O Ratio: 1.49<br>Legal Growth Index: 87%<br>Tech Growth Index: 37%<br>Finance Growth Index: 40%",
            "<b>Baltimore</b><br>Time Period: 2024-Q3<br>Class A Rent: $26.17<br>Class O Rent: $21.27<br>A/O Ratio: 1.23<br>Legal Growth Index: 92%<br>Tech Growth Index: 63%<br>Finance Growth Index: 33%",
            "<b>Baltimore</b><br>Time Period: 2024-Q3<br>Class A Rent: $26.17<br>Class O Rent: $21.27<br>A/O Ratio: 1.23<br>Legal Growth Index: 94%<br>Tech Growth Index: 44%<br>Finance Growth Index: 33%",
            "<b>Boston</b><br>Time Period: 2024-Q3<br>Class A Rent: $56.79<br>Class O Rent: $nan<br>Legal Growth Index: 109%<br>Tech Growth Index: 32%<br>Finance Growth Index: 80%",
            "<b>Charlotte</b><br>Time Period: 2024-Q3<br>Class A Rent: $35.97<br>Class O Rent: $28.15<br>A/O Ratio: 1.28<br>Legal Growth Index: 106%<br>Tech Growth Index: 55%<br>Finance Growth Index: 79%",
            "<b>Charlotte</b><br>Time Period: 2024-Q3<br>Class A Rent: $35.97<br>Class O Rent: $28.15<br>A/O Ratio: 1.28<br>Legal Growth Index: 106%<br>Tech Growth Index: 50%<br>Finance Growth Index: 79%",
            "<b>Chicago Suburbs</b><br>Time Period: 2024-Q3<br>Class A Rent: $30.92<br>Class O Rent: $22.07<br>A/O Ratio: 1.40<br>Legal Growth Index: 37%<br>Tech Growth Index: 44%<br>Finance Growth Index: 110%",
            "<b>Chicago Suburbs</b><br>Time Period: 2024-Q3<br>Class A Rent: $30.92<br>Class O Rent: $22.07<br>A/O Ratio: 1.40<br>Legal Growth Index: 37%<br>Tech Growth Index: 44%<br>Finance Growth Index: 32%",
            "<b>Detroit</b><br>Time Period: 2024-Q3<br>Class A Rent: $23.64<br>Class O Rent: $19.96<br>A/O Ratio: 1.18<br>Legal Growth Index: 78%<br>Tech Growth Index: 28%<br>Finance Growth Index: 36%",
            "<b>Detroit</b><br>Time Period: 2024-Q3<br>Class A Rent: $23.64<br>Class O Rent: $19.96<br>A/O Ratio: 1.18<br>Legal Growth Index: 78%<br>Tech Growth Index: 28%<br>Finance Growth Index: 33%",
            "<b>Houston</b><br>Time Period: 2024-Q3<br>Class A Rent: $36.70<br>Class O Rent: $22.78<br>A/O Ratio: 1.61<br>Legal Growth Index: 75%<br>Tech Growth Index: 11%<br>Finance Growth Index: 94%",
            "<b>Houston</b><br>Time Period: 2024-Q3<br>Class A Rent: $36.70<br>Class O Rent: $22.78<br>A/O Ratio: 1.61<br>Legal Growth Index: 57%<br>Tech Growth Index: -4%<br>Finance Growth Index: 78%",
            "<b>Los Angeles</b><br>Time Period: 2024-Q3<br>Class A Rent: $49.29<br>Class O Rent: $41.16<br>A/O Ratio: 1.20<br>Legal Growth Index: 27%<br>Tech Growth Index: 68%<br>Finance Growth Index: 20%",
            "<b>Los Angeles</b><br>Time Period: 2024-Q3<br>Class A Rent: $49.29<br>Class O Rent: $41.16<br>A/O Ratio: 1.20<br>Legal Growth Index: -6%<br>Tech Growth Index: 37%<br>Finance Growth Index: -11%",
            "<b>Manhattan</b><br>Time Period: 2024-Q3<br>Class A Rent: $85.49<br>Class O Rent: $61.65<br>A/O Ratio: 1.39<br>Legal Growth Index: 29%<br>Tech Growth Index: 32%<br>Finance Growth Index: 37%",
            "<b>Manhattan</b><br>Time Period: 2024-Q3<br>Class A Rent: $85.49<br>Class O Rent: $61.65<br>A/O Ratio: 1.39<br>Legal Growth Index: 16%<br>Tech Growth Index: 19%<br>Finance Growth Index: 28%",
            "<b>Nashville</b><br>Time Period: 2024-Q3<br>Class A Rent: $37.71<br>Class O Rent: $nan<br>Legal Growth Index: 9%<br>Tech Growth Index: -3%<br>Finance Growth Index: 30%",
            "<b>Northern New Jersey</b><br>Time Period: 2024-Q3<br>Class A Rent: $32.68<br>Class O Rent: $24.59<br>A/O Ratio: 1.33<br>Legal Growth Index: 66%<br>Tech Growth Index: 35%<br>Finance Growth Index: 49%",
            "<b>Northern New Jersey</b><br>Time Period: 2024-Q3<br>Class A Rent: $32.68<br>Class O Rent: $24.59<br>A/O Ratio: 1.33<br>Legal Growth Index: 66%<br>Tech Growth Index: -33%<br>Finance Growth Index: 49%",
            "<b>Northern Virginia</b><br>Time Period: 2024-Q3<br>Class A Rent: $36.55<br>Class O Rent: $32.34<br>A/O Ratio: 1.13<br>Legal Growth Index: 6%<br>Tech Growth Index: 34%<br>Finance Growth Index: 65%",
            "<b>Northern Virginia</b><br>Time Period: 2024-Q3<br>Class A Rent: $36.55<br>Class O Rent: $32.34<br>A/O Ratio: 1.13<br>Legal Growth Index: -18%<br>Tech Growth Index: -45%<br>Finance Growth Index: 65%",
            "<b>Philadelphia</b><br>Time Period: 2024-Q3<br>Class A Rent: $33.75<br>Class O Rent: $nan<br>Legal Growth Index: 100%<br>Tech Growth Index: 76%<br>Finance Growth Index: 83%",
            "<b>Phoenix</b><br>Time Period: 2024-Q3<br>Class A Rent: $32.51<br>Class O Rent: $27.54<br>A/O Ratio: 1.18<br>Legal Growth Index: 153%<br>Tech Growth Index: 106%<br>Finance Growth Index: 87%",
            "<b>Phoenix</b><br>Time Period: 2024-Q3<br>Class A Rent: $32.51<br>Class O Rent: $27.54<br>A/O Ratio: 1.18<br>Legal Growth Index: 153%<br>Tech Growth Index: 106%<br>Finance Growth Index: 83%",
            "<b>Salt Lake City</b><br>Time Period: 2024-Q3<br>Class A Rent: $30.22<br>Class O Rent: $24.09<br>A/O Ratio: 1.25<br>Legal Growth Index: 154%<br>Tech Growth Index: -5%<br>Finance Growth Index: 31%",
            "<b>Salt Lake City</b><br>Time Period: 2024-Q3<br>Class A Rent: $30.22<br>Class O Rent: $24.09<br>A/O Ratio: 1.25<br>Legal Growth Index: 154%<br>Tech Growth Index: -52%<br>Finance Growth Index: 31%",
            "<b>San Diego</b><br>Time Period: 2024-Q3<br>Class A Rent: $46.75<br>Class O Rent: $33.66<br>A/O Ratio: 1.39<br>Legal Growth Index: 35%<br>Tech Growth Index: 35%<br>Finance Growth Index: 12%",
            "<b>San Diego</b><br>Time Period: 2024-Q3<br>Class A Rent: $46.75<br>Class O Rent: $33.66<br>A/O Ratio: 1.39<br>Legal Growth Index: 22%<br>Tech Growth Index: 34%<br>Finance Growth Index: 12%",
            "<b>San Francisco</b><br>Time Period: 2024-Q3<br>Class A Rent: $75.10<br>Class O Rent: $57.91<br>A/O Ratio: 1.30<br>Legal Growth Index: 67%<br>Tech Growth Index: 109%<br>Finance Growth Index: -6%",
            "<b>San Francisco</b><br>Time Period: 2024-Q3<br>Class A Rent: $75.10<br>Class O Rent: $57.91<br>A/O Ratio: 1.30<br>Legal Growth Index: 67%<br>Tech Growth Index: 44%<br>Finance Growth Index: -6%",
            "<b>Seattle</b><br>Time Period: 2024-Q3<br>Class A Rent: $49.28<br>Class O Rent: $35.53<br>A/O Ratio: 1.39<br>Legal Growth Index: 70%<br>Tech Growth Index: 71%<br>Finance Growth Index: 45%",
            "<b>Seattle</b><br>Time Period: 2024-Q3<br>Class A Rent: $49.28<br>Class O Rent: $35.53<br>A/O Ratio: 1.39<br>Legal Growth Index: 70%<br>Tech Growth Index: 65%<br>Finance Growth Index: 43%",
            "<b>South Florida</b><br>Time Period: 2024-Q3<br>Class A Rent: $52.64<br>Class O Rent: $36.27<br>A/O Ratio: 1.45<br>Legal Growth Index: 30%<br>Tech Growth Index: 89%<br>Finance Growth Index: 101%",
            "<b>South Florida</b><br>Time Period: 2024-Q3<br>Class A Rent: $52.64<br>Class O Rent: $36.27<br>A/O Ratio: 1.45<br>Legal Growth Index: 13%<br>Tech Growth Index: 71%<br>Finance Growth Index: 94%",
            "<b>Tampa</b><br>Time Period: 2024-Q3<br>Class A Rent: $33.63<br>Class O Rent: $26.04<br>A/O Ratio: 1.29<br>Legal Growth Index: -40%<br>Tech Growth Index: 5%<br>Finance Growth Index: 8%",
            "<b>Tampa</b><br>Time Period: 2024-Q3<br>Class A Rent: $33.63<br>Class O Rent: $26.04<br>A/O Ratio: 1.29<br>Legal Growth Index: -42%<br>Tech Growth Index: 5%<br>Finance Growth Index: -4%"
           ],
           "type": "scattergeo"
          }
         ],
         "layout": {
          "title": {
           "text": "US Market Rental Rates Over Time: 2024-Q3"
          }
         },
         "name": "2024-Q3"
        },
        {
         "data": [
          {
           "hoverinfo": "text",
           "lat": {
            "bdata": "HVpkO9/fQEAdWmQ7399AQL99HThnRD5Av30dOGdEPkCh1jTvOKVDQKHWNO84pUNAEqW9wRcuRUASpb3BFy5FQPd14JwRnUFAvHSTGAQGRUC8dJMYBAZFQN9PjZduKkVA30+Nl24qRUDf4AuTqcI9QN/gC5Opwj1A9GxWfa4GQUD0bFZ9rgZBQLG/7J48ZERAsb/snjxkRECUh4Va0xRCQJSHhVrTFEJAZ9XnaiteREBn1edqK15EQKkT0ETYcENAqRPQRNhwQ0C1FfvL7vlDQLUV+8vu+UNAYcPTK2W5QEBhw9MrZblAQP5l9+RhYURA/mX35GFhRECk374OnFtAQKTfvg6cW0BA0NVW7C/jQkDQ1VbsL+NCQOhqK/aXzUdA6Gor9pfNR0D7XG3F/sI5QPtcbcX+wjlA3pOHhVrzO0Dek4eFWvM7QA==",
            "dtype": "f8"
           },
           "lon": {
            "bdata": "Rrbz/dQYVcBGtvP91BhVwBZqTfOOb1jAFmpN845vWMBlGeJYFydTwGUZ4lgXJ1PAAG+BBMXDUcAAb4EExcNRwH3Qs1n1NVTA3bWEfNDrVcDdtYR80OtVwJf/kH77wlTAl/+QfvvCVMDkg57NqtdXwOSDns2q11fAQYLix5iPXcBBguLHmI9dwAN4CyQoflLAA3gLJCh+UsBuowG8BbJVwG6jAbwFslXAJXUCmgiLUsAldQKaCItSwOf7qfHSRVPA5/up8dJFU8AmUwWjkspSwCZTBaOSylLA2/l+arwEXMDb+X5qvARcwBsv3SQG+VvAGy/dJAb5W8Cu2F92T0pdwK7YX3ZPSl3AUPwYc9eaXsBQ/Bhz15pewBrAWyBBlV7AGsBbIEGVXsDc14FzRgxUwNzXgXNGDFTAzO7Jw0KdVMDM7snDQp1UwA==",
            "dtype": "f8"
           },
           "marker": {
            "cmax": 94.191224222457,
            "cmin": 20.9981865703684,
            "color": {
             "bdata": "CtejcD2qQUAK16NwPapBQOF6FK5HoUlA4XoUrkehSUAUrkfhelQ6QBSuR+F6VDpAmpmZmZn5TECamZmZmflMQD0K16NwXUJAXI/C9ShcP0Bcj8L1KFw/QPYoXI/CdTdA9ihcj8J1N0A9CtejcB1CQD0K16NwHUJACtejcD0KSUAK16NwPQpJQPBzbyP7NFVA8HNvI/s0VUDXo3A9CtdDQNejcD0K10NAj8L1KFxvQECPwvUoXG9AQI/C9ShcL0JAj8L1KFwvQkBSuB6F6/FAQFK4HoXr8UBAcT0K16NQQEBxPQrXo1BAQOxRuB6FKz5A7FG4HoUrPkAfhetRuN5HQB+F61G43kdAPQrXo3DNUkA9CtejcM1SQBSuR+F6NElAFK5H4Xo0SUAUrkfhelRLQBSuR+F6VEtAPQrXo3B9QEA9CtejcH1AQA==",
             "dtype": "f8"
            },
            "colorbar": {
             "len": 0.6,
             "thickness": 15,
             "title": {
              "text": "Class A Rent ($)"
             },
             "y": 0.5,
             "yanchor": "middle"
            },
            "colorscale": [
             [
              0,
              "#440154"
             ],
             [
              0.1111111111111111,
              "#482878"
             ],
             [
              0.2222222222222222,
              "#3e4989"
             ],
             [
              0.3333333333333333,
              "#31688e"
             ],
             [
              0.4444444444444444,
              "#26828e"
             ],
             [
              0.5555555555555556,
              "#1f9e89"
             ],
             [
              0.6666666666666666,
              "#35b779"
             ],
             [
              0.7777777777777778,
              "#6ece58"
             ],
             [
              0.8888888888888888,
              "#b5de2b"
             ],
             [
              1,
              "#fde725"
             ]
            ],
            "line": {
             "color": "DarkSlateGrey",
             "width": 1
            },
            "size": {
             "bdata": "rj18DoHuKkCuPXwOge4qQLP2sJdPojRAs/awl0+iNEBoO33GqJIlQGg7fcaokiVACNoCozxZOEAI2gKjPFk4QK/IZmrE+CtA8bqdi+JCKEDxup2L4kIoQDr4ipdUfiRAOviKl1R+JEBgCWCxQJgrQGAJYLFAmCtAgzUHhqUENECDNQeGpQQ0QEttQrWkSUVAS21CtaRJRUCiOktV6VAuQKI6S1XpUC5AgwKMctQ5KUCDAoxy1DkpQLcK2JYesytAtwrYlh6zK0BonC+e5ekpQGicL57l6SlAZn3zo3cRKUBmffOjdxEpQGjmQf52jCdAaOZB/naMJ0AWTlf9a9UyQBZOV/1r1TJALUi7dKu/QUAtSLt0q79BQDqnmUJsMDRAOqeZQmwwNEDGaLA2wXk2QMZosDbBeTZAuGMXd3dMKUC4Yxd3d0wpQA==",
             "dtype": "f8"
            }
           },
           "mode": "markers",
           "name": "2024-Q4",
           "text": [
            "<b>Atlanta</b><br>Time Period: 2024-Q4<br>Class A Rent: $35.33<br>Class O Rent: $25.39<br>A/O Ratio: 1.39<br>Legal Growth Index: 81%<br>Tech Growth Index: 126%<br>Finance Growth Index: 109%",
            "<b>Atlanta</b><br>Time Period: 2024-Q4<br>Class A Rent: $35.33<br>Class O Rent: $25.39<br>A/O Ratio: 1.39<br>Legal Growth Index: 55%<br>Tech Growth Index: 126%<br>Finance Growth Index: 38%",
            "<b>Austin</b><br>Time Period: 2024-Q4<br>Class A Rent: $51.26<br>Class O Rent: $34.28<br>A/O Ratio: 1.50<br>Legal Growth Index: 63%<br>Tech Growth Index: 66%<br>Finance Growth Index: 82%",
            "<b>Austin</b><br>Time Period: 2024-Q4<br>Class A Rent: $51.26<br>Class O Rent: $34.28<br>A/O Ratio: 1.50<br>Legal Growth Index: 63%<br>Tech Growth Index: 27%<br>Finance Growth Index: 82%",
            "<b>Baltimore</b><br>Time Period: 2024-Q4<br>Class A Rent: $26.33<br>Class O Rent: $21.09<br>A/O Ratio: 1.25<br>Legal Growth Index: 121%<br>Tech Growth Index: 18%<br>Finance Growth Index: 51%",
            "<b>Baltimore</b><br>Time Period: 2024-Q4<br>Class A Rent: $26.33<br>Class O Rent: $21.09<br>A/O Ratio: 1.25<br>Legal Growth Index: 121%<br>Tech Growth Index: 2%<br>Finance Growth Index: 51%",
            "<b>Boston</b><br>Time Period: 2024-Q4<br>Class A Rent: $57.95<br>Class O Rent: $31.07<br>A/O Ratio: 1.87<br>Legal Growth Index: 47%<br>Tech Growth Index: 52%<br>Finance Growth Index: 75%",
            "<b>Boston</b><br>Time Period: 2024-Q4<br>Class A Rent: $57.95<br>Class O Rent: $31.07<br>A/O Ratio: 1.87<br>Legal Growth Index: 47%<br>Tech Growth Index: 62%<br>Finance Growth Index: 66%",
            "<b>Charlotte</b><br>Time Period: 2024-Q4<br>Class A Rent: $36.73<br>Class O Rent: $nan<br>Legal Growth Index: 130%<br>Tech Growth Index: 3%<br>Finance Growth Index: 74%",
            "<b>Chicago Suburbs</b><br>Time Period: 2024-Q4<br>Class A Rent: $31.36<br>Class O Rent: $22.71<br>A/O Ratio: 1.38<br>Legal Growth Index: 73%<br>Tech Growth Index: 80%<br>Finance Growth Index: 18%",
            "<b>Chicago Suburbs</b><br>Time Period: 2024-Q4<br>Class A Rent: $31.36<br>Class O Rent: $22.71<br>A/O Ratio: 1.38<br>Legal Growth Index: 73%<br>Tech Growth Index: 31%<br>Finance Growth Index: 18%",
            "<b>Detroit</b><br>Time Period: 2024-Q4<br>Class A Rent: $23.46<br>Class O Rent: $20.00<br>A/O Ratio: 1.17<br>Legal Growth Index: 105%<br>Tech Growth Index: 52%<br>Finance Growth Index: 31%",
            "<b>Detroit</b><br>Time Period: 2024-Q4<br>Class A Rent: $23.46<br>Class O Rent: $20.00<br>A/O Ratio: 1.17<br>Legal Growth Index: 80%<br>Tech Growth Index: 55%<br>Finance Growth Index: -6%",
            "<b>Houston</b><br>Time Period: 2024-Q4<br>Class A Rent: $36.23<br>Class O Rent: $22.73<br>A/O Ratio: 1.59<br>Legal Growth Index: 71%<br>Tech Growth Index: 54%<br>Finance Growth Index: 115%",
            "<b>Houston</b><br>Time Period: 2024-Q4<br>Class A Rent: $36.23<br>Class O Rent: $22.73<br>A/O Ratio: 1.59<br>Legal Growth Index: 45%<br>Tech Growth Index: 26%<br>Finance Growth Index: 88%",
            "<b>Los Angeles</b><br>Time Period: 2024-Q4<br>Class A Rent: $50.08<br>Class O Rent: $41.02<br>A/O Ratio: 1.22<br>Legal Growth Index: 92%<br>Tech Growth Index: 86%<br>Finance Growth Index: 38%",
            "<b>Los Angeles</b><br>Time Period: 2024-Q4<br>Class A Rent: $50.08<br>Class O Rent: $41.02<br>A/O Ratio: 1.22<br>Legal Growth Index: 92%<br>Tech Growth Index: -1%<br>Finance Growth Index: 12%",
            "<b>Manhattan</b><br>Time Period: 2024-Q4<br>Class A Rent: $84.83<br>Class O Rent: $61.30<br>A/O Ratio: 1.38<br>Legal Growth Index: 43%<br>Tech Growth Index: 52%<br>Finance Growth Index: 63%",
            "<b>Manhattan</b><br>Time Period: 2024-Q4<br>Class A Rent: $84.83<br>Class O Rent: $61.30<br>A/O Ratio: 1.38<br>Legal Growth Index: 14%<br>Tech Growth Index: 22%<br>Finance Growth Index: 32%",
            "<b>Nashville</b><br>Time Period: 2024-Q4<br>Class A Rent: $39.68<br>Class O Rent: $29.37<br>A/O Ratio: 1.35<br>Legal Growth Index: 25%<br>Tech Growth Index: -3%<br>Finance Growth Index: -16%",
            "<b>Nashville</b><br>Time Period: 2024-Q4<br>Class A Rent: $39.68<br>Class O Rent: $29.37<br>A/O Ratio: 1.35<br>Legal Growth Index: 19%<br>Tech Growth Index: -3%<br>Finance Growth Index: -16%",
            "<b>Northern New Jersey</b><br>Time Period: 2024-Q4<br>Class A Rent: $32.87<br>Class O Rent: $24.89<br>A/O Ratio: 1.32<br>Legal Growth Index: 52%<br>Tech Growth Index: 35%<br>Finance Growth Index: 133%",
            "<b>Northern New Jersey</b><br>Time Period: 2024-Q4<br>Class A Rent: $32.87<br>Class O Rent: $24.89<br>A/O Ratio: 1.32<br>Legal Growth Index: 52%<br>Tech Growth Index: 7%<br>Finance Growth Index: 133%",
            "<b>Northern Virginia</b><br>Time Period: 2024-Q4<br>Class A Rent: $36.37<br>Class O Rent: $32.53<br>A/O Ratio: 1.12<br>Legal Growth Index: 0%<br>Tech Growth Index: 9%<br>Finance Growth Index: 50%",
            "<b>Northern Virginia</b><br>Time Period: 2024-Q4<br>Class A Rent: $36.37<br>Class O Rent: $32.53<br>A/O Ratio: 1.12<br>Legal Growth Index: 0%<br>Tech Growth Index: 9%<br>Finance Growth Index: 43%",
            "<b>Philadelphia</b><br>Time Period: 2024-Q4<br>Class A Rent: $33.89<br>Class O Rent: $28.27<br>A/O Ratio: 1.20<br>Legal Growth Index: 38%<br>Tech Growth Index: 107%<br>Finance Growth Index: 121%",
            "<b>Philadelphia</b><br>Time Period: 2024-Q4<br>Class A Rent: $33.89<br>Class O Rent: $28.27<br>A/O Ratio: 1.20<br>Legal Growth Index: 38%<br>Tech Growth Index: 48%<br>Finance Growth Index: 81%",
            "<b>Phoenix</b><br>Time Period: 2024-Q4<br>Class A Rent: $32.63<br>Class O Rent: $26.93<br>A/O Ratio: 1.21<br>Legal Growth Index: 143%<br>Tech Growth Index: 101%<br>Finance Growth Index: 77%",
            "<b>Phoenix</b><br>Time Period: 2024-Q4<br>Class A Rent: $32.63<br>Class O Rent: $26.93<br>A/O Ratio: 1.21<br>Legal Growth Index: 143%<br>Tech Growth Index: 101%<br>Finance Growth Index: 80%",
            "<b>Salt Lake City</b><br>Time Period: 2024-Q4<br>Class A Rent: $30.17<br>Class O Rent: $24.28<br>A/O Ratio: 1.24<br>Legal Growth Index: -44%<br>Tech Growth Index: -5%<br>Finance Growth Index: 65%",
            "<b>Salt Lake City</b><br>Time Period: 2024-Q4<br>Class A Rent: $30.17<br>Class O Rent: $24.28<br>A/O Ratio: 1.24<br>Legal Growth Index: -44%<br>Tech Growth Index: -5%<br>Finance Growth Index: 33%",
            "<b>San Diego</b><br>Time Period: 2024-Q4<br>Class A Rent: $47.74<br>Class O Rent: $33.81<br>A/O Ratio: 1.41<br>Legal Growth Index: -5%<br>Tech Growth Index: -73%<br>Finance Growth Index: 60%",
            "<b>San Diego</b><br>Time Period: 2024-Q4<br>Class A Rent: $47.74<br>Class O Rent: $33.81<br>A/O Ratio: 1.41<br>Legal Growth Index: -5%<br>Tech Growth Index: -93%<br>Finance Growth Index: 43%",
            "<b>San Francisco</b><br>Time Period: 2024-Q4<br>Class A Rent: $75.21<br>Class O Rent: $56.72<br>A/O Ratio: 1.33<br>Legal Growth Index: 96%<br>Tech Growth Index: 38%<br>Finance Growth Index: -4%",
            "<b>San Francisco</b><br>Time Period: 2024-Q4<br>Class A Rent: $75.21<br>Class O Rent: $56.72<br>A/O Ratio: 1.33<br>Legal Growth Index: 75%<br>Tech Growth Index: 24%<br>Finance Growth Index: -25%",
            "<b>Seattle</b><br>Time Period: 2024-Q4<br>Class A Rent: $50.41<br>Class O Rent: $35.78<br>A/O Ratio: 1.41<br>Legal Growth Index: 0%<br>Tech Growth Index: 51%<br>Finance Growth Index: 55%",
            "<b>Seattle</b><br>Time Period: 2024-Q4<br>Class A Rent: $50.41<br>Class O Rent: $35.78<br>A/O Ratio: 1.41<br>Legal Growth Index: -10%<br>Tech Growth Index: 45%<br>Finance Growth Index: 46%",
            "<b>South Florida</b><br>Time Period: 2024-Q4<br>Class A Rent: $54.66<br>Class O Rent: $37.01<br>A/O Ratio: 1.48<br>Legal Growth Index: 64%<br>Tech Growth Index: 34%<br>Finance Growth Index: 69%",
            "<b>South Florida</b><br>Time Period: 2024-Q4<br>Class A Rent: $54.66<br>Class O Rent: $37.01<br>A/O Ratio: 1.48<br>Legal Growth Index: 41%<br>Tech Growth Index: 1%<br>Finance Growth Index: 47%",
            "<b>Tampa</b><br>Time Period: 2024-Q4<br>Class A Rent: $32.98<br>Class O Rent: $25.60<br>A/O Ratio: 1.29<br>Legal Growth Index: 23%<br>Tech Growth Index: 24%<br>Finance Growth Index: 59%",
            "<b>Tampa</b><br>Time Period: 2024-Q4<br>Class A Rent: $32.98<br>Class O Rent: $25.60<br>A/O Ratio: 1.29<br>Legal Growth Index: -7%<br>Tech Growth Index: 12%<br>Finance Growth Index: 31%"
           ],
           "type": "scattergeo"
          }
         ],
         "layout": {
          "title": {
           "text": "US Market Rental Rates Over Time: 2024-Q4"
          }
         },
         "name": "2024-Q4"
        }
       ],
       "layout": {
        "annotations": [
         {
          "bgcolor": "white",
          "bordercolor": "black",
          "borderpad": 4,
          "borderwidth": 1,
          "opacity": 0.8,
          "showarrow": false,
          "text": "<b>Visualization Features:</b><br>• Marker size shows Class A rent (larger = higher rent)<br>• Color intensity also indicates rent level<br>• Hover over markers for detailed information",
          "x": 0.01,
          "xref": "paper",
          "y": 0.9,
          "yref": "paper"
         }
        ],
        "autosize": true,
        "dragmode": "pan",
        "geo": {
         "center": {
          "lat": 39.5,
          "lon": -98.35
         },
         "coastlinecolor": "white",
         "countrycolor": "white",
         "lakecolor": "rgb(255, 255, 255)",
         "landcolor": "rgb(217, 217, 217)",
         "projection": {
          "scale": 0.8,
          "type": "albers usa"
         },
         "scope": "usa",
         "showlakes": true,
         "showland": true,
         "subunitcolor": "white"
        },
        "margin": {
         "b": 200,
         "l": 0,
         "pad": 0,
         "r": 0,
         "t": 50
        },
        "sliders": [
         {
          "active": 0,
          "currentvalue": {
           "font": {
            "size": 14
           },
           "prefix": "Time Period: ",
           "visible": true,
           "xanchor": "right"
          },
          "len": 0.9,
          "pad": {
           "b": 50,
           "t": 10
          },
          "steps": [
           {
            "args": [
             [
              "2018-Q1"
             ],
             {
              "frame": {
               "duration": 300,
               "redraw": true
              },
              "layout": {
               "title": "US Market Rental Rates Over Time: 2018-Q1"
              },
              "mode": "immediate",
              "transition": {
               "duration": 300
              }
             }
            ],
            "label": "2018-Q1",
            "method": "animate"
           },
           {
            "args": [
             [
              "2018-Q2"
             ],
             {
              "frame": {
               "duration": 300,
               "redraw": true
              },
              "layout": {
               "title": "US Market Rental Rates Over Time: 2018-Q2"
              },
              "mode": "immediate",
              "transition": {
               "duration": 300
              }
             }
            ],
            "label": "2018-Q2",
            "method": "animate"
           },
           {
            "args": [
             [
              "2018-Q3"
             ],
             {
              "frame": {
               "duration": 300,
               "redraw": true
              },
              "layout": {
               "title": "US Market Rental Rates Over Time: 2018-Q3"
              },
              "mode": "immediate",
              "transition": {
               "duration": 300
              }
             }
            ],
            "label": "2018-Q3",
            "method": "animate"
           },
           {
            "args": [
             [
              "2018-Q4"
             ],
             {
              "frame": {
               "duration": 300,
               "redraw": true
              },
              "layout": {
               "title": "US Market Rental Rates Over Time: 2018-Q4"
              },
              "mode": "immediate",
              "transition": {
               "duration": 300
              }
             }
            ],
            "label": "2018-Q4",
            "method": "animate"
           },
           {
            "args": [
             [
              "2019-Q1"
             ],
             {
              "frame": {
               "duration": 300,
               "redraw": true
              },
              "layout": {
               "title": "US Market Rental Rates Over Time: 2019-Q1"
              },
              "mode": "immediate",
              "transition": {
               "duration": 300
              }
             }
            ],
            "label": "2019-Q1",
            "method": "animate"
           },
           {
            "args": [
             [
              "2019-Q2"
             ],
             {
              "frame": {
               "duration": 300,
               "redraw": true
              },
              "layout": {
               "title": "US Market Rental Rates Over Time: 2019-Q2"
              },
              "mode": "immediate",
              "transition": {
               "duration": 300
              }
             }
            ],
            "label": "2019-Q2",
            "method": "animate"
           },
           {
            "args": [
             [
              "2019-Q3"
             ],
             {
              "frame": {
               "duration": 300,
               "redraw": true
              },
              "layout": {
               "title": "US Market Rental Rates Over Time: 2019-Q3"
              },
              "mode": "immediate",
              "transition": {
               "duration": 300
              }
             }
            ],
            "label": "2019-Q3",
            "method": "animate"
           },
           {
            "args": [
             [
              "2019-Q4"
             ],
             {
              "frame": {
               "duration": 300,
               "redraw": true
              },
              "layout": {
               "title": "US Market Rental Rates Over Time: 2019-Q4"
              },
              "mode": "immediate",
              "transition": {
               "duration": 300
              }
             }
            ],
            "label": "2019-Q4",
            "method": "animate"
           },
           {
            "args": [
             [
              "2020-Q1"
             ],
             {
              "frame": {
               "duration": 300,
               "redraw": true
              },
              "layout": {
               "title": "US Market Rental Rates Over Time: 2020-Q1"
              },
              "mode": "immediate",
              "transition": {
               "duration": 300
              }
             }
            ],
            "label": "2020-Q1",
            "method": "animate"
           },
           {
            "args": [
             [
              "2020-Q2"
             ],
             {
              "frame": {
               "duration": 300,
               "redraw": true
              },
              "layout": {
               "title": "US Market Rental Rates Over Time: 2020-Q2"
              },
              "mode": "immediate",
              "transition": {
               "duration": 300
              }
             }
            ],
            "label": "2020-Q2",
            "method": "animate"
           },
           {
            "args": [
             [
              "2020-Q3"
             ],
             {
              "frame": {
               "duration": 300,
               "redraw": true
              },
              "layout": {
               "title": "US Market Rental Rates Over Time: 2020-Q3"
              },
              "mode": "immediate",
              "transition": {
               "duration": 300
              }
             }
            ],
            "label": "2020-Q3",
            "method": "animate"
           },
           {
            "args": [
             [
              "2020-Q4"
             ],
             {
              "frame": {
               "duration": 300,
               "redraw": true
              },
              "layout": {
               "title": "US Market Rental Rates Over Time: 2020-Q4"
              },
              "mode": "immediate",
              "transition": {
               "duration": 300
              }
             }
            ],
            "label": "2020-Q4",
            "method": "animate"
           },
           {
            "args": [
             [
              "2021-Q1"
             ],
             {
              "frame": {
               "duration": 300,
               "redraw": true
              },
              "layout": {
               "title": "US Market Rental Rates Over Time: 2021-Q1"
              },
              "mode": "immediate",
              "transition": {
               "duration": 300
              }
             }
            ],
            "label": "2021-Q1",
            "method": "animate"
           },
           {
            "args": [
             [
              "2021-Q2"
             ],
             {
              "frame": {
               "duration": 300,
               "redraw": true
              },
              "layout": {
               "title": "US Market Rental Rates Over Time: 2021-Q2"
              },
              "mode": "immediate",
              "transition": {
               "duration": 300
              }
             }
            ],
            "label": "2021-Q2",
            "method": "animate"
           },
           {
            "args": [
             [
              "2021-Q3"
             ],
             {
              "frame": {
               "duration": 300,
               "redraw": true
              },
              "layout": {
               "title": "US Market Rental Rates Over Time: 2021-Q3"
              },
              "mode": "immediate",
              "transition": {
               "duration": 300
              }
             }
            ],
            "label": "2021-Q3",
            "method": "animate"
           },
           {
            "args": [
             [
              "2021-Q4"
             ],
             {
              "frame": {
               "duration": 300,
               "redraw": true
              },
              "layout": {
               "title": "US Market Rental Rates Over Time: 2021-Q4"
              },
              "mode": "immediate",
              "transition": {
               "duration": 300
              }
             }
            ],
            "label": "2021-Q4",
            "method": "animate"
           },
           {
            "args": [
             [
              "2022-Q1"
             ],
             {
              "frame": {
               "duration": 300,
               "redraw": true
              },
              "layout": {
               "title": "US Market Rental Rates Over Time: 2022-Q1"
              },
              "mode": "immediate",
              "transition": {
               "duration": 300
              }
             }
            ],
            "label": "2022-Q1",
            "method": "animate"
           },
           {
            "args": [
             [
              "2022-Q2"
             ],
             {
              "frame": {
               "duration": 300,
               "redraw": true
              },
              "layout": {
               "title": "US Market Rental Rates Over Time: 2022-Q2"
              },
              "mode": "immediate",
              "transition": {
               "duration": 300
              }
             }
            ],
            "label": "2022-Q2",
            "method": "animate"
           },
           {
            "args": [
             [
              "2022-Q3"
             ],
             {
              "frame": {
               "duration": 300,
               "redraw": true
              },
              "layout": {
               "title": "US Market Rental Rates Over Time: 2022-Q3"
              },
              "mode": "immediate",
              "transition": {
               "duration": 300
              }
             }
            ],
            "label": "2022-Q3",
            "method": "animate"
           },
           {
            "args": [
             [
              "2022-Q4"
             ],
             {
              "frame": {
               "duration": 300,
               "redraw": true
              },
              "layout": {
               "title": "US Market Rental Rates Over Time: 2022-Q4"
              },
              "mode": "immediate",
              "transition": {
               "duration": 300
              }
             }
            ],
            "label": "2022-Q4",
            "method": "animate"
           },
           {
            "args": [
             [
              "2023-Q1"
             ],
             {
              "frame": {
               "duration": 300,
               "redraw": true
              },
              "layout": {
               "title": "US Market Rental Rates Over Time: 2023-Q1"
              },
              "mode": "immediate",
              "transition": {
               "duration": 300
              }
             }
            ],
            "label": "2023-Q1",
            "method": "animate"
           },
           {
            "args": [
             [
              "2023-Q2"
             ],
             {
              "frame": {
               "duration": 300,
               "redraw": true
              },
              "layout": {
               "title": "US Market Rental Rates Over Time: 2023-Q2"
              },
              "mode": "immediate",
              "transition": {
               "duration": 300
              }
             }
            ],
            "label": "2023-Q2",
            "method": "animate"
           },
           {
            "args": [
             [
              "2023-Q3"
             ],
             {
              "frame": {
               "duration": 300,
               "redraw": true
              },
              "layout": {
               "title": "US Market Rental Rates Over Time: 2023-Q3"
              },
              "mode": "immediate",
              "transition": {
               "duration": 300
              }
             }
            ],
            "label": "2023-Q3",
            "method": "animate"
           },
           {
            "args": [
             [
              "2023-Q4"
             ],
             {
              "frame": {
               "duration": 300,
               "redraw": true
              },
              "layout": {
               "title": "US Market Rental Rates Over Time: 2023-Q4"
              },
              "mode": "immediate",
              "transition": {
               "duration": 300
              }
             }
            ],
            "label": "2023-Q4",
            "method": "animate"
           },
           {
            "args": [
             [
              "2024-Q1"
             ],
             {
              "frame": {
               "duration": 300,
               "redraw": true
              },
              "layout": {
               "title": "US Market Rental Rates Over Time: 2024-Q1"
              },
              "mode": "immediate",
              "transition": {
               "duration": 300
              }
             }
            ],
            "label": "2024-Q1",
            "method": "animate"
           },
           {
            "args": [
             [
              "2024-Q2"
             ],
             {
              "frame": {
               "duration": 300,
               "redraw": true
              },
              "layout": {
               "title": "US Market Rental Rates Over Time: 2024-Q2"
              },
              "mode": "immediate",
              "transition": {
               "duration": 300
              }
             }
            ],
            "label": "2024-Q2",
            "method": "animate"
           },
           {
            "args": [
             [
              "2024-Q3"
             ],
             {
              "frame": {
               "duration": 300,
               "redraw": true
              },
              "layout": {
               "title": "US Market Rental Rates Over Time: 2024-Q3"
              },
              "mode": "immediate",
              "transition": {
               "duration": 300
              }
             }
            ],
            "label": "2024-Q3",
            "method": "animate"
           },
           {
            "args": [
             [
              "2024-Q4"
             ],
             {
              "frame": {
               "duration": 300,
               "redraw": true
              },
              "layout": {
               "title": "US Market Rental Rates Over Time: 2024-Q4"
              },
              "mode": "immediate",
              "transition": {
               "duration": 300
              }
             }
            ],
            "label": "2024-Q4",
            "method": "animate"
           }
          ],
          "tickcolor": "white",
          "transition": {
           "duration": 300,
           "easing": "cubic-in-out"
          },
          "x": 0.1,
          "y": -0.2,
          "yanchor": "bottom"
         }
        ],
        "template": {
         "data": {
          "bar": [
           {
            "error_x": {
             "color": "#2a3f5f"
            },
            "error_y": {
             "color": "#2a3f5f"
            },
            "marker": {
             "line": {
              "color": "#E5ECF6",
              "width": 0.5
             },
             "pattern": {
              "fillmode": "overlay",
              "size": 10,
              "solidity": 0.2
             }
            },
            "type": "bar"
           }
          ],
          "barpolar": [
           {
            "marker": {
             "line": {
              "color": "#E5ECF6",
              "width": 0.5
             },
             "pattern": {
              "fillmode": "overlay",
              "size": 10,
              "solidity": 0.2
             }
            },
            "type": "barpolar"
           }
          ],
          "carpet": [
           {
            "aaxis": {
             "endlinecolor": "#2a3f5f",
             "gridcolor": "white",
             "linecolor": "white",
             "minorgridcolor": "white",
             "startlinecolor": "#2a3f5f"
            },
            "baxis": {
             "endlinecolor": "#2a3f5f",
             "gridcolor": "white",
             "linecolor": "white",
             "minorgridcolor": "white",
             "startlinecolor": "#2a3f5f"
            },
            "type": "carpet"
           }
          ],
          "choropleth": [
           {
            "colorbar": {
             "outlinewidth": 0,
             "ticks": ""
            },
            "type": "choropleth"
           }
          ],
          "contour": [
           {
            "colorbar": {
             "outlinewidth": 0,
             "ticks": ""
            },
            "colorscale": [
             [
              0,
              "#0d0887"
             ],
             [
              0.1111111111111111,
              "#46039f"
             ],
             [
              0.2222222222222222,
              "#7201a8"
             ],
             [
              0.3333333333333333,
              "#9c179e"
             ],
             [
              0.4444444444444444,
              "#bd3786"
             ],
             [
              0.5555555555555556,
              "#d8576b"
             ],
             [
              0.6666666666666666,
              "#ed7953"
             ],
             [
              0.7777777777777778,
              "#fb9f3a"
             ],
             [
              0.8888888888888888,
              "#fdca26"
             ],
             [
              1,
              "#f0f921"
             ]
            ],
            "type": "contour"
           }
          ],
          "contourcarpet": [
           {
            "colorbar": {
             "outlinewidth": 0,
             "ticks": ""
            },
            "type": "contourcarpet"
           }
          ],
          "heatmap": [
           {
            "colorbar": {
             "outlinewidth": 0,
             "ticks": ""
            },
            "colorscale": [
             [
              0,
              "#0d0887"
             ],
             [
              0.1111111111111111,
              "#46039f"
             ],
             [
              0.2222222222222222,
              "#7201a8"
             ],
             [
              0.3333333333333333,
              "#9c179e"
             ],
             [
              0.4444444444444444,
              "#bd3786"
             ],
             [
              0.5555555555555556,
              "#d8576b"
             ],
             [
              0.6666666666666666,
              "#ed7953"
             ],
             [
              0.7777777777777778,
              "#fb9f3a"
             ],
             [
              0.8888888888888888,
              "#fdca26"
             ],
             [
              1,
              "#f0f921"
             ]
            ],
            "type": "heatmap"
           }
          ],
          "histogram": [
           {
            "marker": {
             "pattern": {
              "fillmode": "overlay",
              "size": 10,
              "solidity": 0.2
             }
            },
            "type": "histogram"
           }
          ],
          "histogram2d": [
           {
            "colorbar": {
             "outlinewidth": 0,
             "ticks": ""
            },
            "colorscale": [
             [
              0,
              "#0d0887"
             ],
             [
              0.1111111111111111,
              "#46039f"
             ],
             [
              0.2222222222222222,
              "#7201a8"
             ],
             [
              0.3333333333333333,
              "#9c179e"
             ],
             [
              0.4444444444444444,
              "#bd3786"
             ],
             [
              0.5555555555555556,
              "#d8576b"
             ],
             [
              0.6666666666666666,
              "#ed7953"
             ],
             [
              0.7777777777777778,
              "#fb9f3a"
             ],
             [
              0.8888888888888888,
              "#fdca26"
             ],
             [
              1,
              "#f0f921"
             ]
            ],
            "type": "histogram2d"
           }
          ],
          "histogram2dcontour": [
           {
            "colorbar": {
             "outlinewidth": 0,
             "ticks": ""
            },
            "colorscale": [
             [
              0,
              "#0d0887"
             ],
             [
              0.1111111111111111,
              "#46039f"
             ],
             [
              0.2222222222222222,
              "#7201a8"
             ],
             [
              0.3333333333333333,
              "#9c179e"
             ],
             [
              0.4444444444444444,
              "#bd3786"
             ],
             [
              0.5555555555555556,
              "#d8576b"
             ],
             [
              0.6666666666666666,
              "#ed7953"
             ],
             [
              0.7777777777777778,
              "#fb9f3a"
             ],
             [
              0.8888888888888888,
              "#fdca26"
             ],
             [
              1,
              "#f0f921"
             ]
            ],
            "type": "histogram2dcontour"
           }
          ],
          "mesh3d": [
           {
            "colorbar": {
             "outlinewidth": 0,
             "ticks": ""
            },
            "type": "mesh3d"
           }
          ],
          "parcoords": [
           {
            "line": {
             "colorbar": {
              "outlinewidth": 0,
              "ticks": ""
             }
            },
            "type": "parcoords"
           }
          ],
          "pie": [
           {
            "automargin": true,
            "type": "pie"
           }
          ],
          "scatter": [
           {
            "fillpattern": {
             "fillmode": "overlay",
             "size": 10,
             "solidity": 0.2
            },
            "type": "scatter"
           }
          ],
          "scatter3d": [
           {
            "line": {
             "colorbar": {
              "outlinewidth": 0,
              "ticks": ""
             }
            },
            "marker": {
             "colorbar": {
              "outlinewidth": 0,
              "ticks": ""
             }
            },
            "type": "scatter3d"
           }
          ],
          "scattercarpet": [
           {
            "marker": {
             "colorbar": {
              "outlinewidth": 0,
              "ticks": ""
             }
            },
            "type": "scattercarpet"
           }
          ],
          "scattergeo": [
           {
            "marker": {
             "colorbar": {
              "outlinewidth": 0,
              "ticks": ""
             }
            },
            "type": "scattergeo"
           }
          ],
          "scattergl": [
           {
            "marker": {
             "colorbar": {
              "outlinewidth": 0,
              "ticks": ""
             }
            },
            "type": "scattergl"
           }
          ],
          "scattermap": [
           {
            "marker": {
             "colorbar": {
              "outlinewidth": 0,
              "ticks": ""
             }
            },
            "type": "scattermap"
           }
          ],
          "scattermapbox": [
           {
            "marker": {
             "colorbar": {
              "outlinewidth": 0,
              "ticks": ""
             }
            },
            "type": "scattermapbox"
           }
          ],
          "scatterpolar": [
           {
            "marker": {
             "colorbar": {
              "outlinewidth": 0,
              "ticks": ""
             }
            },
            "type": "scatterpolar"
           }
          ],
          "scatterpolargl": [
           {
            "marker": {
             "colorbar": {
              "outlinewidth": 0,
              "ticks": ""
             }
            },
            "type": "scatterpolargl"
           }
          ],
          "scatterternary": [
           {
            "marker": {
             "colorbar": {
              "outlinewidth": 0,
              "ticks": ""
             }
            },
            "type": "scatterternary"
           }
          ],
          "surface": [
           {
            "colorbar": {
             "outlinewidth": 0,
             "ticks": ""
            },
            "colorscale": [
             [
              0,
              "#0d0887"
             ],
             [
              0.1111111111111111,
              "#46039f"
             ],
             [
              0.2222222222222222,
              "#7201a8"
             ],
             [
              0.3333333333333333,
              "#9c179e"
             ],
             [
              0.4444444444444444,
              "#bd3786"
             ],
             [
              0.5555555555555556,
              "#d8576b"
             ],
             [
              0.6666666666666666,
              "#ed7953"
             ],
             [
              0.7777777777777778,
              "#fb9f3a"
             ],
             [
              0.8888888888888888,
              "#fdca26"
             ],
             [
              1,
              "#f0f921"
             ]
            ],
            "type": "surface"
           }
          ],
          "table": [
           {
            "cells": {
             "fill": {
              "color": "#EBF0F8"
             },
             "line": {
              "color": "white"
             }
            },
            "header": {
             "fill": {
              "color": "#C8D4E3"
             },
             "line": {
              "color": "white"
             }
            },
            "type": "table"
           }
          ]
         },
         "layout": {
          "annotationdefaults": {
           "arrowcolor": "#2a3f5f",
           "arrowhead": 0,
           "arrowwidth": 1
          },
          "autotypenumbers": "strict",
          "coloraxis": {
           "colorbar": {
            "outlinewidth": 0,
            "ticks": ""
           }
          },
          "colorscale": {
           "diverging": [
            [
             0,
             "#8e0152"
            ],
            [
             0.1,
             "#c51b7d"
            ],
            [
             0.2,
             "#de77ae"
            ],
            [
             0.3,
             "#f1b6da"
            ],
            [
             0.4,
             "#fde0ef"
            ],
            [
             0.5,
             "#f7f7f7"
            ],
            [
             0.6,
             "#e6f5d0"
            ],
            [
             0.7,
             "#b8e186"
            ],
            [
             0.8,
             "#7fbc41"
            ],
            [
             0.9,
             "#4d9221"
            ],
            [
             1,
             "#276419"
            ]
           ],
           "sequential": [
            [
             0,
             "#0d0887"
            ],
            [
             0.1111111111111111,
             "#46039f"
            ],
            [
             0.2222222222222222,
             "#7201a8"
            ],
            [
             0.3333333333333333,
             "#9c179e"
            ],
            [
             0.4444444444444444,
             "#bd3786"
            ],
            [
             0.5555555555555556,
             "#d8576b"
            ],
            [
             0.6666666666666666,
             "#ed7953"
            ],
            [
             0.7777777777777778,
             "#fb9f3a"
            ],
            [
             0.8888888888888888,
             "#fdca26"
            ],
            [
             1,
             "#f0f921"
            ]
           ],
           "sequentialminus": [
            [
             0,
             "#0d0887"
            ],
            [
             0.1111111111111111,
             "#46039f"
            ],
            [
             0.2222222222222222,
             "#7201a8"
            ],
            [
             0.3333333333333333,
             "#9c179e"
            ],
            [
             0.4444444444444444,
             "#bd3786"
            ],
            [
             0.5555555555555556,
             "#d8576b"
            ],
            [
             0.6666666666666666,
             "#ed7953"
            ],
            [
             0.7777777777777778,
             "#fb9f3a"
            ],
            [
             0.8888888888888888,
             "#fdca26"
            ],
            [
             1,
             "#f0f921"
            ]
           ]
          },
          "colorway": [
           "#636efa",
           "#EF553B",
           "#00cc96",
           "#ab63fa",
           "#FFA15A",
           "#19d3f3",
           "#FF6692",
           "#B6E880",
           "#FF97FF",
           "#FECB52"
          ],
          "font": {
           "color": "#2a3f5f"
          },
          "geo": {
           "bgcolor": "white",
           "lakecolor": "white",
           "landcolor": "#E5ECF6",
           "showlakes": true,
           "showland": true,
           "subunitcolor": "white"
          },
          "hoverlabel": {
           "align": "left"
          },
          "hovermode": "closest",
          "mapbox": {
           "style": "light"
          },
          "paper_bgcolor": "white",
          "plot_bgcolor": "#E5ECF6",
          "polar": {
           "angularaxis": {
            "gridcolor": "white",
            "linecolor": "white",
            "ticks": ""
           },
           "bgcolor": "#E5ECF6",
           "radialaxis": {
            "gridcolor": "white",
            "linecolor": "white",
            "ticks": ""
           }
          },
          "scene": {
           "xaxis": {
            "backgroundcolor": "#E5ECF6",
            "gridcolor": "white",
            "gridwidth": 2,
            "linecolor": "white",
            "showbackground": true,
            "ticks": "",
            "zerolinecolor": "white"
           },
           "yaxis": {
            "backgroundcolor": "#E5ECF6",
            "gridcolor": "white",
            "gridwidth": 2,
            "linecolor": "white",
            "showbackground": true,
            "ticks": "",
            "zerolinecolor": "white"
           },
           "zaxis": {
            "backgroundcolor": "#E5ECF6",
            "gridcolor": "white",
            "gridwidth": 2,
            "linecolor": "white",
            "showbackground": true,
            "ticks": "",
            "zerolinecolor": "white"
           }
          },
          "shapedefaults": {
           "line": {
            "color": "#2a3f5f"
           }
          },
          "ternary": {
           "aaxis": {
            "gridcolor": "white",
            "linecolor": "white",
            "ticks": ""
           },
           "baxis": {
            "gridcolor": "white",
            "linecolor": "white",
            "ticks": ""
           },
           "bgcolor": "#E5ECF6",
           "caxis": {
            "gridcolor": "white",
            "linecolor": "white",
            "ticks": ""
           }
          },
          "title": {
           "x": 0.05
          },
          "xaxis": {
           "automargin": true,
           "gridcolor": "white",
           "linecolor": "white",
           "ticks": "",
           "title": {
            "standoff": 15
           },
           "zerolinecolor": "white",
           "zerolinewidth": 2
          },
          "yaxis": {
           "automargin": true,
           "gridcolor": "white",
           "linecolor": "white",
           "ticks": "",
           "title": {
            "standoff": 15
           },
           "zerolinecolor": "white",
           "zerolinewidth": 2
          }
         }
        },
        "title": {
         "font": {
          "size": 20
         },
         "text": "US Market Rental Rates Over Time: 2018-Q1",
         "x": 0.5,
         "y": 0.98,
         "yanchor": "top"
        },
        "updatemenus": [
         {
          "buttons": [
           {
            "args": [
             null,
             {
              "frame": {
               "duration": 800,
               "redraw": true
              },
              "fromcurrent": true,
              "transition": {
               "duration": 300,
               "easing": "quadratic-in-out"
              }
             }
            ],
            "label": "Play",
            "method": "animate"
           },
           {
            "args": [
             [
              null
             ],
             {
              "frame": {
               "duration": 0,
               "redraw": true
              },
              "mode": "immediate",
              "transition": {
               "duration": 0
              }
             }
            ],
            "label": "Pause",
            "method": "animate"
           }
          ],
          "pad": {
           "b": 10,
           "r": 10,
           "t": 10
          },
          "showactive": false,
          "type": "buttons",
          "x": 0.9,
          "xanchor": "right",
          "y": 0.9,
          "yanchor": "top"
         }
        ]
       }
      }
     },
     "metadata": {},
     "output_type": "display_data"
    },
    {
     "name": "stdout",
     "output_type": "stream",
     "text": [
      "Fullscreen visualization saved as 'us_market_rent_fullscreen.html'\n"
     ]
    }
   ],
   "source": [
    "import pandas as pd\n",
    "import numpy as np\n",
    "import plotly.express as px\n",
    "import plotly.graph_objects as go\n",
    "from plotly.subplots import make_subplots\n",
    "from geopy.geocoders import Nominatim\n",
    "import time\n",
    "import os\n",
    "\n",
    "# Add predefined coordinates to use if geocoding fails\n",
    "MARKET_COORDINATES = {\n",
    "    'Atlanta': [33.7490, -84.3880],\n",
    "    'Austin': [30.2672, -97.7431],\n",
    "    'Baltimore': [39.2908, -76.6108],\n",
    "    'Boston': [42.3601, -71.0589],\n",
    "    'Charlotte': [35.2271, -80.8431],\n",
    "    'Chicago': [41.8781, -87.6298],\n",
    "    'Chicago Suburbs': [42.0470, -87.6846],\n",
    "    'Dallas/Ft Worth': [32.7767, -96.7970],\n",
    "    'Denver': [39.7392, -104.9903],\n",
    "    'Detroit': [42.3315, -83.0466],\n",
    "    'Houston': [29.7604, -95.3698],\n",
    "    'Los Angeles': [34.0522, -118.2437],\n",
    "    'Manhattan': [40.7831, -73.9712],\n",
    "    'Nashville': [36.1627, -86.7816],\n",
    "    'Northern New Jersey': [40.7357, -74.1724],\n",
    "    'Northern Virginia': [38.8816, -77.0910],\n",
    "    'Orange County': [33.7175, -117.8311],\n",
    "    'Philadelphia': [39.9526, -75.1652],\n",
    "    'Phoenix': [33.4484, -112.0740],\n",
    "    'Raleigh/Durham': [35.7796, -78.6382],\n",
    "    'Salt Lake City': [40.7608, -111.8910],\n",
    "    'San Diego': [32.7157, -117.1611],\n",
    "    'San Francisco': [37.7749, -122.4194],\n",
    "    'Seattle': [47.6062, -122.3321],\n",
    "    'South Bay/San Jose': [37.3382, -121.8863],\n",
    "    'South Florida': [25.7617, -80.1918],\n",
    "    'Southern Maryland': [38.5076, -76.9820],\n",
    "    'Tampa': [27.9506, -82.4572],\n",
    "    'Washington D.C.': [38.9072, -77.0369]\n",
    "}\n",
    "\n",
    "# Function to get latitude and longitude with retry mechanism\n",
    "def get_coordinates(location_name):\n",
    "    # First check if we have predefined coordinates\n",
    "    if location_name in MARKET_COORDINATES:\n",
    "        return MARKET_COORDINATES[location_name]\n",
    "    \n",
    "    # Try geocoding as fallback\n",
    "    geolocator = Nominatim(user_agent=\"market_map\")\n",
    "    \n",
    "    # Fix some location names for better geocoding\n",
    "    location_map = {\n",
    "        'Raleigh/Durham': 'Raleigh, NC, USA',\n",
    "        'Dallas/Ft Worth': 'Dallas, TX, USA',\n",
    "        'Manhattan': 'Manhattan, NY, USA',\n",
    "        'Northern New Jersey': 'Newark, NJ, USA',\n",
    "        'Northern Virginia': 'Arlington, VA, USA',\n",
    "        'Orange County': 'Orange County, CA, USA',\n",
    "        'South Bay/San Jose': 'San Jose, CA, USA',\n",
    "        'South Florida': 'Miami, FL, USA',\n",
    "        'Southern Maryland': 'Annapolis, MD, USA',\n",
    "        'Chicago Suburbs': 'Evanston, IL, USA',\n",
    "        'Washington D.C.': 'Washington DC, USA'\n",
    "    }\n",
    "    \n",
    "    search_name = location_map.get(location_name, location_name + ', USA')\n",
    "    \n",
    "    for attempt in range(3):  # Try up to 3 times\n",
    "        try:\n",
    "            location = geolocator.geocode(search_name)\n",
    "            if location:\n",
    "                return location.latitude, location.longitude\n",
    "            time.sleep(1)  # Be nice to the geocoding service\n",
    "        except Exception as e:\n",
    "            print(f\"Error geocoding {location_name}: {e}\")\n",
    "            time.sleep(2)  # Wait a bit longer before retrying\n",
    "    \n",
    "    # Return default coordinates if geocoding fails\n",
    "    print(f\"Could not geocode {location_name}, using default coordinates\")\n",
    "    return None, None\n",
    "\n",
    "# Function to calculate marker size with greater differentiation\n",
    "def calculate_marker_size(rent_value, min_rent, max_rent):\n",
    "    \"\"\"\n",
    "    Calculate a marker size that emphasizes differences in rent values.\n",
    "    \n",
    "    Parameters:\n",
    "    -----------\n",
    "    rent_value : float\n",
    "        The rent value for this marker\n",
    "    min_rent : float\n",
    "        The minimum rent in the dataset\n",
    "    max_rent : float\n",
    "        The maximum rent in the dataset\n",
    "        \n",
    "    Returns:\n",
    "    --------\n",
    "    float : The calculated marker size\n",
    "    \"\"\"\n",
    "    if pd.isna(rent_value) or min_rent == max_rent:\n",
    "        return 15  # Default size\n",
    "    \n",
    "    # Normalize the value between 0 and 1\n",
    "    normalized = (rent_value - min_rent) / (max_rent - min_rent)\n",
    "    \n",
    "    # Apply a power function to emphasize differences (square for higher contrast)\n",
    "    # This makes high values much larger than low values\n",
    "    emphasized = normalized ** 1.5\n",
    "    \n",
    "    # Map to a more dramatic size range (8 to 40)\n",
    "    return 10 + emphasized * 40\n",
    "\n",
    "# Function to create custom HTML with fullscreen capability and fixed slider position\n",
    "def create_fullscreen_html(fig, filename=\"us_market_rent_fullscreen.html\"):\n",
    "    \"\"\"Create an HTML file with fullscreen capabilities\"\"\"\n",
    "    \n",
    "    # First get the regular HTML from plotly\n",
    "    raw_html = fig.to_html(\n",
    "        config={\n",
    "            'responsive': True,\n",
    "            'displayModeBar': True,\n",
    "            'scrollZoom': True\n",
    "        },\n",
    "        include_plotlyjs='cdn',\n",
    "        full_html=True,\n",
    "        include_mathjax=False\n",
    "    )\n",
    "    \n",
    "    # Insert custom CSS for fullscreen and fixed control positioning\n",
    "    custom_css = \"\"\"\n",
    "    <style>\n",
    "    body, html {\n",
    "        height: 100%;\n",
    "        margin: 0;\n",
    "        padding: 0;\n",
    "        overflow: hidden;\n",
    "    }\n",
    "    \n",
    "    .plotly-graph-div {\n",
    "        height: 100vh !important;\n",
    "        width: 100vw !important;\n",
    "    }\n",
    "    \n",
    "    .js-plotly-plot, .plot-container {\n",
    "        height: 100%;\n",
    "        width: 100%;\n",
    "    }\n",
    "    \n",
    "    /* Position controls for better layout */\n",
    "    .updatemenu-container {\n",
    "        top: 10px !important;\n",
    "    }\n",
    "    \n",
    "    /* Much lower slider position to avoid covering any part of the map */\n",
    "    .slider-container {\n",
    "        bottom: 100px !important;\n",
    "        padding-bottom: 50px !important;\n",
    "    }\n",
    "\n",
    "    /* Make slider more compact */\n",
    "    .slider-track {\n",
    "        height: 3px !important;\n",
    "    }\n",
    "\n",
    "    .slider-text {\n",
    "        font-size: 10px !important;\n",
    "    }\n",
    "    </style>\n",
    "    \n",
    "    <meta name=\"viewport\" content=\"width=device-width, initial-scale=1.0, maximum-scale=1.0, user-scalable=no\">\n",
    "    \"\"\"\n",
    "    \n",
    "    # Insert the custom CSS after the <head> tag\n",
    "    modified_html = raw_html.replace('</head>', f'{custom_css}</head>')\n",
    "    \n",
    "    # Write the modified HTML to a file\n",
    "    with open(filename, 'w', encoding='utf-8') as f:\n",
    "        f.write(modified_html)\n",
    "    \n",
    "    print(f\"Fullscreen visualization saved as '{filename}'\")\n",
    "    \n",
    "    # Try to open the file automatically in the default browser\n",
    "    try:\n",
    "        # Get absolute path for more reliable opening\n",
    "        abs_path = os.path.abspath(filename)\n",
    "        import webbrowser\n",
    "        webbrowser.open('file://' + abs_path, new=2)\n",
    "    except Exception as e:\n",
    "        print(f\"Could not auto-open the file: {e}\")\n",
    "    \n",
    "    return filename\n",
    "\n",
    "#def create_time_series_visualization(csv_file_path=r'/Users/kaylienguyen/Downloads/Lease-revised.csv', use_sample_data=False):\n",
    "def create_time_series_visualization(csv_file_path=r'C:/SMU/DataFest/growth_data.csv', use_sample_data=False):\n",
    "    \"\"\"\n",
    "    Create an enhanced visualization with a time slider\n",
    "    \n",
    "    Parameters:\n",
    "    -----------\n",
    "    csv_file_path : str or None\n",
    "        Path to the CSV file. If None, will use sample data\n",
    "    use_sample_data : bool\n",
    "        Whether to use sample data (True) or load actual data (False)\n",
    "        \n",
    "    Returns:\n",
    "    --------\n",
    "    None, displays the figure\n",
    "    \"\"\"\n",
    "    if use_sample_data:\n",
    "        # Create sample data that includes time dimension\n",
    "        # Sample time periods - 2018-Q1 through 2024-Q4\n",
    "        time_periods = []\n",
    "        for year in range(2018, 2025):\n",
    "            for quarter in range(1, 5):\n",
    "                time_periods.append((year, quarter))\n",
    "        \n",
    "        # Sample markets\n",
    "        markets = [\n",
    "            'Atlanta', 'Austin', 'Boston', 'Chicago', 'Dallas/Ft Worth', \n",
    "            'Denver', 'Houston', 'Los Angeles', 'Manhattan', 'Miami', \n",
    "            'Orange County', 'Philadelphia', 'Phoenix', 'Raleigh/Durham', \n",
    "            'San Francisco', 'Seattle', 'Washington D.C.'\n",
    "        ]\n",
    "        \n",
    "        # Generate data for each time period, market, and class\n",
    "        data = []\n",
    "        np.random.seed(42)  # For reproducibility\n",
    "        \n",
    "        # Define growth trends for different markets (annual percentage growth)\n",
    "        market_growth = {\n",
    "            'Atlanta': 5,\n",
    "            'Austin': 8,\n",
    "            'Boston': 4,\n",
    "            'Chicago': 3,\n",
    "            'Dallas/Ft Worth': 7,\n",
    "            'Denver': 6,\n",
    "            'Houston': 5,\n",
    "            'Los Angeles': 4,\n",
    "            'Manhattan': 3,\n",
    "            'Miami': 9,\n",
    "            'Orange County': 4,\n",
    "            'Philadelphia': 3,\n",
    "            'Phoenix': 7,\n",
    "            'Raleigh/Durham': 6,\n",
    "            'San Francisco': 2,\n",
    "            'Seattle': 5,\n",
    "            'Washington D.C.': 4\n",
    "        }\n",
    "        \n",
    "        # Base rents for 2018-Q1 (starting values)\n",
    "        base_rents = {\n",
    "            'Atlanta': {'A': 29.5, 'O': 21.2},\n",
    "            'Austin': {'A': 39.8, 'O': 26.5},\n",
    "            'Boston': {'A': 50.2, 'O': 26.9},\n",
    "            'Chicago': {'A': 39.5, 'O': 28.0},\n",
    "            'Dallas/Ft Worth': {'A': 30.2, 'O': 23.1},\n",
    "            'Denver': {'A': 34.7, 'O': 26.0},\n",
    "            'Houston': {'A': 30.4, 'O': 18.8},\n",
    "            'Los Angeles': {'A': 44.5, 'O': 36.6},\n",
    "            'Manhattan': {'A': 77.2, 'O': 56.7},\n",
    "            'Miami': {'A': 41.3, 'O': 28.5},\n",
    "            'Orange County': {'A': 39.1, 'O': 33.6},\n",
    "            'Philadelphia': {'A': 29.5, 'O': 24.5},\n",
    "            'Phoenix': {'A': 26.8, 'O': 22.2},\n",
    "            'Raleigh/Durham': {'A': 32.6, 'O': 26.5},\n",
    "            'San Francisco': {'A': 70.5, 'O': 52.2},\n",
    "            'Seattle': {'A': 44.8, 'O': 31.5},\n",
    "            'Washington D.C.': {'A': 53.2, 'O': 40.7}\n",
    "        }\n",
    "        \n",
    "        for time_idx, (year, quarter) in enumerate(time_periods):\n",
    "            period_label = f\"{year}-Q{quarter}\"\n",
    "            \n",
    "            for market in markets:\n",
    "                # Calculate quarters since start to simulate growth over time\n",
    "                quarters_passed = time_idx\n",
    "                \n",
    "                # Apply baseline growth\n",
    "                growth_factor = 1 + (market_growth[market] / 100 * quarters_passed / 4)\n",
    "                \n",
    "                # Add market-specific random variation\n",
    "                market_random_factor = 1 + (np.random.random() * 0.04 - 0.02)  # +/- 2% random variation\n",
    "                \n",
    "                # Calculate rent for each class with growth over time\n",
    "                for class_type in ['A', 'O']:\n",
    "                    base_rent = base_rents[market][class_type]\n",
    "                    current_rent = base_rent * growth_factor * market_random_factor\n",
    "                    \n",
    "                    # Get coordinates from the predefined dictionary\n",
    "                    lat, lon = MARKET_COORDINATES.get(market, [None, None])\n",
    "                    \n",
    "                    data.append({\n",
    "                        'year': year,\n",
    "                        'quarter': quarter,\n",
    "                        'time_period': period_label,\n",
    "                        'market': market,\n",
    "                        'internal_class': class_type,\n",
    "                        'internal_class_rent': round(current_rent, 2),\n",
    "                        'latitude': lat,\n",
    "                        'longitude': lon\n",
    "                    })\n",
    "        \n",
    "        df = pd.DataFrame(data)\n",
    "        \n",
    "    else:\n",
    "        # Load actual data\n",
    "        print(f\"Loading data from {csv_file_path}...\")\n",
    "        try:\n",
    "            leasing = pd.read_csv(csv_file_path)\n",
    "            print(f\"Successfully loaded {len(leasing)} rows of data.\")\n",
    "        except Exception as e:\n",
    "            print(f\"Error loading data: {e}\")\n",
    "            print(\"Using sample data instead.\")\n",
    "            return create_time_series_visualization(use_sample_data=True)\n",
    "        \n",
    "        # Filter out rows with missing internal_class_rent\n",
    "        df = leasing.dropna(subset=['internal_class_rent'])\n",
    "        \n",
    "        # Keep only necessary columns and filter for classes A and O\n",
    "        # Let's make sure we can handle different class naming in the data\n",
    "        print(f\"Unique internal classes: {leasing['internal_class'].unique()}\")\n",
    "        \n",
    "        # Keep only specific classes - filter for A and O classes\n",
    "        # If your data uses different class labels, modify this filter\n",
    "        df = df[df['internal_class'].isin(['A', 'O'])]\n",
    "        \n",
    "        # Keep only necessary columns\n",
    "        df = df[['year', 'quarter', 'market', 'internal_class', 'internal_class_rent', 'legal_growth_index', 'tech_growth_index', 'finance_growth_index']]\n",
    "        \n",
    "        # Create a time_period column (e.g., '2023-Q1')\n",
    "        df['time_period'] = df['year'].astype(str) + '-Q' + df['quarter'].astype(str)\n",
    "        \n",
    "        # Get coordinates for each market (use predefined values if available)\n",
    "        print(\"Getting coordinates for markets...\")\n",
    "        market_coords = {}\n",
    "        markets = df['market'].unique()\n",
    "        print(f\"Markets in data: {sorted(markets)}\")\n",
    "        \n",
    "        for market in markets:\n",
    "            # Use predefined coordinates if available\n",
    "            if market in MARKET_COORDINATES:\n",
    "                market_coords[market] = MARKET_COORDINATES[market]\n",
    "                continue\n",
    "                \n",
    "            # Only geocode markets we don't have predefined coordinates for\n",
    "            if market not in market_coords:\n",
    "                lat, lon = get_coordinates(market)\n",
    "                market_coords[market] = (lat, lon)\n",
    "                time.sleep(1)  # Respect rate limits\n",
    "        \n",
    "        # Add latitude and longitude\n",
    "        df['latitude'] = df['market'].map(lambda x: market_coords.get(x, (None, None))[0])\n",
    "        df['longitude'] = df['market'].map(lambda x: market_coords.get(x, (None, None))[1])\n",
    "        \n",
    "        # Drop rows with missing coordinates\n",
    "        orig_len = len(df)\n",
    "        df = df.dropna(subset=['latitude', 'longitude'])\n",
    "        dropped = orig_len - len(df)\n",
    "        if dropped > 0:\n",
    "            print(f\"Dropped {dropped} rows with missing coordinates.\")\n",
    "    \n",
    "    # Get average rent by market, class, and time period\n",
    "    df_avg = df.groupby(['time_period', 'year', 'quarter', 'market', 'internal_class']).agg({\n",
    "        'internal_class_rent': 'mean',\n",
    "        'legal_growth_index': 'first',\n",
    "        'tech_growth_index': 'first',\n",
    "        'finance_growth_index': 'first',\n",
    "        'latitude': 'first',\n",
    "        'longitude': 'first'\n",
    "    }).reset_index()\n",
    "    \n",
    "    # Sort by time period\n",
    "    df_avg = df_avg.sort_values(['year', 'quarter', 'market', 'internal_class'])\n",
    "    print(\"DF AG: \", df_avg.columns)\n",
    "\n",
    "    #############################################################################################################################################################\n",
    "    \n",
    "    # Create a pivot table for each time period\n",
    "    time_periods = df_avg['time_period'].unique()\n",
    "    time_periods.sort()  # Sort time periods chronologically\n",
    "    \n",
    "    print(f\"Time periods found: {time_periods}\")\n",
    "    \n",
    "    # Find global min and max for consistent circle sizing\n",
    "    a_class_rents = df_avg[df_avg['internal_class'] == 'A']['internal_class_rent']\n",
    "    global_min_rent = a_class_rents.min() if len(a_class_rents) > 0 else 0\n",
    "    global_max_rent = a_class_rents.max() if len(a_class_rents) > 0 else 100\n",
    "    \n",
    "    # Store frames for animation\n",
    "    frames = []\n",
    "    \n",
    "    for period in time_periods:\n",
    "        # Filter data for this time period\n",
    "        # Filter data for this time period\n",
    "        period_data = df_avg[df_avg['time_period'] == period]\n",
    "\n",
    "        # Skip if no data for this period\n",
    "        if len(period_data) == 0:\n",
    "            continue\n",
    "            \n",
    "        # Create pivot table for this period\n",
    "        try:\n",
    "            pivot_df = period_data.pivot_table(\n",
    "                index='market',\n",
    "                columns='internal_class',\n",
    "                values='internal_class_rent',\n",
    "                aggfunc='mean'\n",
    "            ).reset_index()\n",
    "            \n",
    "            # Add coordinates\n",
    "            pivot_df = pd.merge(\n",
    "                pivot_df,\n",
    "                period_data[['market', 'latitude', 'longitude']].drop_duplicates(),\n",
    "                on='market'\n",
    "            )\n",
    "            \n",
    "            # Add growth index columns\n",
    "            growth_index_columns = ['legal_growth_index', 'tech_growth_index', 'finance_growth_index']\n",
    "            columns_to_merge = [col for col in growth_index_columns if col in period_data.columns]\n",
    "            \n",
    "            if columns_to_merge:\n",
    "                pivot_df = pd.merge(\n",
    "                    pivot_df,\n",
    "                    period_data[['market'] + columns_to_merge].drop_duplicates(),\n",
    "                    on='market',\n",
    "                    how='left'\n",
    "                )\n",
    "            \n",
    "            # Ensure both A and O columns exist\n",
    "            if 'A' not in pivot_df.columns:\n",
    "                pivot_df['A'] = np.nan\n",
    "            if 'O' not in pivot_df.columns:\n",
    "                pivot_df['O'] = np.nan\n",
    "                \n",
    "            # Add marker size to dataframe\n",
    "            pivot_df['marker_size'] = pivot_df['A'].apply(\n",
    "                lambda x: calculate_marker_size(x, global_min_rent, global_max_rent)\n",
    "            )\n",
    "                \n",
    "            # Enhanced hover text with marker size info\n",
    "            pivot_df['hover_text'] = pivot_df.apply(\n",
    "                lambda row: f\"<b>{row['market']}</b><br>\" +\n",
    "                            f\"Time Period: {period}<br>\" +\n",
    "                            f\"Class A Rent: ${row['A']:.2f}<br>\" +\n",
    "                            f\"Class O Rent: ${row['O']:.2f}\" +\n",
    "                            (f\"<br>A/O Ratio: {(row['A']/row['O']):.2f}\" if not pd.isna(row['A']) and not pd.isna(row['O']) and row['O'] > 0 else \"\") +\n",
    "                            (f\"<br>Legal Growth Index: {row['legal_growth_index'] * 100:.0f}\" if 'legal_growth_index' in row and not pd.isna(row['legal_growth_index']) else \"\") +\n",
    "                            (f\"<br>Tech Growth Index: {row['tech_growth_index'] * 100:.0f}\" if 'tech_growth_index' in row and not pd.isna(row['tech_growth_index']) else \"\") +\n",
    "                            (f\"<br>Finance Growth Index: {row['finance_growth_index'] * 100:.0f}\" if 'finance_growth_index' in row and not pd.isna(row['finance_growth_index']) else \"\"),\n",
    "                axis=1\n",
    "            )\n",
    "\n",
    "            \n",
    "            # Store this frame\n",
    "            frames.append(go.Frame(\n",
    "                data=[go.Scattergeo(\n",
    "                    lat=pivot_df['latitude'],\n",
    "                    lon=pivot_df['longitude'],\n",
    "                    text=pivot_df['hover_text'],\n",
    "                    hoverinfo='text',\n",
    "                    mode='markers',\n",
    "                    marker=dict(\n",
    "                        size=pivot_df['marker_size'],\n",
    "                        color=pivot_df['A'],\n",
    "                        colorscale='Viridis',\n",
    "                        cmin=global_min_rent,\n",
    "                        cmax=global_max_rent,\n",
    "                        colorbar=dict(\n",
    "                            title='Class A Rent ($)',\n",
    "                            thickness=15,\n",
    "                            len=0.6,\n",
    "                            y=0.5,\n",
    "                            yanchor='middle'\n",
    "                        ),\n",
    "                        line=dict(width=1, color='DarkSlateGrey')\n",
    "                    ),\n",
    "                    name=period\n",
    "                )],\n",
    "                name=period,\n",
    "                layout=go.Layout(\n",
    "                    title=f\"US Market Rental Rates Over Time: {period}\"  # Title specific to this frame\n",
    "                )\n",
    "            ))\n",
    "        except Exception as e:\n",
    "            print(f\"Error processing period {period}: {e}\")\n",
    "            continue\n",
    "    \n",
    "    # Check if we have any frames\n",
    "    if len(frames) == 0:\n",
    "        print(\"No frames could be created. Check your data and try again.\")\n",
    "        return None\n",
    "        \n",
    "    # Create base figure with first time period\n",
    "    first_period = frames[0].name\n",
    "    first_data = df_avg[df_avg['time_period'] == first_period]\n",
    "\n",
    "    print(\"FIRST DATA : \", first_data.columns)\n",
    "    \n",
    "    # Create pivot table for first period\n",
    "    first_pivot = first_data.pivot_table(\n",
    "        index='market',\n",
    "        columns='internal_class',\n",
    "        values='internal_class_rent',\n",
    "        aggfunc='mean'\n",
    "    ).reset_index()\n",
    "    \n",
    "    # Add coordinates\n",
    "    first_pivot = pd.merge(\n",
    "        first_pivot,\n",
    "        first_data[['market', 'latitude', 'longitude', ]].drop_duplicates(),\n",
    "        on='market'\n",
    "    )\n",
    "    \n",
    "    growth_index_columns = ['legal_growth_index', 'tech_growth_index', 'finance_growth_index']\n",
    "    columns_to_merge = [col for col in growth_index_columns if col in first_data.columns]\n",
    "\n",
    "    if columns_to_merge:\n",
    "        first_pivot = pd.merge(\n",
    "            first_pivot,\n",
    "            first_data[['market'] + columns_to_merge].drop_duplicates(),\n",
    "            on='market',\n",
    "            how='left'  # Ensure all rows from first_pivot are kept, even if no corresponding data\n",
    "    )\n",
    "\n",
    "    # Ensure both A and O columns exist\n",
    "    if 'A' not in first_pivot.columns:\n",
    "        first_pivot['A'] = np.nan\n",
    "    if 'O' not in first_pivot.columns:\n",
    "        first_pivot['O'] = np.nan\n",
    "    \n",
    "    # Add marker size to dataframe\n",
    "    first_pivot['marker_size'] = first_pivot['A'].apply(\n",
    "        lambda x: calculate_marker_size(x, global_min_rent, global_max_rent)\n",
    "    )\n",
    "    \n",
    "    # Create custom hover text\n",
    "    first_pivot['hover_text'] = first_pivot.apply(\n",
    "        lambda row: f\"<b>{row['market']}</b><br>\" +\n",
    "                    f\"Time Period: {period}<br>\" +\n",
    "                    f\"Class A Rent: ${row['A']:.2f}<br>\" +\n",
    "                    f\"Class O Rent: ${row['O']:.2f}\" +\n",
    "                    (f\"<br>A/O Ratio: {(row['A']/row['O']):.2f}\" if not pd.isna(row['A']) and not pd.isna(row['O']) and row['O'] > 0 else \"\") +\n",
    "                    (f\"<br>Legal Growth Index: {row['legal_growth_index']:.2f}\" if 'legal_growth_index' in row and not pd.isna(row['legal_growth_index']) else \"<br>Legal Growth Index: N/A\") +\n",
    "                    (f\"<br>Tech Growth Index: {row['tech_growth_index']:.2f}\" if 'tech_growth_index' in row and not pd.isna(row['tech_growth_index']) else \"<br>Tech Growth Index: N/A\") +\n",
    "                    (f\"<br>Finance Growth Index: {row['finance_growth_index']:.2f}\" if 'finance_growth_index' in row and not pd.isna(row['finance_growth_index']) else \"<br>Finance Growth Index: N/A\"),\n",
    "        axis=1\n",
    "    )\n",
    "    # print(\"FIRST ADAT:\", first_data.columns)\n",
    "\n",
    "    # print(first_data[['market', 'legal_growth_index', 'tech_growth_index', 'finance_growth_index']].head())\n",
    "\n",
    "\n",
    "\n",
    "\n",
    "\n",
    "    # Create figure with responsive layout\n",
    "    fig = go.Figure(\n",
    "        data=[go.Scattergeo(\n",
    "            lat=first_pivot['latitude'],\n",
    "            lon=first_pivot['longitude'],\n",
    "            text=first_pivot['hover_text'],\n",
    "            hoverinfo='text',\n",
    "            mode='markers',\n",
    "            marker=dict(\n",
    "                size=first_pivot['marker_size'],\n",
    "                color=first_pivot['A'],\n",
    "                colorscale='Viridis',\n",
    "                cmin=global_min_rent,\n",
    "                cmax=global_max_rent,\n",
    "                colorbar=dict(\n",
    "                    title='Class A Rent ($)',\n",
    "                    thickness=15,\n",
    "                    len=0.6,\n",
    "                    y=0.5,\n",
    "                    yanchor='middle'\n",
    "                ),\n",
    "                line=dict(width=1, color='DarkSlateGrey')\n",
    "            ),\n",
    "            name=first_period\n",
    "        )],\n",
    "        frames=frames,\n",
    "        layout=go.Layout(\n",
    "            title=dict(\n",
    "                text=f\"US Market Rental Rates Over Time: {first_period}\",\n",
    "                x=0.5,\n",
    "                y=0.98,\n",
    "                yanchor='top',\n",
    "                font=dict(size=20)\n",
    "            ),\n",
    "            updatemenus=[dict(\n",
    "                type='buttons',\n",
    "                showactive=False,\n",
    "                y=0.90,  # Move buttons to top right\n",
    "                x=0.9,\n",
    "                xanchor='right',\n",
    "                yanchor='top',\n",
    "                pad=dict(r=10, t=10, b=10),\n",
    "                buttons=[dict(\n",
    "                    label='Play',\n",
    "                    method='animate',\n",
    "                    args=[None, dict(\n",
    "                        frame=dict(duration=800, redraw=True),\n",
    "                        fromcurrent=True,\n",
    "                        transition=dict(duration=300, easing='quadratic-in-out')\n",
    "                    )]\n",
    "                ), dict(\n",
    "                    label='Pause',\n",
    "                    method='animate',\n",
    "                    args=[[None], dict(\n",
    "                        frame=dict(duration=0, redraw=True),\n",
    "                        mode='immediate',\n",
    "                        transition=dict(duration=0)\n",
    "                    )]\n",
    "                )]\n",
    "            )],\n",
    "            sliders=[dict(\n",
    "                active=0,\n",
    "                steps=[dict(\n",
    "                    method='animate',\n",
    "                    args=[[frame.name], dict(\n",
    "                        mode='immediate',\n",
    "                        frame=dict(duration=300, redraw=True),\n",
    "                        transition=dict(duration=300),\n",
    "                        layout=dict(title=f\"US Market Rental Rates Over Time: {frame.name}\")  # Update title when slider moves\n",
    "                    )],\n",
    "                    label=frame.name\n",
    "                ) for frame in frames],\n",
    "                transition=dict(duration=300, easing='cubic-in-out'),\n",
    "                pad=dict(b=50, t=10),  # Much more bottom padding\n",
    "                currentvalue=dict(\n",
    "                    font=dict(size=14),\n",
    "                    prefix='Time Period: ',\n",
    "                    visible=True,\n",
    "                    xanchor='right'\n",
    "                ),\n",
    "                len=0.9,\n",
    "                x=0.1,\n",
    "                y=-0.2,  # Position slider well below the map (-0.2 is way outside the plot area)\n",
    "                yanchor='bottom',\n",
    "                tickcolor='white'\n",
    "            )],\n",
    "            geo=dict(\n",
    "                scope='usa',\n",
    "                projection_type='albers usa',\n",
    "                showland=True,\n",
    "                landcolor='rgb(217, 217, 217)',\n",
    "                coastlinecolor='white',\n",
    "                countrycolor='white',\n",
    "                showlakes=True,\n",
    "                lakecolor='rgb(255, 255, 255)',\n",
    "                subunitcolor='white',\n",
    "                center=dict(lat=39.5, lon=-98.35),  # Center the map slightly higher\n",
    "                projection=dict(\n",
    "                    scale=0.80  # Significantly reduced scale to leave more room\n",
    "                )\n",
    "            ),\n",
    "            # Extreme bottom margin to accommodate the slider\n",
    "            autosize=True,\n",
    "            dragmode='pan',\n",
    "            margin=dict(r=0, t=50, l=0, b=200, pad=0),  # Much larger bottom margin (200px)\n",
    "        )\n",
    "    )\n",
    "    \n",
    "    # Add annotations explaining the visualization\n",
    "    fig.add_annotation(\n",
    "        text=\"<b>Visualization Features:</b><br>\" +\n",
    "             \"• Marker size shows Class A rent (larger = higher rent)<br>\" +\n",
    "             \"• Color intensity also indicates rent level<br>\" + \n",
    "             \"• Hover over markers for detailed information\",\n",
    "        xref=\"paper\", yref=\"paper\",\n",
    "        x=0.01, y=0.90,\n",
    "        showarrow=False,\n",
    "        bordercolor=\"black\",\n",
    "        borderwidth=1,\n",
    "        borderpad=4,\n",
    "        bgcolor=\"white\",\n",
    "        opacity=0.8\n",
    "    )\n",
    "    \n",
    "    # Show figure\n",
    "    fig.show()\n",
    "    \n",
    "    # Create custom fullscreen HTML\n",
    "    create_fullscreen_html(fig)\n",
    "    \n",
    "    return fig\n",
    "\n",
    "# Execute the function\n",
    "if __name__ == \"__main__\":\n",
    "    # Use actual data by default with the path provided\n",
    "    try:\n",
    "        fig = create_time_series_visualization(use_sample_data=False)\n",
    "        if fig is None:\n",
    "            print(\"Trying with sample data instead...\")\n",
    "            fig = create_time_series_visualization(use_sample_data=True)\n",
    "    except Exception as e:\n",
    "        print(f\"Error: {e}\")\n",
    "        print(\"Trying with sample data instead...\")\n",
    "        fig = create_time_series_visualization(use_sample_data=True)"
   ]
  },
  {
   "cell_type": "code",
   "execution_count": 50,
   "metadata": {},
   "outputs": [
    {
     "name": "stdout",
     "output_type": "stream",
     "text": [
      "Loading data from C:/SMU/DataFest/growth_data.csv...\n",
      "Successfully loaded 1064 rows of data.\n",
      "Columns in loaded data: ['market', 'quarter', 'year', 'legal_growth_index', 'internal_class', 'internal_class_rent', 'tech_growth_index', 'finance_growth_index']\n",
      "legal_growth_index found in data. Sample values: 0      0.357747\n",
      "1    404.000000\n",
      "2      0.420012\n",
      "3      0.165062\n",
      "4      0.357747\n",
      "Name: legal_growth_index, dtype: float64\n",
      "tech_growth_index found in data. Sample values: 0      0.962922\n",
      "1      0.785548\n",
      "2      1.112619\n",
      "3    404.000000\n",
      "4      0.989656\n",
      "Name: tech_growth_index, dtype: float64\n",
      "finance_growth_index found in data. Sample values: 0      0.598188\n",
      "1      0.497500\n",
      "2      0.497500\n",
      "3    404.000000\n",
      "4      0.564139\n",
      "Name: finance_growth_index, dtype: float64\n",
      "Unique internal classes: ['A' 'O']\n",
      "Getting coordinates for markets...\n",
      "Markets in data: ['Atlanta', 'Austin', 'Baltimore', 'Boston', 'Charlotte', 'Chicago Suburbs', 'Detroit', 'Houston', 'Los Angeles', 'Manhattan', 'Nashville', 'Northern New Jersey', 'Northern Virginia', 'Philadelphia', 'Phoenix', 'Salt Lake City', 'San Diego', 'San Francisco', 'Seattle', 'South Florida', 'Tampa']\n",
      "DF_AVG Columns: ['time_period', 'year', 'quarter', 'market', 'internal_class', 'internal_class_rent', 'latitude', 'longitude', 'legal_growth_index', 'tech_growth_index', 'finance_growth_index']\n",
      "legal_growth_index is in df_avg with sample values: 0      0.357747\n",
      "1    404.000000\n",
      "2    404.000000\n",
      "3      0.321337\n",
      "4    404.000000\n",
      "Name: legal_growth_index, dtype: float64\n",
      "tech_growth_index is in df_avg with sample values: 0      0.962922\n",
      "1      0.785548\n",
      "2      0.313832\n",
      "3    404.000000\n",
      "4      0.293823\n",
      "Name: tech_growth_index, dtype: float64\n",
      "finance_growth_index is in df_avg with sample values: 0      0.598188\n",
      "1      0.497500\n",
      "2      1.867646\n",
      "3    404.000000\n",
      "4    404.000000\n",
      "Name: finance_growth_index, dtype: float64\n",
      "Time periods found: ['2018-Q1' '2018-Q2' '2018-Q3' '2018-Q4' '2019-Q1' '2019-Q2' '2019-Q3'\n",
      " '2019-Q4' '2020-Q1' '2020-Q2' '2020-Q3' '2020-Q4' '2021-Q1' '2021-Q2'\n",
      " '2021-Q3' '2021-Q4' '2022-Q1' '2022-Q2' '2022-Q3' '2022-Q4' '2023-Q1'\n",
      " '2023-Q2' '2023-Q3' '2023-Q4' '2024-Q1' '2024-Q2' '2024-Q3' '2024-Q4']\n",
      "Error processing period 2018-Q1: free variable 'create_hover_text' referenced before assignment in enclosing scope\n",
      "Error processing period 2018-Q2: free variable 'create_hover_text' referenced before assignment in enclosing scope\n",
      "Error processing period 2018-Q3: free variable 'create_hover_text' referenced before assignment in enclosing scope\n",
      "Error processing period 2018-Q4: free variable 'create_hover_text' referenced before assignment in enclosing scope\n",
      "Error processing period 2019-Q1: free variable 'create_hover_text' referenced before assignment in enclosing scope\n",
      "Error processing period 2019-Q2: free variable 'create_hover_text' referenced before assignment in enclosing scope\n",
      "Error processing period 2019-Q3: free variable 'create_hover_text' referenced before assignment in enclosing scope\n",
      "Error processing period 2019-Q4: free variable 'create_hover_text' referenced before assignment in enclosing scope\n",
      "Error processing period 2020-Q1: free variable 'create_hover_text' referenced before assignment in enclosing scope\n",
      "Error processing period 2020-Q2: free variable 'create_hover_text' referenced before assignment in enclosing scope\n",
      "Error processing period 2020-Q3: free variable 'create_hover_text' referenced before assignment in enclosing scope\n",
      "Error processing period 2020-Q4: free variable 'create_hover_text' referenced before assignment in enclosing scope\n",
      "Error processing period 2021-Q1: free variable 'create_hover_text' referenced before assignment in enclosing scope\n",
      "Error processing period 2021-Q2: free variable 'create_hover_text' referenced before assignment in enclosing scope\n",
      "Error processing period 2021-Q3: free variable 'create_hover_text' referenced before assignment in enclosing scope\n",
      "Error processing period 2021-Q4: free variable 'create_hover_text' referenced before assignment in enclosing scope\n",
      "Error processing period 2022-Q1: free variable 'create_hover_text' referenced before assignment in enclosing scope\n",
      "Error processing period 2022-Q2: free variable 'create_hover_text' referenced before assignment in enclosing scope\n",
      "Error processing period 2022-Q3: free variable 'create_hover_text' referenced before assignment in enclosing scope\n",
      "Error processing period 2022-Q4: free variable 'create_hover_text' referenced before assignment in enclosing scope\n",
      "Error processing period 2023-Q1: free variable 'create_hover_text' referenced before assignment in enclosing scope\n",
      "Error processing period 2023-Q2: free variable 'create_hover_text' referenced before assignment in enclosing scope\n",
      "Error processing period 2023-Q3: free variable 'create_hover_text' referenced before assignment in enclosing scope\n",
      "Error processing period 2023-Q4: free variable 'create_hover_text' referenced before assignment in enclosing scope\n",
      "Error processing period 2024-Q1: free variable 'create_hover_text' referenced before assignment in enclosing scope\n",
      "Error processing period 2024-Q2: free variable 'create_hover_text' referenced before assignment in enclosing scope\n",
      "Error processing period 2024-Q3: free variable 'create_hover_text' referenced before assignment in enclosing scope\n",
      "Error processing period 2024-Q4: free variable 'create_hover_text' referenced before assignment in enclosing scope\n",
      "No frames could be created. Check your data and try again.\n",
      "Trying with sample data instead...\n",
      "DF_AVG Columns: ['time_period', 'year', 'quarter', 'market', 'internal_class', 'internal_class_rent', 'latitude', 'longitude', 'legal_growth_index', 'tech_growth_index', 'finance_growth_index']\n",
      "legal_growth_index is in df_avg with sample values: 0    2.61\n",
      "1    2.41\n",
      "2    3.23\n",
      "3    3.35\n",
      "4    3.97\n",
      "Name: legal_growth_index, dtype: float64\n",
      "tech_growth_index is in df_avg with sample values: 0    3.17\n",
      "1    2.99\n",
      "2    4.59\n",
      "3    4.65\n",
      "4    4.12\n",
      "Name: tech_growth_index, dtype: float64\n",
      "finance_growth_index is in df_avg with sample values: 0    3.33\n",
      "1    3.15\n",
      "2    3.43\n",
      "3    3.50\n",
      "4    4.41\n",
      "Name: finance_growth_index, dtype: float64\n",
      "Time periods found: ['2018-Q1' '2018-Q2' '2018-Q3' '2018-Q4' '2019-Q1' '2019-Q2' '2019-Q3'\n",
      " '2019-Q4' '2020-Q1' '2020-Q2' '2020-Q3' '2020-Q4' '2021-Q1' '2021-Q2'\n",
      " '2021-Q3' '2021-Q4' '2022-Q1' '2022-Q2' '2022-Q3' '2022-Q4' '2023-Q1'\n",
      " '2023-Q2' '2023-Q3' '2023-Q4' '2024-Q1' '2024-Q2' '2024-Q3' '2024-Q4']\n",
      "Error processing period 2018-Q1: free variable 'create_hover_text' referenced before assignment in enclosing scope\n",
      "Error processing period 2018-Q2: free variable 'create_hover_text' referenced before assignment in enclosing scope\n",
      "Error processing period 2018-Q3: free variable 'create_hover_text' referenced before assignment in enclosing scope\n",
      "Error processing period 2018-Q4: free variable 'create_hover_text' referenced before assignment in enclosing scope\n",
      "Error processing period 2019-Q1: free variable 'create_hover_text' referenced before assignment in enclosing scope\n",
      "Error processing period 2019-Q2: free variable 'create_hover_text' referenced before assignment in enclosing scope\n",
      "Error processing period 2019-Q3: free variable 'create_hover_text' referenced before assignment in enclosing scope\n",
      "Error processing period 2019-Q4: free variable 'create_hover_text' referenced before assignment in enclosing scope\n",
      "Error processing period 2020-Q1: free variable 'create_hover_text' referenced before assignment in enclosing scope\n",
      "Error processing period 2020-Q2: free variable 'create_hover_text' referenced before assignment in enclosing scope\n",
      "Error processing period 2020-Q3: free variable 'create_hover_text' referenced before assignment in enclosing scope\n",
      "Error processing period 2020-Q4: free variable 'create_hover_text' referenced before assignment in enclosing scope\n",
      "Error processing period 2021-Q1: free variable 'create_hover_text' referenced before assignment in enclosing scope\n",
      "Error processing period 2021-Q2: free variable 'create_hover_text' referenced before assignment in enclosing scope\n",
      "Error processing period 2021-Q3: free variable 'create_hover_text' referenced before assignment in enclosing scope\n",
      "Error processing period 2021-Q4: free variable 'create_hover_text' referenced before assignment in enclosing scope\n",
      "Error processing period 2022-Q1: free variable 'create_hover_text' referenced before assignment in enclosing scope\n",
      "Error processing period 2022-Q2: free variable 'create_hover_text' referenced before assignment in enclosing scope\n",
      "Error processing period 2022-Q3: free variable 'create_hover_text' referenced before assignment in enclosing scope\n",
      "Error processing period 2022-Q4: free variable 'create_hover_text' referenced before assignment in enclosing scope\n",
      "Error processing period 2023-Q1: free variable 'create_hover_text' referenced before assignment in enclosing scope\n",
      "Error processing period 2023-Q2: free variable 'create_hover_text' referenced before assignment in enclosing scope\n",
      "Error processing period 2023-Q3: free variable 'create_hover_text' referenced before assignment in enclosing scope\n",
      "Error processing period 2023-Q4: free variable 'create_hover_text' referenced before assignment in enclosing scope\n",
      "Error processing period 2024-Q1: free variable 'create_hover_text' referenced before assignment in enclosing scope\n",
      "Error processing period 2024-Q2: free variable 'create_hover_text' referenced before assignment in enclosing scope\n",
      "Error processing period 2024-Q3: free variable 'create_hover_text' referenced before assignment in enclosing scope\n",
      "Error processing period 2024-Q4: free variable 'create_hover_text' referenced before assignment in enclosing scope\n",
      "No frames could be created. Check your data and try again.\n"
     ]
    }
   ],
   "source": [
    "import pandas as pd\n",
    "import numpy as np\n",
    "import plotly.express as px\n",
    "import plotly.graph_objects as go\n",
    "from plotly.subplots import make_subplots\n",
    "from geopy.geocoders import Nominatim\n",
    "import time\n",
    "import os\n",
    "\n",
    "# Add predefined coordinates to use if geocoding fails\n",
    "MARKET_COORDINATES = {\n",
    "    'Atlanta': [33.7490, -84.3880],\n",
    "    'Austin': [30.2672, -97.7431],\n",
    "    'Baltimore': [39.2908, -76.6108],\n",
    "    'Boston': [42.3601, -71.0589],\n",
    "    'Charlotte': [35.2271, -80.8431],\n",
    "    'Chicago': [41.8781, -87.6298],\n",
    "    'Chicago Suburbs': [42.0470, -87.6846],\n",
    "    'Dallas/Ft Worth': [32.7767, -96.7970],\n",
    "    'Denver': [39.7392, -104.9903],\n",
    "    'Detroit': [42.3315, -83.0466],\n",
    "    'Houston': [29.7604, -95.3698],\n",
    "    'Los Angeles': [34.0522, -118.2437],\n",
    "    'Manhattan': [40.7831, -73.9712],\n",
    "    'Nashville': [36.1627, -86.7816],\n",
    "    'Northern New Jersey': [40.7357, -74.1724],\n",
    "    'Northern Virginia': [38.8816, -77.0910],\n",
    "    'Orange County': [33.7175, -117.8311],\n",
    "    'Philadelphia': [39.9526, -75.1652],\n",
    "    'Phoenix': [33.4484, -112.0740],\n",
    "    'Raleigh/Durham': [35.7796, -78.6382],\n",
    "    'Salt Lake City': [40.7608, -111.8910],\n",
    "    'San Diego': [32.7157, -117.1611],\n",
    "    'San Francisco': [37.7749, -122.4194],\n",
    "    'Seattle': [47.6062, -122.3321],\n",
    "    'South Bay/San Jose': [37.3382, -121.8863],\n",
    "    'South Florida': [25.7617, -80.1918],\n",
    "    'Southern Maryland': [38.5076, -76.9820],\n",
    "    'Tampa': [27.9506, -82.4572],\n",
    "    'Washington D.C.': [38.9072, -77.0369]\n",
    "}\n",
    "\n",
    "# Function to get latitude and longitude with retry mechanism\n",
    "def get_coordinates(location_name):\n",
    "    # First check if we have predefined coordinates\n",
    "    if location_name in MARKET_COORDINATES:\n",
    "        return MARKET_COORDINATES[location_name]\n",
    "    \n",
    "    # Try geocoding as fallback\n",
    "    geolocator = Nominatim(user_agent=\"market_map\")\n",
    "    \n",
    "    # Fix some location names for better geocoding\n",
    "    location_map = {\n",
    "        'Raleigh/Durham': 'Raleigh, NC, USA',\n",
    "        'Dallas/Ft Worth': 'Dallas, TX, USA',\n",
    "        'Manhattan': 'Manhattan, NY, USA',\n",
    "        'Northern New Jersey': 'Newark, NJ, USA',\n",
    "        'Northern Virginia': 'Arlington, VA, USA',\n",
    "        'Orange County': 'Orange County, CA, USA',\n",
    "        'South Bay/San Jose': 'San Jose, CA, USA',\n",
    "        'South Florida': 'Miami, FL, USA',\n",
    "        'Southern Maryland': 'Annapolis, MD, USA',\n",
    "        'Chicago Suburbs': 'Evanston, IL, USA',\n",
    "        'Washington D.C.': 'Washington DC, USA'\n",
    "    }\n",
    "    \n",
    "    search_name = location_map.get(location_name, location_name + ', USA')\n",
    "    \n",
    "    for attempt in range(3):  # Try up to 3 times\n",
    "        try:\n",
    "            location = geolocator.geocode(search_name)\n",
    "            if location:\n",
    "                return location.latitude, location.longitude\n",
    "            time.sleep(1)  # Be nice to the geocoding service\n",
    "        except Exception as e:\n",
    "            print(f\"Error geocoding {location_name}: {e}\")\n",
    "            time.sleep(2)  # Wait a bit longer before retrying\n",
    "    \n",
    "    # Return default coordinates if geocoding fails\n",
    "    print(f\"Could not geocode {location_name}, using default coordinates\")\n",
    "    return None, None\n",
    "\n",
    "# Function to calculate marker size with greater differentiation\n",
    "def calculate_marker_size(rent_value, min_rent, max_rent):\n",
    "    \"\"\"\n",
    "    Calculate a marker size that emphasizes differences in rent values.\n",
    "    \n",
    "    Parameters:\n",
    "    -----------\n",
    "    rent_value : float\n",
    "        The rent value for this marker\n",
    "    min_rent : float\n",
    "        The minimum rent in the dataset\n",
    "    max_rent : float\n",
    "        The maximum rent in the dataset\n",
    "        \n",
    "    Returns:\n",
    "    --------\n",
    "    float : The calculated marker size\n",
    "    \"\"\"\n",
    "    if pd.isna(rent_value) or min_rent == max_rent:\n",
    "        return 15  # Default size\n",
    "    \n",
    "    # Normalize the value between 0 and 1\n",
    "    normalized = (rent_value - min_rent) / (max_rent - min_rent)\n",
    "    \n",
    "    # Apply a power function to emphasize differences (square for higher contrast)\n",
    "    # This makes high values much larger than low values\n",
    "    emphasized = normalized ** 1.5\n",
    "    \n",
    "    # Map to a more dramatic size range (8 to 40)\n",
    "    return 10 + emphasized * 40\n",
    "\n",
    "# Function to create custom HTML with fullscreen capability and fixed slider position\n",
    "def create_fullscreen_html(fig, filename=\"us_market_rent_fullscreen.html\"):\n",
    "    \"\"\"Create an HTML file with fullscreen capabilities\"\"\"\n",
    "    \n",
    "    # First get the regular HTML from plotly\n",
    "    raw_html = fig.to_html(\n",
    "        config={\n",
    "            'responsive': True,\n",
    "            'displayModeBar': True,\n",
    "            'scrollZoom': True\n",
    "        },\n",
    "        include_plotlyjs='cdn',\n",
    "        full_html=True,\n",
    "        include_mathjax=False\n",
    "    )\n",
    "    \n",
    "    # Insert custom CSS for fullscreen and fixed control positioning\n",
    "    custom_css = \"\"\"\n",
    "    <style>\n",
    "    body, html {\n",
    "        height: 100%;\n",
    "        margin: 0;\n",
    "        padding: 0;\n",
    "        overflow: hidden;\n",
    "    }\n",
    "    \n",
    "    .plotly-graph-div {\n",
    "        height: 100vh !important;\n",
    "        width: 100vw !important;\n",
    "    }\n",
    "    \n",
    "    .js-plotly-plot, .plot-container {\n",
    "        height: 100%;\n",
    "        width: 100%;\n",
    "    }\n",
    "    \n",
    "    /* Position controls for better layout */\n",
    "    .updatemenu-container {\n",
    "        top: 10px !important;\n",
    "    }\n",
    "    \n",
    "    /* Much lower slider position to avoid covering any part of the map */\n",
    "    .slider-container {\n",
    "        bottom: 100px !important;\n",
    "        padding-bottom: 50px !important;\n",
    "    }\n",
    "\n",
    "    /* Make slider more compact */\n",
    "    .slider-track {\n",
    "        height: 3px !important;\n",
    "    }\n",
    "\n",
    "    .slider-text {\n",
    "        font-size: 10px !important;\n",
    "    }\n",
    "    </style>\n",
    "    \n",
    "    <meta name=\"viewport\" content=\"width=device-width, initial-scale=1.0, maximum-scale=1.0, user-scalable=no\">\n",
    "    \"\"\"\n",
    "    \n",
    "    # Insert the custom CSS after the <head> tag\n",
    "    modified_html = raw_html.replace('</head>', f'{custom_css}</head>')\n",
    "    \n",
    "    # Write the modified HTML to a file\n",
    "    with open(filename, 'w', encoding='utf-8') as f:\n",
    "        f.write(modified_html)\n",
    "    \n",
    "    print(f\"Fullscreen visualization saved as '{filename}'\")\n",
    "    \n",
    "    # Try to open the file automatically in the default browser\n",
    "    try:\n",
    "        # Get absolute path for more reliable opening\n",
    "        abs_path = os.path.abspath(filename)\n",
    "        import webbrowser\n",
    "        webbrowser.open('file://' + abs_path, new=2)\n",
    "    except Exception as e:\n",
    "        print(f\"Could not auto-open the file: {e}\")\n",
    "    \n",
    "    return filename\n",
    "\n",
    "#def create_time_series_visualization(csv_file_path=r'/Users/kaylienguyen/Downloads/Lease-revised.csv', use_sample_data=False):\n",
    "def create_time_series_visualization(csv_file_path=r'C:/SMU/DataFest/growth_data.csv', use_sample_data=False):\n",
    "    \"\"\"\n",
    "    Create an enhanced visualization with a time slider\n",
    "    \n",
    "    Parameters:\n",
    "    -----------\n",
    "    csv_file_path : str or None\n",
    "        Path to the CSV file. If None, will use sample data\n",
    "    use_sample_data : bool\n",
    "        Whether to use sample data (True) or load actual data (False)\n",
    "        \n",
    "    Returns:\n",
    "    --------\n",
    "    None, displays the figure\n",
    "    \"\"\"\n",
    "    if use_sample_data:\n",
    "        # Create sample data that includes time dimension\n",
    "        # Sample time periods - 2018-Q1 through 2024-Q4\n",
    "        time_periods = []\n",
    "        for year in range(2018, 2025):\n",
    "            for quarter in range(1, 5):\n",
    "                time_periods.append((year, quarter))\n",
    "        \n",
    "        # Sample markets\n",
    "        markets = [\n",
    "            'Atlanta', 'Austin', 'Boston', 'Chicago', 'Dallas/Ft Worth', \n",
    "            'Denver', 'Houston', 'Los Angeles', 'Manhattan', 'Miami', \n",
    "            'Orange County', 'Philadelphia', 'Phoenix', 'Raleigh/Durham', \n",
    "            'San Francisco', 'Seattle', 'Washington D.C.'\n",
    "        ]\n",
    "        \n",
    "        # Generate data for each time period, market, and class\n",
    "        data = []\n",
    "        np.random.seed(42)  # For reproducibility\n",
    "        \n",
    "        # Define growth trends for different markets (annual percentage growth)\n",
    "        market_growth = {\n",
    "            'Atlanta': 5,\n",
    "            'Austin': 8,\n",
    "            'Boston': 4,\n",
    "            'Chicago': 3,\n",
    "            'Dallas/Ft Worth': 7,\n",
    "            'Denver': 6,\n",
    "            'Houston': 5,\n",
    "            'Los Angeles': 4,\n",
    "            'Manhattan': 3,\n",
    "            'Miami': 9,\n",
    "            'Orange County': 4,\n",
    "            'Philadelphia': 3,\n",
    "            'Phoenix': 7,\n",
    "            'Raleigh/Durham': 6,\n",
    "            'San Francisco': 2,\n",
    "            'Seattle': 5,\n",
    "            'Washington D.C.': 4\n",
    "        }\n",
    "        \n",
    "        # Base rents for 2018-Q1 (starting values)\n",
    "        base_rents = {\n",
    "            'Atlanta': {'A': 29.5, 'O': 21.2},\n",
    "            'Austin': {'A': 39.8, 'O': 26.5},\n",
    "            'Boston': {'A': 50.2, 'O': 26.9},\n",
    "            'Chicago': {'A': 39.5, 'O': 28.0},\n",
    "            'Dallas/Ft Worth': {'A': 30.2, 'O': 23.1},\n",
    "            'Denver': {'A': 34.7, 'O': 26.0},\n",
    "            'Houston': {'A': 30.4, 'O': 18.8},\n",
    "            'Los Angeles': {'A': 44.5, 'O': 36.6},\n",
    "            'Manhattan': {'A': 77.2, 'O': 56.7},\n",
    "            'Miami': {'A': 41.3, 'O': 28.5},\n",
    "            'Orange County': {'A': 39.1, 'O': 33.6},\n",
    "            'Philadelphia': {'A': 29.5, 'O': 24.5},\n",
    "            'Phoenix': {'A': 26.8, 'O': 22.2},\n",
    "            'Raleigh/Durham': {'A': 32.6, 'O': 26.5},\n",
    "            'San Francisco': {'A': 70.5, 'O': 52.2},\n",
    "            'Seattle': {'A': 44.8, 'O': 31.5},\n",
    "            'Washington D.C.': {'A': 53.2, 'O': 40.7}\n",
    "        }\n",
    "        \n",
    "        # Also create some sample growth indices\n",
    "        market_legal_growth = {\n",
    "            'Atlanta': 2.5, 'Austin': 3.2, 'Boston': 4.1, 'Chicago': 3.7,\n",
    "            'Dallas/Ft Worth': 2.9, 'Denver': 3.3, 'Houston': 2.4, 'Los Angeles': 3.9,\n",
    "            'Manhattan': 4.5, 'Miami': 3.1, 'Orange County': 3.6, 'Philadelphia': 3.2,\n",
    "            'Phoenix': 2.7, 'Raleigh/Durham': 3.4, 'San Francisco': 4.2, 'Seattle': 3.8,\n",
    "            'Washington D.C.': 4.7\n",
    "        }\n",
    "        \n",
    "        market_tech_growth = {\n",
    "            'Atlanta': 3.1, 'Austin': 4.5, 'Boston': 4.2, 'Chicago': 3.4,\n",
    "            'Dallas/Ft Worth': 3.7, 'Denver': 4.0, 'Houston': 2.8, 'Los Angeles': 4.1,\n",
    "            'Manhattan': 4.3, 'Miami': 3.5, 'Orange County': 3.9, 'Philadelphia': 2.9,\n",
    "            'Phoenix': 3.6, 'Raleigh/Durham': 4.4, 'San Francisco': 4.8, 'Seattle': 4.6,\n",
    "            'Washington D.C.': 3.8\n",
    "        }\n",
    "        \n",
    "        market_finance_growth = {\n",
    "            'Atlanta': 3.3, 'Austin': 3.6, 'Boston': 4.4, 'Chicago': 4.1,\n",
    "            'Dallas/Ft Worth': 3.5, 'Denver': 3.2, 'Houston': 3.4, 'Los Angeles': 3.8,\n",
    "            'Manhattan': 4.7, 'Miami': 3.9, 'Orange County': 3.7, 'Philadelphia': 3.6,\n",
    "            'Phoenix': 3.0, 'Raleigh/Durham': 3.5, 'San Francisco': 4.5, 'Seattle': 4.0,\n",
    "            'Washington D.C.': 4.3\n",
    "        }\n",
    "        \n",
    "        for time_idx, (year, quarter) in enumerate(time_periods):\n",
    "            period_label = f\"{year}-Q{quarter}\"\n",
    "            \n",
    "            for market in markets:\n",
    "                # Calculate quarters since start to simulate growth over time\n",
    "                quarters_passed = time_idx\n",
    "                \n",
    "                # Apply baseline growth\n",
    "                growth_factor = 1 + (market_growth[market] / 100 * quarters_passed / 4)\n",
    "                \n",
    "                # Add market-specific random variation\n",
    "                market_random_factor = 1 + (np.random.random() * 0.04 - 0.02)  # +/- 2% random variation\n",
    "                \n",
    "                # Calculate rent for each class with growth over time\n",
    "                for class_type in ['A', 'O']:\n",
    "                    base_rent = base_rents[market][class_type]\n",
    "                    current_rent = base_rent * growth_factor * market_random_factor\n",
    "                    \n",
    "                    # Get coordinates from the predefined dictionary\n",
    "                    lat, lon = MARKET_COORDINATES.get(market, [None, None])\n",
    "                    \n",
    "                    # Add a small random variation to growth indices over time\n",
    "                    legal_growth = market_legal_growth[market] * (1 + (np.random.random() * 0.1 - 0.05))\n",
    "                    tech_growth = market_tech_growth[market] * (1 + (np.random.random() * 0.1 - 0.05))\n",
    "                    finance_growth = market_finance_growth[market] * (1 + (np.random.random() * 0.1 - 0.05))\n",
    "                    \n",
    "                    data.append({\n",
    "                        'year': year,\n",
    "                        'quarter': quarter,\n",
    "                        'time_period': period_label,\n",
    "                        'market': market,\n",
    "                        'internal_class': class_type,\n",
    "                        'internal_class_rent': round(current_rent, 2),\n",
    "                        'latitude': lat,\n",
    "                        'longitude': lon,\n",
    "                        'legal_growth_index': round(legal_growth, 2),\n",
    "                        'tech_growth_index': round(tech_growth, 2),\n",
    "                        'finance_growth_index': round(finance_growth, 2)\n",
    "                    })\n",
    "        \n",
    "        df = pd.DataFrame(data)\n",
    "        \n",
    "    else:\n",
    "        # Load actual data\n",
    "        print(f\"Loading data from {csv_file_path}...\")\n",
    "        try:\n",
    "            leasing = pd.read_csv(csv_file_path)\n",
    "            print(f\"Successfully loaded {len(leasing)} rows of data.\")\n",
    "            print(\"Columns in loaded data:\", leasing.columns.tolist())\n",
    "            \n",
    "            # Check if growth indices exist in the data\n",
    "            for col in ['legal_growth_index', 'tech_growth_index', 'finance_growth_index']:\n",
    "                if col in leasing.columns:\n",
    "                    print(f\"{col} found in data. Sample values: {leasing[col].head()}\")\n",
    "                else:\n",
    "                    print(f\"{col} NOT found in data.\")\n",
    "        except Exception as e:\n",
    "            print(f\"Error loading data: {e}\")\n",
    "            print(\"Using sample data instead.\")\n",
    "            return create_time_series_visualization(use_sample_data=True)\n",
    "        \n",
    "        # Filter out rows with missing internal_class_rent\n",
    "        df = leasing.dropna(subset=['internal_class_rent'])\n",
    "        \n",
    "        # Keep only necessary columns and filter for classes A and O\n",
    "        # Let's make sure we can handle different class naming in the data\n",
    "        print(f\"Unique internal classes: {leasing['internal_class'].unique()}\")\n",
    "        \n",
    "        # Keep only specific classes - filter for A and O classes\n",
    "        # If your data uses different class labels, modify this filter\n",
    "        df = df[df['internal_class'].isin(['A', 'O'])]\n",
    "        \n",
    "        # Keep only necessary columns - now we make sure to include growth indices if they exist\n",
    "        needed_columns = ['year', 'quarter', 'market', 'internal_class', 'internal_class_rent']\n",
    "        \n",
    "        # Dynamically add growth indices if they exist\n",
    "        for col in ['legal_growth_index', 'tech_growth_index', 'finance_growth_index']:\n",
    "            if col in leasing.columns:\n",
    "                needed_columns.append(col)\n",
    "        \n",
    "        # Only keep columns that actually exist in the DataFrame\n",
    "        df = df[[col for col in needed_columns if col in df.columns]]\n",
    "        \n",
    "        # Create a time_period column (e.g., '2023-Q1')\n",
    "        df['time_period'] = df['year'].astype(str) + '-Q' + df['quarter'].astype(str)\n",
    "        \n",
    "        # Get coordinates for each market (use predefined values if available)\n",
    "        print(\"Getting coordinates for markets...\")\n",
    "        market_coords = {}\n",
    "        markets = df['market'].unique()\n",
    "        print(f\"Markets in data: {sorted(markets)}\")\n",
    "        \n",
    "        for market in markets:\n",
    "            # Use predefined coordinates if available\n",
    "            if market in MARKET_COORDINATES:\n",
    "                market_coords[market] = MARKET_COORDINATES[market]\n",
    "                continue\n",
    "                \n",
    "            # Only geocode markets we don't have predefined coordinates for\n",
    "            if market not in market_coords:\n",
    "                lat, lon = get_coordinates(market)\n",
    "                market_coords[market] = (lat, lon)\n",
    "                time.sleep(1)  # Respect rate limits\n",
    "        \n",
    "        # Add latitude and longitude\n",
    "        df['latitude'] = df['market'].map(lambda x: market_coords.get(x, (None, None))[0])\n",
    "        df['longitude'] = df['market'].map(lambda x: market_coords.get(x, (None, None))[1])\n",
    "        \n",
    "        # Drop rows with missing coordinates\n",
    "        orig_len = len(df)\n",
    "        df = df.dropna(subset=['latitude', 'longitude'])\n",
    "        dropped = orig_len - len(df)\n",
    "        if dropped > 0:\n",
    "            print(f\"Dropped {dropped} rows with missing coordinates.\")\n",
    "    \n",
    "    # Define the aggregation function for each column\n",
    "    agg_funcs = {\n",
    "        'internal_class_rent': 'mean',\n",
    "        'latitude': 'first',\n",
    "        'longitude': 'first',\n",
    "    }\n",
    "    \n",
    "    # Dynamically add growth indices to aggregation if they exist\n",
    "    for col in ['legal_growth_index', 'tech_growth_index', 'finance_growth_index']:\n",
    "        if col in df.columns:\n",
    "            agg_funcs[col] = 'first'\n",
    "    \n",
    "    # Get average rent by market, class, and time period using our dynamic aggregation\n",
    "    df_avg = df.groupby(['time_period', 'year', 'quarter', 'market', 'internal_class']).agg(agg_funcs).reset_index()\n",
    "    \n",
    "    # Sort by time period\n",
    "    df_avg = df_avg.sort_values(['year', 'quarter', 'market', 'internal_class'])\n",
    "    print(\"DF_AVG Columns:\", df_avg.columns.tolist())\n",
    "    \n",
    "    # Check if we have the growth indices in our aggregated data\n",
    "    for col in ['legal_growth_index', 'tech_growth_index', 'finance_growth_index']:\n",
    "        if col in df_avg.columns:\n",
    "            print(f\"{col} is in df_avg with sample values: {df_avg[col].head()}\")\n",
    "        else:\n",
    "            print(f\"{col} is NOT in df_avg\")\n",
    "\n",
    "    #############################################################################################################################################################\n",
    "    \n",
    "    # Create a pivot table for each time period\n",
    "    time_periods = df_avg['time_period'].unique()\n",
    "    time_periods.sort()  # Sort time periods chronologically\n",
    "    \n",
    "    print(f\"Time periods found: {time_periods}\")\n",
    "    \n",
    "    # Find global min and max for consistent circle sizing\n",
    "    a_class_rents = df_avg[df_avg['internal_class'] == 'A']['internal_class_rent']\n",
    "    global_min_rent = a_class_rents.min() if len(a_class_rents) > 0 else 0\n",
    "    global_max_rent = a_class_rents.max() if len(a_class_rents) > 0 else 100\n",
    "    \n",
    "    # Store frames for animation\n",
    "    frames = []\n",
    "    \n",
    "    for period in time_periods:\n",
    "        # Filter data for this time period\n",
    "        # Filter data for this time period\n",
    "        period_data = df_avg[df_avg['time_period'] == period]\n",
    "\n",
    "        # Skip if no data for this period\n",
    "        if len(period_data) == 0:\n",
    "            continue\n",
    "            \n",
    "        # Create pivot table for this period\n",
    "        try:\n",
    "            pivot_df = period_data.pivot_table(\n",
    "                index='market',\n",
    "                columns='internal_class',\n",
    "                values='internal_class_rent',\n",
    "                aggfunc='mean'\n",
    "            ).reset_index()\n",
    "            \n",
    "            # Add coordinates\n",
    "            pivot_df = pd.merge(\n",
    "                pivot_df,\n",
    "                period_data[['market', 'latitude', 'longitude']].drop_duplicates(),\n",
    "                on='market'\n",
    "            )\n",
    "            \n",
    "            # Add growth index columns\n",
    "            growth_index_columns = ['legal_growth_index', 'tech_growth_index', 'finance_growth_index']\n",
    "            columns_to_merge = [col for col in growth_index_columns if col in period_data.columns]\n",
    "            \n",
    "            if columns_to_merge:\n",
    "                pivot_df = pd.merge(\n",
    "                    pivot_df,\n",
    "                    period_data[['market'] + columns_to_merge].drop_duplicates(),\n",
    "                    on='market',\n",
    "                    how='left'\n",
    "                )\n",
    "            \n",
    "            # Ensure both A and O columns exist\n",
    "            if 'A' not in pivot_df.columns:\n",
    "                pivot_df['A'] = np.nan\n",
    "            if 'O' not in pivot_df.columns:\n",
    "                pivot_df['O'] = np.nan\n",
    "                \n",
    "            # Add marker size to dataframe\n",
    "            pivot_df['marker_size'] = pivot_df['A'].apply(\n",
    "                lambda x: calculate_marker_size(x, global_min_rent, global_max_rent)\n",
    "            )\n",
    "                \n",
    "            # Enhanced hover text with marker size info\n",
    "            pivot_df['hover_text'] = pivot_df.apply(\n",
    "                lambda row: create_hover_text(row, period),\n",
    "                axis=1\n",
    "            )\n",
    "            \n",
    "            # Store this frame\n",
    "            frames.append(go.Frame(\n",
    "                data=[go.Scattergeo(\n",
    "                    lat=pivot_df['latitude'],\n",
    "                    lon=pivot_df['longitude'],\n",
    "                    text=pivot_df['hover_text'],\n",
    "                    hoverinfo='text',\n",
    "                    mode='markers',\n",
    "                    marker=dict(\n",
    "                        size=pivot_df['marker_size'],\n",
    "                        color=pivot_df['A'],\n",
    "                        colorscale='Viridis',\n",
    "                        cmin=global_min_rent,\n",
    "                        cmax=global_max_rent,\n",
    "                        colorbar=dict(\n",
    "                            title='Class A Rent ($)',\n",
    "                            thickness=15,\n",
    "                            len=0.6,\n",
    "                            y=0.5,\n",
    "                            yanchor='middle'\n",
    "                        ),\n",
    "                        line=dict(width=1, color='DarkSlateGrey')\n",
    "                    ),\n",
    "                    name=period\n",
    "                )],\n",
    "                name=period,\n",
    "                layout=go.Layout(\n",
    "                    title=f\"US Market Rental Rates Over Time: {period}\"  # Title specific to this frame\n",
    "                )\n",
    "            ))\n",
    "        except Exception as e:\n",
    "            print(f\"Error processing period {period}: {e}\")\n",
    "            continue\n",
    "    \n",
    "    # Helper function to create hover text\n",
    "    def create_hover_text(row, period):\n",
    "        text = f\"<b>{row['market']}</b><br>Time Period: {period}<br>\"\n",
    "        \n",
    "        # Add rent values\n",
    "        if not pd.isna(row.get('A')):\n",
    "            text += f\"Class A Rent: ${row['A']:.2f}<br>\"\n",
    "        if not pd.isna(row.get('O')):\n",
    "            text += f\"Class O Rent: ${row['O']:.2f}<br>\"\n",
    "        \n",
    "        # Add A/O ratio if both exist\n",
    "        if not pd.isna(row.get('A')) and not pd.isna(row.get('O')) and row['O'] > 0:\n",
    "            text += f\"A/O Ratio: {(row['A']/row['O']):.2f}<br>\"\n",
    "        \n",
    "        # Add growth indices if they exist\n",
    "        for idx_name in ['legal_growth_index', 'tech_growth_index', 'finance_growth_index']:\n",
    "            if idx_name in row and not pd.isna(row[idx_name]):\n",
    "                # Make the label more readable by splitting at underscore and capitalizing\n",
    "                label = ' '.join(word.capitalize() for word in idx_name.split('_'))\n",
    "                text += f\"{label}: {row[idx_name]:.2f}<br>\"\n",
    "        \n",
    "        # Remove the trailing <br> if there is one\n",
    "        if text.endswith('<br>'):\n",
    "            text = text[:-4]\n",
    "            \n",
    "        return text\n",
    "    \n",
    "    # Check if we have any frames\n",
    "    if len(frames) == 0:\n",
    "        print(\"No frames could be created. Check your data and try again.\")\n",
    "        return None\n",
    "        \n",
    "    # Create base figure with first time period\n",
    "    first_period = frames[0].name\n",
    "    first_data = df_avg[df_avg['time_period'] == first_period]\n",
    "    \n",
    "    # Create pivot table for first period\n",
    "    first_pivot = first_data.pivot_table(\n",
    "        index='market',\n",
    "        columns='internal_class',\n",
    "        values='internal_class_rent',\n",
    "        aggfunc='mean'\n",
    "    ).reset_index()\n",
    "    \n",
    "    # Add coordinates and growth indices\n",
    "    columns_to_merge = ['market', 'latitude', 'longitude']\n",
    "    for col in ['legal_growth_index', 'tech_growth_index', 'finance_growth_index']:\n",
    "        if col in first_data.columns:\n",
    "            columns_to_merge.append(col)\n",
    "    \n",
    "    # Get unique market data (first occurrence of each market)\n",
    "    market_data = first_data[columns_to_merge].drop_duplicates(subset=['market'])\n",
    "    \n",
    "    # Merge with the pivot table\n",
    "    first_pivot = pd.merge(\n",
    "        first_pivot,\n",
    "        market_data,\n",
    "        on='market',\n",
    "        how='left'\n",
    "    )\n",
    "\n",
    "    # Ensure both A and O columns exist\n",
    "    if 'A' not in first_pivot.columns:\n",
    "        first_pivot['A'] = np.nan\n",
    "    if 'O' not in first_pivot.columns:\n",
    "        first_pivot['O'] = np.nan\n",
    "    \n",
    "    # Add marker size to dataframe\n",
    "    first_pivot['marker_size'] = first_pivot['A'].apply(\n",
    "        lambda x: calculate_marker_size(x, global_min_rent, global_max_rent)\n",
    "    )\n",
    "    \n",
    "    # Create custom hover text\n",
    "    first_pivot['hover_text'] = first_pivot.apply(\n",
    "        lambda row: create_hover_text(row, first_period),\n",
    "        axis=1\n",
    "    )\n",
    "\n",
    "    # Create figure with responsive layout\n",
    "    fig = go.Figure(\n",
    "        data=[go.Scattergeo(\n",
    "            lat=first_pivot['latitude'],\n",
    "            lon=first_pivot['longitude'],\n",
    "            text=first_pivot['hover_text'],\n",
    "            hoverinfo='text',\n",
    "            mode='markers',\n",
    "            marker=dict(\n",
    "                size=first_pivot['marker_size'],\n",
    "                color=first_pivot['A'],\n",
    "                colorscale='Viridis',\n",
    "                cmin=global_min_rent,\n",
    "                cmax=global_max_rent,\n",
    "                colorbar=dict(\n",
    "                    title='Class A Rent ($)',\n",
    "                    thickness=15,\n",
    "                    len=0.6,\n",
    "                    y=0.5,\n",
    "                    yanchor='middle'\n",
    "                ),\n",
    "                line=dict(width=1, color='DarkSlateGrey')\n",
    "            ),\n",
    "            name=first_period\n",
    "        )],\n",
    "        frames=frames,\n",
    "        layout=go.Layout(\n",
    "            title=dict(\n",
    "                text=f\"US Market Rental Rates Over Time: {first_period}\",\n",
    "                x=0.5,\n",
    "                y=0.98,\n",
    "                yanchor='top',\n",
    "                font=dict(size=20)\n",
    "            ),\n",
    "            updatemenus=[dict(\n",
    "                type='buttons',\n",
    "                showactive=False,\n",
    "                y=0.90,  # Move buttons to top right\n",
    "                x=0.9,\n",
    "                xanchor='right',\n",
    "                yanchor='top',\n",
    "                pad=dict(r=10, t=10, b=10),\n",
    "                buttons=[dict(\n",
    "                    label='Play',\n",
    "                    method='animate',\n",
    "                    args=[None, dict(\n",
    "                        frame=dict(duration=800, redraw=True),\n",
    "                        fromcurrent=True,\n",
    "                        transition=dict(duration=300, easing='quadratic-in-out')\n",
    "                    )]\n",
    "                ), dict(\n",
    "                    label='Pause',\n",
    "                    method='animate',\n",
    "                    args=[[None], dict(\n",
    "                        frame=dict(duration=0, redraw=True),\n",
    "                        mode='immediate',\n",
    "                        transition=dict(duration=0)\n",
    "                    )]\n",
    "                )]\n",
    "            )],\n",
    "            sliders=[dict(\n",
    "                active=0,\n",
    "                steps=[dict(\n",
    "                    method='animate',\n",
    "                    args=[[frame.name], dict(\n",
    "                        mode='immediate',\n",
    "                        frame=dict(duration=300, redraw=True),\n",
    "                        transition=dict(duration=300),\n",
    "                        layout=dict(title=f\"US Market Rental Rates Over Time: {frame.name}\")  # Update title when slider moves\n",
    "                    )],\n",
    "                    label=frame.name\n",
    "                ) for frame in frames],\n",
    "                transition=dict(duration=300, easing='cubic-in-out'),\n",
    "                pad=dict(b=50, t=10),  # Much more bottom padding\n",
    "                currentvalue=dict(\n",
    "                    font=dict(size=14),\n",
    "                    prefix='Time Period: ',\n",
    "                    visible=True,\n",
    "                    xanchor='right'\n",
    "                ),\n",
    "                len=0.9,\n",
    "                x=0.1,\n",
    "                y=-0.2,  # Position slider well below the map (-0.2 is way outside the plot area)\n",
    "                yanchor='bottom',\n",
    "                tickcolor='white'\n",
    "            )],\n",
    "            geo=dict(\n",
    "                scope='usa',\n",
    "                projection_type='albers usa',\n",
    "                showland=True,\n",
    "                landcolor='rgb(217, 217, 217)',\n",
    "                coastlinecolor='white',\n",
    "                countrycolor='white',\n",
    "                showlakes=True,\n",
    "                lakecolor='rgb(255, 255, 255)',\n",
    "                subunitcolor='white',\n",
    "                center=dict(lat=39.5, lon=-98.35),  # Center the map slightly higher\n",
    "                projection=dict(\n",
    "                    scale=0.80  # Significantly reduced scale to leave more room\n",
    "                )\n",
    "            ),\n",
    "            # Extreme bottom margin to accommodate the slider\n",
    "            autosize=True,\n",
    "            dragmode='pan',\n",
    "            margin=dict(r=0, t=50, l=0, b=200, pad=0),  # Much larger bottom margin (200px)\n",
    "        )\n",
    "    )\n",
    "    \n",
    "    # Add annotations explaining the visualization\n",
    "    fig.add_annotation(\n",
    "        text=\"<b>Visualization Features:</b><br>\" +\n",
    "             \"• Marker size shows Class A rent (larger = higher rent)<br>\" +\n",
    "             \"• Color intensity also indicates rent level<br>\" + \n",
    "             \"• Hover over markers for detailed information\",\n",
    "        xref=\"paper\", yref=\"paper\",\n",
    "        x=0.01, y=0.90,\n",
    "        showarrow=False,\n",
    "        bordercolor=\"black\",\n",
    "        borderwidth=1,\n",
    "        borderpad=4,\n",
    "        bgcolor=\"white\",\n",
    "        opacity=0.8\n",
    "    )\n",
    "    \n",
    "    # Show figure\n",
    "    fig.show()\n",
    "    \n",
    "    # Create custom fullscreen HTML\n",
    "    create_fullscreen_html(fig)\n",
    "    \n",
    "    return fig\n",
    "\n",
    "# Execute the function\n",
    "if __name__ == \"__main__\":\n",
    "    # Use actual data by default with the path provided\n",
    "    try:\n",
    "        fig = create_time_series_visualization(use_sample_data=False)\n",
    "        if fig is None:\n",
    "            print(\"Trying with sample data instead...\")\n",
    "            fig = create_time_series_visualization(use_sample_data=True)\n",
    "    except Exception as e:\n",
    "        print(f\"Error: {e}\")\n",
    "        print(\"Trying with sample data instead...\")\n",
    "        fig = create_time_series_visualization(use_sample_data=True)"
   ]
  }
 ],
 "metadata": {
  "kernelspec": {
   "display_name": "mlpython",
   "language": "python",
   "name": "python3"
  },
  "language_info": {
   "codemirror_mode": {
    "name": "ipython",
    "version": 3
   },
   "file_extension": ".py",
   "mimetype": "text/x-python",
   "name": "python",
   "nbconvert_exporter": "python",
   "pygments_lexer": "ipython3",
   "version": "3.10.8"
  },
  "orig_nbformat": 4
 },
 "nbformat": 4,
 "nbformat_minor": 2
}
